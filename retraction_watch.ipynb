{
 "cells": [
  {
   "cell_type": "markdown",
   "metadata": {},
   "source": [
    "## Table of Contents"
   ]
  },
  {
   "cell_type": "markdown",
   "metadata": {},
   "source": [
    "* [Chapter 0 - Libraries](#chapter0)\n",
    "* [Chapter 1 - Cleaning](#chapter1)\n",
    "* [Chapter 2 - Retraction Characteristics](#chapter2)   \n",
    "    * [2.1 - Temporal trends](#section_2_1)\n",
    "    * [2.2 - Reasons for Retraction](#section_2_2)\n",
    "    * [2.3 - Geographical Differences](#section_2_3)\n",
    "    * [2.4 - Analysis per Journal](#section_2_4)\n",
    "    * [2.5 - Analysis per Scientific area](#section_2_5)\n",
    "* [Chapter 3 - Citations/Altmetrics](#chapter4)  \n",
    "* [Chapter 4 - Referee Reports](#chapter5)\n",
    "* [Chapter 5 - Impact](#chapter6)\n"
   ]
  },
  {
   "cell_type": "markdown",
   "metadata": {},
   "source": [
    "<div class=\"alert alert-block alert-info\" style = \"background:#d0de6f; color:#000000; border:0;\">\n",
    "\n",
    "# Chapter 0 - Libraries <a class=\"anchor\" id=\"chapter0\"></a>"
   ]
  },
  {
   "cell_type": "code",
   "execution_count": 1,
   "metadata": {},
   "outputs": [],
   "source": [
    "import pandas as pd\n",
    "import numpy as np\n",
    "from datetime import datetime\n",
    "import matplotlib.pyplot as plt\n",
    "import seaborn as sns\n",
    "import plotly.express as px"
   ]
  },
  {
   "cell_type": "markdown",
   "metadata": {},
   "source": [
    "<div class=\"alert alert-block alert-info\" style = \"background:#d0de6f; color:#000000; border:0;\">\n",
    "\n",
    "# Chapter 1 - Cleaning <a class=\"anchor\" id=\"chapter1\"></a>"
   ]
  },
  {
   "cell_type": "code",
   "execution_count": 2,
   "metadata": {},
   "outputs": [
    {
     "data": {
      "text/html": [
       "<div>\n",
       "<style scoped>\n",
       "    .dataframe tbody tr th:only-of-type {\n",
       "        vertical-align: middle;\n",
       "    }\n",
       "\n",
       "    .dataframe tbody tr th {\n",
       "        vertical-align: top;\n",
       "    }\n",
       "\n",
       "    .dataframe thead th {\n",
       "        text-align: right;\n",
       "    }\n",
       "</style>\n",
       "<table border=\"1\" class=\"dataframe\">\n",
       "  <thead>\n",
       "    <tr style=\"text-align: right;\">\n",
       "      <th></th>\n",
       "      <th>Record ID</th>\n",
       "      <th>Title</th>\n",
       "      <th>Subject</th>\n",
       "      <th>Institution</th>\n",
       "      <th>Journal</th>\n",
       "      <th>Publisher</th>\n",
       "      <th>Country</th>\n",
       "      <th>Author</th>\n",
       "      <th>URLS</th>\n",
       "      <th>ArticleType</th>\n",
       "      <th>RetractionDate</th>\n",
       "      <th>RetractionDOI</th>\n",
       "      <th>RetractionPubMedID</th>\n",
       "      <th>OriginalPaperDate</th>\n",
       "      <th>OriginalPaperDOI</th>\n",
       "      <th>OriginalPaperPubMedID</th>\n",
       "      <th>RetractionNature</th>\n",
       "      <th>Reason</th>\n",
       "      <th>Paywalled</th>\n",
       "      <th>Notes</th>\n",
       "    </tr>\n",
       "  </thead>\n",
       "  <tbody>\n",
       "    <tr>\n",
       "      <th>0</th>\n",
       "      <td>47271</td>\n",
       "      <td>Binding of DCC by Netrin-1 to Mediate Axon Gui...</td>\n",
       "      <td>(BLS) Biology - Cellular;(BLS) Biology - Gener...</td>\n",
       "      <td>Departments of Anatomy and of Biochemistry and...</td>\n",
       "      <td>Science</td>\n",
       "      <td>American Association for the Advancement of Sc...</td>\n",
       "      <td>United States</td>\n",
       "      <td>Elke Stein;Yimin Zou;Mu-ming Poo;Marc Tessier-...</td>\n",
       "      <td>https://retractionwatch.com/2023/08/31/stanfor...</td>\n",
       "      <td>Research Article;</td>\n",
       "      <td>2023-08-31 00:00:00</td>\n",
       "      <td>10.1126/science.adk1521</td>\n",
       "      <td>0.0</td>\n",
       "      <td>2001-03-09 00:00:00</td>\n",
       "      <td>10.1126/science.1059391</td>\n",
       "      <td>11239160.0</td>\n",
       "      <td>Retraction</td>\n",
       "      <td>+Investigation by Company/Institution;+Manipul...</td>\n",
       "      <td>No</td>\n",
       "      <td>NaN</td>\n",
       "    </tr>\n",
       "    <tr>\n",
       "      <th>1</th>\n",
       "      <td>47270</td>\n",
       "      <td>Hierarchical Organization of Guidance Receptor...</td>\n",
       "      <td>(BLS) Biochemistry;(BLS) Biology - General;(BL...</td>\n",
       "      <td>Department of Anatomy and Department of Bioche...</td>\n",
       "      <td>Science</td>\n",
       "      <td>American Association for the Advancement of Sc...</td>\n",
       "      <td>United States</td>\n",
       "      <td>Elke Stein;Marc Tessier-Lavigne</td>\n",
       "      <td>https://retractionwatch.com/2023/08/31/stanfor...</td>\n",
       "      <td>Research Article;</td>\n",
       "      <td>2023-08-31 00:00:00</td>\n",
       "      <td>10.1126/science.adk1517</td>\n",
       "      <td>0.0</td>\n",
       "      <td>2001-02-08 00:00:00</td>\n",
       "      <td>10.1126/science.1058445</td>\n",
       "      <td>11239147.0</td>\n",
       "      <td>Retraction</td>\n",
       "      <td>+Duplication of Image;+Investigation by Compan...</td>\n",
       "      <td>No</td>\n",
       "      <td>NaN</td>\n",
       "    </tr>\n",
       "    <tr>\n",
       "      <th>2</th>\n",
       "      <td>47243</td>\n",
       "      <td>Therapeutic potential of targeting IRES-depend...</td>\n",
       "      <td>(BLS) Biochemistry;(BLS) Biology - Cancer;(BLS...</td>\n",
       "      <td>Division of Hematology-Oncology, UCLA-Greater ...</td>\n",
       "      <td>Oncogene</td>\n",
       "      <td>Springer - Nature Publishing Group</td>\n",
       "      <td>United States</td>\n",
       "      <td>Y Shi;Y Yang;C Bardeleben;B Holmes;J Gera;Alan...</td>\n",
       "      <td>NaN</td>\n",
       "      <td>Research Article;</td>\n",
       "      <td>2023-08-31 00:00:00</td>\n",
       "      <td>10.1038/s41388-023-02820-5</td>\n",
       "      <td>0.0</td>\n",
       "      <td>2015-05-11 00:00:00</td>\n",
       "      <td>10.1038/onc.2015.156</td>\n",
       "      <td>25961916.0</td>\n",
       "      <td>Retraction</td>\n",
       "      <td>+Concerns/Issues About Data;+Concerns/Issues A...</td>\n",
       "      <td>No</td>\n",
       "      <td>see also: https://pubpeer.com/publications/704...</td>\n",
       "    </tr>\n",
       "    <tr>\n",
       "      <th>3</th>\n",
       "      <td>47233</td>\n",
       "      <td>A classifier based on 273 urinary peptides pre...</td>\n",
       "      <td>(BLS) Biochemistry;(HSC) Medicine - Cardiovasc...</td>\n",
       "      <td>Department of Nephrology, The Third Affiliated...</td>\n",
       "      <td>Journal of Hypertension</td>\n",
       "      <td>Wolters Kluwer - Lippincott Williams &amp; Wilkins</td>\n",
       "      <td>China</td>\n",
       "      <td>Lirong Lin;Chunxuan Wang;Jiangwen Ren;Mei Mei;...</td>\n",
       "      <td>NaN</td>\n",
       "      <td>Research Article;</td>\n",
       "      <td>2023-08-30 00:00:00</td>\n",
       "      <td>10.1097/HJH.0000000000003551</td>\n",
       "      <td>37642599.0</td>\n",
       "      <td>2023-08-01 00:00:00</td>\n",
       "      <td>10.1097/HJH.0000000000003467</td>\n",
       "      <td>37199562.0</td>\n",
       "      <td>Retraction</td>\n",
       "      <td>+Concerns/Issues About Results;+Investigation ...</td>\n",
       "      <td>No</td>\n",
       "      <td>see also https://journals.lww.com/jhypertensio...</td>\n",
       "    </tr>\n",
       "    <tr>\n",
       "      <th>4</th>\n",
       "      <td>47227</td>\n",
       "      <td>Age, Gender Demographics and Comorbidity Preva...</td>\n",
       "      <td>(HSC) Biostatistics/Epidemiology;(HSC) Medicin...</td>\n",
       "      <td>Department of Orthopaedics, Dhanalakshmi Srini...</td>\n",
       "      <td>Journal of Coastal Life Medicine</td>\n",
       "      <td>Journal of Coastal Life Medicine</td>\n",
       "      <td>India</td>\n",
       "      <td>S Venkatesh Kumar;Mohith Singh;Gowtham Singh;K...</td>\n",
       "      <td>NaN</td>\n",
       "      <td>Research Article;</td>\n",
       "      <td>2023-08-30 00:00:00</td>\n",
       "      <td>unavailable</td>\n",
       "      <td>0.0</td>\n",
       "      <td>2023-01-01 00:00:00</td>\n",
       "      <td>unavailable</td>\n",
       "      <td>0.0</td>\n",
       "      <td>Retraction</td>\n",
       "      <td>+Notice - Lack of;+Withdrawal;</td>\n",
       "      <td>No</td>\n",
       "      <td>date of retraction unknown, article title repl...</td>\n",
       "    </tr>\n",
       "  </tbody>\n",
       "</table>\n",
       "</div>"
      ],
      "text/plain": [
       "   Record ID                                              Title  \\\n",
       "0      47271  Binding of DCC by Netrin-1 to Mediate Axon Gui...   \n",
       "1      47270  Hierarchical Organization of Guidance Receptor...   \n",
       "2      47243  Therapeutic potential of targeting IRES-depend...   \n",
       "3      47233  A classifier based on 273 urinary peptides pre...   \n",
       "4      47227  Age, Gender Demographics and Comorbidity Preva...   \n",
       "\n",
       "                                             Subject  \\\n",
       "0  (BLS) Biology - Cellular;(BLS) Biology - Gener...   \n",
       "1  (BLS) Biochemistry;(BLS) Biology - General;(BL...   \n",
       "2  (BLS) Biochemistry;(BLS) Biology - Cancer;(BLS...   \n",
       "3  (BLS) Biochemistry;(HSC) Medicine - Cardiovasc...   \n",
       "4  (HSC) Biostatistics/Epidemiology;(HSC) Medicin...   \n",
       "\n",
       "                                         Institution  \\\n",
       "0  Departments of Anatomy and of Biochemistry and...   \n",
       "1  Department of Anatomy and Department of Bioche...   \n",
       "2  Division of Hematology-Oncology, UCLA-Greater ...   \n",
       "3  Department of Nephrology, The Third Affiliated...   \n",
       "4  Department of Orthopaedics, Dhanalakshmi Srini...   \n",
       "\n",
       "                            Journal  \\\n",
       "0                           Science   \n",
       "1                           Science   \n",
       "2                          Oncogene   \n",
       "3           Journal of Hypertension   \n",
       "4  Journal of Coastal Life Medicine   \n",
       "\n",
       "                                           Publisher        Country  \\\n",
       "0  American Association for the Advancement of Sc...  United States   \n",
       "1  American Association for the Advancement of Sc...  United States   \n",
       "2                 Springer - Nature Publishing Group  United States   \n",
       "3     Wolters Kluwer - Lippincott Williams & Wilkins          China   \n",
       "4                   Journal of Coastal Life Medicine          India   \n",
       "\n",
       "                                              Author  \\\n",
       "0  Elke Stein;Yimin Zou;Mu-ming Poo;Marc Tessier-...   \n",
       "1                    Elke Stein;Marc Tessier-Lavigne   \n",
       "2  Y Shi;Y Yang;C Bardeleben;B Holmes;J Gera;Alan...   \n",
       "3  Lirong Lin;Chunxuan Wang;Jiangwen Ren;Mei Mei;...   \n",
       "4  S Venkatesh Kumar;Mohith Singh;Gowtham Singh;K...   \n",
       "\n",
       "                                                URLS        ArticleType  \\\n",
       "0  https://retractionwatch.com/2023/08/31/stanfor...  Research Article;   \n",
       "1  https://retractionwatch.com/2023/08/31/stanfor...  Research Article;   \n",
       "2                                                NaN  Research Article;   \n",
       "3                                                NaN  Research Article;   \n",
       "4                                                NaN  Research Article;   \n",
       "\n",
       "        RetractionDate                 RetractionDOI  RetractionPubMedID  \\\n",
       "0  2023-08-31 00:00:00       10.1126/science.adk1521                 0.0   \n",
       "1  2023-08-31 00:00:00       10.1126/science.adk1517                 0.0   \n",
       "2  2023-08-31 00:00:00    10.1038/s41388-023-02820-5                 0.0   \n",
       "3  2023-08-30 00:00:00  10.1097/HJH.0000000000003551          37642599.0   \n",
       "4  2023-08-30 00:00:00                   unavailable                 0.0   \n",
       "\n",
       "     OriginalPaperDate              OriginalPaperDOI  OriginalPaperPubMedID  \\\n",
       "0  2001-03-09 00:00:00       10.1126/science.1059391             11239160.0   \n",
       "1  2001-02-08 00:00:00       10.1126/science.1058445             11239147.0   \n",
       "2  2015-05-11 00:00:00          10.1038/onc.2015.156             25961916.0   \n",
       "3  2023-08-01 00:00:00  10.1097/HJH.0000000000003467             37199562.0   \n",
       "4  2023-01-01 00:00:00                   unavailable                    0.0   \n",
       "\n",
       "  RetractionNature                                             Reason  \\\n",
       "0       Retraction  +Investigation by Company/Institution;+Manipul...   \n",
       "1       Retraction  +Duplication of Image;+Investigation by Compan...   \n",
       "2       Retraction  +Concerns/Issues About Data;+Concerns/Issues A...   \n",
       "3       Retraction  +Concerns/Issues About Results;+Investigation ...   \n",
       "4       Retraction                     +Notice - Lack of;+Withdrawal;   \n",
       "\n",
       "  Paywalled                                              Notes  \n",
       "0        No                                                NaN  \n",
       "1        No                                                NaN  \n",
       "2        No  see also: https://pubpeer.com/publications/704...  \n",
       "3        No  see also https://journals.lww.com/jhypertensio...  \n",
       "4        No  date of retraction unknown, article title repl...  "
      ]
     },
     "execution_count": 2,
     "metadata": {},
     "output_type": "execute_result"
    }
   ],
   "source": [
    "rw = pd.read_excel('./retractions_data/retraction_watch_database.xlsx')\n",
    "rw.head()"
   ]
  },
  {
   "cell_type": "code",
   "execution_count": 3,
   "metadata": {},
   "outputs": [
    {
     "name": "stdout",
     "output_type": "stream",
     "text": [
      "<class 'pandas.core.frame.DataFrame'>\n",
      "RangeIndex: 42700 entries, 0 to 42699\n",
      "Data columns (total 20 columns):\n",
      " #   Column                 Non-Null Count  Dtype  \n",
      "---  ------                 --------------  -----  \n",
      " 0   Record ID              42700 non-null  int64  \n",
      " 1   Title                  42700 non-null  object \n",
      " 2   Subject                42700 non-null  object \n",
      " 3   Institution            42699 non-null  object \n",
      " 4   Journal                42700 non-null  object \n",
      " 5   Publisher              42700 non-null  object \n",
      " 6   Country                42700 non-null  object \n",
      " 7   Author                 42700 non-null  object \n",
      " 8   URLS                   21687 non-null  object \n",
      " 9   ArticleType            42700 non-null  object \n",
      " 10  RetractionDate         42700 non-null  object \n",
      " 11  RetractionDOI          42209 non-null  object \n",
      " 12  RetractionPubMedID     37599 non-null  float64\n",
      " 13  OriginalPaperDate      42700 non-null  object \n",
      " 14  OriginalPaperDOI       40173 non-null  object \n",
      " 15  OriginalPaperPubMedID  37564 non-null  float64\n",
      " 16  RetractionNature       42700 non-null  object \n",
      " 17  Reason                 42700 non-null  object \n",
      " 18  Paywalled              42700 non-null  object \n",
      " 19  Notes                  10253 non-null  object \n",
      "dtypes: float64(2), int64(1), object(17)\n",
      "memory usage: 6.5+ MB\n"
     ]
    }
   ],
   "source": [
    "rw.info()"
   ]
  },
  {
   "cell_type": "code",
   "execution_count": 4,
   "metadata": {},
   "outputs": [],
   "source": [
    "rw['RetractionDate'] = pd.to_datetime(rw['RetractionDate'], errors='coerce') #, infer_datetime_format=True\n",
    "rw['OriginalPaperDate'] = pd.to_datetime(rw['OriginalPaperDate'])"
   ]
  },
  {
   "cell_type": "code",
   "execution_count": 5,
   "metadata": {},
   "outputs": [
    {
     "data": {
      "text/plain": [
       "Reason\n",
       "+Concerns/Issues About Data;+Concerns/Issues About Results;+Error in Analyses;+Error in Methods;    1\n",
       "Name: count, dtype: int64"
      ]
     },
     "execution_count": 5,
     "metadata": {},
     "output_type": "execute_result"
    }
   ],
   "source": [
    "rw[rw['Title'] =='The association between early career informal mentorship in academic collaborations and junior author performance']['Reason'].value_counts()"
   ]
  },
  {
   "cell_type": "code",
   "execution_count": 6,
   "metadata": {},
   "outputs": [
    {
     "data": {
      "text/html": [
       "<div>\n",
       "<style scoped>\n",
       "    .dataframe tbody tr th:only-of-type {\n",
       "        vertical-align: middle;\n",
       "    }\n",
       "\n",
       "    .dataframe tbody tr th {\n",
       "        vertical-align: top;\n",
       "    }\n",
       "\n",
       "    .dataframe thead th {\n",
       "        text-align: right;\n",
       "    }\n",
       "</style>\n",
       "<table border=\"1\" class=\"dataframe\">\n",
       "  <thead>\n",
       "    <tr style=\"text-align: right;\">\n",
       "      <th></th>\n",
       "      <th>Record ID</th>\n",
       "      <th>Title</th>\n",
       "      <th>Subject</th>\n",
       "      <th>Institution</th>\n",
       "      <th>Journal</th>\n",
       "      <th>Publisher</th>\n",
       "      <th>Country</th>\n",
       "      <th>Author</th>\n",
       "      <th>URLS</th>\n",
       "      <th>ArticleType</th>\n",
       "      <th>RetractionDate</th>\n",
       "      <th>RetractionDOI</th>\n",
       "      <th>RetractionPubMedID</th>\n",
       "      <th>OriginalPaperDate</th>\n",
       "      <th>OriginalPaperDOI</th>\n",
       "      <th>OriginalPaperPubMedID</th>\n",
       "      <th>RetractionNature</th>\n",
       "      <th>Reason</th>\n",
       "      <th>Paywalled</th>\n",
       "      <th>Notes</th>\n",
       "    </tr>\n",
       "  </thead>\n",
       "  <tbody>\n",
       "  </tbody>\n",
       "</table>\n",
       "</div>"
      ],
      "text/plain": [
       "Empty DataFrame\n",
       "Columns: [Record ID, Title, Subject, Institution, Journal, Publisher, Country, Author, URLS, ArticleType, RetractionDate, RetractionDOI, RetractionPubMedID, OriginalPaperDate, OriginalPaperDOI, OriginalPaperPubMedID, RetractionNature, Reason, Paywalled, Notes]\n",
       "Index: []"
      ]
     },
     "execution_count": 6,
     "metadata": {},
     "output_type": "execute_result"
    }
   ],
   "source": [
    "rw[rw['OriginalPaperDOI']=='10.1021/cr030666m']"
   ]
  },
  {
   "cell_type": "code",
   "execution_count": 7,
   "metadata": {},
   "outputs": [
    {
     "data": {
      "text/plain": [
       "36846"
      ]
     },
     "execution_count": 7,
     "metadata": {},
     "output_type": "execute_result"
    }
   ],
   "source": [
    "rw['OriginalPaperDOI'].nunique()"
   ]
  },
  {
   "cell_type": "code",
   "execution_count": 8,
   "metadata": {},
   "outputs": [
    {
     "data": {
      "text/plain": [
       "36506"
      ]
     },
     "execution_count": 8,
     "metadata": {},
     "output_type": "execute_result"
    }
   ],
   "source": [
    "rw['RetractionDOI'].nunique()"
   ]
  },
  {
   "cell_type": "code",
   "execution_count": 9,
   "metadata": {},
   "outputs": [
    {
     "data": {
      "text/html": [
       "<div>\n",
       "<style scoped>\n",
       "    .dataframe tbody tr th:only-of-type {\n",
       "        vertical-align: middle;\n",
       "    }\n",
       "\n",
       "    .dataframe tbody tr th {\n",
       "        vertical-align: top;\n",
       "    }\n",
       "\n",
       "    .dataframe thead th {\n",
       "        text-align: right;\n",
       "    }\n",
       "</style>\n",
       "<table border=\"1\" class=\"dataframe\">\n",
       "  <thead>\n",
       "    <tr style=\"text-align: right;\">\n",
       "      <th></th>\n",
       "      <th>Record ID</th>\n",
       "      <th>Title</th>\n",
       "      <th>Subject</th>\n",
       "      <th>Institution</th>\n",
       "      <th>Journal</th>\n",
       "      <th>Publisher</th>\n",
       "      <th>Country</th>\n",
       "      <th>Author</th>\n",
       "      <th>URLS</th>\n",
       "      <th>ArticleType</th>\n",
       "      <th>RetractionDate</th>\n",
       "      <th>RetractionDOI</th>\n",
       "      <th>RetractionPubMedID</th>\n",
       "      <th>OriginalPaperDate</th>\n",
       "      <th>OriginalPaperDOI</th>\n",
       "      <th>OriginalPaperPubMedID</th>\n",
       "      <th>RetractionNature</th>\n",
       "      <th>Reason</th>\n",
       "      <th>Paywalled</th>\n",
       "      <th>Notes</th>\n",
       "    </tr>\n",
       "  </thead>\n",
       "  <tbody>\n",
       "    <tr>\n",
       "      <th>4</th>\n",
       "      <td>47227</td>\n",
       "      <td>Age, Gender Demographics and Comorbidity Preva...</td>\n",
       "      <td>(HSC) Biostatistics/Epidemiology;(HSC) Medicin...</td>\n",
       "      <td>Department of Orthopaedics, Dhanalakshmi Srini...</td>\n",
       "      <td>Journal of Coastal Life Medicine</td>\n",
       "      <td>Journal of Coastal Life Medicine</td>\n",
       "      <td>India</td>\n",
       "      <td>S Venkatesh Kumar;Mohith Singh;Gowtham Singh;K...</td>\n",
       "      <td>NaN</td>\n",
       "      <td>Research Article;</td>\n",
       "      <td>2023-08-30</td>\n",
       "      <td>unavailable</td>\n",
       "      <td>0.0</td>\n",
       "      <td>2023-01-01</td>\n",
       "      <td>unavailable</td>\n",
       "      <td>0.0</td>\n",
       "      <td>Retraction</td>\n",
       "      <td>+Notice - Lack of;+Withdrawal;</td>\n",
       "      <td>No</td>\n",
       "      <td>date of retraction unknown, article title repl...</td>\n",
       "    </tr>\n",
       "    <tr>\n",
       "      <th>55</th>\n",
       "      <td>47026</td>\n",
       "      <td>Is continuous cardiac output measurement using...</td>\n",
       "      <td>(BLS) Biochemistry;(HSC) Medicine - Anesthesia...</td>\n",
       "      <td>Department of Anesthesiology and Intensive Car...</td>\n",
       "      <td>Critical Care Medicine</td>\n",
       "      <td>Wolters Kluwer - Lippincott Williams &amp; Wilkins</td>\n",
       "      <td>Germany</td>\n",
       "      <td>Joachim Boldt;Thilo Menges;Mathias Wollbruck;H...</td>\n",
       "      <td>https://retractionwatch.com/?s=Joachim+Boldt</td>\n",
       "      <td>Clinical Study;</td>\n",
       "      <td>2023-08-17</td>\n",
       "      <td>10.1097/CCM.0000000000005908</td>\n",
       "      <td>37589533.0</td>\n",
       "      <td>1994-12-01</td>\n",
       "      <td>unavailable</td>\n",
       "      <td>7988126.0</td>\n",
       "      <td>Retraction</td>\n",
       "      <td>+Concerns/Issues About Data;+Investigation by ...</td>\n",
       "      <td>No</td>\n",
       "      <td>Joachim Boldt has institutional finding of mis...</td>\n",
       "    </tr>\n",
       "    <tr>\n",
       "      <th>1950</th>\n",
       "      <td>44307</td>\n",
       "      <td>Fracture Resistance of Two Novel Custom Made P...</td>\n",
       "      <td>(HSC) Medicine - Dentistry;(PHY) Materials Sci...</td>\n",
       "      <td>Fixed Prosthodontics Department, Faculty of De...</td>\n",
       "      <td>IOSR Journal of Dental and Medical Sciences</td>\n",
       "      <td>International Organization of Scientific Resea...</td>\n",
       "      <td>Egypt</td>\n",
       "      <td>M El Sayed;M Zohdy;M Nour;A El Gamal</td>\n",
       "      <td>NaN</td>\n",
       "      <td>Research Article;</td>\n",
       "      <td>2023-05-03</td>\n",
       "      <td>unavailable</td>\n",
       "      <td>0.0</td>\n",
       "      <td>2022-06-01</td>\n",
       "      <td>unavailable</td>\n",
       "      <td>0.0</td>\n",
       "      <td>Retraction</td>\n",
       "      <td>+Date of Retraction/Other Unknown;+Notice - La...</td>\n",
       "      <td>No</td>\n",
       "      <td>date of retraction unkown, stealth retraction ...</td>\n",
       "    </tr>\n",
       "    <tr>\n",
       "      <th>2310</th>\n",
       "      <td>43875</td>\n",
       "      <td>Long noncoding RNA DLX6-AS1 targets miR-124-3p...</td>\n",
       "      <td>(BLS) Biology - Cancer;(BLS) Biology - Cellula...</td>\n",
       "      <td>Department of Child Health Care, The Second Af...</td>\n",
       "      <td>American Journal of Translational Research</td>\n",
       "      <td>e-Century Publishing Corporation</td>\n",
       "      <td>China</td>\n",
       "      <td>Xiaomei Lei;Siping Yang;Yuanyuan Yang;Juan Zha...</td>\n",
       "      <td>NaN</td>\n",
       "      <td>Research Article;</td>\n",
       "      <td>2023-03-15</td>\n",
       "      <td>unavailable</td>\n",
       "      <td>37056831.0</td>\n",
       "      <td>2019-10-15</td>\n",
       "      <td>unavailable</td>\n",
       "      <td>31737208.0</td>\n",
       "      <td>Retraction</td>\n",
       "      <td>+Unreliable Data;</td>\n",
       "      <td>No</td>\n",
       "      <td>NaN</td>\n",
       "    </tr>\n",
       "    <tr>\n",
       "      <th>2523</th>\n",
       "      <td>43231</td>\n",
       "      <td>Exosomal long noncoding RNA AGAP2-AS1 regulate...</td>\n",
       "      <td>(BLS) Biology - Cancer;(BLS) Biology - Cellula...</td>\n",
       "      <td>Department of Breast Surgery, The First Affili...</td>\n",
       "      <td>American Journal of Cancer Research</td>\n",
       "      <td>e-Century Publishing Corporation</td>\n",
       "      <td>China;Germany</td>\n",
       "      <td>Xueke Qian;Hongbo Qu;Fan Zhang;Shujia Peng;Don...</td>\n",
       "      <td>NaN</td>\n",
       "      <td>Research Article;</td>\n",
       "      <td>2023-02-15</td>\n",
       "      <td>unavailable</td>\n",
       "      <td>36895985.0</td>\n",
       "      <td>2021-05-15</td>\n",
       "      <td>unavailable</td>\n",
       "      <td>34094664.0</td>\n",
       "      <td>Retraction</td>\n",
       "      <td>+Error in Analyses;+Unreliable Results;</td>\n",
       "      <td>No</td>\n",
       "      <td>see also: https://pubpeer.com/publications/9D6...</td>\n",
       "    </tr>\n",
       "    <tr>\n",
       "      <th>...</th>\n",
       "      <td>...</td>\n",
       "      <td>...</td>\n",
       "      <td>...</td>\n",
       "      <td>...</td>\n",
       "      <td>...</td>\n",
       "      <td>...</td>\n",
       "      <td>...</td>\n",
       "      <td>...</td>\n",
       "      <td>...</td>\n",
       "      <td>...</td>\n",
       "      <td>...</td>\n",
       "      <td>...</td>\n",
       "      <td>...</td>\n",
       "      <td>...</td>\n",
       "      <td>...</td>\n",
       "      <td>...</td>\n",
       "      <td>...</td>\n",
       "      <td>...</td>\n",
       "      <td>...</td>\n",
       "      <td>...</td>\n",
       "    </tr>\n",
       "    <tr>\n",
       "      <th>42647</th>\n",
       "      <td>3902</td>\n",
       "      <td>Effect of Platinum Compounds on Murine Lymphoc...</td>\n",
       "      <td>(BLS) Biochemistry;(BLS) Biology - Molecular;(...</td>\n",
       "      <td>Unavailable</td>\n",
       "      <td>Japanese Journal of Medical Science &amp; Biology</td>\n",
       "      <td>National Institute of Infectious Diseases, Jap...</td>\n",
       "      <td>Unknown</td>\n",
       "      <td>Elias A K Alsabti;O N Ghalib;M H Salem</td>\n",
       "      <td>NaN</td>\n",
       "      <td>Research Article;</td>\n",
       "      <td>1980-08-01</td>\n",
       "      <td>Unavailable</td>\n",
       "      <td>6765630.0</td>\n",
       "      <td>1979-04-01</td>\n",
       "      <td>Unavailable</td>\n",
       "      <td>396398.0</td>\n",
       "      <td>Retraction</td>\n",
       "      <td>+Notice - Unable to Access via current resourc...</td>\n",
       "      <td>No</td>\n",
       "      <td>NaN</td>\n",
       "    </tr>\n",
       "    <tr>\n",
       "      <th>42685</th>\n",
       "      <td>17312</td>\n",
       "      <td>Hyperextensibility and weakness in cerebral pa...</td>\n",
       "      <td>(HSC) Medicine - Neurology;</td>\n",
       "      <td>unavailable</td>\n",
       "      <td>Revue de Chirurgie Orthopedique et Reparatrice...</td>\n",
       "      <td>Elsevier</td>\n",
       "      <td>Unknown</td>\n",
       "      <td>G Tardieu;J C Tabary;C Tardieu;M Lombard</td>\n",
       "      <td>NaN</td>\n",
       "      <td>Research Article;</td>\n",
       "      <td>1971-10-01</td>\n",
       "      <td>unavailable</td>\n",
       "      <td>4261570.0</td>\n",
       "      <td>1971-10-01</td>\n",
       "      <td>unavailable</td>\n",
       "      <td>4261570.0</td>\n",
       "      <td>Retraction</td>\n",
       "      <td>+Notice - Unable to Access via current resources;</td>\n",
       "      <td>No</td>\n",
       "      <td>NaN</td>\n",
       "    </tr>\n",
       "    <tr>\n",
       "      <th>42695</th>\n",
       "      <td>10433</td>\n",
       "      <td>Change of Venue and the Conflict of Laws</td>\n",
       "      <td>(SOC) Law/Legal Issues;</td>\n",
       "      <td>University of Chicago;</td>\n",
       "      <td>The University of Chicago Law Review</td>\n",
       "      <td>University of Chicago Law School</td>\n",
       "      <td>United States</td>\n",
       "      <td>Brainerd Currie</td>\n",
       "      <td>NaN</td>\n",
       "      <td>Research Article;</td>\n",
       "      <td>1960-02-01</td>\n",
       "      <td>NaN</td>\n",
       "      <td>NaN</td>\n",
       "      <td>1955-02-01</td>\n",
       "      <td>NaN</td>\n",
       "      <td>NaN</td>\n",
       "      <td>Retraction</td>\n",
       "      <td>+Error in Results and/or Conclusions;+Unreliab...</td>\n",
       "      <td>Yes</td>\n",
       "      <td>NaN</td>\n",
       "    </tr>\n",
       "    <tr>\n",
       "      <th>42698</th>\n",
       "      <td>17246</td>\n",
       "      <td>The Trend-Seasonal Normal in Time Series</td>\n",
       "      <td>(ENV) Climatology;</td>\n",
       "      <td>Yale University</td>\n",
       "      <td>Journal of the American Statistical Association</td>\n",
       "      <td>Taylor and Francis</td>\n",
       "      <td>United States</td>\n",
       "      <td>C H Whelden Jr</td>\n",
       "      <td>http://retractionwatch.com/2014/07/14/dipping-...</td>\n",
       "      <td>Review Article;</td>\n",
       "      <td>1927-04-01</td>\n",
       "      <td>unavailable</td>\n",
       "      <td>0.0</td>\n",
       "      <td>1926-04-01</td>\n",
       "      <td>unavailable</td>\n",
       "      <td>0.0</td>\n",
       "      <td>Retraction</td>\n",
       "      <td>+Error in Analyses;</td>\n",
       "      <td>No</td>\n",
       "      <td>NaN</td>\n",
       "    </tr>\n",
       "    <tr>\n",
       "      <th>42699</th>\n",
       "      <td>18930</td>\n",
       "      <td>Treatise upon Electricity</td>\n",
       "      <td>(PHY) Energy;</td>\n",
       "      <td>unavailable</td>\n",
       "      <td>Philosophical Transactions</td>\n",
       "      <td>Royal Society Publishing</td>\n",
       "      <td>United Kingdom</td>\n",
       "      <td>Benjamin Wilson</td>\n",
       "      <td>http://retractionwatch.com/2012/02/27/the-firs...</td>\n",
       "      <td>Technical Report/White Paper;</td>\n",
       "      <td>1756-06-24</td>\n",
       "      <td>10.1098/rstl.1755.0107</td>\n",
       "      <td>0.0</td>\n",
       "      <td>1753-01-01</td>\n",
       "      <td>unavailable</td>\n",
       "      <td>0.0</td>\n",
       "      <td>Retraction</td>\n",
       "      <td>+Error in Text;</td>\n",
       "      <td>No</td>\n",
       "      <td>Original Paper date may be in 1750;</td>\n",
       "    </tr>\n",
       "  </tbody>\n",
       "</table>\n",
       "<p>5873 rows × 20 columns</p>\n",
       "</div>"
      ],
      "text/plain": [
       "       Record ID                                              Title  \\\n",
       "4          47227  Age, Gender Demographics and Comorbidity Preva...   \n",
       "55         47026  Is continuous cardiac output measurement using...   \n",
       "1950       44307  Fracture Resistance of Two Novel Custom Made P...   \n",
       "2310       43875  Long noncoding RNA DLX6-AS1 targets miR-124-3p...   \n",
       "2523       43231  Exosomal long noncoding RNA AGAP2-AS1 regulate...   \n",
       "...          ...                                                ...   \n",
       "42647       3902  Effect of Platinum Compounds on Murine Lymphoc...   \n",
       "42685      17312  Hyperextensibility and weakness in cerebral pa...   \n",
       "42695      10433           Change of Venue and the Conflict of Laws   \n",
       "42698      17246           The Trend-Seasonal Normal in Time Series   \n",
       "42699      18930                          Treatise upon Electricity   \n",
       "\n",
       "                                                 Subject  \\\n",
       "4      (HSC) Biostatistics/Epidemiology;(HSC) Medicin...   \n",
       "55     (BLS) Biochemistry;(HSC) Medicine - Anesthesia...   \n",
       "1950   (HSC) Medicine - Dentistry;(PHY) Materials Sci...   \n",
       "2310   (BLS) Biology - Cancer;(BLS) Biology - Cellula...   \n",
       "2523   (BLS) Biology - Cancer;(BLS) Biology - Cellula...   \n",
       "...                                                  ...   \n",
       "42647  (BLS) Biochemistry;(BLS) Biology - Molecular;(...   \n",
       "42685                        (HSC) Medicine - Neurology;   \n",
       "42695                            (SOC) Law/Legal Issues;   \n",
       "42698                                 (ENV) Climatology;   \n",
       "42699                                      (PHY) Energy;   \n",
       "\n",
       "                                             Institution  \\\n",
       "4      Department of Orthopaedics, Dhanalakshmi Srini...   \n",
       "55     Department of Anesthesiology and Intensive Car...   \n",
       "1950   Fixed Prosthodontics Department, Faculty of De...   \n",
       "2310   Department of Child Health Care, The Second Af...   \n",
       "2523   Department of Breast Surgery, The First Affili...   \n",
       "...                                                  ...   \n",
       "42647                                        Unavailable   \n",
       "42685                                        unavailable   \n",
       "42695                             University of Chicago;   \n",
       "42698                                    Yale University   \n",
       "42699                                        unavailable   \n",
       "\n",
       "                                                 Journal  \\\n",
       "4                       Journal of Coastal Life Medicine   \n",
       "55                                Critical Care Medicine   \n",
       "1950         IOSR Journal of Dental and Medical Sciences   \n",
       "2310          American Journal of Translational Research   \n",
       "2523                 American Journal of Cancer Research   \n",
       "...                                                  ...   \n",
       "42647      Japanese Journal of Medical Science & Biology   \n",
       "42685  Revue de Chirurgie Orthopedique et Reparatrice...   \n",
       "42695               The University of Chicago Law Review   \n",
       "42698    Journal of the American Statistical Association   \n",
       "42699                         Philosophical Transactions   \n",
       "\n",
       "                                               Publisher         Country  \\\n",
       "4                       Journal of Coastal Life Medicine           India   \n",
       "55        Wolters Kluwer - Lippincott Williams & Wilkins         Germany   \n",
       "1950   International Organization of Scientific Resea...           Egypt   \n",
       "2310                    e-Century Publishing Corporation           China   \n",
       "2523                    e-Century Publishing Corporation   China;Germany   \n",
       "...                                                  ...             ...   \n",
       "42647  National Institute of Infectious Diseases, Jap...         Unknown   \n",
       "42685                                           Elsevier         Unknown   \n",
       "42695                   University of Chicago Law School   United States   \n",
       "42698                                 Taylor and Francis   United States   \n",
       "42699                           Royal Society Publishing  United Kingdom   \n",
       "\n",
       "                                                  Author  \\\n",
       "4      S Venkatesh Kumar;Mohith Singh;Gowtham Singh;K...   \n",
       "55     Joachim Boldt;Thilo Menges;Mathias Wollbruck;H...   \n",
       "1950                M El Sayed;M Zohdy;M Nour;A El Gamal   \n",
       "2310   Xiaomei Lei;Siping Yang;Yuanyuan Yang;Juan Zha...   \n",
       "2523   Xueke Qian;Hongbo Qu;Fan Zhang;Shujia Peng;Don...   \n",
       "...                                                  ...   \n",
       "42647             Elias A K Alsabti;O N Ghalib;M H Salem   \n",
       "42685           G Tardieu;J C Tabary;C Tardieu;M Lombard   \n",
       "42695                                    Brainerd Currie   \n",
       "42698                                     C H Whelden Jr   \n",
       "42699                                    Benjamin Wilson   \n",
       "\n",
       "                                                    URLS  \\\n",
       "4                                                    NaN   \n",
       "55          https://retractionwatch.com/?s=Joachim+Boldt   \n",
       "1950                                                 NaN   \n",
       "2310                                                 NaN   \n",
       "2523                                                 NaN   \n",
       "...                                                  ...   \n",
       "42647                                                NaN   \n",
       "42685                                                NaN   \n",
       "42695                                                NaN   \n",
       "42698  http://retractionwatch.com/2014/07/14/dipping-...   \n",
       "42699  http://retractionwatch.com/2012/02/27/the-firs...   \n",
       "\n",
       "                         ArticleType RetractionDate  \\\n",
       "4                  Research Article;     2023-08-30   \n",
       "55                   Clinical Study;     2023-08-17   \n",
       "1950               Research Article;     2023-05-03   \n",
       "2310               Research Article;     2023-03-15   \n",
       "2523               Research Article;     2023-02-15   \n",
       "...                              ...            ...   \n",
       "42647              Research Article;     1980-08-01   \n",
       "42685              Research Article;     1971-10-01   \n",
       "42695              Research Article;     1960-02-01   \n",
       "42698                Review Article;     1927-04-01   \n",
       "42699  Technical Report/White Paper;     1756-06-24   \n",
       "\n",
       "                      RetractionDOI  RetractionPubMedID OriginalPaperDate  \\\n",
       "4                       unavailable                 0.0        2023-01-01   \n",
       "55     10.1097/CCM.0000000000005908          37589533.0        1994-12-01   \n",
       "1950                    unavailable                 0.0        2022-06-01   \n",
       "2310                    unavailable          37056831.0        2019-10-15   \n",
       "2523                    unavailable          36895985.0        2021-05-15   \n",
       "...                             ...                 ...               ...   \n",
       "42647                   Unavailable           6765630.0        1979-04-01   \n",
       "42685                   unavailable           4261570.0        1971-10-01   \n",
       "42695                           NaN                 NaN        1955-02-01   \n",
       "42698                   unavailable                 0.0        1926-04-01   \n",
       "42699        10.1098/rstl.1755.0107                 0.0        1753-01-01   \n",
       "\n",
       "      OriginalPaperDOI  OriginalPaperPubMedID RetractionNature  \\\n",
       "4          unavailable                    0.0       Retraction   \n",
       "55         unavailable              7988126.0       Retraction   \n",
       "1950       unavailable                    0.0       Retraction   \n",
       "2310       unavailable             31737208.0       Retraction   \n",
       "2523       unavailable             34094664.0       Retraction   \n",
       "...                ...                    ...              ...   \n",
       "42647      Unavailable               396398.0       Retraction   \n",
       "42685      unavailable              4261570.0       Retraction   \n",
       "42695              NaN                    NaN       Retraction   \n",
       "42698      unavailable                    0.0       Retraction   \n",
       "42699      unavailable                    0.0       Retraction   \n",
       "\n",
       "                                                  Reason Paywalled  \\\n",
       "4                         +Notice - Lack of;+Withdrawal;        No   \n",
       "55     +Concerns/Issues About Data;+Investigation by ...        No   \n",
       "1950   +Date of Retraction/Other Unknown;+Notice - La...        No   \n",
       "2310                                   +Unreliable Data;        No   \n",
       "2523             +Error in Analyses;+Unreliable Results;        No   \n",
       "...                                                  ...       ...   \n",
       "42647  +Notice - Unable to Access via current resourc...        No   \n",
       "42685  +Notice - Unable to Access via current resources;        No   \n",
       "42695  +Error in Results and/or Conclusions;+Unreliab...       Yes   \n",
       "42698                                +Error in Analyses;        No   \n",
       "42699                                    +Error in Text;        No   \n",
       "\n",
       "                                                   Notes  \n",
       "4      date of retraction unknown, article title repl...  \n",
       "55     Joachim Boldt has institutional finding of mis...  \n",
       "1950   date of retraction unkown, stealth retraction ...  \n",
       "2310                                                 NaN  \n",
       "2523   see also: https://pubpeer.com/publications/9D6...  \n",
       "...                                                  ...  \n",
       "42647                                                NaN  \n",
       "42685                                                NaN  \n",
       "42695                                                NaN  \n",
       "42698                                                NaN  \n",
       "42699                Original Paper date may be in 1750;  \n",
       "\n",
       "[5873 rows x 20 columns]"
      ]
     },
     "execution_count": 9,
     "metadata": {},
     "output_type": "execute_result"
    }
   ],
   "source": [
    "rw[rw.duplicated(subset='OriginalPaperDOI', keep=False)]"
   ]
  },
  {
   "cell_type": "code",
   "execution_count": 10,
   "metadata": {},
   "outputs": [
    {
     "data": {
      "text/html": [
       "<div>\n",
       "<style scoped>\n",
       "    .dataframe tbody tr th:only-of-type {\n",
       "        vertical-align: middle;\n",
       "    }\n",
       "\n",
       "    .dataframe tbody tr th {\n",
       "        vertical-align: top;\n",
       "    }\n",
       "\n",
       "    .dataframe thead th {\n",
       "        text-align: right;\n",
       "    }\n",
       "</style>\n",
       "<table border=\"1\" class=\"dataframe\">\n",
       "  <thead>\n",
       "    <tr style=\"text-align: right;\">\n",
       "      <th></th>\n",
       "      <th>Record ID</th>\n",
       "      <th>Title</th>\n",
       "      <th>Subject</th>\n",
       "      <th>Institution</th>\n",
       "      <th>Journal</th>\n",
       "      <th>Publisher</th>\n",
       "      <th>Country</th>\n",
       "      <th>Author</th>\n",
       "      <th>URLS</th>\n",
       "      <th>ArticleType</th>\n",
       "      <th>RetractionDate</th>\n",
       "      <th>RetractionDOI</th>\n",
       "      <th>RetractionPubMedID</th>\n",
       "      <th>OriginalPaperDate</th>\n",
       "      <th>OriginalPaperDOI</th>\n",
       "      <th>OriginalPaperPubMedID</th>\n",
       "      <th>RetractionNature</th>\n",
       "      <th>Reason</th>\n",
       "      <th>Paywalled</th>\n",
       "      <th>Notes</th>\n",
       "    </tr>\n",
       "  </thead>\n",
       "  <tbody>\n",
       "    <tr>\n",
       "      <th>1326</th>\n",
       "      <td>46570</td>\n",
       "      <td>Retracted: miR-214-3p Protects and Restores th...</td>\n",
       "      <td>(BLS) Biology - Molecular;(BLS) Genetics;(HSC)...</td>\n",
       "      <td>Key Laboratory of Advanced Technologies of Mat...</td>\n",
       "      <td>Evidence-Based Complementary and Alternative M...</td>\n",
       "      <td>Hindawi</td>\n",
       "      <td>China</td>\n",
       "      <td>Yuan Cheng;Qing He;Tao Jin;Na Li</td>\n",
       "      <td>https://retractionwatch.com/2022/09/28/exclusi...</td>\n",
       "      <td>Research Article;</td>\n",
       "      <td>2023-06-21</td>\n",
       "      <td>10.1155/2023/9823451</td>\n",
       "      <td>37388114.0</td>\n",
       "      <td>2022-07-18</td>\n",
       "      <td>10.1155/2022/1175935</td>\n",
       "      <td>35899226.0</td>\n",
       "      <td>Retraction</td>\n",
       "      <td>+Concerns/Issues About Data;+Concerns/Issues a...</td>\n",
       "      <td>No</td>\n",
       "      <td>See also: https://pubpeer.com/publications/C08...</td>\n",
       "    </tr>\n",
       "    <tr>\n",
       "      <th>13359</th>\n",
       "      <td>45110</td>\n",
       "      <td>Retracted: Lifting the lid on lobbying in Indi...</td>\n",
       "      <td>(B/T) Government;</td>\n",
       "      <td>Department of Management Studies, Indian Insti...</td>\n",
       "      <td>Journal of Public Affairs</td>\n",
       "      <td>Wiley</td>\n",
       "      <td>India</td>\n",
       "      <td>Pankaj K P Shreyaskar;Pramod Pathak</td>\n",
       "      <td>NaN</td>\n",
       "      <td>Research Article;</td>\n",
       "      <td>2020-09-21</td>\n",
       "      <td>10.1002/pa.2423</td>\n",
       "      <td>0.0</td>\n",
       "      <td>2020-09-21</td>\n",
       "      <td>10.1002/pa.2423</td>\n",
       "      <td>0.0</td>\n",
       "      <td>Retraction</td>\n",
       "      <td>+Date of Retraction/Other Unknown;+Euphemisms ...</td>\n",
       "      <td>No</td>\n",
       "      <td>NaN</td>\n",
       "    </tr>\n",
       "  </tbody>\n",
       "</table>\n",
       "</div>"
      ],
      "text/plain": [
       "       Record ID                                              Title  \\\n",
       "1326       46570  Retracted: miR-214-3p Protects and Restores th...   \n",
       "13359      45110  Retracted: Lifting the lid on lobbying in Indi...   \n",
       "\n",
       "                                                 Subject  \\\n",
       "1326   (BLS) Biology - Molecular;(BLS) Genetics;(HSC)...   \n",
       "13359                                  (B/T) Government;   \n",
       "\n",
       "                                             Institution  \\\n",
       "1326   Key Laboratory of Advanced Technologies of Mat...   \n",
       "13359  Department of Management Studies, Indian Insti...   \n",
       "\n",
       "                                                 Journal Publisher Country  \\\n",
       "1326   Evidence-Based Complementary and Alternative M...   Hindawi   China   \n",
       "13359                          Journal of Public Affairs     Wiley   India   \n",
       "\n",
       "                                    Author  \\\n",
       "1326      Yuan Cheng;Qing He;Tao Jin;Na Li   \n",
       "13359  Pankaj K P Shreyaskar;Pramod Pathak   \n",
       "\n",
       "                                                    URLS        ArticleType  \\\n",
       "1326   https://retractionwatch.com/2022/09/28/exclusi...  Research Article;   \n",
       "13359                                                NaN  Research Article;   \n",
       "\n",
       "      RetractionDate         RetractionDOI  RetractionPubMedID  \\\n",
       "1326      2023-06-21  10.1155/2023/9823451          37388114.0   \n",
       "13359     2020-09-21       10.1002/pa.2423                 0.0   \n",
       "\n",
       "      OriginalPaperDate      OriginalPaperDOI  OriginalPaperPubMedID  \\\n",
       "1326         2022-07-18  10.1155/2022/1175935             35899226.0   \n",
       "13359        2020-09-21       10.1002/pa.2423                    0.0   \n",
       "\n",
       "      RetractionNature                                             Reason  \\\n",
       "1326        Retraction  +Concerns/Issues About Data;+Concerns/Issues a...   \n",
       "13359       Retraction  +Date of Retraction/Other Unknown;+Euphemisms ...   \n",
       "\n",
       "      Paywalled                                              Notes  \n",
       "1326         No  See also: https://pubpeer.com/publications/C08...  \n",
       "13359        No                                                NaN  "
      ]
     },
     "execution_count": 10,
     "metadata": {},
     "output_type": "execute_result"
    }
   ],
   "source": [
    "rw[rw['Title'].str.startswith(\"Retracted\")]"
   ]
  },
  {
   "cell_type": "code",
   "execution_count": 11,
   "metadata": {},
   "outputs": [
    {
     "data": {
      "text/plain": [
       "OriginalPaperDOI\n",
       "Unavailable                        2234\n",
       "unavailable                        1074\n",
       "10.1136/jim-2021-SRMC                 6\n",
       "10.1002/tox.21941                     2\n",
       "10.1016/j.lfs.2019.116709             2\n",
       "10.1038/s41598-021-03765-z            2\n",
       "10.1007/s12275-012-2294-z             2\n",
       "10.1016/j.cej.2011.04.016             2\n",
       "10.1016/j.swevo.2021.100868           2\n",
       "10.1016/j.esxm.2021.100447            2\n",
       "10.1093/jge/aabc74                    2\n",
       "10.1088/1742-2140/aaaf57              2\n",
       "10.1088/1742-2140/aa953a              2\n",
       "10.1016/j.carbpol.2019.115799         2\n",
       "10.1001/archpediatrics.2012.999       2\n",
       "10.1007/s13277-014-2995-5             2\n",
       "10.3109/02699052.2016.1162060         2\n",
       "10.1016/j.rapm.2005.05.009            2\n",
       "10.1524/9783486834062.275             2\n",
       "Name: count, dtype: int64"
      ]
     },
     "execution_count": 11,
     "metadata": {},
     "output_type": "execute_result"
    }
   ],
   "source": [
    "testing_dupes = rw[rw.duplicated(subset='OriginalPaperDOI', keep=False)]\n",
    "testing_dupes['OriginalPaperDOI'].value_counts()"
   ]
  },
  {
   "cell_type": "code",
   "execution_count": 12,
   "metadata": {},
   "outputs": [
    {
     "name": "stdout",
     "output_type": "stream",
     "text": [
      "<class 'pandas.core.frame.DataFrame'>\n",
      "RangeIndex: 42700 entries, 0 to 42699\n",
      "Data columns (total 20 columns):\n",
      " #   Column                 Non-Null Count  Dtype         \n",
      "---  ------                 --------------  -----         \n",
      " 0   Record ID              42700 non-null  int64         \n",
      " 1   Title                  42700 non-null  object        \n",
      " 2   Subject                42700 non-null  object        \n",
      " 3   Institution            42699 non-null  object        \n",
      " 4   Journal                42700 non-null  object        \n",
      " 5   Publisher              42700 non-null  object        \n",
      " 6   Country                42700 non-null  object        \n",
      " 7   Author                 42700 non-null  object        \n",
      " 8   URLS                   21687 non-null  object        \n",
      " 9   ArticleType            42700 non-null  object        \n",
      " 10  RetractionDate         42700 non-null  datetime64[ns]\n",
      " 11  RetractionDOI          42209 non-null  object        \n",
      " 12  RetractionPubMedID     37599 non-null  float64       \n",
      " 13  OriginalPaperDate      42700 non-null  datetime64[ns]\n",
      " 14  OriginalPaperDOI       40173 non-null  object        \n",
      " 15  OriginalPaperPubMedID  37564 non-null  float64       \n",
      " 16  RetractionNature       42700 non-null  object        \n",
      " 17  Reason                 42700 non-null  object        \n",
      " 18  Paywalled              42700 non-null  object        \n",
      " 19  Notes                  10253 non-null  object        \n",
      "dtypes: datetime64[ns](2), float64(2), int64(1), object(15)\n",
      "memory usage: 6.5+ MB\n"
     ]
    }
   ],
   "source": [
    "rw.info()"
   ]
  },
  {
   "cell_type": "code",
   "execution_count": 13,
   "metadata": {},
   "outputs": [],
   "source": [
    "rw.sort_values(by=['OriginalPaperDOI', 'OriginalPaperDate'], ascending=[True, False], inplace=True)\n",
    "\n",
    "# Keep only the first occurrence of each unique DOI (the most recent date)\n",
    "filtered_rw = rw.drop_duplicates(subset='OriginalPaperDOI')"
   ]
  },
  {
   "cell_type": "code",
   "execution_count": 14,
   "metadata": {},
   "outputs": [
    {
     "name": "stdout",
     "output_type": "stream",
     "text": [
      "<class 'pandas.core.frame.DataFrame'>\n",
      "RangeIndex: 23558 entries, 0 to 23557\n",
      "Data columns (total 71 columns):\n",
      " #   Column                                                   Non-Null Count  Dtype  \n",
      "---  ------                                                   --------------  -----  \n",
      " 0   Publication Type                                         23558 non-null  object \n",
      " 1   Authors                                                  23555 non-null  object \n",
      " 2   Book Authors                                             45 non-null     object \n",
      " 3   Editors                                                  1374 non-null   object \n",
      " 4   Book Group Authors                                       757 non-null    object \n",
      " 5   Author Full Name                                         23555 non-null  object \n",
      " 6   Book Authors Full Name                                   45 non-null     object \n",
      " 7   Group Authors                                            85 non-null     object \n",
      " 8   Document Title                                           23558 non-null  object \n",
      " 9   Publication Name                                         23558 non-null  object \n",
      " 10  Book Series Title                                        1373 non-null   object \n",
      " 11  Book Series Subtitle                                     0 non-null      float64\n",
      " 12  Language                                                 23558 non-null  object \n",
      " 13  Document Type                                            23558 non-null  object \n",
      " 14  Conference Title                                         2658 non-null   object \n",
      " 15  Conference Date                                          2658 non-null   object \n",
      " 16  Conference Location                                      2658 non-null   object \n",
      " 17  Conference Sponsors                                      2305 non-null   object \n",
      " 18  Conference Host                                          162 non-null    object \n",
      " 19  Author Keywords                                          16950 non-null  object \n",
      " 20  Keywords Plus                                            19786 non-null  object \n",
      " 21  Abstract                                                 22870 non-null  object \n",
      " 22  Author Address                                           23362 non-null  object \n",
      " 23  C3                                                       21650 non-null  object \n",
      " 24  Reprint Address                                          23164 non-null  object \n",
      " 25  E-mail Address                                           22296 non-null  object \n",
      " 26  ResearcherID Number                                      10376 non-null  object \n",
      " 27  ORCID Identifier (Open Researcher and Contributor ID)    9039 non-null   object \n",
      " 28  Funding Agency and Grant Number                          10373 non-null  object \n",
      " 29  FP                                                       10341 non-null  object \n",
      " 30  Funding Text                                             9542 non-null   object \n",
      " 31  Cited References                                         23425 non-null  object \n",
      " 32  Cited Reference Count                                    23558 non-null  int64  \n",
      " 33  Web of Science Core Collection Times Cited Count         23558 non-null  int64  \n",
      " 34  Total Times Cited Count                                  23558 non-null  int64  \n",
      " 35  Usage Count (Last 180 Days)                              23558 non-null  int64  \n",
      " 36  Usage Count (Since 2013)                                 23558 non-null  object \n",
      " 37  Publisher                                                23558 non-null  object \n",
      " 38  Publisher City                                           23558 non-null  object \n",
      " 39  Publisher Address                                        23558 non-null  object \n",
      " 40  International Standard Serial Number (ISSN)              21262 non-null  object \n",
      " 41  Electronic International Standard Serial Number (eISSN)  17361 non-null  object \n",
      " 42  International Standard Book Number (ISBN)                1336 non-null   object \n",
      " 43  29-Character Source Abbreviation                         22741 non-null  object \n",
      " 44  ISO Source Abbreviation                                  21371 non-null  object \n",
      " 45  Publication Date                                         19125 non-null  object \n",
      " 46  Year Published                                           23558 non-null  int64  \n",
      " 47  Volume                                                   22110 non-null  object \n",
      " 48  Issue                                                    16479 non-null  object \n",
      " 49  Part Number                                              480 non-null    object \n",
      " 50  Supplement                                               266 non-null    object \n",
      " 51  Special Issue                                            474 non-null    object \n",
      " 52  Meeting Abstract                                         43 non-null     object \n",
      " 53  Beginning Page                                           18902 non-null  object \n",
      " 54  Ending Page                                              18901 non-null  object \n",
      " 55  Article Number                                           4096 non-null   object \n",
      " 56  Digital Object Identifier (DOI)                          22691 non-null  object \n",
      " 57  DL                                                       22686 non-null  object \n",
      " 58  Book Digital Object Identifier (DOI)                     3 non-null      object \n",
      " 59  Early access date                                        1372 non-null   object \n",
      " 60  Page Count                                               23558 non-null  object \n",
      " 61  Web of Science Categories                                23558 non-null  object \n",
      " 62  WE                                                       23558 non-null  object \n",
      " 63  Research Areas                                           23558 non-null  object \n",
      " 64  Document Delivery Number                                 23554 non-null  object \n",
      " 65  PubMed ID                                                14886 non-null  object \n",
      " 66  Open Access Indicator                                    11542 non-null  object \n",
      " 67  ESI Highly Cited Paper                                   2 non-null      object \n",
      " 68  ESI Hot Paper                                            7 non-null      object \n",
      " 69  Date this report was generated                           23558 non-null  object \n",
      " 70  Accession Number                                         23553 non-null  object \n",
      "dtypes: float64(1), int64(5), object(65)\n",
      "memory usage: 12.8+ MB\n"
     ]
    },
    {
     "name": "stderr",
     "output_type": "stream",
     "text": [
      "C:\\Users\\isabe\\AppData\\Local\\Temp\\ipykernel_2160\\2033998879.py:1: DtypeWarning: Columns (2,6,36,58,60,65,67,68) have mixed types. Specify dtype option on import or set low_memory=False.\n",
      "  retractions_data = pd.read_csv('./retractions_data/wos_retractions_data.csv')\n"
     ]
    }
   ],
   "source": [
    "retractions_data = pd.read_csv('./retractions_data/wos_retractions_data.csv')\n",
    "retractions_data.info()"
   ]
  },
  {
   "cell_type": "code",
   "execution_count": 15,
   "metadata": {},
   "outputs": [
    {
     "data": {
      "text/plain": [
       "6338"
      ]
     },
     "execution_count": 15,
     "metadata": {},
     "output_type": "execute_result"
    }
   ],
   "source": [
    "retractions_data[retractions_data.duplicated()].shape[0]"
   ]
  },
  {
   "cell_type": "code",
   "execution_count": 16,
   "metadata": {},
   "outputs": [],
   "source": [
    "retractions_data.drop_duplicates(inplace=True)\n",
    "\n",
    "# Replace all NaN values with a common value (e.g., a string)\n",
    "retractions_data = retractions_data.fillna('This is a missing value')\n",
    "\n",
    "# Use drop_duplicates to remove duplicates with 'NaN' values\n",
    "retractions_data = retractions_data.drop_duplicates()\n",
    "\n",
    "# Now, you can replace the 'NaN' values with NaN again if needed\n",
    "retractions_data = retractions_data.replace('This is a missing value', np.nan)"
   ]
  },
  {
   "cell_type": "code",
   "execution_count": 17,
   "metadata": {},
   "outputs": [
    {
     "data": {
      "text/plain": [
       "4884"
      ]
     },
     "execution_count": 17,
     "metadata": {},
     "output_type": "execute_result"
    }
   ],
   "source": [
    "retractions_data[retractions_data['Digital Object Identifier (DOI)'].duplicated()].shape[0]"
   ]
  },
  {
   "cell_type": "code",
   "execution_count": 18,
   "metadata": {},
   "outputs": [
    {
     "name": "stdout",
     "output_type": "stream",
     "text": [
      "<class 'pandas.core.frame.DataFrame'>\n",
      "Index: 17220 entries, 0 to 23557\n",
      "Data columns (total 71 columns):\n",
      " #   Column                                                   Non-Null Count  Dtype  \n",
      "---  ------                                                   --------------  -----  \n",
      " 0   Publication Type                                         17220 non-null  object \n",
      " 1   Authors                                                  17217 non-null  object \n",
      " 2   Book Authors                                             43 non-null     object \n",
      " 3   Editors                                                  1255 non-null   object \n",
      " 4   Book Group Authors                                       718 non-null    object \n",
      " 5   Author Full Name                                         17217 non-null  object \n",
      " 6   Book Authors Full Name                                   43 non-null     object \n",
      " 7   Group Authors                                            48 non-null     object \n",
      " 8   Document Title                                           17220 non-null  object \n",
      " 9   Publication Name                                         17220 non-null  object \n",
      " 10  Book Series Title                                        1270 non-null   object \n",
      " 11  Book Series Subtitle                                     0 non-null      float64\n",
      " 12  Language                                                 17220 non-null  object \n",
      " 13  Document Type                                            17220 non-null  object \n",
      " 14  Conference Title                                         2276 non-null   object \n",
      " 15  Conference Date                                          2276 non-null   object \n",
      " 16  Conference Location                                      2276 non-null   object \n",
      " 17  Conference Sponsors                                      2024 non-null   object \n",
      " 18  Conference Host                                          121 non-null    object \n",
      " 19  Author Keywords                                          12433 non-null  object \n",
      " 20  Keywords Plus                                            14207 non-null  object \n",
      " 21  Abstract                                                 16684 non-null  object \n",
      " 22  Author Address                                           17079 non-null  object \n",
      " 23  C3                                                       15725 non-null  object \n",
      " 24  Reprint Address                                          16932 non-null  object \n",
      " 25  E-mail Address                                           16285 non-null  object \n",
      " 26  ResearcherID Number                                      7426 non-null   object \n",
      " 27  ORCID Identifier (Open Researcher and Contributor ID)    6383 non-null   object \n",
      " 28  Funding Agency and Grant Number                          7415 non-null   object \n",
      " 29  FP                                                       7392 non-null   object \n",
      " 30  Funding Text                                             6809 non-null   object \n",
      " 31  Cited References                                         17113 non-null  object \n",
      " 32  Cited Reference Count                                    17220 non-null  int64  \n",
      " 33  Web of Science Core Collection Times Cited Count         17220 non-null  int64  \n",
      " 34  Total Times Cited Count                                  17220 non-null  int64  \n",
      " 35  Usage Count (Last 180 Days)                              17220 non-null  int64  \n",
      " 36  Usage Count (Since 2013)                                 17220 non-null  object \n",
      " 37  Publisher                                                17220 non-null  object \n",
      " 38  Publisher City                                           17220 non-null  object \n",
      " 39  Publisher Address                                        17220 non-null  object \n",
      " 40  International Standard Serial Number (ISSN)              15346 non-null  object \n",
      " 41  Electronic International Standard Serial Number (eISSN)  12428 non-null  object \n",
      " 42  International Standard Book Number (ISBN)                1252 non-null   object \n",
      " 43  29-Character Source Abbreviation                         16460 non-null  object \n",
      " 44  ISO Source Abbreviation                                  15190 non-null  object \n",
      " 45  Publication Date                                         13538 non-null  object \n",
      " 46  Year Published                                           17220 non-null  int64  \n",
      " 47  Volume                                                   15891 non-null  object \n",
      " 48  Issue                                                    11777 non-null  object \n",
      " 49  Part Number                                              309 non-null    object \n",
      " 50  Supplement                                               164 non-null    object \n",
      " 51  Special Issue                                            280 non-null    object \n",
      " 52  Meeting Abstract                                         32 non-null     object \n",
      " 53  Beginning Page                                           13818 non-null  object \n",
      " 54  Ending Page                                              13817 non-null  object \n",
      " 55  Article Number                                           2845 non-null   object \n",
      " 56  Digital Object Identifier (DOI)                          16560 non-null  object \n",
      " 57  DL                                                       16557 non-null  object \n",
      " 58  Book Digital Object Identifier (DOI)                     2 non-null      object \n",
      " 59  Early access date                                        903 non-null    object \n",
      " 60  Page Count                                               17220 non-null  object \n",
      " 61  Web of Science Categories                                17220 non-null  object \n",
      " 62  WE                                                       17220 non-null  object \n",
      " 63  Research Areas                                           17220 non-null  object \n",
      " 64  Document Delivery Number                                 17218 non-null  object \n",
      " 65  PubMed ID                                                11026 non-null  object \n",
      " 66  Open Access Indicator                                    8707 non-null   object \n",
      " 67  ESI Highly Cited Paper                                   1 non-null      object \n",
      " 68  ESI Hot Paper                                            4 non-null      object \n",
      " 69  Date this report was generated                           17220 non-null  object \n",
      " 70  Accession Number                                         17217 non-null  object \n",
      "dtypes: float64(1), int64(5), object(65)\n",
      "memory usage: 9.5+ MB\n"
     ]
    }
   ],
   "source": [
    "retractions_data.info()"
   ]
  },
  {
   "cell_type": "code",
   "execution_count": 19,
   "metadata": {},
   "outputs": [
    {
     "data": {
      "text/plain": [
       "count    17220.000000\n",
       "mean      2013.044715\n",
       "std         21.391540\n",
       "min          6.000000\n",
       "25%       2009.000000\n",
       "50%       2014.000000\n",
       "75%       2018.000000\n",
       "max       2023.000000\n",
       "Name: Year Published, dtype: float64"
      ]
     },
     "execution_count": 19,
     "metadata": {},
     "output_type": "execute_result"
    }
   ],
   "source": [
    "retractions_data['Year Published'].describe()"
   ]
  },
  {
   "cell_type": "code",
   "execution_count": 20,
   "metadata": {},
   "outputs": [],
   "source": [
    "retractions_data['Year Published'] = np.where(retractions_data['Year Published'] < 1000, 2000, retractions_data['Year Published'])"
   ]
  },
  {
   "cell_type": "code",
   "execution_count": 21,
   "metadata": {},
   "outputs": [],
   "source": [
    "retractions_data['Publication Date'].fillna('JAN', inplace=True)\n",
    "\n",
    "retractions_data['Publication Date'] = pd.to_datetime(retractions_data['Publication Date'] + ' ' + retractions_data['Year Published'].astype(str), errors='coerce')\n",
    "retractions_data['Publication Date'].fillna(pd.to_datetime('JAN 01 ' + retractions_data['Year Published'].astype(str), format='%b %d %Y'), inplace=True)\n",
    "\n",
    "# Sort the DataFrame by DOI and 'Publication Date' in descending order\n",
    "retractions_data.sort_values(by=['Digital Object Identifier (DOI)', 'Publication Date'], ascending=[True, False], inplace=True)\n",
    "\n",
    "# Keep only the first occurrence of each unique DOI (the most recent date)\n",
    "filtered_wos = retractions_data.drop_duplicates(subset='Digital Object Identifier (DOI)')\n"
   ]
  },
  {
   "cell_type": "code",
   "execution_count": 23,
   "metadata": {},
   "outputs": [
    {
     "data": {
      "text/plain": [
       "13322   2005-01-01\n",
       "19790   2005-01-01\n",
       "13159   2005-01-01\n",
       "19791   2005-01-01\n",
       "19758   2005-01-01\n",
       "           ...    \n",
       "23556   1989-01-01\n",
       "11636   1986-01-01\n",
       "23516   1986-01-01\n",
       "23517   1986-01-01\n",
       "23067   1978-01-01\n",
       "Name: Publication Date, Length: 17220, dtype: datetime64[ns]"
      ]
     },
     "execution_count": 23,
     "metadata": {},
     "output_type": "execute_result"
    }
   ],
   "source": [
    "retractions_data['Publication Date']# = pd.to_datetime(retractions_data['Publication Date'])"
   ]
  },
  {
   "cell_type": "code",
   "execution_count": 24,
   "metadata": {},
   "outputs": [
    {
     "data": {
      "text/html": [
       "<div>\n",
       "<style scoped>\n",
       "    .dataframe tbody tr th:only-of-type {\n",
       "        vertical-align: middle;\n",
       "    }\n",
       "\n",
       "    .dataframe tbody tr th {\n",
       "        vertical-align: top;\n",
       "    }\n",
       "\n",
       "    .dataframe thead th {\n",
       "        text-align: right;\n",
       "    }\n",
       "</style>\n",
       "<table border=\"1\" class=\"dataframe\">\n",
       "  <thead>\n",
       "    <tr style=\"text-align: right;\">\n",
       "      <th></th>\n",
       "      <th>Publication Type</th>\n",
       "      <th>Authors</th>\n",
       "      <th>Book Authors</th>\n",
       "      <th>Editors</th>\n",
       "      <th>Book Group Authors</th>\n",
       "      <th>Author Full Name</th>\n",
       "      <th>Book Authors Full Name</th>\n",
       "      <th>Group Authors</th>\n",
       "      <th>Document Title</th>\n",
       "      <th>Publication Name</th>\n",
       "      <th>...</th>\n",
       "      <th>Web of Science Categories</th>\n",
       "      <th>WE</th>\n",
       "      <th>Research Areas</th>\n",
       "      <th>Document Delivery Number</th>\n",
       "      <th>PubMed ID</th>\n",
       "      <th>Open Access Indicator</th>\n",
       "      <th>ESI Highly Cited Paper</th>\n",
       "      <th>ESI Hot Paper</th>\n",
       "      <th>Date this report was generated</th>\n",
       "      <th>Accession Number</th>\n",
       "    </tr>\n",
       "  </thead>\n",
       "  <tbody>\n",
       "    <tr>\n",
       "      <th>13322</th>\n",
       "      <td>J</td>\n",
       "      <td>Sato, Y; Kanoko, T; Satoh, K; Iwamoto, J</td>\n",
       "      <td>NaN</td>\n",
       "      <td>NaN</td>\n",
       "      <td>NaN</td>\n",
       "      <td>Sato, Y; Kanoko, T; Satoh, K; Iwamoto, J</td>\n",
       "      <td>NaN</td>\n",
       "      <td>NaN</td>\n",
       "      <td>RETRACTED: The prevention of hip fracture with...</td>\n",
       "      <td>ARCHIVES OF INTERNAL MEDICINE</td>\n",
       "      <td>...</td>\n",
       "      <td>Medicine, General &amp; Internal</td>\n",
       "      <td>Science Citation Index Expanded (SCI-EXPANDED)</td>\n",
       "      <td>General &amp; Internal Medicine</td>\n",
       "      <td>952VW</td>\n",
       "      <td>16087821.0</td>\n",
       "      <td>NaN</td>\n",
       "      <td>NaN</td>\n",
       "      <td>NaN</td>\n",
       "      <td>05/11/2023</td>\n",
       "      <td>WOS:000231034800010</td>\n",
       "    </tr>\n",
       "    <tr>\n",
       "      <th>19790</th>\n",
       "      <td>J</td>\n",
       "      <td>Sato, Y; Kanoko, T; Satoh, K; Iwamoto, J</td>\n",
       "      <td>NaN</td>\n",
       "      <td>NaN</td>\n",
       "      <td>NaN</td>\n",
       "      <td>Sato, Y; Kanoko, T; Satoh, K; Iwamoto, J</td>\n",
       "      <td>NaN</td>\n",
       "      <td>NaN</td>\n",
       "      <td>RETRACTED: The prevention of hip fracture with...</td>\n",
       "      <td>ARCHIVES OF INTERNAL MEDICINE</td>\n",
       "      <td>...</td>\n",
       "      <td>Medicine, General &amp; Internal</td>\n",
       "      <td>Science Citation Index Expanded (SCI-EXPANDED)</td>\n",
       "      <td>General &amp; Internal Medicine</td>\n",
       "      <td>952VW</td>\n",
       "      <td>16087821.0</td>\n",
       "      <td>NaN</td>\n",
       "      <td>NaN</td>\n",
       "      <td>NaN</td>\n",
       "      <td>05/11/2023</td>\n",
       "      <td>WOS:000231034800010</td>\n",
       "    </tr>\n",
       "    <tr>\n",
       "      <th>13159</th>\n",
       "      <td>J</td>\n",
       "      <td>Sato, Y; Iwamoto, J; Kanoko, T; Satoh, K</td>\n",
       "      <td>NaN</td>\n",
       "      <td>NaN</td>\n",
       "      <td>NaN</td>\n",
       "      <td>Sato, Y; Iwamoto, J; Kanoko, T; Satoh, K</td>\n",
       "      <td>NaN</td>\n",
       "      <td>NaN</td>\n",
       "      <td>RETRACTED: Risedronate sodium therapy for prev...</td>\n",
       "      <td>ARCHIVES OF INTERNAL MEDICINE</td>\n",
       "      <td>...</td>\n",
       "      <td>Medicine, General &amp; Internal</td>\n",
       "      <td>Science Citation Index Expanded (SCI-EXPANDED)</td>\n",
       "      <td>General &amp; Internal Medicine</td>\n",
       "      <td>952VW</td>\n",
       "      <td>16087822.0</td>\n",
       "      <td>NaN</td>\n",
       "      <td>NaN</td>\n",
       "      <td>NaN</td>\n",
       "      <td>05/11/2023</td>\n",
       "      <td>WOS:000231034800011</td>\n",
       "    </tr>\n",
       "    <tr>\n",
       "      <th>19791</th>\n",
       "      <td>J</td>\n",
       "      <td>Sato, Y; Iwamoto, J; Kanoko, T; Satoh, K</td>\n",
       "      <td>NaN</td>\n",
       "      <td>NaN</td>\n",
       "      <td>NaN</td>\n",
       "      <td>Sato, Y; Iwamoto, J; Kanoko, T; Satoh, K</td>\n",
       "      <td>NaN</td>\n",
       "      <td>NaN</td>\n",
       "      <td>RETRACTED: Risedronate sodium therapy for prev...</td>\n",
       "      <td>ARCHIVES OF INTERNAL MEDICINE</td>\n",
       "      <td>...</td>\n",
       "      <td>Medicine, General &amp; Internal</td>\n",
       "      <td>Science Citation Index Expanded (SCI-EXPANDED)</td>\n",
       "      <td>General &amp; Internal Medicine</td>\n",
       "      <td>952VW</td>\n",
       "      <td>16087822.0</td>\n",
       "      <td>NaN</td>\n",
       "      <td>NaN</td>\n",
       "      <td>NaN</td>\n",
       "      <td>05/11/2023</td>\n",
       "      <td>WOS:000231034800011</td>\n",
       "    </tr>\n",
       "    <tr>\n",
       "      <th>19758</th>\n",
       "      <td>J</td>\n",
       "      <td>Panagiotakos, DB; Kromhout, D; Menotti, A; Chr...</td>\n",
       "      <td>NaN</td>\n",
       "      <td>NaN</td>\n",
       "      <td>NaN</td>\n",
       "      <td>Panagiotakos, DB; Kromhout, D; Menotti, A; Chr...</td>\n",
       "      <td>NaN</td>\n",
       "      <td>NaN</td>\n",
       "      <td>RETRACTED: The relation between pulse pressure...</td>\n",
       "      <td>ARCHIVES OF INTERNAL MEDICINE</td>\n",
       "      <td>...</td>\n",
       "      <td>Medicine, General &amp; Internal</td>\n",
       "      <td>Science Citation Index Expanded (SCI-EXPANDED)</td>\n",
       "      <td>General &amp; Internal Medicine</td>\n",
       "      <td>974FN</td>\n",
       "      <td>16217005.0</td>\n",
       "      <td>NaN</td>\n",
       "      <td>NaN</td>\n",
       "      <td>NaN</td>\n",
       "      <td>05/11/2023</td>\n",
       "      <td>WOS:000232576800013</td>\n",
       "    </tr>\n",
       "  </tbody>\n",
       "</table>\n",
       "<p>5 rows × 71 columns</p>\n",
       "</div>"
      ],
      "text/plain": [
       "      Publication Type                                            Authors  \\\n",
       "13322                J           Sato, Y; Kanoko, T; Satoh, K; Iwamoto, J   \n",
       "19790                J           Sato, Y; Kanoko, T; Satoh, K; Iwamoto, J   \n",
       "13159                J           Sato, Y; Iwamoto, J; Kanoko, T; Satoh, K   \n",
       "19791                J           Sato, Y; Iwamoto, J; Kanoko, T; Satoh, K   \n",
       "19758                J  Panagiotakos, DB; Kromhout, D; Menotti, A; Chr...   \n",
       "\n",
       "      Book Authors Editors Book Group Authors  \\\n",
       "13322          NaN     NaN                NaN   \n",
       "19790          NaN     NaN                NaN   \n",
       "13159          NaN     NaN                NaN   \n",
       "19791          NaN     NaN                NaN   \n",
       "19758          NaN     NaN                NaN   \n",
       "\n",
       "                                        Author Full Name  \\\n",
       "13322           Sato, Y; Kanoko, T; Satoh, K; Iwamoto, J   \n",
       "19790           Sato, Y; Kanoko, T; Satoh, K; Iwamoto, J   \n",
       "13159           Sato, Y; Iwamoto, J; Kanoko, T; Satoh, K   \n",
       "19791           Sato, Y; Iwamoto, J; Kanoko, T; Satoh, K   \n",
       "19758  Panagiotakos, DB; Kromhout, D; Menotti, A; Chr...   \n",
       "\n",
       "      Book Authors Full Name Group Authors  \\\n",
       "13322                    NaN           NaN   \n",
       "19790                    NaN           NaN   \n",
       "13159                    NaN           NaN   \n",
       "19791                    NaN           NaN   \n",
       "19758                    NaN           NaN   \n",
       "\n",
       "                                          Document Title  \\\n",
       "13322  RETRACTED: The prevention of hip fracture with...   \n",
       "19790  RETRACTED: The prevention of hip fracture with...   \n",
       "13159  RETRACTED: Risedronate sodium therapy for prev...   \n",
       "19791  RETRACTED: Risedronate sodium therapy for prev...   \n",
       "19758  RETRACTED: The relation between pulse pressure...   \n",
       "\n",
       "                    Publication Name  ...     Web of Science Categories  \\\n",
       "13322  ARCHIVES OF INTERNAL MEDICINE  ...  Medicine, General & Internal   \n",
       "19790  ARCHIVES OF INTERNAL MEDICINE  ...  Medicine, General & Internal   \n",
       "13159  ARCHIVES OF INTERNAL MEDICINE  ...  Medicine, General & Internal   \n",
       "19791  ARCHIVES OF INTERNAL MEDICINE  ...  Medicine, General & Internal   \n",
       "19758  ARCHIVES OF INTERNAL MEDICINE  ...  Medicine, General & Internal   \n",
       "\n",
       "                                                   WE  \\\n",
       "13322  Science Citation Index Expanded (SCI-EXPANDED)   \n",
       "19790  Science Citation Index Expanded (SCI-EXPANDED)   \n",
       "13159  Science Citation Index Expanded (SCI-EXPANDED)   \n",
       "19791  Science Citation Index Expanded (SCI-EXPANDED)   \n",
       "19758  Science Citation Index Expanded (SCI-EXPANDED)   \n",
       "\n",
       "                    Research Areas Document Delivery Number   PubMed ID  \\\n",
       "13322  General & Internal Medicine                    952VW  16087821.0   \n",
       "19790  General & Internal Medicine                    952VW  16087821.0   \n",
       "13159  General & Internal Medicine                    952VW  16087822.0   \n",
       "19791  General & Internal Medicine                    952VW  16087822.0   \n",
       "19758  General & Internal Medicine                    974FN  16217005.0   \n",
       "\n",
       "      Open Access Indicator ESI Highly Cited Paper ESI Hot Paper  \\\n",
       "13322                   NaN                    NaN           NaN   \n",
       "19790                   NaN                    NaN           NaN   \n",
       "13159                   NaN                    NaN           NaN   \n",
       "19791                   NaN                    NaN           NaN   \n",
       "19758                   NaN                    NaN           NaN   \n",
       "\n",
       "      Date this report was generated     Accession Number  \n",
       "13322                     05/11/2023  WOS:000231034800010  \n",
       "19790                     05/11/2023  WOS:000231034800010  \n",
       "13159                     05/11/2023  WOS:000231034800011  \n",
       "19791                     05/11/2023  WOS:000231034800011  \n",
       "19758                     05/11/2023  WOS:000232576800013  \n",
       "\n",
       "[5 rows x 71 columns]"
      ]
     },
     "execution_count": 24,
     "metadata": {},
     "output_type": "execute_result"
    }
   ],
   "source": [
    "retractions_data.head()"
   ]
  },
  {
   "cell_type": "code",
   "execution_count": 36,
   "metadata": {},
   "outputs": [
    {
     "name": "stderr",
     "output_type": "stream",
     "text": [
      "C:\\Users\\isabe\\AppData\\Local\\Temp\\ipykernel_2160\\338401715.py:1: UserWarning: This pattern is interpreted as a regular expression, and has match groups. To actually get the groups, use str.extract.\n",
      "  retractions_data[(~retractions_data['Document Title'].str.startswith(\"RETRACTED\")) & (~retractions_data['Document Title'].str.contains(\"(Withdrawn Publication)\"))]\n"
     ]
    },
    {
     "data": {
      "text/html": [
       "<div>\n",
       "<style scoped>\n",
       "    .dataframe tbody tr th:only-of-type {\n",
       "        vertical-align: middle;\n",
       "    }\n",
       "\n",
       "    .dataframe tbody tr th {\n",
       "        vertical-align: top;\n",
       "    }\n",
       "\n",
       "    .dataframe thead th {\n",
       "        text-align: right;\n",
       "    }\n",
       "</style>\n",
       "<table border=\"1\" class=\"dataframe\">\n",
       "  <thead>\n",
       "    <tr style=\"text-align: right;\">\n",
       "      <th></th>\n",
       "      <th>Publication Type</th>\n",
       "      <th>Authors</th>\n",
       "      <th>Book Authors</th>\n",
       "      <th>Editors</th>\n",
       "      <th>Book Group Authors</th>\n",
       "      <th>Author Full Name</th>\n",
       "      <th>Book Authors Full Name</th>\n",
       "      <th>Group Authors</th>\n",
       "      <th>Document Title</th>\n",
       "      <th>Publication Name</th>\n",
       "      <th>...</th>\n",
       "      <th>Web of Science Categories</th>\n",
       "      <th>WE</th>\n",
       "      <th>Research Areas</th>\n",
       "      <th>Document Delivery Number</th>\n",
       "      <th>PubMed ID</th>\n",
       "      <th>Open Access Indicator</th>\n",
       "      <th>ESI Highly Cited Paper</th>\n",
       "      <th>ESI Hot Paper</th>\n",
       "      <th>Date this report was generated</th>\n",
       "      <th>Accession Number</th>\n",
       "    </tr>\n",
       "  </thead>\n",
       "  <tbody>\n",
       "    <tr>\n",
       "      <th>15076</th>\n",
       "      <td>J</td>\n",
       "      <td>Gangidi, PR; Souriyasak, N</td>\n",
       "      <td>NaN</td>\n",
       "      <td>NaN</td>\n",
       "      <td>NaN</td>\n",
       "      <td>Gangidi, Prashant Reddy; Souriyasak, Noy</td>\n",
       "      <td>NaN</td>\n",
       "      <td>NaN</td>\n",
       "      <td>Solder Selection for Reflowing Large Ceramic S...</td>\n",
       "      <td>JOURNAL OF FAILURE ANALYSIS AND PREVENTION</td>\n",
       "      <td>...</td>\n",
       "      <td>Engineering, Multidisciplinary</td>\n",
       "      <td>Emerging Sources Citation Index (ESCI)</td>\n",
       "      <td>Engineering</td>\n",
       "      <td>FH4QU</td>\n",
       "      <td>NaN</td>\n",
       "      <td>NaN</td>\n",
       "      <td>NaN</td>\n",
       "      <td>NaN</td>\n",
       "      <td>05/11/2023</td>\n",
       "      <td>WOS:000411144100009</td>\n",
       "    </tr>\n",
       "    <tr>\n",
       "      <th>14979</th>\n",
       "      <td>J</td>\n",
       "      <td>Lyu, WH; Zhang, J</td>\n",
       "      <td>NaN</td>\n",
       "      <td>NaN</td>\n",
       "      <td>NaN</td>\n",
       "      <td>Lyu, Weihua; Zhang, Jian</td>\n",
       "      <td>NaN</td>\n",
       "      <td>NaN</td>\n",
       "      <td>The Influence of Childhood Psychological Maltr...</td>\n",
       "      <td>EURASIA JOURNAL OF MATHEMATICS SCIENCE AND TEC...</td>\n",
       "      <td>...</td>\n",
       "      <td>Education &amp; Educational Research</td>\n",
       "      <td>Social Science Citation Index (SSCI)</td>\n",
       "      <td>Education &amp; Educational Research</td>\n",
       "      <td>FO1JZ</td>\n",
       "      <td>NaN</td>\n",
       "      <td>gold</td>\n",
       "      <td>NaN</td>\n",
       "      <td>NaN</td>\n",
       "      <td>05/11/2023</td>\n",
       "      <td>WOS:000416517000040</td>\n",
       "    </tr>\n",
       "  </tbody>\n",
       "</table>\n",
       "<p>2 rows × 71 columns</p>\n",
       "</div>"
      ],
      "text/plain": [
       "      Publication Type                     Authors Book Authors Editors  \\\n",
       "15076                J  Gangidi, PR; Souriyasak, N          NaN     NaN   \n",
       "14979                J           Lyu, WH; Zhang, J          NaN     NaN   \n",
       "\n",
       "      Book Group Authors                          Author Full Name  \\\n",
       "15076                NaN  Gangidi, Prashant Reddy; Souriyasak, Noy   \n",
       "14979                NaN                  Lyu, Weihua; Zhang, Jian   \n",
       "\n",
       "      Book Authors Full Name Group Authors  \\\n",
       "15076                    NaN           NaN   \n",
       "14979                    NaN           NaN   \n",
       "\n",
       "                                          Document Title  \\\n",
       "15076  Solder Selection for Reflowing Large Ceramic S...   \n",
       "14979  The Influence of Childhood Psychological Maltr...   \n",
       "\n",
       "                                        Publication Name  ...  \\\n",
       "15076         JOURNAL OF FAILURE ANALYSIS AND PREVENTION  ...   \n",
       "14979  EURASIA JOURNAL OF MATHEMATICS SCIENCE AND TEC...  ...   \n",
       "\n",
       "              Web of Science Categories  \\\n",
       "15076    Engineering, Multidisciplinary   \n",
       "14979  Education & Educational Research   \n",
       "\n",
       "                                           WE  \\\n",
       "15076  Emerging Sources Citation Index (ESCI)   \n",
       "14979    Social Science Citation Index (SSCI)   \n",
       "\n",
       "                         Research Areas Document Delivery Number PubMed ID  \\\n",
       "15076                       Engineering                    FH4QU       NaN   \n",
       "14979  Education & Educational Research                    FO1JZ       NaN   \n",
       "\n",
       "      Open Access Indicator ESI Highly Cited Paper ESI Hot Paper  \\\n",
       "15076                   NaN                    NaN           NaN   \n",
       "14979                  gold                    NaN           NaN   \n",
       "\n",
       "      Date this report was generated     Accession Number  \n",
       "15076                     05/11/2023  WOS:000411144100009  \n",
       "14979                     05/11/2023  WOS:000416517000040  \n",
       "\n",
       "[2 rows x 71 columns]"
      ]
     },
     "execution_count": 36,
     "metadata": {},
     "output_type": "execute_result"
    }
   ],
   "source": [
    "retractions_data[(~retractions_data['Document Title'].str.startswith(\"RETRACTED\")) & (~retractions_data['Document Title'].str.contains(\"(Withdrawn Publication)\"))]\n"
   ]
  },
  {
   "cell_type": "code",
   "execution_count": 26,
   "metadata": {},
   "outputs": [],
   "source": [
    "#retractions_data.iloc[[2,6,36,58,60,65,67,68]]"
   ]
  },
  {
   "cell_type": "code",
   "execution_count": 27,
   "metadata": {},
   "outputs": [
    {
     "data": {
      "text/plain": [
       "12335"
      ]
     },
     "execution_count": 27,
     "metadata": {},
     "output_type": "execute_result"
    }
   ],
   "source": [
    "retractions_data['Digital Object Identifier (DOI)'].nunique()"
   ]
  },
  {
   "cell_type": "code",
   "execution_count": 28,
   "metadata": {},
   "outputs": [
    {
     "data": {
      "text/plain": [
       "Digital Object Identifier (DOI)\n",
       "10.1126/science.1192049                       3\n",
       "10.1111/j.1751-2980.2011.00571.x              3\n",
       "10.3389/fonc.2019.01175                       3\n",
       "10.3389/fonc.2021.630408                      3\n",
       "10.3892/mmr.2018.9385                         3\n",
       "                                             ..\n",
       "10.1080/15384101.2020.1762039                 1\n",
       "10.1080/15384101.2020.1757936                 1\n",
       "10.1080/15384101.2020.1743912                 1\n",
       "10.1080/15384101.2020.1732515                 1\n",
       "http://dx.doi.org/10.1021/acsomega.0c04799    1\n",
       "Name: count, Length: 12335, dtype: int64"
      ]
     },
     "execution_count": 28,
     "metadata": {},
     "output_type": "execute_result"
    }
   ],
   "source": [
    "retractions_data['Digital Object Identifier (DOI)'].value_counts()"
   ]
  },
  {
   "cell_type": "code",
   "execution_count": 29,
   "metadata": {},
   "outputs": [
    {
     "data": {
      "text/plain": [
       "(17220, 71)"
      ]
     },
     "execution_count": 29,
     "metadata": {},
     "output_type": "execute_result"
    }
   ],
   "source": [
    "retractions_data.shape"
   ]
  },
  {
   "cell_type": "code",
   "execution_count": 30,
   "metadata": {},
   "outputs": [
    {
     "data": {
      "text/html": [
       "<div>\n",
       "<style scoped>\n",
       "    .dataframe tbody tr th:only-of-type {\n",
       "        vertical-align: middle;\n",
       "    }\n",
       "\n",
       "    .dataframe tbody tr th {\n",
       "        vertical-align: top;\n",
       "    }\n",
       "\n",
       "    .dataframe thead th {\n",
       "        text-align: right;\n",
       "    }\n",
       "</style>\n",
       "<table border=\"1\" class=\"dataframe\">\n",
       "  <thead>\n",
       "    <tr style=\"text-align: right;\">\n",
       "      <th></th>\n",
       "      <th>Publication Type</th>\n",
       "      <th>Authors</th>\n",
       "      <th>Book Authors</th>\n",
       "      <th>Editors</th>\n",
       "      <th>Book Group Authors</th>\n",
       "      <th>Author Full Name</th>\n",
       "      <th>Book Authors Full Name</th>\n",
       "      <th>Group Authors</th>\n",
       "      <th>Document Title</th>\n",
       "      <th>Publication Name</th>\n",
       "      <th>...</th>\n",
       "      <th>Web of Science Categories</th>\n",
       "      <th>WE</th>\n",
       "      <th>Research Areas</th>\n",
       "      <th>Document Delivery Number</th>\n",
       "      <th>PubMed ID</th>\n",
       "      <th>Open Access Indicator</th>\n",
       "      <th>ESI Highly Cited Paper</th>\n",
       "      <th>ESI Hot Paper</th>\n",
       "      <th>Date this report was generated</th>\n",
       "      <th>Accession Number</th>\n",
       "    </tr>\n",
       "  </thead>\n",
       "  <tbody>\n",
       "    <tr>\n",
       "      <th>13322</th>\n",
       "      <td>J</td>\n",
       "      <td>Sato, Y; Kanoko, T; Satoh, K; Iwamoto, J</td>\n",
       "      <td>NaN</td>\n",
       "      <td>NaN</td>\n",
       "      <td>NaN</td>\n",
       "      <td>Sato, Y; Kanoko, T; Satoh, K; Iwamoto, J</td>\n",
       "      <td>NaN</td>\n",
       "      <td>NaN</td>\n",
       "      <td>RETRACTED: The prevention of hip fracture with...</td>\n",
       "      <td>ARCHIVES OF INTERNAL MEDICINE</td>\n",
       "      <td>...</td>\n",
       "      <td>Medicine, General &amp; Internal</td>\n",
       "      <td>Science Citation Index Expanded (SCI-EXPANDED)</td>\n",
       "      <td>General &amp; Internal Medicine</td>\n",
       "      <td>952VW</td>\n",
       "      <td>16087821.0</td>\n",
       "      <td>NaN</td>\n",
       "      <td>NaN</td>\n",
       "      <td>NaN</td>\n",
       "      <td>05/11/2023</td>\n",
       "      <td>WOS:000231034800010</td>\n",
       "    </tr>\n",
       "    <tr>\n",
       "      <th>19790</th>\n",
       "      <td>J</td>\n",
       "      <td>Sato, Y; Kanoko, T; Satoh, K; Iwamoto, J</td>\n",
       "      <td>NaN</td>\n",
       "      <td>NaN</td>\n",
       "      <td>NaN</td>\n",
       "      <td>Sato, Y; Kanoko, T; Satoh, K; Iwamoto, J</td>\n",
       "      <td>NaN</td>\n",
       "      <td>NaN</td>\n",
       "      <td>RETRACTED: The prevention of hip fracture with...</td>\n",
       "      <td>ARCHIVES OF INTERNAL MEDICINE</td>\n",
       "      <td>...</td>\n",
       "      <td>Medicine, General &amp; Internal</td>\n",
       "      <td>Science Citation Index Expanded (SCI-EXPANDED)</td>\n",
       "      <td>General &amp; Internal Medicine</td>\n",
       "      <td>952VW</td>\n",
       "      <td>16087821.0</td>\n",
       "      <td>NaN</td>\n",
       "      <td>NaN</td>\n",
       "      <td>NaN</td>\n",
       "      <td>05/11/2023</td>\n",
       "      <td>WOS:000231034800010</td>\n",
       "    </tr>\n",
       "    <tr>\n",
       "      <th>13159</th>\n",
       "      <td>J</td>\n",
       "      <td>Sato, Y; Iwamoto, J; Kanoko, T; Satoh, K</td>\n",
       "      <td>NaN</td>\n",
       "      <td>NaN</td>\n",
       "      <td>NaN</td>\n",
       "      <td>Sato, Y; Iwamoto, J; Kanoko, T; Satoh, K</td>\n",
       "      <td>NaN</td>\n",
       "      <td>NaN</td>\n",
       "      <td>RETRACTED: Risedronate sodium therapy for prev...</td>\n",
       "      <td>ARCHIVES OF INTERNAL MEDICINE</td>\n",
       "      <td>...</td>\n",
       "      <td>Medicine, General &amp; Internal</td>\n",
       "      <td>Science Citation Index Expanded (SCI-EXPANDED)</td>\n",
       "      <td>General &amp; Internal Medicine</td>\n",
       "      <td>952VW</td>\n",
       "      <td>16087822.0</td>\n",
       "      <td>NaN</td>\n",
       "      <td>NaN</td>\n",
       "      <td>NaN</td>\n",
       "      <td>05/11/2023</td>\n",
       "      <td>WOS:000231034800011</td>\n",
       "    </tr>\n",
       "    <tr>\n",
       "      <th>19791</th>\n",
       "      <td>J</td>\n",
       "      <td>Sato, Y; Iwamoto, J; Kanoko, T; Satoh, K</td>\n",
       "      <td>NaN</td>\n",
       "      <td>NaN</td>\n",
       "      <td>NaN</td>\n",
       "      <td>Sato, Y; Iwamoto, J; Kanoko, T; Satoh, K</td>\n",
       "      <td>NaN</td>\n",
       "      <td>NaN</td>\n",
       "      <td>RETRACTED: Risedronate sodium therapy for prev...</td>\n",
       "      <td>ARCHIVES OF INTERNAL MEDICINE</td>\n",
       "      <td>...</td>\n",
       "      <td>Medicine, General &amp; Internal</td>\n",
       "      <td>Science Citation Index Expanded (SCI-EXPANDED)</td>\n",
       "      <td>General &amp; Internal Medicine</td>\n",
       "      <td>952VW</td>\n",
       "      <td>16087822.0</td>\n",
       "      <td>NaN</td>\n",
       "      <td>NaN</td>\n",
       "      <td>NaN</td>\n",
       "      <td>05/11/2023</td>\n",
       "      <td>WOS:000231034800011</td>\n",
       "    </tr>\n",
       "    <tr>\n",
       "      <th>8932</th>\n",
       "      <td>J</td>\n",
       "      <td>Fujii, Y; Tanaka, H; Ito, M</td>\n",
       "      <td>NaN</td>\n",
       "      <td>NaN</td>\n",
       "      <td>NaN</td>\n",
       "      <td>Fujii, Y; Tanaka, H; Ito, M</td>\n",
       "      <td>NaN</td>\n",
       "      <td>NaN</td>\n",
       "      <td>RETRACTED: A randomized clinical trial of a si...</td>\n",
       "      <td>ARCHIVES OF OPHTHALMOLOGY</td>\n",
       "      <td>...</td>\n",
       "      <td>Ophthalmology</td>\n",
       "      <td>Science Citation Index Expanded (SCI-EXPANDED)</td>\n",
       "      <td>Ophthalmology</td>\n",
       "      <td>886RL</td>\n",
       "      <td>15642807.0</td>\n",
       "      <td>NaN</td>\n",
       "      <td>NaN</td>\n",
       "      <td>NaN</td>\n",
       "      <td>05/11/2023</td>\n",
       "      <td>WOS:000226245900002</td>\n",
       "    </tr>\n",
       "    <tr>\n",
       "      <th>...</th>\n",
       "      <td>...</td>\n",
       "      <td>...</td>\n",
       "      <td>...</td>\n",
       "      <td>...</td>\n",
       "      <td>...</td>\n",
       "      <td>...</td>\n",
       "      <td>...</td>\n",
       "      <td>...</td>\n",
       "      <td>...</td>\n",
       "      <td>...</td>\n",
       "      <td>...</td>\n",
       "      <td>...</td>\n",
       "      <td>...</td>\n",
       "      <td>...</td>\n",
       "      <td>...</td>\n",
       "      <td>...</td>\n",
       "      <td>...</td>\n",
       "      <td>...</td>\n",
       "      <td>...</td>\n",
       "      <td>...</td>\n",
       "      <td>...</td>\n",
       "    </tr>\n",
       "    <tr>\n",
       "      <th>23556</th>\n",
       "      <td>J</td>\n",
       "      <td>BOLDT, J; KLING, D; VONBORMANN, B; ZUGE, M; SC...</td>\n",
       "      <td>NaN</td>\n",
       "      <td>NaN</td>\n",
       "      <td>NaN</td>\n",
       "      <td>BOLDT, J; KLING, D; VONBORMANN, B; ZUGE, M; SC...</td>\n",
       "      <td>NaN</td>\n",
       "      <td>NaN</td>\n",
       "      <td>RETRACTED: BLOOD CONSERVATION IN CARDIAC OPERA...</td>\n",
       "      <td>JOURNAL OF THORACIC AND CARDIOVASCULAR SURGERY</td>\n",
       "      <td>...</td>\n",
       "      <td>Cardiac &amp; Cardiovascular Systems; Respiratory ...</td>\n",
       "      <td>Science Citation Index Expanded (SCI-EXPANDED)</td>\n",
       "      <td>Cardiovascular System &amp; Cardiology; Respirator...</td>\n",
       "      <td>AA700</td>\n",
       "      <td>2786116.0</td>\n",
       "      <td>NaN</td>\n",
       "      <td>NaN</td>\n",
       "      <td>NaN</td>\n",
       "      <td>05/11/2023</td>\n",
       "      <td>WOS:A1989AA70000004</td>\n",
       "    </tr>\n",
       "    <tr>\n",
       "      <th>11636</th>\n",
       "      <td>J</td>\n",
       "      <td>BOLDT, J; VONBORMANN, B; KLING, D; BORNER, U; ...</td>\n",
       "      <td>NaN</td>\n",
       "      <td>NaN</td>\n",
       "      <td>NaN</td>\n",
       "      <td>BOLDT, J; VONBORMANN, B; KLING, D; BORNER, U; ...</td>\n",
       "      <td>NaN</td>\n",
       "      <td>NaN</td>\n",
       "      <td>RETRACTED: VOLUME REPLACEMENT WITH A NEW HYDRO...</td>\n",
       "      <td>INFUSIONSTHERAPIE UND KLINISCHE ERNAHRUNG</td>\n",
       "      <td>...</td>\n",
       "      <td>Medicine, General &amp; Internal</td>\n",
       "      <td>Science Citation Index Expanded (SCI-EXPANDED)</td>\n",
       "      <td>General &amp; Internal Medicine</td>\n",
       "      <td>D1812</td>\n",
       "      <td>2427448.0</td>\n",
       "      <td>NaN</td>\n",
       "      <td>NaN</td>\n",
       "      <td>NaN</td>\n",
       "      <td>05/11/2023</td>\n",
       "      <td>WOS:A1986D181200006</td>\n",
       "    </tr>\n",
       "    <tr>\n",
       "      <th>23516</th>\n",
       "      <td>J</td>\n",
       "      <td>GLUECK, CJ; MELLIES, MJ; DINE, M; PERRY, T; LA...</td>\n",
       "      <td>NaN</td>\n",
       "      <td>NaN</td>\n",
       "      <td>NaN</td>\n",
       "      <td>GLUECK, CJ; MELLIES, MJ; DINE, M; PERRY, T; LA...</td>\n",
       "      <td>NaN</td>\n",
       "      <td>NaN</td>\n",
       "      <td>RETRACTED: SAFETY AND EFFICACY OF LONG-TERM DI...</td>\n",
       "      <td>PEDIATRICS</td>\n",
       "      <td>...</td>\n",
       "      <td>Pediatrics</td>\n",
       "      <td>Science Citation Index Expanded (SCI-EXPANDED)</td>\n",
       "      <td>Pediatrics</td>\n",
       "      <td>D4187</td>\n",
       "      <td>3526270.0</td>\n",
       "      <td>NaN</td>\n",
       "      <td>NaN</td>\n",
       "      <td>NaN</td>\n",
       "      <td>05/11/2023</td>\n",
       "      <td>WOS:A1986D418700025</td>\n",
       "    </tr>\n",
       "    <tr>\n",
       "      <th>23517</th>\n",
       "      <td>J</td>\n",
       "      <td>BOLDT, J; VONBORMANN, B; KLING, D; BORNER, U; ...</td>\n",
       "      <td>NaN</td>\n",
       "      <td>NaN</td>\n",
       "      <td>NaN</td>\n",
       "      <td>BOLDT, J; VONBORMANN, B; KLING, D; BORNER, U; ...</td>\n",
       "      <td>NaN</td>\n",
       "      <td>NaN</td>\n",
       "      <td>RETRACTED: VOLUME REPLACEMENT WITH A NEW HYDRO...</td>\n",
       "      <td>INFUSIONSTHERAPIE UND KLINISCHE ERNAHRUNG</td>\n",
       "      <td>...</td>\n",
       "      <td>Medicine, General &amp; Internal</td>\n",
       "      <td>Science Citation Index Expanded (SCI-EXPANDED)</td>\n",
       "      <td>General &amp; Internal Medicine</td>\n",
       "      <td>D1812</td>\n",
       "      <td>2427448.0</td>\n",
       "      <td>NaN</td>\n",
       "      <td>NaN</td>\n",
       "      <td>NaN</td>\n",
       "      <td>05/11/2023</td>\n",
       "      <td>WOS:A1986D181200006</td>\n",
       "    </tr>\n",
       "    <tr>\n",
       "      <th>23067</th>\n",
       "      <td>J</td>\n",
       "      <td>NINNEMANN, JL</td>\n",
       "      <td>NaN</td>\n",
       "      <td>NaN</td>\n",
       "      <td>NaN</td>\n",
       "      <td>NINNEMANN, JL</td>\n",
       "      <td>NaN</td>\n",
       "      <td>NaN</td>\n",
       "      <td>RETRACTED: MELANOMA-ASSOCIATED IMMUNOSUPPRESSI...</td>\n",
       "      <td>JOURNAL OF IMMUNOLOGY</td>\n",
       "      <td>...</td>\n",
       "      <td>Immunology</td>\n",
       "      <td>Science Citation Index Expanded (SCI-EXPANDED)</td>\n",
       "      <td>Immunology</td>\n",
       "      <td>EZ986</td>\n",
       "      <td>307018.0</td>\n",
       "      <td>NaN</td>\n",
       "      <td>NaN</td>\n",
       "      <td>NaN</td>\n",
       "      <td>05/11/2023</td>\n",
       "      <td>WOS:A1978EZ98600022</td>\n",
       "    </tr>\n",
       "  </tbody>\n",
       "</table>\n",
       "<p>8885 rows × 71 columns</p>\n",
       "</div>"
      ],
      "text/plain": [
       "      Publication Type                                            Authors  \\\n",
       "13322                J           Sato, Y; Kanoko, T; Satoh, K; Iwamoto, J   \n",
       "19790                J           Sato, Y; Kanoko, T; Satoh, K; Iwamoto, J   \n",
       "13159                J           Sato, Y; Iwamoto, J; Kanoko, T; Satoh, K   \n",
       "19791                J           Sato, Y; Iwamoto, J; Kanoko, T; Satoh, K   \n",
       "8932                 J                        Fujii, Y; Tanaka, H; Ito, M   \n",
       "...                ...                                                ...   \n",
       "23556                J  BOLDT, J; KLING, D; VONBORMANN, B; ZUGE, M; SC...   \n",
       "11636                J  BOLDT, J; VONBORMANN, B; KLING, D; BORNER, U; ...   \n",
       "23516                J  GLUECK, CJ; MELLIES, MJ; DINE, M; PERRY, T; LA...   \n",
       "23517                J  BOLDT, J; VONBORMANN, B; KLING, D; BORNER, U; ...   \n",
       "23067                J                                      NINNEMANN, JL   \n",
       "\n",
       "      Book Authors Editors Book Group Authors  \\\n",
       "13322          NaN     NaN                NaN   \n",
       "19790          NaN     NaN                NaN   \n",
       "13159          NaN     NaN                NaN   \n",
       "19791          NaN     NaN                NaN   \n",
       "8932           NaN     NaN                NaN   \n",
       "...            ...     ...                ...   \n",
       "23556          NaN     NaN                NaN   \n",
       "11636          NaN     NaN                NaN   \n",
       "23516          NaN     NaN                NaN   \n",
       "23517          NaN     NaN                NaN   \n",
       "23067          NaN     NaN                NaN   \n",
       "\n",
       "                                        Author Full Name  \\\n",
       "13322           Sato, Y; Kanoko, T; Satoh, K; Iwamoto, J   \n",
       "19790           Sato, Y; Kanoko, T; Satoh, K; Iwamoto, J   \n",
       "13159           Sato, Y; Iwamoto, J; Kanoko, T; Satoh, K   \n",
       "19791           Sato, Y; Iwamoto, J; Kanoko, T; Satoh, K   \n",
       "8932                         Fujii, Y; Tanaka, H; Ito, M   \n",
       "...                                                  ...   \n",
       "23556  BOLDT, J; KLING, D; VONBORMANN, B; ZUGE, M; SC...   \n",
       "11636  BOLDT, J; VONBORMANN, B; KLING, D; BORNER, U; ...   \n",
       "23516  GLUECK, CJ; MELLIES, MJ; DINE, M; PERRY, T; LA...   \n",
       "23517  BOLDT, J; VONBORMANN, B; KLING, D; BORNER, U; ...   \n",
       "23067                                      NINNEMANN, JL   \n",
       "\n",
       "      Book Authors Full Name Group Authors  \\\n",
       "13322                    NaN           NaN   \n",
       "19790                    NaN           NaN   \n",
       "13159                    NaN           NaN   \n",
       "19791                    NaN           NaN   \n",
       "8932                     NaN           NaN   \n",
       "...                      ...           ...   \n",
       "23556                    NaN           NaN   \n",
       "11636                    NaN           NaN   \n",
       "23516                    NaN           NaN   \n",
       "23517                    NaN           NaN   \n",
       "23067                    NaN           NaN   \n",
       "\n",
       "                                          Document Title  \\\n",
       "13322  RETRACTED: The prevention of hip fracture with...   \n",
       "19790  RETRACTED: The prevention of hip fracture with...   \n",
       "13159  RETRACTED: Risedronate sodium therapy for prev...   \n",
       "19791  RETRACTED: Risedronate sodium therapy for prev...   \n",
       "8932   RETRACTED: A randomized clinical trial of a si...   \n",
       "...                                                  ...   \n",
       "23556  RETRACTED: BLOOD CONSERVATION IN CARDIAC OPERA...   \n",
       "11636  RETRACTED: VOLUME REPLACEMENT WITH A NEW HYDRO...   \n",
       "23516  RETRACTED: SAFETY AND EFFICACY OF LONG-TERM DI...   \n",
       "23517  RETRACTED: VOLUME REPLACEMENT WITH A NEW HYDRO...   \n",
       "23067  RETRACTED: MELANOMA-ASSOCIATED IMMUNOSUPPRESSI...   \n",
       "\n",
       "                                     Publication Name  ...  \\\n",
       "13322                   ARCHIVES OF INTERNAL MEDICINE  ...   \n",
       "19790                   ARCHIVES OF INTERNAL MEDICINE  ...   \n",
       "13159                   ARCHIVES OF INTERNAL MEDICINE  ...   \n",
       "19791                   ARCHIVES OF INTERNAL MEDICINE  ...   \n",
       "8932                        ARCHIVES OF OPHTHALMOLOGY  ...   \n",
       "...                                               ...  ...   \n",
       "23556  JOURNAL OF THORACIC AND CARDIOVASCULAR SURGERY  ...   \n",
       "11636       INFUSIONSTHERAPIE UND KLINISCHE ERNAHRUNG  ...   \n",
       "23516                                      PEDIATRICS  ...   \n",
       "23517       INFUSIONSTHERAPIE UND KLINISCHE ERNAHRUNG  ...   \n",
       "23067                           JOURNAL OF IMMUNOLOGY  ...   \n",
       "\n",
       "                               Web of Science Categories  \\\n",
       "13322                       Medicine, General & Internal   \n",
       "19790                       Medicine, General & Internal   \n",
       "13159                       Medicine, General & Internal   \n",
       "19791                       Medicine, General & Internal   \n",
       "8932                                       Ophthalmology   \n",
       "...                                                  ...   \n",
       "23556  Cardiac & Cardiovascular Systems; Respiratory ...   \n",
       "11636                       Medicine, General & Internal   \n",
       "23516                                         Pediatrics   \n",
       "23517                       Medicine, General & Internal   \n",
       "23067                                         Immunology   \n",
       "\n",
       "                                                   WE  \\\n",
       "13322  Science Citation Index Expanded (SCI-EXPANDED)   \n",
       "19790  Science Citation Index Expanded (SCI-EXPANDED)   \n",
       "13159  Science Citation Index Expanded (SCI-EXPANDED)   \n",
       "19791  Science Citation Index Expanded (SCI-EXPANDED)   \n",
       "8932   Science Citation Index Expanded (SCI-EXPANDED)   \n",
       "...                                               ...   \n",
       "23556  Science Citation Index Expanded (SCI-EXPANDED)   \n",
       "11636  Science Citation Index Expanded (SCI-EXPANDED)   \n",
       "23516  Science Citation Index Expanded (SCI-EXPANDED)   \n",
       "23517  Science Citation Index Expanded (SCI-EXPANDED)   \n",
       "23067  Science Citation Index Expanded (SCI-EXPANDED)   \n",
       "\n",
       "                                          Research Areas  \\\n",
       "13322                        General & Internal Medicine   \n",
       "19790                        General & Internal Medicine   \n",
       "13159                        General & Internal Medicine   \n",
       "19791                        General & Internal Medicine   \n",
       "8932                                       Ophthalmology   \n",
       "...                                                  ...   \n",
       "23556  Cardiovascular System & Cardiology; Respirator...   \n",
       "11636                        General & Internal Medicine   \n",
       "23516                                         Pediatrics   \n",
       "23517                        General & Internal Medicine   \n",
       "23067                                         Immunology   \n",
       "\n",
       "      Document Delivery Number   PubMed ID Open Access Indicator  \\\n",
       "13322                    952VW  16087821.0                   NaN   \n",
       "19790                    952VW  16087821.0                   NaN   \n",
       "13159                    952VW  16087822.0                   NaN   \n",
       "19791                    952VW  16087822.0                   NaN   \n",
       "8932                     886RL  15642807.0                   NaN   \n",
       "...                        ...         ...                   ...   \n",
       "23556                    AA700   2786116.0                   NaN   \n",
       "11636                    D1812   2427448.0                   NaN   \n",
       "23516                    D4187   3526270.0                   NaN   \n",
       "23517                    D1812   2427448.0                   NaN   \n",
       "23067                    EZ986    307018.0                   NaN   \n",
       "\n",
       "      ESI Highly Cited Paper ESI Hot Paper Date this report was generated  \\\n",
       "13322                    NaN           NaN                     05/11/2023   \n",
       "19790                    NaN           NaN                     05/11/2023   \n",
       "13159                    NaN           NaN                     05/11/2023   \n",
       "19791                    NaN           NaN                     05/11/2023   \n",
       "8932                     NaN           NaN                     05/11/2023   \n",
       "...                      ...           ...                            ...   \n",
       "23556                    NaN           NaN                     05/11/2023   \n",
       "11636                    NaN           NaN                     05/11/2023   \n",
       "23516                    NaN           NaN                     05/11/2023   \n",
       "23517                    NaN           NaN                     05/11/2023   \n",
       "23067                    NaN           NaN                     05/11/2023   \n",
       "\n",
       "          Accession Number  \n",
       "13322  WOS:000231034800010  \n",
       "19790  WOS:000231034800010  \n",
       "13159  WOS:000231034800011  \n",
       "19791  WOS:000231034800011  \n",
       "8932   WOS:000226245900002  \n",
       "...                    ...  \n",
       "23556  WOS:A1989AA70000004  \n",
       "11636  WOS:A1986D181200006  \n",
       "23516  WOS:A1986D418700025  \n",
       "23517  WOS:A1986D181200006  \n",
       "23067  WOS:A1978EZ98600022  \n",
       "\n",
       "[8885 rows x 71 columns]"
      ]
     },
     "execution_count": 30,
     "metadata": {},
     "output_type": "execute_result"
    }
   ],
   "source": [
    "retractions_data[retractions_data.duplicated(subset='Digital Object Identifier (DOI)', keep=False)]"
   ]
  },
  {
   "cell_type": "code",
   "execution_count": 31,
   "metadata": {},
   "outputs": [
    {
     "data": {
      "text/plain": [
       "Digital Object Identifier (DOI)\n",
       "10.1016/j.ijmedinf.2011.08.013     3\n",
       "10.1016/j.micpath.2020.104550      3\n",
       "10.1155/2018/4514329               3\n",
       "10.1016/j.neubiorev.2009.11.014    3\n",
       "10.1242/dev.146894                 3\n",
       "                                  ..\n",
       "10.1016/j.patcog.2010.11.017       2\n",
       "10.1016/j.pbb.2008.11.010          2\n",
       "10.1016/j.peptides.2016.06.003     2\n",
       "10.1016/j.pharep.2018.01.007       2\n",
       "10.7860/JCDR/2018/32666.11719      2\n",
       "Name: count, Length: 4000, dtype: int64"
      ]
     },
     "execution_count": 31,
     "metadata": {},
     "output_type": "execute_result"
    }
   ],
   "source": [
    "testing_dupes = retractions_data[retractions_data.duplicated(subset='Digital Object Identifier (DOI)', keep=False)]\n",
    "testing_dupes['Digital Object Identifier (DOI)'].value_counts()"
   ]
  },
  {
   "cell_type": "code",
   "execution_count": 194,
   "metadata": {},
   "outputs": [
    {
     "data": {
      "text/plain": [
       "Index(['Usage Count (Since 2013)', 'Volume', 'Beginning Page', 'Ending Page',\n",
       "       'Page Count', 'PubMed ID'],\n",
       "      dtype='object')"
      ]
     },
     "execution_count": 194,
     "metadata": {},
     "output_type": "execute_result"
    }
   ],
   "source": [
    "unique_counts = testing_dupes[testing_dupes['Digital Object Identifier (DOI)']=='10.1093/aje/kwq207'].nunique()\n",
    "unique_counts[unique_counts > 1].index"
   ]
  },
  {
   "cell_type": "code",
   "execution_count": 210,
   "metadata": {},
   "outputs": [
    {
     "name": "stdout",
     "output_type": "stream",
     "text": [
      "<class 'pandas.core.frame.DataFrame'>\n",
      "Index: 19630 entries, 13322 to 23067\n",
      "Data columns (total 71 columns):\n",
      " #   Column                                                   Non-Null Count  Dtype         \n",
      "---  ------                                                   --------------  -----         \n",
      " 0   Publication Type                                         19630 non-null  object        \n",
      " 1   Authors                                                  19627 non-null  object        \n",
      " 2   Book Authors                                             44 non-null     object        \n",
      " 3   Editors                                                  1291 non-null   object        \n",
      " 4   Book Group Authors                                       718 non-null    object        \n",
      " 5   Author Full Name                                         19627 non-null  object        \n",
      " 6   Book Authors Full Name                                   44 non-null     object        \n",
      " 7   Group Authors                                            65 non-null     object        \n",
      " 8   Document Title                                           19630 non-null  object        \n",
      " 9   Publication Name                                         19630 non-null  object        \n",
      " 10  Book Series Title                                        1305 non-null   object        \n",
      " 11  Book Series Subtitle                                     0 non-null      float64       \n",
      " 12  Language                                                 19630 non-null  object        \n",
      " 13  Document Type                                            19630 non-null  object        \n",
      " 14  Conference Title                                         2408 non-null   object        \n",
      " 15  Conference Date                                          2408 non-null   object        \n",
      " 16  Conference Location                                      2408 non-null   object        \n",
      " 17  Conference Sponsors                                      2114 non-null   object        \n",
      " 18  Conference Host                                          141 non-null    object        \n",
      " 19  Author Keywords                                          14035 non-null  object        \n",
      " 20  Keywords Plus                                            16334 non-null  object        \n",
      " 21  Abstract                                                 19016 non-null  object        \n",
      " 22  Author Address                                           19456 non-null  object        \n",
      " 23  C3                                                       17976 non-null  object        \n",
      " 24  Reprint Address                                          19283 non-null  object        \n",
      " 25  E-mail Address                                           18514 non-null  object        \n",
      " 26  ResearcherID Number                                      8541 non-null   object        \n",
      " 27  ORCID Identifier (Open Researcher and Contributor ID)    7368 non-null   object        \n",
      " 28  Funding Agency and Grant Number                          8495 non-null   object        \n",
      " 29  FP                                                       8470 non-null   object        \n",
      " 30  Funding Text                                             7762 non-null   object        \n",
      " 31  Cited References                                         19510 non-null  object        \n",
      " 32  Cited Reference Count                                    19630 non-null  int64         \n",
      " 33  Web of Science Core Collection Times Cited Count         19630 non-null  int64         \n",
      " 34  Total Times Cited Count                                  19630 non-null  int64         \n",
      " 35  Usage Count (Last 180 Days)                              19630 non-null  int64         \n",
      " 36  Usage Count (Since 2013)                                 19630 non-null  object        \n",
      " 37  Publisher                                                19630 non-null  object        \n",
      " 38  Publisher City                                           19630 non-null  object        \n",
      " 39  Publisher Address                                        19630 non-null  object        \n",
      " 40  International Standard Serial Number (ISSN)              17621 non-null  object        \n",
      " 41  Electronic International Standard Serial Number (eISSN)  14309 non-null  object        \n",
      " 42  International Standard Book Number (ISBN)                1259 non-null   object        \n",
      " 43  29-Character Source Abbreviation                         18868 non-null  object        \n",
      " 44  ISO Source Abbreviation                                  17563 non-null  object        \n",
      " 45  Publication Date                                         19630 non-null  datetime64[ns]\n",
      " 46  Year Published                                           19630 non-null  int64         \n",
      " 47  Volume                                                   18296 non-null  object        \n",
      " 48  Issue                                                    13704 non-null  object        \n",
      " 49  Part Number                                              404 non-null    object        \n",
      " 50  Supplement                                               208 non-null    object        \n",
      " 51  Special Issue                                            343 non-null    object        \n",
      " 52  Meeting Abstract                                         38 non-null     object        \n",
      " 53  Beginning Page                                           15962 non-null  object        \n",
      " 54  Ending Page                                              15960 non-null  object        \n",
      " 55  Article Number                                           3133 non-null   object        \n",
      " 56  Digital Object Identifier (DOI)                          18853 non-null  object        \n",
      " 57  DL                                                       18849 non-null  object        \n",
      " 58  Book Digital Object Identifier (DOI)                     2 non-null      object        \n",
      " 59  Early access date                                        1026 non-null   object        \n",
      " 60  Page Count                                               19630 non-null  object        \n",
      " 61  Web of Science Categories                                19630 non-null  object        \n",
      " 62  WE                                                       19630 non-null  object        \n",
      " 63  Research Areas                                           19630 non-null  object        \n",
      " 64  Document Delivery Number                                 19627 non-null  object        \n",
      " 65  PubMed ID                                                12519 non-null  object        \n",
      " 66  Open Access Indicator                                    9756 non-null   object        \n",
      " 67  ESI Highly Cited Paper                                   1 non-null      object        \n",
      " 68  ESI Hot Paper                                            5 non-null      object        \n",
      " 69  Date this report was generated                           19630 non-null  object        \n",
      " 70  Accession Number                                         19626 non-null  object        \n",
      "dtypes: datetime64[ns](1), float64(1), int64(5), object(64)\n",
      "memory usage: 10.8+ MB\n"
     ]
    }
   ],
   "source": [
    "retractions_data.info()"
   ]
  },
  {
   "cell_type": "code",
   "execution_count": 209,
   "metadata": {},
   "outputs": [
    {
     "data": {
      "text/plain": [
       "Index(['Document Title', 'Publication Name', 'Conference Title',\n",
       "       'Conference Date', 'Conference Location', 'Keywords Plus', 'Abstract',\n",
       "       'Author Address', 'C3', 'Reprint Address', 'Cited References',\n",
       "       'Cited Reference Count', 'Usage Count (Since 2013)',\n",
       "       'International Standard Book Number (ISBN)', 'Publication Date',\n",
       "       'Volume', 'Issue', 'Part Number', 'Supplement', 'Meeting Abstract',\n",
       "       'Beginning Page', 'Ending Page', 'Article Number', 'Early access date',\n",
       "       'Page Count', 'Web of Science Categories', 'Research Areas',\n",
       "       'Document Delivery Number', 'PubMed ID', 'Accession Number'],\n",
       "      dtype='object')"
      ]
     },
     "execution_count": 209,
     "metadata": {},
     "output_type": "execute_result"
    }
   ],
   "source": [
    "aux = testing_dupes.groupby('Digital Object Identifier (DOI)').nunique()\n",
    "aux.columns[aux.max() > 1]"
   ]
  },
  {
   "cell_type": "code",
   "execution_count": null,
   "metadata": {},
   "outputs": [],
   "source": [
    "columns_to_convert = ['Document Title', 'Publication Name', 'Conference Title',\n",
    "       'Conference Date', 'Conference Location', 'Keywords Plus', 'Abstract',\n",
    "       'Author Address', 'C3', 'Reprint Address', 'Cited References',\n",
    "       'Cited Reference Count', 'Usage Count (Since 2013)',\n",
    "       'International Standard Book Number (ISBN)', 'Publication Date',\n",
    "       'Volume', 'Issue', 'Part Number', 'Supplement', 'Meeting Abstract',\n",
    "       'Beginning Page', 'Ending Page', 'Article Number', 'Early access date',\n",
    "       'Page Count', 'Web of Science Categories', 'Research Areas',\n",
    "       'Document Delivery Number', 'PubMed ID', 'Accession Number']\n",
    "new_data_types = {'Document Title', 'Publication Name', 'Conference Title',\n",
    "       'Conference Date', 'Conference Location', 'Keywords Plus', 'Abstract',\n",
    "       'Author Address', 'C3', 'Reprint Address', 'Cited References',\n",
    "       'Cited Reference Count', 'Usage Count (Since 2013)': int64,\n",
    "       'International Standard Book Number (ISBN)', 'Publication Date',\n",
    "       'Volume' : int64, 'Issue', 'Part Number', 'Supplement', 'Meeting Abstract',\n",
    "       'Beginning Page': int64, 'Ending Page': int64, 'Article Number': int64, 'Early access date',\n",
    "       'Page Count': int64, 'Web of Science Categories', 'Research Areas',\n",
    "       'Document Delivery Number': int64, 'PubMed ID', 'Accession Number'}\n",
    "\n",
    "# Convert the specified columns to the new data types\n",
    "df[columns_to_convert] = df[columns_to_convert].astype(new_data_types)"
   ]
  },
  {
   "cell_type": "code",
   "execution_count": 196,
   "metadata": {},
   "outputs": [
    {
     "data": {
      "text/html": [
       "<div>\n",
       "<style scoped>\n",
       "    .dataframe tbody tr th:only-of-type {\n",
       "        vertical-align: middle;\n",
       "    }\n",
       "\n",
       "    .dataframe tbody tr th {\n",
       "        vertical-align: top;\n",
       "    }\n",
       "\n",
       "    .dataframe thead th {\n",
       "        text-align: right;\n",
       "    }\n",
       "</style>\n",
       "<table border=\"1\" class=\"dataframe\">\n",
       "  <thead>\n",
       "    <tr style=\"text-align: right;\">\n",
       "      <th></th>\n",
       "      <th>Usage Count (Since 2013)</th>\n",
       "      <th>Volume</th>\n",
       "      <th>Beginning Page</th>\n",
       "      <th>Ending Page</th>\n",
       "      <th>Page Count</th>\n",
       "      <th>PubMed ID</th>\n",
       "    </tr>\n",
       "  </thead>\n",
       "  <tbody>\n",
       "    <tr>\n",
       "      <th>6748</th>\n",
       "      <td>16</td>\n",
       "      <td>172.0</td>\n",
       "      <td>855</td>\n",
       "      <td>860</td>\n",
       "      <td>6</td>\n",
       "      <td>20696651.0</td>\n",
       "    </tr>\n",
       "    <tr>\n",
       "      <th>8928</th>\n",
       "      <td>16</td>\n",
       "      <td>172</td>\n",
       "      <td>855</td>\n",
       "      <td>860</td>\n",
       "      <td>6</td>\n",
       "      <td>20696651.0</td>\n",
       "    </tr>\n",
       "    <tr>\n",
       "      <th>18589</th>\n",
       "      <td>16</td>\n",
       "      <td>172.0</td>\n",
       "      <td>855</td>\n",
       "      <td>860</td>\n",
       "      <td>6</td>\n",
       "      <td>20696651.0</td>\n",
       "    </tr>\n",
       "    <tr>\n",
       "      <th>19903</th>\n",
       "      <td>16</td>\n",
       "      <td>172</td>\n",
       "      <td>855</td>\n",
       "      <td>860</td>\n",
       "      <td>6</td>\n",
       "      <td>20696651.0</td>\n",
       "    </tr>\n",
       "    <tr>\n",
       "      <th>23179</th>\n",
       "      <td>16</td>\n",
       "      <td>172.0</td>\n",
       "      <td>855.0</td>\n",
       "      <td>860.0</td>\n",
       "      <td>6</td>\n",
       "      <td>20696651.0</td>\n",
       "    </tr>\n",
       "  </tbody>\n",
       "</table>\n",
       "</div>"
      ],
      "text/plain": [
       "      Usage Count (Since 2013) Volume Beginning Page Ending Page Page Count  \\\n",
       "6748                        16  172.0            855         860          6   \n",
       "8928                        16    172            855         860          6   \n",
       "18589                       16  172.0            855         860          6   \n",
       "19903                       16    172            855         860          6   \n",
       "23179                       16  172.0          855.0       860.0          6   \n",
       "\n",
       "        PubMed ID  \n",
       "6748   20696651.0  \n",
       "8928   20696651.0  \n",
       "18589  20696651.0  \n",
       "19903  20696651.0  \n",
       "23179  20696651.0  "
      ]
     },
     "execution_count": 196,
     "metadata": {},
     "output_type": "execute_result"
    }
   ],
   "source": [
    "testing_dupes[testing_dupes['Digital Object Identifier (DOI)']=='10.1093/aje/kwq207'][['Usage Count (Since 2013)', 'Volume', 'Beginning Page', 'Ending Page',\n",
    "       'Page Count', 'PubMed ID']]"
   ]
  },
  {
   "cell_type": "code",
   "execution_count": 211,
   "metadata": {},
   "outputs": [
    {
     "data": {
      "text/html": [
       "<div>\n",
       "<style scoped>\n",
       "    .dataframe tbody tr th:only-of-type {\n",
       "        vertical-align: middle;\n",
       "    }\n",
       "\n",
       "    .dataframe tbody tr th {\n",
       "        vertical-align: top;\n",
       "    }\n",
       "\n",
       "    .dataframe thead th {\n",
       "        text-align: right;\n",
       "    }\n",
       "</style>\n",
       "<table border=\"1\" class=\"dataframe\">\n",
       "  <thead>\n",
       "    <tr style=\"text-align: right;\">\n",
       "      <th></th>\n",
       "      <th>Document Title</th>\n",
       "      <th>Publication Name</th>\n",
       "      <th>Conference Title</th>\n",
       "      <th>Conference Date</th>\n",
       "      <th>Conference Location</th>\n",
       "      <th>Keywords Plus</th>\n",
       "      <th>Abstract</th>\n",
       "      <th>Author Address</th>\n",
       "      <th>C3</th>\n",
       "      <th>Reprint Address</th>\n",
       "      <th>...</th>\n",
       "      <th>Beginning Page</th>\n",
       "      <th>Ending Page</th>\n",
       "      <th>Article Number</th>\n",
       "      <th>Early access date</th>\n",
       "      <th>Page Count</th>\n",
       "      <th>Web of Science Categories</th>\n",
       "      <th>Research Areas</th>\n",
       "      <th>Document Delivery Number</th>\n",
       "      <th>PubMed ID</th>\n",
       "      <th>Accession Number</th>\n",
       "    </tr>\n",
       "  </thead>\n",
       "  <tbody>\n",
       "    <tr>\n",
       "      <th>13322</th>\n",
       "      <td>RETRACTED: The prevention of hip fracture with...</td>\n",
       "      <td>ARCHIVES OF INTERNAL MEDICINE</td>\n",
       "      <td>NaN</td>\n",
       "      <td>NaN</td>\n",
       "      <td>NaN</td>\n",
       "      <td>VITAMIN-D; PSYCHIATRIC-ILLNESS; ETIDRONATE THE...</td>\n",
       "      <td>Background: A high incidence of fractures, par...</td>\n",
       "      <td>Mitate Hosp, Dept Neurol, Tagawa 8260041, Japa...</td>\n",
       "      <td>Hirosaki University; Hirosaki University; Keio...</td>\n",
       "      <td>Sato, Y (corresponding author), Mitate Hosp, D...</td>\n",
       "      <td>...</td>\n",
       "      <td>1737</td>\n",
       "      <td>1742</td>\n",
       "      <td>NaN</td>\n",
       "      <td>NaN</td>\n",
       "      <td>6</td>\n",
       "      <td>Medicine, General &amp; Internal</td>\n",
       "      <td>General &amp; Internal Medicine</td>\n",
       "      <td>952VW</td>\n",
       "      <td>16087821.0</td>\n",
       "      <td>WOS:000231034800010</td>\n",
       "    </tr>\n",
       "    <tr>\n",
       "      <th>19790</th>\n",
       "      <td>RETRACTED: The prevention of hip fracture with...</td>\n",
       "      <td>ARCHIVES OF INTERNAL MEDICINE</td>\n",
       "      <td>NaN</td>\n",
       "      <td>NaN</td>\n",
       "      <td>NaN</td>\n",
       "      <td>VITAMIN-D; PSYCHIATRIC-ILLNESS; ETIDRONATE THE...</td>\n",
       "      <td>Background: A high incidence of fractures, par...</td>\n",
       "      <td>Mitate Hosp, Dept Neurol, Tagawa 8260041, Japa...</td>\n",
       "      <td>Hirosaki University; Hirosaki University; Keio...</td>\n",
       "      <td>Sato, Y (corresponding author), Mitate Hosp, D...</td>\n",
       "      <td>...</td>\n",
       "      <td>1737</td>\n",
       "      <td>1742</td>\n",
       "      <td>NaN</td>\n",
       "      <td>NaN</td>\n",
       "      <td>6</td>\n",
       "      <td>Medicine, General &amp; Internal</td>\n",
       "      <td>General &amp; Internal Medicine</td>\n",
       "      <td>952VW</td>\n",
       "      <td>16087821.0</td>\n",
       "      <td>WOS:000231034800010</td>\n",
       "    </tr>\n",
       "    <tr>\n",
       "      <th>13159</th>\n",
       "      <td>RETRACTED: Risedronate sodium therapy for prev...</td>\n",
       "      <td>ARCHIVES OF INTERNAL MEDICINE</td>\n",
       "      <td>NaN</td>\n",
       "      <td>NaN</td>\n",
       "      <td>NaN</td>\n",
       "      <td>VITAMIN-D DEFICIENCY; ELDERLY-WOMEN; POSTMENOP...</td>\n",
       "      <td>Background: There is a high incidence of hip f...</td>\n",
       "      <td>Mitate Hosp, Dept Neurol, Tagawa 8260041, Japa...</td>\n",
       "      <td>Keio University; Hirosaki University; Hirosaki...</td>\n",
       "      <td>Sato, Y (corresponding author), Mitate Hosp, D...</td>\n",
       "      <td>...</td>\n",
       "      <td>1743</td>\n",
       "      <td>1748</td>\n",
       "      <td>NaN</td>\n",
       "      <td>NaN</td>\n",
       "      <td>6</td>\n",
       "      <td>Medicine, General &amp; Internal</td>\n",
       "      <td>General &amp; Internal Medicine</td>\n",
       "      <td>952VW</td>\n",
       "      <td>16087822.0</td>\n",
       "      <td>WOS:000231034800011</td>\n",
       "    </tr>\n",
       "    <tr>\n",
       "      <th>19791</th>\n",
       "      <td>RETRACTED: Risedronate sodium therapy for prev...</td>\n",
       "      <td>ARCHIVES OF INTERNAL MEDICINE</td>\n",
       "      <td>NaN</td>\n",
       "      <td>NaN</td>\n",
       "      <td>NaN</td>\n",
       "      <td>VITAMIN-D DEFICIENCY; ELDERLY-WOMEN; POSTMENOP...</td>\n",
       "      <td>Background: There is a high incidence of hip f...</td>\n",
       "      <td>Mitate Hosp, Dept Neurol, Tagawa 8260041, Japa...</td>\n",
       "      <td>Keio University; Hirosaki University; Hirosaki...</td>\n",
       "      <td>Sato, Y (corresponding author), Mitate Hosp, D...</td>\n",
       "      <td>...</td>\n",
       "      <td>1743</td>\n",
       "      <td>1748</td>\n",
       "      <td>NaN</td>\n",
       "      <td>NaN</td>\n",
       "      <td>6</td>\n",
       "      <td>Medicine, General &amp; Internal</td>\n",
       "      <td>General &amp; Internal Medicine</td>\n",
       "      <td>952VW</td>\n",
       "      <td>16087822.0</td>\n",
       "      <td>WOS:000231034800011</td>\n",
       "    </tr>\n",
       "    <tr>\n",
       "      <th>19758</th>\n",
       "      <td>RETRACTED: The relation between pulse pressure...</td>\n",
       "      <td>ARCHIVES OF INTERNAL MEDICINE</td>\n",
       "      <td>NaN</td>\n",
       "      <td>NaN</td>\n",
       "      <td>NaN</td>\n",
       "      <td>CORONARY-HEART-DISEASE; BLOOD-PRESSURE; RISK-F...</td>\n",
       "      <td>Background: Hypertension is a dominant charact...</td>\n",
       "      <td>Harokopio Univ, Dept Dieter &amp; Nutr, Athens, Gr...</td>\n",
       "      <td>Harokopio University Athens; Netherlands Natio...</td>\n",
       "      <td>Panagiotakos, DB (corresponding author), 46 Pa...</td>\n",
       "      <td>...</td>\n",
       "      <td>2142</td>\n",
       "      <td>2147</td>\n",
       "      <td>NaN</td>\n",
       "      <td>NaN</td>\n",
       "      <td>6</td>\n",
       "      <td>Medicine, General &amp; Internal</td>\n",
       "      <td>General &amp; Internal Medicine</td>\n",
       "      <td>974FN</td>\n",
       "      <td>16217005.0</td>\n",
       "      <td>WOS:000232576800013</td>\n",
       "    </tr>\n",
       "    <tr>\n",
       "      <th>...</th>\n",
       "      <td>...</td>\n",
       "      <td>...</td>\n",
       "      <td>...</td>\n",
       "      <td>...</td>\n",
       "      <td>...</td>\n",
       "      <td>...</td>\n",
       "      <td>...</td>\n",
       "      <td>...</td>\n",
       "      <td>...</td>\n",
       "      <td>...</td>\n",
       "      <td>...</td>\n",
       "      <td>...</td>\n",
       "      <td>...</td>\n",
       "      <td>...</td>\n",
       "      <td>...</td>\n",
       "      <td>...</td>\n",
       "      <td>...</td>\n",
       "      <td>...</td>\n",
       "      <td>...</td>\n",
       "      <td>...</td>\n",
       "      <td>...</td>\n",
       "    </tr>\n",
       "    <tr>\n",
       "      <th>23516</th>\n",
       "      <td>RETRACTED: SAFETY AND EFFICACY OF LONG-TERM DI...</td>\n",
       "      <td>PEDIATRICS</td>\n",
       "      <td>NaN</td>\n",
       "      <td>NaN</td>\n",
       "      <td>NaN</td>\n",
       "      <td>NaN</td>\n",
       "      <td>NaN</td>\n",
       "      <td>UNIV CINCINNATI, COLL MED, CTR LIPID RES, CINC...</td>\n",
       "      <td>University System of Ohio; University of Cinci...</td>\n",
       "      <td>NaN</td>\n",
       "      <td>...</td>\n",
       "      <td>338</td>\n",
       "      <td>348</td>\n",
       "      <td>NaN</td>\n",
       "      <td>NaN</td>\n",
       "      <td>11</td>\n",
       "      <td>Pediatrics</td>\n",
       "      <td>Pediatrics</td>\n",
       "      <td>D4187</td>\n",
       "      <td>3526270.0</td>\n",
       "      <td>WOS:A1986D418700025</td>\n",
       "    </tr>\n",
       "    <tr>\n",
       "      <th>23520</th>\n",
       "      <td>RETRACTED: SAFETY AND EFFICACY OF LONG-TERM DI...</td>\n",
       "      <td>PEDIATRICS</td>\n",
       "      <td>NaN</td>\n",
       "      <td>NaN</td>\n",
       "      <td>NaN</td>\n",
       "      <td>NaN</td>\n",
       "      <td>NaN</td>\n",
       "      <td>UNIV CINCINNATI, COLL MED, CTR LIPID RES, CINC...</td>\n",
       "      <td>University System of Ohio; University of Cinci...</td>\n",
       "      <td>NaN</td>\n",
       "      <td>...</td>\n",
       "      <td>338.0</td>\n",
       "      <td>348.0</td>\n",
       "      <td>NaN</td>\n",
       "      <td>NaN</td>\n",
       "      <td>11</td>\n",
       "      <td>Pediatrics</td>\n",
       "      <td>Pediatrics</td>\n",
       "      <td>D4187</td>\n",
       "      <td>3526270.0</td>\n",
       "      <td>WOS:A1986D418700025</td>\n",
       "    </tr>\n",
       "    <tr>\n",
       "      <th>11636</th>\n",
       "      <td>RETRACTED: VOLUME REPLACEMENT WITH A NEW HYDRO...</td>\n",
       "      <td>INFUSIONSTHERAPIE UND KLINISCHE ERNAHRUNG</td>\n",
       "      <td>NaN</td>\n",
       "      <td>NaN</td>\n",
       "      <td>NaN</td>\n",
       "      <td>NaN</td>\n",
       "      <td>NaN</td>\n",
       "      <td>UNIV GIESSEN, HERZ &amp; GEFASSCHIRURG KLIN, D-630...</td>\n",
       "      <td>Justus Liebig University Giessen</td>\n",
       "      <td>BOLDT, J (corresponding author), UNIV GIESSEN,...</td>\n",
       "      <td>...</td>\n",
       "      <td>145</td>\n",
       "      <td>151</td>\n",
       "      <td>NaN</td>\n",
       "      <td>NaN</td>\n",
       "      <td>7</td>\n",
       "      <td>Medicine, General &amp; Internal</td>\n",
       "      <td>General &amp; Internal Medicine</td>\n",
       "      <td>D1812</td>\n",
       "      <td>2427448.0</td>\n",
       "      <td>WOS:A1986D181200006</td>\n",
       "    </tr>\n",
       "    <tr>\n",
       "      <th>23517</th>\n",
       "      <td>RETRACTED: VOLUME REPLACEMENT WITH A NEW HYDRO...</td>\n",
       "      <td>INFUSIONSTHERAPIE UND KLINISCHE ERNAHRUNG</td>\n",
       "      <td>NaN</td>\n",
       "      <td>NaN</td>\n",
       "      <td>NaN</td>\n",
       "      <td>NaN</td>\n",
       "      <td>NaN</td>\n",
       "      <td>UNIV GIESSEN, HERZ &amp; GEFASSCHIRURG KLIN, D-630...</td>\n",
       "      <td>Justus Liebig University Giessen</td>\n",
       "      <td>BOLDT, J (corresponding author), UNIV GIESSEN,...</td>\n",
       "      <td>...</td>\n",
       "      <td>145</td>\n",
       "      <td>151</td>\n",
       "      <td>NaN</td>\n",
       "      <td>NaN</td>\n",
       "      <td>7</td>\n",
       "      <td>Medicine, General &amp; Internal</td>\n",
       "      <td>General &amp; Internal Medicine</td>\n",
       "      <td>D1812</td>\n",
       "      <td>2427448.0</td>\n",
       "      <td>WOS:A1986D181200006</td>\n",
       "    </tr>\n",
       "    <tr>\n",
       "      <th>23067</th>\n",
       "      <td>RETRACTED: MELANOMA-ASSOCIATED IMMUNOSUPPRESSI...</td>\n",
       "      <td>JOURNAL OF IMMUNOLOGY</td>\n",
       "      <td>NaN</td>\n",
       "      <td>NaN</td>\n",
       "      <td>NaN</td>\n",
       "      <td>NaN</td>\n",
       "      <td>NaN</td>\n",
       "      <td>NaN</td>\n",
       "      <td>NaN</td>\n",
       "      <td>NINNEMANN, JL (corresponding author), UNIV CAL...</td>\n",
       "      <td>...</td>\n",
       "      <td>1573</td>\n",
       "      <td>1579</td>\n",
       "      <td>NaN</td>\n",
       "      <td>NaN</td>\n",
       "      <td>7</td>\n",
       "      <td>Immunology</td>\n",
       "      <td>Immunology</td>\n",
       "      <td>EZ986</td>\n",
       "      <td>307018.0</td>\n",
       "      <td>WOS:A1978EZ98600022</td>\n",
       "    </tr>\n",
       "  </tbody>\n",
       "</table>\n",
       "<p>19630 rows × 30 columns</p>\n",
       "</div>"
      ],
      "text/plain": [
       "                                          Document Title  \\\n",
       "13322  RETRACTED: The prevention of hip fracture with...   \n",
       "19790  RETRACTED: The prevention of hip fracture with...   \n",
       "13159  RETRACTED: Risedronate sodium therapy for prev...   \n",
       "19791  RETRACTED: Risedronate sodium therapy for prev...   \n",
       "19758  RETRACTED: The relation between pulse pressure...   \n",
       "...                                                  ...   \n",
       "23516  RETRACTED: SAFETY AND EFFICACY OF LONG-TERM DI...   \n",
       "23520  RETRACTED: SAFETY AND EFFICACY OF LONG-TERM DI...   \n",
       "11636  RETRACTED: VOLUME REPLACEMENT WITH A NEW HYDRO...   \n",
       "23517  RETRACTED: VOLUME REPLACEMENT WITH A NEW HYDRO...   \n",
       "23067  RETRACTED: MELANOMA-ASSOCIATED IMMUNOSUPPRESSI...   \n",
       "\n",
       "                                Publication Name Conference Title  \\\n",
       "13322              ARCHIVES OF INTERNAL MEDICINE              NaN   \n",
       "19790              ARCHIVES OF INTERNAL MEDICINE              NaN   \n",
       "13159              ARCHIVES OF INTERNAL MEDICINE              NaN   \n",
       "19791              ARCHIVES OF INTERNAL MEDICINE              NaN   \n",
       "19758              ARCHIVES OF INTERNAL MEDICINE              NaN   \n",
       "...                                          ...              ...   \n",
       "23516                                 PEDIATRICS              NaN   \n",
       "23520                                 PEDIATRICS              NaN   \n",
       "11636  INFUSIONSTHERAPIE UND KLINISCHE ERNAHRUNG              NaN   \n",
       "23517  INFUSIONSTHERAPIE UND KLINISCHE ERNAHRUNG              NaN   \n",
       "23067                      JOURNAL OF IMMUNOLOGY              NaN   \n",
       "\n",
       "      Conference Date Conference Location  \\\n",
       "13322             NaN                 NaN   \n",
       "19790             NaN                 NaN   \n",
       "13159             NaN                 NaN   \n",
       "19791             NaN                 NaN   \n",
       "19758             NaN                 NaN   \n",
       "...               ...                 ...   \n",
       "23516             NaN                 NaN   \n",
       "23520             NaN                 NaN   \n",
       "11636             NaN                 NaN   \n",
       "23517             NaN                 NaN   \n",
       "23067             NaN                 NaN   \n",
       "\n",
       "                                           Keywords Plus  \\\n",
       "13322  VITAMIN-D; PSYCHIATRIC-ILLNESS; ETIDRONATE THE...   \n",
       "19790  VITAMIN-D; PSYCHIATRIC-ILLNESS; ETIDRONATE THE...   \n",
       "13159  VITAMIN-D DEFICIENCY; ELDERLY-WOMEN; POSTMENOP...   \n",
       "19791  VITAMIN-D DEFICIENCY; ELDERLY-WOMEN; POSTMENOP...   \n",
       "19758  CORONARY-HEART-DISEASE; BLOOD-PRESSURE; RISK-F...   \n",
       "...                                                  ...   \n",
       "23516                                                NaN   \n",
       "23520                                                NaN   \n",
       "11636                                                NaN   \n",
       "23517                                                NaN   \n",
       "23067                                                NaN   \n",
       "\n",
       "                                                Abstract  \\\n",
       "13322  Background: A high incidence of fractures, par...   \n",
       "19790  Background: A high incidence of fractures, par...   \n",
       "13159  Background: There is a high incidence of hip f...   \n",
       "19791  Background: There is a high incidence of hip f...   \n",
       "19758  Background: Hypertension is a dominant charact...   \n",
       "...                                                  ...   \n",
       "23516                                                NaN   \n",
       "23520                                                NaN   \n",
       "11636                                                NaN   \n",
       "23517                                                NaN   \n",
       "23067                                                NaN   \n",
       "\n",
       "                                          Author Address  \\\n",
       "13322  Mitate Hosp, Dept Neurol, Tagawa 8260041, Japa...   \n",
       "19790  Mitate Hosp, Dept Neurol, Tagawa 8260041, Japa...   \n",
       "13159  Mitate Hosp, Dept Neurol, Tagawa 8260041, Japa...   \n",
       "19791  Mitate Hosp, Dept Neurol, Tagawa 8260041, Japa...   \n",
       "19758  Harokopio Univ, Dept Dieter & Nutr, Athens, Gr...   \n",
       "...                                                  ...   \n",
       "23516  UNIV CINCINNATI, COLL MED, CTR LIPID RES, CINC...   \n",
       "23520  UNIV CINCINNATI, COLL MED, CTR LIPID RES, CINC...   \n",
       "11636  UNIV GIESSEN, HERZ & GEFASSCHIRURG KLIN, D-630...   \n",
       "23517  UNIV GIESSEN, HERZ & GEFASSCHIRURG KLIN, D-630...   \n",
       "23067                                                NaN   \n",
       "\n",
       "                                                      C3  \\\n",
       "13322  Hirosaki University; Hirosaki University; Keio...   \n",
       "19790  Hirosaki University; Hirosaki University; Keio...   \n",
       "13159  Keio University; Hirosaki University; Hirosaki...   \n",
       "19791  Keio University; Hirosaki University; Hirosaki...   \n",
       "19758  Harokopio University Athens; Netherlands Natio...   \n",
       "...                                                  ...   \n",
       "23516  University System of Ohio; University of Cinci...   \n",
       "23520  University System of Ohio; University of Cinci...   \n",
       "11636                   Justus Liebig University Giessen   \n",
       "23517                   Justus Liebig University Giessen   \n",
       "23067                                                NaN   \n",
       "\n",
       "                                         Reprint Address  ... Beginning Page  \\\n",
       "13322  Sato, Y (corresponding author), Mitate Hosp, D...  ...           1737   \n",
       "19790  Sato, Y (corresponding author), Mitate Hosp, D...  ...           1737   \n",
       "13159  Sato, Y (corresponding author), Mitate Hosp, D...  ...           1743   \n",
       "19791  Sato, Y (corresponding author), Mitate Hosp, D...  ...           1743   \n",
       "19758  Panagiotakos, DB (corresponding author), 46 Pa...  ...           2142   \n",
       "...                                                  ...  ...            ...   \n",
       "23516                                                NaN  ...            338   \n",
       "23520                                                NaN  ...          338.0   \n",
       "11636  BOLDT, J (corresponding author), UNIV GIESSEN,...  ...            145   \n",
       "23517  BOLDT, J (corresponding author), UNIV GIESSEN,...  ...            145   \n",
       "23067  NINNEMANN, JL (corresponding author), UNIV CAL...  ...           1573   \n",
       "\n",
       "       Ending Page Article Number Early access date Page Count  \\\n",
       "13322         1742            NaN               NaN          6   \n",
       "19790         1742            NaN               NaN          6   \n",
       "13159         1748            NaN               NaN          6   \n",
       "19791         1748            NaN               NaN          6   \n",
       "19758         2147            NaN               NaN          6   \n",
       "...            ...            ...               ...        ...   \n",
       "23516          348            NaN               NaN         11   \n",
       "23520        348.0            NaN               NaN         11   \n",
       "11636          151            NaN               NaN          7   \n",
       "23517          151            NaN               NaN          7   \n",
       "23067         1579            NaN               NaN          7   \n",
       "\n",
       "          Web of Science Categories               Research Areas  \\\n",
       "13322  Medicine, General & Internal  General & Internal Medicine   \n",
       "19790  Medicine, General & Internal  General & Internal Medicine   \n",
       "13159  Medicine, General & Internal  General & Internal Medicine   \n",
       "19791  Medicine, General & Internal  General & Internal Medicine   \n",
       "19758  Medicine, General & Internal  General & Internal Medicine   \n",
       "...                             ...                          ...   \n",
       "23516                    Pediatrics                   Pediatrics   \n",
       "23520                    Pediatrics                   Pediatrics   \n",
       "11636  Medicine, General & Internal  General & Internal Medicine   \n",
       "23517  Medicine, General & Internal  General & Internal Medicine   \n",
       "23067                    Immunology                   Immunology   \n",
       "\n",
       "      Document Delivery Number   PubMed ID     Accession Number  \n",
       "13322                    952VW  16087821.0  WOS:000231034800010  \n",
       "19790                    952VW  16087821.0  WOS:000231034800010  \n",
       "13159                    952VW  16087822.0  WOS:000231034800011  \n",
       "19791                    952VW  16087822.0  WOS:000231034800011  \n",
       "19758                    974FN  16217005.0  WOS:000232576800013  \n",
       "...                        ...         ...                  ...  \n",
       "23516                    D4187   3526270.0  WOS:A1986D418700025  \n",
       "23520                    D4187   3526270.0  WOS:A1986D418700025  \n",
       "11636                    D1812   2427448.0  WOS:A1986D181200006  \n",
       "23517                    D1812   2427448.0  WOS:A1986D181200006  \n",
       "23067                    EZ986    307018.0  WOS:A1978EZ98600022  \n",
       "\n",
       "[19630 rows x 30 columns]"
      ]
     },
     "execution_count": 211,
     "metadata": {},
     "output_type": "execute_result"
    }
   ],
   "source": [
    "retractions_data[['Document Title', 'Publication Name', 'Conference Title',\n",
    "       'Conference Date', 'Conference Location', 'Keywords Plus', 'Abstract',\n",
    "       'Author Address', 'C3', 'Reprint Address', 'Cited References',\n",
    "       'Cited Reference Count', 'Usage Count (Since 2013)',\n",
    "       'International Standard Book Number (ISBN)', 'Publication Date',\n",
    "       'Volume', 'Issue', 'Part Number', 'Supplement', 'Meeting Abstract',\n",
    "       'Beginning Page', 'Ending Page', 'Article Number', 'Early access date',\n",
    "       'Page Count', 'Web of Science Categories', 'Research Areas',\n",
    "       'Document Delivery Number', 'PubMed ID', 'Accession Number']]"
   ]
  },
  {
   "cell_type": "code",
   "execution_count": 189,
   "metadata": {},
   "outputs": [
    {
     "name": "stdout",
     "output_type": "stream",
     "text": [
      "<class 'pandas.core.frame.DataFrame'>\n",
      "Index: 12999 entries, 13322 to 23067\n",
      "Data columns (total 71 columns):\n",
      " #   Column                                                   Non-Null Count  Dtype         \n",
      "---  ------                                                   --------------  -----         \n",
      " 0   Publication Type                                         12999 non-null  object        \n",
      " 1   Authors                                                  12997 non-null  object        \n",
      " 2   Book Authors                                             35 non-null     object        \n",
      " 3   Editors                                                  147 non-null    object        \n",
      " 4   Book Group Authors                                       62 non-null     object        \n",
      " 5   Author Full Name                                         12997 non-null  object        \n",
      " 6   Book Authors Full Name                                   35 non-null     object        \n",
      " 7   Group Authors                                            56 non-null     object        \n",
      " 8   Document Title                                           12999 non-null  object        \n",
      " 9   Publication Name                                         12999 non-null  object        \n",
      " 10  Book Series Title                                        205 non-null    object        \n",
      " 11  Book Series Subtitle                                     0 non-null      float64       \n",
      " 12  Language                                                 12999 non-null  object        \n",
      " 13  Document Type                                            12999 non-null  object        \n",
      " 14  Conference Title                                         542 non-null    object        \n",
      " 15  Conference Date                                          542 non-null    object        \n",
      " 16  Conference Location                                      542 non-null    object        \n",
      " 17  Conference Sponsors                                      403 non-null    object        \n",
      " 18  Conference Host                                          59 non-null     object        \n",
      " 19  Author Keywords                                          8861 non-null   object        \n",
      " 20  Keywords Plus                                            11755 non-null  object        \n",
      " 21  Abstract                                                 12549 non-null  object        \n",
      " 22  Author Address                                           12871 non-null  object        \n",
      " 23  C3                                                       11975 non-null  object        \n",
      " 24  Reprint Address                                          12784 non-null  object        \n",
      " 25  E-mail Address                                           12197 non-null  object        \n",
      " 26  ResearcherID Number                                      6051 non-null   object        \n",
      " 27  ORCID Identifier (Open Researcher and Contributor ID)    5318 non-null   object        \n",
      " 28  Funding Agency and Grant Number                          6048 non-null   object        \n",
      " 29  FP                                                       6031 non-null   object        \n",
      " 30  Funding Text                                             5404 non-null   object        \n",
      " 31  Cited References                                         12933 non-null  object        \n",
      " 32  Cited Reference Count                                    12999 non-null  int64         \n",
      " 33  Web of Science Core Collection Times Cited Count         12999 non-null  int64         \n",
      " 34  Total Times Cited Count                                  12999 non-null  int64         \n",
      " 35  Usage Count (Last 180 Days)                              12999 non-null  int64         \n",
      " 36  Usage Count (Since 2013)                                 12999 non-null  object        \n",
      " 37  Publisher                                                12999 non-null  object        \n",
      " 38  Publisher City                                           12999 non-null  object        \n",
      " 39  Publisher Address                                        12999 non-null  object        \n",
      " 40  International Standard Serial Number (ISSN)              12087 non-null  object        \n",
      " 41  Electronic International Standard Serial Number (eISSN)  10361 non-null  object        \n",
      " 42  International Standard Book Number (ISBN)                175 non-null    object        \n",
      " 43  29-Character Source Abbreviation                         12960 non-null  object        \n",
      " 44  ISO Source Abbreviation                                  12755 non-null  object        \n",
      " 45  Publication Date                                         12999 non-null  datetime64[ns]\n",
      " 46  Year Published                                           12999 non-null  int64         \n",
      " 47  Volume                                                   12808 non-null  object        \n",
      " 48  Issue                                                    10349 non-null  object        \n",
      " 49  Part Number                                              308 non-null    object        \n",
      " 50  Supplement                                               142 non-null    object        \n",
      " 51  Special Issue                                            225 non-null    object        \n",
      " 52  Meeting Abstract                                         22 non-null     object        \n",
      " 53  Beginning Page                                           11425 non-null  object        \n",
      " 54  Ending Page                                              11423 non-null  object        \n",
      " 55  Article Number                                           1626 non-null   object        \n",
      " 56  Digital Object Identifier (DOI)                          12222 non-null  object        \n",
      " 57  DL                                                       12220 non-null  object        \n",
      " 58  Book Digital Object Identifier (DOI)                     0 non-null      object        \n",
      " 59  Early access date                                        465 non-null    object        \n",
      " 60  Page Count                                               12999 non-null  object        \n",
      " 61  Web of Science Categories                                12999 non-null  object        \n",
      " 62  WE                                                       12999 non-null  object        \n",
      " 63  Research Areas                                           12999 non-null  object        \n",
      " 64  Document Delivery Number                                 12997 non-null  object        \n",
      " 65  PubMed ID                                                9676 non-null   object        \n",
      " 66  Open Access Indicator                                    6660 non-null   object        \n",
      " 67  ESI Highly Cited Paper                                   0 non-null      object        \n",
      " 68  ESI Hot Paper                                            2 non-null      object        \n",
      " 69  Date this report was generated                           12999 non-null  object        \n",
      " 70  Accession Number                                         12997 non-null  object        \n",
      "dtypes: datetime64[ns](1), float64(1), int64(5), object(64)\n",
      "memory usage: 7.1+ MB\n"
     ]
    }
   ],
   "source": [
    "testing_dupes.info()"
   ]
  },
  {
   "cell_type": "code",
   "execution_count": 190,
   "metadata": {},
   "outputs": [
    {
     "data": {
      "text/html": [
       "<div>\n",
       "<style scoped>\n",
       "    .dataframe tbody tr th:only-of-type {\n",
       "        vertical-align: middle;\n",
       "    }\n",
       "\n",
       "    .dataframe tbody tr th {\n",
       "        vertical-align: top;\n",
       "    }\n",
       "\n",
       "    .dataframe thead th {\n",
       "        text-align: right;\n",
       "    }\n",
       "</style>\n",
       "<table border=\"1\" class=\"dataframe\">\n",
       "  <thead>\n",
       "    <tr style=\"text-align: right;\">\n",
       "      <th></th>\n",
       "      <th>Record ID</th>\n",
       "      <th>Title</th>\n",
       "      <th>Subject</th>\n",
       "      <th>Institution</th>\n",
       "      <th>Journal</th>\n",
       "      <th>Publisher_x</th>\n",
       "      <th>Country</th>\n",
       "      <th>Author</th>\n",
       "      <th>URLS</th>\n",
       "      <th>ArticleType</th>\n",
       "      <th>...</th>\n",
       "      <th>Web of Science Categories</th>\n",
       "      <th>WE</th>\n",
       "      <th>Research Areas</th>\n",
       "      <th>Document Delivery Number</th>\n",
       "      <th>PubMed ID</th>\n",
       "      <th>Open Access Indicator</th>\n",
       "      <th>ESI Highly Cited Paper</th>\n",
       "      <th>ESI Hot Paper</th>\n",
       "      <th>Date this report was generated</th>\n",
       "      <th>Accession Number</th>\n",
       "    </tr>\n",
       "  </thead>\n",
       "  <tbody>\n",
       "    <tr>\n",
       "      <th>0</th>\n",
       "      <td>5729</td>\n",
       "      <td>The prevention of hip fracture with risedronat...</td>\n",
       "      <td>(HSC) Medicine - Geriatric;(HSC) Medicine - Ne...</td>\n",
       "      <td>Department of Neurology, Mitate Hospital, Taga...</td>\n",
       "      <td>Archives of Internal Medicine</td>\n",
       "      <td>JAMA Network</td>\n",
       "      <td>Japan</td>\n",
       "      <td>Yoshihiro Sato;Tomohiro Kanoko;Kei Satoh;Jun I...</td>\n",
       "      <td>http://retractionwatch.com/2016/06/03/jama-jou...</td>\n",
       "      <td>Clinical Study;Research Article;</td>\n",
       "      <td>...</td>\n",
       "      <td>Medicine, General &amp; Internal</td>\n",
       "      <td>Science Citation Index Expanded (SCI-EXPANDED)</td>\n",
       "      <td>General &amp; Internal Medicine</td>\n",
       "      <td>952VW</td>\n",
       "      <td>16087821.0</td>\n",
       "      <td>NaN</td>\n",
       "      <td>NaN</td>\n",
       "      <td>NaN</td>\n",
       "      <td>2023-11-05</td>\n",
       "      <td>WOS:000231034800010</td>\n",
       "    </tr>\n",
       "    <tr>\n",
       "      <th>1</th>\n",
       "      <td>5728</td>\n",
       "      <td>Risedronate sodium therapy for prevention of h...</td>\n",
       "      <td>(HSC) Medicine - Neurology;(HSC) Medicine - Re...</td>\n",
       "      <td>Department of Neurology, Mitate Hospital, Taga...</td>\n",
       "      <td>Archives of Internal Medicine</td>\n",
       "      <td>JAMA Network</td>\n",
       "      <td>Japan</td>\n",
       "      <td>Yoshihiro Sato;Jun Iwamoto;Tomohiro Kanoko</td>\n",
       "      <td>http://retractionwatch.com/2016/06/03/jama-jou...</td>\n",
       "      <td>Research Article;</td>\n",
       "      <td>...</td>\n",
       "      <td>Medicine, General &amp; Internal</td>\n",
       "      <td>Science Citation Index Expanded (SCI-EXPANDED)</td>\n",
       "      <td>General &amp; Internal Medicine</td>\n",
       "      <td>952VW</td>\n",
       "      <td>16087822.0</td>\n",
       "      <td>NaN</td>\n",
       "      <td>NaN</td>\n",
       "      <td>NaN</td>\n",
       "      <td>2023-11-05</td>\n",
       "      <td>WOS:000231034800011</td>\n",
       "    </tr>\n",
       "    <tr>\n",
       "      <th>2</th>\n",
       "      <td>895</td>\n",
       "      <td>The Relation Between Pulse Pressure and Cardio...</td>\n",
       "      <td>(HSC) Biostatistics/Epidemiology;(HSC) Medicin...</td>\n",
       "      <td>Department of Dietetics and Nutrition, Harokop...</td>\n",
       "      <td>JAMA Internal Medicine</td>\n",
       "      <td>JAMA Network</td>\n",
       "      <td>Finland;Greece;Italy;Japan;Netherlands;Serbia;...</td>\n",
       "      <td>Demosthenes B Panagiotakos;Daan Kromhout;Aless...</td>\n",
       "      <td>NaN</td>\n",
       "      <td>Research Article;</td>\n",
       "      <td>...</td>\n",
       "      <td>Medicine, General &amp; Internal</td>\n",
       "      <td>Science Citation Index Expanded (SCI-EXPANDED)</td>\n",
       "      <td>General &amp; Internal Medicine</td>\n",
       "      <td>974FN</td>\n",
       "      <td>16217005.0</td>\n",
       "      <td>NaN</td>\n",
       "      <td>NaN</td>\n",
       "      <td>NaN</td>\n",
       "      <td>2023-11-05</td>\n",
       "      <td>WOS:000232576800013</td>\n",
       "    </tr>\n",
       "    <tr>\n",
       "      <th>3</th>\n",
       "      <td>938</td>\n",
       "      <td>A Randomized Clinical Trial of a Single Dose o...</td>\n",
       "      <td>(HSC) Medicine - Ophthalmology;(HSC) Medicine ...</td>\n",
       "      <td>Department of Anesthesiology, Toride Kyodo Gen...</td>\n",
       "      <td>JAMA Ophthalmology</td>\n",
       "      <td>American Medical Association</td>\n",
       "      <td>Japan</td>\n",
       "      <td>Yoshitaka Fujii;Hiroyoshi Tanaka;Mutsuko Ito</td>\n",
       "      <td>http://retractionwatch.com/2012/06/18/three-mo...</td>\n",
       "      <td>Clinical Study;</td>\n",
       "      <td>...</td>\n",
       "      <td>Ophthalmology</td>\n",
       "      <td>Science Citation Index Expanded (SCI-EXPANDED)</td>\n",
       "      <td>Ophthalmology</td>\n",
       "      <td>886RL</td>\n",
       "      <td>15642807.0</td>\n",
       "      <td>NaN</td>\n",
       "      <td>NaN</td>\n",
       "      <td>NaN</td>\n",
       "      <td>2023-11-05</td>\n",
       "      <td>WOS:000226245900002</td>\n",
       "    </tr>\n",
       "    <tr>\n",
       "      <th>4</th>\n",
       "      <td>14089</td>\n",
       "      <td>Can Branding Improve School Lunches?</td>\n",
       "      <td>(B/T) Business - Marketing;(BLS) Nutrition;(SO...</td>\n",
       "      <td>Charles H. Dyson School of Applied Economics a...</td>\n",
       "      <td>JAMA Pediatrics</td>\n",
       "      <td>JAMA Network</td>\n",
       "      <td>United States</td>\n",
       "      <td>Brian Wansink;David R Just;Collin R Payne</td>\n",
       "      <td>http://retractionwatch.com/?s=brian+wansink;ht...</td>\n",
       "      <td>Letter;Research Article;Retracted Article;</td>\n",
       "      <td>...</td>\n",
       "      <td>Pediatrics</td>\n",
       "      <td>Science Citation Index Expanded (SCI-EXPANDED)</td>\n",
       "      <td>Pediatrics</td>\n",
       "      <td>014ZL</td>\n",
       "      <td>22911396.0</td>\n",
       "      <td>NaN</td>\n",
       "      <td>NaN</td>\n",
       "      <td>NaN</td>\n",
       "      <td>2023-11-05</td>\n",
       "      <td>WOS:000309414400018</td>\n",
       "    </tr>\n",
       "    <tr>\n",
       "      <th>...</th>\n",
       "      <td>...</td>\n",
       "      <td>...</td>\n",
       "      <td>...</td>\n",
       "      <td>...</td>\n",
       "      <td>...</td>\n",
       "      <td>...</td>\n",
       "      <td>...</td>\n",
       "      <td>...</td>\n",
       "      <td>...</td>\n",
       "      <td>...</td>\n",
       "      <td>...</td>\n",
       "      <td>...</td>\n",
       "      <td>...</td>\n",
       "      <td>...</td>\n",
       "      <td>...</td>\n",
       "      <td>...</td>\n",
       "      <td>...</td>\n",
       "      <td>...</td>\n",
       "      <td>...</td>\n",
       "      <td>...</td>\n",
       "      <td>...</td>\n",
       "    </tr>\n",
       "    <tr>\n",
       "      <th>9704</th>\n",
       "      <td>37586</td>\n",
       "      <td>Birth Weight Predicts Anthropometric and Body ...</td>\n",
       "      <td>(HSC) Medicine - General;</td>\n",
       "      <td>Medicine Department, The Royal Hospital, Musca...</td>\n",
       "      <td>Journal of Obesity &amp; Metabolic Syndrome (JOMES)</td>\n",
       "      <td>Korean Society for the Study of Obesity</td>\n",
       "      <td>Oman;United Arab Emirates</td>\n",
       "      <td>Issa Al Salmi;Suad Hannawi</td>\n",
       "      <td>NaN</td>\n",
       "      <td>Research Article;</td>\n",
       "      <td>...</td>\n",
       "      <td>Endocrinology &amp; Metabolism</td>\n",
       "      <td>Emerging Sources Citation Index (ESCI)</td>\n",
       "      <td>Endocrinology &amp; Metabolism</td>\n",
       "      <td>WR7JE</td>\n",
       "      <td>34446614.0</td>\n",
       "      <td>Green Published, gold</td>\n",
       "      <td>NaN</td>\n",
       "      <td>NaN</td>\n",
       "      <td>2023-11-05</td>\n",
       "      <td>WOS:000714671900010</td>\n",
       "    </tr>\n",
       "    <tr>\n",
       "      <th>9705</th>\n",
       "      <td>21244</td>\n",
       "      <td>The seasonal reproduction number of dengue fev...</td>\n",
       "      <td>(ENV) Climatology;(HSC) Biostatistics/Epidemio...</td>\n",
       "      <td>Department of Mathematics, Faculty of Science,...</td>\n",
       "      <td>PeerJ</td>\n",
       "      <td>PeerJ</td>\n",
       "      <td>Thailand</td>\n",
       "      <td>Sittisede Polwiang</td>\n",
       "      <td>NaN</td>\n",
       "      <td>Research Article;</td>\n",
       "      <td>...</td>\n",
       "      <td>Multidisciplinary Sciences</td>\n",
       "      <td>Science Citation Index Expanded (SCI-EXPANDED)</td>\n",
       "      <td>Science &amp; Technology - Other Topics</td>\n",
       "      <td>CN8KV</td>\n",
       "      <td>26213648.0</td>\n",
       "      <td>Green Submitted, Green Published, gold</td>\n",
       "      <td>NaN</td>\n",
       "      <td>NaN</td>\n",
       "      <td>2023-11-05</td>\n",
       "      <td>WOS:000358690200002</td>\n",
       "    </tr>\n",
       "    <tr>\n",
       "      <th>9706</th>\n",
       "      <td>18340</td>\n",
       "      <td>Evaluation of Impact of Pregnancy on Oral Heal...</td>\n",
       "      <td>(HSC) Medicine - Dentistry;(HSC) Medicine - Ob...</td>\n",
       "      <td>Department of Public Health Dentistry, Governm...</td>\n",
       "      <td>Journal of Clinical and Diagnostic Research (J...</td>\n",
       "      <td>JCDR Research and Publications Limited</td>\n",
       "      <td>India;Nepal;Pakistan</td>\n",
       "      <td>Aasim Farooq Shah;Manu Batra;Ambrina Qureshi</td>\n",
       "      <td>NaN</td>\n",
       "      <td>Research Article;</td>\n",
       "      <td>...</td>\n",
       "      <td>Medicine, General &amp; Internal</td>\n",
       "      <td>Emerging Sources Citation Index (ESCI)</td>\n",
       "      <td>General &amp; Internal Medicine</td>\n",
       "      <td>FA1IY</td>\n",
       "      <td>28658896.0</td>\n",
       "      <td>Green Published, gold</td>\n",
       "      <td>NaN</td>\n",
       "      <td>NaN</td>\n",
       "      <td>2023-11-05</td>\n",
       "      <td>WOS:000405194100123</td>\n",
       "    </tr>\n",
       "    <tr>\n",
       "      <th>9707</th>\n",
       "      <td>30813</td>\n",
       "      <td>Correlation Curve Correction and Spinal Length...</td>\n",
       "      <td>(HSC) Biostatistics/Epidemiology;(HSC) Medicin...</td>\n",
       "      <td>Department of Orthopaedic, Bone and Joint Reco...</td>\n",
       "      <td>Journal of Clinical and Diagnostic Research (J...</td>\n",
       "      <td>JCDR Research and Publications Limited</td>\n",
       "      <td>Iran</td>\n",
       "      <td>Hasan Ghandhari;Mir Bahram Safari;Ebrahim Amer...</td>\n",
       "      <td>NaN</td>\n",
       "      <td>Clinical Study;</td>\n",
       "      <td>...</td>\n",
       "      <td>Medicine, General &amp; Internal</td>\n",
       "      <td>Emerging Sources Citation Index (ESCI)</td>\n",
       "      <td>General &amp; Internal Medicine</td>\n",
       "      <td>FV2VD</td>\n",
       "      <td>NaN</td>\n",
       "      <td>gold</td>\n",
       "      <td>NaN</td>\n",
       "      <td>NaN</td>\n",
       "      <td>2023-11-05</td>\n",
       "      <td>WOS:000424425200031</td>\n",
       "    </tr>\n",
       "    <tr>\n",
       "      <th>9708</th>\n",
       "      <td>8591</td>\n",
       "      <td>CD117 immunohistochemical expression correlate...</td>\n",
       "      <td>(BLS) Biochemistry;(HSC) Medicine - Immunology...</td>\n",
       "      <td>Surgical oncology, Instituto Nacional de Cance...</td>\n",
       "      <td>Iranian Journal of Pathology</td>\n",
       "      <td>Iranian Society of Pathology</td>\n",
       "      <td>Mexico</td>\n",
       "      <td>Rosa A Salcedo-HernÃ¡ndez;Leonardo S Lino-Silv...</td>\n",
       "      <td>NaN</td>\n",
       "      <td>Article in Press;Research Article;</td>\n",
       "      <td>...</td>\n",
       "      <td>Agronomy</td>\n",
       "      <td>Emerging Sources Citation Index (ESCI)</td>\n",
       "      <td>Agriculture</td>\n",
       "      <td>2Q3JO</td>\n",
       "      <td>NaN</td>\n",
       "      <td>NaN</td>\n",
       "      <td>NaN</td>\n",
       "      <td>NaN</td>\n",
       "      <td>2023-11-05</td>\n",
       "      <td>WOS:000820323400054</td>\n",
       "    </tr>\n",
       "  </tbody>\n",
       "</table>\n",
       "<p>9709 rows × 91 columns</p>\n",
       "</div>"
      ],
      "text/plain": [
       "      Record ID                                              Title  \\\n",
       "0          5729  The prevention of hip fracture with risedronat...   \n",
       "1          5728  Risedronate sodium therapy for prevention of h...   \n",
       "2           895  The Relation Between Pulse Pressure and Cardio...   \n",
       "3           938  A Randomized Clinical Trial of a Single Dose o...   \n",
       "4         14089               Can Branding Improve School Lunches?   \n",
       "...         ...                                                ...   \n",
       "9704      37586  Birth Weight Predicts Anthropometric and Body ...   \n",
       "9705      21244  The seasonal reproduction number of dengue fev...   \n",
       "9706      18340  Evaluation of Impact of Pregnancy on Oral Heal...   \n",
       "9707      30813  Correlation Curve Correction and Spinal Length...   \n",
       "9708       8591  CD117 immunohistochemical expression correlate...   \n",
       "\n",
       "                                                Subject  \\\n",
       "0     (HSC) Medicine - Geriatric;(HSC) Medicine - Ne...   \n",
       "1     (HSC) Medicine - Neurology;(HSC) Medicine - Re...   \n",
       "2     (HSC) Biostatistics/Epidemiology;(HSC) Medicin...   \n",
       "3     (HSC) Medicine - Ophthalmology;(HSC) Medicine ...   \n",
       "4     (B/T) Business - Marketing;(BLS) Nutrition;(SO...   \n",
       "...                                                 ...   \n",
       "9704                          (HSC) Medicine - General;   \n",
       "9705  (ENV) Climatology;(HSC) Biostatistics/Epidemio...   \n",
       "9706  (HSC) Medicine - Dentistry;(HSC) Medicine - Ob...   \n",
       "9707  (HSC) Biostatistics/Epidemiology;(HSC) Medicin...   \n",
       "9708  (BLS) Biochemistry;(HSC) Medicine - Immunology...   \n",
       "\n",
       "                                            Institution  \\\n",
       "0     Department of Neurology, Mitate Hospital, Taga...   \n",
       "1     Department of Neurology, Mitate Hospital, Taga...   \n",
       "2     Department of Dietetics and Nutrition, Harokop...   \n",
       "3     Department of Anesthesiology, Toride Kyodo Gen...   \n",
       "4     Charles H. Dyson School of Applied Economics a...   \n",
       "...                                                 ...   \n",
       "9704  Medicine Department, The Royal Hospital, Musca...   \n",
       "9705  Department of Mathematics, Faculty of Science,...   \n",
       "9706  Department of Public Health Dentistry, Governm...   \n",
       "9707  Department of Orthopaedic, Bone and Joint Reco...   \n",
       "9708  Surgical oncology, Instituto Nacional de Cance...   \n",
       "\n",
       "                                                Journal  \\\n",
       "0                         Archives of Internal Medicine   \n",
       "1                         Archives of Internal Medicine   \n",
       "2                                JAMA Internal Medicine   \n",
       "3                                    JAMA Ophthalmology   \n",
       "4                                       JAMA Pediatrics   \n",
       "...                                                 ...   \n",
       "9704    Journal of Obesity & Metabolic Syndrome (JOMES)   \n",
       "9705                                              PeerJ   \n",
       "9706  Journal of Clinical and Diagnostic Research (J...   \n",
       "9707  Journal of Clinical and Diagnostic Research (J...   \n",
       "9708                       Iranian Journal of Pathology   \n",
       "\n",
       "                                  Publisher_x  \\\n",
       "0                                JAMA Network   \n",
       "1                                JAMA Network   \n",
       "2                                JAMA Network   \n",
       "3                American Medical Association   \n",
       "4                                JAMA Network   \n",
       "...                                       ...   \n",
       "9704  Korean Society for the Study of Obesity   \n",
       "9705                                    PeerJ   \n",
       "9706   JCDR Research and Publications Limited   \n",
       "9707   JCDR Research and Publications Limited   \n",
       "9708             Iranian Society of Pathology   \n",
       "\n",
       "                                                Country  \\\n",
       "0                                                 Japan   \n",
       "1                                                 Japan   \n",
       "2     Finland;Greece;Italy;Japan;Netherlands;Serbia;...   \n",
       "3                                                 Japan   \n",
       "4                                         United States   \n",
       "...                                                 ...   \n",
       "9704                          Oman;United Arab Emirates   \n",
       "9705                                           Thailand   \n",
       "9706                               India;Nepal;Pakistan   \n",
       "9707                                               Iran   \n",
       "9708                                             Mexico   \n",
       "\n",
       "                                                 Author  \\\n",
       "0     Yoshihiro Sato;Tomohiro Kanoko;Kei Satoh;Jun I...   \n",
       "1            Yoshihiro Sato;Jun Iwamoto;Tomohiro Kanoko   \n",
       "2     Demosthenes B Panagiotakos;Daan Kromhout;Aless...   \n",
       "3          Yoshitaka Fujii;Hiroyoshi Tanaka;Mutsuko Ito   \n",
       "4             Brian Wansink;David R Just;Collin R Payne   \n",
       "...                                                 ...   \n",
       "9704                         Issa Al Salmi;Suad Hannawi   \n",
       "9705                                 Sittisede Polwiang   \n",
       "9706       Aasim Farooq Shah;Manu Batra;Ambrina Qureshi   \n",
       "9707  Hasan Ghandhari;Mir Bahram Safari;Ebrahim Amer...   \n",
       "9708  Rosa A Salcedo-HernÃ¡ndez;Leonardo S Lino-Silv...   \n",
       "\n",
       "                                                   URLS  \\\n",
       "0     http://retractionwatch.com/2016/06/03/jama-jou...   \n",
       "1     http://retractionwatch.com/2016/06/03/jama-jou...   \n",
       "2                                                   NaN   \n",
       "3     http://retractionwatch.com/2012/06/18/three-mo...   \n",
       "4     http://retractionwatch.com/?s=brian+wansink;ht...   \n",
       "...                                                 ...   \n",
       "9704                                                NaN   \n",
       "9705                                                NaN   \n",
       "9706                                                NaN   \n",
       "9707                                                NaN   \n",
       "9708                                                NaN   \n",
       "\n",
       "                                     ArticleType  ...  \\\n",
       "0               Clinical Study;Research Article;  ...   \n",
       "1                              Research Article;  ...   \n",
       "2                              Research Article;  ...   \n",
       "3                                Clinical Study;  ...   \n",
       "4     Letter;Research Article;Retracted Article;  ...   \n",
       "...                                          ...  ...   \n",
       "9704                           Research Article;  ...   \n",
       "9705                           Research Article;  ...   \n",
       "9706                           Research Article;  ...   \n",
       "9707                             Clinical Study;  ...   \n",
       "9708          Article in Press;Research Article;  ...   \n",
       "\n",
       "         Web of Science Categories  \\\n",
       "0     Medicine, General & Internal   \n",
       "1     Medicine, General & Internal   \n",
       "2     Medicine, General & Internal   \n",
       "3                    Ophthalmology   \n",
       "4                       Pediatrics   \n",
       "...                            ...   \n",
       "9704    Endocrinology & Metabolism   \n",
       "9705    Multidisciplinary Sciences   \n",
       "9706  Medicine, General & Internal   \n",
       "9707  Medicine, General & Internal   \n",
       "9708                      Agronomy   \n",
       "\n",
       "                                                  WE  \\\n",
       "0     Science Citation Index Expanded (SCI-EXPANDED)   \n",
       "1     Science Citation Index Expanded (SCI-EXPANDED)   \n",
       "2     Science Citation Index Expanded (SCI-EXPANDED)   \n",
       "3     Science Citation Index Expanded (SCI-EXPANDED)   \n",
       "4     Science Citation Index Expanded (SCI-EXPANDED)   \n",
       "...                                              ...   \n",
       "9704          Emerging Sources Citation Index (ESCI)   \n",
       "9705  Science Citation Index Expanded (SCI-EXPANDED)   \n",
       "9706          Emerging Sources Citation Index (ESCI)   \n",
       "9707          Emerging Sources Citation Index (ESCI)   \n",
       "9708          Emerging Sources Citation Index (ESCI)   \n",
       "\n",
       "                           Research Areas Document Delivery Number  \\\n",
       "0             General & Internal Medicine                    952VW   \n",
       "1             General & Internal Medicine                    952VW   \n",
       "2             General & Internal Medicine                    974FN   \n",
       "3                           Ophthalmology                    886RL   \n",
       "4                              Pediatrics                    014ZL   \n",
       "...                                   ...                      ...   \n",
       "9704           Endocrinology & Metabolism                    WR7JE   \n",
       "9705  Science & Technology - Other Topics                    CN8KV   \n",
       "9706          General & Internal Medicine                    FA1IY   \n",
       "9707          General & Internal Medicine                    FV2VD   \n",
       "9708                          Agriculture                    2Q3JO   \n",
       "\n",
       "       PubMed ID                   Open Access Indicator  \\\n",
       "0     16087821.0                                     NaN   \n",
       "1     16087822.0                                     NaN   \n",
       "2     16217005.0                                     NaN   \n",
       "3     15642807.0                                     NaN   \n",
       "4     22911396.0                                     NaN   \n",
       "...          ...                                     ...   \n",
       "9704  34446614.0                   Green Published, gold   \n",
       "9705  26213648.0  Green Submitted, Green Published, gold   \n",
       "9706  28658896.0                   Green Published, gold   \n",
       "9707         NaN                                    gold   \n",
       "9708         NaN                                     NaN   \n",
       "\n",
       "     ESI Highly Cited Paper ESI Hot Paper Date this report was generated  \\\n",
       "0                       NaN           NaN                     2023-11-05   \n",
       "1                       NaN           NaN                     2023-11-05   \n",
       "2                       NaN           NaN                     2023-11-05   \n",
       "3                       NaN           NaN                     2023-11-05   \n",
       "4                       NaN           NaN                     2023-11-05   \n",
       "...                     ...           ...                            ...   \n",
       "9704                    NaN           NaN                     2023-11-05   \n",
       "9705                    NaN           NaN                     2023-11-05   \n",
       "9706                    NaN           NaN                     2023-11-05   \n",
       "9707                    NaN           NaN                     2023-11-05   \n",
       "9708                    NaN           NaN                     2023-11-05   \n",
       "\n",
       "         Accession Number  \n",
       "0     WOS:000231034800010  \n",
       "1     WOS:000231034800011  \n",
       "2     WOS:000232576800013  \n",
       "3     WOS:000226245900002  \n",
       "4     WOS:000309414400018  \n",
       "...                   ...  \n",
       "9704  WOS:000714671900010  \n",
       "9705  WOS:000358690200002  \n",
       "9706  WOS:000405194100123  \n",
       "9707  WOS:000424425200031  \n",
       "9708  WOS:000820323400054  \n",
       "\n",
       "[9709 rows x 91 columns]"
      ]
     },
     "execution_count": 190,
     "metadata": {},
     "output_type": "execute_result"
    }
   ],
   "source": [
    "test = filtered_rw.merge(filtered_wos, how= 'inner', left_on= 'OriginalPaperDOI', right_on= 'Digital Object Identifier (DOI)')\n",
    "test"
   ]
  },
  {
   "cell_type": "code",
   "execution_count": 130,
   "metadata": {},
   "outputs": [
    {
     "data": {
      "text/html": [
       "<div>\n",
       "<style scoped>\n",
       "    .dataframe tbody tr th:only-of-type {\n",
       "        vertical-align: middle;\n",
       "    }\n",
       "\n",
       "    .dataframe tbody tr th {\n",
       "        vertical-align: top;\n",
       "    }\n",
       "\n",
       "    .dataframe thead th {\n",
       "        text-align: right;\n",
       "    }\n",
       "</style>\n",
       "<table border=\"1\" class=\"dataframe\">\n",
       "  <thead>\n",
       "    <tr style=\"text-align: right;\">\n",
       "      <th></th>\n",
       "      <th>Record ID</th>\n",
       "      <th>Title</th>\n",
       "      <th>Subject</th>\n",
       "      <th>Institution</th>\n",
       "      <th>Journal</th>\n",
       "      <th>Publisher_x</th>\n",
       "      <th>Country</th>\n",
       "      <th>Author</th>\n",
       "      <th>URLS</th>\n",
       "      <th>ArticleType</th>\n",
       "      <th>...</th>\n",
       "      <th>Web of Science Categories</th>\n",
       "      <th>WE</th>\n",
       "      <th>Research Areas</th>\n",
       "      <th>Document Delivery Number</th>\n",
       "      <th>PubMed ID</th>\n",
       "      <th>Open Access Indicator</th>\n",
       "      <th>ESI Highly Cited Paper</th>\n",
       "      <th>ESI Hot Paper</th>\n",
       "      <th>Date this report was generated</th>\n",
       "      <th>Accession Number</th>\n",
       "    </tr>\n",
       "  </thead>\n",
       "  <tbody>\n",
       "    <tr>\n",
       "      <th>0</th>\n",
       "      <td>985</td>\n",
       "      <td>Early Depth Assessment of Local Burns by Dermo...</td>\n",
       "      <td>(HSC) Biostatistics/Epidemiology;(HSC) Medicin...</td>\n",
       "      <td>Burns Unit, Department of Dermatology, Nagasak...</td>\n",
       "      <td>Archives of Dermatology</td>\n",
       "      <td>JAMA Network</td>\n",
       "      <td>Japan</td>\n",
       "      <td>Kyomi Mihara;Hajime Shindo;Hiroya Mihara;Minak...</td>\n",
       "      <td>NaN</td>\n",
       "      <td>Research Article;</td>\n",
       "      <td>...</td>\n",
       "      <td>NaN</td>\n",
       "      <td>NaN</td>\n",
       "      <td>NaN</td>\n",
       "      <td>NaN</td>\n",
       "      <td>NaN</td>\n",
       "      <td>NaN</td>\n",
       "      <td>NaN</td>\n",
       "      <td>NaN</td>\n",
       "      <td>NaN</td>\n",
       "      <td>NaN</td>\n",
       "    </tr>\n",
       "    <tr>\n",
       "      <th>1</th>\n",
       "      <td>5729</td>\n",
       "      <td>The prevention of hip fracture with risedronat...</td>\n",
       "      <td>(HSC) Medicine - Geriatric;(HSC) Medicine - Ne...</td>\n",
       "      <td>Department of Neurology, Mitate Hospital, Taga...</td>\n",
       "      <td>Archives of Internal Medicine</td>\n",
       "      <td>JAMA Network</td>\n",
       "      <td>Japan</td>\n",
       "      <td>Yoshihiro Sato;Tomohiro Kanoko;Kei Satoh;Jun I...</td>\n",
       "      <td>http://retractionwatch.com/2016/06/03/jama-jou...</td>\n",
       "      <td>Clinical Study;Research Article;</td>\n",
       "      <td>...</td>\n",
       "      <td>NaN</td>\n",
       "      <td>NaN</td>\n",
       "      <td>NaN</td>\n",
       "      <td>NaN</td>\n",
       "      <td>NaN</td>\n",
       "      <td>NaN</td>\n",
       "      <td>NaN</td>\n",
       "      <td>NaN</td>\n",
       "      <td>NaN</td>\n",
       "      <td>NaN</td>\n",
       "    </tr>\n",
       "    <tr>\n",
       "      <th>2</th>\n",
       "      <td>5728</td>\n",
       "      <td>Risedronate sodium therapy for prevention of h...</td>\n",
       "      <td>(HSC) Medicine - Neurology;(HSC) Medicine - Re...</td>\n",
       "      <td>Department of Neurology, Mitate Hospital, Taga...</td>\n",
       "      <td>Archives of Internal Medicine</td>\n",
       "      <td>JAMA Network</td>\n",
       "      <td>Japan</td>\n",
       "      <td>Yoshihiro Sato;Jun Iwamoto;Tomohiro Kanoko</td>\n",
       "      <td>http://retractionwatch.com/2016/06/03/jama-jou...</td>\n",
       "      <td>Research Article;</td>\n",
       "      <td>...</td>\n",
       "      <td>NaN</td>\n",
       "      <td>NaN</td>\n",
       "      <td>NaN</td>\n",
       "      <td>NaN</td>\n",
       "      <td>NaN</td>\n",
       "      <td>NaN</td>\n",
       "      <td>NaN</td>\n",
       "      <td>NaN</td>\n",
       "      <td>NaN</td>\n",
       "      <td>NaN</td>\n",
       "    </tr>\n",
       "    <tr>\n",
       "      <th>3</th>\n",
       "      <td>895</td>\n",
       "      <td>The Relation Between Pulse Pressure and Cardio...</td>\n",
       "      <td>(HSC) Biostatistics/Epidemiology;(HSC) Medicin...</td>\n",
       "      <td>Department of Dietetics and Nutrition, Harokop...</td>\n",
       "      <td>JAMA Internal Medicine</td>\n",
       "      <td>JAMA Network</td>\n",
       "      <td>Finland;Greece;Italy;Japan;Netherlands;Serbia;...</td>\n",
       "      <td>Demosthenes B Panagiotakos;Daan Kromhout;Aless...</td>\n",
       "      <td>NaN</td>\n",
       "      <td>Research Article;</td>\n",
       "      <td>...</td>\n",
       "      <td>NaN</td>\n",
       "      <td>NaN</td>\n",
       "      <td>NaN</td>\n",
       "      <td>NaN</td>\n",
       "      <td>NaN</td>\n",
       "      <td>NaN</td>\n",
       "      <td>NaN</td>\n",
       "      <td>NaN</td>\n",
       "      <td>NaN</td>\n",
       "      <td>NaN</td>\n",
       "    </tr>\n",
       "    <tr>\n",
       "      <th>4</th>\n",
       "      <td>19230</td>\n",
       "      <td>First Foods Most: After 18-Hour Fast, People D...</td>\n",
       "      <td>(BLS) Nutrition;(SOC) Psychology;</td>\n",
       "      <td>Dyson School of Applied Economics and Manageme...</td>\n",
       "      <td>JAMA Internal Medicine</td>\n",
       "      <td>American Medical Association</td>\n",
       "      <td>United States</td>\n",
       "      <td>Brian Wansink;Aner Tal;Mitsuru Shimizu</td>\n",
       "      <td>http://retractionwatch.com/2018/04/13/caught-o...</td>\n",
       "      <td>Letter;Research Article;</td>\n",
       "      <td>...</td>\n",
       "      <td>NaN</td>\n",
       "      <td>NaN</td>\n",
       "      <td>NaN</td>\n",
       "      <td>NaN</td>\n",
       "      <td>NaN</td>\n",
       "      <td>NaN</td>\n",
       "      <td>NaN</td>\n",
       "      <td>NaN</td>\n",
       "      <td>NaN</td>\n",
       "      <td>NaN</td>\n",
       "    </tr>\n",
       "    <tr>\n",
       "      <th>...</th>\n",
       "      <td>...</td>\n",
       "      <td>...</td>\n",
       "      <td>...</td>\n",
       "      <td>...</td>\n",
       "      <td>...</td>\n",
       "      <td>...</td>\n",
       "      <td>...</td>\n",
       "      <td>...</td>\n",
       "      <td>...</td>\n",
       "      <td>...</td>\n",
       "      <td>...</td>\n",
       "      <td>...</td>\n",
       "      <td>...</td>\n",
       "      <td>...</td>\n",
       "      <td>...</td>\n",
       "      <td>...</td>\n",
       "      <td>...</td>\n",
       "      <td>...</td>\n",
       "      <td>...</td>\n",
       "      <td>...</td>\n",
       "      <td>...</td>\n",
       "    </tr>\n",
       "    <tr>\n",
       "      <th>42695</th>\n",
       "      <td>4781</td>\n",
       "      <td>Thallium pulmonary scintigraphy. Relationship ...</td>\n",
       "      <td>(HSC) Medicine - Cardiology;(HSC) Medicine - P...</td>\n",
       "      <td>Department of Radiology, University of Califor...</td>\n",
       "      <td>Investigative Radiology</td>\n",
       "      <td>Wolters Kluwer</td>\n",
       "      <td>United States</td>\n",
       "      <td>Robert A Slutsky</td>\n",
       "      <td>http://retractionwatch.com/the-retraction-watc...</td>\n",
       "      <td>Research Article;</td>\n",
       "      <td>...</td>\n",
       "      <td>NaN</td>\n",
       "      <td>NaN</td>\n",
       "      <td>NaN</td>\n",
       "      <td>NaN</td>\n",
       "      <td>NaN</td>\n",
       "      <td>NaN</td>\n",
       "      <td>NaN</td>\n",
       "      <td>NaN</td>\n",
       "      <td>NaN</td>\n",
       "      <td>NaN</td>\n",
       "    </tr>\n",
       "    <tr>\n",
       "      <th>42696</th>\n",
       "      <td>4780</td>\n",
       "      <td>Phenylephrine stress in the evaluation of pati...</td>\n",
       "      <td>(HSC) Medicine - Cardiology;(HSC) Medicine - P...</td>\n",
       "      <td>Department of Radiology, University of Califor...</td>\n",
       "      <td>Investigative Radiology</td>\n",
       "      <td>Wolters Kluwer</td>\n",
       "      <td>United States</td>\n",
       "      <td>Robert A Slutsky</td>\n",
       "      <td>http://retractionwatch.com/the-retraction-watc...</td>\n",
       "      <td>Research Article;</td>\n",
       "      <td>...</td>\n",
       "      <td>NaN</td>\n",
       "      <td>NaN</td>\n",
       "      <td>NaN</td>\n",
       "      <td>NaN</td>\n",
       "      <td>NaN</td>\n",
       "      <td>NaN</td>\n",
       "      <td>NaN</td>\n",
       "      <td>NaN</td>\n",
       "      <td>NaN</td>\n",
       "      <td>NaN</td>\n",
       "    </tr>\n",
       "    <tr>\n",
       "      <th>42697</th>\n",
       "      <td>4249</td>\n",
       "      <td>Concurrent measurement of plasma levels of vit...</td>\n",
       "      <td>(HSC) Medicine - Cardiovascular;(HSC) Medicine...</td>\n",
       "      <td>Endocrinology-Mineral Metabolism and Nephrolog...</td>\n",
       "      <td>Translational Research: The Journal of Laborat...</td>\n",
       "      <td>Elsevier</td>\n",
       "      <td>United States</td>\n",
       "      <td>PW Lambert;PB DeOreo;BW Hollis;IY Fu;DJ Ginsbe...</td>\n",
       "      <td>NaN</td>\n",
       "      <td>Research Article;</td>\n",
       "      <td>...</td>\n",
       "      <td>NaN</td>\n",
       "      <td>NaN</td>\n",
       "      <td>NaN</td>\n",
       "      <td>NaN</td>\n",
       "      <td>NaN</td>\n",
       "      <td>NaN</td>\n",
       "      <td>NaN</td>\n",
       "      <td>NaN</td>\n",
       "      <td>NaN</td>\n",
       "      <td>NaN</td>\n",
       "    </tr>\n",
       "    <tr>\n",
       "      <th>42698</th>\n",
       "      <td>1494</td>\n",
       "      <td>Specific antigen exclusion and non-specific fa...</td>\n",
       "      <td>(BLS) Biology - Molecular;</td>\n",
       "      <td>Department of Immunology, Institute of Child H...</td>\n",
       "      <td>Clinical and Experimental Immunology</td>\n",
       "      <td>Blackwell Publishing</td>\n",
       "      <td>United Kingdom</td>\n",
       "      <td>S A Roberts;M C Reinhardt;R Paganelli;R J Levi...</td>\n",
       "      <td>NaN</td>\n",
       "      <td>Research Article;</td>\n",
       "      <td>...</td>\n",
       "      <td>NaN</td>\n",
       "      <td>NaN</td>\n",
       "      <td>NaN</td>\n",
       "      <td>NaN</td>\n",
       "      <td>NaN</td>\n",
       "      <td>NaN</td>\n",
       "      <td>NaN</td>\n",
       "      <td>NaN</td>\n",
       "      <td>NaN</td>\n",
       "      <td>NaN</td>\n",
       "    </tr>\n",
       "    <tr>\n",
       "      <th>42699</th>\n",
       "      <td>10433</td>\n",
       "      <td>Change of Venue and the Conflict of Laws</td>\n",
       "      <td>(SOC) Law/Legal Issues;</td>\n",
       "      <td>University of Chicago;</td>\n",
       "      <td>The University of Chicago Law Review</td>\n",
       "      <td>University of Chicago Law School</td>\n",
       "      <td>United States</td>\n",
       "      <td>Brainerd Currie</td>\n",
       "      <td>NaN</td>\n",
       "      <td>Research Article;</td>\n",
       "      <td>...</td>\n",
       "      <td>NaN</td>\n",
       "      <td>NaN</td>\n",
       "      <td>NaN</td>\n",
       "      <td>NaN</td>\n",
       "      <td>NaN</td>\n",
       "      <td>NaN</td>\n",
       "      <td>NaN</td>\n",
       "      <td>NaN</td>\n",
       "      <td>NaN</td>\n",
       "      <td>NaN</td>\n",
       "    </tr>\n",
       "  </tbody>\n",
       "</table>\n",
       "<p>42700 rows × 91 columns</p>\n",
       "</div>"
      ],
      "text/plain": [
       "       Record ID                                              Title  \\\n",
       "0            985  Early Depth Assessment of Local Burns by Dermo...   \n",
       "1           5729  The prevention of hip fracture with risedronat...   \n",
       "2           5728  Risedronate sodium therapy for prevention of h...   \n",
       "3            895  The Relation Between Pulse Pressure and Cardio...   \n",
       "4          19230  First Foods Most: After 18-Hour Fast, People D...   \n",
       "...          ...                                                ...   \n",
       "42695       4781  Thallium pulmonary scintigraphy. Relationship ...   \n",
       "42696       4780  Phenylephrine stress in the evaluation of pati...   \n",
       "42697       4249  Concurrent measurement of plasma levels of vit...   \n",
       "42698       1494  Specific antigen exclusion and non-specific fa...   \n",
       "42699      10433           Change of Venue and the Conflict of Laws   \n",
       "\n",
       "                                                 Subject  \\\n",
       "0      (HSC) Biostatistics/Epidemiology;(HSC) Medicin...   \n",
       "1      (HSC) Medicine - Geriatric;(HSC) Medicine - Ne...   \n",
       "2      (HSC) Medicine - Neurology;(HSC) Medicine - Re...   \n",
       "3      (HSC) Biostatistics/Epidemiology;(HSC) Medicin...   \n",
       "4                      (BLS) Nutrition;(SOC) Psychology;   \n",
       "...                                                  ...   \n",
       "42695  (HSC) Medicine - Cardiology;(HSC) Medicine - P...   \n",
       "42696  (HSC) Medicine - Cardiology;(HSC) Medicine - P...   \n",
       "42697  (HSC) Medicine - Cardiovascular;(HSC) Medicine...   \n",
       "42698                         (BLS) Biology - Molecular;   \n",
       "42699                            (SOC) Law/Legal Issues;   \n",
       "\n",
       "                                             Institution  \\\n",
       "0      Burns Unit, Department of Dermatology, Nagasak...   \n",
       "1      Department of Neurology, Mitate Hospital, Taga...   \n",
       "2      Department of Neurology, Mitate Hospital, Taga...   \n",
       "3      Department of Dietetics and Nutrition, Harokop...   \n",
       "4      Dyson School of Applied Economics and Manageme...   \n",
       "...                                                  ...   \n",
       "42695  Department of Radiology, University of Califor...   \n",
       "42696  Department of Radiology, University of Califor...   \n",
       "42697  Endocrinology-Mineral Metabolism and Nephrolog...   \n",
       "42698  Department of Immunology, Institute of Child H...   \n",
       "42699                             University of Chicago;   \n",
       "\n",
       "                                                 Journal  \\\n",
       "0                                Archives of Dermatology   \n",
       "1                          Archives of Internal Medicine   \n",
       "2                          Archives of Internal Medicine   \n",
       "3                                 JAMA Internal Medicine   \n",
       "4                                 JAMA Internal Medicine   \n",
       "...                                                  ...   \n",
       "42695                            Investigative Radiology   \n",
       "42696                            Investigative Radiology   \n",
       "42697  Translational Research: The Journal of Laborat...   \n",
       "42698               Clinical and Experimental Immunology   \n",
       "42699               The University of Chicago Law Review   \n",
       "\n",
       "                            Publisher_x  \\\n",
       "0                          JAMA Network   \n",
       "1                          JAMA Network   \n",
       "2                          JAMA Network   \n",
       "3                          JAMA Network   \n",
       "4          American Medical Association   \n",
       "...                                 ...   \n",
       "42695                    Wolters Kluwer   \n",
       "42696                    Wolters Kluwer   \n",
       "42697                          Elsevier   \n",
       "42698              Blackwell Publishing   \n",
       "42699  University of Chicago Law School   \n",
       "\n",
       "                                                 Country  \\\n",
       "0                                                  Japan   \n",
       "1                                                  Japan   \n",
       "2                                                  Japan   \n",
       "3      Finland;Greece;Italy;Japan;Netherlands;Serbia;...   \n",
       "4                                          United States   \n",
       "...                                                  ...   \n",
       "42695                                      United States   \n",
       "42696                                      United States   \n",
       "42697                                      United States   \n",
       "42698                                     United Kingdom   \n",
       "42699                                      United States   \n",
       "\n",
       "                                                  Author  \\\n",
       "0      Kyomi Mihara;Hajime Shindo;Hiroya Mihara;Minak...   \n",
       "1      Yoshihiro Sato;Tomohiro Kanoko;Kei Satoh;Jun I...   \n",
       "2             Yoshihiro Sato;Jun Iwamoto;Tomohiro Kanoko   \n",
       "3      Demosthenes B Panagiotakos;Daan Kromhout;Aless...   \n",
       "4                 Brian Wansink;Aner Tal;Mitsuru Shimizu   \n",
       "...                                                  ...   \n",
       "42695                                   Robert A Slutsky   \n",
       "42696                                   Robert A Slutsky   \n",
       "42697  PW Lambert;PB DeOreo;BW Hollis;IY Fu;DJ Ginsbe...   \n",
       "42698  S A Roberts;M C Reinhardt;R Paganelli;R J Levi...   \n",
       "42699                                    Brainerd Currie   \n",
       "\n",
       "                                                    URLS  \\\n",
       "0                                                    NaN   \n",
       "1      http://retractionwatch.com/2016/06/03/jama-jou...   \n",
       "2      http://retractionwatch.com/2016/06/03/jama-jou...   \n",
       "3                                                    NaN   \n",
       "4      http://retractionwatch.com/2018/04/13/caught-o...   \n",
       "...                                                  ...   \n",
       "42695  http://retractionwatch.com/the-retraction-watc...   \n",
       "42696  http://retractionwatch.com/the-retraction-watc...   \n",
       "42697                                                NaN   \n",
       "42698                                                NaN   \n",
       "42699                                                NaN   \n",
       "\n",
       "                            ArticleType  ... Web of Science Categories   WE  \\\n",
       "0                     Research Article;  ...                       NaN  NaN   \n",
       "1      Clinical Study;Research Article;  ...                       NaN  NaN   \n",
       "2                     Research Article;  ...                       NaN  NaN   \n",
       "3                     Research Article;  ...                       NaN  NaN   \n",
       "4              Letter;Research Article;  ...                       NaN  NaN   \n",
       "...                                 ...  ...                       ...  ...   \n",
       "42695                 Research Article;  ...                       NaN  NaN   \n",
       "42696                 Research Article;  ...                       NaN  NaN   \n",
       "42697                 Research Article;  ...                       NaN  NaN   \n",
       "42698                 Research Article;  ...                       NaN  NaN   \n",
       "42699                 Research Article;  ...                       NaN  NaN   \n",
       "\n",
       "       Research Areas Document Delivery Number PubMed ID  \\\n",
       "0                 NaN                      NaN       NaN   \n",
       "1                 NaN                      NaN       NaN   \n",
       "2                 NaN                      NaN       NaN   \n",
       "3                 NaN                      NaN       NaN   \n",
       "4                 NaN                      NaN       NaN   \n",
       "...               ...                      ...       ...   \n",
       "42695             NaN                      NaN       NaN   \n",
       "42696             NaN                      NaN       NaN   \n",
       "42697             NaN                      NaN       NaN   \n",
       "42698             NaN                      NaN       NaN   \n",
       "42699             NaN                      NaN       NaN   \n",
       "\n",
       "       Open Access Indicator ESI Highly Cited Paper ESI Hot Paper  \\\n",
       "0                        NaN                    NaN           NaN   \n",
       "1                        NaN                    NaN           NaN   \n",
       "2                        NaN                    NaN           NaN   \n",
       "3                        NaN                    NaN           NaN   \n",
       "4                        NaN                    NaN           NaN   \n",
       "...                      ...                    ...           ...   \n",
       "42695                    NaN                    NaN           NaN   \n",
       "42696                    NaN                    NaN           NaN   \n",
       "42697                    NaN                    NaN           NaN   \n",
       "42698                    NaN                    NaN           NaN   \n",
       "42699                    NaN                    NaN           NaN   \n",
       "\n",
       "      Date this report was generated Accession Number  \n",
       "0                                NaN              NaN  \n",
       "1                                NaN              NaN  \n",
       "2                                NaN              NaN  \n",
       "3                                NaN              NaN  \n",
       "4                                NaN              NaN  \n",
       "...                              ...              ...  \n",
       "42695                            NaN              NaN  \n",
       "42696                            NaN              NaN  \n",
       "42697                            NaN              NaN  \n",
       "42698                            NaN              NaN  \n",
       "42699                            NaN              NaN  \n",
       "\n",
       "[42700 rows x 91 columns]"
      ]
     },
     "execution_count": 130,
     "metadata": {},
     "output_type": "execute_result"
    }
   ],
   "source": [
    "test = rw.merge(retractions_data, how= 'left', left_on= 'Title', right_on= 'Document Title')\n",
    "test"
   ]
  },
  {
   "cell_type": "markdown",
   "metadata": {},
   "source": [
    "<div class=\"alert alert-block alert-info\" style = \"background:#d0de6f; color:#000000; border:0;\">\n",
    "\n",
    "# Chapter 2 - Retraction Characteristics <a class=\"anchor\" id=\"chapter1\"></a>"
   ]
  },
  {
   "cell_type": "markdown",
   "metadata": {},
   "source": [
    "# 2.1 - Temporal trends <a class=\"anchor\" id=\"section_2_1\"></a>"
   ]
  },
  {
   "cell_type": "code",
   "execution_count": 9,
   "metadata": {},
   "outputs": [
    {
     "data": {
      "text/plain": [
       "RetractionDate\n",
       "1966       1\n",
       "1967       2\n",
       "1968       1\n",
       "1970       7\n",
       "1971       1\n",
       "1975       2\n",
       "1977      31\n",
       "1979       5\n",
       "1980      14\n",
       "1981       3\n",
       "1982       5\n",
       "1983      13\n",
       "1984       8\n",
       "1985      14\n",
       "1986      28\n",
       "1987      12\n",
       "1988       6\n",
       "1989      15\n",
       "1990      19\n",
       "1991      23\n",
       "1992      25\n",
       "1993      28\n",
       "1994      22\n",
       "1995      25\n",
       "1996      25\n",
       "1997      46\n",
       "1998      70\n",
       "1999      52\n",
       "2000      41\n",
       "2001      37\n",
       "2002     125\n",
       "2003      90\n",
       "2004     127\n",
       "2005     139\n",
       "2006     212\n",
       "2007     328\n",
       "2008     449\n",
       "2009    1183\n",
       "2010    5010\n",
       "2011    4931\n",
       "2012    1155\n",
       "2013    1445\n",
       "2014    1112\n",
       "2015    1544\n",
       "2016    1674\n",
       "2017    1704\n",
       "2018    2531\n",
       "2019    2900\n",
       "2020    3067\n",
       "2021    3894\n",
       "2022    5446\n",
       "Name: Record ID, dtype: int64"
      ]
     },
     "execution_count": 9,
     "metadata": {},
     "output_type": "execute_result"
    }
   ],
   "source": [
    "year_counts = rw[(rw['RetractionDate'].dt.year != 2023) & (rw['RetractionDate'].dt.year >1960)].groupby(rw['RetractionDate'].dt.year)['Record ID'].count()\n",
    "year_counts"
   ]
  },
  {
   "cell_type": "code",
   "execution_count": 10,
   "metadata": {},
   "outputs": [
    {
     "data": {
      "image/png": "[encoded data removed]",
      "text/plain": [
       "<Figure size 1000x600 with 1 Axes>"
      ]
     },
     "metadata": {},
     "output_type": "display_data"
    }
   ],
   "source": [
    "plt.figure(figsize=(10, 6))  # Adjust the figure size as needed\n",
    "plt.plot(year_counts.index, year_counts.values)\n",
    "\n",
    "plt.xlabel('Year')\n",
    "plt.ylabel('Number of Retractions')\n",
    "#plt.title('Evolution of number of retractions')\n",
    "plt.grid(True)\n",
    "plt.show()\n"
   ]
  },
  {
   "cell_type": "code",
   "execution_count": 78,
   "metadata": {},
   "outputs": [
    {
     "data": {
      "image/png": "[encoded data removed]",
      "text/plain": [
       "<Figure size 1200x600 with 2 Axes>"
      ]
     },
     "metadata": {},
     "output_type": "display_data"
    }
   ],
   "source": [
    "heatmap_data = rw[(rw['RetractionDate'].dt.year != 2023) & (rw['RetractionDate'].dt.year >2005)].copy()\n",
    "heatmap_data['year'] = heatmap_data['RetractionDate'].dt.year\n",
    "heatmap_data['month'] = heatmap_data['RetractionDate'].dt.month\n",
    "\n",
    "heatmap_data = heatmap_data.pivot_table(index='year', columns='month', values='Record ID', aggfunc=pd.Series.nunique, fill_value=0)\n",
    "\n",
    "# Create the heatmap\n",
    "plt.figure(figsize=(12, 6))\n",
    "sns.heatmap(heatmap_data, annot= False, fmt='d', cmap='coolwarm', linewidths=0.5)\n",
    "plt.title('Heatmap of Number of Retractions')\n",
    "plt.xlabel('Month')\n",
    "plt.ylabel('Year')\n",
    "plt.show()"
   ]
  },
  {
   "cell_type": "code",
   "execution_count": 79,
   "metadata": {},
   "outputs": [],
   "source": [
    "#check if probability of having retracted article that was published after the first retraction of the author\n"
   ]
  },
  {
   "cell_type": "code",
   "execution_count": 80,
   "metadata": {},
   "outputs": [],
   "source": [
    "#year_counts_normalized = rw[(rw['RetractionDate'].dt.year != 2023) & (rw['RetractionDate'].dt.year >1960)].groupby(rw['RetractionDate'].dt.year)['Record ID'].count()\n",
    "#year_counts_normalized"
   ]
  },
  {
   "cell_type": "code",
   "execution_count": 86,
   "metadata": {},
   "outputs": [
    {
     "data": {
      "text/plain": [
       "Timedelta('838 days 19:34:25.573770496')"
      ]
     },
     "execution_count": 86,
     "metadata": {},
     "output_type": "execute_result"
    }
   ],
   "source": [
    "#average number of days until retraction\n",
    "np.mean(rw['RetractionDate']-rw['OriginalPaperDate'])"
   ]
  },
  {
   "cell_type": "markdown",
   "metadata": {},
   "source": [
    "TO-DO: Get data of all articles and try retraction rate (per 10 000 papers)"
   ]
  },
  {
   "cell_type": "markdown",
   "metadata": {},
   "source": [
    "# 2.2 - Reasons for Retraction <a class=\"anchor\" id=\"section_2_2\"></a>"
   ]
  },
  {
   "cell_type": "code",
   "execution_count": 19,
   "metadata": {},
   "outputs": [
    {
     "data": {
      "text/html": [
       "<div>\n",
       "<style scoped>\n",
       "    .dataframe tbody tr th:only-of-type {\n",
       "        vertical-align: middle;\n",
       "    }\n",
       "\n",
       "    .dataframe tbody tr th {\n",
       "        vertical-align: top;\n",
       "    }\n",
       "\n",
       "    .dataframe thead th {\n",
       "        text-align: right;\n",
       "    }\n",
       "</style>\n",
       "<table border=\"1\" class=\"dataframe\">\n",
       "  <thead>\n",
       "    <tr style=\"text-align: right;\">\n",
       "      <th></th>\n",
       "      <th>Record ID</th>\n",
       "      <th>Reason</th>\n",
       "    </tr>\n",
       "  </thead>\n",
       "  <tbody>\n",
       "    <tr>\n",
       "      <th>0</th>\n",
       "      <td>47271</td>\n",
       "      <td>Investigation by Company/Institution</td>\n",
       "    </tr>\n",
       "    <tr>\n",
       "      <th>0</th>\n",
       "      <td>47271</td>\n",
       "      <td>Manipulation of Images</td>\n",
       "    </tr>\n",
       "    <tr>\n",
       "      <th>0</th>\n",
       "      <td>47271</td>\n",
       "      <td>Unreliable Results</td>\n",
       "    </tr>\n",
       "    <tr>\n",
       "      <th>0</th>\n",
       "      <td>47271</td>\n",
       "      <td>Upgrade/Update of Prior Notice</td>\n",
       "    </tr>\n",
       "    <tr>\n",
       "      <th>0</th>\n",
       "      <td>47271</td>\n",
       "      <td></td>\n",
       "    </tr>\n",
       "    <tr>\n",
       "      <th>...</th>\n",
       "      <td>...</td>\n",
       "      <td>...</td>\n",
       "    </tr>\n",
       "    <tr>\n",
       "      <th>42697</th>\n",
       "      <td>18531</td>\n",
       "      <td></td>\n",
       "    </tr>\n",
       "    <tr>\n",
       "      <th>42698</th>\n",
       "      <td>17246</td>\n",
       "      <td>Error in Analyses</td>\n",
       "    </tr>\n",
       "    <tr>\n",
       "      <th>42698</th>\n",
       "      <td>17246</td>\n",
       "      <td></td>\n",
       "    </tr>\n",
       "    <tr>\n",
       "      <th>42699</th>\n",
       "      <td>18930</td>\n",
       "      <td>Error in Text</td>\n",
       "    </tr>\n",
       "    <tr>\n",
       "      <th>42699</th>\n",
       "      <td>18930</td>\n",
       "      <td></td>\n",
       "    </tr>\n",
       "  </tbody>\n",
       "</table>\n",
       "<p>157778 rows × 2 columns</p>\n",
       "</div>"
      ],
      "text/plain": [
       "       Record ID                                Reason\n",
       "0          47271  Investigation by Company/Institution\n",
       "0          47271                Manipulation of Images\n",
       "0          47271                    Unreliable Results\n",
       "0          47271        Upgrade/Update of Prior Notice\n",
       "0          47271                                      \n",
       "...          ...                                   ...\n",
       "42697      18531                                      \n",
       "42698      17246                     Error in Analyses\n",
       "42698      17246                                      \n",
       "42699      18930                         Error in Text\n",
       "42699      18930                                      \n",
       "\n",
       "[157778 rows x 2 columns]"
      ]
     },
     "execution_count": 19,
     "metadata": {},
     "output_type": "execute_result"
    }
   ],
   "source": [
    "motives = rw[['Record ID','Reason']]\n",
    "motives.loc[:, 'Reason'] = motives['Reason'].str.split(';')\n",
    "motives = motives.explode('Reason')\n",
    "motives.loc[:, 'Reason'] = motives['Reason'].str.replace('+', '')\n",
    "motives"
   ]
  },
  {
   "cell_type": "code",
   "execution_count": 20,
   "metadata": {},
   "outputs": [],
   "source": [
    "motives = motives[motives['Reason'].str.strip() != \"\"]"
   ]
  },
  {
   "cell_type": "code",
   "execution_count": 21,
   "metadata": {},
   "outputs": [
    {
     "data": {
      "text/plain": [
       "Reason\n",
       "Notice - Limited or No Information                11033\n",
       "Investigation by Journal/Publisher                 8941\n",
       "Date of Retraction/Other Unknown                   6111\n",
       "Breach of Policy by Author                         4728\n",
       "Unreliable Results                                 4701\n",
       "Concerns/Issues About Data                         4480\n",
       "Fake Peer Review                                   4216\n",
       "Withdrawal                                         3725\n",
       "Investigation by Third Party                       3608\n",
       "Duplication of Image                               3348\n",
       "Duplication of Article                             3202\n",
       "Euphemisms for Plagiarism                          2725\n",
       "Concerns/Issues about Referencing/Attributions     2640\n",
       "Investigation by Company/Institution               2630\n",
       "Plagiarism of Article                              2411\n",
       "Paper Mill                                         2282\n",
       "Plagiarism of Text                                 2142\n",
       "Misconduct by Author                               1742\n",
       "Error in Data                                      1652\n",
       "Concerns/Issues with Peer Review                   1649\n",
       "Falsification/Fabrication of Data                  1557\n",
       "Rogue Editor                                       1541\n",
       "Misconduct - Official Investigation/Finding        1417\n",
       "Original Data not Provided                         1368\n",
       "Error in Results and/or Conclusions                1269\n",
       "Upgrade/Update of Prior Notice                     1259\n",
       "Concerns/Issues About Image                        1256\n",
       "Unreliable Data                                    1237\n",
       "Concerns/Issues About Results                      1236\n",
       "Author Unresponsive                                1175\n",
       "Name: count, dtype: int64"
      ]
     },
     "execution_count": 21,
     "metadata": {},
     "output_type": "execute_result"
    }
   ],
   "source": [
    "motives['Reason'].value_counts()[:30]"
   ]
  },
  {
   "cell_type": "markdown",
   "metadata": {},
   "source": [
    "Re-incidence comparison for misconduct and overall"
   ]
  },
  {
   "cell_type": "code",
   "execution_count": 57,
   "metadata": {},
   "outputs": [
    {
     "data": {
      "text/plain": [
       "count    1086.000000\n",
       "mean        5.621547\n",
       "std        13.897633\n",
       "min         1.000000\n",
       "25%         1.000000\n",
       "50%         1.000000\n",
       "75%         3.000000\n",
       "max       194.000000\n",
       "Name: Record ID, dtype: float64"
      ]
     },
     "execution_count": 57,
     "metadata": {},
     "output_type": "execute_result"
    }
   ],
   "source": [
    "authors = authors.copy()[['Record ID','Author', 'Reason']]\n",
    "keywords = [\"misconduct\", \"fraud\", \"manipulation\", \"fake\", \"falsification\", \"fabrication\"]\n",
    "#keywords = [\"error in data\", \"rogue editor\"]\n",
    "authors['Misconduct'] = authors['Author'].isin(set(rw[rw['Reason'].str.lower().str.contains('|'.join(keywords))]['Author']))\n",
    "authors.loc[:, 'Author'] = authors['Author'].str.split(';')\n",
    "authors = authors.explode('Author')\n",
    "authors[authors['Misconduct']==True].groupby('Author')['Record ID'].count().describe()"
   ]
  },
  {
   "cell_type": "code",
   "execution_count": 51,
   "metadata": {},
   "outputs": [
    {
     "data": {
      "text/plain": [
       "count    116296.000000\n",
       "mean          1.426842\n",
       "std           2.290002\n",
       "min           1.000000\n",
       "25%           1.000000\n",
       "50%           1.000000\n",
       "75%           1.000000\n",
       "max         194.000000\n",
       "Name: Record ID, dtype: float64"
      ]
     },
     "execution_count": 51,
     "metadata": {},
     "output_type": "execute_result"
    }
   ],
   "source": [
    "authors.groupby('Author')['Record ID'].count().describe()"
   ]
  },
  {
   "cell_type": "code",
   "execution_count": 55,
   "metadata": {},
   "outputs": [
    {
     "name": "stdout",
     "output_type": "stream",
     "text": [
      "Proportion of authors with re-incidents in the total dataset: 5.08%\n",
      "Proportion of authors with re-incidents among misconduct authors: 100.00%\n"
     ]
    }
   ],
   "source": [
    "# Step 3: Compare Re-incidents\n",
    "total_authors = authors['Author'].nunique()\n",
    "misconduct_authors = authors[authors['Misconduct']]['Author'].nunique()\n",
    "\n",
    "# Calculate proportions\n",
    "proportion_reincidents_total = rw[rw['Author'].isin(authors['Author'])]['Author'].nunique() / total_authors\n",
    "proportion_reincidents_misconduct = rw[rw['Author'].isin(authors[authors['Misconduct']]['Author'])]['Author'].nunique() / misconduct_authors\n",
    "\n",
    "# Print the results\n",
    "print(f\"Proportion of authors with re-incidents in the total dataset: {proportion_reincidents_total:.2%}\")\n",
    "print(f\"Proportion of authors with re-incidents among misconduct authors: {proportion_reincidents_misconduct:.2%}\")"
   ]
  },
  {
   "cell_type": "code",
   "execution_count": 59,
   "metadata": {},
   "outputs": [
    {
     "data": {
      "text/html": [
       "<div>\n",
       "<style scoped>\n",
       "    .dataframe tbody tr th:only-of-type {\n",
       "        vertical-align: middle;\n",
       "    }\n",
       "\n",
       "    .dataframe tbody tr th {\n",
       "        vertical-align: top;\n",
       "    }\n",
       "\n",
       "    .dataframe thead th {\n",
       "        text-align: right;\n",
       "    }\n",
       "</style>\n",
       "<table border=\"1\" class=\"dataframe\">\n",
       "  <thead>\n",
       "    <tr style=\"text-align: right;\">\n",
       "      <th></th>\n",
       "      <th>Author</th>\n",
       "      <th>count</th>\n",
       "    </tr>\n",
       "  </thead>\n",
       "  <tbody>\n",
       "    <tr>\n",
       "      <th>0</th>\n",
       "      <td>Joachim Boldt</td>\n",
       "      <td>194</td>\n",
       "    </tr>\n",
       "    <tr>\n",
       "      <th>1</th>\n",
       "      <td>Yoshitaka Fujii</td>\n",
       "      <td>172</td>\n",
       "    </tr>\n",
       "    <tr>\n",
       "      <th>2</th>\n",
       "      <td>Hironobu Ueshima</td>\n",
       "      <td>124</td>\n",
       "    </tr>\n",
       "    <tr>\n",
       "      <th>3</th>\n",
       "      <td>Yoshihiro Sato</td>\n",
       "      <td>112</td>\n",
       "    </tr>\n",
       "    <tr>\n",
       "      <th>4</th>\n",
       "      <td>Unknown</td>\n",
       "      <td>111</td>\n",
       "    </tr>\n",
       "    <tr>\n",
       "      <th>...</th>\n",
       "      <td>...</td>\n",
       "      <td>...</td>\n",
       "    </tr>\n",
       "    <tr>\n",
       "      <th>116291</th>\n",
       "      <td>J Y Wang</td>\n",
       "      <td>1</td>\n",
       "    </tr>\n",
       "    <tr>\n",
       "      <th>116292</th>\n",
       "      <td>L H Qi</td>\n",
       "      <td>1</td>\n",
       "    </tr>\n",
       "    <tr>\n",
       "      <th>116293</th>\n",
       "      <td>H M Zheng</td>\n",
       "      <td>1</td>\n",
       "    </tr>\n",
       "    <tr>\n",
       "      <th>116294</th>\n",
       "      <td>H Qi</td>\n",
       "      <td>1</td>\n",
       "    </tr>\n",
       "    <tr>\n",
       "      <th>116295</th>\n",
       "      <td>Benjamin Wilson</td>\n",
       "      <td>1</td>\n",
       "    </tr>\n",
       "  </tbody>\n",
       "</table>\n",
       "<p>116296 rows × 2 columns</p>\n",
       "</div>"
      ],
      "text/plain": [
       "                  Author  count\n",
       "0          Joachim Boldt    194\n",
       "1        Yoshitaka Fujii    172\n",
       "2       Hironobu Ueshima    124\n",
       "3         Yoshihiro Sato    112\n",
       "4                Unknown    111\n",
       "...                  ...    ...\n",
       "116291          J Y Wang      1\n",
       "116292            L H Qi      1\n",
       "116293         H M Zheng      1\n",
       "116294              H Qi      1\n",
       "116295   Benjamin Wilson      1\n",
       "\n",
       "[116296 rows x 2 columns]"
      ]
     },
     "execution_count": 59,
     "metadata": {},
     "output_type": "execute_result"
    }
   ],
   "source": [
    "authors['Author'].value_counts().to_frame().reset_index()"
   ]
  },
  {
   "cell_type": "code",
   "execution_count": 28,
   "metadata": {},
   "outputs": [
    {
     "name": "stdout",
     "output_type": "stream",
     "text": [
      "Proportion of authors with re-incidents in the total dataset: 5.08%\n",
      "Proportion of authors with re-incidents among misconduct authors: 100.00%\n"
     ]
    }
   ],
   "source": [
    "import pandas as pd\n",
    "\n",
    "# Assuming df is your original DataFrame with columns \"Author\" and \"Reason\"\n",
    "\n",
    "# Step 1: Preprocess the Data\n",
    "authors = rw['Author'].str.split(';', expand=True).stack().str.strip().reset_index(level=1, drop=True).reset_index(name='Author')\n",
    "\n",
    "# Step 2: Create a Flag for Misconduct Authors\n",
    "keywords = [\"misconduct\", \"fraud\", \"manipulation\", \"fake\", \"falsification\", \"fabrication\"]\n",
    "keywords = [\"error in data\", \"rogue editor\"]\n",
    "authors['Misconduct'] = authors['Author'].isin(set(rw[rw['Reason'].str.lower().str.contains('|'.join(keywords))]['Author']))\n",
    "\n",
    "# Step 3: Compare Re-incidents\n",
    "total_authors = authors['Author'].nunique()\n",
    "misconduct_authors = authors[authors['Misconduct']]['Author'].nunique()\n",
    "\n",
    "# Calculate proportions\n",
    "proportion_reincidents_total = rw[rw['Author'].isin(authors['Author'])]['Author'].nunique() / total_authors\n",
    "proportion_reincidents_misconduct = rw[rw['Author'].isin(authors[authors['Misconduct']]['Author'])]['Author'].nunique() / misconduct_authors\n",
    "\n",
    "# Print the results\n",
    "print(f\"Proportion of authors with re-incidents in the total dataset: {proportion_reincidents_total:.2%}\")\n",
    "print(f\"Proportion of authors with re-incidents among misconduct authors: {proportion_reincidents_misconduct:.2%}\")\n"
   ]
  },
  {
   "cell_type": "code",
   "execution_count": 29,
   "metadata": {},
   "outputs": [
    {
     "data": {
      "text/html": [
       "<div>\n",
       "<style scoped>\n",
       "    .dataframe tbody tr th:only-of-type {\n",
       "        vertical-align: middle;\n",
       "    }\n",
       "\n",
       "    .dataframe tbody tr th {\n",
       "        vertical-align: top;\n",
       "    }\n",
       "\n",
       "    .dataframe thead th {\n",
       "        text-align: right;\n",
       "    }\n",
       "</style>\n",
       "<table border=\"1\" class=\"dataframe\">\n",
       "  <thead>\n",
       "    <tr style=\"text-align: right;\">\n",
       "      <th></th>\n",
       "      <th>index</th>\n",
       "      <th>Author</th>\n",
       "      <th>Misconduct</th>\n",
       "    </tr>\n",
       "  </thead>\n",
       "  <tbody>\n",
       "    <tr>\n",
       "      <th>0</th>\n",
       "      <td>0</td>\n",
       "      <td>Elke Stein</td>\n",
       "      <td>False</td>\n",
       "    </tr>\n",
       "    <tr>\n",
       "      <th>1</th>\n",
       "      <td>0</td>\n",
       "      <td>Yimin Zou</td>\n",
       "      <td>False</td>\n",
       "    </tr>\n",
       "    <tr>\n",
       "      <th>2</th>\n",
       "      <td>0</td>\n",
       "      <td>Mu-ming Poo</td>\n",
       "      <td>False</td>\n",
       "    </tr>\n",
       "    <tr>\n",
       "      <th>3</th>\n",
       "      <td>0</td>\n",
       "      <td>Marc Tessier-Lavigne</td>\n",
       "      <td>False</td>\n",
       "    </tr>\n",
       "    <tr>\n",
       "      <th>4</th>\n",
       "      <td>1</td>\n",
       "      <td>Elke Stein</td>\n",
       "      <td>False</td>\n",
       "    </tr>\n",
       "    <tr>\n",
       "      <th>...</th>\n",
       "      <td>...</td>\n",
       "      <td>...</td>\n",
       "      <td>...</td>\n",
       "    </tr>\n",
       "    <tr>\n",
       "      <th>165931</th>\n",
       "      <td>42695</td>\n",
       "      <td>Brainerd Currie</td>\n",
       "      <td>False</td>\n",
       "    </tr>\n",
       "    <tr>\n",
       "      <th>165932</th>\n",
       "      <td>42696</td>\n",
       "      <td>Max Planck</td>\n",
       "      <td>False</td>\n",
       "    </tr>\n",
       "    <tr>\n",
       "      <th>165933</th>\n",
       "      <td>42697</td>\n",
       "      <td>Max Planck</td>\n",
       "      <td>False</td>\n",
       "    </tr>\n",
       "    <tr>\n",
       "      <th>165934</th>\n",
       "      <td>42698</td>\n",
       "      <td>C H Whelden Jr</td>\n",
       "      <td>False</td>\n",
       "    </tr>\n",
       "    <tr>\n",
       "      <th>165935</th>\n",
       "      <td>42699</td>\n",
       "      <td>Benjamin Wilson</td>\n",
       "      <td>False</td>\n",
       "    </tr>\n",
       "  </tbody>\n",
       "</table>\n",
       "<p>165936 rows × 3 columns</p>\n",
       "</div>"
      ],
      "text/plain": [
       "        index                Author  Misconduct\n",
       "0           0            Elke Stein       False\n",
       "1           0             Yimin Zou       False\n",
       "2           0           Mu-ming Poo       False\n",
       "3           0  Marc Tessier-Lavigne       False\n",
       "4           1            Elke Stein       False\n",
       "...       ...                   ...         ...\n",
       "165931  42695       Brainerd Currie       False\n",
       "165932  42696            Max Planck       False\n",
       "165933  42697            Max Planck       False\n",
       "165934  42698        C H Whelden Jr       False\n",
       "165935  42699       Benjamin Wilson       False\n",
       "\n",
       "[165936 rows x 3 columns]"
      ]
     },
     "execution_count": 29,
     "metadata": {},
     "output_type": "execute_result"
    }
   ],
   "source": [
    "authors"
   ]
  },
  {
   "cell_type": "markdown",
   "metadata": {},
   "source": [
    "juntar estes artigos à informação do web of science (para ter abstract etc.). pesquisar por esses artigos."
   ]
  },
  {
   "cell_type": "code",
   "execution_count": 13,
   "metadata": {},
   "outputs": [],
   "source": [
    "#motives['Reason'].value_counts().to_excel('../motives_retractions.xlsx')"
   ]
  },
  {
   "cell_type": "markdown",
   "metadata": {},
   "source": [
    "# 2.3 - Geographical Differences <a class=\"anchor\" id=\"section_2_3\"></a>"
   ]
  },
  {
   "cell_type": "code",
   "execution_count": 14,
   "metadata": {},
   "outputs": [
    {
     "data": {
      "text/plain": [
       "Country\n",
       "China                                      19446\n",
       "United States                               3123\n",
       "India                                       2534\n",
       "Russia                                      2445\n",
       "Japan                                       1072\n",
       "                                           ...  \n",
       "Mexico;South Africa                            1\n",
       "Belgium;Switzerland                            1\n",
       "Iran;Iraq;United States                        1\n",
       "Belgium;China;Switzerland;United States        1\n",
       "Spain;United Kingdom;United States             1\n",
       "Name: count, Length: 1721, dtype: int64"
      ]
     },
     "execution_count": 14,
     "metadata": {},
     "output_type": "execute_result"
    }
   ],
   "source": [
    "rw['Country'].value_counts()"
   ]
  },
  {
   "cell_type": "code",
   "execution_count": 15,
   "metadata": {},
   "outputs": [
    {
     "data": {
      "text/plain": [
       "Country\n",
       "China            20944\n",
       "United States     4988\n",
       "India             3060\n",
       "Russia            2589\n",
       "Japan             1378\n",
       "                 ...  \n",
       "Namibia              1\n",
       "Lesotho              1\n",
       "Jamaica              1\n",
       "Cook Islands         1\n",
       "Sierra Leone         1\n",
       "Name: count, Length: 172, dtype: int64"
      ]
     },
     "execution_count": 15,
     "metadata": {},
     "output_type": "execute_result"
    }
   ],
   "source": [
    "aux = rw.copy()\n",
    "aux.loc[:, 'Country'] = rw['Country'].str.split(';')\n",
    "aux.explode('Country')['Country'].value_counts()"
   ]
  },
  {
   "cell_type": "code",
   "execution_count": 16,
   "metadata": {},
   "outputs": [
    {
     "data": {
      "text/html": [
       "<div>\n",
       "<style scoped>\n",
       "    .dataframe tbody tr th:only-of-type {\n",
       "        vertical-align: middle;\n",
       "    }\n",
       "\n",
       "    .dataframe tbody tr th {\n",
       "        vertical-align: top;\n",
       "    }\n",
       "\n",
       "    .dataframe thead th {\n",
       "        text-align: right;\n",
       "    }\n",
       "</style>\n",
       "<table border=\"1\" class=\"dataframe\">\n",
       "  <thead>\n",
       "    <tr style=\"text-align: right;\">\n",
       "      <th></th>\n",
       "      <th>Record ID</th>\n",
       "      <th>Title</th>\n",
       "      <th>Subject</th>\n",
       "      <th>Institution</th>\n",
       "      <th>Journal</th>\n",
       "      <th>Publisher</th>\n",
       "      <th>Country</th>\n",
       "      <th>Author</th>\n",
       "      <th>URLS</th>\n",
       "      <th>ArticleType</th>\n",
       "      <th>...</th>\n",
       "      <th>RetractionPubMedID</th>\n",
       "      <th>OriginalPaperDate</th>\n",
       "      <th>OriginalPaperDOI</th>\n",
       "      <th>OriginalPaperPubMedID</th>\n",
       "      <th>RetractionNature</th>\n",
       "      <th>Reason</th>\n",
       "      <th>Paywalled</th>\n",
       "      <th>Notes</th>\n",
       "      <th>Country_Count</th>\n",
       "      <th>Single_Multiple_Country</th>\n",
       "    </tr>\n",
       "  </thead>\n",
       "  <tbody>\n",
       "    <tr>\n",
       "      <th>0</th>\n",
       "      <td>47271</td>\n",
       "      <td>Binding of DCC by Netrin-1 to Mediate Axon Gui...</td>\n",
       "      <td>(BLS) Biology - Cellular;(BLS) Biology - Gener...</td>\n",
       "      <td>Departments of Anatomy and of Biochemistry and...</td>\n",
       "      <td>Science</td>\n",
       "      <td>American Association for the Advancement of Sc...</td>\n",
       "      <td>United States</td>\n",
       "      <td>Elke Stein;Yimin Zou;Mu-ming Poo;Marc Tessier-...</td>\n",
       "      <td>https://retractionwatch.com/2023/08/31/stanfor...</td>\n",
       "      <td>Research Article;</td>\n",
       "      <td>...</td>\n",
       "      <td>0.0</td>\n",
       "      <td>2001-03-09 00:00:00</td>\n",
       "      <td>10.1126/science.1059391</td>\n",
       "      <td>11239160.0</td>\n",
       "      <td>Retraction</td>\n",
       "      <td>+Investigation by Company/Institution;+Manipul...</td>\n",
       "      <td>No</td>\n",
       "      <td>NaN</td>\n",
       "      <td>1</td>\n",
       "      <td>Single Country</td>\n",
       "    </tr>\n",
       "    <tr>\n",
       "      <th>1</th>\n",
       "      <td>47270</td>\n",
       "      <td>Hierarchical Organization of Guidance Receptor...</td>\n",
       "      <td>(BLS) Biochemistry;(BLS) Biology - General;(BL...</td>\n",
       "      <td>Department of Anatomy and Department of Bioche...</td>\n",
       "      <td>Science</td>\n",
       "      <td>American Association for the Advancement of Sc...</td>\n",
       "      <td>United States</td>\n",
       "      <td>Elke Stein;Marc Tessier-Lavigne</td>\n",
       "      <td>https://retractionwatch.com/2023/08/31/stanfor...</td>\n",
       "      <td>Research Article;</td>\n",
       "      <td>...</td>\n",
       "      <td>0.0</td>\n",
       "      <td>2001-02-08 00:00:00</td>\n",
       "      <td>10.1126/science.1058445</td>\n",
       "      <td>11239147.0</td>\n",
       "      <td>Retraction</td>\n",
       "      <td>+Duplication of Image;+Investigation by Compan...</td>\n",
       "      <td>No</td>\n",
       "      <td>NaN</td>\n",
       "      <td>1</td>\n",
       "      <td>Single Country</td>\n",
       "    </tr>\n",
       "    <tr>\n",
       "      <th>2</th>\n",
       "      <td>47243</td>\n",
       "      <td>Therapeutic potential of targeting IRES-depend...</td>\n",
       "      <td>(BLS) Biochemistry;(BLS) Biology - Cancer;(BLS...</td>\n",
       "      <td>Division of Hematology-Oncology, UCLA-Greater ...</td>\n",
       "      <td>Oncogene</td>\n",
       "      <td>Springer - Nature Publishing Group</td>\n",
       "      <td>United States</td>\n",
       "      <td>Y Shi;Y Yang;C Bardeleben;B Holmes;J Gera;Alan...</td>\n",
       "      <td>NaN</td>\n",
       "      <td>Research Article;</td>\n",
       "      <td>...</td>\n",
       "      <td>0.0</td>\n",
       "      <td>2015-05-11 00:00:00</td>\n",
       "      <td>10.1038/onc.2015.156</td>\n",
       "      <td>25961916.0</td>\n",
       "      <td>Retraction</td>\n",
       "      <td>+Concerns/Issues About Data;+Concerns/Issues A...</td>\n",
       "      <td>No</td>\n",
       "      <td>see also: https://pubpeer.com/publications/704...</td>\n",
       "      <td>1</td>\n",
       "      <td>Single Country</td>\n",
       "    </tr>\n",
       "    <tr>\n",
       "      <th>3</th>\n",
       "      <td>47233</td>\n",
       "      <td>A classifier based on 273 urinary peptides pre...</td>\n",
       "      <td>(BLS) Biochemistry;(HSC) Medicine - Cardiovasc...</td>\n",
       "      <td>Department of Nephrology, The Third Affiliated...</td>\n",
       "      <td>Journal of Hypertension</td>\n",
       "      <td>Wolters Kluwer - Lippincott Williams &amp; Wilkins</td>\n",
       "      <td>China</td>\n",
       "      <td>Lirong Lin;Chunxuan Wang;Jiangwen Ren;Mei Mei;...</td>\n",
       "      <td>NaN</td>\n",
       "      <td>Research Article;</td>\n",
       "      <td>...</td>\n",
       "      <td>37642599.0</td>\n",
       "      <td>2023-08-01 00:00:00</td>\n",
       "      <td>10.1097/HJH.0000000000003467</td>\n",
       "      <td>37199562.0</td>\n",
       "      <td>Retraction</td>\n",
       "      <td>+Concerns/Issues About Results;+Investigation ...</td>\n",
       "      <td>No</td>\n",
       "      <td>see also https://journals.lww.com/jhypertensio...</td>\n",
       "      <td>1</td>\n",
       "      <td>Single Country</td>\n",
       "    </tr>\n",
       "    <tr>\n",
       "      <th>4</th>\n",
       "      <td>47227</td>\n",
       "      <td>Age, Gender Demographics and Comorbidity Preva...</td>\n",
       "      <td>(HSC) Biostatistics/Epidemiology;(HSC) Medicin...</td>\n",
       "      <td>Department of Orthopaedics, Dhanalakshmi Srini...</td>\n",
       "      <td>Journal of Coastal Life Medicine</td>\n",
       "      <td>Journal of Coastal Life Medicine</td>\n",
       "      <td>India</td>\n",
       "      <td>S Venkatesh Kumar;Mohith Singh;Gowtham Singh;K...</td>\n",
       "      <td>NaN</td>\n",
       "      <td>Research Article;</td>\n",
       "      <td>...</td>\n",
       "      <td>0.0</td>\n",
       "      <td>2023-01-01 00:00:00</td>\n",
       "      <td>unavailable</td>\n",
       "      <td>0.0</td>\n",
       "      <td>Retraction</td>\n",
       "      <td>+Notice - Lack of;+Withdrawal;</td>\n",
       "      <td>No</td>\n",
       "      <td>date of retraction unknown, article title repl...</td>\n",
       "      <td>1</td>\n",
       "      <td>Single Country</td>\n",
       "    </tr>\n",
       "  </tbody>\n",
       "</table>\n",
       "<p>5 rows × 22 columns</p>\n",
       "</div>"
      ],
      "text/plain": [
       "   Record ID                                              Title  \\\n",
       "0      47271  Binding of DCC by Netrin-1 to Mediate Axon Gui...   \n",
       "1      47270  Hierarchical Organization of Guidance Receptor...   \n",
       "2      47243  Therapeutic potential of targeting IRES-depend...   \n",
       "3      47233  A classifier based on 273 urinary peptides pre...   \n",
       "4      47227  Age, Gender Demographics and Comorbidity Preva...   \n",
       "\n",
       "                                             Subject  \\\n",
       "0  (BLS) Biology - Cellular;(BLS) Biology - Gener...   \n",
       "1  (BLS) Biochemistry;(BLS) Biology - General;(BL...   \n",
       "2  (BLS) Biochemistry;(BLS) Biology - Cancer;(BLS...   \n",
       "3  (BLS) Biochemistry;(HSC) Medicine - Cardiovasc...   \n",
       "4  (HSC) Biostatistics/Epidemiology;(HSC) Medicin...   \n",
       "\n",
       "                                         Institution  \\\n",
       "0  Departments of Anatomy and of Biochemistry and...   \n",
       "1  Department of Anatomy and Department of Bioche...   \n",
       "2  Division of Hematology-Oncology, UCLA-Greater ...   \n",
       "3  Department of Nephrology, The Third Affiliated...   \n",
       "4  Department of Orthopaedics, Dhanalakshmi Srini...   \n",
       "\n",
       "                            Journal  \\\n",
       "0                           Science   \n",
       "1                           Science   \n",
       "2                          Oncogene   \n",
       "3           Journal of Hypertension   \n",
       "4  Journal of Coastal Life Medicine   \n",
       "\n",
       "                                           Publisher        Country  \\\n",
       "0  American Association for the Advancement of Sc...  United States   \n",
       "1  American Association for the Advancement of Sc...  United States   \n",
       "2                 Springer - Nature Publishing Group  United States   \n",
       "3     Wolters Kluwer - Lippincott Williams & Wilkins          China   \n",
       "4                   Journal of Coastal Life Medicine          India   \n",
       "\n",
       "                                              Author  \\\n",
       "0  Elke Stein;Yimin Zou;Mu-ming Poo;Marc Tessier-...   \n",
       "1                    Elke Stein;Marc Tessier-Lavigne   \n",
       "2  Y Shi;Y Yang;C Bardeleben;B Holmes;J Gera;Alan...   \n",
       "3  Lirong Lin;Chunxuan Wang;Jiangwen Ren;Mei Mei;...   \n",
       "4  S Venkatesh Kumar;Mohith Singh;Gowtham Singh;K...   \n",
       "\n",
       "                                                URLS        ArticleType  ...  \\\n",
       "0  https://retractionwatch.com/2023/08/31/stanfor...  Research Article;  ...   \n",
       "1  https://retractionwatch.com/2023/08/31/stanfor...  Research Article;  ...   \n",
       "2                                                NaN  Research Article;  ...   \n",
       "3                                                NaN  Research Article;  ...   \n",
       "4                                                NaN  Research Article;  ...   \n",
       "\n",
       "  RetractionPubMedID    OriginalPaperDate              OriginalPaperDOI  \\\n",
       "0                0.0  2001-03-09 00:00:00       10.1126/science.1059391   \n",
       "1                0.0  2001-02-08 00:00:00       10.1126/science.1058445   \n",
       "2                0.0  2015-05-11 00:00:00          10.1038/onc.2015.156   \n",
       "3         37642599.0  2023-08-01 00:00:00  10.1097/HJH.0000000000003467   \n",
       "4                0.0  2023-01-01 00:00:00                   unavailable   \n",
       "\n",
       "  OriginalPaperPubMedID RetractionNature  \\\n",
       "0            11239160.0       Retraction   \n",
       "1            11239147.0       Retraction   \n",
       "2            25961916.0       Retraction   \n",
       "3            37199562.0       Retraction   \n",
       "4                   0.0       Retraction   \n",
       "\n",
       "                                              Reason Paywalled  \\\n",
       "0  +Investigation by Company/Institution;+Manipul...        No   \n",
       "1  +Duplication of Image;+Investigation by Compan...        No   \n",
       "2  +Concerns/Issues About Data;+Concerns/Issues A...        No   \n",
       "3  +Concerns/Issues About Results;+Investigation ...        No   \n",
       "4                     +Notice - Lack of;+Withdrawal;        No   \n",
       "\n",
       "                                               Notes Country_Count  \\\n",
       "0                                                NaN             1   \n",
       "1                                                NaN             1   \n",
       "2  see also: https://pubpeer.com/publications/704...             1   \n",
       "3  see also https://journals.lww.com/jhypertensio...             1   \n",
       "4  date of retraction unknown, article title repl...             1   \n",
       "\n",
       "  Single_Multiple_Country  \n",
       "0          Single Country  \n",
       "1          Single Country  \n",
       "2          Single Country  \n",
       "3          Single Country  \n",
       "4          Single Country  \n",
       "\n",
       "[5 rows x 22 columns]"
      ]
     },
     "execution_count": 16,
     "metadata": {},
     "output_type": "execute_result"
    }
   ],
   "source": [
    "# Split the 'Country' column by \";\" and count the number of countries in each record\n",
    "country = rw.copy()\n",
    "country['Country_Count'] = rw['Country'].str.split(';').apply(len)\n",
    "country['Single_Multiple_Country'] = country['Country_Count'].apply(lambda x: 'Single Country' if x == 1 else 'Multiple Countries')\n",
    "country.head()"
   ]
  },
  {
   "cell_type": "code",
   "execution_count": 17,
   "metadata": {},
   "outputs": [
    {
     "data": {
      "text/html": [
       "<div>\n",
       "<style scoped>\n",
       "    .dataframe tbody tr th:only-of-type {\n",
       "        vertical-align: middle;\n",
       "    }\n",
       "\n",
       "    .dataframe tbody tr th {\n",
       "        vertical-align: top;\n",
       "    }\n",
       "\n",
       "    .dataframe thead th {\n",
       "        text-align: right;\n",
       "    }\n",
       "</style>\n",
       "<table border=\"1\" class=\"dataframe\">\n",
       "  <thead>\n",
       "    <tr style=\"text-align: right;\">\n",
       "      <th></th>\n",
       "      <th>Record ID</th>\n",
       "      <th>Country</th>\n",
       "      <th>Single_Multiple_Country</th>\n",
       "    </tr>\n",
       "  </thead>\n",
       "  <tbody>\n",
       "    <tr>\n",
       "      <th>0</th>\n",
       "      <td>47271</td>\n",
       "      <td>United States</td>\n",
       "      <td>Single Country</td>\n",
       "    </tr>\n",
       "    <tr>\n",
       "      <th>1</th>\n",
       "      <td>47270</td>\n",
       "      <td>United States</td>\n",
       "      <td>Single Country</td>\n",
       "    </tr>\n",
       "    <tr>\n",
       "      <th>2</th>\n",
       "      <td>47243</td>\n",
       "      <td>United States</td>\n",
       "      <td>Single Country</td>\n",
       "    </tr>\n",
       "    <tr>\n",
       "      <th>3</th>\n",
       "      <td>47233</td>\n",
       "      <td>China</td>\n",
       "      <td>Single Country</td>\n",
       "    </tr>\n",
       "    <tr>\n",
       "      <th>4</th>\n",
       "      <td>47227</td>\n",
       "      <td>India</td>\n",
       "      <td>Single Country</td>\n",
       "    </tr>\n",
       "    <tr>\n",
       "      <th>...</th>\n",
       "      <td>...</td>\n",
       "      <td>...</td>\n",
       "      <td>...</td>\n",
       "    </tr>\n",
       "    <tr>\n",
       "      <th>42695</th>\n",
       "      <td>10433</td>\n",
       "      <td>United States</td>\n",
       "      <td>Single Country</td>\n",
       "    </tr>\n",
       "    <tr>\n",
       "      <th>42696</th>\n",
       "      <td>18529</td>\n",
       "      <td>Germany</td>\n",
       "      <td>Single Country</td>\n",
       "    </tr>\n",
       "    <tr>\n",
       "      <th>42697</th>\n",
       "      <td>18531</td>\n",
       "      <td>Germany</td>\n",
       "      <td>Single Country</td>\n",
       "    </tr>\n",
       "    <tr>\n",
       "      <th>42698</th>\n",
       "      <td>17246</td>\n",
       "      <td>United States</td>\n",
       "      <td>Single Country</td>\n",
       "    </tr>\n",
       "    <tr>\n",
       "      <th>42699</th>\n",
       "      <td>18930</td>\n",
       "      <td>United Kingdom</td>\n",
       "      <td>Single Country</td>\n",
       "    </tr>\n",
       "  </tbody>\n",
       "</table>\n",
       "<p>49580 rows × 3 columns</p>\n",
       "</div>"
      ],
      "text/plain": [
       "       Record ID         Country Single_Multiple_Country\n",
       "0          47271   United States          Single Country\n",
       "1          47270   United States          Single Country\n",
       "2          47243   United States          Single Country\n",
       "3          47233           China          Single Country\n",
       "4          47227           India          Single Country\n",
       "...          ...             ...                     ...\n",
       "42695      10433   United States          Single Country\n",
       "42696      18529         Germany          Single Country\n",
       "42697      18531         Germany          Single Country\n",
       "42698      17246   United States          Single Country\n",
       "42699      18930  United Kingdom          Single Country\n",
       "\n",
       "[49580 rows x 3 columns]"
      ]
     },
     "execution_count": 17,
     "metadata": {},
     "output_type": "execute_result"
    }
   ],
   "source": [
    "country = country[['Record ID','Country', 'Single_Multiple_Country']]\n",
    "country.loc[:, 'Country'] = country['Country'].str.split(';')\n",
    "country = country.explode('Country')\n",
    "country"
   ]
  },
  {
   "cell_type": "code",
   "execution_count": 19,
   "metadata": {},
   "outputs": [
    {
     "data": {
      "application/vnd.plotly.v1+json": {
       "config": {
        "plotlyServerURL": "https://plot.ly"
       },
       "data": [
        {
         "alignmentgroup": "True",
         "hovertemplate": "Publication Category=Single Country<br>Count=%{x}<br>Country=%{y}<extra></extra>",
         "legendgroup": "Single Country",
         "marker": {
          "color": "#636efa",
          "pattern": {
           "shape": ""
          }
         },
         "name": "Single Country",
         "offsetgroup": "Single Country",
         "orientation": "h",
         "showlegend": true,
         "textposition": "auto",
         "type": "bar",
         "x": [
          19446,
          3123,
          2534,
          2445,
          1072,
          920,
          848,
          661,
          633,
          622,
          394,
          341
         ],
         "xaxis": "x",
         "y": [
          "China",
          "United States",
          "India",
          "Russia",
          "Japan",
          "Iran",
          "Unknown",
          "South Korea",
          "Germany",
          "United Kingdom",
          "Italy",
          "Taiwan"
         ],
         "yaxis": "y"
        },
        {
         "alignmentgroup": "True",
         "hovertemplate": "Publication Category=Multiple Countries<br>Count=%{x}<br>Country=%{y}<extra></extra>",
         "legendgroup": "Multiple Countries",
         "marker": {
          "color": "#EF553B",
          "pattern": {
           "shape": ""
          }
         },
         "name": "Multiple Countries",
         "offsetgroup": "Multiple Countries",
         "orientation": "h",
         "showlegend": true,
         "textposition": "auto",
         "type": "bar",
         "x": [
          1865,
          1498,
          678,
          526,
          439,
          433,
          374,
          352
         ],
         "xaxis": "x",
         "y": [
          "United States",
          "China",
          "United Kingdom",
          "India",
          "Saudi Arabia",
          "Germany",
          "Canada",
          "Pakistan"
         ],
         "yaxis": "y"
        }
       ],
       "layout": {
        "barmode": "stack",
        "legend": {
         "title": {
          "text": "Publication Category"
         },
         "tracegroupgap": 0
        },
        "template": {
         "data": {
          "bar": [
           {
            "error_x": {
             "color": "#2a3f5f"
            },
            "error_y": {
             "color": "#2a3f5f"
            },
            "marker": {
             "line": {
              "color": "#E5ECF6",
              "width": 0.5
             },
             "pattern": {
              "fillmode": "overlay",
              "size": 10,
              "solidity": 0.2
             }
            },
            "type": "bar"
           }
          ],
          "barpolar": [
           {
            "marker": {
             "line": {
              "color": "#E5ECF6",
              "width": 0.5
             },
             "pattern": {
              "fillmode": "overlay",
              "size": 10,
              "solidity": 0.2
             }
            },
            "type": "barpolar"
           }
          ],
          "carpet": [
           {
            "aaxis": {
             "endlinecolor": "#2a3f5f",
             "gridcolor": "white",
             "linecolor": "white",
             "minorgridcolor": "white",
             "startlinecolor": "#2a3f5f"
            },
            "baxis": {
             "endlinecolor": "#2a3f5f",
             "gridcolor": "white",
             "linecolor": "white",
             "minorgridcolor": "white",
             "startlinecolor": "#2a3f5f"
            },
            "type": "carpet"
           }
          ],
          "choropleth": [
           {
            "colorbar": {
             "outlinewidth": 0,
             "ticks": ""
            },
            "type": "choropleth"
           }
          ],
          "contour": [
           {
            "colorbar": {
             "outlinewidth": 0,
             "ticks": ""
            },
            "colorscale": [
             [
              0,
              "#0d0887"
             ],
             [
              0.1111111111111111,
              "#46039f"
             ],
             [
              0.2222222222222222,
              "#7201a8"
             ],
             [
              0.3333333333333333,
              "#9c179e"
             ],
             [
              0.4444444444444444,
              "#bd3786"
             ],
             [
              0.5555555555555556,
              "#d8576b"
             ],
             [
              0.6666666666666666,
              "#ed7953"
             ],
             [
              0.7777777777777778,
              "#fb9f3a"
             ],
             [
              0.8888888888888888,
              "#fdca26"
             ],
             [
              1,
              "#f0f921"
             ]
            ],
            "type": "contour"
           }
          ],
          "contourcarpet": [
           {
            "colorbar": {
             "outlinewidth": 0,
             "ticks": ""
            },
            "type": "contourcarpet"
           }
          ],
          "heatmap": [
           {
            "colorbar": {
             "outlinewidth": 0,
             "ticks": ""
            },
            "colorscale": [
             [
              0,
              "#0d0887"
             ],
             [
              0.1111111111111111,
              "#46039f"
             ],
             [
              0.2222222222222222,
              "#7201a8"
             ],
             [
              0.3333333333333333,
              "#9c179e"
             ],
             [
              0.4444444444444444,
              "#bd3786"
             ],
             [
              0.5555555555555556,
              "#d8576b"
             ],
             [
              0.6666666666666666,
              "#ed7953"
             ],
             [
              0.7777777777777778,
              "#fb9f3a"
             ],
             [
              0.8888888888888888,
              "#fdca26"
             ],
             [
              1,
              "#f0f921"
             ]
            ],
            "type": "heatmap"
           }
          ],
          "heatmapgl": [
           {
            "colorbar": {
             "outlinewidth": 0,
             "ticks": ""
            },
            "colorscale": [
             [
              0,
              "#0d0887"
             ],
             [
              0.1111111111111111,
              "#46039f"
             ],
             [
              0.2222222222222222,
              "#7201a8"
             ],
             [
              0.3333333333333333,
              "#9c179e"
             ],
             [
              0.4444444444444444,
              "#bd3786"
             ],
             [
              0.5555555555555556,
              "#d8576b"
             ],
             [
              0.6666666666666666,
              "#ed7953"
             ],
             [
              0.7777777777777778,
              "#fb9f3a"
             ],
             [
              0.8888888888888888,
              "#fdca26"
             ],
             [
              1,
              "#f0f921"
             ]
            ],
            "type": "heatmapgl"
           }
          ],
          "histogram": [
           {
            "marker": {
             "pattern": {
              "fillmode": "overlay",
              "size": 10,
              "solidity": 0.2
             }
            },
            "type": "histogram"
           }
          ],
          "histogram2d": [
           {
            "colorbar": {
             "outlinewidth": 0,
             "ticks": ""
            },
            "colorscale": [
             [
              0,
              "#0d0887"
             ],
             [
              0.1111111111111111,
              "#46039f"
             ],
             [
              0.2222222222222222,
              "#7201a8"
             ],
             [
              0.3333333333333333,
              "#9c179e"
             ],
             [
              0.4444444444444444,
              "#bd3786"
             ],
             [
              0.5555555555555556,
              "#d8576b"
             ],
             [
              0.6666666666666666,
              "#ed7953"
             ],
             [
              0.7777777777777778,
              "#fb9f3a"
             ],
             [
              0.8888888888888888,
              "#fdca26"
             ],
             [
              1,
              "#f0f921"
             ]
            ],
            "type": "histogram2d"
           }
          ],
          "histogram2dcontour": [
           {
            "colorbar": {
             "outlinewidth": 0,
             "ticks": ""
            },
            "colorscale": [
             [
              0,
              "#0d0887"
             ],
             [
              0.1111111111111111,
              "#46039f"
             ],
             [
              0.2222222222222222,
              "#7201a8"
             ],
             [
              0.3333333333333333,
              "#9c179e"
             ],
             [
              0.4444444444444444,
              "#bd3786"
             ],
             [
              0.5555555555555556,
              "#d8576b"
             ],
             [
              0.6666666666666666,
              "#ed7953"
             ],
             [
              0.7777777777777778,
              "#fb9f3a"
             ],
             [
              0.8888888888888888,
              "#fdca26"
             ],
             [
              1,
              "#f0f921"
             ]
            ],
            "type": "histogram2dcontour"
           }
          ],
          "mesh3d": [
           {
            "colorbar": {
             "outlinewidth": 0,
             "ticks": ""
            },
            "type": "mesh3d"
           }
          ],
          "parcoords": [
           {
            "line": {
             "colorbar": {
              "outlinewidth": 0,
              "ticks": ""
             }
            },
            "type": "parcoords"
           }
          ],
          "pie": [
           {
            "automargin": true,
            "type": "pie"
           }
          ],
          "scatter": [
           {
            "fillpattern": {
             "fillmode": "overlay",
             "size": 10,
             "solidity": 0.2
            },
            "type": "scatter"
           }
          ],
          "scatter3d": [
           {
            "line": {
             "colorbar": {
              "outlinewidth": 0,
              "ticks": ""
             }
            },
            "marker": {
             "colorbar": {
              "outlinewidth": 0,
              "ticks": ""
             }
            },
            "type": "scatter3d"
           }
          ],
          "scattercarpet": [
           {
            "marker": {
             "colorbar": {
              "outlinewidth": 0,
              "ticks": ""
             }
            },
            "type": "scattercarpet"
           }
          ],
          "scattergeo": [
           {
            "marker": {
             "colorbar": {
              "outlinewidth": 0,
              "ticks": ""
             }
            },
            "type": "scattergeo"
           }
          ],
          "scattergl": [
           {
            "marker": {
             "colorbar": {
              "outlinewidth": 0,
              "ticks": ""
             }
            },
            "type": "scattergl"
           }
          ],
          "scattermapbox": [
           {
            "marker": {
             "colorbar": {
              "outlinewidth": 0,
              "ticks": ""
             }
            },
            "type": "scattermapbox"
           }
          ],
          "scatterpolar": [
           {
            "marker": {
             "colorbar": {
              "outlinewidth": 0,
              "ticks": ""
             }
            },
            "type": "scatterpolar"
           }
          ],
          "scatterpolargl": [
           {
            "marker": {
             "colorbar": {
              "outlinewidth": 0,
              "ticks": ""
             }
            },
            "type": "scatterpolargl"
           }
          ],
          "scatterternary": [
           {
            "marker": {
             "colorbar": {
              "outlinewidth": 0,
              "ticks": ""
             }
            },
            "type": "scatterternary"
           }
          ],
          "surface": [
           {
            "colorbar": {
             "outlinewidth": 0,
             "ticks": ""
            },
            "colorscale": [
             [
              0,
              "#0d0887"
             ],
             [
              0.1111111111111111,
              "#46039f"
             ],
             [
              0.2222222222222222,
              "#7201a8"
             ],
             [
              0.3333333333333333,
              "#9c179e"
             ],
             [
              0.4444444444444444,
              "#bd3786"
             ],
             [
              0.5555555555555556,
              "#d8576b"
             ],
             [
              0.6666666666666666,
              "#ed7953"
             ],
             [
              0.7777777777777778,
              "#fb9f3a"
             ],
             [
              0.8888888888888888,
              "#fdca26"
             ],
             [
              1,
              "#f0f921"
             ]
            ],
            "type": "surface"
           }
          ],
          "table": [
           {
            "cells": {
             "fill": {
              "color": "#EBF0F8"
             },
             "line": {
              "color": "white"
             }
            },
            "header": {
             "fill": {
              "color": "#C8D4E3"
             },
             "line": {
              "color": "white"
             }
            },
            "type": "table"
           }
          ]
         },
         "layout": {
          "annotationdefaults": {
           "arrowcolor": "#2a3f5f",
           "arrowhead": 0,
           "arrowwidth": 1
          },
          "autotypenumbers": "strict",
          "coloraxis": {
           "colorbar": {
            "outlinewidth": 0,
            "ticks": ""
           }
          },
          "colorscale": {
           "diverging": [
            [
             0,
             "#8e0152"
            ],
            [
             0.1,
             "#c51b7d"
            ],
            [
             0.2,
             "#de77ae"
            ],
            [
             0.3,
             "#f1b6da"
            ],
            [
             0.4,
             "#fde0ef"
            ],
            [
             0.5,
             "#f7f7f7"
            ],
            [
             0.6,
             "#e6f5d0"
            ],
            [
             0.7,
             "#b8e186"
            ],
            [
             0.8,
             "#7fbc41"
            ],
            [
             0.9,
             "#4d9221"
            ],
            [
             1,
             "#276419"
            ]
           ],
           "sequential": [
            [
             0,
             "#0d0887"
            ],
            [
             0.1111111111111111,
             "#46039f"
            ],
            [
             0.2222222222222222,
             "#7201a8"
            ],
            [
             0.3333333333333333,
             "#9c179e"
            ],
            [
             0.4444444444444444,
             "#bd3786"
            ],
            [
             0.5555555555555556,
             "#d8576b"
            ],
            [
             0.6666666666666666,
             "#ed7953"
            ],
            [
             0.7777777777777778,
             "#fb9f3a"
            ],
            [
             0.8888888888888888,
             "#fdca26"
            ],
            [
             1,
             "#f0f921"
            ]
           ],
           "sequentialminus": [
            [
             0,
             "#0d0887"
            ],
            [
             0.1111111111111111,
             "#46039f"
            ],
            [
             0.2222222222222222,
             "#7201a8"
            ],
            [
             0.3333333333333333,
             "#9c179e"
            ],
            [
             0.4444444444444444,
             "#bd3786"
            ],
            [
             0.5555555555555556,
             "#d8576b"
            ],
            [
             0.6666666666666666,
             "#ed7953"
            ],
            [
             0.7777777777777778,
             "#fb9f3a"
            ],
            [
             0.8888888888888888,
             "#fdca26"
            ],
            [
             1,
             "#f0f921"
            ]
           ]
          },
          "colorway": [
           "#636efa",
           "#EF553B",
           "#00cc96",
           "#ab63fa",
           "#FFA15A",
           "#19d3f3",
           "#FF6692",
           "#B6E880",
           "#FF97FF",
           "#FECB52"
          ],
          "font": {
           "color": "#2a3f5f"
          },
          "geo": {
           "bgcolor": "white",
           "lakecolor": "white",
           "landcolor": "#E5ECF6",
           "showlakes": true,
           "showland": true,
           "subunitcolor": "white"
          },
          "hoverlabel": {
           "align": "left"
          },
          "hovermode": "closest",
          "mapbox": {
           "style": "light"
          },
          "paper_bgcolor": "white",
          "plot_bgcolor": "#E5ECF6",
          "polar": {
           "angularaxis": {
            "gridcolor": "white",
            "linecolor": "white",
            "ticks": ""
           },
           "bgcolor": "#E5ECF6",
           "radialaxis": {
            "gridcolor": "white",
            "linecolor": "white",
            "ticks": ""
           }
          },
          "scene": {
           "xaxis": {
            "backgroundcolor": "#E5ECF6",
            "gridcolor": "white",
            "gridwidth": 2,
            "linecolor": "white",
            "showbackground": true,
            "ticks": "",
            "zerolinecolor": "white"
           },
           "yaxis": {
            "backgroundcolor": "#E5ECF6",
            "gridcolor": "white",
            "gridwidth": 2,
            "linecolor": "white",
            "showbackground": true,
            "ticks": "",
            "zerolinecolor": "white"
           },
           "zaxis": {
            "backgroundcolor": "#E5ECF6",
            "gridcolor": "white",
            "gridwidth": 2,
            "linecolor": "white",
            "showbackground": true,
            "ticks": "",
            "zerolinecolor": "white"
           }
          },
          "shapedefaults": {
           "line": {
            "color": "#2a3f5f"
           }
          },
          "ternary": {
           "aaxis": {
            "gridcolor": "white",
            "linecolor": "white",
            "ticks": ""
           },
           "baxis": {
            "gridcolor": "white",
            "linecolor": "white",
            "ticks": ""
           },
           "bgcolor": "#E5ECF6",
           "caxis": {
            "gridcolor": "white",
            "linecolor": "white",
            "ticks": ""
           }
          },
          "title": {
           "x": 0.05
          },
          "xaxis": {
           "automargin": true,
           "gridcolor": "white",
           "linecolor": "white",
           "ticks": "",
           "title": {
            "standoff": 15
           },
           "zerolinecolor": "white",
           "zerolinewidth": 2
          },
          "yaxis": {
           "automargin": true,
           "gridcolor": "white",
           "linecolor": "white",
           "ticks": "",
           "title": {
            "standoff": 15
           },
           "zerolinecolor": "white",
           "zerolinewidth": 2
          }
         }
        },
        "title": {
         "text": "Top 15 Countries with Most Retractions by Category"
        },
        "xaxis": {
         "anchor": "y",
         "domain": [
          0,
          1
         ],
         "title": {
          "text": "Count"
         }
        },
        "yaxis": {
         "anchor": "x",
         "domain": [
          0,
          1
         ],
         "title": {
          "text": "Country"
         }
        }
       }
      }
     },
     "metadata": {},
     "output_type": "display_data"
    }
   ],
   "source": [
    "# Create a DataFrame to count retractions by country and category\n",
    "country_counts = country.groupby(['Country', 'Single_Multiple_Country']).size().reset_index(name='Count')\n",
    "\n",
    "# Sort the DataFrame by Count in descending order and take the top 15 countries\n",
    "top_15_countries = country_counts.sort_values(by='Count', ascending=False).head(20)\n",
    "\n",
    "# Create a histogram with countries on the y-axis\n",
    "fig = px.bar(top_15_countries, y='Country', x='Count', color='Single_Multiple_Country',\n",
    "             orientation='h',  # Horizontal orientation for countries on the y-axis\n",
    "             title='Top 15 Countries with Most Retractions by Category',\n",
    "             labels={'Single_Multiple_Country': 'Publication Category', 'Count': 'Count'},\n",
    "             category_orders={'Single_Multiple_Country': ['Single Country', 'Multiple Countries']})\n",
    "\n",
    "fig.update_layout(barmode='stack')  # Stacked histogram\n",
    "\n",
    "fig.show()"
   ]
  },
  {
   "cell_type": "code",
   "execution_count": null,
   "metadata": {},
   "outputs": [],
   "source": [
    "#country['Country'].value_counts().to_excel('./country_retractions.xlsx')"
   ]
  },
  {
   "cell_type": "code",
   "execution_count": 20,
   "metadata": {},
   "outputs": [
    {
     "data": {
      "text/html": [
       "<div>\n",
       "<style scoped>\n",
       "    .dataframe tbody tr th:only-of-type {\n",
       "        vertical-align: middle;\n",
       "    }\n",
       "\n",
       "    .dataframe tbody tr th {\n",
       "        vertical-align: top;\n",
       "    }\n",
       "\n",
       "    .dataframe thead th {\n",
       "        text-align: right;\n",
       "    }\n",
       "</style>\n",
       "<table border=\"1\" class=\"dataframe\">\n",
       "  <thead>\n",
       "    <tr style=\"text-align: right;\">\n",
       "      <th></th>\n",
       "      <th>country</th>\n",
       "      <th>alpha2_code</th>\n",
       "      <th>alpha3_code</th>\n",
       "      <th>numeric</th>\n",
       "    </tr>\n",
       "  </thead>\n",
       "  <tbody>\n",
       "    <tr>\n",
       "      <th>0</th>\n",
       "      <td>Afghanistan</td>\n",
       "      <td>AF</td>\n",
       "      <td>AFG</td>\n",
       "      <td>4</td>\n",
       "    </tr>\n",
       "    <tr>\n",
       "      <th>1</th>\n",
       "      <td>Åland Islands</td>\n",
       "      <td>AX</td>\n",
       "      <td>ALA</td>\n",
       "      <td>248</td>\n",
       "    </tr>\n",
       "    <tr>\n",
       "      <th>2</th>\n",
       "      <td>Albania</td>\n",
       "      <td>AL</td>\n",
       "      <td>ALB</td>\n",
       "      <td>8</td>\n",
       "    </tr>\n",
       "    <tr>\n",
       "      <th>3</th>\n",
       "      <td>Algeria</td>\n",
       "      <td>DZ</td>\n",
       "      <td>DZA</td>\n",
       "      <td>12</td>\n",
       "    </tr>\n",
       "    <tr>\n",
       "      <th>4</th>\n",
       "      <td>American Samoa</td>\n",
       "      <td>AS</td>\n",
       "      <td>ASM</td>\n",
       "      <td>16</td>\n",
       "    </tr>\n",
       "    <tr>\n",
       "      <th>...</th>\n",
       "      <td>...</td>\n",
       "      <td>...</td>\n",
       "      <td>...</td>\n",
       "      <td>...</td>\n",
       "    </tr>\n",
       "    <tr>\n",
       "      <th>246</th>\n",
       "      <td>Yemen</td>\n",
       "      <td>YE</td>\n",
       "      <td>YEM</td>\n",
       "      <td>887</td>\n",
       "    </tr>\n",
       "    <tr>\n",
       "      <th>247</th>\n",
       "      <td>Zambia</td>\n",
       "      <td>ZM</td>\n",
       "      <td>ZMB</td>\n",
       "      <td>894</td>\n",
       "    </tr>\n",
       "    <tr>\n",
       "      <th>248</th>\n",
       "      <td>Zimbabwe</td>\n",
       "      <td>ZW</td>\n",
       "      <td>ZWE</td>\n",
       "      <td>716</td>\n",
       "    </tr>\n",
       "    <tr>\n",
       "      <th>249</th>\n",
       "      <td>Gaza Strip</td>\n",
       "      <td>PS</td>\n",
       "      <td>PSE</td>\n",
       "      <td>275</td>\n",
       "    </tr>\n",
       "    <tr>\n",
       "      <th>250</th>\n",
       "      <td>Laos</td>\n",
       "      <td>LA</td>\n",
       "      <td>LAO</td>\n",
       "      <td>418</td>\n",
       "    </tr>\n",
       "  </tbody>\n",
       "</table>\n",
       "<p>251 rows × 4 columns</p>\n",
       "</div>"
      ],
      "text/plain": [
       "            country alpha2_code alpha3_code  numeric\n",
       "0       Afghanistan          AF         AFG        4\n",
       "1     Åland Islands          AX         ALA      248\n",
       "2           Albania          AL         ALB        8\n",
       "3           Algeria          DZ         DZA       12\n",
       "4    American Samoa          AS         ASM       16\n",
       "..              ...         ...         ...      ...\n",
       "246           Yemen          YE         YEM      887\n",
       "247          Zambia          ZM         ZMB      894\n",
       "248        Zimbabwe          ZW         ZWE      716\n",
       "249      Gaza Strip          PS         PSE      275\n",
       "250            Laos          LA         LAO      418\n",
       "\n",
       "[251 rows x 4 columns]"
      ]
     },
     "execution_count": 20,
     "metadata": {},
     "output_type": "execute_result"
    }
   ],
   "source": [
    "country_codes = pd.read_excel('../country_codes.xlsx')\n",
    "country_codes"
   ]
  },
  {
   "cell_type": "code",
   "execution_count": 22,
   "metadata": {},
   "outputs": [
    {
     "data": {
      "application/vnd.plotly.v1+json": {
       "config": {
        "plotlyServerURL": "https://plot.ly"
       },
       "data": [
        {
         "coloraxis": "coloraxis",
         "geo": "geo",
         "hovertemplate": "<b>%{hovertext}</b><br><br>alpha3_code=%{location}<br>Record_Count=%{z}<extra></extra>",
         "hovertext": [
          "Albania",
          "United Arab Emirates",
          "Argentina",
          "Armenia",
          "Australia",
          "Austria",
          "Azerbaijan",
          "Belgium",
          "Bangladesh",
          "Bulgaria",
          "Bahrain",
          "Bosnia & Herzegovina",
          "Belarus",
          "Brazil",
          "Brunei",
          "Botswana",
          "Canada",
          "Switzerland",
          "Chile",
          "China",
          "Cameroon",
          "Democratic Republic of the Congo",
          "Republic of the Congo (Congo-Brazzaville)",
          "Colombia",
          "Costa Rica",
          "Cuba",
          "Cyprus",
          "Czech Republic",
          "Germany",
          "Denmark",
          "Algeria",
          "Ecuador",
          "Egypt",
          "Spain",
          "Estonia",
          "Ethiopia",
          "Finland",
          "France",
          "Gabon",
          "United Kingdom",
          "Georgia",
          "Ghana",
          "Greece",
          "Hong Kong",
          "Croatia",
          "Hungary",
          "Indonesia",
          "India",
          "Ireland",
          "Iran",
          "Iraq",
          "Israel",
          "Italy",
          "Jordan",
          "Japan",
          "Kazakhstan",
          "Kenya",
          "Kyrgyzstan",
          "Cambodia",
          "South Korea",
          "Kuwait",
          "Lebanon",
          "Libya",
          "Sri Lanka",
          "Lithuania",
          "Luxembourg",
          "Latvia",
          "Macau",
          "Morocco",
          "Moldova",
          "Maldives",
          "Mexico",
          "Macedonia",
          "Malta",
          "Myanmar (formerly Burma)",
          "Montenegro",
          "Mongolia",
          "Mauritius",
          "Malawi",
          "Malaysia",
          "Niger",
          "Nigeria",
          "Netherlands",
          "Norway",
          "Nepal",
          "New Zealand",
          "Oman",
          "Pakistan",
          "Panama",
          "Peru",
          "Philippines",
          "Poland",
          "North Korea",
          "Portugal",
          "Paraguay",
          "Palestine",
          "French Polynesia",
          "Qatar",
          "RÃ©union Island",
          "Romania",
          "Russia",
          "Saudi Arabia",
          "Sudan",
          "Senegal",
          "Singapore",
          "Serbia",
          "Slovakia",
          "Slovenia",
          "Sweden",
          "Syria",
          "Chad",
          "Togo",
          "Thailand",
          "Tajikistan",
          "Trinidad & Tobago",
          "Tunisia",
          "Turkey",
          "Taiwan",
          "Uganda",
          "Ukraine",
          "United States",
          "Uzbekistan",
          "Venezuela",
          "Vietnam",
          "Yemen",
          "South Africa"
         ],
         "locations": [
          "ALB",
          "ARE",
          "ARG",
          "ARM",
          "AUS",
          "AUT",
          "AZE",
          "BEL",
          "BGD",
          "BGR",
          "BHR",
          "BIH",
          "BLR",
          "BRA",
          "BRN",
          "BWA",
          "CAN",
          "CHE",
          "CHL",
          "CHN",
          "CMR",
          "COD",
          "COG",
          "COL",
          "CRI",
          "CUB",
          "CYP",
          "CZE",
          "DEU",
          "DNK",
          "DZA",
          "ECU",
          "EGY",
          "ESP",
          "EST",
          "ETH",
          "FIN",
          "FRA",
          "GAB",
          "GBR",
          "GEO",
          "GHA",
          "GRC",
          "HKG",
          "HRV",
          "HUN",
          "IDN",
          "IND",
          "IRL",
          "IRN",
          "IRQ",
          "ISR",
          "ITA",
          "JOR",
          "JPN",
          "KAZ",
          "KEN",
          "KGZ",
          "KHM",
          "KOR",
          "KWT",
          "LBN",
          "LBY",
          "LKA",
          "LTU",
          "LUX",
          "LVA",
          "MAC",
          "MAR",
          "MDA",
          "MDV",
          "MEX",
          "MKD",
          "MLT",
          "MMR",
          "MNE",
          "MNG",
          "MUS",
          "MWI",
          "MYS",
          "NER",
          "NGA",
          "NLD",
          "NOR",
          "NPL",
          "NZL",
          "OMN",
          "PAK",
          "PAN",
          "PER",
          "PHL",
          "POL",
          "PRK",
          "PRT",
          "PRY",
          "PSE",
          "PYF",
          "QAT",
          "REU",
          "ROU",
          "RUS",
          "SAU",
          "SDN",
          "SEN",
          "SGP",
          "SRB",
          "SVK",
          "SVN",
          "SWE",
          "SYR",
          "TCD",
          "TGO",
          "THA",
          "TJK",
          "TTO",
          "TUN",
          "TUR",
          "TWN",
          "UGA",
          "UKR",
          "USA",
          "UZB",
          "VEN",
          "VNM",
          "YEM",
          "ZAF"
         ],
         "name": "",
         "type": "choropleth",
         "z": [
          3,
          16,
          31,
          2,
          249,
          25,
          12,
          45,
          35,
          6,
          3,
          2,
          6,
          209,
          1,
          1,
          262,
          54,
          16,
          19446,
          8,
          1,
          1,
          21,
          1,
          2,
          6,
          42,
          633,
          44,
          43,
          5,
          253,
          216,
          2,
          34,
          23,
          201,
          5,
          622,
          4,
          10,
          97,
          22,
          21,
          13,
          108,
          2534,
          34,
          920,
          54,
          62,
          394,
          37,
          1072,
          67,
          7,
          12,
          1,
          661,
          8,
          9,
          3,
          13,
          5,
          1,
          6,
          1,
          24,
          1,
          1,
          53,
          2,
          34,
          2,
          1,
          4,
          1,
          2,
          313,
          1,
          46,
          165,
          31,
          13,
          27,
          7,
          158,
          1,
          4,
          14,
          101,
          1,
          55,
          1,
          1,
          1,
          7,
          4,
          120,
          2445,
          163,
          9,
          2,
          84,
          67,
          6,
          8,
          72,
          3,
          2,
          1,
          86,
          41,
          3,
          45,
          289,
          341,
          1,
          20,
          3123,
          20,
          4,
          22,
          2,
          64
         ]
        }
       ],
       "layout": {
        "coloraxis": {
         "colorbar": {
          "title": {
           "text": "Record_Count"
          }
         },
         "colorscale": [
          [
           0,
           "#0d0887"
          ],
          [
           0.1111111111111111,
           "#46039f"
          ],
          [
           0.2222222222222222,
           "#7201a8"
          ],
          [
           0.3333333333333333,
           "#9c179e"
          ],
          [
           0.4444444444444444,
           "#bd3786"
          ],
          [
           0.5555555555555556,
           "#d8576b"
          ],
          [
           0.6666666666666666,
           "#ed7953"
          ],
          [
           0.7777777777777778,
           "#fb9f3a"
          ],
          [
           0.8888888888888888,
           "#fdca26"
          ],
          [
           1,
           "#f0f921"
          ]
         ]
        },
        "geo": {
         "center": {},
         "domain": {
          "x": [
           0,
           1
          ],
          "y": [
           0,
           1
          ]
         }
        },
        "legend": {
         "tracegroupgap": 0
        },
        "margin": {
         "t": 60
        },
        "template": {
         "data": {
          "bar": [
           {
            "error_x": {
             "color": "#2a3f5f"
            },
            "error_y": {
             "color": "#2a3f5f"
            },
            "marker": {
             "line": {
              "color": "#E5ECF6",
              "width": 0.5
             },
             "pattern": {
              "fillmode": "overlay",
              "size": 10,
              "solidity": 0.2
             }
            },
            "type": "bar"
           }
          ],
          "barpolar": [
           {
            "marker": {
             "line": {
              "color": "#E5ECF6",
              "width": 0.5
             },
             "pattern": {
              "fillmode": "overlay",
              "size": 10,
              "solidity": 0.2
             }
            },
            "type": "barpolar"
           }
          ],
          "carpet": [
           {
            "aaxis": {
             "endlinecolor": "#2a3f5f",
             "gridcolor": "white",
             "linecolor": "white",
             "minorgridcolor": "white",
             "startlinecolor": "#2a3f5f"
            },
            "baxis": {
             "endlinecolor": "#2a3f5f",
             "gridcolor": "white",
             "linecolor": "white",
             "minorgridcolor": "white",
             "startlinecolor": "#2a3f5f"
            },
            "type": "carpet"
           }
          ],
          "choropleth": [
           {
            "colorbar": {
             "outlinewidth": 0,
             "ticks": ""
            },
            "type": "choropleth"
           }
          ],
          "contour": [
           {
            "colorbar": {
             "outlinewidth": 0,
             "ticks": ""
            },
            "colorscale": [
             [
              0,
              "#0d0887"
             ],
             [
              0.1111111111111111,
              "#46039f"
             ],
             [
              0.2222222222222222,
              "#7201a8"
             ],
             [
              0.3333333333333333,
              "#9c179e"
             ],
             [
              0.4444444444444444,
              "#bd3786"
             ],
             [
              0.5555555555555556,
              "#d8576b"
             ],
             [
              0.6666666666666666,
              "#ed7953"
             ],
             [
              0.7777777777777778,
              "#fb9f3a"
             ],
             [
              0.8888888888888888,
              "#fdca26"
             ],
             [
              1,
              "#f0f921"
             ]
            ],
            "type": "contour"
           }
          ],
          "contourcarpet": [
           {
            "colorbar": {
             "outlinewidth": 0,
             "ticks": ""
            },
            "type": "contourcarpet"
           }
          ],
          "heatmap": [
           {
            "colorbar": {
             "outlinewidth": 0,
             "ticks": ""
            },
            "colorscale": [
             [
              0,
              "#0d0887"
             ],
             [
              0.1111111111111111,
              "#46039f"
             ],
             [
              0.2222222222222222,
              "#7201a8"
             ],
             [
              0.3333333333333333,
              "#9c179e"
             ],
             [
              0.4444444444444444,
              "#bd3786"
             ],
             [
              0.5555555555555556,
              "#d8576b"
             ],
             [
              0.6666666666666666,
              "#ed7953"
             ],
             [
              0.7777777777777778,
              "#fb9f3a"
             ],
             [
              0.8888888888888888,
              "#fdca26"
             ],
             [
              1,
              "#f0f921"
             ]
            ],
            "type": "heatmap"
           }
          ],
          "heatmapgl": [
           {
            "colorbar": {
             "outlinewidth": 0,
             "ticks": ""
            },
            "colorscale": [
             [
              0,
              "#0d0887"
             ],
             [
              0.1111111111111111,
              "#46039f"
             ],
             [
              0.2222222222222222,
              "#7201a8"
             ],
             [
              0.3333333333333333,
              "#9c179e"
             ],
             [
              0.4444444444444444,
              "#bd3786"
             ],
             [
              0.5555555555555556,
              "#d8576b"
             ],
             [
              0.6666666666666666,
              "#ed7953"
             ],
             [
              0.7777777777777778,
              "#fb9f3a"
             ],
             [
              0.8888888888888888,
              "#fdca26"
             ],
             [
              1,
              "#f0f921"
             ]
            ],
            "type": "heatmapgl"
           }
          ],
          "histogram": [
           {
            "marker": {
             "pattern": {
              "fillmode": "overlay",
              "size": 10,
              "solidity": 0.2
             }
            },
            "type": "histogram"
           }
          ],
          "histogram2d": [
           {
            "colorbar": {
             "outlinewidth": 0,
             "ticks": ""
            },
            "colorscale": [
             [
              0,
              "#0d0887"
             ],
             [
              0.1111111111111111,
              "#46039f"
             ],
             [
              0.2222222222222222,
              "#7201a8"
             ],
             [
              0.3333333333333333,
              "#9c179e"
             ],
             [
              0.4444444444444444,
              "#bd3786"
             ],
             [
              0.5555555555555556,
              "#d8576b"
             ],
             [
              0.6666666666666666,
              "#ed7953"
             ],
             [
              0.7777777777777778,
              "#fb9f3a"
             ],
             [
              0.8888888888888888,
              "#fdca26"
             ],
             [
              1,
              "#f0f921"
             ]
            ],
            "type": "histogram2d"
           }
          ],
          "histogram2dcontour": [
           {
            "colorbar": {
             "outlinewidth": 0,
             "ticks": ""
            },
            "colorscale": [
             [
              0,
              "#0d0887"
             ],
             [
              0.1111111111111111,
              "#46039f"
             ],
             [
              0.2222222222222222,
              "#7201a8"
             ],
             [
              0.3333333333333333,
              "#9c179e"
             ],
             [
              0.4444444444444444,
              "#bd3786"
             ],
             [
              0.5555555555555556,
              "#d8576b"
             ],
             [
              0.6666666666666666,
              "#ed7953"
             ],
             [
              0.7777777777777778,
              "#fb9f3a"
             ],
             [
              0.8888888888888888,
              "#fdca26"
             ],
             [
              1,
              "#f0f921"
             ]
            ],
            "type": "histogram2dcontour"
           }
          ],
          "mesh3d": [
           {
            "colorbar": {
             "outlinewidth": 0,
             "ticks": ""
            },
            "type": "mesh3d"
           }
          ],
          "parcoords": [
           {
            "line": {
             "colorbar": {
              "outlinewidth": 0,
              "ticks": ""
             }
            },
            "type": "parcoords"
           }
          ],
          "pie": [
           {
            "automargin": true,
            "type": "pie"
           }
          ],
          "scatter": [
           {
            "fillpattern": {
             "fillmode": "overlay",
             "size": 10,
             "solidity": 0.2
            },
            "type": "scatter"
           }
          ],
          "scatter3d": [
           {
            "line": {
             "colorbar": {
              "outlinewidth": 0,
              "ticks": ""
             }
            },
            "marker": {
             "colorbar": {
              "outlinewidth": 0,
              "ticks": ""
             }
            },
            "type": "scatter3d"
           }
          ],
          "scattercarpet": [
           {
            "marker": {
             "colorbar": {
              "outlinewidth": 0,
              "ticks": ""
             }
            },
            "type": "scattercarpet"
           }
          ],
          "scattergeo": [
           {
            "marker": {
             "colorbar": {
              "outlinewidth": 0,
              "ticks": ""
             }
            },
            "type": "scattergeo"
           }
          ],
          "scattergl": [
           {
            "marker": {
             "colorbar": {
              "outlinewidth": 0,
              "ticks": ""
             }
            },
            "type": "scattergl"
           }
          ],
          "scattermapbox": [
           {
            "marker": {
             "colorbar": {
              "outlinewidth": 0,
              "ticks": ""
             }
            },
            "type": "scattermapbox"
           }
          ],
          "scatterpolar": [
           {
            "marker": {
             "colorbar": {
              "outlinewidth": 0,
              "ticks": ""
             }
            },
            "type": "scatterpolar"
           }
          ],
          "scatterpolargl": [
           {
            "marker": {
             "colorbar": {
              "outlinewidth": 0,
              "ticks": ""
             }
            },
            "type": "scatterpolargl"
           }
          ],
          "scatterternary": [
           {
            "marker": {
             "colorbar": {
              "outlinewidth": 0,
              "ticks": ""
             }
            },
            "type": "scatterternary"
           }
          ],
          "surface": [
           {
            "colorbar": {
             "outlinewidth": 0,
             "ticks": ""
            },
            "colorscale": [
             [
              0,
              "#0d0887"
             ],
             [
              0.1111111111111111,
              "#46039f"
             ],
             [
              0.2222222222222222,
              "#7201a8"
             ],
             [
              0.3333333333333333,
              "#9c179e"
             ],
             [
              0.4444444444444444,
              "#bd3786"
             ],
             [
              0.5555555555555556,
              "#d8576b"
             ],
             [
              0.6666666666666666,
              "#ed7953"
             ],
             [
              0.7777777777777778,
              "#fb9f3a"
             ],
             [
              0.8888888888888888,
              "#fdca26"
             ],
             [
              1,
              "#f0f921"
             ]
            ],
            "type": "surface"
           }
          ],
          "table": [
           {
            "cells": {
             "fill": {
              "color": "#EBF0F8"
             },
             "line": {
              "color": "white"
             }
            },
            "header": {
             "fill": {
              "color": "#C8D4E3"
             },
             "line": {
              "color": "white"
             }
            },
            "type": "table"
           }
          ]
         },
         "layout": {
          "annotationdefaults": {
           "arrowcolor": "#2a3f5f",
           "arrowhead": 0,
           "arrowwidth": 1
          },
          "autotypenumbers": "strict",
          "coloraxis": {
           "colorbar": {
            "outlinewidth": 0,
            "ticks": ""
           }
          },
          "colorscale": {
           "diverging": [
            [
             0,
             "#8e0152"
            ],
            [
             0.1,
             "#c51b7d"
            ],
            [
             0.2,
             "#de77ae"
            ],
            [
             0.3,
             "#f1b6da"
            ],
            [
             0.4,
             "#fde0ef"
            ],
            [
             0.5,
             "#f7f7f7"
            ],
            [
             0.6,
             "#e6f5d0"
            ],
            [
             0.7,
             "#b8e186"
            ],
            [
             0.8,
             "#7fbc41"
            ],
            [
             0.9,
             "#4d9221"
            ],
            [
             1,
             "#276419"
            ]
           ],
           "sequential": [
            [
             0,
             "#0d0887"
            ],
            [
             0.1111111111111111,
             "#46039f"
            ],
            [
             0.2222222222222222,
             "#7201a8"
            ],
            [
             0.3333333333333333,
             "#9c179e"
            ],
            [
             0.4444444444444444,
             "#bd3786"
            ],
            [
             0.5555555555555556,
             "#d8576b"
            ],
            [
             0.6666666666666666,
             "#ed7953"
            ],
            [
             0.7777777777777778,
             "#fb9f3a"
            ],
            [
             0.8888888888888888,
             "#fdca26"
            ],
            [
             1,
             "#f0f921"
            ]
           ],
           "sequentialminus": [
            [
             0,
             "#0d0887"
            ],
            [
             0.1111111111111111,
             "#46039f"
            ],
            [
             0.2222222222222222,
             "#7201a8"
            ],
            [
             0.3333333333333333,
             "#9c179e"
            ],
            [
             0.4444444444444444,
             "#bd3786"
            ],
            [
             0.5555555555555556,
             "#d8576b"
            ],
            [
             0.6666666666666666,
             "#ed7953"
            ],
            [
             0.7777777777777778,
             "#fb9f3a"
            ],
            [
             0.8888888888888888,
             "#fdca26"
            ],
            [
             1,
             "#f0f921"
            ]
           ]
          },
          "colorway": [
           "#636efa",
           "#EF553B",
           "#00cc96",
           "#ab63fa",
           "#FFA15A",
           "#19d3f3",
           "#FF6692",
           "#B6E880",
           "#FF97FF",
           "#FECB52"
          ],
          "font": {
           "color": "#2a3f5f"
          },
          "geo": {
           "bgcolor": "white",
           "lakecolor": "white",
           "landcolor": "#E5ECF6",
           "showlakes": true,
           "showland": true,
           "subunitcolor": "white"
          },
          "hoverlabel": {
           "align": "left"
          },
          "hovermode": "closest",
          "mapbox": {
           "style": "light"
          },
          "paper_bgcolor": "white",
          "plot_bgcolor": "#E5ECF6",
          "polar": {
           "angularaxis": {
            "gridcolor": "white",
            "linecolor": "white",
            "ticks": ""
           },
           "bgcolor": "#E5ECF6",
           "radialaxis": {
            "gridcolor": "white",
            "linecolor": "white",
            "ticks": ""
           }
          },
          "scene": {
           "xaxis": {
            "backgroundcolor": "#E5ECF6",
            "gridcolor": "white",
            "gridwidth": 2,
            "linecolor": "white",
            "showbackground": true,
            "ticks": "",
            "zerolinecolor": "white"
           },
           "yaxis": {
            "backgroundcolor": "#E5ECF6",
            "gridcolor": "white",
            "gridwidth": 2,
            "linecolor": "white",
            "showbackground": true,
            "ticks": "",
            "zerolinecolor": "white"
           },
           "zaxis": {
            "backgroundcolor": "#E5ECF6",
            "gridcolor": "white",
            "gridwidth": 2,
            "linecolor": "white",
            "showbackground": true,
            "ticks": "",
            "zerolinecolor": "white"
           }
          },
          "shapedefaults": {
           "line": {
            "color": "#2a3f5f"
           }
          },
          "ternary": {
           "aaxis": {
            "gridcolor": "white",
            "linecolor": "white",
            "ticks": ""
           },
           "baxis": {
            "gridcolor": "white",
            "linecolor": "white",
            "ticks": ""
           },
           "bgcolor": "#E5ECF6",
           "caxis": {
            "gridcolor": "white",
            "linecolor": "white",
            "ticks": ""
           }
          },
          "title": {
           "x": 0.05
          },
          "xaxis": {
           "automargin": true,
           "gridcolor": "white",
           "linecolor": "white",
           "ticks": "",
           "title": {
            "standoff": 15
           },
           "zerolinecolor": "white",
           "zerolinewidth": 2
          },
          "yaxis": {
           "automargin": true,
           "gridcolor": "white",
           "linecolor": "white",
           "ticks": "",
           "title": {
            "standoff": 15
           },
           "zerolinecolor": "white",
           "zerolinewidth": 2
          }
         }
        }
       }
      }
     },
     "metadata": {},
     "output_type": "display_data"
    }
   ],
   "source": [
    "\n",
    "countries = rw.merge(country_codes, how='left', left_on=\"Country\", right_on='country')\n",
    "\n",
    "# Group by 'alpha3_code' and 'Country' and count the number of records in each group\n",
    "country_counts = countries.groupby(['alpha3_code', 'Country']).size().reset_index(name='Record_Count')\n",
    "\n",
    "fig = px.choropleth(country_counts, locations=\"alpha3_code\",\n",
    "                    color=\"Record_Count\",\n",
    "                    hover_name=\"Country\",\n",
    "                    color_continuous_scale=px.colors.sequential.Plasma)\n",
    "fig.show()\n"
   ]
  },
  {
   "cell_type": "code",
   "execution_count": 23,
   "metadata": {},
   "outputs": [
    {
     "data": {
      "text/html": [
       "<div>\n",
       "<style scoped>\n",
       "    .dataframe tbody tr th:only-of-type {\n",
       "        vertical-align: middle;\n",
       "    }\n",
       "\n",
       "    .dataframe tbody tr th {\n",
       "        vertical-align: top;\n",
       "    }\n",
       "\n",
       "    .dataframe thead th {\n",
       "        text-align: right;\n",
       "    }\n",
       "</style>\n",
       "<table border=\"1\" class=\"dataframe\">\n",
       "  <thead>\n",
       "    <tr style=\"text-align: right;\">\n",
       "      <th></th>\n",
       "      <th>alpha3_code</th>\n",
       "      <th>Country</th>\n",
       "      <th>Record_Count</th>\n",
       "    </tr>\n",
       "  </thead>\n",
       "  <tbody>\n",
       "    <tr>\n",
       "      <th>0</th>\n",
       "      <td>ALB</td>\n",
       "      <td>Albania</td>\n",
       "      <td>3</td>\n",
       "    </tr>\n",
       "    <tr>\n",
       "      <th>1</th>\n",
       "      <td>ARE</td>\n",
       "      <td>United Arab Emirates</td>\n",
       "      <td>16</td>\n",
       "    </tr>\n",
       "    <tr>\n",
       "      <th>2</th>\n",
       "      <td>ARG</td>\n",
       "      <td>Argentina</td>\n",
       "      <td>31</td>\n",
       "    </tr>\n",
       "    <tr>\n",
       "      <th>3</th>\n",
       "      <td>ARM</td>\n",
       "      <td>Armenia</td>\n",
       "      <td>2</td>\n",
       "    </tr>\n",
       "    <tr>\n",
       "      <th>4</th>\n",
       "      <td>AUS</td>\n",
       "      <td>Australia</td>\n",
       "      <td>249</td>\n",
       "    </tr>\n",
       "    <tr>\n",
       "      <th>...</th>\n",
       "      <td>...</td>\n",
       "      <td>...</td>\n",
       "      <td>...</td>\n",
       "    </tr>\n",
       "    <tr>\n",
       "      <th>121</th>\n",
       "      <td>UZB</td>\n",
       "      <td>Uzbekistan</td>\n",
       "      <td>20</td>\n",
       "    </tr>\n",
       "    <tr>\n",
       "      <th>122</th>\n",
       "      <td>VEN</td>\n",
       "      <td>Venezuela</td>\n",
       "      <td>4</td>\n",
       "    </tr>\n",
       "    <tr>\n",
       "      <th>123</th>\n",
       "      <td>VNM</td>\n",
       "      <td>Vietnam</td>\n",
       "      <td>22</td>\n",
       "    </tr>\n",
       "    <tr>\n",
       "      <th>124</th>\n",
       "      <td>YEM</td>\n",
       "      <td>Yemen</td>\n",
       "      <td>2</td>\n",
       "    </tr>\n",
       "    <tr>\n",
       "      <th>125</th>\n",
       "      <td>ZAF</td>\n",
       "      <td>South Africa</td>\n",
       "      <td>64</td>\n",
       "    </tr>\n",
       "  </tbody>\n",
       "</table>\n",
       "<p>126 rows × 3 columns</p>\n",
       "</div>"
      ],
      "text/plain": [
       "    alpha3_code               Country  Record_Count\n",
       "0           ALB               Albania             3\n",
       "1           ARE  United Arab Emirates            16\n",
       "2           ARG             Argentina            31\n",
       "3           ARM               Armenia             2\n",
       "4           AUS             Australia           249\n",
       "..          ...                   ...           ...\n",
       "121         UZB            Uzbekistan            20\n",
       "122         VEN             Venezuela             4\n",
       "123         VNM               Vietnam            22\n",
       "124         YEM                 Yemen             2\n",
       "125         ZAF          South Africa            64\n",
       "\n",
       "[126 rows x 3 columns]"
      ]
     },
     "execution_count": 23,
     "metadata": {},
     "output_type": "execute_result"
    }
   ],
   "source": [
    "country_counts"
   ]
  },
  {
   "cell_type": "markdown",
   "metadata": {},
   "source": [
    "# 2.4 - Analysis per Journal <a class=\"anchor\" id=\"section_2_4\"></a>"
   ]
  },
  {
   "cell_type": "markdown",
   "metadata": {},
   "source": [
    "# 2.5 - Analysis per Scientific area <a class=\"anchor\" id=\"section_2_5\"></a>"
   ]
  },
  {
   "cell_type": "code",
   "execution_count": null,
   "metadata": {},
   "outputs": [
    {
     "data": {
      "text/html": [
       "<div>\n",
       "<style scoped>\n",
       "    .dataframe tbody tr th:only-of-type {\n",
       "        vertical-align: middle;\n",
       "    }\n",
       "\n",
       "    .dataframe tbody tr th {\n",
       "        vertical-align: top;\n",
       "    }\n",
       "\n",
       "    .dataframe thead th {\n",
       "        text-align: right;\n",
       "    }\n",
       "</style>\n",
       "<table border=\"1\" class=\"dataframe\">\n",
       "  <thead>\n",
       "    <tr style=\"text-align: right;\">\n",
       "      <th></th>\n",
       "      <th>Record ID</th>\n",
       "      <th>Subject</th>\n",
       "    </tr>\n",
       "  </thead>\n",
       "  <tbody>\n",
       "    <tr>\n",
       "      <th>0</th>\n",
       "      <td>47271</td>\n",
       "      <td>(BLS) Biology - Cellular</td>\n",
       "    </tr>\n",
       "    <tr>\n",
       "      <th>0</th>\n",
       "      <td>47271</td>\n",
       "      <td>(BLS) Biology - General</td>\n",
       "    </tr>\n",
       "    <tr>\n",
       "      <th>0</th>\n",
       "      <td>47271</td>\n",
       "      <td>(BLS) Biology - Molecular</td>\n",
       "    </tr>\n",
       "    <tr>\n",
       "      <th>0</th>\n",
       "      <td>47271</td>\n",
       "      <td>(BLS) Neuroscience</td>\n",
       "    </tr>\n",
       "    <tr>\n",
       "      <th>1</th>\n",
       "      <td>47270</td>\n",
       "      <td>(BLS) Biochemistry</td>\n",
       "    </tr>\n",
       "    <tr>\n",
       "      <th>...</th>\n",
       "      <td>...</td>\n",
       "      <td>...</td>\n",
       "    </tr>\n",
       "    <tr>\n",
       "      <th>42696</th>\n",
       "      <td>18529</td>\n",
       "      <td>(PHY) Physics</td>\n",
       "    </tr>\n",
       "    <tr>\n",
       "      <th>42697</th>\n",
       "      <td>18531</td>\n",
       "      <td>(PHY) Physics</td>\n",
       "    </tr>\n",
       "    <tr>\n",
       "      <th>42697</th>\n",
       "      <td>18531</td>\n",
       "      <td>(SOC) Philosophy</td>\n",
       "    </tr>\n",
       "    <tr>\n",
       "      <th>42698</th>\n",
       "      <td>17246</td>\n",
       "      <td>(ENV) Climatology</td>\n",
       "    </tr>\n",
       "    <tr>\n",
       "      <th>42699</th>\n",
       "      <td>18930</td>\n",
       "      <td>(PHY) Energy</td>\n",
       "    </tr>\n",
       "  </tbody>\n",
       "</table>\n",
       "<p>107986 rows × 2 columns</p>\n",
       "</div>"
      ],
      "text/plain": [
       "       Record ID                    Subject\n",
       "0          47271   (BLS) Biology - Cellular\n",
       "0          47271    (BLS) Biology - General\n",
       "0          47271  (BLS) Biology - Molecular\n",
       "0          47271         (BLS) Neuroscience\n",
       "1          47270         (BLS) Biochemistry\n",
       "...          ...                        ...\n",
       "42696      18529              (PHY) Physics\n",
       "42697      18531              (PHY) Physics\n",
       "42697      18531           (SOC) Philosophy\n",
       "42698      17246          (ENV) Climatology\n",
       "42699      18930               (PHY) Energy\n",
       "\n",
       "[107986 rows x 2 columns]"
      ]
     },
     "metadata": {},
     "output_type": "display_data"
    }
   ],
   "source": [
    "subject = rw[['Record ID','Subject']]\n",
    "subject.loc[:, 'Subject'] = subject['Subject'].str.split(';')\n",
    "subject = subject.explode('Subject')\n",
    "subject = subject[subject['Subject'].str.strip() != \"\"]\n",
    "subject"
   ]
  },
  {
   "cell_type": "code",
   "execution_count": null,
   "metadata": {},
   "outputs": [
    {
     "data": {
      "text/plain": [
       "Subject\n",
       "(BLS) Biology - Cellular         8013\n",
       "(B/T) Technology                 5677\n",
       "(BLS) Genetics                   5154\n",
       "(BLS) Biochemistry               4649\n",
       "(B/T) Computer Science           4622\n",
       "                                 ... \n",
       "(B/T) Foreign Aid                   8\n",
       "(HUM) History - South America       7\n",
       "(HUM) History - United States       7\n",
       "(PHY) Forensic Sciences             3\n",
       "(HUM) History - Australia           1\n",
       "Name: count, Length: 130, dtype: int64"
      ]
     },
     "metadata": {},
     "output_type": "display_data"
    }
   ],
   "source": [
    "subject['Subject'].value_counts()#[:30]"
   ]
  },
  {
   "cell_type": "code",
   "execution_count": null,
   "metadata": {},
   "outputs": [],
   "source": [
    "subject['Subject'].value_counts().to_excel('../subject_retractions.xlsx')"
   ]
  }
 ],
 "metadata": {
  "kernelspec": {
   "display_name": "Python 3",
   "language": "python",
   "name": "python3"
  },
  "language_info": {
   "codemirror_mode": {
    "name": "ipython",
    "version": 3
   },
   "file_extension": ".py",
   "mimetype": "text/x-python",
   "name": "python",
   "nbconvert_exporter": "python",
   "pygments_lexer": "ipython3",
   "version": "3.10.11"
  },
  "orig_nbformat": 4
 },
 "nbformat": 4,
 "nbformat_minor": 2
}
