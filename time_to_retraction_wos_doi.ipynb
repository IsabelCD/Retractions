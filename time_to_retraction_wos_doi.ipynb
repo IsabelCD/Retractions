{
 "cells": [
  {
   "cell_type": "markdown",
   "metadata": {},
   "source": [
    "* [Chapter 0 - Libraries and Imports](#chapter0)\n",
    "* [Chapter 1 - Basic Time-to-Retraction Statistics](#chapter1)\n",
    "* [Chapter 2 - Temporal trends](#chapter2)\n",
    "* [Chapter 3 - Reasons for Retraction](#chapter3)\n",
    "* [Chapter 4 - Geographical Differences](#chapter4)\n"
   ]
  },
  {
   "cell_type": "markdown",
   "metadata": {},
   "source": [
    "<div class=\"alert alert-block alert-info\" style = \"background:#d0de6f; color:#000000; border:0;\">\n",
    "\n",
    "# Chapter 0 - Libraries and Imports <a class=\"anchor\" id=\"chapter0\"></a>"
   ]
  },
  {
   "cell_type": "code",
   "execution_count": 6,
   "metadata": {},
   "outputs": [],
   "source": [
    "import pandas as pd\n",
    "import numpy as np\n",
    "import math\n",
    "import matplotlib.pyplot as plt\n",
    "import seaborn as sns\n",
    "import plotly.express as px\n",
    "from scipy.stats import mannwhitneyu"
   ]
  },
  {
   "cell_type": "code",
   "execution_count": 7,
   "metadata": {},
   "outputs": [],
   "source": [
    "retractions_import = pd.read_excel('./retractions_data/rw_wos_scimago_by_dois.xlsx')"
   ]
  },
  {
   "cell_type": "code",
   "execution_count": 8,
   "metadata": {},
   "outputs": [],
   "source": [
    "retractions = retractions_import.copy()"
   ]
  },
  {
   "cell_type": "code",
   "execution_count": 9,
   "metadata": {},
   "outputs": [
    {
     "name": "stdout",
     "output_type": "stream",
     "text": [
      "<class 'pandas.core.frame.DataFrame'>\n",
      "RangeIndex: 20260 entries, 0 to 20259\n",
      "Data columns (total 54 columns):\n",
      " #   Column                                 Non-Null Count  Dtype         \n",
      "---  ------                                 --------------  -----         \n",
      " 0   Record ID                              20260 non-null  int64         \n",
      " 1   Title                                  20260 non-null  object        \n",
      " 2   Subject                                20260 non-null  object        \n",
      " 3   Institution                            20259 non-null  object        \n",
      " 4   Journal                                20260 non-null  object        \n",
      " 5   Publisher                              20260 non-null  object        \n",
      " 6   Country                                20260 non-null  object        \n",
      " 7   Author                                 20260 non-null  object        \n",
      " 8   URLS                                   7933 non-null   object        \n",
      " 9   ArticleType                            20260 non-null  object        \n",
      " 10  RetractionDate                         20260 non-null  datetime64[ns]\n",
      " 11  RetractionDOI                          20085 non-null  object        \n",
      " 12  RetractionPubMedID                     19494 non-null  float64       \n",
      " 13  OriginalPaperDate                      20260 non-null  datetime64[ns]\n",
      " 14  OriginalPaperDOI                       20260 non-null  object        \n",
      " 15  OriginalPaperPubMedID                  19527 non-null  float64       \n",
      " 16  RetractionNature                       20260 non-null  object        \n",
      " 17  Reason                                 20260 non-null  object        \n",
      " 18  Paywalled                              20260 non-null  object        \n",
      " 19  Notes                                  5095 non-null   object        \n",
      " 20  authors                                20258 non-null  object        \n",
      " 21  author_fullnames                       20258 non-null  object        \n",
      " 22  cited_references                       20158 non-null  object        \n",
      " 23  abstract                               18796 non-null  object        \n",
      " 24  author_keywords                        12648 non-null  object        \n",
      " 25  doi                                    20260 non-null  object        \n",
      " 26  document_type                          20260 non-null  object        \n",
      " 27  funding_agency_and_grant_number        8672 non-null   object        \n",
      " 28  esi_highly_cited                       45 non-null     object        \n",
      " 29  esi_hot_paper                          45 non-null     object        \n",
      " 30  keywords_plus                          16770 non-null  object        \n",
      " 31  language                               20260 non-null  object        \n",
      " 32  early_access_date                      2017 non-null   datetime64[ns]\n",
      " 33  cited_reference_count                  20260 non-null  int64         \n",
      " 34  open_access_indicator                  11727 non-null  object        \n",
      " 35  orcid                                  8287 non-null   object        \n",
      " 36  publication_date                       20260 non-null  datetime64[ns]\n",
      " 37  page_count                             20260 non-null  int64         \n",
      " 38  pubmed_id                              13481 non-null  float64       \n",
      " 39  publication_type                       20260 non-null  object        \n",
      " 40  publisher                              20259 non-null  object        \n",
      " 41  year_published                         20260 non-null  int64         \n",
      " 42  researcher_id_nr                       10312 non-null  object        \n",
      " 43  research_areas                         20258 non-null  object        \n",
      " 44  issn                                   18926 non-null  object        \n",
      " 45  publication_name                       20260 non-null  object        \n",
      " 46  wos_core_collection_times_cited_count  20260 non-null  int64         \n",
      " 47  document_title                         20260 non-null  object        \n",
      " 48  wos_categories                         20258 non-null  object        \n",
      " 49  total_times_cited_count                20260 non-null  int64         \n",
      " 50  authors_affiliations                   19702 non-null  object        \n",
      " 51  corresponding_author_affiliation       20260 non-null  object        \n",
      " 52  Issn                                   17604 non-null  object        \n",
      " 53  SJR Best Quartile                      17604 non-null  object        \n",
      "dtypes: datetime64[ns](4), float64(3), int64(6), object(41)\n",
      "memory usage: 8.3+ MB\n"
     ]
    }
   ],
   "source": [
    "retractions.info()"
   ]
  },
  {
   "cell_type": "code",
   "execution_count": 10,
   "metadata": {},
   "outputs": [
    {
     "data": {
      "text/plain": [
       "Subject\n",
       "(BLS) Biology - Cancer;(BLS) Biology - Cellular;(BLS) Genetics;                                                                        1180\n",
       "(B/T) Computer Science;(B/T) Technology;                                                                                                317\n",
       "(BLS) Biochemistry;(BLS) Biology - Cellular;                                                                                            308\n",
       "(BLS) Biology - Cancer;(BLS) Biology - Cellular;(BLS) Biology - Molecular;(BLS) Genetics;                                               250\n",
       "(PHY) Chemistry;                                                                                                                        213\n",
       "                                                                                                                                       ... \n",
       "(PHY) Chemistry;(PHY) Crystallography/Spectroscopy;(SOC) Forensics;                                                                       1\n",
       "(BLS) Biochemistry;(BLS) Biology - Cellular;(BLS) Genetics;(HSC) Medicine - Drug Design;(HSC) Medicine - Oncology;                        1\n",
       "(BLS) Biology - Cancer;(BLS) Biology - Cellular;(HSC) Medicine - Infectious Disease;(HSC) Medicine - Oncology;(PHY) Nanotechnology;       1\n",
       "(HSC) Medicine - Infectious Disease;(HSC) Medicine - Orthopedics;(HSC) Medicine - Rehabilitation/Therapy;(HSC) Medicine - Surgery;        1\n",
       "(BLS) Biology - Cellular;(BLS) Microbiology;(HSC) Medicine - Neurology;                                                                   1\n",
       "Name: count, Length: 6317, dtype: int64"
      ]
     },
     "execution_count": 10,
     "metadata": {},
     "output_type": "execute_result"
    }
   ],
   "source": [
    "retractions['Subject'].value_counts()"
   ]
  },
  {
   "cell_type": "markdown",
   "metadata": {},
   "source": [
    "<div class=\"alert alert-block alert-info\" style = \"background:#d0de6f; color:#000000; border:0;\">\n",
    "\n",
    "# Chapter 1 - Basic Retraction Statistics <a class=\"anchor\" id=\"chapter1\"></a>"
   ]
  },
  {
   "cell_type": "code",
   "execution_count": 11,
   "metadata": {},
   "outputs": [],
   "source": [
    "# Create variable with time-to-retraction\n",
    "retractions['time_to_retraction'] = ((retractions['RetractionDate']-retractions['OriginalPaperDate']) / pd.Timedelta(days=30.4375))"
   ]
  },
  {
   "cell_type": "code",
   "execution_count": 12,
   "metadata": {},
   "outputs": [
    {
     "data": {
      "text/html": [
       "<div>\n",
       "<style scoped>\n",
       "    .dataframe tbody tr th:only-of-type {\n",
       "        vertical-align: middle;\n",
       "    }\n",
       "\n",
       "    .dataframe tbody tr th {\n",
       "        vertical-align: top;\n",
       "    }\n",
       "\n",
       "    .dataframe thead th {\n",
       "        text-align: right;\n",
       "    }\n",
       "</style>\n",
       "<table border=\"1\" class=\"dataframe\">\n",
       "  <thead>\n",
       "    <tr style=\"text-align: right;\">\n",
       "      <th></th>\n",
       "      <th>Área científica</th>\n",
       "      <th>Classificação Isabel</th>\n",
       "    </tr>\n",
       "  </thead>\n",
       "  <tbody>\n",
       "    <tr>\n",
       "      <th>0</th>\n",
       "      <td>GEOCHEMISTRY \\&amp; GEOPHYSICS</td>\n",
       "      <td>0</td>\n",
       "    </tr>\n",
       "    <tr>\n",
       "      <th>1</th>\n",
       "      <td>ONCOLOGY</td>\n",
       "      <td>1</td>\n",
       "    </tr>\n",
       "    <tr>\n",
       "      <th>2</th>\n",
       "      <td>BUSINESS \\&amp; ECONOMICS</td>\n",
       "      <td>0</td>\n",
       "    </tr>\n",
       "    <tr>\n",
       "      <th>3</th>\n",
       "      <td>PHYSICAL GEOGRAPHY</td>\n",
       "      <td>0</td>\n",
       "    </tr>\n",
       "    <tr>\n",
       "      <th>4</th>\n",
       "      <td>GEOLOGY</td>\n",
       "      <td>0</td>\n",
       "    </tr>\n",
       "    <tr>\n",
       "      <th>...</th>\n",
       "      <td>...</td>\n",
       "      <td>...</td>\n",
       "    </tr>\n",
       "    <tr>\n",
       "      <th>113</th>\n",
       "      <td>DENTISTRY, ORAL SURGERY \\&amp; MEDICINE</td>\n",
       "      <td>1</td>\n",
       "    </tr>\n",
       "    <tr>\n",
       "      <th>114</th>\n",
       "      <td>WOMEN'S STUDIES</td>\n",
       "      <td>0</td>\n",
       "    </tr>\n",
       "    <tr>\n",
       "      <th>115</th>\n",
       "      <td>SPECTROSCOPY</td>\n",
       "      <td>1</td>\n",
       "    </tr>\n",
       "    <tr>\n",
       "      <th>116</th>\n",
       "      <td>MARINE \\&amp; FRESHWATER BIOLOGY</td>\n",
       "      <td>0</td>\n",
       "    </tr>\n",
       "    <tr>\n",
       "      <th>117</th>\n",
       "      <td>ANTHROPOLOGY</td>\n",
       "      <td>0</td>\n",
       "    </tr>\n",
       "  </tbody>\n",
       "</table>\n",
       "<p>118 rows × 2 columns</p>\n",
       "</div>"
      ],
      "text/plain": [
       "                         Área científica  Classificação Isabel\n",
       "0             GEOCHEMISTRY \\& GEOPHYSICS                     0\n",
       "1                               ONCOLOGY                     1\n",
       "2                  BUSINESS \\& ECONOMICS                     0\n",
       "3                     PHYSICAL GEOGRAPHY                     0\n",
       "4                                GEOLOGY                     0\n",
       "..                                   ...                   ...\n",
       "113  DENTISTRY, ORAL SURGERY \\& MEDICINE                     1\n",
       "114                      WOMEN'S STUDIES                     0\n",
       "115                         SPECTROSCOPY                     1\n",
       "116         MARINE \\& FRESHWATER BIOLOGY                     0\n",
       "117                         ANTHROPOLOGY                     0\n",
       "\n",
       "[118 rows x 2 columns]"
      ]
     },
     "execution_count": 12,
     "metadata": {},
     "output_type": "execute_result"
    }
   ],
   "source": [
    "# Import excel with the classification of areas (biomed or not)\n",
    "classif_areas = pd.read_excel('./research_areas_wos_classified.xlsx')\n",
    "classif_areas"
   ]
  },
  {
   "cell_type": "code",
   "execution_count": 13,
   "metadata": {},
   "outputs": [],
   "source": [
    "def create_biomed_variable(df, id):\n",
    "    areas = df[[id,'research_areas']]\n",
    "    areas.loc[:, 'research_areas'] = df['research_areas'].str.split(';')\n",
    "    areas = areas.explode('research_areas')\n",
    "    areas = areas[areas['research_areas'].str.strip() != \"\"]\n",
    "    areas['research_areas'] = areas['research_areas'].str.strip()\n",
    "    \n",
    "    areas = areas.merge(classif_areas, how= 'left', left_on = 'research_areas', right_on = 'Área científica')\n",
    "    areas['Biomedicine'] = np.where(areas['Classificação Isabel'] >= 1, 1, 0)\n",
    "\n",
    "    df = df.merge(areas.groupby(id)['Biomedicine'].sum(), how='left', on = id)\n",
    "    df['Biomedicine'] = np.where(df['Biomedicine']>=1, 1, 0)\n",
    "\n",
    "    return df"
   ]
  },
  {
   "cell_type": "code",
   "execution_count": 14,
   "metadata": {},
   "outputs": [],
   "source": [
    "# control_set = create_biomed_variable(control_set, 'doi')"
   ]
  },
  {
   "cell_type": "code",
   "execution_count": 15,
   "metadata": {},
   "outputs": [],
   "source": [
    "retractions = create_biomed_variable(retractions, 'Record ID')"
   ]
  },
  {
   "cell_type": "code",
   "execution_count": 16,
   "metadata": {},
   "outputs": [
    {
     "name": "stdout",
     "output_type": "stream",
     "text": [
      "<class 'pandas.core.frame.DataFrame'>\n",
      "RangeIndex: 20260 entries, 0 to 20259\n",
      "Data columns (total 56 columns):\n",
      " #   Column                                 Non-Null Count  Dtype         \n",
      "---  ------                                 --------------  -----         \n",
      " 0   Record ID                              20260 non-null  int64         \n",
      " 1   Title                                  20260 non-null  object        \n",
      " 2   Subject                                20260 non-null  object        \n",
      " 3   Institution                            20259 non-null  object        \n",
      " 4   Journal                                20260 non-null  object        \n",
      " 5   Publisher                              20260 non-null  object        \n",
      " 6   Country                                20260 non-null  object        \n",
      " 7   Author                                 20260 non-null  object        \n",
      " 8   URLS                                   7933 non-null   object        \n",
      " 9   ArticleType                            20260 non-null  object        \n",
      " 10  RetractionDate                         20260 non-null  datetime64[ns]\n",
      " 11  RetractionDOI                          20085 non-null  object        \n",
      " 12  RetractionPubMedID                     19494 non-null  float64       \n",
      " 13  OriginalPaperDate                      20260 non-null  datetime64[ns]\n",
      " 14  OriginalPaperDOI                       20260 non-null  object        \n",
      " 15  OriginalPaperPubMedID                  19527 non-null  float64       \n",
      " 16  RetractionNature                       20260 non-null  object        \n",
      " 17  Reason                                 20260 non-null  object        \n",
      " 18  Paywalled                              20260 non-null  object        \n",
      " 19  Notes                                  5095 non-null   object        \n",
      " 20  authors                                20258 non-null  object        \n",
      " 21  author_fullnames                       20258 non-null  object        \n",
      " 22  cited_references                       20158 non-null  object        \n",
      " 23  abstract                               18796 non-null  object        \n",
      " 24  author_keywords                        12648 non-null  object        \n",
      " 25  doi                                    20260 non-null  object        \n",
      " 26  document_type                          20260 non-null  object        \n",
      " 27  funding_agency_and_grant_number        8672 non-null   object        \n",
      " 28  esi_highly_cited                       45 non-null     object        \n",
      " 29  esi_hot_paper                          45 non-null     object        \n",
      " 30  keywords_plus                          16770 non-null  object        \n",
      " 31  language                               20260 non-null  object        \n",
      " 32  early_access_date                      2017 non-null   datetime64[ns]\n",
      " 33  cited_reference_count                  20260 non-null  int64         \n",
      " 34  open_access_indicator                  11727 non-null  object        \n",
      " 35  orcid                                  8287 non-null   object        \n",
      " 36  publication_date                       20260 non-null  datetime64[ns]\n",
      " 37  page_count                             20260 non-null  int64         \n",
      " 38  pubmed_id                              13481 non-null  float64       \n",
      " 39  publication_type                       20260 non-null  object        \n",
      " 40  publisher                              20259 non-null  object        \n",
      " 41  year_published                         20260 non-null  int64         \n",
      " 42  researcher_id_nr                       10312 non-null  object        \n",
      " 43  research_areas                         20258 non-null  object        \n",
      " 44  issn                                   18926 non-null  object        \n",
      " 45  publication_name                       20260 non-null  object        \n",
      " 46  wos_core_collection_times_cited_count  20260 non-null  int64         \n",
      " 47  document_title                         20260 non-null  object        \n",
      " 48  wos_categories                         20258 non-null  object        \n",
      " 49  total_times_cited_count                20260 non-null  int64         \n",
      " 50  authors_affiliations                   19702 non-null  object        \n",
      " 51  corresponding_author_affiliation       20260 non-null  object        \n",
      " 52  Issn                                   17604 non-null  object        \n",
      " 53  SJR Best Quartile                      17604 non-null  object        \n",
      " 54  time_to_retraction                     20260 non-null  float64       \n",
      " 55  Biomedicine                            20260 non-null  int32         \n",
      "dtypes: datetime64[ns](4), float64(4), int32(1), int64(6), object(41)\n",
      "memory usage: 8.6+ MB\n"
     ]
    }
   ],
   "source": [
    "retractions.info()"
   ]
  },
  {
   "cell_type": "code",
   "execution_count": 17,
   "metadata": {},
   "outputs": [],
   "source": [
    "# Obtain corresponding author of article (first author in list)\n",
    "retractions['corresponding_author'] = retractions['Author'].str.split(';').str[0]"
   ]
  },
  {
   "cell_type": "code",
   "execution_count": 18,
   "metadata": {},
   "outputs": [
    {
     "name": "stderr",
     "output_type": "stream",
     "text": [
      "C:\\Users\\isabe\\AppData\\Local\\Temp\\ipykernel_11820\\2398385438.py:3: UserWarning: This pattern is interpreted as a regular expression, and has match groups. To actually get the groups, use str.extract.\n",
      "  retractions.loc[index, 'nr_of_offenses'] = retractions['Author'].str.contains(row['corresponding_author']).sum()\n"
     ]
    }
   ],
   "source": [
    "# Create a new variable with the number of retractions the corresponding author has had \n",
    "for index, row in retractions.iterrows():\n",
    "    retractions.loc[index, 'nr_of_offenses'] = retractions['Author'].str.contains(row['corresponding_author']).sum()"
   ]
  },
  {
   "cell_type": "code",
   "execution_count": 19,
   "metadata": {},
   "outputs": [],
   "source": [
    "# Map the number of offenses into three categories\n",
    "def map_to_category(nr_of_offenses):\n",
    "    if nr_of_offenses == 1:\n",
    "        return \"1\"\n",
    "    elif 2 <= nr_of_offenses <= 10:\n",
    "        return \"2-10\"\n",
    "    else:\n",
    "        return \">10\"\n",
    "\n",
    "retractions['groups_authors'] = retractions['nr_of_offenses'].apply(map_to_category)"
   ]
  },
  {
   "cell_type": "code",
   "execution_count": 20,
   "metadata": {},
   "outputs": [
    {
     "data": {
      "text/html": [
       "<div>\n",
       "<style scoped>\n",
       "    .dataframe tbody tr th:only-of-type {\n",
       "        vertical-align: middle;\n",
       "    }\n",
       "\n",
       "    .dataframe tbody tr th {\n",
       "        vertical-align: top;\n",
       "    }\n",
       "\n",
       "    .dataframe thead th {\n",
       "        text-align: right;\n",
       "    }\n",
       "</style>\n",
       "<table border=\"1\" class=\"dataframe\">\n",
       "  <thead>\n",
       "    <tr style=\"text-align: right;\">\n",
       "      <th></th>\n",
       "      <th>corresponding_author</th>\n",
       "      <th>Record ID</th>\n",
       "      <th>Title</th>\n",
       "      <th>Subject</th>\n",
       "      <th>Institution</th>\n",
       "      <th>Journal</th>\n",
       "      <th>Publisher</th>\n",
       "      <th>Country</th>\n",
       "      <th>Author</th>\n",
       "      <th>URLS</th>\n",
       "      <th>...</th>\n",
       "      <th>wos_categories</th>\n",
       "      <th>total_times_cited_count</th>\n",
       "      <th>authors_affiliations</th>\n",
       "      <th>corresponding_author_affiliation</th>\n",
       "      <th>Issn</th>\n",
       "      <th>SJR Best Quartile</th>\n",
       "      <th>time_to_retraction</th>\n",
       "      <th>Biomedicine</th>\n",
       "      <th>nr_of_offenses</th>\n",
       "      <th>groups_authors</th>\n",
       "    </tr>\n",
       "  </thead>\n",
       "  <tbody>\n",
       "    <tr>\n",
       "      <th>0</th>\n",
       "      <td>A A Adeniji</td>\n",
       "      <td>4320</td>\n",
       "      <td>Effects of replacing groundnut cake with rumen...</td>\n",
       "      <td>(B/T) Business - Economics;(BLS) Agriculture;(...</td>\n",
       "      <td>Department of Animal Science, Faculty of Agric...</td>\n",
       "      <td>Lipids in Health and Disease</td>\n",
       "      <td>BioMed Central (BMC)</td>\n",
       "      <td>Nigeria</td>\n",
       "      <td>A A Adeniji;S Rumak;R A Oluwafemi</td>\n",
       "      <td>None</td>\n",
       "      <td>...</td>\n",
       "      <td>BIOCHEMISTRY &amp; MOLECULAR BIOLOGY; NUTRITION &amp; ...</td>\n",
       "      <td>3</td>\n",
       "      <td>UNIV ABUJA</td>\n",
       "      <td>UNIV ABUJA</td>\n",
       "      <td>None</td>\n",
       "      <td>None</td>\n",
       "      <td>5.289528</td>\n",
       "      <td>0</td>\n",
       "      <td>1.0</td>\n",
       "      <td>1</td>\n",
       "    </tr>\n",
       "    <tr>\n",
       "      <th>1</th>\n",
       "      <td>A A Akhpashev</td>\n",
       "      <td>41086</td>\n",
       "      <td>Knee Joint Gait Function in Patients with ACL ...</td>\n",
       "      <td>(HSC) Medicine - Orthopedics;(HSC) Medicine - ...</td>\n",
       "      <td>Peoplesâ€™ Friendship University of Russia, Ru...</td>\n",
       "      <td>Traumatology and Orthopedics of Russia (Ð¢Ñ€Ð°...</td>\n",
       "      <td>Eco-Vector</td>\n",
       "      <td>Russia</td>\n",
       "      <td>A A Akhpashev;N V Zagorodniy;A S Kanaev;S N Ka...</td>\n",
       "      <td>None</td>\n",
       "      <td>...</td>\n",
       "      <td>ORTHOPEDICS</td>\n",
       "      <td>9</td>\n",
       "      <td>None</td>\n",
       "      <td>NOTREPORTED</td>\n",
       "      <td>None</td>\n",
       "      <td>None</td>\n",
       "      <td>72.607803</td>\n",
       "      <td>1</td>\n",
       "      <td>1.0</td>\n",
       "      <td>1</td>\n",
       "    </tr>\n",
       "    <tr>\n",
       "      <th>2</th>\n",
       "      <td>A A Akom</td>\n",
       "      <td>21947</td>\n",
       "      <td>Breaking the Chains of Food Apartheid: Using Y...</td>\n",
       "      <td>(ENV) Food Science;(SOC) Sociology;</td>\n",
       "      <td>San Francisco State University, San Francisco,...</td>\n",
       "      <td>Race And Social Problems</td>\n",
       "      <td>Springer</td>\n",
       "      <td>United States</td>\n",
       "      <td>A A Akom;Aekta Shah;Aaron Nakai</td>\n",
       "      <td>None</td>\n",
       "      <td>...</td>\n",
       "      <td>ETHNIC STUDIES; SOCIAL SCIENCES, INTERDISCIPLI...</td>\n",
       "      <td>1</td>\n",
       "      <td>CALIFORNIA STATE UNIVERSITY SYSTEM; SAN FRANCI...</td>\n",
       "      <td>STANFORD UNIV</td>\n",
       "      <td>18671748</td>\n",
       "      <td>Q1</td>\n",
       "      <td>0.000000</td>\n",
       "      <td>0</td>\n",
       "      <td>1.0</td>\n",
       "      <td>1</td>\n",
       "    </tr>\n",
       "    <tr>\n",
       "      <th>3</th>\n",
       "      <td>A A Cherechukin</td>\n",
       "      <td>18548</td>\n",
       "      <td>Influence of three-dimensional transition elem...</td>\n",
       "      <td>(PHY) Chemistry;(PHY) Physics;</td>\n",
       "      <td>Institute of Fluid Science, Tohoku University,...</td>\n",
       "      <td>Journal of Applied Physics</td>\n",
       "      <td>AIP Publishing</td>\n",
       "      <td>Japan</td>\n",
       "      <td>A A Cherechukin;Toshiyuki Takagi;H Miki;Minoru...</td>\n",
       "      <td>None</td>\n",
       "      <td>...</td>\n",
       "      <td>PHYSICS, APPLIED</td>\n",
       "      <td>14</td>\n",
       "      <td>TOHOKU UNIVERSITY; AKITA PREFECTURAL UNIVERSIT...</td>\n",
       "      <td>TOHOKU UNIV</td>\n",
       "      <td>00218979</td>\n",
       "      <td>Q2</td>\n",
       "      <td>12.418891</td>\n",
       "      <td>0</td>\n",
       "      <td>1.0</td>\n",
       "      <td>1</td>\n",
       "    </tr>\n",
       "    <tr>\n",
       "      <th>4</th>\n",
       "      <td>A A Gadalla</td>\n",
       "      <td>26261</td>\n",
       "      <td>Synthesis and characterization of Mn-doped CdS...</td>\n",
       "      <td>(PHY) Engineering - Chemical;(PHY) Nanotechnol...</td>\n",
       "      <td>Physics Department, Faculty of Science, Assiut...</td>\n",
       "      <td>Journal of Materials Science: Materials in Ele...</td>\n",
       "      <td>Springer</td>\n",
       "      <td>Egypt;India</td>\n",
       "      <td>A A Gadalla;A N Aboelkhir;M G Mahesha;Ashok Rao</td>\n",
       "      <td>None</td>\n",
       "      <td>...</td>\n",
       "      <td>ENGINEERING, ELECTRICAL &amp; ELECTRONIC; MATERIAL...</td>\n",
       "      <td>3</td>\n",
       "      <td>EGYPTIAN KNOWLEDGE BANK (EKB); ASSIUT UNIVERSI...</td>\n",
       "      <td>ASSIUT UNIV;MANIPAL INST TECHNOL</td>\n",
       "      <td>09574522</td>\n",
       "      <td>Q2</td>\n",
       "      <td>11.137577</td>\n",
       "      <td>0</td>\n",
       "      <td>1.0</td>\n",
       "      <td>1</td>\n",
       "    </tr>\n",
       "  </tbody>\n",
       "</table>\n",
       "<p>5 rows × 59 columns</p>\n",
       "</div>"
      ],
      "text/plain": [
       "  corresponding_author  Record ID  \\\n",
       "0          A A Adeniji       4320   \n",
       "1        A A Akhpashev      41086   \n",
       "2             A A Akom      21947   \n",
       "3      A A Cherechukin      18548   \n",
       "4          A A Gadalla      26261   \n",
       "\n",
       "                                               Title  \\\n",
       "0  Effects of replacing groundnut cake with rumen...   \n",
       "1  Knee Joint Gait Function in Patients with ACL ...   \n",
       "2  Breaking the Chains of Food Apartheid: Using Y...   \n",
       "3  Influence of three-dimensional transition elem...   \n",
       "4  Synthesis and characterization of Mn-doped CdS...   \n",
       "\n",
       "                                             Subject  \\\n",
       "0  (B/T) Business - Economics;(BLS) Agriculture;(...   \n",
       "1  (HSC) Medicine - Orthopedics;(HSC) Medicine - ...   \n",
       "2                (ENV) Food Science;(SOC) Sociology;   \n",
       "3                     (PHY) Chemistry;(PHY) Physics;   \n",
       "4  (PHY) Engineering - Chemical;(PHY) Nanotechnol...   \n",
       "\n",
       "                                         Institution  \\\n",
       "0  Department of Animal Science, Faculty of Agric...   \n",
       "1  Peoplesâ€™ Friendship University of Russia, Ru...   \n",
       "2  San Francisco State University, San Francisco,...   \n",
       "3  Institute of Fluid Science, Tohoku University,...   \n",
       "4  Physics Department, Faculty of Science, Assiut...   \n",
       "\n",
       "                                             Journal             Publisher  \\\n",
       "0                       Lipids in Health and Disease  BioMed Central (BMC)   \n",
       "1  Traumatology and Orthopedics of Russia (Ð¢Ñ€Ð°...            Eco-Vector   \n",
       "2                           Race And Social Problems              Springer   \n",
       "3                         Journal of Applied Physics        AIP Publishing   \n",
       "4  Journal of Materials Science: Materials in Ele...              Springer   \n",
       "\n",
       "         Country                                             Author  URLS  \\\n",
       "0        Nigeria                  A A Adeniji;S Rumak;R A Oluwafemi  None   \n",
       "1         Russia  A A Akhpashev;N V Zagorodniy;A S Kanaev;S N Ka...  None   \n",
       "2  United States                    A A Akom;Aekta Shah;Aaron Nakai  None   \n",
       "3          Japan  A A Cherechukin;Toshiyuki Takagi;H Miki;Minoru...  None   \n",
       "4    Egypt;India    A A Gadalla;A N Aboelkhir;M G Mahesha;Ashok Rao  None   \n",
       "\n",
       "   ...                                     wos_categories  \\\n",
       "0  ...  BIOCHEMISTRY & MOLECULAR BIOLOGY; NUTRITION & ...   \n",
       "1  ...                                        ORTHOPEDICS   \n",
       "2  ...  ETHNIC STUDIES; SOCIAL SCIENCES, INTERDISCIPLI...   \n",
       "3  ...                                   PHYSICS, APPLIED   \n",
       "4  ...  ENGINEERING, ELECTRICAL & ELECTRONIC; MATERIAL...   \n",
       "\n",
       "  total_times_cited_count                               authors_affiliations  \\\n",
       "0                       3                                         UNIV ABUJA   \n",
       "1                       9                                               None   \n",
       "2                       1  CALIFORNIA STATE UNIVERSITY SYSTEM; SAN FRANCI...   \n",
       "3                      14  TOHOKU UNIVERSITY; AKITA PREFECTURAL UNIVERSIT...   \n",
       "4                       3  EGYPTIAN KNOWLEDGE BANK (EKB); ASSIUT UNIVERSI...   \n",
       "\n",
       "   corresponding_author_affiliation      Issn SJR Best Quartile  \\\n",
       "0                        UNIV ABUJA      None              None   \n",
       "1                       NOTREPORTED      None              None   \n",
       "2                     STANFORD UNIV  18671748                Q1   \n",
       "3                       TOHOKU UNIV  00218979                Q2   \n",
       "4  ASSIUT UNIV;MANIPAL INST TECHNOL  09574522                Q2   \n",
       "\n",
       "   time_to_retraction Biomedicine nr_of_offenses groups_authors  \n",
       "0            5.289528           0            1.0              1  \n",
       "1           72.607803           1            1.0              1  \n",
       "2            0.000000           0            1.0              1  \n",
       "3           12.418891           0            1.0              1  \n",
       "4           11.137577           0            1.0              1  \n",
       "\n",
       "[5 rows x 59 columns]"
      ]
     },
     "execution_count": 20,
     "metadata": {},
     "output_type": "execute_result"
    }
   ],
   "source": [
    "# Alternative dataset where only the first time the author had a retraction is counted\n",
    "retractions_only_first_time = retractions.sort_values(by='RetractionDate', inplace = False)\n",
    "retractions_only_first_time = retractions_only_first_time.groupby('corresponding_author').first().reset_index()\n",
    "retractions_only_first_time.head()"
   ]
  },
  {
   "cell_type": "code",
   "execution_count": 21,
   "metadata": {},
   "outputs": [
    {
     "data": {
      "text/plain": [
       "(15866, 59)"
      ]
     },
     "execution_count": 21,
     "metadata": {},
     "output_type": "execute_result"
    }
   ],
   "source": [
    "retractions_only_first_time.shape"
   ]
  },
  {
   "cell_type": "markdown",
   "metadata": {},
   "source": [
    "## Original TTR (without alterations)"
   ]
  },
  {
   "cell_type": "code",
   "execution_count": 22,
   "metadata": {},
   "outputs": [],
   "source": [
    "# Save the TTR into separate variables\n",
    "biomedicine_retractions = retractions[retractions['Biomedicine'] == 1]\n",
    "non_biomedicine_retractions = retractions[retractions['Biomedicine'] == 0]"
   ]
  },
  {
   "cell_type": "code",
   "execution_count": 23,
   "metadata": {},
   "outputs": [
    {
     "data": {
      "text/html": [
       "<div>\n",
       "<style scoped>\n",
       "    .dataframe tbody tr th:only-of-type {\n",
       "        vertical-align: middle;\n",
       "    }\n",
       "\n",
       "    .dataframe tbody tr th {\n",
       "        vertical-align: top;\n",
       "    }\n",
       "\n",
       "    .dataframe thead th {\n",
       "        text-align: right;\n",
       "    }\n",
       "</style>\n",
       "<table border=\"1\" class=\"dataframe\">\n",
       "  <thead>\n",
       "    <tr style=\"text-align: right;\">\n",
       "      <th></th>\n",
       "      <th>ttr_total_stats</th>\n",
       "      <th>ttr_biomed_stats</th>\n",
       "      <th>ttr_non_biomed_stats</th>\n",
       "    </tr>\n",
       "  </thead>\n",
       "  <tbody>\n",
       "    <tr>\n",
       "      <th>count</th>\n",
       "      <td>20260.0</td>\n",
       "      <td>5374.0</td>\n",
       "      <td>14886.0</td>\n",
       "    </tr>\n",
       "    <tr>\n",
       "      <th>mean</th>\n",
       "      <td>38.8</td>\n",
       "      <td>43.5</td>\n",
       "      <td>37.2</td>\n",
       "    </tr>\n",
       "    <tr>\n",
       "      <th>std</th>\n",
       "      <td>45.6</td>\n",
       "      <td>44.3</td>\n",
       "      <td>46.0</td>\n",
       "    </tr>\n",
       "    <tr>\n",
       "      <th>min</th>\n",
       "      <td>0.0</td>\n",
       "      <td>0.0</td>\n",
       "      <td>0.0</td>\n",
       "    </tr>\n",
       "    <tr>\n",
       "      <th>25%</th>\n",
       "      <td>10.2</td>\n",
       "      <td>12.9</td>\n",
       "      <td>9.7</td>\n",
       "    </tr>\n",
       "    <tr>\n",
       "      <th>50%</th>\n",
       "      <td>23.0</td>\n",
       "      <td>31.2</td>\n",
       "      <td>20.7</td>\n",
       "    </tr>\n",
       "    <tr>\n",
       "      <th>75%</th>\n",
       "      <td>50.5</td>\n",
       "      <td>57.3</td>\n",
       "      <td>47.7</td>\n",
       "    </tr>\n",
       "    <tr>\n",
       "      <th>max</th>\n",
       "      <td>641.0</td>\n",
       "      <td>388.9</td>\n",
       "      <td>641.0</td>\n",
       "    </tr>\n",
       "  </tbody>\n",
       "</table>\n",
       "</div>"
      ],
      "text/plain": [
       "       ttr_total_stats  ttr_biomed_stats  ttr_non_biomed_stats\n",
       "count          20260.0            5374.0               14886.0\n",
       "mean              38.8              43.5                  37.2\n",
       "std               45.6              44.3                  46.0\n",
       "min                0.0               0.0                   0.0\n",
       "25%               10.2              12.9                   9.7\n",
       "50%               23.0              31.2                  20.7\n",
       "75%               50.5              57.3                  47.7\n",
       "max              641.0             388.9                 641.0"
      ]
     },
     "execution_count": 23,
     "metadata": {},
     "output_type": "execute_result"
    }
   ],
   "source": [
    "ttr_total_stats = retractions['time_to_retraction'].describe().rename('ttr_total_stats')\n",
    "ttr_biomed_stats = biomedicine_retractions['time_to_retraction'].describe().rename('ttr_biomed_stats')\n",
    "ttr_non_biomed_stats = non_biomedicine_retractions['time_to_retraction'].describe().rename('ttr_non_biomed_stats')\n",
    "ttr_stats = pd.concat([ttr_total_stats, ttr_biomed_stats, ttr_non_biomed_stats], axis = 1)\n",
    "ttr_stats.round(1)"
   ]
  },
  {
   "cell_type": "markdown",
   "metadata": {},
   "source": [
    "Wilcoxon–Mann–Whitney test"
   ]
  },
  {
   "cell_type": "code",
   "execution_count": 24,
   "metadata": {},
   "outputs": [
    {
     "name": "stdout",
     "output_type": "stream",
     "text": [
      "Mann-Whitney U test statistic: 45478671.0\n",
      "P-value: 2.7975864487279744e-50\n"
     ]
    }
   ],
   "source": [
    "# Wilcoxon-Mann-Whitney test to see if difference in distribution of biomed and non biomed are different\n",
    "statistic, p_value = mannwhitneyu(biomedicine_retractions['time_to_retraction'], non_biomedicine_retractions['time_to_retraction'])\n",
    "\n",
    "print(\"Mann-Whitney U test statistic:\", statistic)\n",
    "print(\"P-value:\", p_value)"
   ]
  },
  {
   "cell_type": "markdown",
   "metadata": {},
   "source": [
    "Given that\n",
    "- H0: biomedicine_dist = non_biomedicine_dist\n",
    "- H1: biomedicine_dist != non_biomedicine_dist\n",
    "\n",
    "There is statistical evidence that the time-to-retraction of biomed articles has a different distribution than the non-biomed ones."
   ]
  },
  {
   "cell_type": "code",
   "execution_count": 25,
   "metadata": {},
   "outputs": [
    {
     "data": {
      "image/png": "[encoded data removed]",
      "text/plain": [
       "<Figure size 640x480 with 1 Axes>"
      ]
     },
     "metadata": {},
     "output_type": "display_data"
    }
   ],
   "source": [
    "# Plotting\n",
    "sns.kdeplot(ttr_total_stats, label='TTR Total Stats')\n",
    "sns.kdeplot(ttr_biomed_stats, label='TTR Biomed Stats')\n",
    "sns.kdeplot(ttr_non_biomed_stats, label='TTR Non-Biomed Stats')\n",
    "\n",
    "# Customize plot (labels, title, etc.)\n",
    "plt.xlabel('Number of months to retraction')  # Customize X-axis label\n",
    "plt.ylabel('Density')  # Customize Y-axis label\n",
    "plt.title('Density Distribution of TTR Stats')  # Add title\n",
    "plt.legend()  # Show legend\n",
    "\n",
    "# Show plot\n",
    "plt.show()"
   ]
  },
  {
   "cell_type": "code",
   "execution_count": 26,
   "metadata": {},
   "outputs": [
    {
     "name": "stderr",
     "output_type": "stream",
     "text": [
      "c:\\Users\\isabe\\Desktop\\Tese\\tese\\lib\\site-packages\\seaborn\\axisgrid.py:118: UserWarning: The figure layout has changed to tight\n",
      "  self._figure.tight_layout(*args, **kwargs)\n"
     ]
    },
    {
     "data": {
      "text/plain": [
       "<seaborn.axisgrid.FacetGrid at 0x1b474df6dd0>"
      ]
     },
     "execution_count": 26,
     "metadata": {},
     "output_type": "execute_result"
    },
    {
     "data": {
      "image/png": "[encoded data removed]",
      "text/plain": [
       "<Figure size 596.611x500 with 1 Axes>"
      ]
     },
     "metadata": {},
     "output_type": "display_data"
    }
   ],
   "source": [
    "sns.displot(retractions, x = 'time_to_retraction', hue = 'Biomedicine', element='step')"
   ]
  },
  {
   "cell_type": "markdown",
   "metadata": {},
   "source": [
    "## TTR of first article to be retracted of each author"
   ]
  },
  {
   "cell_type": "code",
   "execution_count": 27,
   "metadata": {},
   "outputs": [],
   "source": [
    "# Save the TTR into separate variables\n",
    "first_biomedicine_retractions = retractions_only_first_time[retractions_only_first_time['Biomedicine'] == 1]['time_to_retraction']\n",
    "first_non_biomedicine_retractions = retractions_only_first_time[retractions_only_first_time['Biomedicine'] == 0]['time_to_retraction']"
   ]
  },
  {
   "cell_type": "code",
   "execution_count": 28,
   "metadata": {},
   "outputs": [
    {
     "data": {
      "text/html": [
       "<div>\n",
       "<style scoped>\n",
       "    .dataframe tbody tr th:only-of-type {\n",
       "        vertical-align: middle;\n",
       "    }\n",
       "\n",
       "    .dataframe tbody tr th {\n",
       "        vertical-align: top;\n",
       "    }\n",
       "\n",
       "    .dataframe thead th {\n",
       "        text-align: right;\n",
       "    }\n",
       "</style>\n",
       "<table border=\"1\" class=\"dataframe\">\n",
       "  <thead>\n",
       "    <tr style=\"text-align: right;\">\n",
       "      <th></th>\n",
       "      <th>ttr_total_stats</th>\n",
       "      <th>ttr_biomed_stats</th>\n",
       "      <th>ttr_non_biomed_stats</th>\n",
       "    </tr>\n",
       "  </thead>\n",
       "  <tbody>\n",
       "    <tr>\n",
       "      <th>count</th>\n",
       "      <td>20260.0</td>\n",
       "      <td>5374.0</td>\n",
       "      <td>14886.0</td>\n",
       "    </tr>\n",
       "    <tr>\n",
       "      <th>mean</th>\n",
       "      <td>38.8</td>\n",
       "      <td>43.5</td>\n",
       "      <td>37.2</td>\n",
       "    </tr>\n",
       "    <tr>\n",
       "      <th>std</th>\n",
       "      <td>45.6</td>\n",
       "      <td>44.3</td>\n",
       "      <td>46.0</td>\n",
       "    </tr>\n",
       "    <tr>\n",
       "      <th>min</th>\n",
       "      <td>0.0</td>\n",
       "      <td>0.0</td>\n",
       "      <td>0.0</td>\n",
       "    </tr>\n",
       "    <tr>\n",
       "      <th>25%</th>\n",
       "      <td>10.2</td>\n",
       "      <td>12.9</td>\n",
       "      <td>9.7</td>\n",
       "    </tr>\n",
       "    <tr>\n",
       "      <th>50%</th>\n",
       "      <td>23.0</td>\n",
       "      <td>31.2</td>\n",
       "      <td>20.7</td>\n",
       "    </tr>\n",
       "    <tr>\n",
       "      <th>75%</th>\n",
       "      <td>50.5</td>\n",
       "      <td>57.3</td>\n",
       "      <td>47.7</td>\n",
       "    </tr>\n",
       "    <tr>\n",
       "      <th>max</th>\n",
       "      <td>641.0</td>\n",
       "      <td>388.9</td>\n",
       "      <td>641.0</td>\n",
       "    </tr>\n",
       "  </tbody>\n",
       "</table>\n",
       "</div>"
      ],
      "text/plain": [
       "       ttr_total_stats  ttr_biomed_stats  ttr_non_biomed_stats\n",
       "count          20260.0            5374.0               14886.0\n",
       "mean              38.8              43.5                  37.2\n",
       "std               45.6              44.3                  46.0\n",
       "min                0.0               0.0                   0.0\n",
       "25%               10.2              12.9                   9.7\n",
       "50%               23.0              31.2                  20.7\n",
       "75%               50.5              57.3                  47.7\n",
       "max              641.0             388.9                 641.0"
      ]
     },
     "execution_count": 28,
     "metadata": {},
     "output_type": "execute_result"
    }
   ],
   "source": [
    "first_ttr_total_stats = retractions_only_first_time['time_to_retraction'].describe().rename('ttr_total_stats')\n",
    "first_ttr_biomed_stats = first_biomedicine_retractions.describe().rename('ttr_biomed_stats')\n",
    "first_ttr_non_biomed_stats = first_non_biomedicine_retractions.describe().rename('ttr_non_biomed_stats')\n",
    "first_ttr_stats = pd.concat([ttr_total_stats, ttr_biomed_stats, ttr_non_biomed_stats], axis = 1)\n",
    "first_ttr_stats.round(1)"
   ]
  },
  {
   "cell_type": "code",
   "execution_count": 29,
   "metadata": {},
   "outputs": [
    {
     "name": "stdout",
     "output_type": "stream",
     "text": [
      "Mann-Whitney U test statistic: 28289797.0\n",
      "P-value: 9.013947440886752e-47\n"
     ]
    }
   ],
   "source": [
    "# Wilcoxon-Mann-Whitney test to see if difference in distribution of biomed and non biomed are different\n",
    "statistic, p_value = mannwhitneyu(first_biomedicine_retractions, first_non_biomedicine_retractions)\n",
    "\n",
    "print(\"Mann-Whitney U test statistic:\", statistic)\n",
    "print(\"P-value:\", p_value)"
   ]
  },
  {
   "cell_type": "markdown",
   "metadata": {},
   "source": [
    "There is statistical evidence that the time-to-retraction of biomed articles has a different distribution than the non-biomed ones."
   ]
  },
  {
   "cell_type": "code",
   "execution_count": 30,
   "metadata": {},
   "outputs": [
    {
     "name": "stderr",
     "output_type": "stream",
     "text": [
      "c:\\Users\\isabe\\Desktop\\Tese\\tese\\lib\\site-packages\\seaborn\\axisgrid.py:118: UserWarning: The figure layout has changed to tight\n",
      "  self._figure.tight_layout(*args, **kwargs)\n"
     ]
    },
    {
     "data": {
      "text/plain": [
       "<seaborn.axisgrid.FacetGrid at 0x1b47c662ef0>"
      ]
     },
     "execution_count": 30,
     "metadata": {},
     "output_type": "execute_result"
    },
    {
     "data": {
      "image/png": "[encoded data removed]",
      "text/plain": [
       "<Figure size 596.611x500 with 1 Axes>"
      ]
     },
     "metadata": {},
     "output_type": "display_data"
    }
   ],
   "source": [
    "sns.displot(retractions_only_first_time, x = 'time_to_retraction', hue = 'Biomedicine', element='step')"
   ]
  },
  {
   "cell_type": "code",
   "execution_count": 31,
   "metadata": {},
   "outputs": [
    {
     "data": {
      "image/png": "[encoded data removed]",
      "text/plain": [
       "<Figure size 640x480 with 1 Axes>"
      ]
     },
     "metadata": {},
     "output_type": "display_data"
    }
   ],
   "source": [
    "# Plotting\n",
    "sns.kdeplot(first_ttr_total_stats, label='TTR Total Stats')\n",
    "sns.kdeplot(first_ttr_biomed_stats, label='TTR Biomed Stats')\n",
    "sns.kdeplot(first_ttr_non_biomed_stats, label='TTR Non-Biomed Stats')\n",
    "\n",
    "# Customize plot (labels, title, etc.)\n",
    "plt.xlabel('Number of months to retraction')  # Customize X-axis label\n",
    "plt.ylabel('Density')  # Customize Y-axis label\n",
    "plt.title('Density Distribution of TTR Stats')  # Add title\n",
    "plt.legend()  # Show legend\n",
    "\n",
    "# Show plot\n",
    "plt.show()"
   ]
  },
  {
   "cell_type": "markdown",
   "metadata": {},
   "source": [
    "## TTR by category of author"
   ]
  },
  {
   "cell_type": "code",
   "execution_count": 35,
   "metadata": {},
   "outputs": [
    {
     "data": {
      "image/png": "[encoded data removed]",
      "text/plain": [
       "<Figure size 1200x600 with 2 Axes>"
      ]
     },
     "metadata": {},
     "output_type": "display_data"
    }
   ],
   "source": [
    "import seaborn as sns\n",
    "import matplotlib.pyplot as plt\n",
    "\n",
    "# Define order of categories\n",
    "category_order = ['1', '2-10', '>10']\n",
    "\n",
    "fig, ax = plt.subplots(1, 2, figsize=(12, 6))\n",
    "\n",
    "# Plot for biomedicine retractions\n",
    "sns.histplot(biomedicine_retractions, x='time_to_retraction', hue='groups_authors', element='step', ax=ax[0], hue_order=category_order)\n",
    "ax[0].set_title('Biomedicine Retractions')\n",
    "\n",
    "# Plot for non-biomedicine retractions\n",
    "sns.histplot(non_biomedicine_retractions, x='time_to_retraction', hue='groups_authors', element='step', ax=ax[1], hue_order=category_order)\n",
    "ax[1].set_title('Non-Biomedicine Retractions')\n",
    "\n",
    "# Set legend labels\n",
    "handles, labels = ax[0].get_legend_handles_labels()\n",
    "#ax[1].legend(handles, labels, title='Groups Authors')\n",
    "\n",
    "plt.tight_layout()\n",
    "plt.show()\n"
   ]
  },
  {
   "cell_type": "code",
   "execution_count": 36,
   "metadata": {},
   "outputs": [
    {
     "data": {
      "image/png": "[encoded data removed]",
      "text/plain": [
       "<Figure size 1200x600 with 2 Axes>"
      ]
     },
     "metadata": {},
     "output_type": "display_data"
    }
   ],
   "source": [
    "fig, ax = plt.subplots(1, 2, figsize=(12, 6))\n",
    "\n",
    "# Plot for biomedicine retractions\n",
    "sns.kdeplot(data=biomedicine_retractions, x='time_to_retraction', hue='groups_authors', ax=ax[0], hue_order=category_order)\n",
    "ax[0].set_title('Biomedicine Retractions')\n",
    "\n",
    "# Plot for non-biomedicine retractions\n",
    "sns.kdeplot(data=non_biomedicine_retractions, x='time_to_retraction', hue='groups_authors', ax=ax[1], hue_order=category_order)\n",
    "ax[1].set_title('Non-Biomedicine Retractions')\n",
    "\n",
    "plt.tight_layout()\n",
    "plt.show()"
   ]
  },
  {
   "cell_type": "code",
   "execution_count": 232,
   "metadata": {},
   "outputs": [
    {
     "data": {
      "text/html": [
       "<div>\n",
       "<style scoped>\n",
       "    .dataframe tbody tr th:only-of-type {\n",
       "        vertical-align: middle;\n",
       "    }\n",
       "\n",
       "    .dataframe tbody tr th {\n",
       "        vertical-align: top;\n",
       "    }\n",
       "\n",
       "    .dataframe thead th {\n",
       "        text-align: right;\n",
       "    }\n",
       "</style>\n",
       "<table border=\"1\" class=\"dataframe\">\n",
       "  <thead>\n",
       "    <tr style=\"text-align: right;\">\n",
       "      <th></th>\n",
       "      <th>count</th>\n",
       "      <th>mean</th>\n",
       "      <th>std</th>\n",
       "      <th>min</th>\n",
       "      <th>25%</th>\n",
       "      <th>50%</th>\n",
       "      <th>75%</th>\n",
       "      <th>max</th>\n",
       "    </tr>\n",
       "    <tr>\n",
       "      <th>groups_authors</th>\n",
       "      <th></th>\n",
       "      <th></th>\n",
       "      <th></th>\n",
       "      <th></th>\n",
       "      <th></th>\n",
       "      <th></th>\n",
       "      <th></th>\n",
       "      <th></th>\n",
       "    </tr>\n",
       "  </thead>\n",
       "  <tbody>\n",
       "    <tr>\n",
       "      <th>1</th>\n",
       "      <td>11227.0</td>\n",
       "      <td>29.850766</td>\n",
       "      <td>35.576710</td>\n",
       "      <td>0.0</td>\n",
       "      <td>7.950719</td>\n",
       "      <td>17.938398</td>\n",
       "      <td>37.585216</td>\n",
       "      <td>641.018480</td>\n",
       "    </tr>\n",
       "    <tr>\n",
       "      <th>2-10</th>\n",
       "      <td>6490.0</td>\n",
       "      <td>43.909251</td>\n",
       "      <td>44.015133</td>\n",
       "      <td>0.0</td>\n",
       "      <td>13.075975</td>\n",
       "      <td>29.486653</td>\n",
       "      <td>59.786448</td>\n",
       "      <td>412.747433</td>\n",
       "    </tr>\n",
       "    <tr>\n",
       "      <th>&gt;10</th>\n",
       "      <td>2543.0</td>\n",
       "      <td>65.611084</td>\n",
       "      <td>70.091979</td>\n",
       "      <td>0.0</td>\n",
       "      <td>18.595483</td>\n",
       "      <td>40.673511</td>\n",
       "      <td>88.558522</td>\n",
       "      <td>437.453799</td>\n",
       "    </tr>\n",
       "  </tbody>\n",
       "</table>\n",
       "</div>"
      ],
      "text/plain": [
       "                  count       mean        std  min        25%        50%  \\\n",
       "groups_authors                                                             \n",
       "1               11227.0  29.850766  35.576710  0.0   7.950719  17.938398   \n",
       "2-10             6490.0  43.909251  44.015133  0.0  13.075975  29.486653   \n",
       ">10              2543.0  65.611084  70.091979  0.0  18.595483  40.673511   \n",
       "\n",
       "                      75%         max  \n",
       "groups_authors                         \n",
       "1               37.585216  641.018480  \n",
       "2-10            59.786448  412.747433  \n",
       ">10             88.558522  437.453799  "
      ]
     },
     "execution_count": 232,
     "metadata": {},
     "output_type": "execute_result"
    }
   ],
   "source": [
    "# Total retractions stats\n",
    "retractions.groupby('groups_authors')['time_to_retraction'].describe()"
   ]
  },
  {
   "cell_type": "code",
   "execution_count": 233,
   "metadata": {},
   "outputs": [
    {
     "data": {
      "text/html": [
       "<div>\n",
       "<style scoped>\n",
       "    .dataframe tbody tr th:only-of-type {\n",
       "        vertical-align: middle;\n",
       "    }\n",
       "\n",
       "    .dataframe tbody tr th {\n",
       "        vertical-align: top;\n",
       "    }\n",
       "\n",
       "    .dataframe thead th {\n",
       "        text-align: right;\n",
       "    }\n",
       "</style>\n",
       "<table border=\"1\" class=\"dataframe\">\n",
       "  <thead>\n",
       "    <tr style=\"text-align: right;\">\n",
       "      <th></th>\n",
       "      <th>count</th>\n",
       "      <th>mean</th>\n",
       "      <th>std</th>\n",
       "      <th>min</th>\n",
       "      <th>25%</th>\n",
       "      <th>50%</th>\n",
       "      <th>75%</th>\n",
       "      <th>max</th>\n",
       "    </tr>\n",
       "    <tr>\n",
       "      <th>groups_authors</th>\n",
       "      <th></th>\n",
       "      <th></th>\n",
       "      <th></th>\n",
       "      <th></th>\n",
       "      <th></th>\n",
       "      <th></th>\n",
       "      <th></th>\n",
       "      <th></th>\n",
       "    </tr>\n",
       "  </thead>\n",
       "  <tbody>\n",
       "    <tr>\n",
       "      <th>1</th>\n",
       "      <td>2802.0</td>\n",
       "      <td>34.693764</td>\n",
       "      <td>37.654022</td>\n",
       "      <td>0.0</td>\n",
       "      <td>8.969199</td>\n",
       "      <td>23.917864</td>\n",
       "      <td>45.757700</td>\n",
       "      <td>305.347023</td>\n",
       "    </tr>\n",
       "    <tr>\n",
       "      <th>2-10</th>\n",
       "      <td>1953.0</td>\n",
       "      <td>49.508333</td>\n",
       "      <td>43.510483</td>\n",
       "      <td>0.0</td>\n",
       "      <td>17.938398</td>\n",
       "      <td>38.176591</td>\n",
       "      <td>67.712526</td>\n",
       "      <td>369.577002</td>\n",
       "    </tr>\n",
       "    <tr>\n",
       "      <th>&gt;10</th>\n",
       "      <td>619.0</td>\n",
       "      <td>64.381512</td>\n",
       "      <td>61.522334</td>\n",
       "      <td>0.0</td>\n",
       "      <td>23.983573</td>\n",
       "      <td>45.043121</td>\n",
       "      <td>80.903491</td>\n",
       "      <td>388.862423</td>\n",
       "    </tr>\n",
       "  </tbody>\n",
       "</table>\n",
       "</div>"
      ],
      "text/plain": [
       "                 count       mean        std  min        25%        50%  \\\n",
       "groups_authors                                                            \n",
       "1               2802.0  34.693764  37.654022  0.0   8.969199  23.917864   \n",
       "2-10            1953.0  49.508333  43.510483  0.0  17.938398  38.176591   \n",
       ">10              619.0  64.381512  61.522334  0.0  23.983573  45.043121   \n",
       "\n",
       "                      75%         max  \n",
       "groups_authors                         \n",
       "1               45.757700  305.347023  \n",
       "2-10            67.712526  369.577002  \n",
       ">10             80.903491  388.862423  "
      ]
     },
     "execution_count": 233,
     "metadata": {},
     "output_type": "execute_result"
    }
   ],
   "source": [
    "# Biomed retractions stats\n",
    "biomedicine_retractions.groupby('groups_authors')['time_to_retraction'].describe()"
   ]
  },
  {
   "cell_type": "code",
   "execution_count": 234,
   "metadata": {},
   "outputs": [
    {
     "data": {
      "text/html": [
       "<div>\n",
       "<style scoped>\n",
       "    .dataframe tbody tr th:only-of-type {\n",
       "        vertical-align: middle;\n",
       "    }\n",
       "\n",
       "    .dataframe tbody tr th {\n",
       "        vertical-align: top;\n",
       "    }\n",
       "\n",
       "    .dataframe thead th {\n",
       "        text-align: right;\n",
       "    }\n",
       "</style>\n",
       "<table border=\"1\" class=\"dataframe\">\n",
       "  <thead>\n",
       "    <tr style=\"text-align: right;\">\n",
       "      <th></th>\n",
       "      <th>count</th>\n",
       "      <th>mean</th>\n",
       "      <th>std</th>\n",
       "      <th>min</th>\n",
       "      <th>25%</th>\n",
       "      <th>50%</th>\n",
       "      <th>75%</th>\n",
       "      <th>max</th>\n",
       "    </tr>\n",
       "    <tr>\n",
       "      <th>groups_authors</th>\n",
       "      <th></th>\n",
       "      <th></th>\n",
       "      <th></th>\n",
       "      <th></th>\n",
       "      <th></th>\n",
       "      <th></th>\n",
       "      <th></th>\n",
       "      <th></th>\n",
       "    </tr>\n",
       "  </thead>\n",
       "  <tbody>\n",
       "    <tr>\n",
       "      <th>1</th>\n",
       "      <td>8425.0</td>\n",
       "      <td>28.240075</td>\n",
       "      <td>34.711311</td>\n",
       "      <td>0.0</td>\n",
       "      <td>7.753593</td>\n",
       "      <td>16.525667</td>\n",
       "      <td>33.806982</td>\n",
       "      <td>641.018480</td>\n",
       "    </tr>\n",
       "    <tr>\n",
       "      <th>2-10</th>\n",
       "      <td>4537.0</td>\n",
       "      <td>41.499067</td>\n",
       "      <td>44.016575</td>\n",
       "      <td>0.0</td>\n",
       "      <td>11.696099</td>\n",
       "      <td>25.034908</td>\n",
       "      <td>57.494867</td>\n",
       "      <td>412.747433</td>\n",
       "    </tr>\n",
       "    <tr>\n",
       "      <th>&gt;10</th>\n",
       "      <td>1924.0</td>\n",
       "      <td>66.006668</td>\n",
       "      <td>72.644819</td>\n",
       "      <td>0.0</td>\n",
       "      <td>16.952772</td>\n",
       "      <td>37.963039</td>\n",
       "      <td>91.778234</td>\n",
       "      <td>437.453799</td>\n",
       "    </tr>\n",
       "  </tbody>\n",
       "</table>\n",
       "</div>"
      ],
      "text/plain": [
       "                 count       mean        std  min        25%        50%  \\\n",
       "groups_authors                                                            \n",
       "1               8425.0  28.240075  34.711311  0.0   7.753593  16.525667   \n",
       "2-10            4537.0  41.499067  44.016575  0.0  11.696099  25.034908   \n",
       ">10             1924.0  66.006668  72.644819  0.0  16.952772  37.963039   \n",
       "\n",
       "                      75%         max  \n",
       "groups_authors                         \n",
       "1               33.806982  641.018480  \n",
       "2-10            57.494867  412.747433  \n",
       ">10             91.778234  437.453799  "
      ]
     },
     "execution_count": 234,
     "metadata": {},
     "output_type": "execute_result"
    }
   ],
   "source": [
    "# Non-Biomed retractions stats\n",
    "non_biomedicine_retractions.groupby('groups_authors')['time_to_retraction'].describe()"
   ]
  },
  {
   "cell_type": "markdown",
   "metadata": {},
   "source": [
    "<div class=\"alert alert-block alert-info\" style = \"background:#d0de6f; color:#000000; border:0;\">\n",
    "\n",
    "# Chapter 2 - Temporal trends <a class=\"anchor\" id=\"chapter2\"></a>"
   ]
  },
  {
   "cell_type": "code",
   "execution_count": 235,
   "metadata": {},
   "outputs": [
    {
     "data": {
      "text/plain": [
       "Index(['Record ID', 'Title', 'Subject', 'Institution', 'Journal', 'Publisher',\n",
       "       'Country', 'Author', 'URLS', 'ArticleType', 'RetractionDate',\n",
       "       'RetractionDOI', 'RetractionPubMedID', 'OriginalPaperDate',\n",
       "       'OriginalPaperDOI', 'OriginalPaperPubMedID', 'RetractionNature',\n",
       "       'Reason', 'Paywalled', 'Notes', 'authors', 'author_fullnames',\n",
       "       'cited_references', 'abstract', 'author_keywords', 'doi',\n",
       "       'document_type', 'funding_agency_and_grant_number', 'esi_highly_cited',\n",
       "       'esi_hot_paper', 'keywords_plus', 'language', 'early_access_date',\n",
       "       'cited_reference_count', 'open_access_indicator', 'orcid',\n",
       "       'publication_date', 'page_count', 'pubmed_id', 'publication_type',\n",
       "       'publisher', 'year_published', 'researcher_id_nr', 'research_areas',\n",
       "       'issn', 'publication_name', 'wos_core_collection_times_cited_count',\n",
       "       'document_title', 'wos_categories', 'total_times_cited_count',\n",
       "       'authors_affiliations', 'corresponding_author_affiliation', 'Issn',\n",
       "       'SJR Best Quartile', 'time_to_retraction', 'Biomedicine',\n",
       "       'corresponding_author', 'nr_of_offenses', 'groups_authors'],\n",
       "      dtype='object')"
      ]
     },
     "execution_count": 235,
     "metadata": {},
     "output_type": "execute_result"
    }
   ],
   "source": [
    "retractions.columns"
   ]
  },
  {
   "cell_type": "code",
   "execution_count": 236,
   "metadata": {},
   "outputs": [],
   "source": [
    "retractions_grouped = retractions[retractions['year_published'] != 2023].groupby(retractions['year_published'])['time_to_retraction'].mean().reset_index(name= 'Mean TTR of Retractions')\n",
    "\n",
    "# Merge the two grouped DataFrames on the 'year_published' column\n",
    "year_counts = retractions_grouped.copy()"
   ]
  },
  {
   "cell_type": "code",
   "execution_count": 237,
   "metadata": {},
   "outputs": [],
   "source": [
    "ttr_of_biomed_retracted = retractions[retractions['Biomedicine'] ==1].groupby(retractions['year_published'])['time_to_retraction'].mean().reset_index(name= 'Mean TTR of Retractions in Biomedicine')\n",
    "ttr_of_non_biomed_retracted = retractions[retractions['Biomedicine'] ==0].groupby(retractions['year_published'])['time_to_retraction'].mean().reset_index(name= 'Mean TTR of Retractions not in Biomedicine')"
   ]
  },
  {
   "cell_type": "code",
   "execution_count": 238,
   "metadata": {},
   "outputs": [],
   "source": [
    "year_counts = pd.merge(year_counts, ttr_of_biomed_retracted, how='left', on='year_published')\n",
    "year_counts = pd.merge(year_counts, ttr_of_non_biomed_retracted, how='left', on='year_published')"
   ]
  },
  {
   "cell_type": "code",
   "execution_count": 239,
   "metadata": {},
   "outputs": [],
   "source": [
    "#year_counts"
   ]
  },
  {
   "cell_type": "code",
   "execution_count": 240,
   "metadata": {},
   "outputs": [],
   "source": [
    "import matplotlib.pyplot as plt"
   ]
  },
  {
   "cell_type": "code",
   "execution_count": 241,
   "metadata": {},
   "outputs": [
    {
     "data": {
      "image/png": "[encoded data removed]",
      "text/plain": [
       "<Figure size 640x480 with 1 Axes>"
      ]
     },
     "metadata": {},
     "output_type": "display_data"
    }
   ],
   "source": [
    "plt.plot(year_counts['year_published'], year_counts['Mean TTR of Retractions in Biomedicine'], label = 'Mean TTR of Retractions in Biomedicine', color=\"b\")\n",
    "plt.plot(year_counts['year_published'], year_counts['Mean TTR of Retractions not in Biomedicine'], label = 'Mean TTR of Retractions not in Biomedicine', color=\"g\")\n",
    "\n",
    "plt.xlabel('Year of article publishing')\n",
    "plt.ylabel('Average Time to Retractions')\n",
    "plt.title('Time to retraction of Articles')\n",
    "plt.legend()\n",
    "plt.show()"
   ]
  },
  {
   "cell_type": "code",
   "execution_count": 242,
   "metadata": {},
   "outputs": [],
   "source": [
    "retractions_grouped = retractions.groupby(retractions['RetractionDate'].dt.year)['time_to_retraction'].mean().reset_index(name= 'Mean TTR of Retractions')\n",
    "\n",
    "# Merge the two grouped DataFrames on the 'year_published' column\n",
    "year_counts_retracted_date = retractions_grouped.copy()"
   ]
  },
  {
   "cell_type": "code",
   "execution_count": 243,
   "metadata": {},
   "outputs": [],
   "source": [
    "ttr_of_biomed_retracted = biomedicine_retractions.groupby(retractions['RetractionDate'].dt.year)['time_to_retraction'].mean().reset_index(name= 'Mean TTR of Retractions in Biomedicine')\n",
    "ttr_of_non_biomed_retracted = non_biomedicine_retractions.groupby(retractions['RetractionDate'].dt.year)['time_to_retraction'].mean().reset_index(name= 'Mean TTR of Retractions not in Biomedicine')"
   ]
  },
  {
   "cell_type": "code",
   "execution_count": 244,
   "metadata": {},
   "outputs": [],
   "source": [
    "year_counts_retracted_date = pd.merge(year_counts_retracted_date, ttr_of_biomed_retracted, how='left', on='RetractionDate')\n",
    "year_counts_retracted_date = pd.merge(year_counts_retracted_date, ttr_of_non_biomed_retracted, how='left', on='RetractionDate')"
   ]
  },
  {
   "cell_type": "code",
   "execution_count": 245,
   "metadata": {},
   "outputs": [],
   "source": [
    "#year_counts_retracted_date"
   ]
  },
  {
   "cell_type": "code",
   "execution_count": 246,
   "metadata": {},
   "outputs": [
    {
     "data": {
      "image/png": "[encoded data removed]",
      "text/plain": [
       "<Figure size 640x480 with 1 Axes>"
      ]
     },
     "metadata": {},
     "output_type": "display_data"
    }
   ],
   "source": [
    "plt.plot(year_counts_retracted_date['RetractionDate'], year_counts_retracted_date['Mean TTR of Retractions in Biomedicine'], label = 'Mean TTR of Retractions in Biomedicine', color=\"b\")\n",
    "plt.plot(year_counts_retracted_date['RetractionDate'], year_counts_retracted_date['Mean TTR of Retractions not in Biomedicine'], label = 'Mean TTR of Retractions not in Biomedicine', color=\"g\")\n",
    "\n",
    "plt.xlabel('Year of retraction')\n",
    "plt.ylabel('Average Time to Retractions')\n",
    "plt.title('Time to retraction of Articles')\n",
    "plt.legend()\n",
    "plt.show()"
   ]
  },
  {
   "cell_type": "markdown",
   "metadata": {},
   "source": [
    "<div class=\"alert alert-block alert-info\" style = \"background:#d0de6f; color:#000000; border:0;\">\n",
    "\n",
    "# Chapter 3 - Reasons for Retraction <a class=\"anchor\" id=\"chapter3\"></a>"
   ]
  },
  {
   "cell_type": "code",
   "execution_count": 247,
   "metadata": {},
   "outputs": [
    {
     "data": {
      "text/html": [
       "<div>\n",
       "<style scoped>\n",
       "    .dataframe tbody tr th:only-of-type {\n",
       "        vertical-align: middle;\n",
       "    }\n",
       "\n",
       "    .dataframe tbody tr th {\n",
       "        vertical-align: top;\n",
       "    }\n",
       "\n",
       "    .dataframe thead th {\n",
       "        text-align: right;\n",
       "    }\n",
       "</style>\n",
       "<table border=\"1\" class=\"dataframe\">\n",
       "  <thead>\n",
       "    <tr style=\"text-align: right;\">\n",
       "      <th></th>\n",
       "      <th>Reason</th>\n",
       "      <th>Misconduct</th>\n",
       "    </tr>\n",
       "  </thead>\n",
       "  <tbody>\n",
       "    <tr>\n",
       "      <th>0</th>\n",
       "      <td>Concerns/Issues About Authorship</td>\n",
       "      <td>0</td>\n",
       "    </tr>\n",
       "    <tr>\n",
       "      <th>1</th>\n",
       "      <td>Misconduct by Author</td>\n",
       "      <td>1</td>\n",
       "    </tr>\n",
       "    <tr>\n",
       "      <th>2</th>\n",
       "      <td>Error in Results and/or Conclusions</td>\n",
       "      <td>0</td>\n",
       "    </tr>\n",
       "    <tr>\n",
       "      <th>3</th>\n",
       "      <td>Investigation by Journal/Publisher</td>\n",
       "      <td>1</td>\n",
       "    </tr>\n",
       "    <tr>\n",
       "      <th>4</th>\n",
       "      <td>Investigation by Company/Institution</td>\n",
       "      <td>1</td>\n",
       "    </tr>\n",
       "    <tr>\n",
       "      <th>...</th>\n",
       "      <td>...</td>\n",
       "      <td>...</td>\n",
       "    </tr>\n",
       "    <tr>\n",
       "      <th>102</th>\n",
       "      <td>Nonpayment of Fees/Refusal to Pay</td>\n",
       "      <td>0</td>\n",
       "    </tr>\n",
       "    <tr>\n",
       "      <th>103</th>\n",
       "      <td>No Further Action</td>\n",
       "      <td>0</td>\n",
       "    </tr>\n",
       "    <tr>\n",
       "      <th>104</th>\n",
       "      <td>Error in Image</td>\n",
       "      <td>0</td>\n",
       "    </tr>\n",
       "    <tr>\n",
       "      <th>105</th>\n",
       "      <td>Fake Peer Review</td>\n",
       "      <td>1</td>\n",
       "    </tr>\n",
       "    <tr>\n",
       "      <th>106</th>\n",
       "      <td>Withdrawal</td>\n",
       "      <td>0</td>\n",
       "    </tr>\n",
       "  </tbody>\n",
       "</table>\n",
       "<p>107 rows × 2 columns</p>\n",
       "</div>"
      ],
      "text/plain": [
       "                                   Reason  Misconduct\n",
       "0        Concerns/Issues About Authorship           0\n",
       "1                    Misconduct by Author           1\n",
       "2     Error in Results and/or Conclusions           0\n",
       "3      Investigation by Journal/Publisher           1\n",
       "4    Investigation by Company/Institution           1\n",
       "..                                    ...         ...\n",
       "102     Nonpayment of Fees/Refusal to Pay           0\n",
       "103                     No Further Action           0\n",
       "104                        Error in Image           0\n",
       "105                      Fake Peer Review           1\n",
       "106                            Withdrawal           0\n",
       "\n",
       "[107 rows x 2 columns]"
      ]
     },
     "execution_count": 247,
     "metadata": {},
     "output_type": "execute_result"
    }
   ],
   "source": [
    "# Import excel with the classification of areas (biomed or not)\n",
    "classif_misconduct = pd.read_excel('./misconduct_classified.xlsx')\n",
    "classif_misconduct"
   ]
  },
  {
   "cell_type": "code",
   "execution_count": 254,
   "metadata": {},
   "outputs": [],
   "source": [
    "def create_misconduct_variable(df, id):\n",
    "    motives = retractions[['Record ID','Reason', 'Biomedicine', \"time_to_retraction\"]]\n",
    "    motives.loc[:, 'Reason'] = motives['Reason'].str.split(';')\n",
    "    motives = motives.explode('Reason')\n",
    "    motives.loc[:, 'Reason'] = motives['Reason'].str.replace('+', '')\n",
    "    motives = motives[motives['Reason'].str.strip() != \"\"]\n",
    "    \n",
    "    motives = motives.merge(classif_misconduct, how= 'left', left_on = 'Reason', right_on = 'Reason')\n",
    "    motives['Misconduct'] = np.where(motives['Misconduct'] >= 1, 1, 0)\n",
    "\n",
    "    df = df.merge(motives.groupby(id)['Misconduct'].sum(), how='left', on = id)\n",
    "    df['Misconduct'] = np.where(df['Misconduct']>=1, 1, 0)\n",
    "    \n",
    "    \n",
    "    return df"
   ]
  },
  {
   "cell_type": "code",
   "execution_count": 255,
   "metadata": {},
   "outputs": [],
   "source": [
    "# control_set = create_biomed_variable(control_set, 'doi')"
   ]
  },
  {
   "cell_type": "code",
   "execution_count": 256,
   "metadata": {},
   "outputs": [],
   "source": [
    "retractions = create_misconduct_variable(retractions, 'Record ID')"
   ]
  },
  {
   "cell_type": "code",
   "execution_count": 281,
   "metadata": {},
   "outputs": [
    {
     "data": {
      "text/html": [
       "<div>\n",
       "<style scoped>\n",
       "    .dataframe tbody tr th:only-of-type {\n",
       "        vertical-align: middle;\n",
       "    }\n",
       "\n",
       "    .dataframe tbody tr th {\n",
       "        vertical-align: top;\n",
       "    }\n",
       "\n",
       "    .dataframe thead th {\n",
       "        text-align: right;\n",
       "    }\n",
       "</style>\n",
       "<table border=\"1\" class=\"dataframe\">\n",
       "  <thead>\n",
       "    <tr style=\"text-align: right;\">\n",
       "      <th></th>\n",
       "      <th>Record ID</th>\n",
       "      <th>Reason</th>\n",
       "      <th>Biomedicine</th>\n",
       "      <th>time_to_retraction</th>\n",
       "      <th>Misconduct</th>\n",
       "      <th>RetractionDate</th>\n",
       "    </tr>\n",
       "  </thead>\n",
       "  <tbody>\n",
       "    <tr>\n",
       "      <th>0</th>\n",
       "      <td>5729</td>\n",
       "      <td>Concerns/Issues About Authorship</td>\n",
       "      <td>0</td>\n",
       "      <td>132.796715</td>\n",
       "      <td>1</td>\n",
       "      <td>2016-09-01</td>\n",
       "    </tr>\n",
       "    <tr>\n",
       "      <th>0</th>\n",
       "      <td>5729</td>\n",
       "      <td>Concerns/Issues About Data</td>\n",
       "      <td>0</td>\n",
       "      <td>132.796715</td>\n",
       "      <td>1</td>\n",
       "      <td>2016-09-01</td>\n",
       "    </tr>\n",
       "    <tr>\n",
       "      <th>0</th>\n",
       "      <td>5729</td>\n",
       "      <td>Misconduct by Author</td>\n",
       "      <td>0</td>\n",
       "      <td>132.796715</td>\n",
       "      <td>1</td>\n",
       "      <td>2016-09-01</td>\n",
       "    </tr>\n",
       "    <tr>\n",
       "      <th>1</th>\n",
       "      <td>5728</td>\n",
       "      <td>Concerns/Issues About Authorship</td>\n",
       "      <td>0</td>\n",
       "      <td>133.026694</td>\n",
       "      <td>1</td>\n",
       "      <td>2016-09-01</td>\n",
       "    </tr>\n",
       "    <tr>\n",
       "      <th>1</th>\n",
       "      <td>5728</td>\n",
       "      <td>Concerns/Issues About Data</td>\n",
       "      <td>0</td>\n",
       "      <td>133.026694</td>\n",
       "      <td>1</td>\n",
       "      <td>2016-09-01</td>\n",
       "    </tr>\n",
       "    <tr>\n",
       "      <th>...</th>\n",
       "      <td>...</td>\n",
       "      <td>...</td>\n",
       "      <td>...</td>\n",
       "      <td>...</td>\n",
       "      <td>...</td>\n",
       "      <td>...</td>\n",
       "    </tr>\n",
       "    <tr>\n",
       "      <th>20258</th>\n",
       "      <td>30815</td>\n",
       "      <td>Concerns/Issues About Authorship</td>\n",
       "      <td>0</td>\n",
       "      <td>0.000000</td>\n",
       "      <td>0</td>\n",
       "      <td>2019-02-01</td>\n",
       "    </tr>\n",
       "    <tr>\n",
       "      <th>20259</th>\n",
       "      <td>44706</td>\n",
       "      <td>Concerns/Issues About Image</td>\n",
       "      <td>1</td>\n",
       "      <td>26.119097</td>\n",
       "      <td>1</td>\n",
       "      <td>2017-05-26</td>\n",
       "    </tr>\n",
       "    <tr>\n",
       "      <th>20259</th>\n",
       "      <td>44706</td>\n",
       "      <td>Copyright Claims</td>\n",
       "      <td>1</td>\n",
       "      <td>26.119097</td>\n",
       "      <td>1</td>\n",
       "      <td>2017-05-26</td>\n",
       "    </tr>\n",
       "    <tr>\n",
       "      <th>20259</th>\n",
       "      <td>44706</td>\n",
       "      <td>Lack of Approval from Author</td>\n",
       "      <td>1</td>\n",
       "      <td>26.119097</td>\n",
       "      <td>1</td>\n",
       "      <td>2017-05-26</td>\n",
       "    </tr>\n",
       "    <tr>\n",
       "      <th>20259</th>\n",
       "      <td>44706</td>\n",
       "      <td>Withdrawal</td>\n",
       "      <td>1</td>\n",
       "      <td>26.119097</td>\n",
       "      <td>1</td>\n",
       "      <td>2017-05-26</td>\n",
       "    </tr>\n",
       "  </tbody>\n",
       "</table>\n",
       "<p>62401 rows × 6 columns</p>\n",
       "</div>"
      ],
      "text/plain": [
       "       Record ID                            Reason  Biomedicine  \\\n",
       "0           5729  Concerns/Issues About Authorship            0   \n",
       "0           5729        Concerns/Issues About Data            0   \n",
       "0           5729              Misconduct by Author            0   \n",
       "1           5728  Concerns/Issues About Authorship            0   \n",
       "1           5728        Concerns/Issues About Data            0   \n",
       "...          ...                               ...          ...   \n",
       "20258      30815  Concerns/Issues About Authorship            0   \n",
       "20259      44706       Concerns/Issues About Image            1   \n",
       "20259      44706                  Copyright Claims            1   \n",
       "20259      44706      Lack of Approval from Author            1   \n",
       "20259      44706                        Withdrawal            1   \n",
       "\n",
       "       time_to_retraction  Misconduct RetractionDate  \n",
       "0              132.796715           1     2016-09-01  \n",
       "0              132.796715           1     2016-09-01  \n",
       "0              132.796715           1     2016-09-01  \n",
       "1              133.026694           1     2016-09-01  \n",
       "1              133.026694           1     2016-09-01  \n",
       "...                   ...         ...            ...  \n",
       "20258            0.000000           0     2019-02-01  \n",
       "20259           26.119097           1     2017-05-26  \n",
       "20259           26.119097           1     2017-05-26  \n",
       "20259           26.119097           1     2017-05-26  \n",
       "20259           26.119097           1     2017-05-26  \n",
       "\n",
       "[62401 rows x 6 columns]"
      ]
     },
     "execution_count": 281,
     "metadata": {},
     "output_type": "execute_result"
    }
   ],
   "source": [
    "motives = retractions[['Record ID','Reason', 'Biomedicine', \"time_to_retraction\", \"Misconduct\", 'RetractionDate']]\n",
    "motives.loc[:, 'Reason'] = motives['Reason'].str.split(';')\n",
    "motives = motives.explode('Reason')\n",
    "motives.loc[:, 'Reason'] = motives['Reason'].str.replace('+', '')\n",
    "motives = motives[motives['Reason'].str.strip() != \"\"]\n",
    "motives\n"
   ]
  },
  {
   "cell_type": "code",
   "execution_count": 282,
   "metadata": {},
   "outputs": [],
   "source": [
    "top10_reasons_biomed = motives[motives['Biomedicine']==1].groupby('Reason').size().reset_index(name = \"Biomed\")\n",
    "top10_reasons_non_biomed = motives[motives['Biomedicine']==0].groupby('Reason').size().reset_index(name = \"Non Biomed\")"
   ]
  },
  {
   "cell_type": "code",
   "execution_count": 283,
   "metadata": {},
   "outputs": [
    {
     "data": {
      "text/html": [
       "<div>\n",
       "<style scoped>\n",
       "    .dataframe tbody tr th:only-of-type {\n",
       "        vertical-align: middle;\n",
       "    }\n",
       "\n",
       "    .dataframe tbody tr th {\n",
       "        vertical-align: top;\n",
       "    }\n",
       "\n",
       "    .dataframe thead th {\n",
       "        text-align: right;\n",
       "    }\n",
       "</style>\n",
       "<table border=\"1\" class=\"dataframe\">\n",
       "  <thead>\n",
       "    <tr style=\"text-align: right;\">\n",
       "      <th></th>\n",
       "      <th>Reason</th>\n",
       "      <th>Biomed</th>\n",
       "      <th>Reason</th>\n",
       "      <th>Non Biomed</th>\n",
       "    </tr>\n",
       "  </thead>\n",
       "  <tbody>\n",
       "    <tr>\n",
       "      <th>0</th>\n",
       "      <td>Author Unresponsive</td>\n",
       "      <td>368.0</td>\n",
       "      <td>Author Unresponsive</td>\n",
       "      <td>540</td>\n",
       "    </tr>\n",
       "    <tr>\n",
       "      <th>1</th>\n",
       "      <td>Bias Issues or Lack of Balance</td>\n",
       "      <td>10.0</td>\n",
       "      <td>Bias Issues or Lack of Balance</td>\n",
       "      <td>33</td>\n",
       "    </tr>\n",
       "    <tr>\n",
       "      <th>2</th>\n",
       "      <td>Breach of Policy by Author</td>\n",
       "      <td>58.0</td>\n",
       "      <td>Breach of Policy by Author</td>\n",
       "      <td>237</td>\n",
       "    </tr>\n",
       "    <tr>\n",
       "      <th>3</th>\n",
       "      <td>Breach of Policy by Third Party</td>\n",
       "      <td>2.0</td>\n",
       "      <td>Cites Retracted Work</td>\n",
       "      <td>66</td>\n",
       "    </tr>\n",
       "    <tr>\n",
       "      <th>4</th>\n",
       "      <td>Cites Retracted Work</td>\n",
       "      <td>27.0</td>\n",
       "      <td>Civil Proceedings</td>\n",
       "      <td>13</td>\n",
       "    </tr>\n",
       "    <tr>\n",
       "      <th>...</th>\n",
       "      <td>...</td>\n",
       "      <td>...</td>\n",
       "      <td>...</td>\n",
       "      <td>...</td>\n",
       "    </tr>\n",
       "    <tr>\n",
       "      <th>99</th>\n",
       "      <td>Withdrawal</td>\n",
       "      <td>100.0</td>\n",
       "      <td>Updated to Retraction</td>\n",
       "      <td>3</td>\n",
       "    </tr>\n",
       "    <tr>\n",
       "      <th>100</th>\n",
       "      <td>Withdrawn to Publish in Different Journal</td>\n",
       "      <td>6.0</td>\n",
       "      <td>Upgrade/Update of Prior Notice</td>\n",
       "      <td>472</td>\n",
       "    </tr>\n",
       "    <tr>\n",
       "      <th>101</th>\n",
       "      <td>NaN</td>\n",
       "      <td>NaN</td>\n",
       "      <td>Withdrawal</td>\n",
       "      <td>474</td>\n",
       "    </tr>\n",
       "    <tr>\n",
       "      <th>102</th>\n",
       "      <td>NaN</td>\n",
       "      <td>NaN</td>\n",
       "      <td>Withdrawn (out of date)</td>\n",
       "      <td>135</td>\n",
       "    </tr>\n",
       "    <tr>\n",
       "      <th>103</th>\n",
       "      <td>NaN</td>\n",
       "      <td>NaN</td>\n",
       "      <td>Withdrawn to Publish in Different Journal</td>\n",
       "      <td>5</td>\n",
       "    </tr>\n",
       "  </tbody>\n",
       "</table>\n",
       "<p>104 rows × 4 columns</p>\n",
       "</div>"
      ],
      "text/plain": [
       "                                        Reason  Biomed  \\\n",
       "0                          Author Unresponsive   368.0   \n",
       "1               Bias Issues or Lack of Balance    10.0   \n",
       "2                   Breach of Policy by Author    58.0   \n",
       "3              Breach of Policy by Third Party     2.0   \n",
       "4                         Cites Retracted Work    27.0   \n",
       "..                                         ...     ...   \n",
       "99                                  Withdrawal   100.0   \n",
       "100  Withdrawn to Publish in Different Journal     6.0   \n",
       "101                                        NaN     NaN   \n",
       "102                                        NaN     NaN   \n",
       "103                                        NaN     NaN   \n",
       "\n",
       "                                        Reason  Non Biomed  \n",
       "0                          Author Unresponsive         540  \n",
       "1               Bias Issues or Lack of Balance          33  \n",
       "2                   Breach of Policy by Author         237  \n",
       "3                         Cites Retracted Work          66  \n",
       "4                            Civil Proceedings          13  \n",
       "..                                         ...         ...  \n",
       "99                       Updated to Retraction           3  \n",
       "100             Upgrade/Update of Prior Notice         472  \n",
       "101                                 Withdrawal         474  \n",
       "102                    Withdrawn (out of date)         135  \n",
       "103  Withdrawn to Publish in Different Journal           5  \n",
       "\n",
       "[104 rows x 4 columns]"
      ]
     },
     "execution_count": 283,
     "metadata": {},
     "output_type": "execute_result"
    }
   ],
   "source": [
    "top10_reasons = pd.concat([top10_reasons_biomed, top10_reasons_non_biomed], axis=1)\n",
    "top10_reasons"
   ]
  },
  {
   "cell_type": "code",
   "execution_count": 284,
   "metadata": {},
   "outputs": [],
   "source": [
    "top10_ttr_reasons_biomed = motives[motives['Biomedicine']==1].groupby('Reason')['time_to_retraction'].mean().reset_index(name = \"TTR Biomed\")\n",
    "top10_ttr_reasons_non_biomed = motives[motives['Biomedicine']==0].groupby('Reason')['time_to_retraction'].mean().reset_index(name = \"TTR Non Biomed\")"
   ]
  },
  {
   "cell_type": "code",
   "execution_count": 285,
   "metadata": {},
   "outputs": [
    {
     "data": {
      "text/html": [
       "<div>\n",
       "<style scoped>\n",
       "    .dataframe tbody tr th:only-of-type {\n",
       "        vertical-align: middle;\n",
       "    }\n",
       "\n",
       "    .dataframe tbody tr th {\n",
       "        vertical-align: top;\n",
       "    }\n",
       "\n",
       "    .dataframe thead th {\n",
       "        text-align: right;\n",
       "    }\n",
       "</style>\n",
       "<table border=\"1\" class=\"dataframe\">\n",
       "  <thead>\n",
       "    <tr style=\"text-align: right;\">\n",
       "      <th></th>\n",
       "      <th>Reason</th>\n",
       "      <th>TTR Biomed</th>\n",
       "      <th>Reason</th>\n",
       "      <th>TTR Non Biomed</th>\n",
       "    </tr>\n",
       "  </thead>\n",
       "  <tbody>\n",
       "    <tr>\n",
       "      <th>0</th>\n",
       "      <td>Author Unresponsive</td>\n",
       "      <td>49.208464</td>\n",
       "      <td>Author Unresponsive</td>\n",
       "      <td>39.172987</td>\n",
       "    </tr>\n",
       "    <tr>\n",
       "      <th>1</th>\n",
       "      <td>Bias Issues or Lack of Balance</td>\n",
       "      <td>55.697741</td>\n",
       "      <td>Bias Issues or Lack of Balance</td>\n",
       "      <td>54.819737</td>\n",
       "    </tr>\n",
       "    <tr>\n",
       "      <th>2</th>\n",
       "      <td>Breach of Policy by Author</td>\n",
       "      <td>33.944629</td>\n",
       "      <td>Breach of Policy by Author</td>\n",
       "      <td>26.114660</td>\n",
       "    </tr>\n",
       "    <tr>\n",
       "      <th>3</th>\n",
       "      <td>Breach of Policy by Third Party</td>\n",
       "      <td>10.529774</td>\n",
       "      <td>Cites Retracted Work</td>\n",
       "      <td>76.308879</td>\n",
       "    </tr>\n",
       "    <tr>\n",
       "      <th>4</th>\n",
       "      <td>Cites Retracted Work</td>\n",
       "      <td>59.242224</td>\n",
       "      <td>Civil Proceedings</td>\n",
       "      <td>65.761491</td>\n",
       "    </tr>\n",
       "    <tr>\n",
       "      <th>5</th>\n",
       "      <td>Civil Proceedings</td>\n",
       "      <td>112.936345</td>\n",
       "      <td>Complaints about Author</td>\n",
       "      <td>58.015667</td>\n",
       "    </tr>\n",
       "    <tr>\n",
       "      <th>6</th>\n",
       "      <td>Complaints about Author</td>\n",
       "      <td>14.308008</td>\n",
       "      <td>Complaints about Company/Institution</td>\n",
       "      <td>31.507187</td>\n",
       "    </tr>\n",
       "    <tr>\n",
       "      <th>7</th>\n",
       "      <td>Complaints about Third Party</td>\n",
       "      <td>28.501027</td>\n",
       "      <td>Complaints about Third Party</td>\n",
       "      <td>20.057495</td>\n",
       "    </tr>\n",
       "    <tr>\n",
       "      <th>8</th>\n",
       "      <td>Concerns/Issues About Authorship</td>\n",
       "      <td>30.139155</td>\n",
       "      <td>Concerns/Issues About Authorship</td>\n",
       "      <td>25.601554</td>\n",
       "    </tr>\n",
       "    <tr>\n",
       "      <th>9</th>\n",
       "      <td>Concerns/Issues About Data</td>\n",
       "      <td>48.728761</td>\n",
       "      <td>Concerns/Issues About Data</td>\n",
       "      <td>39.304574</td>\n",
       "    </tr>\n",
       "  </tbody>\n",
       "</table>\n",
       "</div>"
      ],
      "text/plain": [
       "                             Reason  TTR Biomed  \\\n",
       "0               Author Unresponsive   49.208464   \n",
       "1    Bias Issues or Lack of Balance   55.697741   \n",
       "2        Breach of Policy by Author   33.944629   \n",
       "3   Breach of Policy by Third Party   10.529774   \n",
       "4              Cites Retracted Work   59.242224   \n",
       "5                 Civil Proceedings  112.936345   \n",
       "6           Complaints about Author   14.308008   \n",
       "7      Complaints about Third Party   28.501027   \n",
       "8  Concerns/Issues About Authorship   30.139155   \n",
       "9        Concerns/Issues About Data   48.728761   \n",
       "\n",
       "                                 Reason  TTR Non Biomed  \n",
       "0                   Author Unresponsive       39.172987  \n",
       "1        Bias Issues or Lack of Balance       54.819737  \n",
       "2            Breach of Policy by Author       26.114660  \n",
       "3                  Cites Retracted Work       76.308879  \n",
       "4                     Civil Proceedings       65.761491  \n",
       "5               Complaints about Author       58.015667  \n",
       "6  Complaints about Company/Institution       31.507187  \n",
       "7          Complaints about Third Party       20.057495  \n",
       "8      Concerns/Issues About Authorship       25.601554  \n",
       "9            Concerns/Issues About Data       39.304574  "
      ]
     },
     "execution_count": 285,
     "metadata": {},
     "output_type": "execute_result"
    }
   ],
   "source": [
    "top10_reasons_ttr = pd.concat([top10_ttr_reasons_biomed, top10_ttr_reasons_non_biomed], axis=1)\n",
    "top10_reasons_ttr[:10]"
   ]
  },
  {
   "cell_type": "code",
   "execution_count": 286,
   "metadata": {},
   "outputs": [
    {
     "data": {
      "text/plain": [
       "Biomedicine  Misconduct\n",
       "0            0              9674\n",
       "             1             35951\n",
       "1            0              4653\n",
       "             1             12123\n",
       "dtype: int64"
      ]
     },
     "execution_count": 286,
     "metadata": {},
     "output_type": "execute_result"
    }
   ],
   "source": [
    "motives.groupby(['Biomedicine', 'Misconduct']).size()"
   ]
  },
  {
   "cell_type": "code",
   "execution_count": 287,
   "metadata": {},
   "outputs": [],
   "source": [
    "motives['year'] = motives['RetractionDate'].dt.year"
   ]
  },
  {
   "cell_type": "markdown",
   "metadata": {},
   "source": [
    "Number of retraction comparing misconduct with other reasons"
   ]
  },
  {
   "cell_type": "code",
   "execution_count": 298,
   "metadata": {},
   "outputs": [
    {
     "data": {
      "image/png": "[encoded data removed]",
      "text/plain": [
       "<Figure size 1200x500 with 2 Axes>"
      ]
     },
     "metadata": {},
     "output_type": "display_data"
    }
   ],
   "source": [
    "gby = pd.DataFrame(motives.groupby(['Misconduct', 'year', 'Biomedicine']).size().reset_index(name=\"Number of retractions\"))\n",
    "\n",
    "# Create subplots\n",
    "fig, axes = plt.subplots(1, 2, figsize=(12, 5))\n",
    "\n",
    "# Plotting first line plot\n",
    "sns.lineplot(data=gby[gby['Biomedicine']==1], x=\"year\", y=\"Number of retractions\", hue=\"Misconduct\", ax=axes[0])\n",
    "axes[0].set_title('Biomedicine')\n",
    "\n",
    "# Plotting second line plot\n",
    "sns.lineplot(data=gby[gby['Biomedicine']==0], x=\"year\", y=\"Number of retractions\", hue=\"Misconduct\", ax=axes[1])\n",
    "axes[1].set_title('Non-Biomedicine')\n",
    "\n",
    "plt.tight_layout()\n",
    "plt.show()"
   ]
  },
  {
   "cell_type": "markdown",
   "metadata": {},
   "source": [
    "Time-to-retraction"
   ]
  },
  {
   "cell_type": "code",
   "execution_count": 299,
   "metadata": {},
   "outputs": [
    {
     "data": {
      "image/png": "[encoded data removed]",
      "text/plain": [
       "<Figure size 1200x500 with 2 Axes>"
      ]
     },
     "metadata": {},
     "output_type": "display_data"
    }
   ],
   "source": [
    "gby = pd.DataFrame(motives.groupby(['Misconduct', 'year', 'Biomedicine'])['time_to_retraction'].mean().reset_index(name = \"Average TTR\"))\n",
    "\n",
    "# Create subplots\n",
    "fig, axes = plt.subplots(1, 2, figsize=(12, 5))\n",
    "\n",
    "# Plotting first line plot\n",
    "sns.lineplot(data=gby[gby['Biomedicine']==1], x=\"year\", y=\"Average TTR\", hue=\"Misconduct\", ax=axes[0])\n",
    "axes[0].set_title('Biomedicine')\n",
    "\n",
    "# Plotting second line plot\n",
    "sns.lineplot(data=gby[gby['Biomedicine']==0], x=\"year\", y=\"Average TTR\", hue=\"Misconduct\", ax=axes[1])\n",
    "axes[1].set_title('Non-Biomedicine')\n",
    "\n",
    "plt.tight_layout()\n",
    "plt.show()"
   ]
  },
  {
   "cell_type": "code",
   "execution_count": 279,
   "metadata": {},
   "outputs": [],
   "source": [
    "#groupby_reasons = pd.DataFrame(motives.groupby(['Reason', 'Biomedicine']).size().reset_index(name = \"Number of retractions\"))"
   ]
  },
  {
   "cell_type": "markdown",
   "metadata": {},
   "source": [
    "Atenção: o gráfico seguinte não está correto (ainda)"
   ]
  },
  {
   "cell_type": "code",
   "execution_count": 189,
   "metadata": {},
   "outputs": [
    {
     "data": {
      "application/vnd.plotly.v1+json": {
       "config": {
        "plotlyServerURL": "https://plot.ly"
       },
       "data": [
        {
         "link": {
          "source": [
           0,
           0,
           0,
           0,
           0,
           0,
           0,
           0,
           0,
           0,
           1,
           1,
           1,
           1,
           1,
           1,
           1,
           1,
           1,
           1,
           2,
           2,
           2,
           2,
           2,
           2,
           2,
           2,
           2,
           2,
           3,
           3,
           3,
           3,
           3,
           3,
           3,
           3,
           3,
           3,
           4,
           4,
           4,
           4,
           4,
           4,
           4,
           4,
           4,
           4,
           0,
           1,
           2,
           3,
           4,
           0,
           1,
           2,
           3,
           4,
           0,
           1,
           2,
           3,
           4,
           0,
           1,
           2,
           3,
           4,
           0,
           1,
           2,
           3,
           4,
           0,
           1,
           2,
           3,
           4,
           0,
           1,
           2,
           3,
           4,
           0,
           1,
           2,
           3,
           4,
           0,
           1,
           2,
           3,
           4,
           0,
           1,
           2,
           3,
           4
          ],
          "target": [
           5,
           6,
           7,
           8,
           9,
           10,
           11,
           12,
           13,
           14,
           5,
           6,
           7,
           8,
           9,
           10,
           11,
           12,
           13,
           14,
           5,
           6,
           7,
           8,
           9,
           10,
           11,
           12,
           13,
           14,
           5,
           6,
           7,
           8,
           9,
           10,
           11,
           12,
           13,
           14,
           5,
           6,
           7,
           8,
           9,
           10,
           11,
           12,
           13,
           14,
           5,
           5,
           5,
           5,
           5,
           6,
           6,
           6,
           6,
           6,
           7,
           7,
           7,
           7,
           7,
           8,
           8,
           8,
           8,
           8,
           9,
           9,
           9,
           9,
           9,
           10,
           10,
           10,
           10,
           10,
           11,
           11,
           11,
           11,
           11,
           12,
           12,
           12,
           12,
           12,
           13,
           13,
           13,
           13,
           13,
           14,
           14,
           14,
           14,
           14
          ],
          "value": [
           1,
           1,
           1,
           1,
           1,
           1,
           1,
           1,
           1,
           1,
           1,
           1,
           1,
           1,
           1,
           1,
           1,
           1,
           1,
           1,
           1,
           1,
           1,
           1,
           1,
           1,
           1,
           1,
           1,
           1,
           1,
           1,
           1,
           1,
           1,
           1,
           1,
           1,
           1,
           1,
           1,
           1,
           1,
           1,
           1,
           1,
           1,
           1,
           1,
           1,
           0,
           0,
           0,
           0,
           0,
           0,
           0,
           0,
           0,
           0,
           0,
           0,
           0,
           0,
           0,
           0,
           0,
           0,
           0,
           0,
           0,
           0,
           0,
           0,
           0,
           0,
           0,
           0,
           0,
           0,
           0,
           0,
           0,
           0,
           0,
           0,
           0,
           0,
           0,
           0,
           0,
           0,
           0,
           0,
           0,
           0,
           0,
           0,
           0,
           0
          ]
         },
         "node": {
          "color": "blue",
          "label": [
           "Notice - No/Limited Information",
           "Randomly Generated Content",
           "Sabotage of Materials",
           "Taken via Peer Review",
           "Updated to Correction",
           "Author Unresponsive",
           "Bias Issues or Lack of Balance",
           "Breach of Policy by Author",
           "Cites Retracted Work",
           "Civil Proceedings",
           "Complaints about Author",
           "Complaints about Company/Institution",
           "Complaints about Third Party",
           "Concerns/Issues About Authorship",
           "Concerns/Issues About Data"
          ],
          "line": {
           "color": "black",
           "width": 0.5
          },
          "pad": 15,
          "thickness": 20
         },
         "type": "sankey"
        }
       ],
       "layout": {
        "font": {
         "size": 10
        },
        "template": {
         "data": {
          "bar": [
           {
            "error_x": {
             "color": "#2a3f5f"
            },
            "error_y": {
             "color": "#2a3f5f"
            },
            "marker": {
             "line": {
              "color": "#E5ECF6",
              "width": 0.5
             },
             "pattern": {
              "fillmode": "overlay",
              "size": 10,
              "solidity": 0.2
             }
            },
            "type": "bar"
           }
          ],
          "barpolar": [
           {
            "marker": {
             "line": {
              "color": "#E5ECF6",
              "width": 0.5
             },
             "pattern": {
              "fillmode": "overlay",
              "size": 10,
              "solidity": 0.2
             }
            },
            "type": "barpolar"
           }
          ],
          "carpet": [
           {
            "aaxis": {
             "endlinecolor": "#2a3f5f",
             "gridcolor": "white",
             "linecolor": "white",
             "minorgridcolor": "white",
             "startlinecolor": "#2a3f5f"
            },
            "baxis": {
             "endlinecolor": "#2a3f5f",
             "gridcolor": "white",
             "linecolor": "white",
             "minorgridcolor": "white",
             "startlinecolor": "#2a3f5f"
            },
            "type": "carpet"
           }
          ],
          "choropleth": [
           {
            "colorbar": {
             "outlinewidth": 0,
             "ticks": ""
            },
            "type": "choropleth"
           }
          ],
          "contour": [
           {
            "colorbar": {
             "outlinewidth": 0,
             "ticks": ""
            },
            "colorscale": [
             [
              0,
              "#0d0887"
             ],
             [
              0.1111111111111111,
              "#46039f"
             ],
             [
              0.2222222222222222,
              "#7201a8"
             ],
             [
              0.3333333333333333,
              "#9c179e"
             ],
             [
              0.4444444444444444,
              "#bd3786"
             ],
             [
              0.5555555555555556,
              "#d8576b"
             ],
             [
              0.6666666666666666,
              "#ed7953"
             ],
             [
              0.7777777777777778,
              "#fb9f3a"
             ],
             [
              0.8888888888888888,
              "#fdca26"
             ],
             [
              1,
              "#f0f921"
             ]
            ],
            "type": "contour"
           }
          ],
          "contourcarpet": [
           {
            "colorbar": {
             "outlinewidth": 0,
             "ticks": ""
            },
            "type": "contourcarpet"
           }
          ],
          "heatmap": [
           {
            "colorbar": {
             "outlinewidth": 0,
             "ticks": ""
            },
            "colorscale": [
             [
              0,
              "#0d0887"
             ],
             [
              0.1111111111111111,
              "#46039f"
             ],
             [
              0.2222222222222222,
              "#7201a8"
             ],
             [
              0.3333333333333333,
              "#9c179e"
             ],
             [
              0.4444444444444444,
              "#bd3786"
             ],
             [
              0.5555555555555556,
              "#d8576b"
             ],
             [
              0.6666666666666666,
              "#ed7953"
             ],
             [
              0.7777777777777778,
              "#fb9f3a"
             ],
             [
              0.8888888888888888,
              "#fdca26"
             ],
             [
              1,
              "#f0f921"
             ]
            ],
            "type": "heatmap"
           }
          ],
          "heatmapgl": [
           {
            "colorbar": {
             "outlinewidth": 0,
             "ticks": ""
            },
            "colorscale": [
             [
              0,
              "#0d0887"
             ],
             [
              0.1111111111111111,
              "#46039f"
             ],
             [
              0.2222222222222222,
              "#7201a8"
             ],
             [
              0.3333333333333333,
              "#9c179e"
             ],
             [
              0.4444444444444444,
              "#bd3786"
             ],
             [
              0.5555555555555556,
              "#d8576b"
             ],
             [
              0.6666666666666666,
              "#ed7953"
             ],
             [
              0.7777777777777778,
              "#fb9f3a"
             ],
             [
              0.8888888888888888,
              "#fdca26"
             ],
             [
              1,
              "#f0f921"
             ]
            ],
            "type": "heatmapgl"
           }
          ],
          "histogram": [
           {
            "marker": {
             "pattern": {
              "fillmode": "overlay",
              "size": 10,
              "solidity": 0.2
             }
            },
            "type": "histogram"
           }
          ],
          "histogram2d": [
           {
            "colorbar": {
             "outlinewidth": 0,
             "ticks": ""
            },
            "colorscale": [
             [
              0,
              "#0d0887"
             ],
             [
              0.1111111111111111,
              "#46039f"
             ],
             [
              0.2222222222222222,
              "#7201a8"
             ],
             [
              0.3333333333333333,
              "#9c179e"
             ],
             [
              0.4444444444444444,
              "#bd3786"
             ],
             [
              0.5555555555555556,
              "#d8576b"
             ],
             [
              0.6666666666666666,
              "#ed7953"
             ],
             [
              0.7777777777777778,
              "#fb9f3a"
             ],
             [
              0.8888888888888888,
              "#fdca26"
             ],
             [
              1,
              "#f0f921"
             ]
            ],
            "type": "histogram2d"
           }
          ],
          "histogram2dcontour": [
           {
            "colorbar": {
             "outlinewidth": 0,
             "ticks": ""
            },
            "colorscale": [
             [
              0,
              "#0d0887"
             ],
             [
              0.1111111111111111,
              "#46039f"
             ],
             [
              0.2222222222222222,
              "#7201a8"
             ],
             [
              0.3333333333333333,
              "#9c179e"
             ],
             [
              0.4444444444444444,
              "#bd3786"
             ],
             [
              0.5555555555555556,
              "#d8576b"
             ],
             [
              0.6666666666666666,
              "#ed7953"
             ],
             [
              0.7777777777777778,
              "#fb9f3a"
             ],
             [
              0.8888888888888888,
              "#fdca26"
             ],
             [
              1,
              "#f0f921"
             ]
            ],
            "type": "histogram2dcontour"
           }
          ],
          "mesh3d": [
           {
            "colorbar": {
             "outlinewidth": 0,
             "ticks": ""
            },
            "type": "mesh3d"
           }
          ],
          "parcoords": [
           {
            "line": {
             "colorbar": {
              "outlinewidth": 0,
              "ticks": ""
             }
            },
            "type": "parcoords"
           }
          ],
          "pie": [
           {
            "automargin": true,
            "type": "pie"
           }
          ],
          "scatter": [
           {
            "fillpattern": {
             "fillmode": "overlay",
             "size": 10,
             "solidity": 0.2
            },
            "type": "scatter"
           }
          ],
          "scatter3d": [
           {
            "line": {
             "colorbar": {
              "outlinewidth": 0,
              "ticks": ""
             }
            },
            "marker": {
             "colorbar": {
              "outlinewidth": 0,
              "ticks": ""
             }
            },
            "type": "scatter3d"
           }
          ],
          "scattercarpet": [
           {
            "marker": {
             "colorbar": {
              "outlinewidth": 0,
              "ticks": ""
             }
            },
            "type": "scattercarpet"
           }
          ],
          "scattergeo": [
           {
            "marker": {
             "colorbar": {
              "outlinewidth": 0,
              "ticks": ""
             }
            },
            "type": "scattergeo"
           }
          ],
          "scattergl": [
           {
            "marker": {
             "colorbar": {
              "outlinewidth": 0,
              "ticks": ""
             }
            },
            "type": "scattergl"
           }
          ],
          "scattermapbox": [
           {
            "marker": {
             "colorbar": {
              "outlinewidth": 0,
              "ticks": ""
             }
            },
            "type": "scattermapbox"
           }
          ],
          "scatterpolar": [
           {
            "marker": {
             "colorbar": {
              "outlinewidth": 0,
              "ticks": ""
             }
            },
            "type": "scatterpolar"
           }
          ],
          "scatterpolargl": [
           {
            "marker": {
             "colorbar": {
              "outlinewidth": 0,
              "ticks": ""
             }
            },
            "type": "scatterpolargl"
           }
          ],
          "scatterternary": [
           {
            "marker": {
             "colorbar": {
              "outlinewidth": 0,
              "ticks": ""
             }
            },
            "type": "scatterternary"
           }
          ],
          "surface": [
           {
            "colorbar": {
             "outlinewidth": 0,
             "ticks": ""
            },
            "colorscale": [
             [
              0,
              "#0d0887"
             ],
             [
              0.1111111111111111,
              "#46039f"
             ],
             [
              0.2222222222222222,
              "#7201a8"
             ],
             [
              0.3333333333333333,
              "#9c179e"
             ],
             [
              0.4444444444444444,
              "#bd3786"
             ],
             [
              0.5555555555555556,
              "#d8576b"
             ],
             [
              0.6666666666666666,
              "#ed7953"
             ],
             [
              0.7777777777777778,
              "#fb9f3a"
             ],
             [
              0.8888888888888888,
              "#fdca26"
             ],
             [
              1,
              "#f0f921"
             ]
            ],
            "type": "surface"
           }
          ],
          "table": [
           {
            "cells": {
             "fill": {
              "color": "#EBF0F8"
             },
             "line": {
              "color": "white"
             }
            },
            "header": {
             "fill": {
              "color": "#C8D4E3"
             },
             "line": {
              "color": "white"
             }
            },
            "type": "table"
           }
          ]
         },
         "layout": {
          "annotationdefaults": {
           "arrowcolor": "#2a3f5f",
           "arrowhead": 0,
           "arrowwidth": 1
          },
          "autotypenumbers": "strict",
          "coloraxis": {
           "colorbar": {
            "outlinewidth": 0,
            "ticks": ""
           }
          },
          "colorscale": {
           "diverging": [
            [
             0,
             "#8e0152"
            ],
            [
             0.1,
             "#c51b7d"
            ],
            [
             0.2,
             "#de77ae"
            ],
            [
             0.3,
             "#f1b6da"
            ],
            [
             0.4,
             "#fde0ef"
            ],
            [
             0.5,
             "#f7f7f7"
            ],
            [
             0.6,
             "#e6f5d0"
            ],
            [
             0.7,
             "#b8e186"
            ],
            [
             0.8,
             "#7fbc41"
            ],
            [
             0.9,
             "#4d9221"
            ],
            [
             1,
             "#276419"
            ]
           ],
           "sequential": [
            [
             0,
             "#0d0887"
            ],
            [
             0.1111111111111111,
             "#46039f"
            ],
            [
             0.2222222222222222,
             "#7201a8"
            ],
            [
             0.3333333333333333,
             "#9c179e"
            ],
            [
             0.4444444444444444,
             "#bd3786"
            ],
            [
             0.5555555555555556,
             "#d8576b"
            ],
            [
             0.6666666666666666,
             "#ed7953"
            ],
            [
             0.7777777777777778,
             "#fb9f3a"
            ],
            [
             0.8888888888888888,
             "#fdca26"
            ],
            [
             1,
             "#f0f921"
            ]
           ],
           "sequentialminus": [
            [
             0,
             "#0d0887"
            ],
            [
             0.1111111111111111,
             "#46039f"
            ],
            [
             0.2222222222222222,
             "#7201a8"
            ],
            [
             0.3333333333333333,
             "#9c179e"
            ],
            [
             0.4444444444444444,
             "#bd3786"
            ],
            [
             0.5555555555555556,
             "#d8576b"
            ],
            [
             0.6666666666666666,
             "#ed7953"
            ],
            [
             0.7777777777777778,
             "#fb9f3a"
            ],
            [
             0.8888888888888888,
             "#fdca26"
            ],
            [
             1,
             "#f0f921"
            ]
           ]
          },
          "colorway": [
           "#636efa",
           "#EF553B",
           "#00cc96",
           "#ab63fa",
           "#FFA15A",
           "#19d3f3",
           "#FF6692",
           "#B6E880",
           "#FF97FF",
           "#FECB52"
          ],
          "font": {
           "color": "#2a3f5f"
          },
          "geo": {
           "bgcolor": "white",
           "lakecolor": "white",
           "landcolor": "#E5ECF6",
           "showlakes": true,
           "showland": true,
           "subunitcolor": "white"
          },
          "hoverlabel": {
           "align": "left"
          },
          "hovermode": "closest",
          "mapbox": {
           "style": "light"
          },
          "paper_bgcolor": "white",
          "plot_bgcolor": "#E5ECF6",
          "polar": {
           "angularaxis": {
            "gridcolor": "white",
            "linecolor": "white",
            "ticks": ""
           },
           "bgcolor": "#E5ECF6",
           "radialaxis": {
            "gridcolor": "white",
            "linecolor": "white",
            "ticks": ""
           }
          },
          "scene": {
           "xaxis": {
            "backgroundcolor": "#E5ECF6",
            "gridcolor": "white",
            "gridwidth": 2,
            "linecolor": "white",
            "showbackground": true,
            "ticks": "",
            "zerolinecolor": "white"
           },
           "yaxis": {
            "backgroundcolor": "#E5ECF6",
            "gridcolor": "white",
            "gridwidth": 2,
            "linecolor": "white",
            "showbackground": true,
            "ticks": "",
            "zerolinecolor": "white"
           },
           "zaxis": {
            "backgroundcolor": "#E5ECF6",
            "gridcolor": "white",
            "gridwidth": 2,
            "linecolor": "white",
            "showbackground": true,
            "ticks": "",
            "zerolinecolor": "white"
           }
          },
          "shapedefaults": {
           "line": {
            "color": "#2a3f5f"
           }
          },
          "ternary": {
           "aaxis": {
            "gridcolor": "white",
            "linecolor": "white",
            "ticks": ""
           },
           "baxis": {
            "gridcolor": "white",
            "linecolor": "white",
            "ticks": ""
           },
           "bgcolor": "#E5ECF6",
           "caxis": {
            "gridcolor": "white",
            "linecolor": "white",
            "ticks": ""
           }
          },
          "title": {
           "x": 0.05
          },
          "xaxis": {
           "automargin": true,
           "gridcolor": "white",
           "linecolor": "white",
           "ticks": "",
           "title": {
            "standoff": 15
           },
           "zerolinecolor": "white",
           "zerolinewidth": 2
          },
          "yaxis": {
           "automargin": true,
           "gridcolor": "white",
           "linecolor": "white",
           "ticks": "",
           "title": {
            "standoff": 15
           },
           "zerolinecolor": "white",
           "zerolinewidth": 2
          }
         }
        },
        "title": {
         "text": "Top 10 Motives Biomed vs. Non-Biomed"
        }
       }
      }
     },
     "metadata": {},
     "output_type": "display_data"
    }
   ],
   "source": [
    "import plotly.graph_objects as go\n",
    "\n",
    "# Group by motive and calculate the sum of biomed and non-biomed observations\n",
    "grouped_data_biomed = motives[motives['Biomedicine'] == 1].groupby('Reason').sum()\n",
    "grouped_data_non_biomed = motives[motives['Biomedicine'] == 0].groupby('Reason').sum()\n",
    "\n",
    "# Filter out rows where both biomed and non-biomed observations are 0\n",
    "grouped_data_biomed = grouped_data_biomed[grouped_data_biomed['Biomedicine'] == 1]\n",
    "grouped_data_non_biomed = grouped_data_non_biomed[grouped_data_non_biomed['Biomedicine'] == 0]\n",
    "\n",
    "# Sort motives by the sum of biomed and non-biomed observations and select the top 10\n",
    "top_biomed_motives = grouped_data_biomed['Biomedicine'].nlargest(10).index.tolist()\n",
    "top_non_biomed_motives = grouped_data_non_biomed['Biomedicine'].nlargest(10).index.tolist()\n",
    "\n",
    "# Filter out only the top 10 motives\n",
    "grouped_data_biomed = grouped_data_biomed[grouped_data_biomed.index.isin(top_biomed_motives)]\n",
    "grouped_data_non_biomed = grouped_data_non_biomed[grouped_data_non_biomed.index.isin(top_non_biomed_motives)]\n",
    "\n",
    "# Create labels for Sankey diagram\n",
    "labels = grouped_data_biomed.index.tolist() + grouped_data_non_biomed.index.tolist()\n",
    "\n",
    "# Create sources and targets for Sankey diagram\n",
    "sources = []\n",
    "targets = []\n",
    "\n",
    "for i, label in enumerate(grouped_data_biomed.index):\n",
    "    sources.extend([i] * len(grouped_data_non_biomed))\n",
    "    targets.extend(list(range(len(grouped_data_biomed), len(labels))))\n",
    "\n",
    "for i, label in enumerate(grouped_data_non_biomed.index):\n",
    "    sources.extend(list(range(len(grouped_data_biomed))))\n",
    "    targets.extend([i + len(grouped_data_biomed)] * len(grouped_data_biomed))\n",
    "\n",
    "# Append values for biomed and non-biomed observations\n",
    "values = []\n",
    "values.extend(grouped_data_biomed['Biomedicine'].tolist() * len(grouped_data_non_biomed))\n",
    "values.extend(grouped_data_non_biomed['Biomedicine'].tolist() * len(grouped_data_biomed))\n",
    "\n",
    "# Create Sankey diagram\n",
    "fig = go.Figure(data=[go.Sankey(\n",
    "    node=dict(\n",
    "        pad=15,\n",
    "        thickness=20,\n",
    "        line=dict(color=\"black\", width=0.5),\n",
    "        label=labels,\n",
    "        color=\"blue\"\n",
    "    ),\n",
    "    link=dict(\n",
    "        source=sources,\n",
    "        target=targets,\n",
    "        value=values\n",
    "    ))])\n",
    "\n",
    "fig.update_layout(title_text=\"Top 10 Motives Biomed vs. Non-Biomed\", font_size=10)\n",
    "fig.show()\n"
   ]
  },
  {
   "cell_type": "markdown",
   "metadata": {},
   "source": [
    "<div class=\"alert alert-block alert-info\" style = \"background:#d0de6f; color:#000000; border:0;\">\n",
    "\n",
    "# Chapter 4 - Geographical Differences <a class=\"anchor\" id=\"chapter4\"></a>"
   ]
  },
  {
   "cell_type": "code",
   "execution_count": 300,
   "metadata": {},
   "outputs": [
    {
     "data": {
      "text/html": [
       "<div>\n",
       "<style scoped>\n",
       "    .dataframe tbody tr th:only-of-type {\n",
       "        vertical-align: middle;\n",
       "    }\n",
       "\n",
       "    .dataframe tbody tr th {\n",
       "        vertical-align: top;\n",
       "    }\n",
       "\n",
       "    .dataframe thead th {\n",
       "        text-align: right;\n",
       "    }\n",
       "</style>\n",
       "<table border=\"1\" class=\"dataframe\">\n",
       "  <thead>\n",
       "    <tr style=\"text-align: right;\">\n",
       "      <th></th>\n",
       "      <th>Record ID</th>\n",
       "      <th>Country</th>\n",
       "      <th>Single_Multiple_Country</th>\n",
       "      <th>Biomedicine</th>\n",
       "      <th>time_to_retraction</th>\n",
       "    </tr>\n",
       "  </thead>\n",
       "  <tbody>\n",
       "    <tr>\n",
       "      <th>0</th>\n",
       "      <td>5729</td>\n",
       "      <td>Japan</td>\n",
       "      <td>Single Country</td>\n",
       "      <td>0</td>\n",
       "      <td>132.796715</td>\n",
       "    </tr>\n",
       "    <tr>\n",
       "      <th>1</th>\n",
       "      <td>5728</td>\n",
       "      <td>Japan</td>\n",
       "      <td>Single Country</td>\n",
       "      <td>0</td>\n",
       "      <td>133.026694</td>\n",
       "    </tr>\n",
       "    <tr>\n",
       "      <th>2</th>\n",
       "      <td>895</td>\n",
       "      <td>Finland</td>\n",
       "      <td>Multiple Countries</td>\n",
       "      <td>0</td>\n",
       "      <td>11.268994</td>\n",
       "    </tr>\n",
       "    <tr>\n",
       "      <th>2</th>\n",
       "      <td>895</td>\n",
       "      <td>Greece</td>\n",
       "      <td>Multiple Countries</td>\n",
       "      <td>0</td>\n",
       "      <td>11.268994</td>\n",
       "    </tr>\n",
       "    <tr>\n",
       "      <th>2</th>\n",
       "      <td>895</td>\n",
       "      <td>Italy</td>\n",
       "      <td>Multiple Countries</td>\n",
       "      <td>0</td>\n",
       "      <td>11.268994</td>\n",
       "    </tr>\n",
       "    <tr>\n",
       "      <th>...</th>\n",
       "      <td>...</td>\n",
       "      <td>...</td>\n",
       "      <td>...</td>\n",
       "      <td>...</td>\n",
       "      <td>...</td>\n",
       "    </tr>\n",
       "    <tr>\n",
       "      <th>20256</th>\n",
       "      <td>18340</td>\n",
       "      <td>Nepal</td>\n",
       "      <td>Multiple Countries</td>\n",
       "      <td>0</td>\n",
       "      <td>8.049281</td>\n",
       "    </tr>\n",
       "    <tr>\n",
       "      <th>20256</th>\n",
       "      <td>18340</td>\n",
       "      <td>Pakistan</td>\n",
       "      <td>Multiple Countries</td>\n",
       "      <td>0</td>\n",
       "      <td>8.049281</td>\n",
       "    </tr>\n",
       "    <tr>\n",
       "      <th>20257</th>\n",
       "      <td>30813</td>\n",
       "      <td>Iran</td>\n",
       "      <td>Single Country</td>\n",
       "      <td>0</td>\n",
       "      <td>6.143737</td>\n",
       "    </tr>\n",
       "    <tr>\n",
       "      <th>20258</th>\n",
       "      <td>30815</td>\n",
       "      <td>India</td>\n",
       "      <td>Single Country</td>\n",
       "      <td>0</td>\n",
       "      <td>0.000000</td>\n",
       "    </tr>\n",
       "    <tr>\n",
       "      <th>20259</th>\n",
       "      <td>44706</td>\n",
       "      <td>Japan</td>\n",
       "      <td>Single Country</td>\n",
       "      <td>1</td>\n",
       "      <td>26.119097</td>\n",
       "    </tr>\n",
       "  </tbody>\n",
       "</table>\n",
       "<p>25217 rows × 5 columns</p>\n",
       "</div>"
      ],
      "text/plain": [
       "       Record ID   Country Single_Multiple_Country  Biomedicine  \\\n",
       "0           5729     Japan          Single Country            0   \n",
       "1           5728     Japan          Single Country            0   \n",
       "2            895   Finland      Multiple Countries            0   \n",
       "2            895    Greece      Multiple Countries            0   \n",
       "2            895     Italy      Multiple Countries            0   \n",
       "...          ...       ...                     ...          ...   \n",
       "20256      18340     Nepal      Multiple Countries            0   \n",
       "20256      18340  Pakistan      Multiple Countries            0   \n",
       "20257      30813      Iran          Single Country            0   \n",
       "20258      30815     India          Single Country            0   \n",
       "20259      44706     Japan          Single Country            1   \n",
       "\n",
       "       time_to_retraction  \n",
       "0              132.796715  \n",
       "1              133.026694  \n",
       "2               11.268994  \n",
       "2               11.268994  \n",
       "2               11.268994  \n",
       "...                   ...  \n",
       "20256            8.049281  \n",
       "20256            8.049281  \n",
       "20257            6.143737  \n",
       "20258            0.000000  \n",
       "20259           26.119097  \n",
       "\n",
       "[25217 rows x 5 columns]"
      ]
     },
     "execution_count": 300,
     "metadata": {},
     "output_type": "execute_result"
    }
   ],
   "source": [
    "country = retractions.copy()\n",
    "country['Country_Count'] = retractions['Country'].str.split(';').apply(len)\n",
    "country['Single_Multiple_Country'] = country['Country_Count'].apply(lambda x: 'Single Country' if x == 1 else 'Multiple Countries')\n",
    "country = country[['Record ID','Country', 'Single_Multiple_Country', 'Biomedicine', 'time_to_retraction']]\n",
    "country.loc[:, 'Country'] = country['Country'].str.split(';')\n",
    "country = country.explode('Country')\n",
    "country"
   ]
  },
  {
   "cell_type": "code",
   "execution_count": 301,
   "metadata": {},
   "outputs": [],
   "source": [
    "top10_ttr_countries_biomed = country[country['Biomedicine']==1].groupby('Country')['time_to_retraction'].mean().reset_index(name = \"TTR Biomed\")\n",
    "top10_ttr_countries_non_biomed = country[country['Biomedicine']==0].groupby('Country')['time_to_retraction'].mean().reset_index(name = \"TTR Non Biomed\")"
   ]
  },
  {
   "cell_type": "code",
   "execution_count": 302,
   "metadata": {},
   "outputs": [
    {
     "data": {
      "text/html": [
       "<div>\n",
       "<style scoped>\n",
       "    .dataframe tbody tr th:only-of-type {\n",
       "        vertical-align: middle;\n",
       "    }\n",
       "\n",
       "    .dataframe tbody tr th {\n",
       "        vertical-align: top;\n",
       "    }\n",
       "\n",
       "    .dataframe thead th {\n",
       "        text-align: right;\n",
       "    }\n",
       "</style>\n",
       "<table border=\"1\" class=\"dataframe\">\n",
       "  <thead>\n",
       "    <tr style=\"text-align: right;\">\n",
       "      <th></th>\n",
       "      <th>Country</th>\n",
       "      <th>TTR Biomed</th>\n",
       "      <th>Country</th>\n",
       "      <th>TTR Non Biomed</th>\n",
       "    </tr>\n",
       "  </thead>\n",
       "  <tbody>\n",
       "    <tr>\n",
       "      <th>0</th>\n",
       "      <td>Algeria</td>\n",
       "      <td>79.572895</td>\n",
       "      <td>Afghanistan</td>\n",
       "      <td>13.678303</td>\n",
       "    </tr>\n",
       "    <tr>\n",
       "      <th>1</th>\n",
       "      <td>Argentina</td>\n",
       "      <td>29.545791</td>\n",
       "      <td>Albania</td>\n",
       "      <td>1.544148</td>\n",
       "    </tr>\n",
       "    <tr>\n",
       "      <th>2</th>\n",
       "      <td>Armenia</td>\n",
       "      <td>3.581109</td>\n",
       "      <td>Algeria</td>\n",
       "      <td>23.789817</td>\n",
       "    </tr>\n",
       "    <tr>\n",
       "      <th>3</th>\n",
       "      <td>Aruba</td>\n",
       "      <td>14.751540</td>\n",
       "      <td>Anguilla</td>\n",
       "      <td>1.084189</td>\n",
       "    </tr>\n",
       "    <tr>\n",
       "      <th>4</th>\n",
       "      <td>Australia</td>\n",
       "      <td>31.407274</td>\n",
       "      <td>Argentina</td>\n",
       "      <td>50.819489</td>\n",
       "    </tr>\n",
       "    <tr>\n",
       "      <th>5</th>\n",
       "      <td>Austria</td>\n",
       "      <td>67.836361</td>\n",
       "      <td>Armenia</td>\n",
       "      <td>15.671458</td>\n",
       "    </tr>\n",
       "    <tr>\n",
       "      <th>6</th>\n",
       "      <td>Azerbaijan</td>\n",
       "      <td>45.963039</td>\n",
       "      <td>Aruba</td>\n",
       "      <td>4.763860</td>\n",
       "    </tr>\n",
       "    <tr>\n",
       "      <th>7</th>\n",
       "      <td>Bahrain</td>\n",
       "      <td>22.357290</td>\n",
       "      <td>Australia</td>\n",
       "      <td>41.868997</td>\n",
       "    </tr>\n",
       "    <tr>\n",
       "      <th>8</th>\n",
       "      <td>Bangladesh</td>\n",
       "      <td>17.057906</td>\n",
       "      <td>Austria</td>\n",
       "      <td>21.767503</td>\n",
       "    </tr>\n",
       "    <tr>\n",
       "      <th>9</th>\n",
       "      <td>Belgium</td>\n",
       "      <td>70.251426</td>\n",
       "      <td>Azerbaijan</td>\n",
       "      <td>18.830938</td>\n",
       "    </tr>\n",
       "  </tbody>\n",
       "</table>\n",
       "</div>"
      ],
      "text/plain": [
       "      Country  TTR Biomed      Country  TTR Non Biomed\n",
       "0     Algeria   79.572895  Afghanistan       13.678303\n",
       "1   Argentina   29.545791      Albania        1.544148\n",
       "2     Armenia    3.581109      Algeria       23.789817\n",
       "3       Aruba   14.751540     Anguilla        1.084189\n",
       "4   Australia   31.407274    Argentina       50.819489\n",
       "5     Austria   67.836361      Armenia       15.671458\n",
       "6  Azerbaijan   45.963039        Aruba        4.763860\n",
       "7     Bahrain   22.357290    Australia       41.868997\n",
       "8  Bangladesh   17.057906      Austria       21.767503\n",
       "9     Belgium   70.251426   Azerbaijan       18.830938"
      ]
     },
     "execution_count": 302,
     "metadata": {},
     "output_type": "execute_result"
    }
   ],
   "source": [
    "top10_countries_ttr = pd.concat([top10_ttr_countries_biomed, top10_ttr_countries_non_biomed], axis=1)\n",
    "top10_countries_ttr[:10]"
   ]
  },
  {
   "cell_type": "code",
   "execution_count": 318,
   "metadata": {},
   "outputs": [
    {
     "data": {
      "application/vnd.plotly.v1+json": {
       "config": {
        "plotlyServerURL": "https://plot.ly"
       },
       "data": [
        {
         "alignmentgroup": "True",
         "hovertemplate": "Publication Category=Single Country<br>TTR=%{x}<br>Country=%{y}<extra></extra>",
         "legendgroup": "Single Country",
         "marker": {
          "color": "#636efa",
          "pattern": {
           "shape": ""
          }
         },
         "name": "Single Country",
         "offsetgroup": "Single Country",
         "orientation": "h",
         "showlegend": true,
         "textposition": "auto",
         "type": "bar",
         "x": [
          173.43737166324436,
          159.70431211498973,
          158.02053388090349,
          153.46201232032854,
          128.06570841889118,
          99.73990417522246,
          79.5728952772074,
          73.58404224112643,
          69.52490787882198,
          69.19734455054723,
          67.71317948246447
         ],
         "xaxis": "x",
         "y": [
          "Serbia",
          "Lebanon",
          "Hong Kong",
          "Jordan",
          "Libya",
          "Austria",
          "Algeria",
          "Belgium",
          "United Kingdom",
          "Germany",
          "Japan"
         ],
         "yaxis": "y"
        },
        {
         "alignmentgroup": "True",
         "hovertemplate": "Publication Category=Multiple Countries<br>TTR=%{x}<br>Country=%{y}<extra></extra>",
         "legendgroup": "Multiple Countries",
         "marker": {
          "color": "#EF553B",
          "pattern": {
           "shape": ""
          }
         },
         "name": "Multiple Countries",
         "offsetgroup": "Multiple Countries",
         "orientation": "h",
         "showlegend": true,
         "textposition": "auto",
         "type": "bar",
         "x": [
          145.0513347022587,
          125.99589322381931,
          125.99589322381931,
          110.14373716632443,
          72.33543088030734,
          69.27283131921769,
          68.44626967830253,
          68.13067015120403,
          66.00410677618069
         ],
         "xaxis": "x",
         "y": [
          "Ukraine",
          "Burkina Faso",
          "Sudan",
          "Slovakia",
          "Italy",
          "Japan",
          "Nepal",
          "Belgium",
          "Luxembourg"
         ],
         "yaxis": "y"
        }
       ],
       "layout": {
        "barmode": "stack",
        "legend": {
         "title": {
          "text": "Publication Category"
         },
         "tracegroupgap": 0
        },
        "template": {
         "data": {
          "bar": [
           {
            "error_x": {
             "color": "#2a3f5f"
            },
            "error_y": {
             "color": "#2a3f5f"
            },
            "marker": {
             "line": {
              "color": "#E5ECF6",
              "width": 0.5
             },
             "pattern": {
              "fillmode": "overlay",
              "size": 10,
              "solidity": 0.2
             }
            },
            "type": "bar"
           }
          ],
          "barpolar": [
           {
            "marker": {
             "line": {
              "color": "#E5ECF6",
              "width": 0.5
             },
             "pattern": {
              "fillmode": "overlay",
              "size": 10,
              "solidity": 0.2
             }
            },
            "type": "barpolar"
           }
          ],
          "carpet": [
           {
            "aaxis": {
             "endlinecolor": "#2a3f5f",
             "gridcolor": "white",
             "linecolor": "white",
             "minorgridcolor": "white",
             "startlinecolor": "#2a3f5f"
            },
            "baxis": {
             "endlinecolor": "#2a3f5f",
             "gridcolor": "white",
             "linecolor": "white",
             "minorgridcolor": "white",
             "startlinecolor": "#2a3f5f"
            },
            "type": "carpet"
           }
          ],
          "choropleth": [
           {
            "colorbar": {
             "outlinewidth": 0,
             "ticks": ""
            },
            "type": "choropleth"
           }
          ],
          "contour": [
           {
            "colorbar": {
             "outlinewidth": 0,
             "ticks": ""
            },
            "colorscale": [
             [
              0,
              "#0d0887"
             ],
             [
              0.1111111111111111,
              "#46039f"
             ],
             [
              0.2222222222222222,
              "#7201a8"
             ],
             [
              0.3333333333333333,
              "#9c179e"
             ],
             [
              0.4444444444444444,
              "#bd3786"
             ],
             [
              0.5555555555555556,
              "#d8576b"
             ],
             [
              0.6666666666666666,
              "#ed7953"
             ],
             [
              0.7777777777777778,
              "#fb9f3a"
             ],
             [
              0.8888888888888888,
              "#fdca26"
             ],
             [
              1,
              "#f0f921"
             ]
            ],
            "type": "contour"
           }
          ],
          "contourcarpet": [
           {
            "colorbar": {
             "outlinewidth": 0,
             "ticks": ""
            },
            "type": "contourcarpet"
           }
          ],
          "heatmap": [
           {
            "colorbar": {
             "outlinewidth": 0,
             "ticks": ""
            },
            "colorscale": [
             [
              0,
              "#0d0887"
             ],
             [
              0.1111111111111111,
              "#46039f"
             ],
             [
              0.2222222222222222,
              "#7201a8"
             ],
             [
              0.3333333333333333,
              "#9c179e"
             ],
             [
              0.4444444444444444,
              "#bd3786"
             ],
             [
              0.5555555555555556,
              "#d8576b"
             ],
             [
              0.6666666666666666,
              "#ed7953"
             ],
             [
              0.7777777777777778,
              "#fb9f3a"
             ],
             [
              0.8888888888888888,
              "#fdca26"
             ],
             [
              1,
              "#f0f921"
             ]
            ],
            "type": "heatmap"
           }
          ],
          "heatmapgl": [
           {
            "colorbar": {
             "outlinewidth": 0,
             "ticks": ""
            },
            "colorscale": [
             [
              0,
              "#0d0887"
             ],
             [
              0.1111111111111111,
              "#46039f"
             ],
             [
              0.2222222222222222,
              "#7201a8"
             ],
             [
              0.3333333333333333,
              "#9c179e"
             ],
             [
              0.4444444444444444,
              "#bd3786"
             ],
             [
              0.5555555555555556,
              "#d8576b"
             ],
             [
              0.6666666666666666,
              "#ed7953"
             ],
             [
              0.7777777777777778,
              "#fb9f3a"
             ],
             [
              0.8888888888888888,
              "#fdca26"
             ],
             [
              1,
              "#f0f921"
             ]
            ],
            "type": "heatmapgl"
           }
          ],
          "histogram": [
           {
            "marker": {
             "pattern": {
              "fillmode": "overlay",
              "size": 10,
              "solidity": 0.2
             }
            },
            "type": "histogram"
           }
          ],
          "histogram2d": [
           {
            "colorbar": {
             "outlinewidth": 0,
             "ticks": ""
            },
            "colorscale": [
             [
              0,
              "#0d0887"
             ],
             [
              0.1111111111111111,
              "#46039f"
             ],
             [
              0.2222222222222222,
              "#7201a8"
             ],
             [
              0.3333333333333333,
              "#9c179e"
             ],
             [
              0.4444444444444444,
              "#bd3786"
             ],
             [
              0.5555555555555556,
              "#d8576b"
             ],
             [
              0.6666666666666666,
              "#ed7953"
             ],
             [
              0.7777777777777778,
              "#fb9f3a"
             ],
             [
              0.8888888888888888,
              "#fdca26"
             ],
             [
              1,
              "#f0f921"
             ]
            ],
            "type": "histogram2d"
           }
          ],
          "histogram2dcontour": [
           {
            "colorbar": {
             "outlinewidth": 0,
             "ticks": ""
            },
            "colorscale": [
             [
              0,
              "#0d0887"
             ],
             [
              0.1111111111111111,
              "#46039f"
             ],
             [
              0.2222222222222222,
              "#7201a8"
             ],
             [
              0.3333333333333333,
              "#9c179e"
             ],
             [
              0.4444444444444444,
              "#bd3786"
             ],
             [
              0.5555555555555556,
              "#d8576b"
             ],
             [
              0.6666666666666666,
              "#ed7953"
             ],
             [
              0.7777777777777778,
              "#fb9f3a"
             ],
             [
              0.8888888888888888,
              "#fdca26"
             ],
             [
              1,
              "#f0f921"
             ]
            ],
            "type": "histogram2dcontour"
           }
          ],
          "mesh3d": [
           {
            "colorbar": {
             "outlinewidth": 0,
             "ticks": ""
            },
            "type": "mesh3d"
           }
          ],
          "parcoords": [
           {
            "line": {
             "colorbar": {
              "outlinewidth": 0,
              "ticks": ""
             }
            },
            "type": "parcoords"
           }
          ],
          "pie": [
           {
            "automargin": true,
            "type": "pie"
           }
          ],
          "scatter": [
           {
            "fillpattern": {
             "fillmode": "overlay",
             "size": 10,
             "solidity": 0.2
            },
            "type": "scatter"
           }
          ],
          "scatter3d": [
           {
            "line": {
             "colorbar": {
              "outlinewidth": 0,
              "ticks": ""
             }
            },
            "marker": {
             "colorbar": {
              "outlinewidth": 0,
              "ticks": ""
             }
            },
            "type": "scatter3d"
           }
          ],
          "scattercarpet": [
           {
            "marker": {
             "colorbar": {
              "outlinewidth": 0,
              "ticks": ""
             }
            },
            "type": "scattercarpet"
           }
          ],
          "scattergeo": [
           {
            "marker": {
             "colorbar": {
              "outlinewidth": 0,
              "ticks": ""
             }
            },
            "type": "scattergeo"
           }
          ],
          "scattergl": [
           {
            "marker": {
             "colorbar": {
              "outlinewidth": 0,
              "ticks": ""
             }
            },
            "type": "scattergl"
           }
          ],
          "scattermapbox": [
           {
            "marker": {
             "colorbar": {
              "outlinewidth": 0,
              "ticks": ""
             }
            },
            "type": "scattermapbox"
           }
          ],
          "scatterpolar": [
           {
            "marker": {
             "colorbar": {
              "outlinewidth": 0,
              "ticks": ""
             }
            },
            "type": "scatterpolar"
           }
          ],
          "scatterpolargl": [
           {
            "marker": {
             "colorbar": {
              "outlinewidth": 0,
              "ticks": ""
             }
            },
            "type": "scatterpolargl"
           }
          ],
          "scatterternary": [
           {
            "marker": {
             "colorbar": {
              "outlinewidth": 0,
              "ticks": ""
             }
            },
            "type": "scatterternary"
           }
          ],
          "surface": [
           {
            "colorbar": {
             "outlinewidth": 0,
             "ticks": ""
            },
            "colorscale": [
             [
              0,
              "#0d0887"
             ],
             [
              0.1111111111111111,
              "#46039f"
             ],
             [
              0.2222222222222222,
              "#7201a8"
             ],
             [
              0.3333333333333333,
              "#9c179e"
             ],
             [
              0.4444444444444444,
              "#bd3786"
             ],
             [
              0.5555555555555556,
              "#d8576b"
             ],
             [
              0.6666666666666666,
              "#ed7953"
             ],
             [
              0.7777777777777778,
              "#fb9f3a"
             ],
             [
              0.8888888888888888,
              "#fdca26"
             ],
             [
              1,
              "#f0f921"
             ]
            ],
            "type": "surface"
           }
          ],
          "table": [
           {
            "cells": {
             "fill": {
              "color": "#EBF0F8"
             },
             "line": {
              "color": "white"
             }
            },
            "header": {
             "fill": {
              "color": "#C8D4E3"
             },
             "line": {
              "color": "white"
             }
            },
            "type": "table"
           }
          ]
         },
         "layout": {
          "annotationdefaults": {
           "arrowcolor": "#2a3f5f",
           "arrowhead": 0,
           "arrowwidth": 1
          },
          "autotypenumbers": "strict",
          "coloraxis": {
           "colorbar": {
            "outlinewidth": 0,
            "ticks": ""
           }
          },
          "colorscale": {
           "diverging": [
            [
             0,
             "#8e0152"
            ],
            [
             0.1,
             "#c51b7d"
            ],
            [
             0.2,
             "#de77ae"
            ],
            [
             0.3,
             "#f1b6da"
            ],
            [
             0.4,
             "#fde0ef"
            ],
            [
             0.5,
             "#f7f7f7"
            ],
            [
             0.6,
             "#e6f5d0"
            ],
            [
             0.7,
             "#b8e186"
            ],
            [
             0.8,
             "#7fbc41"
            ],
            [
             0.9,
             "#4d9221"
            ],
            [
             1,
             "#276419"
            ]
           ],
           "sequential": [
            [
             0,
             "#0d0887"
            ],
            [
             0.1111111111111111,
             "#46039f"
            ],
            [
             0.2222222222222222,
             "#7201a8"
            ],
            [
             0.3333333333333333,
             "#9c179e"
            ],
            [
             0.4444444444444444,
             "#bd3786"
            ],
            [
             0.5555555555555556,
             "#d8576b"
            ],
            [
             0.6666666666666666,
             "#ed7953"
            ],
            [
             0.7777777777777778,
             "#fb9f3a"
            ],
            [
             0.8888888888888888,
             "#fdca26"
            ],
            [
             1,
             "#f0f921"
            ]
           ],
           "sequentialminus": [
            [
             0,
             "#0d0887"
            ],
            [
             0.1111111111111111,
             "#46039f"
            ],
            [
             0.2222222222222222,
             "#7201a8"
            ],
            [
             0.3333333333333333,
             "#9c179e"
            ],
            [
             0.4444444444444444,
             "#bd3786"
            ],
            [
             0.5555555555555556,
             "#d8576b"
            ],
            [
             0.6666666666666666,
             "#ed7953"
            ],
            [
             0.7777777777777778,
             "#fb9f3a"
            ],
            [
             0.8888888888888888,
             "#fdca26"
            ],
            [
             1,
             "#f0f921"
            ]
           ]
          },
          "colorway": [
           "#636efa",
           "#EF553B",
           "#00cc96",
           "#ab63fa",
           "#FFA15A",
           "#19d3f3",
           "#FF6692",
           "#B6E880",
           "#FF97FF",
           "#FECB52"
          ],
          "font": {
           "color": "#2a3f5f"
          },
          "geo": {
           "bgcolor": "white",
           "lakecolor": "white",
           "landcolor": "#E5ECF6",
           "showlakes": true,
           "showland": true,
           "subunitcolor": "white"
          },
          "hoverlabel": {
           "align": "left"
          },
          "hovermode": "closest",
          "mapbox": {
           "style": "light"
          },
          "paper_bgcolor": "white",
          "plot_bgcolor": "#E5ECF6",
          "polar": {
           "angularaxis": {
            "gridcolor": "white",
            "linecolor": "white",
            "ticks": ""
           },
           "bgcolor": "#E5ECF6",
           "radialaxis": {
            "gridcolor": "white",
            "linecolor": "white",
            "ticks": ""
           }
          },
          "scene": {
           "xaxis": {
            "backgroundcolor": "#E5ECF6",
            "gridcolor": "white",
            "gridwidth": 2,
            "linecolor": "white",
            "showbackground": true,
            "ticks": "",
            "zerolinecolor": "white"
           },
           "yaxis": {
            "backgroundcolor": "#E5ECF6",
            "gridcolor": "white",
            "gridwidth": 2,
            "linecolor": "white",
            "showbackground": true,
            "ticks": "",
            "zerolinecolor": "white"
           },
           "zaxis": {
            "backgroundcolor": "#E5ECF6",
            "gridcolor": "white",
            "gridwidth": 2,
            "linecolor": "white",
            "showbackground": true,
            "ticks": "",
            "zerolinecolor": "white"
           }
          },
          "shapedefaults": {
           "line": {
            "color": "#2a3f5f"
           }
          },
          "ternary": {
           "aaxis": {
            "gridcolor": "white",
            "linecolor": "white",
            "ticks": ""
           },
           "baxis": {
            "gridcolor": "white",
            "linecolor": "white",
            "ticks": ""
           },
           "bgcolor": "#E5ECF6",
           "caxis": {
            "gridcolor": "white",
            "linecolor": "white",
            "ticks": ""
           }
          },
          "title": {
           "x": 0.05
          },
          "xaxis": {
           "automargin": true,
           "gridcolor": "white",
           "linecolor": "white",
           "ticks": "",
           "title": {
            "standoff": 15
           },
           "zerolinecolor": "white",
           "zerolinewidth": 2
          },
          "yaxis": {
           "automargin": true,
           "gridcolor": "white",
           "linecolor": "white",
           "ticks": "",
           "title": {
            "standoff": 15
           },
           "zerolinecolor": "white",
           "zerolinewidth": 2
          }
         }
        },
        "title": {
         "text": "Top 15 Countries with Highest Time to Retraction in Biomedicine"
        },
        "xaxis": {
         "anchor": "y",
         "domain": [
          0,
          1
         ],
         "title": {
          "text": "TTR"
         }
        },
        "yaxis": {
         "anchor": "x",
         "domain": [
          0,
          1
         ],
         "title": {
          "text": "Country"
         }
        }
       }
      }
     },
     "metadata": {},
     "output_type": "display_data"
    }
   ],
   "source": [
    "country_counts = country[country['Biomedicine']==1].groupby(['Country', 'Single_Multiple_Country'])['time_to_retraction'].mean().reset_index(name='TTR')\n",
    "\n",
    "# Sort the DataFrame by TTR in descending order and take the top 15 countries\n",
    "top_15_countries = country_counts.sort_values(by='TTR', ascending=False).head(20)\n",
    "\n",
    "# Create a histogram with countries on the y-axis\n",
    "fig = px.bar(top_15_countries, y='Country', x='TTR', color='Single_Multiple_Country',\n",
    "             orientation='h',  # Horizontal orientation for countries on the y-axis\n",
    "             title='Top 15 Countries with Highest Time to Retraction in Biomedicine',\n",
    "             labels={'Single_Multiple_Country': 'Publication Category', 'Time to Retraction': 'TTR'},\n",
    "             category_orders={'Single_Multiple_Country': ['Single Country', 'Multiple Countries']})\n",
    "\n",
    "fig.update_layout(barmode='stack')  # Stacked histogram\n",
    "\n",
    "fig.show()"
   ]
  },
  {
   "cell_type": "code",
   "execution_count": 319,
   "metadata": {},
   "outputs": [
    {
     "data": {
      "application/vnd.plotly.v1+json": {
       "config": {
        "plotlyServerURL": "https://plot.ly"
       },
       "data": [
        {
         "alignmentgroup": "True",
         "hovertemplate": "Publication Category=Single Country<br>TTR=%{x}<br>Country=%{y}<extra></extra>",
         "legendgroup": "Single Country",
         "marker": {
          "color": "#636efa",
          "pattern": {
           "shape": ""
          }
         },
         "name": "Single Country",
         "offsetgroup": "Single Country",
         "orientation": "h",
         "showlegend": true,
         "textposition": "auto",
         "type": "bar",
         "x": [
          197.70020533880904,
          156.09034907597535,
          109.80548537056403,
          104.53114305270363,
          96.05886379192334,
          87.89014049838386,
          65.11704312114989,
          63.110198494182065,
          59.40386901545444,
          57.39630390143737,
          57.33941744619363,
          55.983572895277206,
          54.16344969199179,
          53.246233855955786
         ],
         "xaxis": "x",
         "y": [
          "Kosovo",
          "French Polynesia",
          "Germany",
          "Gabon",
          "Israel",
          "Japan",
          "Lebanon",
          "Argentina",
          "Ireland",
          "Luxembourg",
          "Australia",
          "Georgia",
          "Nepal",
          "Canada"
         ],
         "yaxis": "y"
        },
        {
         "alignmentgroup": "True",
         "hovertemplate": "Publication Category=Multiple Countries<br>TTR=%{x}<br>Country=%{y}<extra></extra>",
         "legendgroup": "Multiple Countries",
         "marker": {
          "color": "#EF553B",
          "pattern": {
           "shape": ""
          }
         },
         "name": "Multiple Countries",
         "offsetgroup": "Multiple Countries",
         "orientation": "h",
         "showlegend": true,
         "textposition": "auto",
         "type": "bar",
         "x": [
          85.4610997033995,
          72.27926078028747,
          69.91375770020534,
          58.92950034223134,
          55.10390143737167,
          54.176591375770016
         ],
         "xaxis": "x",
         "y": [
          "Bahrain",
          "Myanmar (formerly Burma)",
          "Unknown",
          "Trinidad & Tobago",
          "Denmark",
          "Estonia"
         ],
         "yaxis": "y"
        }
       ],
       "layout": {
        "barmode": "stack",
        "legend": {
         "title": {
          "text": "Publication Category"
         },
         "tracegroupgap": 0
        },
        "template": {
         "data": {
          "bar": [
           {
            "error_x": {
             "color": "#2a3f5f"
            },
            "error_y": {
             "color": "#2a3f5f"
            },
            "marker": {
             "line": {
              "color": "#E5ECF6",
              "width": 0.5
             },
             "pattern": {
              "fillmode": "overlay",
              "size": 10,
              "solidity": 0.2
             }
            },
            "type": "bar"
           }
          ],
          "barpolar": [
           {
            "marker": {
             "line": {
              "color": "#E5ECF6",
              "width": 0.5
             },
             "pattern": {
              "fillmode": "overlay",
              "size": 10,
              "solidity": 0.2
             }
            },
            "type": "barpolar"
           }
          ],
          "carpet": [
           {
            "aaxis": {
             "endlinecolor": "#2a3f5f",
             "gridcolor": "white",
             "linecolor": "white",
             "minorgridcolor": "white",
             "startlinecolor": "#2a3f5f"
            },
            "baxis": {
             "endlinecolor": "#2a3f5f",
             "gridcolor": "white",
             "linecolor": "white",
             "minorgridcolor": "white",
             "startlinecolor": "#2a3f5f"
            },
            "type": "carpet"
           }
          ],
          "choropleth": [
           {
            "colorbar": {
             "outlinewidth": 0,
             "ticks": ""
            },
            "type": "choropleth"
           }
          ],
          "contour": [
           {
            "colorbar": {
             "outlinewidth": 0,
             "ticks": ""
            },
            "colorscale": [
             [
              0,
              "#0d0887"
             ],
             [
              0.1111111111111111,
              "#46039f"
             ],
             [
              0.2222222222222222,
              "#7201a8"
             ],
             [
              0.3333333333333333,
              "#9c179e"
             ],
             [
              0.4444444444444444,
              "#bd3786"
             ],
             [
              0.5555555555555556,
              "#d8576b"
             ],
             [
              0.6666666666666666,
              "#ed7953"
             ],
             [
              0.7777777777777778,
              "#fb9f3a"
             ],
             [
              0.8888888888888888,
              "#fdca26"
             ],
             [
              1,
              "#f0f921"
             ]
            ],
            "type": "contour"
           }
          ],
          "contourcarpet": [
           {
            "colorbar": {
             "outlinewidth": 0,
             "ticks": ""
            },
            "type": "contourcarpet"
           }
          ],
          "heatmap": [
           {
            "colorbar": {
             "outlinewidth": 0,
             "ticks": ""
            },
            "colorscale": [
             [
              0,
              "#0d0887"
             ],
             [
              0.1111111111111111,
              "#46039f"
             ],
             [
              0.2222222222222222,
              "#7201a8"
             ],
             [
              0.3333333333333333,
              "#9c179e"
             ],
             [
              0.4444444444444444,
              "#bd3786"
             ],
             [
              0.5555555555555556,
              "#d8576b"
             ],
             [
              0.6666666666666666,
              "#ed7953"
             ],
             [
              0.7777777777777778,
              "#fb9f3a"
             ],
             [
              0.8888888888888888,
              "#fdca26"
             ],
             [
              1,
              "#f0f921"
             ]
            ],
            "type": "heatmap"
           }
          ],
          "heatmapgl": [
           {
            "colorbar": {
             "outlinewidth": 0,
             "ticks": ""
            },
            "colorscale": [
             [
              0,
              "#0d0887"
             ],
             [
              0.1111111111111111,
              "#46039f"
             ],
             [
              0.2222222222222222,
              "#7201a8"
             ],
             [
              0.3333333333333333,
              "#9c179e"
             ],
             [
              0.4444444444444444,
              "#bd3786"
             ],
             [
              0.5555555555555556,
              "#d8576b"
             ],
             [
              0.6666666666666666,
              "#ed7953"
             ],
             [
              0.7777777777777778,
              "#fb9f3a"
             ],
             [
              0.8888888888888888,
              "#fdca26"
             ],
             [
              1,
              "#f0f921"
             ]
            ],
            "type": "heatmapgl"
           }
          ],
          "histogram": [
           {
            "marker": {
             "pattern": {
              "fillmode": "overlay",
              "size": 10,
              "solidity": 0.2
             }
            },
            "type": "histogram"
           }
          ],
          "histogram2d": [
           {
            "colorbar": {
             "outlinewidth": 0,
             "ticks": ""
            },
            "colorscale": [
             [
              0,
              "#0d0887"
             ],
             [
              0.1111111111111111,
              "#46039f"
             ],
             [
              0.2222222222222222,
              "#7201a8"
             ],
             [
              0.3333333333333333,
              "#9c179e"
             ],
             [
              0.4444444444444444,
              "#bd3786"
             ],
             [
              0.5555555555555556,
              "#d8576b"
             ],
             [
              0.6666666666666666,
              "#ed7953"
             ],
             [
              0.7777777777777778,
              "#fb9f3a"
             ],
             [
              0.8888888888888888,
              "#fdca26"
             ],
             [
              1,
              "#f0f921"
             ]
            ],
            "type": "histogram2d"
           }
          ],
          "histogram2dcontour": [
           {
            "colorbar": {
             "outlinewidth": 0,
             "ticks": ""
            },
            "colorscale": [
             [
              0,
              "#0d0887"
             ],
             [
              0.1111111111111111,
              "#46039f"
             ],
             [
              0.2222222222222222,
              "#7201a8"
             ],
             [
              0.3333333333333333,
              "#9c179e"
             ],
             [
              0.4444444444444444,
              "#bd3786"
             ],
             [
              0.5555555555555556,
              "#d8576b"
             ],
             [
              0.6666666666666666,
              "#ed7953"
             ],
             [
              0.7777777777777778,
              "#fb9f3a"
             ],
             [
              0.8888888888888888,
              "#fdca26"
             ],
             [
              1,
              "#f0f921"
             ]
            ],
            "type": "histogram2dcontour"
           }
          ],
          "mesh3d": [
           {
            "colorbar": {
             "outlinewidth": 0,
             "ticks": ""
            },
            "type": "mesh3d"
           }
          ],
          "parcoords": [
           {
            "line": {
             "colorbar": {
              "outlinewidth": 0,
              "ticks": ""
             }
            },
            "type": "parcoords"
           }
          ],
          "pie": [
           {
            "automargin": true,
            "type": "pie"
           }
          ],
          "scatter": [
           {
            "fillpattern": {
             "fillmode": "overlay",
             "size": 10,
             "solidity": 0.2
            },
            "type": "scatter"
           }
          ],
          "scatter3d": [
           {
            "line": {
             "colorbar": {
              "outlinewidth": 0,
              "ticks": ""
             }
            },
            "marker": {
             "colorbar": {
              "outlinewidth": 0,
              "ticks": ""
             }
            },
            "type": "scatter3d"
           }
          ],
          "scattercarpet": [
           {
            "marker": {
             "colorbar": {
              "outlinewidth": 0,
              "ticks": ""
             }
            },
            "type": "scattercarpet"
           }
          ],
          "scattergeo": [
           {
            "marker": {
             "colorbar": {
              "outlinewidth": 0,
              "ticks": ""
             }
            },
            "type": "scattergeo"
           }
          ],
          "scattergl": [
           {
            "marker": {
             "colorbar": {
              "outlinewidth": 0,
              "ticks": ""
             }
            },
            "type": "scattergl"
           }
          ],
          "scattermapbox": [
           {
            "marker": {
             "colorbar": {
              "outlinewidth": 0,
              "ticks": ""
             }
            },
            "type": "scattermapbox"
           }
          ],
          "scatterpolar": [
           {
            "marker": {
             "colorbar": {
              "outlinewidth": 0,
              "ticks": ""
             }
            },
            "type": "scatterpolar"
           }
          ],
          "scatterpolargl": [
           {
            "marker": {
             "colorbar": {
              "outlinewidth": 0,
              "ticks": ""
             }
            },
            "type": "scatterpolargl"
           }
          ],
          "scatterternary": [
           {
            "marker": {
             "colorbar": {
              "outlinewidth": 0,
              "ticks": ""
             }
            },
            "type": "scatterternary"
           }
          ],
          "surface": [
           {
            "colorbar": {
             "outlinewidth": 0,
             "ticks": ""
            },
            "colorscale": [
             [
              0,
              "#0d0887"
             ],
             [
              0.1111111111111111,
              "#46039f"
             ],
             [
              0.2222222222222222,
              "#7201a8"
             ],
             [
              0.3333333333333333,
              "#9c179e"
             ],
             [
              0.4444444444444444,
              "#bd3786"
             ],
             [
              0.5555555555555556,
              "#d8576b"
             ],
             [
              0.6666666666666666,
              "#ed7953"
             ],
             [
              0.7777777777777778,
              "#fb9f3a"
             ],
             [
              0.8888888888888888,
              "#fdca26"
             ],
             [
              1,
              "#f0f921"
             ]
            ],
            "type": "surface"
           }
          ],
          "table": [
           {
            "cells": {
             "fill": {
              "color": "#EBF0F8"
             },
             "line": {
              "color": "white"
             }
            },
            "header": {
             "fill": {
              "color": "#C8D4E3"
             },
             "line": {
              "color": "white"
             }
            },
            "type": "table"
           }
          ]
         },
         "layout": {
          "annotationdefaults": {
           "arrowcolor": "#2a3f5f",
           "arrowhead": 0,
           "arrowwidth": 1
          },
          "autotypenumbers": "strict",
          "coloraxis": {
           "colorbar": {
            "outlinewidth": 0,
            "ticks": ""
           }
          },
          "colorscale": {
           "diverging": [
            [
             0,
             "#8e0152"
            ],
            [
             0.1,
             "#c51b7d"
            ],
            [
             0.2,
             "#de77ae"
            ],
            [
             0.3,
             "#f1b6da"
            ],
            [
             0.4,
             "#fde0ef"
            ],
            [
             0.5,
             "#f7f7f7"
            ],
            [
             0.6,
             "#e6f5d0"
            ],
            [
             0.7,
             "#b8e186"
            ],
            [
             0.8,
             "#7fbc41"
            ],
            [
             0.9,
             "#4d9221"
            ],
            [
             1,
             "#276419"
            ]
           ],
           "sequential": [
            [
             0,
             "#0d0887"
            ],
            [
             0.1111111111111111,
             "#46039f"
            ],
            [
             0.2222222222222222,
             "#7201a8"
            ],
            [
             0.3333333333333333,
             "#9c179e"
            ],
            [
             0.4444444444444444,
             "#bd3786"
            ],
            [
             0.5555555555555556,
             "#d8576b"
            ],
            [
             0.6666666666666666,
             "#ed7953"
            ],
            [
             0.7777777777777778,
             "#fb9f3a"
            ],
            [
             0.8888888888888888,
             "#fdca26"
            ],
            [
             1,
             "#f0f921"
            ]
           ],
           "sequentialminus": [
            [
             0,
             "#0d0887"
            ],
            [
             0.1111111111111111,
             "#46039f"
            ],
            [
             0.2222222222222222,
             "#7201a8"
            ],
            [
             0.3333333333333333,
             "#9c179e"
            ],
            [
             0.4444444444444444,
             "#bd3786"
            ],
            [
             0.5555555555555556,
             "#d8576b"
            ],
            [
             0.6666666666666666,
             "#ed7953"
            ],
            [
             0.7777777777777778,
             "#fb9f3a"
            ],
            [
             0.8888888888888888,
             "#fdca26"
            ],
            [
             1,
             "#f0f921"
            ]
           ]
          },
          "colorway": [
           "#636efa",
           "#EF553B",
           "#00cc96",
           "#ab63fa",
           "#FFA15A",
           "#19d3f3",
           "#FF6692",
           "#B6E880",
           "#FF97FF",
           "#FECB52"
          ],
          "font": {
           "color": "#2a3f5f"
          },
          "geo": {
           "bgcolor": "white",
           "lakecolor": "white",
           "landcolor": "#E5ECF6",
           "showlakes": true,
           "showland": true,
           "subunitcolor": "white"
          },
          "hoverlabel": {
           "align": "left"
          },
          "hovermode": "closest",
          "mapbox": {
           "style": "light"
          },
          "paper_bgcolor": "white",
          "plot_bgcolor": "#E5ECF6",
          "polar": {
           "angularaxis": {
            "gridcolor": "white",
            "linecolor": "white",
            "ticks": ""
           },
           "bgcolor": "#E5ECF6",
           "radialaxis": {
            "gridcolor": "white",
            "linecolor": "white",
            "ticks": ""
           }
          },
          "scene": {
           "xaxis": {
            "backgroundcolor": "#E5ECF6",
            "gridcolor": "white",
            "gridwidth": 2,
            "linecolor": "white",
            "showbackground": true,
            "ticks": "",
            "zerolinecolor": "white"
           },
           "yaxis": {
            "backgroundcolor": "#E5ECF6",
            "gridcolor": "white",
            "gridwidth": 2,
            "linecolor": "white",
            "showbackground": true,
            "ticks": "",
            "zerolinecolor": "white"
           },
           "zaxis": {
            "backgroundcolor": "#E5ECF6",
            "gridcolor": "white",
            "gridwidth": 2,
            "linecolor": "white",
            "showbackground": true,
            "ticks": "",
            "zerolinecolor": "white"
           }
          },
          "shapedefaults": {
           "line": {
            "color": "#2a3f5f"
           }
          },
          "ternary": {
           "aaxis": {
            "gridcolor": "white",
            "linecolor": "white",
            "ticks": ""
           },
           "baxis": {
            "gridcolor": "white",
            "linecolor": "white",
            "ticks": ""
           },
           "bgcolor": "#E5ECF6",
           "caxis": {
            "gridcolor": "white",
            "linecolor": "white",
            "ticks": ""
           }
          },
          "title": {
           "x": 0.05
          },
          "xaxis": {
           "automargin": true,
           "gridcolor": "white",
           "linecolor": "white",
           "ticks": "",
           "title": {
            "standoff": 15
           },
           "zerolinecolor": "white",
           "zerolinewidth": 2
          },
          "yaxis": {
           "automargin": true,
           "gridcolor": "white",
           "linecolor": "white",
           "ticks": "",
           "title": {
            "standoff": 15
           },
           "zerolinecolor": "white",
           "zerolinewidth": 2
          }
         }
        },
        "title": {
         "text": "Top 15 Countries with Highest Time to Retraction Not in Biomedicine"
        },
        "xaxis": {
         "anchor": "y",
         "domain": [
          0,
          1
         ],
         "title": {
          "text": "TTR"
         }
        },
        "yaxis": {
         "anchor": "x",
         "domain": [
          0,
          1
         ],
         "title": {
          "text": "Country"
         }
        }
       }
      }
     },
     "metadata": {},
     "output_type": "display_data"
    }
   ],
   "source": [
    "country_counts = country[country['Biomedicine']==0].groupby(['Country', 'Single_Multiple_Country'])['time_to_retraction'].mean().reset_index(name='TTR')\n",
    "\n",
    "# Sort the DataFrame by TTR in descending order and take the top 15 countries\n",
    "top_15_countries = country_counts.sort_values(by='TTR', ascending=False).head(20)\n",
    "\n",
    "# Create a histogram with countries on the y-axis\n",
    "fig = px.bar(top_15_countries, y='Country', x='TTR', color='Single_Multiple_Country',\n",
    "             orientation='h',  # Horizontal orientation for countries on the y-axis\n",
    "             title='Top 15 Countries with Highest Time to Retraction Not in Biomedicine',\n",
    "             labels={'Single_Multiple_Country': 'Publication Category', 'Time to Retraction': 'TTR'},\n",
    "             category_orders={'Single_Multiple_Country': ['Single Country', 'Multiple Countries']})\n",
    "\n",
    "fig.update_layout(barmode='stack')  # Stacked histogram\n",
    "\n",
    "fig.show()"
   ]
  },
  {
   "cell_type": "code",
   "execution_count": 307,
   "metadata": {},
   "outputs": [
    {
     "data": {
      "text/html": [
       "<div>\n",
       "<style scoped>\n",
       "    .dataframe tbody tr th:only-of-type {\n",
       "        vertical-align: middle;\n",
       "    }\n",
       "\n",
       "    .dataframe tbody tr th {\n",
       "        vertical-align: top;\n",
       "    }\n",
       "\n",
       "    .dataframe thead th {\n",
       "        text-align: right;\n",
       "    }\n",
       "</style>\n",
       "<table border=\"1\" class=\"dataframe\">\n",
       "  <thead>\n",
       "    <tr style=\"text-align: right;\">\n",
       "      <th></th>\n",
       "      <th>country</th>\n",
       "      <th>alpha2_code</th>\n",
       "      <th>alpha3_code</th>\n",
       "      <th>numeric</th>\n",
       "    </tr>\n",
       "  </thead>\n",
       "  <tbody>\n",
       "    <tr>\n",
       "      <th>0</th>\n",
       "      <td>Afghanistan</td>\n",
       "      <td>AF</td>\n",
       "      <td>AFG</td>\n",
       "      <td>4</td>\n",
       "    </tr>\n",
       "    <tr>\n",
       "      <th>1</th>\n",
       "      <td>Åland Islands</td>\n",
       "      <td>AX</td>\n",
       "      <td>ALA</td>\n",
       "      <td>248</td>\n",
       "    </tr>\n",
       "    <tr>\n",
       "      <th>2</th>\n",
       "      <td>Albania</td>\n",
       "      <td>AL</td>\n",
       "      <td>ALB</td>\n",
       "      <td>8</td>\n",
       "    </tr>\n",
       "    <tr>\n",
       "      <th>3</th>\n",
       "      <td>Algeria</td>\n",
       "      <td>DZ</td>\n",
       "      <td>DZA</td>\n",
       "      <td>12</td>\n",
       "    </tr>\n",
       "    <tr>\n",
       "      <th>4</th>\n",
       "      <td>American Samoa</td>\n",
       "      <td>AS</td>\n",
       "      <td>ASM</td>\n",
       "      <td>16</td>\n",
       "    </tr>\n",
       "    <tr>\n",
       "      <th>...</th>\n",
       "      <td>...</td>\n",
       "      <td>...</td>\n",
       "      <td>...</td>\n",
       "      <td>...</td>\n",
       "    </tr>\n",
       "    <tr>\n",
       "      <th>246</th>\n",
       "      <td>Yemen</td>\n",
       "      <td>YE</td>\n",
       "      <td>YEM</td>\n",
       "      <td>887</td>\n",
       "    </tr>\n",
       "    <tr>\n",
       "      <th>247</th>\n",
       "      <td>Zambia</td>\n",
       "      <td>ZM</td>\n",
       "      <td>ZMB</td>\n",
       "      <td>894</td>\n",
       "    </tr>\n",
       "    <tr>\n",
       "      <th>248</th>\n",
       "      <td>Zimbabwe</td>\n",
       "      <td>ZW</td>\n",
       "      <td>ZWE</td>\n",
       "      <td>716</td>\n",
       "    </tr>\n",
       "    <tr>\n",
       "      <th>249</th>\n",
       "      <td>Gaza Strip</td>\n",
       "      <td>PS</td>\n",
       "      <td>PSE</td>\n",
       "      <td>275</td>\n",
       "    </tr>\n",
       "    <tr>\n",
       "      <th>250</th>\n",
       "      <td>Laos</td>\n",
       "      <td>LA</td>\n",
       "      <td>LAO</td>\n",
       "      <td>418</td>\n",
       "    </tr>\n",
       "  </tbody>\n",
       "</table>\n",
       "<p>251 rows × 4 columns</p>\n",
       "</div>"
      ],
      "text/plain": [
       "            country alpha2_code alpha3_code  numeric\n",
       "0       Afghanistan          AF         AFG        4\n",
       "1     Åland Islands          AX         ALA      248\n",
       "2           Albania          AL         ALB        8\n",
       "3           Algeria          DZ         DZA       12\n",
       "4    American Samoa          AS         ASM       16\n",
       "..              ...         ...         ...      ...\n",
       "246           Yemen          YE         YEM      887\n",
       "247          Zambia          ZM         ZMB      894\n",
       "248        Zimbabwe          ZW         ZWE      716\n",
       "249      Gaza Strip          PS         PSE      275\n",
       "250            Laos          LA         LAO      418\n",
       "\n",
       "[251 rows x 4 columns]"
      ]
     },
     "execution_count": 307,
     "metadata": {},
     "output_type": "execute_result"
    }
   ],
   "source": [
    "country_codes = pd.read_excel('../country_codes.xlsx')\n",
    "country_codes"
   ]
  },
  {
   "cell_type": "markdown",
   "metadata": {},
   "source": [
    "Biomedicine"
   ]
  },
  {
   "cell_type": "code",
   "execution_count": 317,
   "metadata": {},
   "outputs": [
    {
     "data": {
      "application/vnd.plotly.v1+json": {
       "config": {
        "plotlyServerURL": "https://plot.ly"
       },
       "data": [
        {
         "coloraxis": "coloraxis",
         "geo": "geo",
         "hovertemplate": "<b>%{hovertext}</b><br><br>alpha3_code=%{location}<br>TTR=%{z}<extra></extra>",
         "hovertext": [
          "United Arab Emirates",
          "Argentina",
          "Armenia",
          "Australia",
          "Austria",
          "Azerbaijan",
          "Belgium",
          "Bangladesh",
          "Bulgaria",
          "Brazil",
          "Canada",
          "Switzerland",
          "Chile",
          "China",
          "Democratic Republic of the Congo",
          "Colombia",
          "Czech Republic",
          "Germany",
          "Denmark",
          "Algeria",
          "Egypt",
          "Spain",
          "Ethiopia",
          "Finland",
          "France",
          "Gabon",
          "United Kingdom",
          "Greece",
          "Hong Kong",
          "Croatia",
          "Hungary",
          "India",
          "Ireland",
          "Iran",
          "Iraq",
          "Israel",
          "Italy",
          "Jordan",
          "Japan",
          "Kenya",
          "South Korea",
          "Lebanon",
          "Libya",
          "Sri Lanka",
          "Morocco",
          "Mexico",
          "Malaysia",
          "Nigeria",
          "Netherlands",
          "Norway",
          "Nepal",
          "New Zealand",
          "Pakistan",
          "Panama",
          "Poland",
          "Portugal",
          "Qatar",
          "Russia",
          "Saudi Arabia",
          "Sudan",
          "Singapore",
          "Serbia",
          "Slovakia",
          "Slovenia",
          "Sweden",
          "Chad",
          "Thailand",
          "Tunisia",
          "Turkey",
          "Taiwan",
          "Ukraine",
          "United States",
          "South Africa"
         ],
         "locations": [
          "ARE",
          "ARG",
          "ARM",
          "AUS",
          "AUT",
          "AZE",
          "BEL",
          "BGD",
          "BGR",
          "BRA",
          "CAN",
          "CHE",
          "CHL",
          "CHN",
          "COD",
          "COL",
          "CZE",
          "DEU",
          "DNK",
          "DZA",
          "EGY",
          "ESP",
          "ETH",
          "FIN",
          "FRA",
          "GAB",
          "GBR",
          "GRC",
          "HKG",
          "HRV",
          "HUN",
          "IND",
          "IRL",
          "IRN",
          "IRQ",
          "ISR",
          "ITA",
          "JOR",
          "JPN",
          "KEN",
          "KOR",
          "LBN",
          "LBY",
          "LKA",
          "MAR",
          "MEX",
          "MYS",
          "NGA",
          "NLD",
          "NOR",
          "NPL",
          "NZL",
          "PAK",
          "PAN",
          "POL",
          "PRT",
          "QAT",
          "RUS",
          "SAU",
          "SDN",
          "SGP",
          "SRB",
          "SVK",
          "SVN",
          "SWE",
          "TCD",
          "THA",
          "TUN",
          "TUR",
          "TWN",
          "UKR",
          "USA",
          "ZAF"
         ],
         "name": "",
         "type": "choropleth",
         "z": [
          14.127310061601642,
          32.73511293634497,
          3.5811088295687883,
          26.417683295083947,
          99.73990417522246,
          45.96303901437371,
          73.58404224112643,
          13.429158110882957,
          23.622176591375773,
          49.19017023249652,
          61.24024640657084,
          32.64513720365876,
          13.535934291581109,
          34.22014540207559,
          62.784394250513344,
          17.848049281314168,
          44.878850102669404,
          69.19734455054723,
          44.62149212867899,
          79.5728952772074,
          65.23342498172832,
          37.49486652977413,
          7.622176591375769,
          36.20533880903491,
          49.52772073921971,
          47.73716632443532,
          69.52490787882198,
          9.425872689938398,
          158.02053388090349,
          22.82710472279261,
          13.036550308008213,
          37.42910579526282,
          45.259020240539755,
          34.70751540041068,
          3.9950718685831617,
          62.090997514319675,
          57.995023553569276,
          153.46201232032854,
          67.71317948246447,
          4.073921971252567,
          32.666631566015546,
          159.70431211498973,
          128.06570841889118,
          32.98562628336756,
          5.519507186858316,
          55.42252408782183,
          40.0602327173169,
          12.41889117043121,
          46.573188618363154,
          13.104136110296272,
          23.983572895277206,
          16.40520191649555,
          5.430331475506014,
          29.66735112936345,
          25.3305954825462,
          46.98151950718687,
          5.880903490759754,
          55.544147843942504,
          43.54676124696659,
          8.969199178644764,
          51.59988266353769,
          173.43737166324436,
          4.073921971252567,
          26.940451745379878,
          49.01535152048499,
          23.786447638603693,
          59.23613963039014,
          22.833675564681727,
          15.121149897330595,
          41.90992470910336,
          1.675564681724846,
          62.392398437814556,
          18.015058179329227
         ]
        }
       ],
       "layout": {
        "coloraxis": {
         "colorbar": {
          "title": {
           "text": "TTR"
          }
         },
         "colorscale": [
          [
           0,
           "#0d0887"
          ],
          [
           0.1111111111111111,
           "#46039f"
          ],
          [
           0.2222222222222222,
           "#7201a8"
          ],
          [
           0.3333333333333333,
           "#9c179e"
          ],
          [
           0.4444444444444444,
           "#bd3786"
          ],
          [
           0.5555555555555556,
           "#d8576b"
          ],
          [
           0.6666666666666666,
           "#ed7953"
          ],
          [
           0.7777777777777778,
           "#fb9f3a"
          ],
          [
           0.8888888888888888,
           "#fdca26"
          ],
          [
           1,
           "#f0f921"
          ]
         ]
        },
        "geo": {
         "center": {},
         "domain": {
          "x": [
           0,
           1
          ],
          "y": [
           0,
           1
          ]
         }
        },
        "legend": {
         "tracegroupgap": 0
        },
        "margin": {
         "t": 60
        },
        "template": {
         "data": {
          "bar": [
           {
            "error_x": {
             "color": "#2a3f5f"
            },
            "error_y": {
             "color": "#2a3f5f"
            },
            "marker": {
             "line": {
              "color": "#E5ECF6",
              "width": 0.5
             },
             "pattern": {
              "fillmode": "overlay",
              "size": 10,
              "solidity": 0.2
             }
            },
            "type": "bar"
           }
          ],
          "barpolar": [
           {
            "marker": {
             "line": {
              "color": "#E5ECF6",
              "width": 0.5
             },
             "pattern": {
              "fillmode": "overlay",
              "size": 10,
              "solidity": 0.2
             }
            },
            "type": "barpolar"
           }
          ],
          "carpet": [
           {
            "aaxis": {
             "endlinecolor": "#2a3f5f",
             "gridcolor": "white",
             "linecolor": "white",
             "minorgridcolor": "white",
             "startlinecolor": "#2a3f5f"
            },
            "baxis": {
             "endlinecolor": "#2a3f5f",
             "gridcolor": "white",
             "linecolor": "white",
             "minorgridcolor": "white",
             "startlinecolor": "#2a3f5f"
            },
            "type": "carpet"
           }
          ],
          "choropleth": [
           {
            "colorbar": {
             "outlinewidth": 0,
             "ticks": ""
            },
            "type": "choropleth"
           }
          ],
          "contour": [
           {
            "colorbar": {
             "outlinewidth": 0,
             "ticks": ""
            },
            "colorscale": [
             [
              0,
              "#0d0887"
             ],
             [
              0.1111111111111111,
              "#46039f"
             ],
             [
              0.2222222222222222,
              "#7201a8"
             ],
             [
              0.3333333333333333,
              "#9c179e"
             ],
             [
              0.4444444444444444,
              "#bd3786"
             ],
             [
              0.5555555555555556,
              "#d8576b"
             ],
             [
              0.6666666666666666,
              "#ed7953"
             ],
             [
              0.7777777777777778,
              "#fb9f3a"
             ],
             [
              0.8888888888888888,
              "#fdca26"
             ],
             [
              1,
              "#f0f921"
             ]
            ],
            "type": "contour"
           }
          ],
          "contourcarpet": [
           {
            "colorbar": {
             "outlinewidth": 0,
             "ticks": ""
            },
            "type": "contourcarpet"
           }
          ],
          "heatmap": [
           {
            "colorbar": {
             "outlinewidth": 0,
             "ticks": ""
            },
            "colorscale": [
             [
              0,
              "#0d0887"
             ],
             [
              0.1111111111111111,
              "#46039f"
             ],
             [
              0.2222222222222222,
              "#7201a8"
             ],
             [
              0.3333333333333333,
              "#9c179e"
             ],
             [
              0.4444444444444444,
              "#bd3786"
             ],
             [
              0.5555555555555556,
              "#d8576b"
             ],
             [
              0.6666666666666666,
              "#ed7953"
             ],
             [
              0.7777777777777778,
              "#fb9f3a"
             ],
             [
              0.8888888888888888,
              "#fdca26"
             ],
             [
              1,
              "#f0f921"
             ]
            ],
            "type": "heatmap"
           }
          ],
          "heatmapgl": [
           {
            "colorbar": {
             "outlinewidth": 0,
             "ticks": ""
            },
            "colorscale": [
             [
              0,
              "#0d0887"
             ],
             [
              0.1111111111111111,
              "#46039f"
             ],
             [
              0.2222222222222222,
              "#7201a8"
             ],
             [
              0.3333333333333333,
              "#9c179e"
             ],
             [
              0.4444444444444444,
              "#bd3786"
             ],
             [
              0.5555555555555556,
              "#d8576b"
             ],
             [
              0.6666666666666666,
              "#ed7953"
             ],
             [
              0.7777777777777778,
              "#fb9f3a"
             ],
             [
              0.8888888888888888,
              "#fdca26"
             ],
             [
              1,
              "#f0f921"
             ]
            ],
            "type": "heatmapgl"
           }
          ],
          "histogram": [
           {
            "marker": {
             "pattern": {
              "fillmode": "overlay",
              "size": 10,
              "solidity": 0.2
             }
            },
            "type": "histogram"
           }
          ],
          "histogram2d": [
           {
            "colorbar": {
             "outlinewidth": 0,
             "ticks": ""
            },
            "colorscale": [
             [
              0,
              "#0d0887"
             ],
             [
              0.1111111111111111,
              "#46039f"
             ],
             [
              0.2222222222222222,
              "#7201a8"
             ],
             [
              0.3333333333333333,
              "#9c179e"
             ],
             [
              0.4444444444444444,
              "#bd3786"
             ],
             [
              0.5555555555555556,
              "#d8576b"
             ],
             [
              0.6666666666666666,
              "#ed7953"
             ],
             [
              0.7777777777777778,
              "#fb9f3a"
             ],
             [
              0.8888888888888888,
              "#fdca26"
             ],
             [
              1,
              "#f0f921"
             ]
            ],
            "type": "histogram2d"
           }
          ],
          "histogram2dcontour": [
           {
            "colorbar": {
             "outlinewidth": 0,
             "ticks": ""
            },
            "colorscale": [
             [
              0,
              "#0d0887"
             ],
             [
              0.1111111111111111,
              "#46039f"
             ],
             [
              0.2222222222222222,
              "#7201a8"
             ],
             [
              0.3333333333333333,
              "#9c179e"
             ],
             [
              0.4444444444444444,
              "#bd3786"
             ],
             [
              0.5555555555555556,
              "#d8576b"
             ],
             [
              0.6666666666666666,
              "#ed7953"
             ],
             [
              0.7777777777777778,
              "#fb9f3a"
             ],
             [
              0.8888888888888888,
              "#fdca26"
             ],
             [
              1,
              "#f0f921"
             ]
            ],
            "type": "histogram2dcontour"
           }
          ],
          "mesh3d": [
           {
            "colorbar": {
             "outlinewidth": 0,
             "ticks": ""
            },
            "type": "mesh3d"
           }
          ],
          "parcoords": [
           {
            "line": {
             "colorbar": {
              "outlinewidth": 0,
              "ticks": ""
             }
            },
            "type": "parcoords"
           }
          ],
          "pie": [
           {
            "automargin": true,
            "type": "pie"
           }
          ],
          "scatter": [
           {
            "fillpattern": {
             "fillmode": "overlay",
             "size": 10,
             "solidity": 0.2
            },
            "type": "scatter"
           }
          ],
          "scatter3d": [
           {
            "line": {
             "colorbar": {
              "outlinewidth": 0,
              "ticks": ""
             }
            },
            "marker": {
             "colorbar": {
              "outlinewidth": 0,
              "ticks": ""
             }
            },
            "type": "scatter3d"
           }
          ],
          "scattercarpet": [
           {
            "marker": {
             "colorbar": {
              "outlinewidth": 0,
              "ticks": ""
             }
            },
            "type": "scattercarpet"
           }
          ],
          "scattergeo": [
           {
            "marker": {
             "colorbar": {
              "outlinewidth": 0,
              "ticks": ""
             }
            },
            "type": "scattergeo"
           }
          ],
          "scattergl": [
           {
            "marker": {
             "colorbar": {
              "outlinewidth": 0,
              "ticks": ""
             }
            },
            "type": "scattergl"
           }
          ],
          "scattermapbox": [
           {
            "marker": {
             "colorbar": {
              "outlinewidth": 0,
              "ticks": ""
             }
            },
            "type": "scattermapbox"
           }
          ],
          "scatterpolar": [
           {
            "marker": {
             "colorbar": {
              "outlinewidth": 0,
              "ticks": ""
             }
            },
            "type": "scatterpolar"
           }
          ],
          "scatterpolargl": [
           {
            "marker": {
             "colorbar": {
              "outlinewidth": 0,
              "ticks": ""
             }
            },
            "type": "scatterpolargl"
           }
          ],
          "scatterternary": [
           {
            "marker": {
             "colorbar": {
              "outlinewidth": 0,
              "ticks": ""
             }
            },
            "type": "scatterternary"
           }
          ],
          "surface": [
           {
            "colorbar": {
             "outlinewidth": 0,
             "ticks": ""
            },
            "colorscale": [
             [
              0,
              "#0d0887"
             ],
             [
              0.1111111111111111,
              "#46039f"
             ],
             [
              0.2222222222222222,
              "#7201a8"
             ],
             [
              0.3333333333333333,
              "#9c179e"
             ],
             [
              0.4444444444444444,
              "#bd3786"
             ],
             [
              0.5555555555555556,
              "#d8576b"
             ],
             [
              0.6666666666666666,
              "#ed7953"
             ],
             [
              0.7777777777777778,
              "#fb9f3a"
             ],
             [
              0.8888888888888888,
              "#fdca26"
             ],
             [
              1,
              "#f0f921"
             ]
            ],
            "type": "surface"
           }
          ],
          "table": [
           {
            "cells": {
             "fill": {
              "color": "#EBF0F8"
             },
             "line": {
              "color": "white"
             }
            },
            "header": {
             "fill": {
              "color": "#C8D4E3"
             },
             "line": {
              "color": "white"
             }
            },
            "type": "table"
           }
          ]
         },
         "layout": {
          "annotationdefaults": {
           "arrowcolor": "#2a3f5f",
           "arrowhead": 0,
           "arrowwidth": 1
          },
          "autotypenumbers": "strict",
          "coloraxis": {
           "colorbar": {
            "outlinewidth": 0,
            "ticks": ""
           }
          },
          "colorscale": {
           "diverging": [
            [
             0,
             "#8e0152"
            ],
            [
             0.1,
             "#c51b7d"
            ],
            [
             0.2,
             "#de77ae"
            ],
            [
             0.3,
             "#f1b6da"
            ],
            [
             0.4,
             "#fde0ef"
            ],
            [
             0.5,
             "#f7f7f7"
            ],
            [
             0.6,
             "#e6f5d0"
            ],
            [
             0.7,
             "#b8e186"
            ],
            [
             0.8,
             "#7fbc41"
            ],
            [
             0.9,
             "#4d9221"
            ],
            [
             1,
             "#276419"
            ]
           ],
           "sequential": [
            [
             0,
             "#0d0887"
            ],
            [
             0.1111111111111111,
             "#46039f"
            ],
            [
             0.2222222222222222,
             "#7201a8"
            ],
            [
             0.3333333333333333,
             "#9c179e"
            ],
            [
             0.4444444444444444,
             "#bd3786"
            ],
            [
             0.5555555555555556,
             "#d8576b"
            ],
            [
             0.6666666666666666,
             "#ed7953"
            ],
            [
             0.7777777777777778,
             "#fb9f3a"
            ],
            [
             0.8888888888888888,
             "#fdca26"
            ],
            [
             1,
             "#f0f921"
            ]
           ],
           "sequentialminus": [
            [
             0,
             "#0d0887"
            ],
            [
             0.1111111111111111,
             "#46039f"
            ],
            [
             0.2222222222222222,
             "#7201a8"
            ],
            [
             0.3333333333333333,
             "#9c179e"
            ],
            [
             0.4444444444444444,
             "#bd3786"
            ],
            [
             0.5555555555555556,
             "#d8576b"
            ],
            [
             0.6666666666666666,
             "#ed7953"
            ],
            [
             0.7777777777777778,
             "#fb9f3a"
            ],
            [
             0.8888888888888888,
             "#fdca26"
            ],
            [
             1,
             "#f0f921"
            ]
           ]
          },
          "colorway": [
           "#636efa",
           "#EF553B",
           "#00cc96",
           "#ab63fa",
           "#FFA15A",
           "#19d3f3",
           "#FF6692",
           "#B6E880",
           "#FF97FF",
           "#FECB52"
          ],
          "font": {
           "color": "#2a3f5f"
          },
          "geo": {
           "bgcolor": "white",
           "lakecolor": "white",
           "landcolor": "#E5ECF6",
           "showlakes": true,
           "showland": true,
           "subunitcolor": "white"
          },
          "hoverlabel": {
           "align": "left"
          },
          "hovermode": "closest",
          "mapbox": {
           "style": "light"
          },
          "paper_bgcolor": "white",
          "plot_bgcolor": "#E5ECF6",
          "polar": {
           "angularaxis": {
            "gridcolor": "white",
            "linecolor": "white",
            "ticks": ""
           },
           "bgcolor": "#E5ECF6",
           "radialaxis": {
            "gridcolor": "white",
            "linecolor": "white",
            "ticks": ""
           }
          },
          "scene": {
           "xaxis": {
            "backgroundcolor": "#E5ECF6",
            "gridcolor": "white",
            "gridwidth": 2,
            "linecolor": "white",
            "showbackground": true,
            "ticks": "",
            "zerolinecolor": "white"
           },
           "yaxis": {
            "backgroundcolor": "#E5ECF6",
            "gridcolor": "white",
            "gridwidth": 2,
            "linecolor": "white",
            "showbackground": true,
            "ticks": "",
            "zerolinecolor": "white"
           },
           "zaxis": {
            "backgroundcolor": "#E5ECF6",
            "gridcolor": "white",
            "gridwidth": 2,
            "linecolor": "white",
            "showbackground": true,
            "ticks": "",
            "zerolinecolor": "white"
           }
          },
          "shapedefaults": {
           "line": {
            "color": "#2a3f5f"
           }
          },
          "ternary": {
           "aaxis": {
            "gridcolor": "white",
            "linecolor": "white",
            "ticks": ""
           },
           "baxis": {
            "gridcolor": "white",
            "linecolor": "white",
            "ticks": ""
           },
           "bgcolor": "#E5ECF6",
           "caxis": {
            "gridcolor": "white",
            "linecolor": "white",
            "ticks": ""
           }
          },
          "title": {
           "x": 0.05
          },
          "xaxis": {
           "automargin": true,
           "gridcolor": "white",
           "linecolor": "white",
           "ticks": "",
           "title": {
            "standoff": 15
           },
           "zerolinecolor": "white",
           "zerolinewidth": 2
          },
          "yaxis": {
           "automargin": true,
           "gridcolor": "white",
           "linecolor": "white",
           "ticks": "",
           "title": {
            "standoff": 15
           },
           "zerolinecolor": "white",
           "zerolinewidth": 2
          }
         }
        }
       }
      }
     },
     "metadata": {},
     "output_type": "display_data"
    }
   ],
   "source": [
    "countries = retractions.merge(country_codes, how='left', left_on=\"Country\", right_on='country')\n",
    "\n",
    "# Group by 'alpha3_code' and 'Country' and count the number of records in each group\n",
    "country_counts = countries[countries['Biomedicine']==1].groupby(['alpha3_code', 'Country'])['time_to_retraction'].mean().reset_index(name='TTR')\n",
    "\n",
    "\n",
    "fig = px.choropleth(country_counts, locations=\"alpha3_code\",\n",
    "                    color=\"TTR\",\n",
    "                    hover_name=\"Country\",\n",
    "                    color_continuous_scale=px.colors.sequential.Plasma)\n",
    "fig.show()"
   ]
  },
  {
   "cell_type": "markdown",
   "metadata": {},
   "source": [
    "Non-Biomedicine"
   ]
  },
  {
   "cell_type": "code",
   "execution_count": 316,
   "metadata": {},
   "outputs": [
    {
     "data": {
      "application/vnd.plotly.v1+json": {
       "config": {
        "plotlyServerURL": "https://plot.ly"
       },
       "data": [
        {
         "coloraxis": "coloraxis",
         "geo": "geo",
         "hovertemplate": "<b>%{hovertext}</b><br><br>alpha3_code=%{location}<br>TTR=%{z}<extra></extra>",
         "hovertext": [
          "Albania",
          "United Arab Emirates",
          "Argentina",
          "Armenia",
          "Australia",
          "Austria",
          "Belgium",
          "Bangladesh",
          "Belarus",
          "Brazil",
          "Brunei",
          "Botswana",
          "Canada",
          "Switzerland",
          "Chile",
          "China",
          "Cameroon",
          "Colombia",
          "Cyprus",
          "Czech Republic",
          "Germany",
          "Denmark",
          "Algeria",
          "Ecuador",
          "Egypt",
          "Spain",
          "Estonia",
          "Ethiopia",
          "Finland",
          "France",
          "Gabon",
          "United Kingdom",
          "Georgia",
          "Ghana",
          "Greece",
          "Hong Kong",
          "Croatia",
          "Hungary",
          "Indonesia",
          "India",
          "Ireland",
          "Iran",
          "Iraq",
          "Israel",
          "Italy",
          "Jordan",
          "Japan",
          "Kazakhstan",
          "Kenya",
          "Cambodia",
          "South Korea",
          "Kuwait",
          "Lebanon",
          "Sri Lanka",
          "Lithuania",
          "Luxembourg",
          "Morocco",
          "Maldives",
          "Mexico",
          "Malta",
          "Mauritius",
          "Malawi",
          "Malaysia",
          "Nigeria",
          "Netherlands",
          "Norway",
          "Nepal",
          "New Zealand",
          "Oman",
          "Pakistan",
          "Philippines",
          "Poland",
          "Portugal",
          "French Polynesia",
          "Qatar",
          "Romania",
          "Russia",
          "Saudi Arabia",
          "Sudan",
          "Senegal",
          "Singapore",
          "Serbia",
          "Slovakia",
          "Slovenia",
          "Sweden",
          "Syria",
          "Thailand",
          "Tajikistan",
          "Trinidad & Tobago",
          "Tunisia",
          "Turkey",
          "Taiwan",
          "Uganda",
          "Ukraine",
          "United States",
          "Vietnam",
          "Yemen",
          "South Africa"
         ],
         "locations": [
          "ALB",
          "ARE",
          "ARG",
          "ARM",
          "AUS",
          "AUT",
          "BEL",
          "BGD",
          "BLR",
          "BRA",
          "BRN",
          "BWA",
          "CAN",
          "CHE",
          "CHL",
          "CHN",
          "CMR",
          "COL",
          "CYP",
          "CZE",
          "DEU",
          "DNK",
          "DZA",
          "ECU",
          "EGY",
          "ESP",
          "EST",
          "ETH",
          "FIN",
          "FRA",
          "GAB",
          "GBR",
          "GEO",
          "GHA",
          "GRC",
          "HKG",
          "HRV",
          "HUN",
          "IDN",
          "IND",
          "IRL",
          "IRN",
          "IRQ",
          "ISR",
          "ITA",
          "JOR",
          "JPN",
          "KAZ",
          "KEN",
          "KHM",
          "KOR",
          "KWT",
          "LBN",
          "LKA",
          "LTU",
          "LUX",
          "MAR",
          "MDV",
          "MEX",
          "MLT",
          "MUS",
          "MWI",
          "MYS",
          "NGA",
          "NLD",
          "NOR",
          "NPL",
          "NZL",
          "OMN",
          "PAK",
          "PHL",
          "POL",
          "PRT",
          "PYF",
          "QAT",
          "ROU",
          "RUS",
          "SAU",
          "SDN",
          "SEN",
          "SGP",
          "SRB",
          "SVK",
          "SVN",
          "SWE",
          "SYR",
          "THA",
          "TJK",
          "TTO",
          "TUN",
          "TUR",
          "TWN",
          "UGA",
          "UKR",
          "USA",
          "VNM",
          "YEM",
          "ZAF"
         ],
         "name": "",
         "type": "choropleth",
         "z": [
          1.5441478439425051,
          7.50901209217431,
          63.110198494182065,
          27.071868583162217,
          57.33941744619363,
          23.720739219712527,
          27.236139630390145,
          17.251446705245474,
          11.02258726899384,
          39.254667876414686,
          12.583162217659138,
          30.718685831622178,
          53.246233855955786,
          36.60780287474333,
          29.08145106091718,
          25.565315486602277,
          25.954825462012323,
          15.162217659137577,
          34.148665297741275,
          42.723613963039014,
          109.80548537056403,
          30.066789149465038,
          24.8527160724286,
          16.427104722792606,
          41.63790870320644,
          50.74501525648161,
          48,
          10.43042925589127,
          20.925393566050648,
          42.749685367953894,
          104.53114305270363,
          52.22597125256674,
          55.983572895277206,
          4.639014373716632,
          30.65400410677618,
          32.59794661190965,
          17.905544147843944,
          26.554414784394254,
          17.07104722792608,
          34.14839549413932,
          59.40386901545444,
          45.92329712999195,
          27.304585900068446,
          96.05886379192334,
          40.77026874562809,
          39.28131416837782,
          87.89014049838386,
          14.616016427104723,
          15.848870636550307,
          30.652977412731005,
          35.6311840186866,
          13.880903490759753,
          65.11704312114989,
          13.016837782340863,
          13.470225872689939,
          57.39630390143737,
          11.969883641341546,
          2.6940451745379876,
          31.163860369609857,
          13.508555783709788,
          23.95071868583162,
          46.718685831622174,
          31.241873619774513,
          12.654668438217175,
          41.79596569634013,
          40.946201232032855,
          54.16344969199179,
          16.350444900752912,
          7.370294318959616,
          20.875781302886026,
          3.5373032169746748,
          36.02332648870637,
          37.755804770178486,
          156.09034907597535,
          22.496919917864474,
          29.141683778234086,
          22.903193167276733,
          22.287068167971658,
          18.82135523613963,
          26.365503080082135,
          30.20444603160432,
          29.660992250115918,
          10.184804928131417,
          17.122518822724164,
          32.13993459578675,
          19.433264887063654,
          34.076133312272944,
          34.98973305954826,
          37.765913757700204,
          26.209445585215605,
          22.29276386036961,
          39.09743471093501,
          38.997946611909654,
          17.533196440793976,
          48.26756783783302,
          12.002737850787133,
          3.7125256673511293,
          27.080931813354102
         ]
        }
       ],
       "layout": {
        "coloraxis": {
         "colorbar": {
          "title": {
           "text": "TTR"
          }
         },
         "colorscale": [
          [
           0,
           "#0d0887"
          ],
          [
           0.1111111111111111,
           "#46039f"
          ],
          [
           0.2222222222222222,
           "#7201a8"
          ],
          [
           0.3333333333333333,
           "#9c179e"
          ],
          [
           0.4444444444444444,
           "#bd3786"
          ],
          [
           0.5555555555555556,
           "#d8576b"
          ],
          [
           0.6666666666666666,
           "#ed7953"
          ],
          [
           0.7777777777777778,
           "#fb9f3a"
          ],
          [
           0.8888888888888888,
           "#fdca26"
          ],
          [
           1,
           "#f0f921"
          ]
         ]
        },
        "geo": {
         "center": {},
         "domain": {
          "x": [
           0,
           1
          ],
          "y": [
           0,
           1
          ]
         }
        },
        "legend": {
         "tracegroupgap": 0
        },
        "margin": {
         "t": 60
        },
        "template": {
         "data": {
          "bar": [
           {
            "error_x": {
             "color": "#2a3f5f"
            },
            "error_y": {
             "color": "#2a3f5f"
            },
            "marker": {
             "line": {
              "color": "#E5ECF6",
              "width": 0.5
             },
             "pattern": {
              "fillmode": "overlay",
              "size": 10,
              "solidity": 0.2
             }
            },
            "type": "bar"
           }
          ],
          "barpolar": [
           {
            "marker": {
             "line": {
              "color": "#E5ECF6",
              "width": 0.5
             },
             "pattern": {
              "fillmode": "overlay",
              "size": 10,
              "solidity": 0.2
             }
            },
            "type": "barpolar"
           }
          ],
          "carpet": [
           {
            "aaxis": {
             "endlinecolor": "#2a3f5f",
             "gridcolor": "white",
             "linecolor": "white",
             "minorgridcolor": "white",
             "startlinecolor": "#2a3f5f"
            },
            "baxis": {
             "endlinecolor": "#2a3f5f",
             "gridcolor": "white",
             "linecolor": "white",
             "minorgridcolor": "white",
             "startlinecolor": "#2a3f5f"
            },
            "type": "carpet"
           }
          ],
          "choropleth": [
           {
            "colorbar": {
             "outlinewidth": 0,
             "ticks": ""
            },
            "type": "choropleth"
           }
          ],
          "contour": [
           {
            "colorbar": {
             "outlinewidth": 0,
             "ticks": ""
            },
            "colorscale": [
             [
              0,
              "#0d0887"
             ],
             [
              0.1111111111111111,
              "#46039f"
             ],
             [
              0.2222222222222222,
              "#7201a8"
             ],
             [
              0.3333333333333333,
              "#9c179e"
             ],
             [
              0.4444444444444444,
              "#bd3786"
             ],
             [
              0.5555555555555556,
              "#d8576b"
             ],
             [
              0.6666666666666666,
              "#ed7953"
             ],
             [
              0.7777777777777778,
              "#fb9f3a"
             ],
             [
              0.8888888888888888,
              "#fdca26"
             ],
             [
              1,
              "#f0f921"
             ]
            ],
            "type": "contour"
           }
          ],
          "contourcarpet": [
           {
            "colorbar": {
             "outlinewidth": 0,
             "ticks": ""
            },
            "type": "contourcarpet"
           }
          ],
          "heatmap": [
           {
            "colorbar": {
             "outlinewidth": 0,
             "ticks": ""
            },
            "colorscale": [
             [
              0,
              "#0d0887"
             ],
             [
              0.1111111111111111,
              "#46039f"
             ],
             [
              0.2222222222222222,
              "#7201a8"
             ],
             [
              0.3333333333333333,
              "#9c179e"
             ],
             [
              0.4444444444444444,
              "#bd3786"
             ],
             [
              0.5555555555555556,
              "#d8576b"
             ],
             [
              0.6666666666666666,
              "#ed7953"
             ],
             [
              0.7777777777777778,
              "#fb9f3a"
             ],
             [
              0.8888888888888888,
              "#fdca26"
             ],
             [
              1,
              "#f0f921"
             ]
            ],
            "type": "heatmap"
           }
          ],
          "heatmapgl": [
           {
            "colorbar": {
             "outlinewidth": 0,
             "ticks": ""
            },
            "colorscale": [
             [
              0,
              "#0d0887"
             ],
             [
              0.1111111111111111,
              "#46039f"
             ],
             [
              0.2222222222222222,
              "#7201a8"
             ],
             [
              0.3333333333333333,
              "#9c179e"
             ],
             [
              0.4444444444444444,
              "#bd3786"
             ],
             [
              0.5555555555555556,
              "#d8576b"
             ],
             [
              0.6666666666666666,
              "#ed7953"
             ],
             [
              0.7777777777777778,
              "#fb9f3a"
             ],
             [
              0.8888888888888888,
              "#fdca26"
             ],
             [
              1,
              "#f0f921"
             ]
            ],
            "type": "heatmapgl"
           }
          ],
          "histogram": [
           {
            "marker": {
             "pattern": {
              "fillmode": "overlay",
              "size": 10,
              "solidity": 0.2
             }
            },
            "type": "histogram"
           }
          ],
          "histogram2d": [
           {
            "colorbar": {
             "outlinewidth": 0,
             "ticks": ""
            },
            "colorscale": [
             [
              0,
              "#0d0887"
             ],
             [
              0.1111111111111111,
              "#46039f"
             ],
             [
              0.2222222222222222,
              "#7201a8"
             ],
             [
              0.3333333333333333,
              "#9c179e"
             ],
             [
              0.4444444444444444,
              "#bd3786"
             ],
             [
              0.5555555555555556,
              "#d8576b"
             ],
             [
              0.6666666666666666,
              "#ed7953"
             ],
             [
              0.7777777777777778,
              "#fb9f3a"
             ],
             [
              0.8888888888888888,
              "#fdca26"
             ],
             [
              1,
              "#f0f921"
             ]
            ],
            "type": "histogram2d"
           }
          ],
          "histogram2dcontour": [
           {
            "colorbar": {
             "outlinewidth": 0,
             "ticks": ""
            },
            "colorscale": [
             [
              0,
              "#0d0887"
             ],
             [
              0.1111111111111111,
              "#46039f"
             ],
             [
              0.2222222222222222,
              "#7201a8"
             ],
             [
              0.3333333333333333,
              "#9c179e"
             ],
             [
              0.4444444444444444,
              "#bd3786"
             ],
             [
              0.5555555555555556,
              "#d8576b"
             ],
             [
              0.6666666666666666,
              "#ed7953"
             ],
             [
              0.7777777777777778,
              "#fb9f3a"
             ],
             [
              0.8888888888888888,
              "#fdca26"
             ],
             [
              1,
              "#f0f921"
             ]
            ],
            "type": "histogram2dcontour"
           }
          ],
          "mesh3d": [
           {
            "colorbar": {
             "outlinewidth": 0,
             "ticks": ""
            },
            "type": "mesh3d"
           }
          ],
          "parcoords": [
           {
            "line": {
             "colorbar": {
              "outlinewidth": 0,
              "ticks": ""
             }
            },
            "type": "parcoords"
           }
          ],
          "pie": [
           {
            "automargin": true,
            "type": "pie"
           }
          ],
          "scatter": [
           {
            "fillpattern": {
             "fillmode": "overlay",
             "size": 10,
             "solidity": 0.2
            },
            "type": "scatter"
           }
          ],
          "scatter3d": [
           {
            "line": {
             "colorbar": {
              "outlinewidth": 0,
              "ticks": ""
             }
            },
            "marker": {
             "colorbar": {
              "outlinewidth": 0,
              "ticks": ""
             }
            },
            "type": "scatter3d"
           }
          ],
          "scattercarpet": [
           {
            "marker": {
             "colorbar": {
              "outlinewidth": 0,
              "ticks": ""
             }
            },
            "type": "scattercarpet"
           }
          ],
          "scattergeo": [
           {
            "marker": {
             "colorbar": {
              "outlinewidth": 0,
              "ticks": ""
             }
            },
            "type": "scattergeo"
           }
          ],
          "scattergl": [
           {
            "marker": {
             "colorbar": {
              "outlinewidth": 0,
              "ticks": ""
             }
            },
            "type": "scattergl"
           }
          ],
          "scattermapbox": [
           {
            "marker": {
             "colorbar": {
              "outlinewidth": 0,
              "ticks": ""
             }
            },
            "type": "scattermapbox"
           }
          ],
          "scatterpolar": [
           {
            "marker": {
             "colorbar": {
              "outlinewidth": 0,
              "ticks": ""
             }
            },
            "type": "scatterpolar"
           }
          ],
          "scatterpolargl": [
           {
            "marker": {
             "colorbar": {
              "outlinewidth": 0,
              "ticks": ""
             }
            },
            "type": "scatterpolargl"
           }
          ],
          "scatterternary": [
           {
            "marker": {
             "colorbar": {
              "outlinewidth": 0,
              "ticks": ""
             }
            },
            "type": "scatterternary"
           }
          ],
          "surface": [
           {
            "colorbar": {
             "outlinewidth": 0,
             "ticks": ""
            },
            "colorscale": [
             [
              0,
              "#0d0887"
             ],
             [
              0.1111111111111111,
              "#46039f"
             ],
             [
              0.2222222222222222,
              "#7201a8"
             ],
             [
              0.3333333333333333,
              "#9c179e"
             ],
             [
              0.4444444444444444,
              "#bd3786"
             ],
             [
              0.5555555555555556,
              "#d8576b"
             ],
             [
              0.6666666666666666,
              "#ed7953"
             ],
             [
              0.7777777777777778,
              "#fb9f3a"
             ],
             [
              0.8888888888888888,
              "#fdca26"
             ],
             [
              1,
              "#f0f921"
             ]
            ],
            "type": "surface"
           }
          ],
          "table": [
           {
            "cells": {
             "fill": {
              "color": "#EBF0F8"
             },
             "line": {
              "color": "white"
             }
            },
            "header": {
             "fill": {
              "color": "#C8D4E3"
             },
             "line": {
              "color": "white"
             }
            },
            "type": "table"
           }
          ]
         },
         "layout": {
          "annotationdefaults": {
           "arrowcolor": "#2a3f5f",
           "arrowhead": 0,
           "arrowwidth": 1
          },
          "autotypenumbers": "strict",
          "coloraxis": {
           "colorbar": {
            "outlinewidth": 0,
            "ticks": ""
           }
          },
          "colorscale": {
           "diverging": [
            [
             0,
             "#8e0152"
            ],
            [
             0.1,
             "#c51b7d"
            ],
            [
             0.2,
             "#de77ae"
            ],
            [
             0.3,
             "#f1b6da"
            ],
            [
             0.4,
             "#fde0ef"
            ],
            [
             0.5,
             "#f7f7f7"
            ],
            [
             0.6,
             "#e6f5d0"
            ],
            [
             0.7,
             "#b8e186"
            ],
            [
             0.8,
             "#7fbc41"
            ],
            [
             0.9,
             "#4d9221"
            ],
            [
             1,
             "#276419"
            ]
           ],
           "sequential": [
            [
             0,
             "#0d0887"
            ],
            [
             0.1111111111111111,
             "#46039f"
            ],
            [
             0.2222222222222222,
             "#7201a8"
            ],
            [
             0.3333333333333333,
             "#9c179e"
            ],
            [
             0.4444444444444444,
             "#bd3786"
            ],
            [
             0.5555555555555556,
             "#d8576b"
            ],
            [
             0.6666666666666666,
             "#ed7953"
            ],
            [
             0.7777777777777778,
             "#fb9f3a"
            ],
            [
             0.8888888888888888,
             "#fdca26"
            ],
            [
             1,
             "#f0f921"
            ]
           ],
           "sequentialminus": [
            [
             0,
             "#0d0887"
            ],
            [
             0.1111111111111111,
             "#46039f"
            ],
            [
             0.2222222222222222,
             "#7201a8"
            ],
            [
             0.3333333333333333,
             "#9c179e"
            ],
            [
             0.4444444444444444,
             "#bd3786"
            ],
            [
             0.5555555555555556,
             "#d8576b"
            ],
            [
             0.6666666666666666,
             "#ed7953"
            ],
            [
             0.7777777777777778,
             "#fb9f3a"
            ],
            [
             0.8888888888888888,
             "#fdca26"
            ],
            [
             1,
             "#f0f921"
            ]
           ]
          },
          "colorway": [
           "#636efa",
           "#EF553B",
           "#00cc96",
           "#ab63fa",
           "#FFA15A",
           "#19d3f3",
           "#FF6692",
           "#B6E880",
           "#FF97FF",
           "#FECB52"
          ],
          "font": {
           "color": "#2a3f5f"
          },
          "geo": {
           "bgcolor": "white",
           "lakecolor": "white",
           "landcolor": "#E5ECF6",
           "showlakes": true,
           "showland": true,
           "subunitcolor": "white"
          },
          "hoverlabel": {
           "align": "left"
          },
          "hovermode": "closest",
          "mapbox": {
           "style": "light"
          },
          "paper_bgcolor": "white",
          "plot_bgcolor": "#E5ECF6",
          "polar": {
           "angularaxis": {
            "gridcolor": "white",
            "linecolor": "white",
            "ticks": ""
           },
           "bgcolor": "#E5ECF6",
           "radialaxis": {
            "gridcolor": "white",
            "linecolor": "white",
            "ticks": ""
           }
          },
          "scene": {
           "xaxis": {
            "backgroundcolor": "#E5ECF6",
            "gridcolor": "white",
            "gridwidth": 2,
            "linecolor": "white",
            "showbackground": true,
            "ticks": "",
            "zerolinecolor": "white"
           },
           "yaxis": {
            "backgroundcolor": "#E5ECF6",
            "gridcolor": "white",
            "gridwidth": 2,
            "linecolor": "white",
            "showbackground": true,
            "ticks": "",
            "zerolinecolor": "white"
           },
           "zaxis": {
            "backgroundcolor": "#E5ECF6",
            "gridcolor": "white",
            "gridwidth": 2,
            "linecolor": "white",
            "showbackground": true,
            "ticks": "",
            "zerolinecolor": "white"
           }
          },
          "shapedefaults": {
           "line": {
            "color": "#2a3f5f"
           }
          },
          "ternary": {
           "aaxis": {
            "gridcolor": "white",
            "linecolor": "white",
            "ticks": ""
           },
           "baxis": {
            "gridcolor": "white",
            "linecolor": "white",
            "ticks": ""
           },
           "bgcolor": "#E5ECF6",
           "caxis": {
            "gridcolor": "white",
            "linecolor": "white",
            "ticks": ""
           }
          },
          "title": {
           "x": 0.05
          },
          "xaxis": {
           "automargin": true,
           "gridcolor": "white",
           "linecolor": "white",
           "ticks": "",
           "title": {
            "standoff": 15
           },
           "zerolinecolor": "white",
           "zerolinewidth": 2
          },
          "yaxis": {
           "automargin": true,
           "gridcolor": "white",
           "linecolor": "white",
           "ticks": "",
           "title": {
            "standoff": 15
           },
           "zerolinecolor": "white",
           "zerolinewidth": 2
          }
         }
        }
       }
      }
     },
     "metadata": {},
     "output_type": "display_data"
    }
   ],
   "source": [
    "countries = retractions.merge(country_codes, how='left', left_on=\"Country\", right_on='country')\n",
    "\n",
    "# Group by 'alpha3_code' and 'Country' and count the number of records in each group\n",
    "country_counts = countries[countries['Biomedicine']==0].groupby(['alpha3_code', 'Country'])['time_to_retraction'].mean().reset_index(name='TTR')\n",
    "\n",
    "\n",
    "fig = px.choropleth(country_counts, locations=\"alpha3_code\",\n",
    "                    color=\"TTR\",\n",
    "                    hover_name=\"Country\",\n",
    "                    color_continuous_scale=px.colors.sequential.Plasma)\n",
    "fig.show()\n"
   ]
  }
 ],
 "metadata": {
  "kernelspec": {
   "display_name": "Python 3",
   "language": "python",
   "name": "python3"
  },
  "language_info": {
   "codemirror_mode": {
    "name": "ipython",
    "version": 3
   },
   "file_extension": ".py",
   "mimetype": "text/x-python",
   "name": "python",
   "nbconvert_exporter": "python",
   "pygments_lexer": "ipython3",
   "version": "3.10.11"
  }
 },
 "nbformat": 4,
 "nbformat_minor": 2
}
