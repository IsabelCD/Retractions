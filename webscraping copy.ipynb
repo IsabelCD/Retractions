{
 "cells": [
  {
   "cell_type": "markdown",
   "metadata": {},
   "source": [
    "# Libraries"
   ]
  },
  {
   "cell_type": "code",
   "execution_count": 1,
   "metadata": {},
   "outputs": [],
   "source": [
    "import pandas as pd\n",
    "import numpy as np\n",
    "import math\n",
    "\n",
    "import time\n",
    "\n",
    "from selenium import webdriver\n",
    "from webdriver_manager.chrome import ChromeDriverManager\n",
    "from selenium.webdriver.chrome.service import Service\n",
    "from selenium.webdriver.common.by import By\n",
    "from tqdm import tqdm\n",
    "\n",
    "import os"
   ]
  },
  {
   "cell_type": "markdown",
   "metadata": {},
   "source": [
    "# Retraction Watch"
   ]
  },
  {
   "cell_type": "code",
   "execution_count": 2,
   "metadata": {},
   "outputs": [
    {
     "data": {
      "text/html": [
       "<div>\n",
       "<style scoped>\n",
       "    .dataframe tbody tr th:only-of-type {\n",
       "        vertical-align: middle;\n",
       "    }\n",
       "\n",
       "    .dataframe tbody tr th {\n",
       "        vertical-align: top;\n",
       "    }\n",
       "\n",
       "    .dataframe thead th {\n",
       "        text-align: right;\n",
       "    }\n",
       "</style>\n",
       "<table border=\"1\" class=\"dataframe\">\n",
       "  <thead>\n",
       "    <tr style=\"text-align: right;\">\n",
       "      <th></th>\n",
       "      <th>Record ID</th>\n",
       "      <th>Title</th>\n",
       "      <th>Subject</th>\n",
       "      <th>Institution</th>\n",
       "      <th>Journal</th>\n",
       "      <th>Publisher</th>\n",
       "      <th>Country</th>\n",
       "      <th>Author</th>\n",
       "      <th>URLS</th>\n",
       "      <th>ArticleType</th>\n",
       "      <th>RetractionDate</th>\n",
       "      <th>RetractionDOI</th>\n",
       "      <th>RetractionPubMedID</th>\n",
       "      <th>OriginalPaperDate</th>\n",
       "      <th>OriginalPaperDOI</th>\n",
       "      <th>OriginalPaperPubMedID</th>\n",
       "      <th>RetractionNature</th>\n",
       "      <th>Reason</th>\n",
       "      <th>Paywalled</th>\n",
       "      <th>Notes</th>\n",
       "    </tr>\n",
       "  </thead>\n",
       "  <tbody>\n",
       "    <tr>\n",
       "      <th>0</th>\n",
       "      <td>47271</td>\n",
       "      <td>Binding of DCC by Netrin-1 to Mediate Axon Gui...</td>\n",
       "      <td>(BLS) Biology - Cellular;(BLS) Biology - Gener...</td>\n",
       "      <td>Departments of Anatomy and of Biochemistry and...</td>\n",
       "      <td>Science</td>\n",
       "      <td>American Association for the Advancement of Sc...</td>\n",
       "      <td>United States</td>\n",
       "      <td>Elke Stein;Yimin Zou;Mu-ming Poo;Marc Tessier-...</td>\n",
       "      <td>https://retractionwatch.com/2023/08/31/stanfor...</td>\n",
       "      <td>Research Article;</td>\n",
       "      <td>2023-08-31 00:00:00</td>\n",
       "      <td>10.1126/science.adk1521</td>\n",
       "      <td>0.0</td>\n",
       "      <td>2001-03-09 00:00:00</td>\n",
       "      <td>10.1126/science.1059391</td>\n",
       "      <td>11239160.0</td>\n",
       "      <td>Retraction</td>\n",
       "      <td>+Investigation by Company/Institution;+Manipul...</td>\n",
       "      <td>No</td>\n",
       "      <td>NaN</td>\n",
       "    </tr>\n",
       "    <tr>\n",
       "      <th>1</th>\n",
       "      <td>47270</td>\n",
       "      <td>Hierarchical Organization of Guidance Receptor...</td>\n",
       "      <td>(BLS) Biochemistry;(BLS) Biology - General;(BL...</td>\n",
       "      <td>Department of Anatomy and Department of Bioche...</td>\n",
       "      <td>Science</td>\n",
       "      <td>American Association for the Advancement of Sc...</td>\n",
       "      <td>United States</td>\n",
       "      <td>Elke Stein;Marc Tessier-Lavigne</td>\n",
       "      <td>https://retractionwatch.com/2023/08/31/stanfor...</td>\n",
       "      <td>Research Article;</td>\n",
       "      <td>2023-08-31 00:00:00</td>\n",
       "      <td>10.1126/science.adk1517</td>\n",
       "      <td>0.0</td>\n",
       "      <td>2001-02-08 00:00:00</td>\n",
       "      <td>10.1126/science.1058445</td>\n",
       "      <td>11239147.0</td>\n",
       "      <td>Retraction</td>\n",
       "      <td>+Duplication of Image;+Investigation by Compan...</td>\n",
       "      <td>No</td>\n",
       "      <td>NaN</td>\n",
       "    </tr>\n",
       "    <tr>\n",
       "      <th>2</th>\n",
       "      <td>47243</td>\n",
       "      <td>Therapeutic potential of targeting IRES-depend...</td>\n",
       "      <td>(BLS) Biochemistry;(BLS) Biology - Cancer;(BLS...</td>\n",
       "      <td>Division of Hematology-Oncology, UCLA-Greater ...</td>\n",
       "      <td>Oncogene</td>\n",
       "      <td>Springer - Nature Publishing Group</td>\n",
       "      <td>United States</td>\n",
       "      <td>Y Shi;Y Yang;C Bardeleben;B Holmes;J Gera;Alan...</td>\n",
       "      <td>NaN</td>\n",
       "      <td>Research Article;</td>\n",
       "      <td>2023-08-31 00:00:00</td>\n",
       "      <td>10.1038/s41388-023-02820-5</td>\n",
       "      <td>0.0</td>\n",
       "      <td>2015-05-11 00:00:00</td>\n",
       "      <td>10.1038/onc.2015.156</td>\n",
       "      <td>25961916.0</td>\n",
       "      <td>Retraction</td>\n",
       "      <td>+Concerns/Issues About Data;+Concerns/Issues A...</td>\n",
       "      <td>No</td>\n",
       "      <td>see also: https://pubpeer.com/publications/704...</td>\n",
       "    </tr>\n",
       "    <tr>\n",
       "      <th>3</th>\n",
       "      <td>47233</td>\n",
       "      <td>A classifier based on 273 urinary peptides pre...</td>\n",
       "      <td>(BLS) Biochemistry;(HSC) Medicine - Cardiovasc...</td>\n",
       "      <td>Department of Nephrology, The Third Affiliated...</td>\n",
       "      <td>Journal of Hypertension</td>\n",
       "      <td>Wolters Kluwer - Lippincott Williams &amp; Wilkins</td>\n",
       "      <td>China</td>\n",
       "      <td>Lirong Lin;Chunxuan Wang;Jiangwen Ren;Mei Mei;...</td>\n",
       "      <td>NaN</td>\n",
       "      <td>Research Article;</td>\n",
       "      <td>2023-08-30 00:00:00</td>\n",
       "      <td>10.1097/HJH.0000000000003551</td>\n",
       "      <td>37642599.0</td>\n",
       "      <td>2023-08-01 00:00:00</td>\n",
       "      <td>10.1097/HJH.0000000000003467</td>\n",
       "      <td>37199562.0</td>\n",
       "      <td>Retraction</td>\n",
       "      <td>+Concerns/Issues About Results;+Investigation ...</td>\n",
       "      <td>No</td>\n",
       "      <td>see also https://journals.lww.com/jhypertensio...</td>\n",
       "    </tr>\n",
       "    <tr>\n",
       "      <th>4</th>\n",
       "      <td>47227</td>\n",
       "      <td>Age, Gender Demographics and Comorbidity Preva...</td>\n",
       "      <td>(HSC) Biostatistics/Epidemiology;(HSC) Medicin...</td>\n",
       "      <td>Department of Orthopaedics, Dhanalakshmi Srini...</td>\n",
       "      <td>Journal of Coastal Life Medicine</td>\n",
       "      <td>Journal of Coastal Life Medicine</td>\n",
       "      <td>India</td>\n",
       "      <td>S Venkatesh Kumar;Mohith Singh;Gowtham Singh;K...</td>\n",
       "      <td>NaN</td>\n",
       "      <td>Research Article;</td>\n",
       "      <td>2023-08-30 00:00:00</td>\n",
       "      <td>unavailable</td>\n",
       "      <td>0.0</td>\n",
       "      <td>2023-01-01 00:00:00</td>\n",
       "      <td>unavailable</td>\n",
       "      <td>0.0</td>\n",
       "      <td>Retraction</td>\n",
       "      <td>+Notice - Lack of;+Withdrawal;</td>\n",
       "      <td>No</td>\n",
       "      <td>date of retraction unknown, article title repl...</td>\n",
       "    </tr>\n",
       "  </tbody>\n",
       "</table>\n",
       "</div>"
      ],
      "text/plain": [
       "   Record ID                                              Title  \\\n",
       "0      47271  Binding of DCC by Netrin-1 to Mediate Axon Gui...   \n",
       "1      47270  Hierarchical Organization of Guidance Receptor...   \n",
       "2      47243  Therapeutic potential of targeting IRES-depend...   \n",
       "3      47233  A classifier based on 273 urinary peptides pre...   \n",
       "4      47227  Age, Gender Demographics and Comorbidity Preva...   \n",
       "\n",
       "                                             Subject  \\\n",
       "0  (BLS) Biology - Cellular;(BLS) Biology - Gener...   \n",
       "1  (BLS) Biochemistry;(BLS) Biology - General;(BL...   \n",
       "2  (BLS) Biochemistry;(BLS) Biology - Cancer;(BLS...   \n",
       "3  (BLS) Biochemistry;(HSC) Medicine - Cardiovasc...   \n",
       "4  (HSC) Biostatistics/Epidemiology;(HSC) Medicin...   \n",
       "\n",
       "                                         Institution  \\\n",
       "0  Departments of Anatomy and of Biochemistry and...   \n",
       "1  Department of Anatomy and Department of Bioche...   \n",
       "2  Division of Hematology-Oncology, UCLA-Greater ...   \n",
       "3  Department of Nephrology, The Third Affiliated...   \n",
       "4  Department of Orthopaedics, Dhanalakshmi Srini...   \n",
       "\n",
       "                            Journal  \\\n",
       "0                           Science   \n",
       "1                           Science   \n",
       "2                          Oncogene   \n",
       "3           Journal of Hypertension   \n",
       "4  Journal of Coastal Life Medicine   \n",
       "\n",
       "                                           Publisher        Country  \\\n",
       "0  American Association for the Advancement of Sc...  United States   \n",
       "1  American Association for the Advancement of Sc...  United States   \n",
       "2                 Springer - Nature Publishing Group  United States   \n",
       "3     Wolters Kluwer - Lippincott Williams & Wilkins          China   \n",
       "4                   Journal of Coastal Life Medicine          India   \n",
       "\n",
       "                                              Author  \\\n",
       "0  Elke Stein;Yimin Zou;Mu-ming Poo;Marc Tessier-...   \n",
       "1                    Elke Stein;Marc Tessier-Lavigne   \n",
       "2  Y Shi;Y Yang;C Bardeleben;B Holmes;J Gera;Alan...   \n",
       "3  Lirong Lin;Chunxuan Wang;Jiangwen Ren;Mei Mei;...   \n",
       "4  S Venkatesh Kumar;Mohith Singh;Gowtham Singh;K...   \n",
       "\n",
       "                                                URLS        ArticleType  \\\n",
       "0  https://retractionwatch.com/2023/08/31/stanfor...  Research Article;   \n",
       "1  https://retractionwatch.com/2023/08/31/stanfor...  Research Article;   \n",
       "2                                                NaN  Research Article;   \n",
       "3                                                NaN  Research Article;   \n",
       "4                                                NaN  Research Article;   \n",
       "\n",
       "        RetractionDate                 RetractionDOI  RetractionPubMedID  \\\n",
       "0  2023-08-31 00:00:00       10.1126/science.adk1521                 0.0   \n",
       "1  2023-08-31 00:00:00       10.1126/science.adk1517                 0.0   \n",
       "2  2023-08-31 00:00:00    10.1038/s41388-023-02820-5                 0.0   \n",
       "3  2023-08-30 00:00:00  10.1097/HJH.0000000000003551          37642599.0   \n",
       "4  2023-08-30 00:00:00                   unavailable                 0.0   \n",
       "\n",
       "     OriginalPaperDate              OriginalPaperDOI  OriginalPaperPubMedID  \\\n",
       "0  2001-03-09 00:00:00       10.1126/science.1059391             11239160.0   \n",
       "1  2001-02-08 00:00:00       10.1126/science.1058445             11239147.0   \n",
       "2  2015-05-11 00:00:00          10.1038/onc.2015.156             25961916.0   \n",
       "3  2023-08-01 00:00:00  10.1097/HJH.0000000000003467             37199562.0   \n",
       "4  2023-01-01 00:00:00                   unavailable                    0.0   \n",
       "\n",
       "  RetractionNature                                             Reason  \\\n",
       "0       Retraction  +Investigation by Company/Institution;+Manipul...   \n",
       "1       Retraction  +Duplication of Image;+Investigation by Compan...   \n",
       "2       Retraction  +Concerns/Issues About Data;+Concerns/Issues A...   \n",
       "3       Retraction  +Concerns/Issues About Results;+Investigation ...   \n",
       "4       Retraction                     +Notice - Lack of;+Withdrawal;   \n",
       "\n",
       "  Paywalled                                              Notes  \n",
       "0        No                                                NaN  \n",
       "1        No                                                NaN  \n",
       "2        No  see also: https://pubpeer.com/publications/704...  \n",
       "3        No  see also https://journals.lww.com/jhypertensio...  \n",
       "4        No  date of retraction unknown, article title repl...  "
      ]
     },
     "execution_count": 2,
     "metadata": {},
     "output_type": "execute_result"
    }
   ],
   "source": [
    "rw = pd.read_excel('./retractions_data/retraction_watch_database.xlsx')\n",
    "rw.head()"
   ]
  },
  {
   "cell_type": "code",
   "execution_count": 3,
   "metadata": {},
   "outputs": [
    {
     "name": "stdout",
     "output_type": "stream",
     "text": [
      "<class 'pandas.core.frame.DataFrame'>\n",
      "RangeIndex: 42700 entries, 0 to 42699\n",
      "Data columns (total 20 columns):\n",
      " #   Column                 Non-Null Count  Dtype  \n",
      "---  ------                 --------------  -----  \n",
      " 0   Record ID              42700 non-null  int64  \n",
      " 1   Title                  42700 non-null  object \n",
      " 2   Subject                42700 non-null  object \n",
      " 3   Institution            42699 non-null  object \n",
      " 4   Journal                42700 non-null  object \n",
      " 5   Publisher              42700 non-null  object \n",
      " 6   Country                42700 non-null  object \n",
      " 7   Author                 42700 non-null  object \n",
      " 8   URLS                   21687 non-null  object \n",
      " 9   ArticleType            42700 non-null  object \n",
      " 10  RetractionDate         42700 non-null  object \n",
      " 11  RetractionDOI          42209 non-null  object \n",
      " 12  RetractionPubMedID     37599 non-null  float64\n",
      " 13  OriginalPaperDate      42700 non-null  object \n",
      " 14  OriginalPaperDOI       40173 non-null  object \n",
      " 15  OriginalPaperPubMedID  37564 non-null  float64\n",
      " 16  RetractionNature       42700 non-null  object \n",
      " 17  Reason                 42700 non-null  object \n",
      " 18  Paywalled              42700 non-null  object \n",
      " 19  Notes                  10253 non-null  object \n",
      "dtypes: float64(2), int64(1), object(17)\n",
      "memory usage: 6.5+ MB\n"
     ]
    }
   ],
   "source": [
    "rw.info()"
   ]
  },
  {
   "cell_type": "code",
   "execution_count": 4,
   "metadata": {},
   "outputs": [],
   "source": [
    "rw['RetractionDate'] = pd.to_datetime(rw['RetractionDate'], errors='coerce') #, infer_datetime_format=True\n",
    "rw['OriginalPaperDate'] = pd.to_datetime(rw['OriginalPaperDate'])"
   ]
  },
  {
   "cell_type": "markdown",
   "metadata": {},
   "source": [
    "# Journals to consider"
   ]
  },
  {
   "cell_type": "code",
   "execution_count": 5,
   "metadata": {},
   "outputs": [
    {
     "data": {
      "text/html": [
       "<div>\n",
       "<style scoped>\n",
       "    .dataframe tbody tr th:only-of-type {\n",
       "        vertical-align: middle;\n",
       "    }\n",
       "\n",
       "    .dataframe tbody tr th {\n",
       "        vertical-align: top;\n",
       "    }\n",
       "\n",
       "    .dataframe thead th {\n",
       "        text-align: right;\n",
       "    }\n",
       "</style>\n",
       "<table border=\"1\" class=\"dataframe\">\n",
       "  <thead>\n",
       "    <tr style=\"text-align: right;\">\n",
       "      <th></th>\n",
       "      <th>Rank</th>\n",
       "      <th>Sourceid</th>\n",
       "      <th>Title</th>\n",
       "      <th>Type</th>\n",
       "      <th>Issn</th>\n",
       "      <th>SJR</th>\n",
       "      <th>SJR Best Quartile</th>\n",
       "      <th>H index</th>\n",
       "      <th>Total Docs. (2022)</th>\n",
       "      <th>Total Docs. (3years)</th>\n",
       "      <th>...</th>\n",
       "      <th>Total Cites (3years)</th>\n",
       "      <th>Citable Docs. (3years)</th>\n",
       "      <th>Cites / Doc. (2years)</th>\n",
       "      <th>Ref. / Doc.</th>\n",
       "      <th>Country</th>\n",
       "      <th>Region</th>\n",
       "      <th>Publisher</th>\n",
       "      <th>Coverage</th>\n",
       "      <th>Categories</th>\n",
       "      <th>Areas</th>\n",
       "    </tr>\n",
       "  </thead>\n",
       "  <tbody>\n",
       "    <tr>\n",
       "      <th>0</th>\n",
       "      <td>1</td>\n",
       "      <td>28773</td>\n",
       "      <td>Ca-A Cancer Journal for Clinicians</td>\n",
       "      <td>journal</td>\n",
       "      <td>15424863, 00079235</td>\n",
       "      <td>86,091</td>\n",
       "      <td>Q1</td>\n",
       "      <td>198</td>\n",
       "      <td>44</td>\n",
       "      <td>118</td>\n",
       "      <td>...</td>\n",
       "      <td>30318</td>\n",
       "      <td>85</td>\n",
       "      <td>299,99</td>\n",
       "      <td>97,00</td>\n",
       "      <td>United States</td>\n",
       "      <td>Northern America</td>\n",
       "      <td>Wiley-Blackwell</td>\n",
       "      <td>1950-2022</td>\n",
       "      <td>Hematology (Q1); Oncology (Q1)</td>\n",
       "      <td>Medicine</td>\n",
       "    </tr>\n",
       "    <tr>\n",
       "      <th>1</th>\n",
       "      <td>2</td>\n",
       "      <td>29431</td>\n",
       "      <td>Quarterly Journal of Economics</td>\n",
       "      <td>journal</td>\n",
       "      <td>00335533, 15314650</td>\n",
       "      <td>36,730</td>\n",
       "      <td>Q1</td>\n",
       "      <td>292</td>\n",
       "      <td>36</td>\n",
       "      <td>122</td>\n",
       "      <td>...</td>\n",
       "      <td>2141</td>\n",
       "      <td>122</td>\n",
       "      <td>14,83</td>\n",
       "      <td>66,61</td>\n",
       "      <td>United Kingdom</td>\n",
       "      <td>Western Europe</td>\n",
       "      <td>Oxford University Press</td>\n",
       "      <td>1886-2022</td>\n",
       "      <td>Economics and Econometrics (Q1)</td>\n",
       "      <td>Economics, Econometrics and Finance</td>\n",
       "    </tr>\n",
       "    <tr>\n",
       "      <th>2</th>\n",
       "      <td>3</td>\n",
       "      <td>20315</td>\n",
       "      <td>Nature Reviews Molecular Cell Biology</td>\n",
       "      <td>journal</td>\n",
       "      <td>14710072, 14710080</td>\n",
       "      <td>34,201</td>\n",
       "      <td>Q1</td>\n",
       "      <td>485</td>\n",
       "      <td>121</td>\n",
       "      <td>328</td>\n",
       "      <td>...</td>\n",
       "      <td>13331</td>\n",
       "      <td>156</td>\n",
       "      <td>35,47</td>\n",
       "      <td>89,29</td>\n",
       "      <td>United Kingdom</td>\n",
       "      <td>Western Europe</td>\n",
       "      <td>Nature Publishing Group</td>\n",
       "      <td>2000-2022</td>\n",
       "      <td>Cell Biology (Q1); Molecular Biology (Q1)</td>\n",
       "      <td>Biochemistry, Genetics and Molecular Biology</td>\n",
       "    </tr>\n",
       "    <tr>\n",
       "      <th>3</th>\n",
       "      <td>4</td>\n",
       "      <td>18434</td>\n",
       "      <td>Cell</td>\n",
       "      <td>journal</td>\n",
       "      <td>00928674, 10974172</td>\n",
       "      <td>26,494</td>\n",
       "      <td>Q1</td>\n",
       "      <td>856</td>\n",
       "      <td>420</td>\n",
       "      <td>1637</td>\n",
       "      <td>...</td>\n",
       "      <td>67791</td>\n",
       "      <td>1440</td>\n",
       "      <td>43,80</td>\n",
       "      <td>65,74</td>\n",
       "      <td>United States</td>\n",
       "      <td>Northern America</td>\n",
       "      <td>Cell Press</td>\n",
       "      <td>1974-2022</td>\n",
       "      <td>Biochemistry, Genetics and Molecular Biology (...</td>\n",
       "      <td>Biochemistry, Genetics and Molecular Biology</td>\n",
       "    </tr>\n",
       "    <tr>\n",
       "      <th>4</th>\n",
       "      <td>5</td>\n",
       "      <td>15847</td>\n",
       "      <td>New England Journal of Medicine</td>\n",
       "      <td>journal</td>\n",
       "      <td>00284793, 15334406</td>\n",
       "      <td>26,015</td>\n",
       "      <td>Q1</td>\n",
       "      <td>1130</td>\n",
       "      <td>1410</td>\n",
       "      <td>4561</td>\n",
       "      <td>...</td>\n",
       "      <td>133956</td>\n",
       "      <td>1854</td>\n",
       "      <td>33,93</td>\n",
       "      <td>10,21</td>\n",
       "      <td>United States</td>\n",
       "      <td>Northern America</td>\n",
       "      <td>Massachussetts Medical Society</td>\n",
       "      <td>1945-2022</td>\n",
       "      <td>Medicine (miscellaneous) (Q1)</td>\n",
       "      <td>Medicine</td>\n",
       "    </tr>\n",
       "    <tr>\n",
       "      <th>...</th>\n",
       "      <td>...</td>\n",
       "      <td>...</td>\n",
       "      <td>...</td>\n",
       "      <td>...</td>\n",
       "      <td>...</td>\n",
       "      <td>...</td>\n",
       "      <td>...</td>\n",
       "      <td>...</td>\n",
       "      <td>...</td>\n",
       "      <td>...</td>\n",
       "      <td>...</td>\n",
       "      <td>...</td>\n",
       "      <td>...</td>\n",
       "      <td>...</td>\n",
       "      <td>...</td>\n",
       "      <td>...</td>\n",
       "      <td>...</td>\n",
       "      <td>...</td>\n",
       "      <td>...</td>\n",
       "      <td>...</td>\n",
       "      <td>...</td>\n",
       "    </tr>\n",
       "    <tr>\n",
       "      <th>18031</th>\n",
       "      <td>18032</td>\n",
       "      <td>17500154901</td>\n",
       "      <td>Progress in Molecular Biology and Translationa...</td>\n",
       "      <td>journal</td>\n",
       "      <td>18771173, 18780814</td>\n",
       "      <td>NaN</td>\n",
       "      <td>-</td>\n",
       "      <td>110</td>\n",
       "      <td>90</td>\n",
       "      <td>314</td>\n",
       "      <td>...</td>\n",
       "      <td>1170</td>\n",
       "      <td>0</td>\n",
       "      <td>2,72</td>\n",
       "      <td>108,88</td>\n",
       "      <td>Netherlands</td>\n",
       "      <td>Western Europe</td>\n",
       "      <td>Academic Press Inc.</td>\n",
       "      <td>2008-2022</td>\n",
       "      <td>Molecular Biology; Molecular Medicine</td>\n",
       "      <td>Biochemistry, Genetics and Molecular Biology</td>\n",
       "    </tr>\n",
       "    <tr>\n",
       "      <th>18032</th>\n",
       "      <td>18033</td>\n",
       "      <td>25192</td>\n",
       "      <td>Reviews of Environmental Contamination and Tox...</td>\n",
       "      <td>journal</td>\n",
       "      <td>01795953</td>\n",
       "      <td>NaN</td>\n",
       "      <td>-</td>\n",
       "      <td>94</td>\n",
       "      <td>22</td>\n",
       "      <td>99</td>\n",
       "      <td>...</td>\n",
       "      <td>441</td>\n",
       "      <td>0</td>\n",
       "      <td>4,40</td>\n",
       "      <td>151,68</td>\n",
       "      <td>United States</td>\n",
       "      <td>Northern America</td>\n",
       "      <td>Springer New York</td>\n",
       "      <td>1987-2022</td>\n",
       "      <td>Health, Toxicology and Mutagenesis; Medicine (...</td>\n",
       "      <td>Environmental Science; Medicine</td>\n",
       "    </tr>\n",
       "    <tr>\n",
       "      <th>18033</th>\n",
       "      <td>18034</td>\n",
       "      <td>5700155185</td>\n",
       "      <td>Voprosy Istorii (discontinued)</td>\n",
       "      <td>journal</td>\n",
       "      <td>00428779</td>\n",
       "      <td>NaN</td>\n",
       "      <td>-</td>\n",
       "      <td>5</td>\n",
       "      <td>168</td>\n",
       "      <td>1316</td>\n",
       "      <td>...</td>\n",
       "      <td>38</td>\n",
       "      <td>1316</td>\n",
       "      <td>0,03</td>\n",
       "      <td>7,96</td>\n",
       "      <td>Russian Federation</td>\n",
       "      <td>Eastern Europe</td>\n",
       "      <td>Rossiiskaya Akademiya Nauk, Institut Istorii (...</td>\n",
       "      <td>1965, 1972, 1975, 1978-1982, 1985, 1988, 1999-...</td>\n",
       "      <td>History; Medicine (miscellaneous)</td>\n",
       "      <td>Arts and Humanities; Medicine</td>\n",
       "    </tr>\n",
       "    <tr>\n",
       "      <th>18034</th>\n",
       "      <td>18035</td>\n",
       "      <td>21100873483</td>\n",
       "      <td>Wisdom (discontinued)</td>\n",
       "      <td>journal</td>\n",
       "      <td>18293824</td>\n",
       "      <td>NaN</td>\n",
       "      <td>-</td>\n",
       "      <td>7</td>\n",
       "      <td>66</td>\n",
       "      <td>180</td>\n",
       "      <td>...</td>\n",
       "      <td>76</td>\n",
       "      <td>180</td>\n",
       "      <td>0,45</td>\n",
       "      <td>25,61</td>\n",
       "      <td>Armenia</td>\n",
       "      <td>Eastern Europe</td>\n",
       "      <td>Khachatur Abovyan Armenian State Pedagogical U...</td>\n",
       "      <td>2018-2022</td>\n",
       "      <td>Philosophy</td>\n",
       "      <td>Arts and Humanities</td>\n",
       "    </tr>\n",
       "    <tr>\n",
       "      <th>18035</th>\n",
       "      <td>18036</td>\n",
       "      <td>21100874917</td>\n",
       "      <td>World Journal of Clinical Cases (discontinued)</td>\n",
       "      <td>journal</td>\n",
       "      <td>23078960</td>\n",
       "      <td>NaN</td>\n",
       "      <td>-</td>\n",
       "      <td>25</td>\n",
       "      <td>1544</td>\n",
       "      <td>2548</td>\n",
       "      <td>...</td>\n",
       "      <td>3174</td>\n",
       "      <td>2540</td>\n",
       "      <td>1,13</td>\n",
       "      <td>27,22</td>\n",
       "      <td>China</td>\n",
       "      <td>Asiatic Region</td>\n",
       "      <td>Baishideng Publishing Group</td>\n",
       "      <td>2018-2022</td>\n",
       "      <td>Medicine (miscellaneous)</td>\n",
       "      <td>Medicine</td>\n",
       "    </tr>\n",
       "  </tbody>\n",
       "</table>\n",
       "<p>18036 rows × 21 columns</p>\n",
       "</div>"
      ],
      "text/plain": [
       "        Rank     Sourceid                                              Title  \\\n",
       "0          1        28773                 Ca-A Cancer Journal for Clinicians   \n",
       "1          2        29431                     Quarterly Journal of Economics   \n",
       "2          3        20315              Nature Reviews Molecular Cell Biology   \n",
       "3          4        18434                                               Cell   \n",
       "4          5        15847                    New England Journal of Medicine   \n",
       "...      ...          ...                                                ...   \n",
       "18031  18032  17500154901  Progress in Molecular Biology and Translationa...   \n",
       "18032  18033        25192  Reviews of Environmental Contamination and Tox...   \n",
       "18033  18034   5700155185                     Voprosy Istorii (discontinued)   \n",
       "18034  18035  21100873483                              Wisdom (discontinued)   \n",
       "18035  18036  21100874917     World Journal of Clinical Cases (discontinued)   \n",
       "\n",
       "          Type                Issn     SJR SJR Best Quartile  H index  \\\n",
       "0      journal  15424863, 00079235  86,091                Q1      198   \n",
       "1      journal  00335533, 15314650  36,730                Q1      292   \n",
       "2      journal  14710072, 14710080  34,201                Q1      485   \n",
       "3      journal  00928674, 10974172  26,494                Q1      856   \n",
       "4      journal  00284793, 15334406  26,015                Q1     1130   \n",
       "...        ...                 ...     ...               ...      ...   \n",
       "18031  journal  18771173, 18780814     NaN                 -      110   \n",
       "18032  journal            01795953     NaN                 -       94   \n",
       "18033  journal            00428779     NaN                 -        5   \n",
       "18034  journal            18293824     NaN                 -        7   \n",
       "18035  journal            23078960     NaN                 -       25   \n",
       "\n",
       "       Total Docs. (2022)  Total Docs. (3years)  ...  Total Cites (3years)  \\\n",
       "0                      44                   118  ...                 30318   \n",
       "1                      36                   122  ...                  2141   \n",
       "2                     121                   328  ...                 13331   \n",
       "3                     420                  1637  ...                 67791   \n",
       "4                    1410                  4561  ...                133956   \n",
       "...                   ...                   ...  ...                   ...   \n",
       "18031                  90                   314  ...                  1170   \n",
       "18032                  22                    99  ...                   441   \n",
       "18033                 168                  1316  ...                    38   \n",
       "18034                  66                   180  ...                    76   \n",
       "18035                1544                  2548  ...                  3174   \n",
       "\n",
       "       Citable Docs. (3years)  Cites / Doc. (2years) Ref. / Doc.  \\\n",
       "0                          85                 299,99       97,00   \n",
       "1                         122                  14,83       66,61   \n",
       "2                         156                  35,47       89,29   \n",
       "3                        1440                  43,80       65,74   \n",
       "4                        1854                  33,93       10,21   \n",
       "...                       ...                    ...         ...   \n",
       "18031                       0                   2,72      108,88   \n",
       "18032                       0                   4,40      151,68   \n",
       "18033                    1316                   0,03        7,96   \n",
       "18034                     180                   0,45       25,61   \n",
       "18035                    2540                   1,13       27,22   \n",
       "\n",
       "                  Country            Region  \\\n",
       "0           United States  Northern America   \n",
       "1          United Kingdom    Western Europe   \n",
       "2          United Kingdom    Western Europe   \n",
       "3           United States  Northern America   \n",
       "4           United States  Northern America   \n",
       "...                   ...               ...   \n",
       "18031         Netherlands    Western Europe   \n",
       "18032       United States  Northern America   \n",
       "18033  Russian Federation    Eastern Europe   \n",
       "18034             Armenia    Eastern Europe   \n",
       "18035               China    Asiatic Region   \n",
       "\n",
       "                                               Publisher  \\\n",
       "0                                        Wiley-Blackwell   \n",
       "1                                Oxford University Press   \n",
       "2                                Nature Publishing Group   \n",
       "3                                             Cell Press   \n",
       "4                         Massachussetts Medical Society   \n",
       "...                                                  ...   \n",
       "18031                                Academic Press Inc.   \n",
       "18032                                  Springer New York   \n",
       "18033  Rossiiskaya Akademiya Nauk, Institut Istorii (...   \n",
       "18034  Khachatur Abovyan Armenian State Pedagogical U...   \n",
       "18035                        Baishideng Publishing Group   \n",
       "\n",
       "                                                Coverage  \\\n",
       "0                                              1950-2022   \n",
       "1                                              1886-2022   \n",
       "2                                              2000-2022   \n",
       "3                                              1974-2022   \n",
       "4                                              1945-2022   \n",
       "...                                                  ...   \n",
       "18031                                          2008-2022   \n",
       "18032                                          1987-2022   \n",
       "18033  1965, 1972, 1975, 1978-1982, 1985, 1988, 1999-...   \n",
       "18034                                          2018-2022   \n",
       "18035                                          2018-2022   \n",
       "\n",
       "                                              Categories  \\\n",
       "0                         Hematology (Q1); Oncology (Q1)   \n",
       "1                        Economics and Econometrics (Q1)   \n",
       "2              Cell Biology (Q1); Molecular Biology (Q1)   \n",
       "3      Biochemistry, Genetics and Molecular Biology (...   \n",
       "4                          Medicine (miscellaneous) (Q1)   \n",
       "...                                                  ...   \n",
       "18031              Molecular Biology; Molecular Medicine   \n",
       "18032  Health, Toxicology and Mutagenesis; Medicine (...   \n",
       "18033                  History; Medicine (miscellaneous)   \n",
       "18034                                         Philosophy   \n",
       "18035                           Medicine (miscellaneous)   \n",
       "\n",
       "                                              Areas  \n",
       "0                                          Medicine  \n",
       "1               Economics, Econometrics and Finance  \n",
       "2      Biochemistry, Genetics and Molecular Biology  \n",
       "3      Biochemistry, Genetics and Molecular Biology  \n",
       "4                                          Medicine  \n",
       "...                                             ...  \n",
       "18031  Biochemistry, Genetics and Molecular Biology  \n",
       "18032               Environmental Science; Medicine  \n",
       "18033                 Arts and Humanities; Medicine  \n",
       "18034                           Arts and Humanities  \n",
       "18035                                      Medicine  \n",
       "\n",
       "[18036 rows x 21 columns]"
      ]
     },
     "execution_count": 5,
     "metadata": {},
     "output_type": "execute_result"
    }
   ],
   "source": [
    "journals = pd.read_csv('../scimagojr_2022.csv', sep=';')\n",
    "journals"
   ]
  },
  {
   "cell_type": "code",
   "execution_count": 6,
   "metadata": {},
   "outputs": [
    {
     "data": {
      "text/html": [
       "<div>\n",
       "<style scoped>\n",
       "    .dataframe tbody tr th:only-of-type {\n",
       "        vertical-align: middle;\n",
       "    }\n",
       "\n",
       "    .dataframe tbody tr th {\n",
       "        vertical-align: top;\n",
       "    }\n",
       "\n",
       "    .dataframe thead th {\n",
       "        text-align: right;\n",
       "    }\n",
       "</style>\n",
       "<table border=\"1\" class=\"dataframe\">\n",
       "  <thead>\n",
       "    <tr style=\"text-align: right;\">\n",
       "      <th></th>\n",
       "      <th>Rank</th>\n",
       "      <th>Sourceid</th>\n",
       "      <th>Title</th>\n",
       "      <th>Type</th>\n",
       "      <th>Issn</th>\n",
       "      <th>SJR</th>\n",
       "      <th>SJR Best Quartile</th>\n",
       "      <th>H index</th>\n",
       "      <th>Total Docs. (2022)</th>\n",
       "      <th>Total Docs. (3years)</th>\n",
       "      <th>...</th>\n",
       "      <th>Total Cites (3years)</th>\n",
       "      <th>Citable Docs. (3years)</th>\n",
       "      <th>Cites / Doc. (2years)</th>\n",
       "      <th>Ref. / Doc.</th>\n",
       "      <th>Country</th>\n",
       "      <th>Region</th>\n",
       "      <th>Publisher</th>\n",
       "      <th>Coverage</th>\n",
       "      <th>Categories</th>\n",
       "      <th>Areas</th>\n",
       "    </tr>\n",
       "  </thead>\n",
       "  <tbody>\n",
       "    <tr>\n",
       "      <th>0</th>\n",
       "      <td>1</td>\n",
       "      <td>28773</td>\n",
       "      <td>Ca-A Cancer Journal for Clinicians</td>\n",
       "      <td>journal</td>\n",
       "      <td>15424863, 00079235</td>\n",
       "      <td>86,091</td>\n",
       "      <td>Q1</td>\n",
       "      <td>198</td>\n",
       "      <td>44</td>\n",
       "      <td>118</td>\n",
       "      <td>...</td>\n",
       "      <td>30318</td>\n",
       "      <td>85</td>\n",
       "      <td>299,99</td>\n",
       "      <td>97,00</td>\n",
       "      <td>United States</td>\n",
       "      <td>Northern America</td>\n",
       "      <td>Wiley-Blackwell</td>\n",
       "      <td>1950-2022</td>\n",
       "      <td>Hematology (Q1); Oncology (Q1)</td>\n",
       "      <td>Medicine</td>\n",
       "    </tr>\n",
       "    <tr>\n",
       "      <th>1</th>\n",
       "      <td>2</td>\n",
       "      <td>29431</td>\n",
       "      <td>Quarterly Journal of Economics</td>\n",
       "      <td>journal</td>\n",
       "      <td>00335533, 15314650</td>\n",
       "      <td>36,730</td>\n",
       "      <td>Q1</td>\n",
       "      <td>292</td>\n",
       "      <td>36</td>\n",
       "      <td>122</td>\n",
       "      <td>...</td>\n",
       "      <td>2141</td>\n",
       "      <td>122</td>\n",
       "      <td>14,83</td>\n",
       "      <td>66,61</td>\n",
       "      <td>United Kingdom</td>\n",
       "      <td>Western Europe</td>\n",
       "      <td>Oxford University Press</td>\n",
       "      <td>1886-2022</td>\n",
       "      <td>Economics and Econometrics (Q1)</td>\n",
       "      <td>Economics, Econometrics and Finance</td>\n",
       "    </tr>\n",
       "    <tr>\n",
       "      <th>2</th>\n",
       "      <td>3</td>\n",
       "      <td>20315</td>\n",
       "      <td>Nature Reviews Molecular Cell Biology</td>\n",
       "      <td>journal</td>\n",
       "      <td>14710072, 14710080</td>\n",
       "      <td>34,201</td>\n",
       "      <td>Q1</td>\n",
       "      <td>485</td>\n",
       "      <td>121</td>\n",
       "      <td>328</td>\n",
       "      <td>...</td>\n",
       "      <td>13331</td>\n",
       "      <td>156</td>\n",
       "      <td>35,47</td>\n",
       "      <td>89,29</td>\n",
       "      <td>United Kingdom</td>\n",
       "      <td>Western Europe</td>\n",
       "      <td>Nature Publishing Group</td>\n",
       "      <td>2000-2022</td>\n",
       "      <td>Cell Biology (Q1); Molecular Biology (Q1)</td>\n",
       "      <td>Biochemistry, Genetics and Molecular Biology</td>\n",
       "    </tr>\n",
       "    <tr>\n",
       "      <th>3</th>\n",
       "      <td>4</td>\n",
       "      <td>18434</td>\n",
       "      <td>Cell</td>\n",
       "      <td>journal</td>\n",
       "      <td>00928674, 10974172</td>\n",
       "      <td>26,494</td>\n",
       "      <td>Q1</td>\n",
       "      <td>856</td>\n",
       "      <td>420</td>\n",
       "      <td>1637</td>\n",
       "      <td>...</td>\n",
       "      <td>67791</td>\n",
       "      <td>1440</td>\n",
       "      <td>43,80</td>\n",
       "      <td>65,74</td>\n",
       "      <td>United States</td>\n",
       "      <td>Northern America</td>\n",
       "      <td>Cell Press</td>\n",
       "      <td>1974-2022</td>\n",
       "      <td>Biochemistry, Genetics and Molecular Biology (...</td>\n",
       "      <td>Biochemistry, Genetics and Molecular Biology</td>\n",
       "    </tr>\n",
       "    <tr>\n",
       "      <th>4</th>\n",
       "      <td>5</td>\n",
       "      <td>15847</td>\n",
       "      <td>New England Journal of Medicine</td>\n",
       "      <td>journal</td>\n",
       "      <td>00284793, 15334406</td>\n",
       "      <td>26,015</td>\n",
       "      <td>Q1</td>\n",
       "      <td>1130</td>\n",
       "      <td>1410</td>\n",
       "      <td>4561</td>\n",
       "      <td>...</td>\n",
       "      <td>133956</td>\n",
       "      <td>1854</td>\n",
       "      <td>33,93</td>\n",
       "      <td>10,21</td>\n",
       "      <td>United States</td>\n",
       "      <td>Northern America</td>\n",
       "      <td>Massachussetts Medical Society</td>\n",
       "      <td>1945-2022</td>\n",
       "      <td>Medicine (miscellaneous) (Q1)</td>\n",
       "      <td>Medicine</td>\n",
       "    </tr>\n",
       "    <tr>\n",
       "      <th>...</th>\n",
       "      <td>...</td>\n",
       "      <td>...</td>\n",
       "      <td>...</td>\n",
       "      <td>...</td>\n",
       "      <td>...</td>\n",
       "      <td>...</td>\n",
       "      <td>...</td>\n",
       "      <td>...</td>\n",
       "      <td>...</td>\n",
       "      <td>...</td>\n",
       "      <td>...</td>\n",
       "      <td>...</td>\n",
       "      <td>...</td>\n",
       "      <td>...</td>\n",
       "      <td>...</td>\n",
       "      <td>...</td>\n",
       "      <td>...</td>\n",
       "      <td>...</td>\n",
       "      <td>...</td>\n",
       "      <td>...</td>\n",
       "      <td>...</td>\n",
       "    </tr>\n",
       "    <tr>\n",
       "      <th>1798</th>\n",
       "      <td>1799</td>\n",
       "      <td>19900192175</td>\n",
       "      <td>Journal of Topology</td>\n",
       "      <td>journal</td>\n",
       "      <td>17538416, 17538424</td>\n",
       "      <td>1,575</td>\n",
       "      <td>Q1</td>\n",
       "      <td>28</td>\n",
       "      <td>56</td>\n",
       "      <td>119</td>\n",
       "      <td>...</td>\n",
       "      <td>137</td>\n",
       "      <td>119</td>\n",
       "      <td>1,11</td>\n",
       "      <td>36,68</td>\n",
       "      <td>United Kingdom</td>\n",
       "      <td>Western Europe</td>\n",
       "      <td>John Wiley and Sons Ltd</td>\n",
       "      <td>2010-2022</td>\n",
       "      <td>Geometry and Topology (Q1)</td>\n",
       "      <td>Mathematics</td>\n",
       "    </tr>\n",
       "    <tr>\n",
       "      <th>1799</th>\n",
       "      <td>1800</td>\n",
       "      <td>21100875643</td>\n",
       "      <td>Materials Chemistry Frontiers</td>\n",
       "      <td>journal</td>\n",
       "      <td>20521537</td>\n",
       "      <td>1,575</td>\n",
       "      <td>Q1</td>\n",
       "      <td>70</td>\n",
       "      <td>367</td>\n",
       "      <td>1245</td>\n",
       "      <td>...</td>\n",
       "      <td>8782</td>\n",
       "      <td>1233</td>\n",
       "      <td>7,21</td>\n",
       "      <td>63,92</td>\n",
       "      <td>United Kingdom</td>\n",
       "      <td>Western Europe</td>\n",
       "      <td>Royal Society of Chemistry</td>\n",
       "      <td>2017-2022</td>\n",
       "      <td>Materials Chemistry (Q1); Materials Science (m...</td>\n",
       "      <td>Materials Science</td>\n",
       "    </tr>\n",
       "    <tr>\n",
       "      <th>1800</th>\n",
       "      <td>1801</td>\n",
       "      <td>15061</td>\n",
       "      <td>Agricultural Systems</td>\n",
       "      <td>journal</td>\n",
       "      <td>0308521X, 18732267</td>\n",
       "      <td>1,574</td>\n",
       "      <td>Q1</td>\n",
       "      <td>126</td>\n",
       "      <td>166</td>\n",
       "      <td>607</td>\n",
       "      <td>...</td>\n",
       "      <td>4408</td>\n",
       "      <td>601</td>\n",
       "      <td>7,02</td>\n",
       "      <td>72,49</td>\n",
       "      <td>United Kingdom</td>\n",
       "      <td>Western Europe</td>\n",
       "      <td>Elsevier BV</td>\n",
       "      <td>1976-2022</td>\n",
       "      <td>Agronomy and Crop Science (Q1); Animal Science...</td>\n",
       "      <td>Agricultural and Biological Sciences</td>\n",
       "    </tr>\n",
       "    <tr>\n",
       "      <th>1801</th>\n",
       "      <td>1802</td>\n",
       "      <td>26112</td>\n",
       "      <td>Frontiers of Hormone Research</td>\n",
       "      <td>journal</td>\n",
       "      <td>03013073</td>\n",
       "      <td>1,574</td>\n",
       "      <td>Q1</td>\n",
       "      <td>42</td>\n",
       "      <td>0</td>\n",
       "      <td>45</td>\n",
       "      <td>...</td>\n",
       "      <td>156</td>\n",
       "      <td>41</td>\n",
       "      <td>0,92</td>\n",
       "      <td>0,00</td>\n",
       "      <td>Switzerland</td>\n",
       "      <td>Western Europe</td>\n",
       "      <td>S. Karger AG</td>\n",
       "      <td>1975, 1977, 1984, 1996-1997, 1999-2002, 2004-2...</td>\n",
       "      <td>Endocrinology (Q1); Endocrinology, Diabetes an...</td>\n",
       "      <td>Biochemistry, Genetics and Molecular Biology; ...</td>\n",
       "    </tr>\n",
       "    <tr>\n",
       "      <th>1802</th>\n",
       "      <td>1803</td>\n",
       "      <td>21283</td>\n",
       "      <td>Management Learning</td>\n",
       "      <td>journal</td>\n",
       "      <td>14617307, 13505076</td>\n",
       "      <td>1,574</td>\n",
       "      <td>Q1</td>\n",
       "      <td>84</td>\n",
       "      <td>72</td>\n",
       "      <td>100</td>\n",
       "      <td>...</td>\n",
       "      <td>500</td>\n",
       "      <td>96</td>\n",
       "      <td>4,01</td>\n",
       "      <td>85,38</td>\n",
       "      <td>United Kingdom</td>\n",
       "      <td>Western Europe</td>\n",
       "      <td>SAGE Publications Ltd</td>\n",
       "      <td>1970-2022</td>\n",
       "      <td>Decision Sciences (miscellaneous) (Q1); Manage...</td>\n",
       "      <td>Business, Management and Accounting; Decision ...</td>\n",
       "    </tr>\n",
       "  </tbody>\n",
       "</table>\n",
       "<p>1803 rows × 21 columns</p>\n",
       "</div>"
      ],
      "text/plain": [
       "      Rank     Sourceid                                  Title     Type  \\\n",
       "0        1        28773     Ca-A Cancer Journal for Clinicians  journal   \n",
       "1        2        29431         Quarterly Journal of Economics  journal   \n",
       "2        3        20315  Nature Reviews Molecular Cell Biology  journal   \n",
       "3        4        18434                                   Cell  journal   \n",
       "4        5        15847        New England Journal of Medicine  journal   \n",
       "...    ...          ...                                    ...      ...   \n",
       "1798  1799  19900192175                    Journal of Topology  journal   \n",
       "1799  1800  21100875643          Materials Chemistry Frontiers  journal   \n",
       "1800  1801        15061                   Agricultural Systems  journal   \n",
       "1801  1802        26112          Frontiers of Hormone Research  journal   \n",
       "1802  1803        21283                    Management Learning  journal   \n",
       "\n",
       "                    Issn     SJR SJR Best Quartile  H index  \\\n",
       "0     15424863, 00079235  86,091                Q1      198   \n",
       "1     00335533, 15314650  36,730                Q1      292   \n",
       "2     14710072, 14710080  34,201                Q1      485   \n",
       "3     00928674, 10974172  26,494                Q1      856   \n",
       "4     00284793, 15334406  26,015                Q1     1130   \n",
       "...                  ...     ...               ...      ...   \n",
       "1798  17538416, 17538424   1,575                Q1       28   \n",
       "1799            20521537   1,575                Q1       70   \n",
       "1800  0308521X, 18732267   1,574                Q1      126   \n",
       "1801            03013073   1,574                Q1       42   \n",
       "1802  14617307, 13505076   1,574                Q1       84   \n",
       "\n",
       "      Total Docs. (2022)  Total Docs. (3years)  ...  Total Cites (3years)  \\\n",
       "0                     44                   118  ...                 30318   \n",
       "1                     36                   122  ...                  2141   \n",
       "2                    121                   328  ...                 13331   \n",
       "3                    420                  1637  ...                 67791   \n",
       "4                   1410                  4561  ...                133956   \n",
       "...                  ...                   ...  ...                   ...   \n",
       "1798                  56                   119  ...                   137   \n",
       "1799                 367                  1245  ...                  8782   \n",
       "1800                 166                   607  ...                  4408   \n",
       "1801                   0                    45  ...                   156   \n",
       "1802                  72                   100  ...                   500   \n",
       "\n",
       "      Citable Docs. (3years)  Cites / Doc. (2years) Ref. / Doc.  \\\n",
       "0                         85                 299,99       97,00   \n",
       "1                        122                  14,83       66,61   \n",
       "2                        156                  35,47       89,29   \n",
       "3                       1440                  43,80       65,74   \n",
       "4                       1854                  33,93       10,21   \n",
       "...                      ...                    ...         ...   \n",
       "1798                     119                   1,11       36,68   \n",
       "1799                    1233                   7,21       63,92   \n",
       "1800                     601                   7,02       72,49   \n",
       "1801                      41                   0,92        0,00   \n",
       "1802                      96                   4,01       85,38   \n",
       "\n",
       "             Country            Region                       Publisher  \\\n",
       "0      United States  Northern America                 Wiley-Blackwell   \n",
       "1     United Kingdom    Western Europe         Oxford University Press   \n",
       "2     United Kingdom    Western Europe         Nature Publishing Group   \n",
       "3      United States  Northern America                      Cell Press   \n",
       "4      United States  Northern America  Massachussetts Medical Society   \n",
       "...              ...               ...                             ...   \n",
       "1798  United Kingdom    Western Europe         John Wiley and Sons Ltd   \n",
       "1799  United Kingdom    Western Europe      Royal Society of Chemistry   \n",
       "1800  United Kingdom    Western Europe                     Elsevier BV   \n",
       "1801     Switzerland    Western Europe                    S. Karger AG   \n",
       "1802  United Kingdom    Western Europe           SAGE Publications Ltd   \n",
       "\n",
       "                                               Coverage  \\\n",
       "0                                             1950-2022   \n",
       "1                                             1886-2022   \n",
       "2                                             2000-2022   \n",
       "3                                             1974-2022   \n",
       "4                                             1945-2022   \n",
       "...                                                 ...   \n",
       "1798                                          2010-2022   \n",
       "1799                                          2017-2022   \n",
       "1800                                          1976-2022   \n",
       "1801  1975, 1977, 1984, 1996-1997, 1999-2002, 2004-2...   \n",
       "1802                                          1970-2022   \n",
       "\n",
       "                                             Categories  \\\n",
       "0                        Hematology (Q1); Oncology (Q1)   \n",
       "1                       Economics and Econometrics (Q1)   \n",
       "2             Cell Biology (Q1); Molecular Biology (Q1)   \n",
       "3     Biochemistry, Genetics and Molecular Biology (...   \n",
       "4                         Medicine (miscellaneous) (Q1)   \n",
       "...                                                 ...   \n",
       "1798                         Geometry and Topology (Q1)   \n",
       "1799  Materials Chemistry (Q1); Materials Science (m...   \n",
       "1800  Agronomy and Crop Science (Q1); Animal Science...   \n",
       "1801  Endocrinology (Q1); Endocrinology, Diabetes an...   \n",
       "1802  Decision Sciences (miscellaneous) (Q1); Manage...   \n",
       "\n",
       "                                                  Areas  \n",
       "0                                              Medicine  \n",
       "1                   Economics, Econometrics and Finance  \n",
       "2          Biochemistry, Genetics and Molecular Biology  \n",
       "3          Biochemistry, Genetics and Molecular Biology  \n",
       "4                                              Medicine  \n",
       "...                                                 ...  \n",
       "1798                                        Mathematics  \n",
       "1799                                  Materials Science  \n",
       "1800               Agricultural and Biological Sciences  \n",
       "1801  Biochemistry, Genetics and Molecular Biology; ...  \n",
       "1802  Business, Management and Accounting; Decision ...  \n",
       "\n",
       "[1803 rows x 21 columns]"
      ]
     },
     "execution_count": 6,
     "metadata": {},
     "output_type": "execute_result"
    }
   ],
   "source": [
    "# Calculate the threshold for the top 10%\n",
    "threshold = int(0.10 * len(journals))\n",
    "\n",
    "# Select the top 10% of rows\n",
    "top_10_percent = journals.head(threshold)\n",
    "top_10_percent"
   ]
  },
  {
   "cell_type": "code",
   "execution_count": 7,
   "metadata": {},
   "outputs": [
    {
     "data": {
      "text/plain": [
       "0       15424863, 00079235\n",
       "1       00335533, 15314650\n",
       "2       14710072, 14710080\n",
       "3       00928674, 10974172\n",
       "4       00284793, 15334406\n",
       "               ...        \n",
       "1798    17538416, 17538424\n",
       "1799              20521537\n",
       "1800    0308521X, 18732267\n",
       "1801              03013073\n",
       "1802    14617307, 13505076\n",
       "Name: Issn, Length: 1803, dtype: object"
      ]
     },
     "execution_count": 7,
     "metadata": {},
     "output_type": "execute_result"
    }
   ],
   "source": [
    "top_10_percent['Issn']"
   ]
  },
  {
   "cell_type": "code",
   "execution_count": 8,
   "metadata": {},
   "outputs": [
    {
     "data": {
      "text/plain": [
       "0       15424863, 00079235\n",
       "1       00335533, 15314650\n",
       "2       14710072, 14710080\n",
       "3       00928674, 10974172\n",
       "4       00284793, 15334406\n",
       "               ...        \n",
       "1795    15565653, 00150282\n",
       "1796    19360533, 19360541\n",
       "1798    17538416, 17538424\n",
       "1800    0308521X, 18732267\n",
       "1802    14617307, 13505076\n",
       "Name: Issn, Length: 1191, dtype: object"
      ]
     },
     "execution_count": 8,
     "metadata": {},
     "output_type": "execute_result"
    }
   ],
   "source": [
    "top_10_percent[top_10_percent['Issn'].str.contains(',')]['Issn']"
   ]
  },
  {
   "cell_type": "code",
   "execution_count": 9,
   "metadata": {},
   "outputs": [
    {
     "data": {
      "text/plain": [
       "143     15383598, 00987484, 00029955\n",
       "263     03785912, 01662236, 1878108X\n",
       "304     13624326, 03765067, 09680004\n",
       "1545    08203946, 00084409, 14882329\n",
       "Name: Issn, dtype: object"
      ]
     },
     "execution_count": 9,
     "metadata": {},
     "output_type": "execute_result"
    }
   ],
   "source": [
    "top_10_percent[top_10_percent['Issn'].str.count(',') > 1]['Issn']"
   ]
  },
  {
   "cell_type": "code",
   "execution_count": 10,
   "metadata": {},
   "outputs": [
    {
     "data": {
      "text/plain": [
       "array(['15424863, 00079235', '00335533, 15314650', '14710072, 14710080',\n",
       "       '00928674, 10974172', '00284793, 15334406', '1546170X, 10788956',\n",
       "       '10575987, 15458601', '15461696, 10870156', '20588437', '00028282',\n",
       "       '1474175X, 14741768', '14764687, 00280836', '00223808, 1537534X',\n",
       "       '00346861, 15390756', '20587546', '14710056, 14710064',\n",
       "       '14741784, 14741776', '15206890, 00092665', '14741741, 14741733',\n",
       "       '01492195, 1545861X', '10614036, 15461718', '00018392, 19303815',\n",
       "       '19416520, 19416067', '00221082, 15406261', '15453278, 07320582',\n",
       "       '15458636, 15460738', '03060012, 14604744', '17594782, 17594774',\n",
       "       '10974180, 10747613', '01406736, 1474547X', '00346527, 1467937X',\n",
       "       '15487091, 15487105', '17238617', '1553877X', '14764660, 14761122',\n",
       "       '19358245, 19358237', '15221210, 00319333', '10959203, 00368075',\n",
       "       '25201158', '17483387, 17483395', '00129682, 14680262', '00220515',\n",
       "       '19457790, 19457782', '15356108, 18783686', '17545692, 17545706',\n",
       "       '25424351', '14702045, 14745488', '14657368, 08939454',\n",
       "       '10976256, 15461726', '14606976, 00018732', '15698041, 09237534',\n",
       "       '17494885', '14338351, 23673613', '2056676X', '22132619, 22132600',\n",
       "       '24709468', '15454509, 00664154', '23973358', '25201131',\n",
       "       '15292908, 15292916', '00014273', '19457707, 19457715',\n",
       "       '15477185, 00222429', '03637425', '19475454, 19475462', '0304405X',\n",
       "       '24682667', '17401534, 17401526', '19411383, 19411391', '19313128',\n",
       "       '17595045, 17595053', '15277755, 0732183X', '15504131',\n",
       "       '01637525, 15452093', '09354956, 14320754', '14744465, 14744422',\n",
       "       '26621347', '14764679, 14657392', '10974164, 10972765',\n",
       "       '09359648, 15214095', '25225820', '14747596', '00664308, 15452085',\n",
       "       '20585276', '19345909', '87551209', '16146832, 16146840',\n",
       "       '14764598', '15534006, 15534014', '08953309', '14683288, 00175749',\n",
       "       '18732208, 00796425', '10970266, 01432095', '0147006X, 15454126',\n",
       "       '00346535, 15309142', '15583597, 07351097', '19438206',\n",
       "       '03051048, 13624962', '22138595, 22138587', '19457731, 1945774X'],\n",
       "      dtype=object)"
      ]
     },
     "execution_count": 10,
     "metadata": {},
     "output_type": "execute_result"
    }
   ],
   "source": [
    "journals = top_10_percent['Issn'][0:100].values\n",
    "journals"
   ]
  },
  {
   "cell_type": "code",
   "execution_count": 11,
   "metadata": {},
   "outputs": [
    {
     "name": "stdout",
     "output_type": "stream",
     "text": [
      "<class 'pandas.core.frame.DataFrame'>\n",
      "RangeIndex: 1803 entries, 0 to 1802\n",
      "Data columns (total 21 columns):\n",
      " #   Column                  Non-Null Count  Dtype \n",
      "---  ------                  --------------  ----- \n",
      " 0   Rank                    1803 non-null   int64 \n",
      " 1   Sourceid                1803 non-null   int64 \n",
      " 2   Title                   1803 non-null   object\n",
      " 3   Type                    1803 non-null   object\n",
      " 4   Issn                    1803 non-null   object\n",
      " 5   SJR                     1803 non-null   object\n",
      " 6   SJR Best Quartile       1803 non-null   object\n",
      " 7   H index                 1803 non-null   int64 \n",
      " 8   Total Docs. (2022)      1803 non-null   int64 \n",
      " 9   Total Docs. (3years)    1803 non-null   int64 \n",
      " 10  Total Refs.             1803 non-null   int64 \n",
      " 11  Total Cites (3years)    1803 non-null   int64 \n",
      " 12  Citable Docs. (3years)  1803 non-null   int64 \n",
      " 13  Cites / Doc. (2years)   1803 non-null   object\n",
      " 14  Ref. / Doc.             1803 non-null   object\n",
      " 15  Country                 1803 non-null   object\n",
      " 16  Region                  1803 non-null   object\n",
      " 17  Publisher               1796 non-null   object\n",
      " 18  Coverage                1803 non-null   object\n",
      " 19  Categories              1803 non-null   object\n",
      " 20  Areas                   1803 non-null   object\n",
      "dtypes: int64(8), object(13)\n",
      "memory usage: 295.9+ KB\n"
     ]
    }
   ],
   "source": [
    "top_10_percent.info()"
   ]
  },
  {
   "cell_type": "code",
   "execution_count": 12,
   "metadata": {},
   "outputs": [
    {
     "data": {
      "text/html": [
       "<div>\n",
       "<style scoped>\n",
       "    .dataframe tbody tr th:only-of-type {\n",
       "        vertical-align: middle;\n",
       "    }\n",
       "\n",
       "    .dataframe tbody tr th {\n",
       "        vertical-align: top;\n",
       "    }\n",
       "\n",
       "    .dataframe thead th {\n",
       "        text-align: right;\n",
       "    }\n",
       "</style>\n",
       "<table border=\"1\" class=\"dataframe\">\n",
       "  <thead>\n",
       "    <tr style=\"text-align: right;\">\n",
       "      <th></th>\n",
       "      <th>Total Docs. (2022)</th>\n",
       "      <th>Total Docs. (3years)</th>\n",
       "    </tr>\n",
       "  </thead>\n",
       "  <tbody>\n",
       "    <tr>\n",
       "      <th>0</th>\n",
       "      <td>44</td>\n",
       "      <td>118</td>\n",
       "    </tr>\n",
       "    <tr>\n",
       "      <th>1</th>\n",
       "      <td>36</td>\n",
       "      <td>122</td>\n",
       "    </tr>\n",
       "    <tr>\n",
       "      <th>2</th>\n",
       "      <td>121</td>\n",
       "      <td>328</td>\n",
       "    </tr>\n",
       "    <tr>\n",
       "      <th>3</th>\n",
       "      <td>420</td>\n",
       "      <td>1637</td>\n",
       "    </tr>\n",
       "    <tr>\n",
       "      <th>4</th>\n",
       "      <td>1410</td>\n",
       "      <td>4561</td>\n",
       "    </tr>\n",
       "    <tr>\n",
       "      <th>...</th>\n",
       "      <td>...</td>\n",
       "      <td>...</td>\n",
       "    </tr>\n",
       "    <tr>\n",
       "      <th>1798</th>\n",
       "      <td>56</td>\n",
       "      <td>119</td>\n",
       "    </tr>\n",
       "    <tr>\n",
       "      <th>1799</th>\n",
       "      <td>367</td>\n",
       "      <td>1245</td>\n",
       "    </tr>\n",
       "    <tr>\n",
       "      <th>1800</th>\n",
       "      <td>166</td>\n",
       "      <td>607</td>\n",
       "    </tr>\n",
       "    <tr>\n",
       "      <th>1801</th>\n",
       "      <td>0</td>\n",
       "      <td>45</td>\n",
       "    </tr>\n",
       "    <tr>\n",
       "      <th>1802</th>\n",
       "      <td>72</td>\n",
       "      <td>100</td>\n",
       "    </tr>\n",
       "  </tbody>\n",
       "</table>\n",
       "<p>1803 rows × 2 columns</p>\n",
       "</div>"
      ],
      "text/plain": [
       "      Total Docs. (2022)  Total Docs. (3years)\n",
       "0                     44                   118\n",
       "1                     36                   122\n",
       "2                    121                   328\n",
       "3                    420                  1637\n",
       "4                   1410                  4561\n",
       "...                  ...                   ...\n",
       "1798                  56                   119\n",
       "1799                 367                  1245\n",
       "1800                 166                   607\n",
       "1801                   0                    45\n",
       "1802                  72                   100\n",
       "\n",
       "[1803 rows x 2 columns]"
      ]
     },
     "execution_count": 12,
     "metadata": {},
     "output_type": "execute_result"
    }
   ],
   "source": [
    "top_10_percent[['Total Docs. (2022)', 'Total Docs. (3years)']]"
   ]
  },
  {
   "cell_type": "code",
   "execution_count": 13,
   "metadata": {},
   "outputs": [
    {
     "data": {
      "text/html": [
       "<div>\n",
       "<style scoped>\n",
       "    .dataframe tbody tr th:only-of-type {\n",
       "        vertical-align: middle;\n",
       "    }\n",
       "\n",
       "    .dataframe tbody tr th {\n",
       "        vertical-align: top;\n",
       "    }\n",
       "\n",
       "    .dataframe thead th {\n",
       "        text-align: right;\n",
       "    }\n",
       "</style>\n",
       "<table border=\"1\" class=\"dataframe\">\n",
       "  <thead>\n",
       "    <tr style=\"text-align: right;\">\n",
       "      <th></th>\n",
       "      <th>Total Docs. (2022)</th>\n",
       "      <th>Total Docs. (3years)</th>\n",
       "    </tr>\n",
       "  </thead>\n",
       "  <tbody>\n",
       "    <tr>\n",
       "      <th>count</th>\n",
       "      <td>1803.000000</td>\n",
       "      <td>1803.000000</td>\n",
       "    </tr>\n",
       "    <tr>\n",
       "      <th>mean</th>\n",
       "      <td>305.364947</td>\n",
       "      <td>802.886855</td>\n",
       "    </tr>\n",
       "    <tr>\n",
       "      <th>std</th>\n",
       "      <td>585.720319</td>\n",
       "      <td>1464.200862</td>\n",
       "    </tr>\n",
       "    <tr>\n",
       "      <th>min</th>\n",
       "      <td>0.000000</td>\n",
       "      <td>3.000000</td>\n",
       "    </tr>\n",
       "    <tr>\n",
       "      <th>25%</th>\n",
       "      <td>66.000000</td>\n",
       "      <td>166.000000</td>\n",
       "    </tr>\n",
       "    <tr>\n",
       "      <th>50%</th>\n",
       "      <td>146.000000</td>\n",
       "      <td>379.000000</td>\n",
       "    </tr>\n",
       "    <tr>\n",
       "      <th>75%</th>\n",
       "      <td>311.500000</td>\n",
       "      <td>879.000000</td>\n",
       "    </tr>\n",
       "    <tr>\n",
       "      <th>max</th>\n",
       "      <td>8195.000000</td>\n",
       "      <td>20676.000000</td>\n",
       "    </tr>\n",
       "  </tbody>\n",
       "</table>\n",
       "</div>"
      ],
      "text/plain": [
       "       Total Docs. (2022)  Total Docs. (3years)\n",
       "count         1803.000000           1803.000000\n",
       "mean           305.364947            802.886855\n",
       "std            585.720319           1464.200862\n",
       "min              0.000000              3.000000\n",
       "25%             66.000000            166.000000\n",
       "50%            146.000000            379.000000\n",
       "75%            311.500000            879.000000\n",
       "max           8195.000000          20676.000000"
      ]
     },
     "execution_count": 13,
     "metadata": {},
     "output_type": "execute_result"
    }
   ],
   "source": [
    "top_10_percent[['Total Docs. (2022)', 'Total Docs. (3years)']].describe()"
   ]
  },
  {
   "cell_type": "code",
   "execution_count": 14,
   "metadata": {},
   "outputs": [
    {
     "data": {
      "text/html": [
       "<div>\n",
       "<style scoped>\n",
       "    .dataframe tbody tr th:only-of-type {\n",
       "        vertical-align: middle;\n",
       "    }\n",
       "\n",
       "    .dataframe tbody tr th {\n",
       "        vertical-align: top;\n",
       "    }\n",
       "\n",
       "    .dataframe thead th {\n",
       "        text-align: right;\n",
       "    }\n",
       "</style>\n",
       "<table border=\"1\" class=\"dataframe\">\n",
       "  <thead>\n",
       "    <tr style=\"text-align: right;\">\n",
       "      <th></th>\n",
       "      <th>Rank</th>\n",
       "      <th>Sourceid</th>\n",
       "      <th>Title</th>\n",
       "      <th>Type</th>\n",
       "      <th>Issn</th>\n",
       "      <th>SJR</th>\n",
       "      <th>SJR Best Quartile</th>\n",
       "      <th>H index</th>\n",
       "      <th>Total Docs. (2022)</th>\n",
       "      <th>Total Docs. (3years)</th>\n",
       "      <th>...</th>\n",
       "      <th>Total Cites (3years)</th>\n",
       "      <th>Citable Docs. (3years)</th>\n",
       "      <th>Cites / Doc. (2years)</th>\n",
       "      <th>Ref. / Doc.</th>\n",
       "      <th>Country</th>\n",
       "      <th>Region</th>\n",
       "      <th>Publisher</th>\n",
       "      <th>Coverage</th>\n",
       "      <th>Categories</th>\n",
       "      <th>Areas</th>\n",
       "    </tr>\n",
       "  </thead>\n",
       "  <tbody>\n",
       "    <tr>\n",
       "      <th>1269</th>\n",
       "      <td>1270</td>\n",
       "      <td>25349</td>\n",
       "      <td>Science of the Total Environment</td>\n",
       "      <td>journal</td>\n",
       "      <td>00489697, 18791026</td>\n",
       "      <td>1,946</td>\n",
       "      <td>Q1</td>\n",
       "      <td>317</td>\n",
       "      <td>8195</td>\n",
       "      <td>20676</td>\n",
       "      <td>...</td>\n",
       "      <td>225488</td>\n",
       "      <td>20446</td>\n",
       "      <td>10,94</td>\n",
       "      <td>73,09</td>\n",
       "      <td>Netherlands</td>\n",
       "      <td>Western Europe</td>\n",
       "      <td>Elsevier</td>\n",
       "      <td>1970, 1972-2023</td>\n",
       "      <td>Environmental Chemistry (Q1); Environmental En...</td>\n",
       "      <td>Environmental Science</td>\n",
       "    </tr>\n",
       "  </tbody>\n",
       "</table>\n",
       "<p>1 rows × 21 columns</p>\n",
       "</div>"
      ],
      "text/plain": [
       "      Rank  Sourceid                             Title     Type  \\\n",
       "1269  1270     25349  Science of the Total Environment  journal   \n",
       "\n",
       "                    Issn    SJR SJR Best Quartile  H index  \\\n",
       "1269  00489697, 18791026  1,946                Q1      317   \n",
       "\n",
       "      Total Docs. (2022)  Total Docs. (3years)  ...  Total Cites (3years)  \\\n",
       "1269                8195                 20676  ...                225488   \n",
       "\n",
       "      Citable Docs. (3years)  Cites / Doc. (2years) Ref. / Doc.      Country  \\\n",
       "1269                   20446                  10,94       73,09  Netherlands   \n",
       "\n",
       "              Region Publisher         Coverage  \\\n",
       "1269  Western Europe  Elsevier  1970, 1972-2023   \n",
       "\n",
       "                                             Categories                  Areas  \n",
       "1269  Environmental Chemistry (Q1); Environmental En...  Environmental Science  \n",
       "\n",
       "[1 rows x 21 columns]"
      ]
     },
     "execution_count": 14,
     "metadata": {},
     "output_type": "execute_result"
    }
   ],
   "source": [
    "top_10_percent[top_10_percent['Total Docs. (3years)']==20676]"
   ]
  },
  {
   "cell_type": "markdown",
   "metadata": {},
   "source": [
    "# Bibliometric data on articles"
   ]
  },
  {
   "cell_type": "markdown",
   "metadata": {},
   "source": [
    "## Webscraping by journal range"
   ]
  },
  {
   "cell_type": "code",
   "execution_count": 15,
   "metadata": {},
   "outputs": [],
   "source": [
    "def webscraping_journal_range(website_path, start_journal, end_journal):\n",
    "    \"\"\"\n",
    "    Scrapes scientific articles from Web of Science within a specified range of journals.\n",
    "\n",
    "    Parameters:\n",
    "    - website_path (str): The URL to the Web of Science search results page.\n",
    "    - start_article (int): The starting journal number for scraping. Corresponds to index of journal in top_10_percent['Issn']\n",
    "    - end_article (int): The ending journal number for scraping.\n",
    "\n",
    "    Description:\n",
    "    This function automates the web scraping process of scientific articles from Web of Science.\n",
    "    It allows you to specify a range of journals you want to scrape (e.g., journal 1 to 100).\n",
    "    The function will visit the provided website, reject cookies, and change the query to the journal \n",
    "    corresponding to the loop iteration, scrape articles within that query\n",
    "    \n",
    "    Note:\n",
    "    - Ensure you have the ChromeDriver installed and its path specified in the function.\n",
    "    - The function interacts with the Web of Science website, so it may need adjustments\n",
    "      if the website's structure changes.\n",
    "    - When you are scraping too many articles the function might stop because it asks to prove that\n",
    "      you are human.\n",
    "\n",
    "    Exceptions:\n",
    "    To circumvent the CAPTCHA, if too many articles are scraped in one go, the following exceptions were put in place:\n",
    "    - If the number of publications from query is above 30000, the function will return the index of that journal and reason \"big_journal\"\n",
    "    - If the sum of the number of downloads (loop iterations) the function has gone through and the next journal exceeds 60, \n",
    "      the function will return the index of the next journal and reason \"exceed_n_journals\". \n",
    "    In case there is an error exporting the data:\n",
    "    - Gives 30 more seconds to finish downloading the data from previous iteration, as elements might not be accessible yet\n",
    "    - In case previous step doesn't work, the function returns the index of the journal and \"STOP\"\n",
    "\n",
    "    Example Usage:\n",
    "    website_path = \"URL_TO_WEB_OF_SCIENCE_SEARCH_RESULTS\"\n",
    "    start_journal = 1\n",
    "    end_journal = 100\n",
    "    webscraping_wos_range(website_path, start_journal, end_journal)\n",
    "    \"\"\"\n",
    "\n",
    "    # path for chrome driver\n",
    "    path = Service(ChromeDriverManager().install())\n",
    "\n",
    "    # create the driver\n",
    "    driver = webdriver.Chrome(service = path)\n",
    "\n",
    "    # open chromedriver window\n",
    "    driver.get(website_path)\n",
    "    time.sleep(10)\n",
    "\n",
    "    driver.maximize_window()\n",
    "    time.sleep(3)\n",
    "    # reject cookies\n",
    "    driver.find_element('xpath', '//*[@id=\"onetrust-reject-all-handler\"]').click()\n",
    "    \n",
    "    journals = top_10_percent['Issn'][start_journal:end_journal].values\n",
    "\n",
    "    journal_nr = start_journal\n",
    "    loop_number = 0\n",
    "    for issn in tqdm(journals):\n",
    "        try: \n",
    "            # click on search bar\n",
    "            driver.find_element('xpath', '/html/body/app-wos/main/div/div/div[2]/div/div/div[2]/app-input-route/app-base-summary-component/app-search-friendly-display/div[1]/app-general-search-friendly-display/app-query-modifier/div/div[1]/div').click()\n",
    "        except:\n",
    "            time.sleep(30)\n",
    "            driver.find_element('xpath', '/html/body/app-wos/main/div/div/div[2]/div/div/div[2]/app-input-route/app-base-summary-component/app-search-friendly-display/div[1]/app-general-search-friendly-display/app-query-modifier/div/div[1]/div').click()\n",
    "\n",
    "                \n",
    "        # select correct year\n",
    "        driver.find_element('xpath','//*[@id=\"advancedSearchInputArea\"]').clear()\n",
    "        time.sleep(0.5)\n",
    "        issn_list = issn.replace(\" \", \"\").split(',')\n",
    "        comma_count = issn.count(',')\n",
    "        if comma_count == 0:\n",
    "            driver.find_element('xpath','//*[@id=\"advancedSearchInputArea\"]').send_keys(f\"IS=({issn_list[0]})\")\n",
    "        elif comma_count == 1:\n",
    "            driver.find_element('xpath','//*[@id=\"advancedSearchInputArea\"]').send_keys(f\"IS=({issn_list[0]}) OR IS=({issn_list[1]})\")\n",
    "        else:\n",
    "            driver.find_element('xpath','//*[@id=\"advancedSearchInputArea\"]').send_keys(f\"IS=({issn_list[0]}) OR IS=({issn_list[1]}) OR IS=({issn_list[2]})\")\n",
    "\n",
    "        # click search \n",
    "        driver.find_element('xpath', '/html/body/app-wos/main/div/div/div[2]/div/div/div[2]/app-input-route/app-base-summary-component/app-search-friendly-display/div[1]/app-general-search-friendly-display/app-query-modifier/div/div[1]/div/div[4]/div[2]/app-advanced-search-form/form/div[2]/div[1]/div/div/button[2]/span[1]').click()\n",
    "        time.sleep(3)\n",
    "\n",
    "        # calculate total number of publications, nem é bem preciso para nada\n",
    "        n_publications = int(driver.find_element(By.CLASS_NAME, \"brand-blue\").text.replace(',', ''))\n",
    "\n",
    "        if n_publications > 30_000:\n",
    "            print(f'This journal ({journal_nr}) has too many articles. Export individually.')\n",
    "            return journal_nr, 'big_journal'\n",
    "        \n",
    "        nr_iterations = math.ceil((n_publications - 0) / 500)\n",
    "\n",
    "        if nr_iterations + loop_number >60:\n",
    "            print(f'The next journal ({journal_nr}) will exceed the limit of automatic exports')\n",
    "            return journal_nr, 'exceed_n_journals'\n",
    "\n",
    "\n",
    "        for page in range(nr_iterations):\n",
    "            loop_number += 1\n",
    "\n",
    "            time.sleep(2)\n",
    "            driver.implicitly_wait(100)\n",
    "            # calculate the range of articles to scrape on the current page\n",
    "            page_start_article = page * 500 + 1 + 0\n",
    "            page_end_article = min((page + 1) * 500 + 0, n_publications)\n",
    "            \n",
    "            try:\n",
    "                # open \"Export\" options\n",
    "                driver.find_element('xpath', '//*[@id=\"snRecListTop\"]/app-export-menu/div/button').click()\n",
    "\n",
    "                time.sleep(2)\n",
    "\n",
    "                print(f\"Scraping articles {page_start_article} to {page_end_article}\")\n",
    "                \n",
    "                # export to tab-delimited file\n",
    "                driver.find_element('xpath', '//*[@id=\"exportToTabWinButton\"]').click()\n",
    "\n",
    "                # export to bibtex file\n",
    "                #driver.find_element('xpath', '//*[@id=\"exportToBibtexButton\"]').click()\n",
    "\n",
    "            except:\n",
    "                try: \n",
    "                    time.sleep(30)\n",
    "                    # open \"Export\" options\n",
    "                    driver.find_element('xpath', '//*[@id=\"snRecListTop\"]/app-export-menu/div/button').click()\n",
    "\n",
    "                    time.sleep(2)\n",
    "\n",
    "                    print(f\"Scraping articles {page_start_article} to {page_end_article}\")\n",
    "                    \n",
    "                    # export to tab-delimited file\n",
    "                    driver.find_element('xpath', '//*[@id=\"exportToTabWinButton\"]').click()\n",
    "                    \n",
    "                except:\n",
    "                    print(f'Page number {page_start_article} until {page_end_article} was not exported')\n",
    "                    return journal_nr, 'STOP'\n",
    "                   \n",
    "            \n",
    "            time.sleep(3)\n",
    "            driver.find_element('xpath', '//*[@id=\"radio3\"]/label/span[1]/span[2]').click()\n",
    "            # choose range of papers to export\n",
    "            # if page == 0:\n",
    "            #     driver.find_element('xpath', '//*[@id=\"radio3\"]/label/span[1]/span[2]').click()\n",
    "            # else:\n",
    "            #     driver.find_element('xpath', '//*[@id=\"radio3\"]/label/span[1]/span[1]').click()\n",
    "\n",
    "                #//*[@id=\"radio3\"]/label/span[1]/span[2]\n",
    "            #driver.find_element(By.CLASS_NAME, \"mat-radio-inner-circle\")\n",
    "        \n",
    "            time.sleep(1)\n",
    "            \n",
    "            # starting range\n",
    "            driver.find_element(By.NAME, \"markFrom\").clear()\n",
    "            time.sleep(0.5)\n",
    "            driver.find_element(By.NAME, \"markFrom\").send_keys(page_start_article)\n",
    "            time.sleep(0.5)\n",
    "            \n",
    "            # ending range\n",
    "            driver.find_element(By.NAME, \"markTo\").clear()\n",
    "            time.sleep(0.5)\n",
    "            driver.find_element(By.NAME, \"markTo\").send_keys(page_end_article)\n",
    "            time.sleep(0.5)\n",
    "            \n",
    "            # dropdown \"Record Content:\"\n",
    "            driver.find_element('xpath', '/html/body/app-wos/main/div/div/div[2]/div/div/div[2]/app-input-route[1]/app-export-overlay/div/div[3]/div[2]/app-export-out-details/div/div[2]/form/div/div[1]/wos-select/button').click()\n",
    "\n",
    "            time.sleep(2)\n",
    "            \n",
    "            # choose the record content to be \"Full Record and Cited References\"\n",
    "            driver.find_element('xpath', '//*[@id=\"global-select\"]/div/div/div[4]/span').click()\n",
    "\n",
    "            time.sleep(2)\n",
    "            \n",
    "            # click export\n",
    "            driver.find_element('xpath', '/html/body/app-wos/main/div/div/div[2]/div/div/div[2]/app-input-route[1]/app-export-overlay/div/div[3]/div[2]/app-export-out-details/div/div[2]/form/div/div[2]/button[1]').click()\n",
    "\n",
    "            time.sleep(13)\n",
    "\n",
    "        journal_nr += 1\n",
    "        \n",
    "    # close the chrome window\n",
    "    driver.quit()\n",
    "    return journal_nr+10, 'STOP'"
   ]
  },
  {
   "cell_type": "code",
   "execution_count": 22,
   "metadata": {},
   "outputs": [
    {
     "data": {
      "text/plain": [
       "'00048674, 14401614'"
      ]
     },
     "execution_count": 22,
     "metadata": {},
     "output_type": "execute_result"
    }
   ],
   "source": [
    "top_10_percent['Issn'][1407]\n",
    "#1931-3128"
   ]
  },
  {
   "cell_type": "code",
   "execution_count": 17,
   "metadata": {},
   "outputs": [
    {
     "data": {
      "text/plain": [
       "Index([1055], dtype='int64')"
      ]
     },
     "execution_count": 17,
     "metadata": {},
     "output_type": "execute_result"
    }
   ],
   "source": [
    "top_10_percent[top_10_percent['Issn'].astype(str).str.contains('00377732')].index"
   ]
  },
  {
   "cell_type": "code",
   "execution_count": 18,
   "metadata": {},
   "outputs": [],
   "source": [
    "website = \"https://www.webofscience.com/wos/woscc/summary/75146b30-3227-443c-bb5a-771738929e0b-b2272def/relevance/1\""
   ]
  },
  {
   "cell_type": "code",
   "execution_count": 19,
   "metadata": {},
   "outputs": [],
   "source": [
    "#webscraping_journal_range(website,116, 200)"
   ]
  },
  {
   "cell_type": "code",
   "execution_count": 20,
   "metadata": {},
   "outputs": [],
   "source": [
    "too_big = []"
   ]
  },
  {
   "cell_type": "code",
   "execution_count": 23,
   "metadata": {},
   "outputs": [
    {
     "name": "stderr",
     "output_type": "stream",
     "text": [
      "  0%|          | 0/93 [00:00<?, ?it/s]"
     ]
    },
    {
     "name": "stdout",
     "output_type": "stream",
     "text": [
      "Scraping articles 1 to 500\n",
      "Scraping articles 501 to 1000\n",
      "Scraping articles 1001 to 1500\n",
      "Scraping articles 1501 to 2000\n",
      "Scraping articles 2001 to 2500\n",
      "Scraping articles 2501 to 3000\n",
      "Scraping articles 3001 to 3500\n",
      "Scraping articles 3501 to 4000\n",
      "Scraping articles 4001 to 4500\n",
      "Scraping articles 4501 to 5000\n",
      "Scraping articles 5001 to 5500\n",
      "Scraping articles 5501 to 6000\n",
      "Scraping articles 6001 to 6500\n",
      "Scraping articles 6501 to 7000\n",
      "Scraping articles 7001 to 7500\n",
      "Scraping articles 7501 to 8000\n",
      "Scraping articles 8001 to 8500\n",
      "Scraping articles 8501 to 9000\n",
      "Scraping articles 9001 to 9500\n",
      "Scraping articles 9501 to 10000\n",
      "Scraping articles 10001 to 10500\n",
      "Scraping articles 10501 to 11000\n",
      "Scraping articles 11001 to 11500\n",
      "Scraping articles 11501 to 12000\n",
      "Scraping articles 12001 to 12500\n",
      "Scraping articles 12501 to 13000\n",
      "Scraping articles 13001 to 13500\n",
      "Scraping articles 13501 to 14000\n",
      "Scraping articles 14001 to 14500\n",
      "Scraping articles 14501 to 15000\n",
      "Scraping articles 15001 to 15372\n"
     ]
    },
    {
     "name": "stderr",
     "output_type": "stream",
     "text": [
      "  1%|          | 1/93 [14:19<21:58:24, 859.83s/it]"
     ]
    },
    {
     "name": "stdout",
     "output_type": "stream",
     "text": [
      "Scraping articles 1 to 500\n",
      "Scraping articles 501 to 1000\n",
      "Scraping articles 1001 to 1500\n",
      "Scraping articles 1501 to 2000\n",
      "Scraping articles 2001 to 2500\n",
      "Scraping articles 2501 to 2571\n"
     ]
    },
    {
     "name": "stderr",
     "output_type": "stream",
     "text": [
      "  2%|▏         | 2/93 [17:15<11:33:16, 457.10s/it]"
     ]
    },
    {
     "name": "stdout",
     "output_type": "stream",
     "text": [
      "Scraping articles 1 to 500\n",
      "Scraping articles 501 to 1000\n",
      "Scraping articles 1001 to 1500\n",
      "Scraping articles 1501 to 2000\n",
      "Scraping articles 2001 to 2500\n",
      "Scraping articles 2501 to 3000\n",
      "Scraping articles 3001 to 3379\n"
     ]
    },
    {
     "name": "stderr",
     "output_type": "stream",
     "text": [
      "  3%|▎         | 3/93 [20:34<8:29:18, 339.54s/it] "
     ]
    },
    {
     "name": "stdout",
     "output_type": "stream",
     "text": [
      "Scraping articles 1 to 471\n"
     ]
    },
    {
     "name": "stderr",
     "output_type": "stream",
     "text": [
      "  4%|▍         | 4/93 [21:07<5:23:58, 218.41s/it]"
     ]
    },
    {
     "name": "stdout",
     "output_type": "stream",
     "text": [
      "Scraping articles 1 to 500\n",
      "Scraping articles 501 to 1000\n",
      "Scraping articles 1001 to 1500\n",
      "Scraping articles 1501 to 1849\n"
     ]
    },
    {
     "name": "stderr",
     "output_type": "stream",
     "text": [
      "  5%|▌         | 5/93 [23:03<4:26:11, 181.50s/it]"
     ]
    },
    {
     "name": "stdout",
     "output_type": "stream",
     "text": [
      "Scraping articles 1 to 500\n",
      "Scraping articles 501 to 1000\n",
      "Scraping articles 1001 to 1500\n",
      "Scraping articles 1501 to 2000\n",
      "Scraping articles 2001 to 2500\n",
      "Scraping articles 2501 to 3000\n",
      "Scraping articles 3001 to 3500\n",
      "Scraping articles 3501 to 4000\n",
      "Scraping articles 4001 to 4500\n",
      "Scraping articles 4501 to 4540\n"
     ]
    },
    {
     "name": "stderr",
     "output_type": "stream",
     "text": [
      "  6%|▋         | 6/93 [27:52<6:44:07, 278.70s/it]"
     ]
    },
    {
     "name": "stdout",
     "output_type": "stream",
     "text": [
      "The next journal (1413) will exceed the limit of automatic exports\n"
     ]
    },
    {
     "name": "stderr",
     "output_type": "stream",
     "text": [
      "\n",
      "  0%|          | 0/87 [00:00<?, ?it/s]"
     ]
    },
    {
     "name": "stdout",
     "output_type": "stream",
     "text": [
      "Scraping articles 1 to 500\n",
      "Scraping articles 501 to 1000\n",
      "Scraping articles 1001 to 1500\n",
      "Scraping articles 1501 to 2000\n",
      "Scraping articles 2001 to 2500\n",
      "Scraping articles 2501 to 3000\n",
      "Scraping articles 3001 to 3500\n",
      "Scraping articles 3501 to 4000\n",
      "Scraping articles 4001 to 4500\n",
      "Scraping articles 4501 to 5000\n",
      "Scraping articles 5001 to 5500\n",
      "Scraping articles 5501 to 6000\n",
      "Scraping articles 6001 to 6500\n",
      "Scraping articles 6501 to 7000\n",
      "Scraping articles 7001 to 7500\n",
      "Scraping articles 7501 to 8000\n",
      "Scraping articles 8001 to 8500\n",
      "Scraping articles 8501 to 9000\n",
      "Scraping articles 9001 to 9500\n",
      "Scraping articles 9501 to 10000\n",
      "Scraping articles 10001 to 10500\n",
      "Scraping articles 10501 to 11000\n",
      "Scraping articles 11001 to 11500\n",
      "Scraping articles 11501 to 12000\n",
      "Scraping articles 12001 to 12500\n",
      "Scraping articles 12501 to 13000\n",
      "Scraping articles 13001 to 13500\n",
      "Scraping articles 13501 to 13521\n"
     ]
    },
    {
     "name": "stderr",
     "output_type": "stream",
     "text": [
      "  1%|          | 1/87 [13:02<18:42:03, 782.84s/it]"
     ]
    },
    {
     "name": "stdout",
     "output_type": "stream",
     "text": [
      "The next journal (1414) will exceed the limit of automatic exports\n"
     ]
    },
    {
     "name": "stderr",
     "output_type": "stream",
     "text": [
      "\n",
      "  0%|          | 0/86 [00:00<?, ?it/s]"
     ]
    },
    {
     "name": "stdout",
     "output_type": "stream",
     "text": [
      "Scraping articles 1 to 500\n",
      "Scraping articles 501 to 1000\n",
      "Scraping articles 1001 to 1500\n",
      "Scraping articles 1501 to 2000\n",
      "Scraping articles 2001 to 2500\n",
      "Scraping articles 2501 to 3000\n",
      "Scraping articles 3001 to 3500\n",
      "Scraping articles 3501 to 4000\n",
      "Scraping articles 4001 to 4500\n",
      "Scraping articles 4501 to 5000\n",
      "Scraping articles 5001 to 5500\n",
      "Scraping articles 5501 to 6000\n",
      "Scraping articles 6001 to 6500\n",
      "Scraping articles 6501 to 7000\n",
      "Scraping articles 7001 to 7500\n",
      "Scraping articles 7501 to 8000\n",
      "Scraping articles 8001 to 8500\n",
      "Scraping articles 8501 to 9000\n",
      "Scraping articles 9001 to 9500\n",
      "Scraping articles 9501 to 10000\n",
      "Scraping articles 10001 to 10500\n",
      "Scraping articles 10501 to 11000\n",
      "Scraping articles 11001 to 11500\n",
      "Scraping articles 11501 to 12000\n",
      "Scraping articles 12001 to 12500\n",
      "Scraping articles 12501 to 13000\n",
      "Scraping articles 13001 to 13500\n",
      "Scraping articles 13501 to 14000\n",
      "Scraping articles 14001 to 14500\n",
      "Scraping articles 14501 to 15000\n",
      "Scraping articles 15001 to 15500\n",
      "Scraping articles 15501 to 16000\n",
      "Scraping articles 16001 to 16500\n",
      "Scraping articles 16501 to 17000\n",
      "Scraping articles 17001 to 17500\n",
      "Scraping articles 17501 to 18000\n",
      "Scraping articles 18001 to 18500\n",
      "Scraping articles 18501 to 19000\n",
      "Scraping articles 19001 to 19287\n"
     ]
    },
    {
     "name": "stderr",
     "output_type": "stream",
     "text": [
      "  1%|          | 1/86 [18:04<25:36:24, 1084.52s/it]"
     ]
    },
    {
     "name": "stdout",
     "output_type": "stream",
     "text": [
      "This journal (1415) has too many articles. Export individually.\n"
     ]
    },
    {
     "name": "stderr",
     "output_type": "stream",
     "text": [
      "\n",
      "  0%|          | 0/84 [00:00<?, ?it/s]"
     ]
    },
    {
     "name": "stdout",
     "output_type": "stream",
     "text": [
      "Scraping articles 1 to 500\n",
      "Scraping articles 501 to 1000\n",
      "Scraping articles 1001 to 1500\n",
      "Scraping articles 1501 to 2000\n",
      "Scraping articles 2001 to 2170\n"
     ]
    },
    {
     "name": "stderr",
     "output_type": "stream",
     "text": [
      "  1%|          | 1/84 [02:22<3:16:56, 142.37s/it]"
     ]
    },
    {
     "name": "stdout",
     "output_type": "stream",
     "text": [
      "Scraping articles 1 to 408\n"
     ]
    },
    {
     "name": "stderr",
     "output_type": "stream",
     "text": [
      "  2%|▏         | 2/84 [02:53<1:45:21, 77.09s/it] "
     ]
    },
    {
     "name": "stdout",
     "output_type": "stream",
     "text": [
      "Scraping articles 1 to 500\n",
      "Scraping articles 501 to 1000\n",
      "Scraping articles 1001 to 1500\n",
      "Scraping articles 1501 to 1677\n"
     ]
    },
    {
     "name": "stderr",
     "output_type": "stream",
     "text": [
      "  4%|▎         | 3/84 [04:51<2:11:12, 97.19s/it]"
     ]
    },
    {
     "name": "stdout",
     "output_type": "stream",
     "text": [
      "This journal (1419) has too many articles. Export individually.\n"
     ]
    },
    {
     "name": "stderr",
     "output_type": "stream",
     "text": [
      "\n",
      "  0%|          | 0/80 [00:00<?, ?it/s]"
     ]
    },
    {
     "name": "stdout",
     "output_type": "stream",
     "text": [
      "Scraping articles 1 to 500\n",
      "Scraping articles 501 to 1000\n",
      "Scraping articles 1001 to 1500\n",
      "Scraping articles 1501 to 2000\n",
      "Scraping articles 2001 to 2001\n"
     ]
    },
    {
     "name": "stderr",
     "output_type": "stream",
     "text": [
      "  1%|▏         | 1/80 [02:22<3:07:34, 142.47s/it]"
     ]
    },
    {
     "name": "stdout",
     "output_type": "stream",
     "text": [
      "Scraping articles 1 to 500\n",
      "Scraping articles 501 to 1000\n",
      "Scraping articles 1001 to 1500\n",
      "Scraping articles 1501 to 2000\n",
      "Scraping articles 2001 to 2016\n"
     ]
    },
    {
     "name": "stderr",
     "output_type": "stream",
     "text": [
      "  2%|▎         | 2/80 [04:44<3:04:49, 142.17s/it]"
     ]
    },
    {
     "name": "stdout",
     "output_type": "stream",
     "text": [
      "Scraping articles 1 to 371\n"
     ]
    },
    {
     "name": "stderr",
     "output_type": "stream",
     "text": [
      "  4%|▍         | 3/80 [05:15<1:57:33, 91.60s/it] "
     ]
    },
    {
     "name": "stdout",
     "output_type": "stream",
     "text": [
      "Scraping articles 1 to 500\n",
      "Scraping articles 501 to 1000\n",
      "Scraping articles 1001 to 1500\n",
      "Scraping articles 1501 to 2000\n",
      "Scraping articles 2001 to 2500\n",
      "Scraping articles 2501 to 3000\n",
      "Scraping articles 3001 to 3500\n",
      "Scraping articles 3501 to 4000\n",
      "Scraping articles 4001 to 4500\n",
      "Scraping articles 4501 to 5000\n",
      "Scraping articles 5001 to 5500\n",
      "Scraping articles 5501 to 6000\n",
      "Scraping articles 6001 to 6500\n",
      "Scraping articles 6501 to 6708\n"
     ]
    },
    {
     "name": "stderr",
     "output_type": "stream",
     "text": [
      "  5%|▌         | 4/80 [11:49<4:26:49, 210.65s/it]"
     ]
    },
    {
     "name": "stdout",
     "output_type": "stream",
     "text": [
      "Scraping articles 1 to 500\n",
      "Scraping articles 501 to 1000\n",
      "Scraping articles 1001 to 1394\n"
     ]
    },
    {
     "name": "stderr",
     "output_type": "stream",
     "text": [
      "  6%|▋         | 5/80 [13:22<3:20:40, 160.54s/it]"
     ]
    },
    {
     "name": "stdout",
     "output_type": "stream",
     "text": [
      "This journal (1425) has too many articles. Export individually.\n"
     ]
    },
    {
     "name": "stderr",
     "output_type": "stream",
     "text": [
      "\n",
      "  0%|          | 0/74 [00:04<?, ?it/s]"
     ]
    },
    {
     "name": "stdout",
     "output_type": "stream",
     "text": [
      "This journal (1426) has too many articles. Export individually.\n"
     ]
    },
    {
     "name": "stderr",
     "output_type": "stream",
     "text": [
      "\n",
      "  0%|          | 0/73 [00:00<?, ?it/s]"
     ]
    },
    {
     "name": "stdout",
     "output_type": "stream",
     "text": [
      "Scraping articles 1 to 500\n",
      "Scraping articles 501 to 826\n"
     ]
    },
    {
     "name": "stderr",
     "output_type": "stream",
     "text": [
      "  1%|▏         | 1/73 [01:01<1:13:53, 61.58s/it]"
     ]
    },
    {
     "name": "stdout",
     "output_type": "stream",
     "text": [
      "Scraping articles 1 to 500\n",
      "Scraping articles 501 to 1000\n",
      "Scraping articles 1001 to 1500\n",
      "Scraping articles 1501 to 1671\n"
     ]
    },
    {
     "name": "stderr",
     "output_type": "stream",
     "text": [
      "  3%|▎         | 2/73 [03:32<2:15:01, 114.11s/it]"
     ]
    },
    {
     "name": "stdout",
     "output_type": "stream",
     "text": [
      "Scraping articles 1 to 500\n",
      "Scraping articles 501 to 689\n"
     ]
    },
    {
     "name": "stderr",
     "output_type": "stream",
     "text": [
      "  4%|▍         | 3/73 [04:32<1:44:30, 89.58s/it] "
     ]
    },
    {
     "name": "stdout",
     "output_type": "stream",
     "text": [
      "Scraping articles 1 to 500\n",
      "Scraping articles 501 to 1000\n",
      "Scraping articles 1001 to 1500\n",
      "Scraping articles 1501 to 2000\n",
      "Scraping articles 2001 to 2079\n"
     ]
    },
    {
     "name": "stderr",
     "output_type": "stream",
     "text": [
      "  5%|▌         | 4/73 [06:59<2:08:55, 112.11s/it]"
     ]
    },
    {
     "name": "stdout",
     "output_type": "stream",
     "text": [
      "Scraping articles 1 to 500\n",
      "Scraping articles 501 to 1000\n",
      "Scraping articles 1001 to 1231\n"
     ]
    },
    {
     "name": "stderr",
     "output_type": "stream",
     "text": [
      "  7%|▋         | 5/73 [08:28<1:57:39, 103.82s/it]"
     ]
    },
    {
     "name": "stdout",
     "output_type": "stream",
     "text": [
      "Scraping articles 1 to 500\n",
      "Scraping articles 501 to 1000\n",
      "Scraping articles 1001 to 1500\n",
      "Scraping articles 1501 to 2000\n",
      "Scraping articles 2001 to 2500\n",
      "Scraping articles 2501 to 3000\n",
      "Scraping articles 3001 to 3500\n",
      "Scraping articles 3501 to 4000\n",
      "Scraping articles 4001 to 4500\n",
      "Scraping articles 4501 to 5000\n",
      "Scraping articles 5001 to 5319\n"
     ]
    },
    {
     "name": "stderr",
     "output_type": "stream",
     "text": [
      "  8%|▊         | 6/73 [13:46<2:33:52, 137.79s/it]"
     ]
    },
    {
     "name": "stdout",
     "output_type": "stream",
     "text": [
      "The next journal (1433) will exceed the limit of automatic exports\n"
     ]
    },
    {
     "name": "stderr",
     "output_type": "stream",
     "text": [
      "\n",
      "  0%|          | 0/67 [00:00<?, ?it/s]"
     ]
    },
    {
     "name": "stdout",
     "output_type": "stream",
     "text": [
      "Scraping articles 1 to 500\n",
      "Scraping articles 501 to 1000\n",
      "Scraping articles 1001 to 1500\n",
      "Scraping articles 1501 to 2000\n",
      "Scraping articles 2001 to 2500\n",
      "Scraping articles 2501 to 3000\n",
      "Scraping articles 3001 to 3500\n",
      "Scraping articles 3501 to 4000\n",
      "Scraping articles 4001 to 4500\n",
      "Scraping articles 4501 to 5000\n",
      "Scraping articles 5001 to 5500\n",
      "Scraping articles 5501 to 6000\n",
      "Scraping articles 6001 to 6500\n",
      "Scraping articles 6501 to 7000\n",
      "Scraping articles 7001 to 7500\n",
      "Scraping articles 7501 to 8000\n",
      "Scraping articles 8001 to 8500\n",
      "Scraping articles 8501 to 9000\n",
      "Scraping articles 9001 to 9500\n",
      "Scraping articles 9501 to 10000\n",
      "Scraping articles 10001 to 10500\n",
      "Scraping articles 10501 to 11000\n",
      "Scraping articles 11001 to 11500\n",
      "Scraping articles 11501 to 12000\n",
      "Scraping articles 12001 to 12500\n",
      "Scraping articles 12501 to 13000\n",
      "Scraping articles 13001 to 13500\n",
      "Scraping articles 13501 to 14000\n",
      "Scraping articles 14001 to 14500\n",
      "Scraping articles 14501 to 15000\n",
      "Scraping articles 15001 to 15500\n",
      "Scraping articles 15501 to 16000\n",
      "Scraping articles 16001 to 16500\n",
      "Scraping articles 16501 to 17000\n",
      "Scraping articles 17001 to 17500\n",
      "Scraping articles 17501 to 18000\n",
      "Scraping articles 18001 to 18500\n",
      "Scraping articles 18501 to 19000\n",
      "Scraping articles 19001 to 19500\n",
      "Scraping articles 19501 to 20000\n",
      "Scraping articles 20001 to 20500\n",
      "Scraping articles 20501 to 21000\n",
      "Scraping articles 21001 to 21500\n",
      "Scraping articles 21501 to 22000\n",
      "Scraping articles 22001 to 22500\n",
      "Scraping articles 22501 to 23000\n",
      "Scraping articles 23001 to 23500\n",
      "Scraping articles 23501 to 24000\n",
      "Scraping articles 24001 to 24500\n",
      "Scraping articles 24501 to 25000\n",
      "Scraping articles 25001 to 25500\n",
      "Scraping articles 25501 to 25911\n"
     ]
    },
    {
     "name": "stderr",
     "output_type": "stream",
     "text": [
      "  1%|▏         | 1/67 [24:12<26:37:40, 1452.44s/it]"
     ]
    },
    {
     "name": "stdout",
     "output_type": "stream",
     "text": [
      "Scraping articles 1 to 482\n"
     ]
    },
    {
     "name": "stderr",
     "output_type": "stream",
     "text": [
      "  3%|▎         | 2/67 [24:47<13:25:48, 743.82s/it] "
     ]
    },
    {
     "name": "stdout",
     "output_type": "stream",
     "text": [
      "The next journal (1435) will exceed the limit of automatic exports\n"
     ]
    },
    {
     "name": "stderr",
     "output_type": "stream",
     "text": [
      "\n",
      "  0%|          | 0/65 [00:00<?, ?it/s]"
     ]
    },
    {
     "name": "stdout",
     "output_type": "stream",
     "text": [
      "Scraping articles 1 to 500\n",
      "Scraping articles 501 to 1000\n",
      "Scraping articles 1001 to 1500\n",
      "Scraping articles 1501 to 2000\n",
      "Scraping articles 2001 to 2500\n",
      "Scraping articles 2501 to 3000\n",
      "Scraping articles 3001 to 3500\n",
      "Scraping articles 3501 to 4000\n",
      "Scraping articles 4001 to 4500\n",
      "Scraping articles 4501 to 5000\n",
      "Scraping articles 5001 to 5500\n",
      "Scraping articles 5501 to 5576\n"
     ]
    },
    {
     "name": "stderr",
     "output_type": "stream",
     "text": [
      "  2%|▏         | 1/65 [05:35<5:57:55, 335.56s/it]"
     ]
    },
    {
     "name": "stdout",
     "output_type": "stream",
     "text": [
      "Scraping articles 1 to 500\n",
      "Scraping articles 501 to 1000\n",
      "Scraping articles 1001 to 1500\n",
      "Scraping articles 1501 to 2000\n",
      "Scraping articles 2001 to 2059\n"
     ]
    },
    {
     "name": "stderr",
     "output_type": "stream",
     "text": [
      "  3%|▎         | 2/65 [07:57<3:52:46, 221.69s/it]"
     ]
    },
    {
     "name": "stdout",
     "output_type": "stream",
     "text": [
      "Scraping articles 1 to 500\n",
      "Scraping articles 501 to 1000\n",
      "Scraping articles 1001 to 1450\n"
     ]
    },
    {
     "name": "stderr",
     "output_type": "stream",
     "text": [
      "  5%|▍         | 3/65 [09:24<2:45:26, 160.11s/it]"
     ]
    },
    {
     "name": "stdout",
     "output_type": "stream",
     "text": [
      "Scraping articles 1 to 500\n",
      "Scraping articles 501 to 1000\n",
      "Scraping articles 1001 to 1500\n",
      "Scraping articles 1501 to 2000\n",
      "Scraping articles 2001 to 2500\n",
      "Scraping articles 2501 to 3000\n",
      "Scraping articles 3001 to 3500\n",
      "Scraping articles 3501 to 4000\n",
      "Scraping articles 4001 to 4500\n",
      "Scraping articles 4501 to 5000\n",
      "Scraping articles 5001 to 5500\n",
      "Scraping articles 5501 to 6000\n",
      "Scraping articles 6001 to 6500\n",
      "Scraping articles 6501 to 7000\n",
      "Scraping articles 7001 to 7500\n",
      "Scraping articles 7501 to 8000\n",
      "Scraping articles 8001 to 8500\n",
      "Scraping articles 8501 to 9000\n",
      "Scraping articles 9001 to 9500\n",
      "Scraping articles 9501 to 10000\n",
      "Scraping articles 10001 to 10500\n",
      "Scraping articles 10501 to 10960\n"
     ]
    },
    {
     "name": "stderr",
     "output_type": "stream",
     "text": [
      "  6%|▌         | 4/65 [19:37<5:44:29, 338.85s/it]"
     ]
    },
    {
     "name": "stdout",
     "output_type": "stream",
     "text": [
      "Scraping articles 1 to 500\n",
      "Scraping articles 501 to 768\n"
     ]
    },
    {
     "name": "stderr",
     "output_type": "stream",
     "text": [
      "  8%|▊         | 5/65 [20:40<4:08:00, 248.01s/it]"
     ]
    },
    {
     "name": "stdout",
     "output_type": "stream",
     "text": [
      "This journal (1440) has too many articles. Export individually.\n"
     ]
    },
    {
     "name": "stderr",
     "output_type": "stream",
     "text": [
      "\n",
      "  0%|          | 0/59 [00:00<?, ?it/s]"
     ]
    },
    {
     "name": "stdout",
     "output_type": "stream",
     "text": [
      "Scraping articles 1 to 500\n",
      "Scraping articles 501 to 1000\n",
      "Scraping articles 1001 to 1500\n",
      "Scraping articles 1501 to 2000\n",
      "Scraping articles 2001 to 2500\n",
      "Scraping articles 2501 to 3000\n",
      "Scraping articles 3001 to 3500\n",
      "Scraping articles 3501 to 4000\n",
      "Scraping articles 4001 to 4498\n"
     ]
    },
    {
     "name": "stderr",
     "output_type": "stream",
     "text": [
      "  2%|▏         | 1/59 [04:12<4:04:05, 252.50s/it]"
     ]
    },
    {
     "name": "stdout",
     "output_type": "stream",
     "text": [
      "Scraping articles 1 to 500\n",
      "Scraping articles 501 to 1000\n",
      "Scraping articles 1001 to 1212\n"
     ]
    },
    {
     "name": "stderr",
     "output_type": "stream",
     "text": [
      "  3%|▎         | 2/59 [05:39<2:27:07, 154.87s/it]"
     ]
    },
    {
     "name": "stdout",
     "output_type": "stream",
     "text": [
      "Scraping articles 1 to 500\n",
      "Scraping articles 501 to 1000\n",
      "Scraping articles 1001 to 1500\n",
      "Scraping articles 1501 to 1980\n"
     ]
    },
    {
     "name": "stderr",
     "output_type": "stream",
     "text": [
      "  5%|▌         | 3/59 [07:33<2:07:13, 136.32s/it]"
     ]
    },
    {
     "name": "stdout",
     "output_type": "stream",
     "text": [
      "Scraping articles 1 to 233\n"
     ]
    },
    {
     "name": "stderr",
     "output_type": "stream",
     "text": [
      "  7%|▋         | 4/59 [08:04<1:26:56, 94.84s/it] "
     ]
    },
    {
     "name": "stdout",
     "output_type": "stream",
     "text": [
      "Scraping articles 1 to 121\n"
     ]
    },
    {
     "name": "stderr",
     "output_type": "stream",
     "text": [
      "  8%|▊         | 5/59 [08:35<1:04:43, 71.93s/it]"
     ]
    },
    {
     "name": "stdout",
     "output_type": "stream",
     "text": [
      "Scraping articles 1 to 500\n",
      "Scraping articles 501 to 1000\n",
      "Scraping articles 1001 to 1500\n",
      "Scraping articles 1501 to 2000\n",
      "Scraping articles 2001 to 2500\n",
      "Scraping articles 2501 to 3000\n",
      "Scraping articles 3001 to 3500\n",
      "Scraping articles 3501 to 4000\n",
      "Scraping articles 4001 to 4500\n",
      "Scraping articles 4501 to 5000\n",
      "Scraping articles 5001 to 5500\n",
      "Scraping articles 5501 to 6000\n",
      "Scraping articles 6001 to 6500\n",
      "Scraping articles 6501 to 7000\n",
      "Scraping articles 7001 to 7500\n",
      "Scraping articles 7501 to 8000\n",
      "Scraping articles 8001 to 8208\n"
     ]
    },
    {
     "name": "stderr",
     "output_type": "stream",
     "text": [
      " 10%|█         | 6/59 [16:28<3:03:56, 208.24s/it]"
     ]
    },
    {
     "name": "stdout",
     "output_type": "stream",
     "text": [
      "Scraping articles 1 to 500\n",
      "Scraping articles 501 to 1000\n",
      "Scraping articles 1001 to 1500\n",
      "Scraping articles 1501 to 2000\n",
      "Scraping articles 2001 to 2500\n",
      "Scraping articles 2501 to 3000\n",
      "Scraping articles 3001 to 3500\n",
      "Scraping articles 3501 to 4000\n",
      "Scraping articles 4001 to 4500\n",
      "Scraping articles 4501 to 5000\n",
      "Scraping articles 5001 to 5500\n",
      "Scraping articles 5501 to 6000\n",
      "Scraping articles 6001 to 6500\n",
      "Scraping articles 6501 to 7000\n",
      "Scraping articles 7001 to 7500\n",
      "Scraping articles 7501 to 7727\n"
     ]
    },
    {
     "name": "stderr",
     "output_type": "stream",
     "text": [
      " 12%|█▏        | 7/59 [23:58<2:58:05, 205.49s/it]"
     ]
    },
    {
     "name": "stdout",
     "output_type": "stream",
     "text": [
      "The next journal (1448) will exceed the limit of automatic exports\n"
     ]
    },
    {
     "name": "stderr",
     "output_type": "stream",
     "text": [
      "\n",
      "  0%|          | 0/52 [00:00<?, ?it/s]"
     ]
    },
    {
     "name": "stdout",
     "output_type": "stream",
     "text": [
      "Scraping articles 1 to 500\n",
      "Scraping articles 501 to 1000\n",
      "Scraping articles 1001 to 1500\n",
      "Scraping articles 1501 to 2000\n",
      "Scraping articles 2001 to 2500\n",
      "Scraping articles 2501 to 3000\n",
      "Scraping articles 3001 to 3500\n",
      "Scraping articles 3501 to 4000\n",
      "Scraping articles 4001 to 4500\n",
      "Scraping articles 4501 to 4701\n"
     ]
    },
    {
     "name": "stderr",
     "output_type": "stream",
     "text": [
      "  2%|▏         | 1/52 [04:40<3:58:35, 280.69s/it]"
     ]
    },
    {
     "name": "stdout",
     "output_type": "stream",
     "text": [
      "Scraping articles 1 to 500\n",
      "Scraping articles 501 to 1000\n",
      "Scraping articles 1001 to 1474\n"
     ]
    },
    {
     "name": "stderr",
     "output_type": "stream",
     "text": [
      "  4%|▍         | 2/52 [06:07<2:18:50, 166.61s/it]"
     ]
    },
    {
     "name": "stdout",
     "output_type": "stream",
     "text": [
      "Scraping articles 1 to 500\n",
      "Scraping articles 501 to 1000\n",
      "Scraping articles 1001 to 1500\n",
      "Scraping articles 1501 to 1624\n"
     ]
    },
    {
     "name": "stderr",
     "output_type": "stream",
     "text": [
      "  6%|▌         | 3/52 [08:01<1:56:33, 142.73s/it]"
     ]
    },
    {
     "name": "stdout",
     "output_type": "stream",
     "text": [
      "Scraping articles 1 to 500\n",
      "Scraping articles 501 to 1000\n",
      "Scraping articles 1001 to 1500\n",
      "Scraping articles 1501 to 2000\n",
      "Scraping articles 2001 to 2500\n",
      "Scraping articles 2501 to 2511\n"
     ]
    },
    {
     "name": "stderr",
     "output_type": "stream",
     "text": [
      "  8%|▊         | 4/52 [10:51<2:02:35, 153.23s/it]"
     ]
    },
    {
     "name": "stdout",
     "output_type": "stream",
     "text": [
      "Scraping articles 1 to 500\n",
      "Scraping articles 501 to 1000\n",
      "Scraping articles 1001 to 1500\n",
      "Scraping articles 1501 to 2000\n",
      "Scraping articles 2001 to 2500\n",
      "Scraping articles 2501 to 3000\n",
      "Scraping articles 3001 to 3500\n",
      "Scraping articles 3501 to 4000\n",
      "Scraping articles 4001 to 4500\n",
      "Scraping articles 4501 to 4811\n"
     ]
    },
    {
     "name": "stderr",
     "output_type": "stream",
     "text": [
      " 10%|▉         | 5/52 [15:31<2:35:54, 199.03s/it]"
     ]
    },
    {
     "name": "stdout",
     "output_type": "stream",
     "text": [
      "Scraping articles 1 to 500\n",
      "Scraping articles 501 to 1000\n",
      "Scraping articles 1001 to 1500\n",
      "Scraping articles 1501 to 1595\n"
     ]
    },
    {
     "name": "stderr",
     "output_type": "stream",
     "text": [
      " 12%|█▏        | 6/52 [17:25<2:10:27, 170.17s/it]"
     ]
    },
    {
     "name": "stdout",
     "output_type": "stream",
     "text": [
      "Scraping articles 1 to 500\n",
      "Scraping articles 501 to 997\n"
     ]
    },
    {
     "name": "stderr",
     "output_type": "stream",
     "text": [
      " 13%|█▎        | 7/52 [18:24<1:40:21, 133.81s/it]"
     ]
    },
    {
     "name": "stdout",
     "output_type": "stream",
     "text": [
      "Scraping articles 1 to 500\n",
      "Scraping articles 501 to 1000\n",
      "Scraping articles 1001 to 1500\n",
      "Scraping articles 1501 to 2000\n",
      "Scraping articles 2001 to 2500\n",
      "Scraping articles 2501 to 3000\n",
      "Scraping articles 3001 to 3500\n",
      "Scraping articles 3501 to 4000\n",
      "Scraping articles 4001 to 4500\n",
      "Scraping articles 4501 to 5000\n",
      "Scraping articles 5001 to 5500\n",
      "Scraping articles 5501 to 6000\n",
      "Scraping articles 6001 to 6500\n",
      "Scraping articles 6501 to 7000\n",
      "Scraping articles 7001 to 7281\n"
     ]
    },
    {
     "name": "stderr",
     "output_type": "stream",
     "text": [
      " 15%|█▌        | 8/52 [25:22<2:44:24, 224.20s/it]"
     ]
    },
    {
     "name": "stdout",
     "output_type": "stream",
     "text": [
      "Scraping articles 1 to 500\n",
      "Scraping articles 501 to 948\n"
     ]
    },
    {
     "name": "stderr",
     "output_type": "stream",
     "text": [
      " 17%|█▋        | 9/52 [26:24<2:06:12, 176.09s/it]"
     ]
    },
    {
     "name": "stdout",
     "output_type": "stream",
     "text": [
      "The next journal (1457) will exceed the limit of automatic exports\n"
     ]
    },
    {
     "name": "stderr",
     "output_type": "stream",
     "text": [
      "\n",
      "  0%|          | 0/43 [00:00<?, ?it/s]"
     ]
    },
    {
     "name": "stdout",
     "output_type": "stream",
     "text": [
      "Scraping articles 1 to 500\n",
      "Scraping articles 501 to 1000\n",
      "Scraping articles 1001 to 1500\n",
      "Scraping articles 1501 to 2000\n",
      "Scraping articles 2001 to 2500\n",
      "Scraping articles 2501 to 3000\n",
      "Scraping articles 3001 to 3500\n",
      "Scraping articles 3501 to 4000\n",
      "Scraping articles 4001 to 4169\n"
     ]
    },
    {
     "name": "stderr",
     "output_type": "stream",
     "text": [
      "  2%|▏         | 1/43 [04:12<2:56:48, 252.57s/it]"
     ]
    },
    {
     "name": "stdout",
     "output_type": "stream",
     "text": [
      "Scraping articles 1 to 406\n"
     ]
    },
    {
     "name": "stderr",
     "output_type": "stream",
     "text": [
      "  5%|▍         | 2/43 [04:43<1:23:39, 122.43s/it]"
     ]
    },
    {
     "name": "stdout",
     "output_type": "stream",
     "text": [
      "Scraping articles 1 to 208\n"
     ]
    },
    {
     "name": "stderr",
     "output_type": "stream",
     "text": [
      "  7%|▋         | 3/43 [05:15<53:52, 80.82s/it]   "
     ]
    },
    {
     "name": "stdout",
     "output_type": "stream",
     "text": [
      "Scraping articles 1 to 500\n",
      "Scraping articles 501 to 1000\n",
      "Scraping articles 1001 to 1500\n",
      "Scraping articles 1501 to 2000\n",
      "Scraping articles 2001 to 2500\n",
      "Scraping articles 2501 to 3000\n",
      "Scraping articles 3001 to 3045\n"
     ]
    },
    {
     "name": "stderr",
     "output_type": "stream",
     "text": [
      "  9%|▉         | 4/43 [08:32<1:22:26, 126.83s/it]"
     ]
    },
    {
     "name": "stdout",
     "output_type": "stream",
     "text": [
      "Scraping articles 1 to 500\n",
      "Scraping articles 501 to 1000\n",
      "Scraping articles 1001 to 1500\n",
      "Scraping articles 1501 to 2000\n",
      "Scraping articles 2001 to 2146\n"
     ]
    },
    {
     "name": "stderr",
     "output_type": "stream",
     "text": [
      " 12%|█▏        | 5/43 [10:54<1:23:45, 132.25s/it]"
     ]
    },
    {
     "name": "stdout",
     "output_type": "stream",
     "text": [
      "Scraping articles 1 to 500\n",
      "Scraping articles 501 to 1000\n",
      "Scraping articles 1001 to 1500\n",
      "Scraping articles 1501 to 2000\n",
      "Scraping articles 2001 to 2500\n",
      "Scraping articles 2501 to 3000\n",
      "Scraping articles 3001 to 3500\n",
      "Scraping articles 3501 to 4000\n",
      "Scraping articles 4001 to 4500\n",
      "Scraping articles 4501 to 5000\n",
      "Scraping articles 5001 to 5304\n"
     ]
    },
    {
     "name": "stderr",
     "output_type": "stream",
     "text": [
      " 14%|█▍        | 6/43 [16:05<1:39:14, 160.94s/it]"
     ]
    },
    {
     "name": "stdout",
     "output_type": "stream",
     "text": [
      "The next journal (1463) will exceed the limit of automatic exports\n"
     ]
    },
    {
     "name": "stderr",
     "output_type": "stream",
     "text": [
      "\n",
      "  0%|          | 0/37 [00:00<?, ?it/s]"
     ]
    },
    {
     "name": "stdout",
     "output_type": "stream",
     "text": [
      "Scraping articles 1 to 500\n",
      "Scraping articles 501 to 1000\n",
      "Scraping articles 1001 to 1500\n",
      "Scraping articles 1501 to 2000\n",
      "Scraping articles 2001 to 2500\n",
      "Scraping articles 2501 to 3000\n",
      "Scraping articles 3001 to 3500\n",
      "Scraping articles 3501 to 4000\n",
      "Scraping articles 4001 to 4500\n",
      "Scraping articles 4501 to 5000\n",
      "Scraping articles 5001 to 5500\n",
      "Scraping articles 5501 to 6000\n",
      "Scraping articles 6001 to 6500\n",
      "Scraping articles 6501 to 7000\n",
      "Scraping articles 7001 to 7500\n",
      "Scraping articles 7501 to 8000\n",
      "Scraping articles 8001 to 8500\n",
      "Scraping articles 8501 to 9000\n",
      "Scraping articles 9001 to 9500\n",
      "Scraping articles 9501 to 10000\n",
      "Scraping articles 10001 to 10500\n",
      "Scraping articles 10501 to 11000\n",
      "Scraping articles 11001 to 11500\n",
      "Scraping articles 11501 to 12000\n",
      "Scraping articles 12001 to 12500\n",
      "Scraping articles 12501 to 13000\n",
      "Scraping articles 13001 to 13331\n"
     ]
    },
    {
     "name": "stderr",
     "output_type": "stream",
     "text": [
      "  3%|▎         | 1/37 [12:31<7:30:57, 751.61s/it]"
     ]
    },
    {
     "name": "stdout",
     "output_type": "stream",
     "text": [
      "Scraping articles 1 to 420\n"
     ]
    },
    {
     "name": "stderr",
     "output_type": "stream",
     "text": [
      "  5%|▌         | 2/37 [13:07<3:49:37, 393.65s/it]"
     ]
    },
    {
     "name": "stdout",
     "output_type": "stream",
     "text": [
      "The next journal (1465) will exceed the limit of automatic exports\n"
     ]
    },
    {
     "name": "stderr",
     "output_type": "stream",
     "text": [
      "\n"
     ]
    }
   ],
   "source": [
    "starting_journal = 1465\n",
    "ending_journal = 1500\n",
    "while starting_journal<ending_journal:\n",
    "    journal_nr, reason = webscraping_journal_range(website,starting_journal, ending_journal)\n",
    "    time.sleep(100)\n",
    "    if reason == 'big_journal':\n",
    "        too_big.append(journal_nr)\n",
    "        starting_journal = journal_nr + 1\n",
    "    elif reason == 'exceed_n_journals':\n",
    "        starting_journal = journal_nr\n",
    "    elif reason == 'STOP':\n",
    "        print(journal_nr)\n",
    "        starting_journal=journal_nr\n",
    "        break"
   ]
  },
  {
   "cell_type": "code",
   "execution_count": 22,
   "metadata": {},
   "outputs": [
    {
     "data": {
      "text/plain": [
       "[1367, 1386, 1394]"
      ]
     },
     "execution_count": 22,
     "metadata": {},
     "output_type": "execute_result"
    }
   ],
   "source": [
    "too_big"
   ]
  },
  {
   "cell_type": "code",
   "execution_count": 80,
   "metadata": {},
   "outputs": [
    {
     "data": {
      "text/plain": [
       "[1203, 1211, 1226, 1239]"
      ]
     },
     "execution_count": 80,
     "metadata": {},
     "output_type": "execute_result"
    }
   ],
   "source": [
    "too_big"
   ]
  },
  {
   "cell_type": "code",
   "execution_count": 26,
   "metadata": {},
   "outputs": [
    {
     "data": {
      "text/plain": [
       "675"
      ]
     },
     "execution_count": 26,
     "metadata": {},
     "output_type": "execute_result"
    }
   ],
   "source": [
    "starting_journal"
   ]
  },
  {
   "cell_type": "markdown",
   "metadata": {},
   "source": [
    "## Check Big Journals"
   ]
  },
  {
   "cell_type": "code",
   "execution_count": null,
   "metadata": {},
   "outputs": [],
   "source": [
    "dimensions_df = pd.DataFrame()\n",
    "journal_dimensions = []\n",
    "for journal in top_10_percent['Issn']: \n",
    "    dimension = webscraping_journal_dimension(journal)\n",
    "    journal_dimensions.append(dimension)"
   ]
  },
  {
   "cell_type": "markdown",
   "metadata": {},
   "source": [
    "## Journals individual export"
   ]
  },
  {
   "cell_type": "markdown",
   "metadata": {},
   "source": [
    "This section is dedicated to the download of data from journals that have too many articles to be extracted in one go. "
   ]
  },
  {
   "cell_type": "code",
   "execution_count": 18,
   "metadata": {},
   "outputs": [],
   "source": [
    "def webscraping_article_range(website_path, journal_number, start_article, end_article):\n",
    "    \"\"\"\n",
    "    Scrapes scientific articles from Web of Science within a specified range.\n",
    "\n",
    "    Parameters:\n",
    "    - website_path (str): The URL to the Web of Science search results page.\n",
    "    - start_article (int): The starting article number for scraping.\n",
    "    - end_article (int): The ending article number for scraping.\n",
    "\n",
    "    Description:\n",
    "    This function automates the web scraping process of scientific articles from Web of Science.\n",
    "    It allows you to specify a range of articles you want to scrape (e.g., articles 5000 to 6000).\n",
    "    The function will visit the provided website, reject cookies, and then scrape articles within\n",
    "    the specified range.\n",
    "\n",
    "    Note:\n",
    "    - Ensure you have the ChromeDriver installed and its path specified in the function.\n",
    "    - The function interacts with the Web of Science website, so it may need adjustments\n",
    "      if the website's structure changes.\n",
    "    - When you are scraping too many articles the function might stop because it asks to prove that\n",
    "      you are human.\n",
    "\n",
    "    Example Usage:\n",
    "    website_path = \"URL_TO_WEB_OF_SCIENCE_SEARCH_RESULTS\"\n",
    "    start_article = 5000\n",
    "    end_article = 6000\n",
    "    webscraping_wos_range(website_path, start_article, end_article)\n",
    "    \"\"\"\n",
    "\n",
    "    # path for chrome driver\n",
    "    path = Service(ChromeDriverManager().install())\n",
    "\n",
    "    # create the driver\n",
    "    driver = webdriver.Chrome(service = path)\n",
    "\n",
    "    # open chromedriver window\n",
    "    driver.get(website_path)\n",
    "    time.sleep(10)\n",
    "    \n",
    "    # reject cookies\n",
    "    driver.find_element('xpath', '//*[@id=\"onetrust-reject-all-handler\"]').click()\n",
    "    \n",
    "    issn = top_10_percent['Issn'][journal_number]\n",
    "\n",
    "    driver.find_element('xpath', '/html/body/app-wos/main/div/div/div[2]/div/div/div[2]/app-input-route/app-base-summary-component/app-search-friendly-display/div[1]/app-general-search-friendly-display/app-query-modifier/div/div[1]/div').click()\n",
    "\n",
    "    # select correct year\n",
    "    driver.find_element('xpath','//*[@id=\"advancedSearchInputArea\"]').clear()\n",
    "    time.sleep(0.5)\n",
    "    issn_list = issn.replace(\" \", \"\").split(',')\n",
    "    comma_count = issn.count(',')\n",
    "    if comma_count == 0:\n",
    "        driver.find_element('xpath','//*[@id=\"advancedSearchInputArea\"]').send_keys(f\"IS=({issn_list[0]})\")\n",
    "    elif comma_count == 1:\n",
    "        driver.find_element('xpath','//*[@id=\"advancedSearchInputArea\"]').send_keys(f\"IS=({issn_list[0]}) OR IS=({issn_list[1]})\")\n",
    "    else:\n",
    "        driver.find_element('xpath','//*[@id=\"advancedSearchInputArea\"]').send_keys(f\"IS=({issn_list[0]}) OR IS=({issn_list[1]}) OR IS=({issn_list[2]})\")\n",
    "\n",
    "    # click search \n",
    "    driver.find_element('xpath', '/html/body/app-wos/main/div/div/div[2]/div/div/div[2]/app-input-route/app-base-summary-component/app-search-friendly-display/div[1]/app-general-search-friendly-display/app-query-modifier/div/div[1]/div/div[4]/div[2]/app-advanced-search-form/form/div[2]/div[1]/div/div/button[2]/span[1]').click()\n",
    "    time.sleep(3)\n",
    "\n",
    "    # calculate total number of publications, nem é bem preciso para nada\n",
    "    n_publications = int(driver.find_element(By.CLASS_NAME, \"brand-blue\").text.replace(',', ''))\n",
    "    \n",
    "    nr_iterations = math.ceil((end_article - start_article) / 500)\n",
    "    \n",
    "    for page in range(nr_iterations):\n",
    "\n",
    "        time.sleep(2)\n",
    "        \n",
    "        # calculate the range of articles to scrape on the current page\n",
    "        page_start_article = page * 500 + 1 + start_article\n",
    "        page_end_article = min((page + 1) * 500 + start_article, end_article)\n",
    "        \n",
    "        try:\n",
    "            driver.implicitly_wait(100)\n",
    "            # open \"Export\" options\n",
    "            driver.find_element('xpath', '//*[@id=\"snRecListTop\"]/app-export-menu/div/button').click()\n",
    "\n",
    "            time.sleep(2)\n",
    "\n",
    "            print(f\"Scraping articles {page_start_article} to {page_end_article}\")\n",
    "            \n",
    "            driver.implicitly_wait(100)\n",
    "            # export to tab-delimited file\n",
    "            driver.find_element('xpath', '//*[@id=\"exportToTabWinButton\"]').click()\n",
    "\n",
    "            # export to bibtex file\n",
    "            #driver.find_element('xpath', '//*[@id=\"exportToBibtexButton\"]').click()\n",
    "\n",
    "        except:\n",
    "            print(f'Page number {page_start_article} until {page_end_article} was not exported')\n",
    "            continue\n",
    "        \n",
    "        time.sleep(3)\n",
    "        driver.find_element('xpath', '//*[@id=\"radio3\"]/label/span[1]/span[2]').click()\n",
    "    \n",
    "        time.sleep(1)\n",
    "        \n",
    "        # starting range\n",
    "        driver.find_element(By.NAME, \"markFrom\").clear()\n",
    "        time.sleep(0.5)\n",
    "        driver.find_element(By.NAME, \"markFrom\").send_keys(page_start_article)\n",
    "        time.sleep(0.5)\n",
    "        \n",
    "        # ending range\n",
    "        driver.find_element(By.NAME, \"markTo\").clear()\n",
    "        time.sleep(0.5)\n",
    "        driver.find_element(By.NAME, \"markTo\").send_keys(page_end_article)\n",
    "        time.sleep(0.5)\n",
    "        \n",
    "        # dropdown \"Record Content:\"\n",
    "        driver.find_element('xpath', '/html/body/app-wos/main/div/div/div[2]/div/div/div[2]/app-input-route[1]/app-export-overlay/div/div[3]/div[2]/app-export-out-details/div/div[2]/form/div/div[1]/wos-select/button').click()\n",
    "\n",
    "        time.sleep(2)\n",
    "        \n",
    "        # choose the record content to be \"Full Record and Cited References\"\n",
    "        driver.find_element('xpath', '//*[@id=\"global-select\"]/div/div/div[4]/span').click()\n",
    "\n",
    "        time.sleep(2)\n",
    "        \n",
    "        # click export\n",
    "        driver.find_element('xpath', '/html/body/app-wos/main/div/div/div[2]/div/div/div[2]/app-input-route[1]/app-export-overlay/div/div[3]/div[2]/app-export-out-details/div/div[2]/form/div/div[2]/button[1]').click()\n",
    "\n",
    "        time.sleep(30)\n",
    "\n",
    "        \n",
    "    # close the chrome window\n",
    "    driver.quit()"
   ]
  },
  {
   "cell_type": "code",
   "execution_count": 19,
   "metadata": {},
   "outputs": [],
   "source": [
    "website = \"https://www.webofscience.com/wos/woscc/summary/75146b30-3227-443c-bb5a-771738929e0b-b2272def/relevance/1\""
   ]
  },
  {
   "cell_type": "code",
   "execution_count": 20,
   "metadata": {},
   "outputs": [
    {
     "name": "stdout",
     "output_type": "stream",
     "text": [
      "Scraping articles 1 to 500\n",
      "Scraping articles 501 to 1000\n",
      "Scraping articles 1001 to 1500\n",
      "Scraping articles 1501 to 2000\n",
      "Page number 2001 until 2500 was not exported\n",
      "Scraping articles 2501 to 3000\n",
      "Scraping articles 3001 to 3500\n",
      "Scraping articles 3501 to 4000\n",
      "Scraping articles 4001 to 4500\n",
      "Scraping articles 4501 to 5000\n",
      "Scraping articles 5001 to 5500\n",
      "Scraping articles 5501 to 6000\n",
      "Scraping articles 6001 to 6500\n",
      "Scraping articles 6501 to 7000\n",
      "Scraping articles 7001 to 7500\n",
      "Scraping articles 7501 to 7931\n"
     ]
    }
   ],
   "source": [
    "webscraping_article_range(website, 17, 0, 7931)"
   ]
  },
  {
   "cell_type": "code",
   "execution_count": 20,
   "metadata": {},
   "outputs": [
    {
     "name": "stdout",
     "output_type": "stream",
     "text": [
      "Scraping articles 34001 to 34500\n",
      "Scraping articles 34501 to 35000\n",
      "Scraping articles 35001 to 35500\n",
      "Scraping articles 35501 to 36000\n",
      "Scraping articles 36001 to 36500\n",
      "Scraping articles 36501 to 37000\n",
      "Scraping articles 37001 to 37500\n",
      "Scraping articles 37501 to 38000\n",
      "Scraping articles 38001 to 38500\n",
      "Scraping articles 38501 to 39000\n",
      "Scraping articles 39001 to 39500\n",
      "Scraping articles 39501 to 40000\n",
      "Scraping articles 40001 to 40500\n",
      "Scraping articles 40501 to 41000\n",
      "Scraping articles 41001 to 41500\n",
      "Scraping articles 41501 to 42000\n",
      "Scraping articles 42001 to 42500\n",
      "Scraping articles 42501 to 43000\n",
      "Scraping articles 43001 to 43500\n",
      "Scraping articles 43501 to 44000\n",
      "Scraping articles 44001 to 44500\n",
      "Scraping articles 44501 to 45000\n",
      "Scraping articles 45001 to 45500\n",
      "Scraping articles 45501 to 46000\n",
      "Scraping articles 46001 to 46500\n",
      "Scraping articles 46501 to 47000\n",
      "Scraping articles 47001 to 47500\n",
      "Scraping articles 47501 to 48000\n",
      "Scraping articles 48001 to 48500\n",
      "Scraping articles 48501 to 49000\n",
      "Scraping articles 49001 to 49500\n",
      "Scraping articles 49501 to 50000\n",
      "Scraping articles 50001 to 50500\n",
      "Scraping articles 50501 to 51000\n",
      "Scraping articles 51001 to 51500\n",
      "Scraping articles 51501 to 52000\n",
      "Scraping articles 52001 to 52500\n",
      "Scraping articles 52501 to 53000\n",
      "Scraping articles 53001 to 53500\n",
      "Scraping articles 53501 to 54000\n",
      "Scraping articles 54001 to 54500\n",
      "Scraping articles 54501 to 55000\n",
      "Scraping articles 55001 to 55500\n",
      "Scraping articles 55501 to 56000\n",
      "Scraping articles 56001 to 56500\n",
      "Scraping articles 56501 to 57000\n",
      "Scraping articles 57001 to 57500\n",
      "Scraping articles 57501 to 58000\n",
      "Scraping articles 58001 to 58500\n",
      "Scraping articles 58501 to 59000\n",
      "Scraping articles 59001 to 59500\n",
      "Scraping articles 59501 to 60000\n"
     ]
    }
   ],
   "source": [
    "webscraping_article_range(website, 4, 34000, 60000)"
   ]
  },
  {
   "cell_type": "code",
   "execution_count": 21,
   "metadata": {},
   "outputs": [
    {
     "name": "stdout",
     "output_type": "stream",
     "text": [
      "Scraping articles 60001 to 60500\n",
      "Scraping articles 60501 to 61000\n",
      "Scraping articles 61001 to 61500\n",
      "Scraping articles 61501 to 62000\n",
      "Scraping articles 62001 to 62500\n",
      "Scraping articles 62501 to 63000\n",
      "Scraping articles 63001 to 63500\n",
      "Scraping articles 63501 to 64000\n",
      "Scraping articles 64001 to 64500\n",
      "Scraping articles 64501 to 65000\n",
      "Scraping articles 65001 to 65500\n",
      "Scraping articles 65501 to 66000\n",
      "Scraping articles 66001 to 66500\n",
      "Scraping articles 66501 to 67000\n",
      "Scraping articles 67001 to 67500\n",
      "Scraping articles 67501 to 68000\n",
      "Scraping articles 68001 to 68500\n",
      "Scraping articles 68501 to 69000\n",
      "Scraping articles 69001 to 69500\n",
      "Scraping articles 69501 to 70000\n",
      "Scraping articles 70001 to 70500\n",
      "Scraping articles 70501 to 71000\n",
      "Scraping articles 71001 to 71500\n",
      "Scraping articles 71501 to 72000\n",
      "Scraping articles 72001 to 72500\n",
      "Scraping articles 72501 to 73000\n",
      "Scraping articles 73001 to 73500\n",
      "Scraping articles 73501 to 74000\n",
      "Scraping articles 74001 to 74500\n",
      "Scraping articles 74501 to 75000\n",
      "Scraping articles 75001 to 75500\n",
      "Scraping articles 75501 to 76000\n",
      "Scraping articles 76001 to 76500\n",
      "Scraping articles 76501 to 77000\n",
      "Scraping articles 77001 to 77500\n",
      "Scraping articles 77501 to 78000\n",
      "Scraping articles 78001 to 78500\n",
      "Scraping articles 78501 to 79000\n",
      "Scraping articles 79001 to 79500\n",
      "Scraping articles 79501 to 80000\n",
      "Scraping articles 80001 to 80500\n",
      "Scraping articles 80501 to 81000\n",
      "Scraping articles 81001 to 81500\n",
      "Scraping articles 81501 to 82000\n",
      "Scraping articles 82001 to 82500\n",
      "Scraping articles 82501 to 83000\n",
      "Scraping articles 83001 to 83500\n",
      "Scraping articles 83501 to 84000\n",
      "Scraping articles 84001 to 84500\n",
      "Scraping articles 84501 to 85000\n",
      "Scraping articles 85001 to 85500\n",
      "Scraping articles 85501 to 86000\n",
      "Scraping articles 86001 to 86500\n",
      "Scraping articles 86501 to 87000\n",
      "Scraping articles 87001 to 87500\n",
      "Scraping articles 87501 to 88000\n",
      "Scraping articles 88001 to 88500\n",
      "Scraping articles 88501 to 89000\n",
      "Scraping articles 89001 to 89500\n",
      "Scraping articles 89501 to 90000\n"
     ]
    }
   ],
   "source": [
    "webscraping_article_range(website, 4, 60000, 90000)"
   ]
  },
  {
   "cell_type": "code",
   "execution_count": 24,
   "metadata": {},
   "outputs": [
    {
     "name": "stdout",
     "output_type": "stream",
     "text": [
      "Scraping articles 33502 to 34000\n"
     ]
    }
   ],
   "source": [
    "webscraping_article_range(website, 4, 33501, 34000)"
   ]
  },
  {
   "cell_type": "code",
   "execution_count": null,
   "metadata": {},
   "outputs": [],
   "source": [
    "webscraping_article_range(website, 4, 111000, 114923)"
   ]
  },
  {
   "cell_type": "code",
   "execution_count": 16,
   "metadata": {},
   "outputs": [
    {
     "name": "stdout",
     "output_type": "stream",
     "text": [
      "Scraping articles 1 to 29\n",
      "Scraping articles 1 to 33\n",
      "Scraping articles 1 to 24\n",
      "Scraping articles 1 to 34\n",
      "Scraping articles 1 to 43\n",
      "Scraping articles 1 to 56\n",
      "Scraping articles 1 to 54\n",
      "Scraping articles 1 to 64\n",
      "Scraping articles 1 to 84\n",
      "Scraping articles 1 to 90\n"
     ]
    }
   ],
   "source": [
    "webscraping_wos_range(website, 1990, 1999)"
   ]
  },
  {
   "cell_type": "code",
   "execution_count": 17,
   "metadata": {},
   "outputs": [
    {
     "name": "stdout",
     "output_type": "stream",
     "text": [
      "Scraping articles 1 to 16\n",
      "Scraping articles 1 to 6\n",
      "Scraping articles 1 to 10\n",
      "Scraping articles 1 to 7\n",
      "Scraping articles 1 to 3\n",
      "Scraping articles 1 to 6\n",
      "Scraping articles 1 to 12\n",
      "Scraping articles 1 to 15\n",
      "Scraping articles 1 to 14\n",
      "Scraping articles 1 to 11\n"
     ]
    }
   ],
   "source": [
    "webscraping_wos_range(website, 1980, 1989)"
   ]
  },
  {
   "cell_type": "markdown",
   "metadata": {},
   "source": [
    "## Join data into less datasets"
   ]
  },
  {
   "cell_type": "code",
   "execution_count": 77,
   "metadata": {},
   "outputs": [],
   "source": [
    "folder_list =  [f\"{i}-{i+99}\" for i in range(100, 1701, 100)]\n",
    "problem_files = []"
   ]
  },
  {
   "cell_type": "code",
   "execution_count": null,
   "metadata": {},
   "outputs": [],
   "source": [
    "for range_journals in tqdm(folder_list):\n",
    "    filnames = os.listdir(f\"C:/Users/isabe/Desktop/Tese/journals{range_journals}\")\n",
    "    journals_data = pd.DataFrame()\n",
    "    for file in filnames:\n",
    "        try: \n",
    "            data = pd.read_csv(f\"C:/Users/isabe/Desktop/Tese/journals{range_journals}/{file}\", sep = '\\t')\n",
    "            journals_data = pd.concat([journals_data, data], ignore_index= True)\n",
    "        except:\n",
    "            problem_files.append(file)\n",
    "    journals_data.to_csv(f'./retractions_data/journals_data{range_journals}.csv', index= False)"
   ]
  },
  {
   "cell_type": "code",
   "execution_count": null,
   "metadata": {},
   "outputs": [],
   "source": [
    "folder = \"400-499\"\n",
    "filnames = os.listdir(f\"C:/Users/isabe/Desktop/Tese/journals{folder}\")\n",
    "journals_data = pd.DataFrame()\n",
    "for file in filnames:\n",
    "    try: \n",
    "        data = pd.read_csv(f\"C:/Users/isabe/Desktop/Tese/journals{folder}/{file}\", sep = '\\t')\n",
    "        journals_data = pd.concat([journals_data, data], ignore_index= True)\n",
    "    except:\n",
    "        problem_files.append(file)"
   ]
  },
  {
   "cell_type": "code",
   "execution_count": null,
   "metadata": {},
   "outputs": [],
   "source": [
    "journals_data.to_csv(f'./retractions_data/journals_data{folder}.csv', index= False)"
   ]
  },
  {
   "cell_type": "code",
   "execution_count": null,
   "metadata": {},
   "outputs": [],
   "source": [
    "problem_files"
   ]
  },
  {
   "cell_type": "markdown",
   "metadata": {},
   "source": [
    "## Check if Journals were all scraped"
   ]
  },
  {
   "cell_type": "markdown",
   "metadata": {},
   "source": [
    "_____end here_____"
   ]
  },
  {
   "cell_type": "code",
   "execution_count": 18,
   "metadata": {},
   "outputs": [
    {
     "name": "stdout",
     "output_type": "stream",
     "text": [
      "Number of 'savedrecs' CSV files in Downloads: 61\n"
     ]
    }
   ],
   "source": [
    "downloads_folder =  os.path.expanduser('~') + '/Downloads' #\"C:/Users/isabe/Downloads\"\n",
    "count = 0\n",
    "\n",
    "# List all files in the Downloads folder\n",
    "for filename in os.listdir(downloads_folder):\n",
    "    # Check if the filename contains \"savedrecs\" and ends with \".csv\"\n",
    "    if \"savedrecs\" in filename and filename.endswith(\".txt\"):\n",
    "        count += 1\n",
    "\n",
    "print(f\"Number of 'savedrecs' CSV files in Downloads: {count}\")"
   ]
  },
  {
   "cell_type": "code",
   "execution_count": 27,
   "metadata": {},
   "outputs": [],
   "source": [
    "retractions_data = pd.DataFrame()\n",
    "for file in range(count):\n",
    "    if file == 0:\n",
    "        data = pd.read_csv(\"C:/Users/isabe/Downloads/savedrecs.txt\", sep = '\\t')\n",
    "        retractions_data = pd.concat([retractions_data, data], ignore_index= True)\n",
    "    else:\n",
    "        data = pd.read_csv(f\"C:/Users/isabe/Downloads/savedrecs ({file}).txt\", sep = '\\t')\n",
    "        retractions_data = pd.concat([retractions_data, data], ignore_index= True)"
   ]
  },
  {
   "cell_type": "code",
   "execution_count": 31,
   "metadata": {},
   "outputs": [
    {
     "data": {
      "text/plain": [
       "Index(['Publication Type', 'Authors', 'Book Authors', 'Editors',\n",
       "       'Book Group Authors', 'Author Full Name', 'Book Authors Full Name',\n",
       "       'Group Authors', 'Document Title', 'Publication Name',\n",
       "       'Book Series Title', 'Book Series Subtitle', 'Language',\n",
       "       'Document Type', 'Conference Title', 'Conference Date',\n",
       "       'Conference Location', 'Conference Sponsors', 'Conference Host',\n",
       "       'Author Keywords', 'Keywords Plus', 'Abstract', 'Author Address', 'C3',\n",
       "       'Reprint Address', 'E-mail Address', 'ResearcherID Number',\n",
       "       'ORCID Identifier (Open Researcher and Contributor ID)',\n",
       "       'Funding Agency and Grant Number', 'FP', 'Funding Text',\n",
       "       'Cited References', 'Cited Reference Count',\n",
       "       'Web of Science Core Collection Times Cited Count',\n",
       "       'Total Times Cited Count', 'Usage Count (Last 180 Days)',\n",
       "       'Usage Count (Since 2013)', 'Publisher', 'Publisher City',\n",
       "       'Publisher Address', 'International Standard Serial Number (ISSN)',\n",
       "       'Electronic International Standard Serial Number (eISSN)',\n",
       "       'International Standard Book Number (ISBN)',\n",
       "       '29-Character Source Abbreviation', 'ISO Source Abbreviation',\n",
       "       'Publication Date', 'Year Published', 'Volume', 'Issue', 'Part Number',\n",
       "       'Supplement', 'Special Issue', 'Meeting Abstract', 'Beginning Page',\n",
       "       'Ending Page', 'Article Number', 'Digital Object Identifier (DOI)',\n",
       "       'DL', 'Book Digital Object Identifier (DOI)', 'Early access date',\n",
       "       'Page Count', 'Web of Science Categories', 'WE', 'Research Areas',\n",
       "       'Document Delivery Number', 'PubMed ID', 'Open Access Indicator',\n",
       "       'ESI Highly Cited Paper', 'ESI Hot Paper',\n",
       "       'Date this report was generated', 'Accession Number'],\n",
       "      dtype='object')"
      ]
     },
     "execution_count": 31,
     "metadata": {},
     "output_type": "execute_result"
    }
   ],
   "source": [
    "rename_columns = {\n",
    "    \"FN\": \"File Name\",\n",
    "    \"VR\": \"Version Number\",\n",
    "    \"PT\": \"Publication Type\", # (J=Journal; B=Book; S=Series; P=Patent)\n",
    "    \"AU\": \"Authors\",\n",
    "    \"AF\": \"Author Full Name\",\n",
    "    \"BA\": \"Book Authors\",\n",
    "    \"BF\": \"Book Authors Full Name\",\n",
    "    \"CA\": \"Group Authors\",\n",
    "    \"GP\": \"Book Group Authors\",\n",
    "    \"BE\": \"Editors\",\n",
    "    \"TI\": \"Document Title\",\n",
    "    \"SO\": \"Publication Name\",\n",
    "    \"SE\": \"Book Series Title\",\n",
    "    \"BS\": \"Book Series Subtitle\",\n",
    "    \"LA\": \"Language\",\n",
    "    \"DT\": \"Document Type\",\n",
    "    \"CT\": \"Conference Title\",\n",
    "    \"CY\": \"Conference Date\",\n",
    "    \"CL\": \"Conference Location\",\n",
    "    \"SP\": \"Conference Sponsors\",\n",
    "    \"HO\": \"Conference Host\",\n",
    "    \"DE\": \"Author Keywords\",\n",
    "    \"ID\": \"Keywords Plus\",\n",
    "    \"AB\": \"Abstract\",\n",
    "    \"C1\": \"Author Address\",\n",
    "    \"RP\": \"Reprint Address\",\n",
    "    \"EM\": \"E-mail Address\",\n",
    "    \"RI\": \"ResearcherID Number\",\n",
    "    \"OI\": \"ORCID Identifier (Open Researcher and Contributor ID)\",\n",
    "    \"FU\": \"Funding Agency and Grant Number\",\n",
    "    'FP': 'Funding Name Preferred',\n",
    "    \"FX\": \"Funding Text\",\n",
    "    \"CR\": \"Cited References\",\n",
    "    \"NR\": \"Cited Reference Count\",\n",
    "    \"TC\": \"Web of Science Core Collection Times Cited Count\",\n",
    "    \"Z9\": \"Total Times Cited Count\",\n",
    "    \"U1\": \"Usage Count (Last 180 Days)\",\n",
    "    \"U2\": \"Usage Count (Since 2013)\",\n",
    "    \"PU\": \"Publisher\",\n",
    "    \"PI\": \"Publisher City\",\n",
    "    \"PA\": \"Publisher Address\",\n",
    "    \"SN\": \"International Standard Serial Number (ISSN)\",\n",
    "    \"EI\": \"Electronic International Standard Serial Number (eISSN)\",\n",
    "    \"BN\": \"International Standard Book Number (ISBN)\",\n",
    "    \"J9\": \"29-Character Source Abbreviation\",\n",
    "    \"JI\": \"ISO Source Abbreviation\",\n",
    "    \"PD\": \"Publication Date\",\n",
    "    \"PY\": \"Year Published\",\n",
    "    \"VL\": \"Volume\",\n",
    "    \"IS\": \"Issue\",\n",
    "    \"SI\": \"Special Issue\",\n",
    "    \"PN\": \"Part Number\",\n",
    "    \"SU\": \"Supplement\",\n",
    "    \"MA\": \"Meeting Abstract\",\n",
    "    \"BP\": \"Beginning Page\",\n",
    "    \"EP\": \"Ending Page\",\n",
    "    \"AR\": \"Article Number\",\n",
    "    \"DI\": \"Digital Object Identifier (DOI)\",\n",
    "    'DL': 'DOI Link',\n",
    "    \"D2\": \"Book Digital Object Identifier (DOI)\",\n",
    "    \"EA\": \"Early access date\",\n",
    "    \"EY\": \"Early access year\",\n",
    "    \"PG\": \"Page Count\",\n",
    "    \"P2\": \"Chapter Count (Book Citation Index)\",\n",
    "    \"WC\": \"Web of Science Categories\",\n",
    "    'WE': 'Web of Science Index',\n",
    "    \"SC\": \"Research Areas\",\n",
    "    \"GA\": \"Document Delivery Number\",\n",
    "    \"PM\": \"PubMed ID\",\n",
    "    \"UT\": \"Accession Number\",\n",
    "    \"OA\": \"Open Access Indicator\",\n",
    "    \"HP\": \"ESI Hot Paper\", # Note that this field is valued only for ESI subscribers.\n",
    "    \"HC\": \"ESI Highly Cited Paper\", # Note that this field is valued only for ESI subscribers.\n",
    "    \"DA\": \"Date this report was generated\",\n",
    "    \"ER\": \"End of Record\",\n",
    "    \"EF\": \"End of File\"\n",
    "}\n",
    "\n",
    "retractions_data.rename(columns = rename_columns, inplace = True)\n",
    "retractions_data.columns"
   ]
  },
  {
   "cell_type": "code",
   "execution_count": 32,
   "metadata": {},
   "outputs": [
    {
     "data": {
      "text/html": [
       "<div>\n",
       "<style scoped>\n",
       "    .dataframe tbody tr th:only-of-type {\n",
       "        vertical-align: middle;\n",
       "    }\n",
       "\n",
       "    .dataframe tbody tr th {\n",
       "        vertical-align: top;\n",
       "    }\n",
       "\n",
       "    .dataframe thead th {\n",
       "        text-align: right;\n",
       "    }\n",
       "</style>\n",
       "<table border=\"1\" class=\"dataframe\">\n",
       "  <thead>\n",
       "    <tr style=\"text-align: right;\">\n",
       "      <th></th>\n",
       "      <th>Publication Type</th>\n",
       "      <th>Authors</th>\n",
       "      <th>Book Authors</th>\n",
       "      <th>Editors</th>\n",
       "      <th>Book Group Authors</th>\n",
       "      <th>Author Full Name</th>\n",
       "      <th>Book Authors Full Name</th>\n",
       "      <th>Group Authors</th>\n",
       "      <th>Document Title</th>\n",
       "      <th>Publication Name</th>\n",
       "      <th>...</th>\n",
       "      <th>Web of Science Categories</th>\n",
       "      <th>WE</th>\n",
       "      <th>Research Areas</th>\n",
       "      <th>Document Delivery Number</th>\n",
       "      <th>PubMed ID</th>\n",
       "      <th>Open Access Indicator</th>\n",
       "      <th>ESI Highly Cited Paper</th>\n",
       "      <th>ESI Hot Paper</th>\n",
       "      <th>Date this report was generated</th>\n",
       "      <th>Accession Number</th>\n",
       "    </tr>\n",
       "  </thead>\n",
       "  <tbody>\n",
       "    <tr>\n",
       "      <th>0</th>\n",
       "      <td>J</td>\n",
       "      <td>Qiang, RL; Guang, LF; Hua, SY; Maia, D</td>\n",
       "      <td>NaN</td>\n",
       "      <td>NaN</td>\n",
       "      <td>NaN</td>\n",
       "      <td>Qiang, Ran Li; Guang, Li Fa; Hua, Sun Yan; Mai...</td>\n",
       "      <td>NaN</td>\n",
       "      <td>NaN</td>\n",
       "      <td>RETRACTED: Art Research Based on Machine Learn...</td>\n",
       "      <td>SECURITY AND COMMUNICATION NETWORKS</td>\n",
       "      <td>...</td>\n",
       "      <td>Computer Science, Information Systems; Telecom...</td>\n",
       "      <td>Science Citation Index Expanded (SCI-EXPANDED)</td>\n",
       "      <td>Computer Science; Telecommunications</td>\n",
       "      <td>1M9VB</td>\n",
       "      <td>NaN</td>\n",
       "      <td>gold</td>\n",
       "      <td>NaN</td>\n",
       "      <td>NaN</td>\n",
       "      <td>2023-11-05</td>\n",
       "      <td>WOS:000800311400007</td>\n",
       "    </tr>\n",
       "    <tr>\n",
       "      <th>1</th>\n",
       "      <td>J</td>\n",
       "      <td>Fan, L; Xia, MY; Huang, P; Hu, JM</td>\n",
       "      <td>NaN</td>\n",
       "      <td>NaN</td>\n",
       "      <td>NaN</td>\n",
       "      <td>Fan, Ling; Xia, Meiyi; Huang, Ping; Hu, Jianmin</td>\n",
       "      <td>NaN</td>\n",
       "      <td>NaN</td>\n",
       "      <td>RETRACTED: Research on Educational Information...</td>\n",
       "      <td>SECURITY AND COMMUNICATION NETWORKS</td>\n",
       "      <td>...</td>\n",
       "      <td>Computer Science, Information Systems; Telecom...</td>\n",
       "      <td>Science Citation Index Expanded (SCI-EXPANDED)</td>\n",
       "      <td>Computer Science; Telecommunications</td>\n",
       "      <td>UW7ON</td>\n",
       "      <td>NaN</td>\n",
       "      <td>gold</td>\n",
       "      <td>NaN</td>\n",
       "      <td>NaN</td>\n",
       "      <td>2023-11-05</td>\n",
       "      <td>WOS:000700342400003</td>\n",
       "    </tr>\n",
       "    <tr>\n",
       "      <th>2</th>\n",
       "      <td>J</td>\n",
       "      <td>Peng, AH; Liu, CW; Yang, L</td>\n",
       "      <td>NaN</td>\n",
       "      <td>NaN</td>\n",
       "      <td>NaN</td>\n",
       "      <td>Peng, Anhua; Liu, Chengwen; Yang, Le</td>\n",
       "      <td>NaN</td>\n",
       "      <td>NaN</td>\n",
       "      <td>RETRACTED: Intelligent electrical equipment fi...</td>\n",
       "      <td>EURASIP JOURNAL ON ADVANCES IN SIGNAL PROCESSING</td>\n",
       "      <td>...</td>\n",
       "      <td>Engineering, Electrical &amp; Electronic</td>\n",
       "      <td>Science Citation Index Expanded (SCI-EXPANDED)</td>\n",
       "      <td>Engineering</td>\n",
       "      <td>UU7XW</td>\n",
       "      <td>NaN</td>\n",
       "      <td>gold</td>\n",
       "      <td>NaN</td>\n",
       "      <td>NaN</td>\n",
       "      <td>2023-11-05</td>\n",
       "      <td>WOS:000699010400001</td>\n",
       "    </tr>\n",
       "    <tr>\n",
       "      <th>3</th>\n",
       "      <td>J</td>\n",
       "      <td>Cui, LH</td>\n",
       "      <td>NaN</td>\n",
       "      <td>NaN</td>\n",
       "      <td>NaN</td>\n",
       "      <td>Cui, Lianhe</td>\n",
       "      <td>NaN</td>\n",
       "      <td>NaN</td>\n",
       "      <td>RETRACTED: Research on English translation dis...</td>\n",
       "      <td>EURASIP JOURNAL ON IMAGE AND VIDEO PROCESSING</td>\n",
       "      <td>...</td>\n",
       "      <td>Engineering, Electrical &amp; Electronic; Imaging ...</td>\n",
       "      <td>Science Citation Index Expanded (SCI-EXPANDED)</td>\n",
       "      <td>Engineering; Imaging Science &amp; Photographic Te...</td>\n",
       "      <td>HJ4MN</td>\n",
       "      <td>NaN</td>\n",
       "      <td>gold</td>\n",
       "      <td>NaN</td>\n",
       "      <td>NaN</td>\n",
       "      <td>2023-11-05</td>\n",
       "      <td>WOS:000457148200002</td>\n",
       "    </tr>\n",
       "    <tr>\n",
       "      <th>4</th>\n",
       "      <td>J</td>\n",
       "      <td>Zhu, SS</td>\n",
       "      <td>NaN</td>\n",
       "      <td>NaN</td>\n",
       "      <td>NaN</td>\n",
       "      <td>Zhu, Shanshan</td>\n",
       "      <td>NaN</td>\n",
       "      <td>NaN</td>\n",
       "      <td>RETRACTED: Real-time detection of aerobics pos...</td>\n",
       "      <td>EURASIP JOURNAL ON ADVANCES IN SIGNAL PROCESSING</td>\n",
       "      <td>...</td>\n",
       "      <td>Engineering, Electrical &amp; Electronic</td>\n",
       "      <td>Science Citation Index Expanded (SCI-EXPANDED)</td>\n",
       "      <td>Engineering</td>\n",
       "      <td>XA5VI</td>\n",
       "      <td>NaN</td>\n",
       "      <td>gold</td>\n",
       "      <td>NaN</td>\n",
       "      <td>NaN</td>\n",
       "      <td>2023-11-05</td>\n",
       "      <td>WOS:000720713700001</td>\n",
       "    </tr>\n",
       "    <tr>\n",
       "      <th>...</th>\n",
       "      <td>...</td>\n",
       "      <td>...</td>\n",
       "      <td>...</td>\n",
       "      <td>...</td>\n",
       "      <td>...</td>\n",
       "      <td>...</td>\n",
       "      <td>...</td>\n",
       "      <td>...</td>\n",
       "      <td>...</td>\n",
       "      <td>...</td>\n",
       "      <td>...</td>\n",
       "      <td>...</td>\n",
       "      <td>...</td>\n",
       "      <td>...</td>\n",
       "      <td>...</td>\n",
       "      <td>...</td>\n",
       "      <td>...</td>\n",
       "      <td>...</td>\n",
       "      <td>...</td>\n",
       "      <td>...</td>\n",
       "      <td>...</td>\n",
       "    </tr>\n",
       "    <tr>\n",
       "      <th>23553</th>\n",
       "      <td>J</td>\n",
       "      <td>GROSSARTHMATICEK, R; EYSENCK, HJ</td>\n",
       "      <td>NaN</td>\n",
       "      <td>NaN</td>\n",
       "      <td>NaN</td>\n",
       "      <td>GROSSARTHMATICEK, R; EYSENCK, HJ</td>\n",
       "      <td>NaN</td>\n",
       "      <td>NaN</td>\n",
       "      <td>RETRACTED: LENGTH OF SURVIVAL AND LYMPHOCYTE P...</td>\n",
       "      <td>PSYCHOLOGICAL REPORTS</td>\n",
       "      <td>...</td>\n",
       "      <td>Psychology, Multidisciplinary</td>\n",
       "      <td>Social Science Citation Index (SSCI)</td>\n",
       "      <td>Psychology</td>\n",
       "      <td>AN942</td>\n",
       "      <td>2780939.0</td>\n",
       "      <td>NaN</td>\n",
       "      <td>NaN</td>\n",
       "      <td>NaN</td>\n",
       "      <td>2023-11-05</td>\n",
       "      <td>WOS:A1989AN94200055</td>\n",
       "    </tr>\n",
       "    <tr>\n",
       "      <th>23554</th>\n",
       "      <td>J</td>\n",
       "      <td>CHANDRA, RK; PURI, S; HAMED, A</td>\n",
       "      <td>NaN</td>\n",
       "      <td>NaN</td>\n",
       "      <td>NaN</td>\n",
       "      <td>CHANDRA, RK; PURI, S; HAMED, A</td>\n",
       "      <td>NaN</td>\n",
       "      <td>NaN</td>\n",
       "      <td>RETRACTED: INFLUENCE OF MATERNAL DIET DURING L...</td>\n",
       "      <td>BMJ-BRITISH MEDICAL JOURNAL</td>\n",
       "      <td>...</td>\n",
       "      <td>Medicine, General &amp; Internal</td>\n",
       "      <td>Science Citation Index Expanded (SCI-EXPANDED)</td>\n",
       "      <td>General &amp; Internal Medicine</td>\n",
       "      <td>AG617</td>\n",
       "      <td>2504375.0</td>\n",
       "      <td>Green Published, hybrid</td>\n",
       "      <td>NaN</td>\n",
       "      <td>NaN</td>\n",
       "      <td>2023-11-05</td>\n",
       "      <td>WOS:A1989AG61700016</td>\n",
       "    </tr>\n",
       "    <tr>\n",
       "      <th>23555</th>\n",
       "      <td>J</td>\n",
       "      <td>AITKEN, JC; THOMPSON, J</td>\n",
       "      <td>NaN</td>\n",
       "      <td>NaN</td>\n",
       "      <td>NaN</td>\n",
       "      <td>AITKEN, JC; THOMPSON, J</td>\n",
       "      <td>NaN</td>\n",
       "      <td>NaN</td>\n",
       "      <td>RETRACTED: THE EFFECTS OF DIETARY MANIPULATION...</td>\n",
       "      <td>EUROPEAN JOURNAL OF APPLIED PHYSIOLOGY</td>\n",
       "      <td>...</td>\n",
       "      <td>Physiology; Sport Sciences</td>\n",
       "      <td>Science Citation Index Expanded (SCI-EXPANDED)</td>\n",
       "      <td>Physiology; Sport Sciences</td>\n",
       "      <td>U8775</td>\n",
       "      <td>2737192.0</td>\n",
       "      <td>NaN</td>\n",
       "      <td>NaN</td>\n",
       "      <td>NaN</td>\n",
       "      <td>2023-11-05</td>\n",
       "      <td>WOS:A1989U877500008</td>\n",
       "    </tr>\n",
       "    <tr>\n",
       "      <th>23556</th>\n",
       "      <td>J</td>\n",
       "      <td>BOLDT, J; KLING, D; VONBORMANN, B; ZUGE, M; SC...</td>\n",
       "      <td>NaN</td>\n",
       "      <td>NaN</td>\n",
       "      <td>NaN</td>\n",
       "      <td>BOLDT, J; KLING, D; VONBORMANN, B; ZUGE, M; SC...</td>\n",
       "      <td>NaN</td>\n",
       "      <td>NaN</td>\n",
       "      <td>RETRACTED: BLOOD CONSERVATION IN CARDIAC OPERA...</td>\n",
       "      <td>JOURNAL OF THORACIC AND CARDIOVASCULAR SURGERY</td>\n",
       "      <td>...</td>\n",
       "      <td>Cardiac &amp; Cardiovascular Systems; Respiratory ...</td>\n",
       "      <td>Science Citation Index Expanded (SCI-EXPANDED)</td>\n",
       "      <td>Cardiovascular System &amp; Cardiology; Respirator...</td>\n",
       "      <td>AA700</td>\n",
       "      <td>2786116.0</td>\n",
       "      <td>NaN</td>\n",
       "      <td>NaN</td>\n",
       "      <td>NaN</td>\n",
       "      <td>2023-11-05</td>\n",
       "      <td>WOS:A1989AA70000004</td>\n",
       "    </tr>\n",
       "    <tr>\n",
       "      <th>23557</th>\n",
       "      <td>J</td>\n",
       "      <td>KUZNETSOV, DA</td>\n",
       "      <td>NaN</td>\n",
       "      <td>NaN</td>\n",
       "      <td>NaN</td>\n",
       "      <td>KUZNETSOV, DA</td>\n",
       "      <td>NaN</td>\n",
       "      <td>NaN</td>\n",
       "      <td>RETRACTED: INVITRO STUDIES OF INTERACTIONS BET...</td>\n",
       "      <td>INTERNATIONAL JOURNAL OF NEUROSCIENCE</td>\n",
       "      <td>...</td>\n",
       "      <td>Neurosciences</td>\n",
       "      <td>Science Citation Index Expanded (SCI-EXPANDED)</td>\n",
       "      <td>Neurosciences &amp; Neurology</td>\n",
       "      <td>CC799</td>\n",
       "      <td>2691420.0</td>\n",
       "      <td>NaN</td>\n",
       "      <td>NaN</td>\n",
       "      <td>NaN</td>\n",
       "      <td>2023-11-05</td>\n",
       "      <td>WOS:A1989CC79900002</td>\n",
       "    </tr>\n",
       "  </tbody>\n",
       "</table>\n",
       "<p>23558 rows × 71 columns</p>\n",
       "</div>"
      ],
      "text/plain": [
       "      Publication Type                                            Authors  \\\n",
       "0                    J             Qiang, RL; Guang, LF; Hua, SY; Maia, D   \n",
       "1                    J                  Fan, L; Xia, MY; Huang, P; Hu, JM   \n",
       "2                    J                         Peng, AH; Liu, CW; Yang, L   \n",
       "3                    J                                            Cui, LH   \n",
       "4                    J                                            Zhu, SS   \n",
       "...                ...                                                ...   \n",
       "23553                J                   GROSSARTHMATICEK, R; EYSENCK, HJ   \n",
       "23554                J                     CHANDRA, RK; PURI, S; HAMED, A   \n",
       "23555                J                            AITKEN, JC; THOMPSON, J   \n",
       "23556                J  BOLDT, J; KLING, D; VONBORMANN, B; ZUGE, M; SC...   \n",
       "23557                J                                      KUZNETSOV, DA   \n",
       "\n",
       "      Book Authors Editors Book Group Authors  \\\n",
       "0              NaN     NaN                NaN   \n",
       "1              NaN     NaN                NaN   \n",
       "2              NaN     NaN                NaN   \n",
       "3              NaN     NaN                NaN   \n",
       "4              NaN     NaN                NaN   \n",
       "...            ...     ...                ...   \n",
       "23553          NaN     NaN                NaN   \n",
       "23554          NaN     NaN                NaN   \n",
       "23555          NaN     NaN                NaN   \n",
       "23556          NaN     NaN                NaN   \n",
       "23557          NaN     NaN                NaN   \n",
       "\n",
       "                                        Author Full Name  \\\n",
       "0      Qiang, Ran Li; Guang, Li Fa; Hua, Sun Yan; Mai...   \n",
       "1        Fan, Ling; Xia, Meiyi; Huang, Ping; Hu, Jianmin   \n",
       "2                   Peng, Anhua; Liu, Chengwen; Yang, Le   \n",
       "3                                            Cui, Lianhe   \n",
       "4                                          Zhu, Shanshan   \n",
       "...                                                  ...   \n",
       "23553                   GROSSARTHMATICEK, R; EYSENCK, HJ   \n",
       "23554                     CHANDRA, RK; PURI, S; HAMED, A   \n",
       "23555                            AITKEN, JC; THOMPSON, J   \n",
       "23556  BOLDT, J; KLING, D; VONBORMANN, B; ZUGE, M; SC...   \n",
       "23557                                      KUZNETSOV, DA   \n",
       "\n",
       "      Book Authors Full Name Group Authors  \\\n",
       "0                        NaN           NaN   \n",
       "1                        NaN           NaN   \n",
       "2                        NaN           NaN   \n",
       "3                        NaN           NaN   \n",
       "4                        NaN           NaN   \n",
       "...                      ...           ...   \n",
       "23553                    NaN           NaN   \n",
       "23554                    NaN           NaN   \n",
       "23555                    NaN           NaN   \n",
       "23556                    NaN           NaN   \n",
       "23557                    NaN           NaN   \n",
       "\n",
       "                                          Document Title  \\\n",
       "0      RETRACTED: Art Research Based on Machine Learn...   \n",
       "1      RETRACTED: Research on Educational Information...   \n",
       "2      RETRACTED: Intelligent electrical equipment fi...   \n",
       "3      RETRACTED: Research on English translation dis...   \n",
       "4      RETRACTED: Real-time detection of aerobics pos...   \n",
       "...                                                  ...   \n",
       "23553  RETRACTED: LENGTH OF SURVIVAL AND LYMPHOCYTE P...   \n",
       "23554  RETRACTED: INFLUENCE OF MATERNAL DIET DURING L...   \n",
       "23555  RETRACTED: THE EFFECTS OF DIETARY MANIPULATION...   \n",
       "23556  RETRACTED: BLOOD CONSERVATION IN CARDIAC OPERA...   \n",
       "23557  RETRACTED: INVITRO STUDIES OF INTERACTIONS BET...   \n",
       "\n",
       "                                       Publication Name  ...  \\\n",
       "0                   SECURITY AND COMMUNICATION NETWORKS  ...   \n",
       "1                   SECURITY AND COMMUNICATION NETWORKS  ...   \n",
       "2      EURASIP JOURNAL ON ADVANCES IN SIGNAL PROCESSING  ...   \n",
       "3         EURASIP JOURNAL ON IMAGE AND VIDEO PROCESSING  ...   \n",
       "4      EURASIP JOURNAL ON ADVANCES IN SIGNAL PROCESSING  ...   \n",
       "...                                                 ...  ...   \n",
       "23553                             PSYCHOLOGICAL REPORTS  ...   \n",
       "23554                       BMJ-BRITISH MEDICAL JOURNAL  ...   \n",
       "23555            EUROPEAN JOURNAL OF APPLIED PHYSIOLOGY  ...   \n",
       "23556    JOURNAL OF THORACIC AND CARDIOVASCULAR SURGERY  ...   \n",
       "23557             INTERNATIONAL JOURNAL OF NEUROSCIENCE  ...   \n",
       "\n",
       "                               Web of Science Categories  \\\n",
       "0      Computer Science, Information Systems; Telecom...   \n",
       "1      Computer Science, Information Systems; Telecom...   \n",
       "2                   Engineering, Electrical & Electronic   \n",
       "3      Engineering, Electrical & Electronic; Imaging ...   \n",
       "4                   Engineering, Electrical & Electronic   \n",
       "...                                                  ...   \n",
       "23553                      Psychology, Multidisciplinary   \n",
       "23554                       Medicine, General & Internal   \n",
       "23555                         Physiology; Sport Sciences   \n",
       "23556  Cardiac & Cardiovascular Systems; Respiratory ...   \n",
       "23557                                      Neurosciences   \n",
       "\n",
       "                                                   WE  \\\n",
       "0      Science Citation Index Expanded (SCI-EXPANDED)   \n",
       "1      Science Citation Index Expanded (SCI-EXPANDED)   \n",
       "2      Science Citation Index Expanded (SCI-EXPANDED)   \n",
       "3      Science Citation Index Expanded (SCI-EXPANDED)   \n",
       "4      Science Citation Index Expanded (SCI-EXPANDED)   \n",
       "...                                               ...   \n",
       "23553            Social Science Citation Index (SSCI)   \n",
       "23554  Science Citation Index Expanded (SCI-EXPANDED)   \n",
       "23555  Science Citation Index Expanded (SCI-EXPANDED)   \n",
       "23556  Science Citation Index Expanded (SCI-EXPANDED)   \n",
       "23557  Science Citation Index Expanded (SCI-EXPANDED)   \n",
       "\n",
       "                                          Research Areas  \\\n",
       "0                   Computer Science; Telecommunications   \n",
       "1                   Computer Science; Telecommunications   \n",
       "2                                            Engineering   \n",
       "3      Engineering; Imaging Science & Photographic Te...   \n",
       "4                                            Engineering   \n",
       "...                                                  ...   \n",
       "23553                                         Psychology   \n",
       "23554                        General & Internal Medicine   \n",
       "23555                         Physiology; Sport Sciences   \n",
       "23556  Cardiovascular System & Cardiology; Respirator...   \n",
       "23557                          Neurosciences & Neurology   \n",
       "\n",
       "      Document Delivery Number  PubMed ID    Open Access Indicator  \\\n",
       "0                        1M9VB        NaN                     gold   \n",
       "1                        UW7ON        NaN                     gold   \n",
       "2                        UU7XW        NaN                     gold   \n",
       "3                        HJ4MN        NaN                     gold   \n",
       "4                        XA5VI        NaN                     gold   \n",
       "...                        ...        ...                      ...   \n",
       "23553                    AN942  2780939.0                      NaN   \n",
       "23554                    AG617  2504375.0  Green Published, hybrid   \n",
       "23555                    U8775  2737192.0                      NaN   \n",
       "23556                    AA700  2786116.0                      NaN   \n",
       "23557                    CC799  2691420.0                      NaN   \n",
       "\n",
       "      ESI Highly Cited Paper ESI Hot Paper Date this report was generated  \\\n",
       "0                        NaN           NaN                     2023-11-05   \n",
       "1                        NaN           NaN                     2023-11-05   \n",
       "2                        NaN           NaN                     2023-11-05   \n",
       "3                        NaN           NaN                     2023-11-05   \n",
       "4                        NaN           NaN                     2023-11-05   \n",
       "...                      ...           ...                            ...   \n",
       "23553                    NaN           NaN                     2023-11-05   \n",
       "23554                    NaN           NaN                     2023-11-05   \n",
       "23555                    NaN           NaN                     2023-11-05   \n",
       "23556                    NaN           NaN                     2023-11-05   \n",
       "23557                    NaN           NaN                     2023-11-05   \n",
       "\n",
       "          Accession Number  \n",
       "0      WOS:000800311400007  \n",
       "1      WOS:000700342400003  \n",
       "2      WOS:000699010400001  \n",
       "3      WOS:000457148200002  \n",
       "4      WOS:000720713700001  \n",
       "...                    ...  \n",
       "23553  WOS:A1989AN94200055  \n",
       "23554  WOS:A1989AG61700016  \n",
       "23555  WOS:A1989U877500008  \n",
       "23556  WOS:A1989AA70000004  \n",
       "23557  WOS:A1989CC79900002  \n",
       "\n",
       "[23558 rows x 71 columns]"
      ]
     },
     "execution_count": 32,
     "metadata": {},
     "output_type": "execute_result"
    }
   ],
   "source": [
    "retractions_data"
   ]
  },
  {
   "cell_type": "code",
   "execution_count": 33,
   "metadata": {},
   "outputs": [],
   "source": [
    "retractions_data.to_csv('./retractions_data/wos_retractions_data.csv', index= False)"
   ]
  },
  {
   "cell_type": "markdown",
   "metadata": {},
   "source": [
    "### Importing the information to python"
   ]
  },
  {
   "cell_type": "code",
   "execution_count": 160,
   "metadata": {},
   "outputs": [],
   "source": [
    "# def import_text_files_as_dataframe(folder_path, prefix = ''):\n",
    "#     \"\"\"\n",
    "#     Import all text files from a folder whose names start with a specific prefix\n",
    "#     and concatenate them into a single pandas DataFrame.\n",
    "\n",
    "#     Parameters:\n",
    "#     - folder_path (str): The path to the folder containing the text files.\n",
    "#     - prefix (str, optional): The prefix that the filenames should start with. Default is an empty string.\n",
    "\n",
    "#     Returns:\n",
    "#     - pandas.DataFrame: A DataFrame containing the content of all matching text files.\n",
    "\n",
    "#     Description:\n",
    "#     This function reads all text files within a specified folder that have filenames\n",
    "#     starting with the provided prefix. It imports the content of these files and\n",
    "#     concatenates them into a single pandas DataFrame.\n",
    "\n",
    "#     - folder_path: The path to the folder containing the text files.\n",
    "#     - prefix: The prefix that the filenames should start with. If not provided, all text files\n",
    "#       in the folder will be imported.\n",
    "\n",
    "#     Example Usage:\n",
    "#     folder_path = '/path/to/your/folder'\n",
    "#     prefix = 'your_prefix'\n",
    "#     df = import_text_files_as_dataframe(folder_path, prefix)\n",
    "#     \"\"\"\n",
    "\n",
    "#     files_in_folder = os.listdir(folder_path)\n",
    "#     matching_files = [file for file in files_in_folder if file.startswith(prefix) and file.endswith('.txt')]\n",
    "\n",
    "#     if not matching_files:\n",
    "#         print(\"No matching files found.\")\n",
    "#         return None\n",
    "\n",
    "#     concat_df = pd.DataFrame()\n",
    "#     for file_name in matching_files:\n",
    "#         file_path = os.path.join(folder_path, file_name)\n",
    "#         df = pd.read_csv(file_path, sep = '\\t')\n",
    "#         concat_df = pd.concat([concat_df, df])\n",
    "        \n",
    "#     return concat_df"
   ]
  },
  {
   "cell_type": "code",
   "execution_count": 161,
   "metadata": {},
   "outputs": [],
   "source": [
    "# folder_path = os.path.join(work_path, \"WoS Electric Car tsv\")\n",
    "# prefix = 'savedrecs'\n",
    "\n",
    "# df = import_text_files_as_dataframe(folder_path, prefix)\n",
    "# df.head()"
   ]
  },
  {
   "cell_type": "code",
   "execution_count": 162,
   "metadata": {},
   "outputs": [],
   "source": [
    "# rename_columns = {\n",
    "#     \"FN\": \"File Name\",\n",
    "#     \"VR\": \"Version Number\",\n",
    "#     \"PT\": \"Publication Type\", # (J=Journal; B=Book; S=Series; P=Patent)\n",
    "#     \"AU\": \"Authors\",\n",
    "#     \"AF\": \"Author Full Name\",\n",
    "#     \"BA\": \"Book Authors\",\n",
    "#     \"BF\": \"Book Authors Full Name\",\n",
    "#     \"CA\": \"Group Authors\",\n",
    "#     \"GP\": \"Book Group Authors\",\n",
    "#     \"BE\": \"Editors\",\n",
    "#     \"TI\": \"Document Title\",\n",
    "#     \"SO\": \"Publication Name\",\n",
    "#     \"SE\": \"Book Series Title\",\n",
    "#     \"BS\": \"Book Series Subtitle\",\n",
    "#     \"LA\": \"Language\",\n",
    "#     \"DT\": \"Document Type\",\n",
    "#     \"CT\": \"Conference Title\",\n",
    "#     \"CY\": \"Conference Date\",\n",
    "#     \"CL\": \"Conference Location\",\n",
    "#     \"SP\": \"Conference Sponsors\",\n",
    "#     \"HO\": \"Conference Host\",\n",
    "#     \"DE\": \"Author Keywords\",\n",
    "#     \"ID\": \"Keywords Plus\",\n",
    "#     \"AB\": \"Abstract\",\n",
    "#     \"C1\": \"Author Address\",\n",
    "#     \"RP\": \"Reprint Address\",\n",
    "#     \"EM\": \"E-mail Address\",\n",
    "#     \"RI\": \"ResearcherID Number\",\n",
    "#     \"OI\": \"ORCID Identifier (Open Researcher and Contributor ID)\",\n",
    "#     \"FU\": \"Funding Agency and Grant Number\",\n",
    "#     \"FX\": \"Funding Text\",\n",
    "#     \"CR\": \"Cited References\",\n",
    "#     \"NR\": \"Cited Reference Count\",\n",
    "#     \"TC\": \"Web of Science Core Collection Times Cited Count\",\n",
    "#     \"Z9\": \"Total Times Cited Count\",\n",
    "#     \"U1\": \"Usage Count (Last 180 Days)\",\n",
    "#     \"U2\": \"Usage Count (Since 2013)\",\n",
    "#     \"PU\": \"Publisher\",\n",
    "#     \"PI\": \"Publisher City\",\n",
    "#     \"PA\": \"Publisher Address\",\n",
    "#     \"SN\": \"International Standard Serial Number (ISSN)\",\n",
    "#     \"EI\": \"Electronic International Standard Serial Number (eISSN)\",\n",
    "#     \"BN\": \"International Standard Book Number (ISBN)\",\n",
    "#     \"J9\": \"29-Character Source Abbreviation\",\n",
    "#     \"JI\": \"ISO Source Abbreviation\",\n",
    "#     \"PD\": \"Publication Date\",\n",
    "#     \"PY\": \"Year Published\",\n",
    "#     \"VL\": \"Volume\",\n",
    "#     \"IS\": \"Issue\",\n",
    "#     \"SI\": \"Special Issue\",\n",
    "#     \"PN\": \"Part Number\",\n",
    "#     \"SU\": \"Supplement\",\n",
    "#     \"MA\": \"Meeting Abstract\",\n",
    "#     \"BP\": \"Beginning Page\",\n",
    "#     \"EP\": \"Ending Page\",\n",
    "#     \"AR\": \"Article Number\",\n",
    "#     \"DI\": \"Digital Object Identifier (DOI)\",\n",
    "#     \"D2\": \"Book Digital Object Identifier (DOI)\",\n",
    "#     \"EA\": \"Early access date\",\n",
    "#     \"EY\": \"Early access year\",\n",
    "#     \"PG\": \"Page Count\",\n",
    "#     \"P2\": \"Chapter Count (Book Citation Index)\",\n",
    "#     \"WC\": \"Web of Science Categories\",\n",
    "#     \"SC\": \"Research Areas\",\n",
    "#     \"GA\": \"Document Delivery Number\",\n",
    "#     \"PM\": \"PubMed ID\",\n",
    "#     \"UT\": \"Accession Number\",\n",
    "#     \"OA\": \"Open Access Indicator\",\n",
    "#     \"HP\": \"ESI Hot Paper\", # Note that this field is valued only for ESI subscribers.\n",
    "#     \"HC\": \"ESI Highly Cited Paper\", # Note that this field is valued only for ESI subscribers.\n",
    "#     \"DA\": \"Date this report was generated\",\n",
    "#     \"ER\": \"End of Record\",\n",
    "#     \"EF\": \"End of File\"\n",
    "# }\n",
    "\n",
    "# df.rename(columns = rename_columns, inplace = True)\n",
    "# df.columns"
   ]
  },
  {
   "cell_type": "code",
   "execution_count": 163,
   "metadata": {},
   "outputs": [],
   "source": [
    "# df.shape"
   ]
  },
  {
   "cell_type": "code",
   "execution_count": 164,
   "metadata": {},
   "outputs": [],
   "source": [
    "# df.drop_duplicates(subset = \"Accession Number\", inplace = True)\n",
    "# df.shape"
   ]
  },
  {
   "cell_type": "code",
   "execution_count": 165,
   "metadata": {},
   "outputs": [],
   "source": [
    "# # saving to csv the dataframe to later use\n",
    "\n",
    "# csv_path = os.path.join(work_path, \"WoSElectricCarData.csv\")\n",
    "# df.to_csv(csv_path, index = False)"
   ]
  },
  {
   "cell_type": "markdown",
   "metadata": {},
   "source": [
    "## Analysis"
   ]
  },
  {
   "cell_type": "code",
   "execution_count": 97,
   "metadata": {},
   "outputs": [],
   "source": [
    "# # importing the data from the csv file\n",
    "\n",
    "# csv_path = os.path.join(work_path, \"WoSElectricCarData.csv\")\n",
    "\n",
    "# df = pd.read_csv(csv_path)\n",
    "# df.head()"
   ]
  },
  {
   "cell_type": "code",
   "execution_count": 98,
   "metadata": {},
   "outputs": [],
   "source": [
    "# df.info()"
   ]
  },
  {
   "cell_type": "code",
   "execution_count": 99,
   "metadata": {},
   "outputs": [],
   "source": [
    "# df['Year Published'].describe()"
   ]
  },
  {
   "cell_type": "code",
   "execution_count": 100,
   "metadata": {},
   "outputs": [],
   "source": [
    "# df_year = df.groupby(\"Year Published\", as_index = False).count()[[\"Year Published\", \"Publication Name\"]]\n",
    "# df_year"
   ]
  },
  {
   "cell_type": "code",
   "execution_count": 101,
   "metadata": {},
   "outputs": [],
   "source": [
    "# # fig = px.line(df_year, x = 'Year Published', y = 'Publication Name', markers = True, text = 'Publication Name', title = \"Number of Articles by Year\", labels = {\"Publication Name\": \"\", \"Year Published\": \"Year\"}, width = 800, height = 600)\n",
    "# # fig.update_traces(textposition = 'top center')\n",
    "\n",
    "# fig = px.line(df_year, x = 'Year Published', y = 'Publication Name', markers = True, title = \"Number of Articles by Year\", labels = {\"Publication Name\": \"\", \"Year Published\": \"Year\"}, width = 800, height = 600)\n",
    "\n",
    "# number_articles_year_path = os.path.join(work_path, \"NumberArticlesYear.pdf\")\n",
    "# fig.write_image(number_articles_year_path)\n",
    "\n",
    "# fig.show()"
   ]
  },
  {
   "cell_type": "code",
   "execution_count": 102,
   "metadata": {},
   "outputs": [],
   "source": [
    "# # importing the data from the csv file\n",
    "\n",
    "# csv_path = os.path.join(work_path, \"WoS_Rdata.csv\")\n",
    "\n",
    "# df = pd.read_csv(csv_path)\n",
    "# df.head()"
   ]
  },
  {
   "cell_type": "code",
   "execution_count": 103,
   "metadata": {},
   "outputs": [],
   "source": [
    "# df.columns"
   ]
  },
  {
   "cell_type": "code",
   "execution_count": 104,
   "metadata": {},
   "outputs": [],
   "source": [
    "# df['PY'].describe()"
   ]
  },
  {
   "cell_type": "code",
   "execution_count": 105,
   "metadata": {},
   "outputs": [],
   "source": [
    "# df_year = df.groupby(\"PY\", as_index = False).count()[[\"PY\", \"TI\"]]\n",
    "# df_year"
   ]
  },
  {
   "cell_type": "code",
   "execution_count": 106,
   "metadata": {},
   "outputs": [],
   "source": [
    "# # fig = px.line(df_year, x = 'Year Published', y = 'Publication Name', markers = True, text = 'Publication Name', title = \"Number of Articles by Year\", labels = {\"Publication Name\": \"\", \"Year Published\": \"Year\"}, width = 800, height = 600)\n",
    "# # fig.update_traces(textposition = 'top center')\n",
    "\n",
    "# fig = px.line(df_year, x = 'PY', y = 'TI', markers = True, title = \"Number of Articles by Year\", labels = {\"TI\": \"\", \"PY\": \"Year\"}, width = 800, height = 600)\n",
    "\n",
    "# number_articles_year_path = os.path.join(work_path, \"NumberArticlesYear.pdf\")\n",
    "# fig.write_image(number_articles_year_path)\n",
    "\n",
    "# fig.show()"
   ]
  }
 ],
 "metadata": {
  "kernelspec": {
   "display_name": "thesis",
   "language": "python",
   "name": "python3"
  },
  "language_info": {
   "codemirror_mode": {
    "name": "ipython",
    "version": 3
   },
   "file_extension": ".py",
   "mimetype": "text/x-python",
   "name": "python",
   "nbconvert_exporter": "python",
   "pygments_lexer": "ipython3",
   "version": "3.10.11"
  }
 },
 "nbformat": 4,
 "nbformat_minor": 2
}
