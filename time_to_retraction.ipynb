{
 "cells": [
  {
   "cell_type": "markdown",
   "metadata": {},
   "source": [
    "* [Chapter 0 - Libraries and Imports](#chapter0)\n",
    "* [Chapter 0.5 - Time-to-retraction with RWD](#chapter0.5)\n",
    "* [Chapter 1 - Basic Time-to-Retraction Statistics](#chapter1)\n",
    "* [Chapter 2 - Temporal trends](#chapter2)\n",
    "* [Chapter 3 - Reasons for Retraction](#chapter3)\n",
    "* [Chapter 4 - Geographical Differences](#chapter4)\n",
    "* [Chapter 5 - Analysis per Journal](#chapter5)\n",
    "* [Chapter 6 - Analysis per Scientific area](#chapter6) "
   ]
  },
  {
   "cell_type": "markdown",
   "metadata": {},
   "source": [
    "<div class=\"alert alert-block alert-info\" style = \"background:#d0de6f; color:#000000; border:0;\">\n",
    "\n",
    "# Chapter 0 - Libraries and Imports <a class=\"anchor\" id=\"chapter0\"></a>"
   ]
  },
  {
   "cell_type": "code",
   "execution_count": null,
   "metadata": {},
   "outputs": [],
   "source": [
    "import pandas as pd\n",
    "import numpy as np\n",
    "import math\n",
    "import matplotlib.pyplot as plt\n",
    "import seaborn as sns\n",
    "import plotly.express as px"
   ]
  },
  {
   "cell_type": "code",
   "execution_count": null,
   "metadata": {},
   "outputs": [],
   "source": [
    "control_set_import = pd.read_parquet('./retractions_data/control_set.parquet')\n",
    "retractions_import = pd.read_excel('./retractions_data/processed_data_retractions.xlsx')"
   ]
  },
  {
   "cell_type": "code",
   "execution_count": null,
   "metadata": {},
   "outputs": [],
   "source": [
    "control_set = control_set_import.copy()\n",
    "retractions = retractions_import.copy()"
   ]
  },
  {
   "cell_type": "code",
   "execution_count": null,
   "metadata": {},
   "outputs": [],
   "source": [
    "control_set.info()"
   ]
  },
  {
   "cell_type": "code",
   "execution_count": null,
   "metadata": {},
   "outputs": [],
   "source": [
    "retractions.info()"
   ]
  },
  {
   "cell_type": "markdown",
   "metadata": {},
   "source": [
    "<div class=\"alert alert-block alert-info\" style = \"background:#d0de6f; color:#000000; border:0;\">\n",
    "\n",
    "# Chapter 0.5 - Time-to-retraction with RWD <a class=\"anchor\" id=\"chapter0.5\"></a>"
   ]
  },
  {
   "cell_type": "code",
   "execution_count": null,
   "metadata": {},
   "outputs": [],
   "source": [
    "rw = pd.read_excel('./retractions_data/retraction_watch_database.xlsx')\n",
    "rw.head()"
   ]
  },
  {
   "cell_type": "code",
   "execution_count": null,
   "metadata": {},
   "outputs": [],
   "source": [
    "rw.info()"
   ]
  },
  {
   "cell_type": "code",
   "execution_count": null,
   "metadata": {},
   "outputs": [],
   "source": [
    "rw['RetractionDate'] = pd.to_datetime(rw['RetractionDate'], errors='coerce') #, infer_datetime_format=True\n",
    "rw['OriginalPaperDate'] = pd.to_datetime(rw['OriginalPaperDate'])"
   ]
  },
  {
   "cell_type": "code",
   "execution_count": null,
   "metadata": {},
   "outputs": [],
   "source": [
    "rw['ArticleType'].unique()"
   ]
  },
  {
   "cell_type": "code",
   "execution_count": null,
   "metadata": {},
   "outputs": [],
   "source": [
    "article_type = rw[['Record ID', 'ArticleType']].copy()\n",
    "article_type.loc[:, 'ArticleType'] = article_type['ArticleType'].str.split(';')\n",
    "article_type = article_type.explode('ArticleType')\n",
    "article_type = article_type[article_type['ArticleType'].str.strip() != \"\"]\n",
    "article_type = article_type[article_type['ArticleType'].str.strip() != \";\"]\n",
    "article_type = article_type['ArticleType'].str.strip()\n",
    "article_type"
   ]
  },
  {
   "cell_type": "code",
   "execution_count": null,
   "metadata": {},
   "outputs": [],
   "source": [
    "article_type.unique()"
   ]
  },
  {
   "cell_type": "code",
   "execution_count": null,
   "metadata": {},
   "outputs": [],
   "source": [
    "select_article_type = ['Research Article', 'Clinical Study', 'Commentary/Editorial',\n",
    "       'Review Article', 'Meta-Analysis', 'Case Report',\n",
    "       'Article in Press', 'Preprint', \n",
    "       'Retraction Notice', 'Retracted Article',\n",
    "       'Correction/Erratum/Corrigendum', 'Government Publication',\n",
    "       'Supplementary Materials'] \n",
    "filtered_rw = rw[rw['ArticleType'].str.contains('|'.join(select_article_type))]"
   ]
  },
  {
   "cell_type": "code",
   "execution_count": null,
   "metadata": {},
   "outputs": [],
   "source": [
    "filtered_rw"
   ]
  },
  {
   "cell_type": "code",
   "execution_count": null,
   "metadata": {},
   "outputs": [],
   "source": [
    "filtered_rw['Journal'].value_counts()[:50]"
   ]
  },
  {
   "cell_type": "code",
   "execution_count": null,
   "metadata": {},
   "outputs": [],
   "source": [
    "len(filtered_rw['Journal'].unique())"
   ]
  },
  {
   "cell_type": "code",
   "execution_count": null,
   "metadata": {},
   "outputs": [],
   "source": [
    "subject = filtered_rw[['Record ID','Subject']]\n",
    "subject.loc[:, 'Subject'] = subject['Subject'].str.split(';')\n",
    "subject = subject.explode('Subject')\n",
    "subject = subject[subject['Subject'].str.strip() != \"\"]\n",
    "subject"
   ]
  },
  {
   "cell_type": "code",
   "execution_count": null,
   "metadata": {},
   "outputs": [],
   "source": [
    "subject['Biomedicine'] = np.where(subject['Subject'].str.contains('(HSC)'), 1,0)\n",
    "\n",
    "biomed_fields = ['(BLS) Genetics', '(BLS) Biology - Molecular', '(BLS) Biochemistry', '(BLS) Biology - Cancer',\n",
    "                '(BLS) Microbiology', '(BLS) Toxicology', '(BLS) Neuroscience', '(BLS) Anatomy/Physiology']\n",
    "\n",
    "subject['Biomedicine'] = np.where(subject['Subject'].isin(biomed_fields), 1, subject['Biomedicine'])"
   ]
  },
  {
   "cell_type": "code",
   "execution_count": null,
   "metadata": {},
   "outputs": [],
   "source": [
    "subject.groupby('Record ID')['Biomedicine'].sum().value_counts()"
   ]
  },
  {
   "cell_type": "code",
   "execution_count": null,
   "metadata": {},
   "outputs": [],
   "source": [
    "filtered_rw = filtered_rw.merge(subject.groupby('Record ID')['Biomedicine'].sum(), how='left', on = 'Record ID')"
   ]
  },
  {
   "cell_type": "code",
   "execution_count": null,
   "metadata": {},
   "outputs": [],
   "source": [
    "filtered_rw['Biomedicine'] = np.where(filtered_rw['Biomedicine']>=1, 1, 0)"
   ]
  },
  {
   "cell_type": "code",
   "execution_count": null,
   "metadata": {},
   "outputs": [],
   "source": [
    "filtered_rw"
   ]
  },
  {
   "cell_type": "code",
   "execution_count": null,
   "metadata": {},
   "outputs": [],
   "source": [
    "# Average number of months until retraction\n",
    "avg_ttr_total = np.mean((filtered_rw['RetractionDate']-filtered_rw['OriginalPaperDate']) / pd.Timedelta(days=30.4375))\n",
    "avg_ttr_total"
   ]
  },
  {
   "cell_type": "code",
   "execution_count": null,
   "metadata": {},
   "outputs": [],
   "source": [
    "avg_ttr_biomed = np.mean((filtered_rw[filtered_rw['Biomedicine']==1]['RetractionDate']-filtered_rw[filtered_rw['Biomedicine']==1]['OriginalPaperDate']) / pd.Timedelta(days=30.4375))\n",
    "avg_ttr_biomed"
   ]
  },
  {
   "cell_type": "code",
   "execution_count": null,
   "metadata": {},
   "outputs": [],
   "source": [
    "avg_ttr_non_biomed = np.mean((filtered_rw[filtered_rw['Biomedicine']==0]['RetractionDate']-filtered_rw[filtered_rw['Biomedicine']==0]['OriginalPaperDate']) / pd.Timedelta(days=30.4375))\n",
    "avg_ttr_non_biomed"
   ]
  },
  {
   "cell_type": "code",
   "execution_count": null,
   "metadata": {},
   "outputs": [],
   "source": [
    "avg_ttr = [\"average time-to-retraction\", avg_ttr_total, avg_ttr_biomed, avg_ttr_non_biomed]"
   ]
  },
  {
   "cell_type": "code",
   "execution_count": null,
   "metadata": {},
   "outputs": [],
   "source": [
    "# Average number of months until retraction\n",
    "median_ttr_total = np.median((filtered_rw['RetractionDate']-filtered_rw['OriginalPaperDate']) / pd.Timedelta(days=30.4375))\n",
    "median_ttr_total"
   ]
  },
  {
   "cell_type": "code",
   "execution_count": null,
   "metadata": {},
   "outputs": [],
   "source": [
    "((filtered_rw['RetractionDate']-filtered_rw['OriginalPaperDate']) / pd.Timedelta(days=30.4375)).describe()"
   ]
  },
  {
   "cell_type": "code",
   "execution_count": null,
   "metadata": {},
   "outputs": [],
   "source": [
    "median_ttr_biomed = np.median((filtered_rw[filtered_rw['Biomedicine']==1]['RetractionDate']-filtered_rw[filtered_rw['Biomedicine']==1]['OriginalPaperDate']) / pd.Timedelta(days=30.4375))\n",
    "median_ttr_biomed"
   ]
  },
  {
   "cell_type": "code",
   "execution_count": null,
   "metadata": {},
   "outputs": [],
   "source": [
    "median_ttr_non_biomed = np.median((filtered_rw[filtered_rw['Biomedicine']==0]['RetractionDate']-filtered_rw[filtered_rw['Biomedicine']==0]['OriginalPaperDate']) / pd.Timedelta(days=30.4375))\n",
    "median_ttr_non_biomed"
   ]
  },
  {
   "cell_type": "code",
   "execution_count": null,
   "metadata": {},
   "outputs": [],
   "source": [
    "median_ttr = [\"median time-to-retraction\", median_ttr_total, median_ttr_biomed, median_ttr_non_biomed]"
   ]
  },
  {
   "cell_type": "code",
   "execution_count": null,
   "metadata": {},
   "outputs": [],
   "source": [
    "ttr_stats = pd.DataFrame([avg_ttr, median_ttr], columns = [\"statistic\", \"total\", \"biomed\", \"non-biomed\"])\n",
    "ttr_stats"
   ]
  },
  {
   "cell_type": "code",
   "execution_count": null,
   "metadata": {},
   "outputs": [],
   "source": [
    "filtered_rw['corresponding_author'] = filtered_rw['Author'].str.split(';').str[0]"
   ]
  },
  {
   "cell_type": "code",
   "execution_count": null,
   "metadata": {},
   "outputs": [],
   "source": [
    "filtered_rw['time_to_retraction'] = ((filtered_rw['RetractionDate']-filtered_rw['OriginalPaperDate']) / pd.Timedelta(days=30.4375))"
   ]
  },
  {
   "cell_type": "code",
   "execution_count": null,
   "metadata": {},
   "outputs": [],
   "source": [
    "retractions_only_first_time = filtered_rw.sort_values(by='RetractionDate', inplace = False)\n",
    "retractions_only_first_time = retractions_only_first_time.groupby('corresponding_author').first().reset_index()\n",
    "retractions_only_first_time.head()"
   ]
  },
  {
   "cell_type": "code",
   "execution_count": null,
   "metadata": {},
   "outputs": [],
   "source": [
    "ttr_total_stats = retractions_only_first_time['time_to_retraction'].describe().rename('ttr_total_stats')\n",
    "ttr_biomed_stats = retractions_only_first_time[retractions_only_first_time['Biomedicine']==1]['time_to_retraction'].describe().rename('ttr_biomed_stats')\n",
    "ttr_non_biomed_stats = retractions_only_first_time[retractions_only_first_time['Biomedicine']==0]['time_to_retraction'].describe().rename('ttr_non_biomed_stats')\n",
    "ttr_stats = pd.concat([ttr_total_stats, ttr_biomed_stats, ttr_non_biomed_stats], axis = 1)\n",
    "ttr_stats.round(1)"
   ]
  },
  {
   "cell_type": "markdown",
   "metadata": {},
   "source": [
    "<div class=\"alert alert-block alert-info\" style = \"background:#d0de6f; color:#000000; border:0;\">\n",
    "\n",
    "# Chapter 1 - Basic Retraction Statistics <a class=\"anchor\" id=\"chapter1\"></a>"
   ]
  },
  {
   "cell_type": "code",
   "execution_count": null,
   "metadata": {},
   "outputs": [],
   "source": [
    "retractions['time_to_retraction'] = ((retractions['RetractionDate']-retractions['OriginalPaperDate']) / pd.Timedelta(days=30.4375))"
   ]
  },
  {
   "cell_type": "code",
   "execution_count": null,
   "metadata": {},
   "outputs": [],
   "source": [
    "classif_areas = pd.read_excel('./research_areas_wos_classified.xlsx')\n",
    "classif_areas"
   ]
  },
  {
   "cell_type": "code",
   "execution_count": null,
   "metadata": {},
   "outputs": [],
   "source": [
    "def create_biomed_variable(df, id):\n",
    "    areas = df[[id,'research_areas']]\n",
    "    areas.loc[:, 'research_areas'] = df['research_areas'].str.split(';')\n",
    "    areas = areas.explode('research_areas')\n",
    "    areas = areas[areas['research_areas'].str.strip() != \"\"]\n",
    "    areas['research_areas'] = areas['research_areas'].str.strip()\n",
    "    \n",
    "    areas = areas.merge(classif_areas, how= 'left', left_on = 'research_areas', right_on = 'Área científica')\n",
    "    areas['Biomedicine'] = np.where(areas['Classificação Isabel'] >= 1, 1, 0)\n",
    "\n",
    "    df = df.merge(areas.groupby(id)['Biomedicine'].sum(), how='left', on = id)\n",
    "    df['Biomedicine'] = np.where(df['Biomedicine']>=1, 1, 0)\n",
    "\n",
    "    return df"
   ]
  },
  {
   "cell_type": "code",
   "execution_count": null,
   "metadata": {},
   "outputs": [],
   "source": [
    "control_set = create_biomed_variable(control_set, 'doi')"
   ]
  },
  {
   "cell_type": "code",
   "execution_count": null,
   "metadata": {},
   "outputs": [],
   "source": [
    "retractions = create_biomed_variable(retractions, 'Record ID')"
   ]
  },
  {
   "cell_type": "code",
   "execution_count": null,
   "metadata": {},
   "outputs": [],
   "source": [
    "retractions.info()"
   ]
  },
  {
   "cell_type": "code",
   "execution_count": null,
   "metadata": {},
   "outputs": [],
   "source": [
    "retractions['corresponding_author'] = retractions['Author'].str.split(';').str[0]"
   ]
  },
  {
   "cell_type": "code",
   "execution_count": null,
   "metadata": {},
   "outputs": [],
   "source": [
    "for index, row in retractions.iterrows():\n",
    "    retractions.loc[index, 'nr_of_offenses'] = retractions['Author'].str.contains(row['corresponding_author']).sum()"
   ]
  },
  {
   "cell_type": "code",
   "execution_count": null,
   "metadata": {},
   "outputs": [],
   "source": [
    "def map_to_category(nr_of_offenses):\n",
    "    if nr_of_offenses == 1:\n",
    "        return \"1\"\n",
    "    elif 2 <= nr_of_offenses <= 10:\n",
    "        return \"2-10\"\n",
    "    else:\n",
    "        return \">10\""
   ]
  },
  {
   "cell_type": "code",
   "execution_count": null,
   "metadata": {},
   "outputs": [],
   "source": [
    "retractions['groups_authors'] = retractions['nr_of_offenses'].apply(map_to_category)"
   ]
  },
  {
   "cell_type": "code",
   "execution_count": null,
   "metadata": {},
   "outputs": [],
   "source": [
    "retractions_only_first_time = retractions.sort_values(by='RetractionDate', inplace = False)\n",
    "retractions_only_first_time = retractions_only_first_time.groupby('corresponding_author').first().reset_index()\n",
    "retractions_only_first_time.head()"
   ]
  },
  {
   "cell_type": "code",
   "execution_count": null,
   "metadata": {},
   "outputs": [],
   "source": [
    "ttr_total_stats = retractions['time_to_retraction'].describe().rename('ttr_total_stats')\n",
    "ttr_biomed_stats = retractions[retractions['Biomedicine']==1]['time_to_retraction'].describe().rename('ttr_biomed_stats')\n",
    "ttr_non_biomed_stats = retractions[retractions['Biomedicine']==0]['time_to_retraction'].describe().rename('ttr_non_biomed_stats')\n",
    "ttr_stats = pd.concat([ttr_total_stats, ttr_biomed_stats, ttr_non_biomed_stats], axis = 1)\n",
    "ttr_stats.round(1)"
   ]
  },
  {
   "cell_type": "code",
   "execution_count": null,
   "metadata": {},
   "outputs": [],
   "source": [
    "# Plotting\n",
    "sns.kdeplot(ttr_total_stats, label='TTR Total Stats', linestyle='-')\n",
    "sns.kdeplot(ttr_biomed_stats, label='TTR Biomed Stats', linestyle='--')\n",
    "sns.kdeplot(ttr_non_biomed_stats, label='TTR Non-Biomed Stats', linestyle=':')\n",
    "\n",
    "# Customize plot (labels, title, etc.)\n",
    "plt.xlabel('Number of months to retraction')  # Customize X-axis label\n",
    "plt.ylabel('Density')  # Customize Y-axis label\n",
    "plt.title('Density Distribution of TTR Stats')  # Add title\n",
    "plt.legend()  # Show legend\n",
    "\n",
    "# Show plot\n",
    "plt.show()"
   ]
  },
  {
   "cell_type": "code",
   "execution_count": null,
   "metadata": {},
   "outputs": [],
   "source": [
    "ttr_total_stats = retractions_only_first_time['time_to_retraction'].describe().rename('ttr_total_stats')\n",
    "ttr_biomed_stats = retractions_only_first_time[retractions_only_first_time['Biomedicine']==1]['time_to_retraction'].describe().rename('ttr_biomed_stats')\n",
    "ttr_non_biomed_stats = retractions_only_first_time[retractions_only_first_time['Biomedicine']==0]['time_to_retraction'].describe().rename('ttr_non_biomed_stats')\n",
    "ttr_stats = pd.concat([ttr_total_stats, ttr_biomed_stats, ttr_non_biomed_stats], axis = 1)\n",
    "ttr_stats.round(1)"
   ]
  },
  {
   "cell_type": "markdown",
   "metadata": {},
   "source": [
    "<div class=\"alert alert-block alert-info\" style = \"background:#d0de6f; color:#000000; border:0;\">\n",
    "\n",
    "# Chapter 2 - Temporal trends <a class=\"anchor\" id=\"chapter2\"></a>"
   ]
  },
  {
   "cell_type": "code",
   "execution_count": null,
   "metadata": {},
   "outputs": [],
   "source": [
    "retractions.columns"
   ]
  },
  {
   "cell_type": "code",
   "execution_count": null,
   "metadata": {},
   "outputs": [],
   "source": [
    "retractions_grouped = retractions[retractions['year_published'] != 2023].groupby(retractions['year_published'])['time_to_retraction'].mean().reset_index(name= 'Mean TTR of Retractions')\n",
    "\n",
    "# Merge the two grouped DataFrames on the 'year_published' column\n",
    "year_counts = retractions_grouped.copy()"
   ]
  },
  {
   "cell_type": "code",
   "execution_count": null,
   "metadata": {},
   "outputs": [],
   "source": [
    "ttr_of_biomed_retracted = retractions[(retractions['year_published'] != 2023) & (retractions['Biomedicine'] ==1)].groupby(retractions['year_published'])['time_to_retraction'].mean().reset_index(name= 'Mean TTR of Retractions in Biomedicine')\n",
    "ttr_of_non_biomed_retracted = retractions[(retractions['year_published'] != 2023) & (retractions['Biomedicine'] ==0)].groupby(retractions['year_published'])['time_to_retraction'].mean().reset_index(name= 'Mean TTR of Retractions not in Biomedicine')"
   ]
  },
  {
   "cell_type": "code",
   "execution_count": null,
   "metadata": {},
   "outputs": [],
   "source": [
    "year_counts = pd.merge(year_counts, ttr_of_biomed_retracted, how='left', on='year_published')\n",
    "year_counts = pd.merge(year_counts, ttr_of_non_biomed_retracted, how='left', on='year_published')"
   ]
  },
  {
   "cell_type": "code",
   "execution_count": null,
   "metadata": {},
   "outputs": [],
   "source": [
    "year_counts"
   ]
  },
  {
   "cell_type": "code",
   "execution_count": 1,
   "metadata": {},
   "outputs": [
    {
     "ename": "NameError",
     "evalue": "name 'plt' is not defined",
     "output_type": "error",
     "traceback": [
      "\u001b[1;31m---------------------------------------------------------------------------\u001b[0m",
      "\u001b[1;31mNameError\u001b[0m                                 Traceback (most recent call last)",
      "Cell \u001b[1;32mIn[1], line 1\u001b[0m\n\u001b[1;32m----> 1\u001b[0m \u001b[43mplt\u001b[49m\u001b[38;5;241m.\u001b[39mplot(year_counts[\u001b[38;5;124m'\u001b[39m\u001b[38;5;124myear_published\u001b[39m\u001b[38;5;124m'\u001b[39m], year_counts[\u001b[38;5;124m'\u001b[39m\u001b[38;5;124mMean TTR of Retractions in Biomedicine\u001b[39m\u001b[38;5;124m'\u001b[39m], label \u001b[38;5;241m=\u001b[39m \u001b[38;5;124m'\u001b[39m\u001b[38;5;124mMean TTR of Retractions in Biomedicine\u001b[39m\u001b[38;5;124m'\u001b[39m, color\u001b[38;5;241m=\u001b[39m\u001b[38;5;124m\"\u001b[39m\u001b[38;5;124mb\u001b[39m\u001b[38;5;124m\"\u001b[39m)\n\u001b[0;32m      2\u001b[0m plt\u001b[38;5;241m.\u001b[39mplot(year_counts[\u001b[38;5;124m'\u001b[39m\u001b[38;5;124myear_published\u001b[39m\u001b[38;5;124m'\u001b[39m], year_counts[\u001b[38;5;124m'\u001b[39m\u001b[38;5;124mMean TTR of Retractions not in Biomedicine\u001b[39m\u001b[38;5;124m'\u001b[39m], label \u001b[38;5;241m=\u001b[39m \u001b[38;5;124m'\u001b[39m\u001b[38;5;124mMean TTR of Retractions not in Biomedicine\u001b[39m\u001b[38;5;124m'\u001b[39m, color\u001b[38;5;241m=\u001b[39m\u001b[38;5;124m\"\u001b[39m\u001b[38;5;124mg\u001b[39m\u001b[38;5;124m\"\u001b[39m)\n\u001b[0;32m      4\u001b[0m plt\u001b[38;5;241m.\u001b[39mxlabel(\u001b[38;5;124m'\u001b[39m\u001b[38;5;124mYear\u001b[39m\u001b[38;5;124m'\u001b[39m)\n",
      "\u001b[1;31mNameError\u001b[0m: name 'plt' is not defined"
     ]
    },
    {
     "ename": "",
     "evalue": "",
     "output_type": "error",
     "traceback": [
      "\u001b[1;31mThe Kernel crashed while executing code in the current cell or a previous cell. \n",
      "\u001b[1;31mPlease review the code in the cell(s) to identify a possible cause of the failure. \n",
      "\u001b[1;31mClick <a href='https://aka.ms/vscodeJupyterKernelCrash'>here</a> for more info. \n",
      "\u001b[1;31mView Jupyter <a href='command:jupyter.viewOutput'>log</a> for further details."
     ]
    }
   ],
   "source": [
    "plt.plot(year_counts['year_published'], year_counts['Mean TTR of Retractions in Biomedicine'], label = 'Mean TTR of Retractions in Biomedicine', color=\"b\")\n",
    "plt.plot(year_counts['year_published'], year_counts['Mean TTR of Retractions not in Biomedicine'], label = 'Mean TTR of Retractions not in Biomedicine', color=\"g\")\n",
    "\n",
    "plt.xlabel('Year')\n",
    "plt.ylabel('Number of Retractions')\n",
    "plt.title('Time to retraction of Articles')\n",
    "plt.legend()\n",
    "plt.show()"
   ]
  },
  {
   "cell_type": "markdown",
   "metadata": {},
   "source": [
    "<div class=\"alert alert-block alert-info\" style = \"background:#d0de6f; color:#000000; border:0;\">\n",
    "\n",
    "# Chapter 3 - Reasons for Retraction <a class=\"anchor\" id=\"chapter3\"></a>"
   ]
  },
  {
   "cell_type": "code",
   "execution_count": null,
   "metadata": {},
   "outputs": [],
   "source": [
    "motives = retractions[['Record ID','Reason', 'Biomedicine']]\n",
    "motives.loc[:, 'Reason'] = motives['Reason'].str.split(';')\n",
    "motives = motives.explode('Reason')\n",
    "motives.loc[:, 'Reason'] = motives['Reason'].str.replace('+', '')\n",
    "motives = motives[motives['Reason'].str.strip() != \"\"]\n",
    "motives\n"
   ]
  },
  {
   "cell_type": "code",
   "execution_count": null,
   "metadata": {},
   "outputs": [],
   "source": [
    "top10_reasons_biomed = motives['Reason'].value_counts()[:10].reset_index(name = \"Biomed\")\n",
    "top10_reasons_biomed"
   ]
  },
  {
   "cell_type": "code",
   "execution_count": null,
   "metadata": {},
   "outputs": [],
   "source": [
    "top10_reasons_non_biomed = motives[motives['Biomedicine']==1]['Reason'].value_counts()[:10].reset_index(name = \"Non Biomed\")\n",
    "top10_reasons_non_biomed"
   ]
  },
  {
   "cell_type": "code",
   "execution_count": null,
   "metadata": {},
   "outputs": [],
   "source": [
    "top10_reasons = pd.concat([top10_reasons_biomed, top10_reasons_non_biomed], axis=1)\n",
    "top10_reasons"
   ]
  },
  {
   "cell_type": "markdown",
   "metadata": {},
   "source": [
    "<div class=\"alert alert-block alert-info\" style = \"background:#d0de6f; color:#000000; border:0;\">\n",
    "\n",
    "# Chapter 4 - Geographical Differences <a class=\"anchor\" id=\"chapter4\"></a>"
   ]
  },
  {
   "cell_type": "markdown",
   "metadata": {},
   "source": [
    "<div class=\"alert alert-block alert-info\" style = \"background:#d0de6f; color:#000000; border:0;\">\n",
    "\n",
    "# Chapter 5 - Analysis per Journal <a class=\"anchor\" id=\"chapter5\"></a>"
   ]
  },
  {
   "cell_type": "markdown",
   "metadata": {},
   "source": [
    "<div class=\"alert alert-block alert-info\" style = \"background:#d0de6f; color:#000000; border:0;\">\n",
    "\n",
    "# Chapter 6 - Analysis per Scientific area <a class=\"anchor\" id=\"chapter6\"></a>"
   ]
  },
  {
   "cell_type": "markdown",
   "metadata": {},
   "source": []
  }
 ],
 "metadata": {
  "kernelspec": {
   "display_name": "Python 3",
   "language": "python",
   "name": "python3"
  },
  "language_info": {
   "codemirror_mode": {
    "name": "ipython",
    "version": 3
   },
   "file_extension": ".py",
   "mimetype": "text/x-python",
   "name": "python",
   "nbconvert_exporter": "python",
   "pygments_lexer": "ipython3",
   "version": "3.10.11"
  }
 },
 "nbformat": 4,
 "nbformat_minor": 2
}
