{
 "cells": [
  {
   "cell_type": "markdown",
   "metadata": {},
   "source": [
    "The objective of this notebook is to answer the first objective of this thesis: \"Identify temporal, geographical, journal trends of papers citing retractions\"."
   ]
  },
  {
   "cell_type": "markdown",
   "metadata": {},
   "source": [
    "* [Chapter 0 - Libraries and Imports](#chapter0)\n",
    "* [Chapter 1 - Basic Retraction Statistics](#chapter1)\n",
    "    * [1.1 - Temporal trends](#section_1_1)\n",
    "    * [1.2 - Reasons for Retraction](#section_1_2)\n",
    "    * [1.3 - Geographical Differences](#section_1_3)\n",
    "    * [1.4 - Analysis per Journal](#section_1_4)\n",
    "    * [1.5 - Analysis per Scientific area](#section_1_5)\n",
    "* [Chapter 2 - Citation Statistics](#chapter2)   \n",
    "\n"
   ]
  },
  {
   "cell_type": "markdown",
   "metadata": {},
   "source": [
    "<div class=\"alert alert-block alert-info\" style = \"background:#d0de6f; color:#000000; border:0;\">\n",
    "\n",
    "# Chapter 0 - Libraries and Imports <a class=\"anchor\" id=\"chapter0\"></a>"
   ]
  },
  {
   "cell_type": "code",
   "execution_count": 1,
   "metadata": {},
   "outputs": [],
   "source": [
    "import pandas as pd\n",
    "import numpy as np\n",
    "import matplotlib.pyplot as plt\n",
    "import seaborn as sns\n",
    "import plotly.express as px\n",
    "#import dask.dataframe as dd"
   ]
  },
  {
   "cell_type": "code",
   "execution_count": 2,
   "metadata": {},
   "outputs": [],
   "source": [
    "control_set_import = pd.read_parquet('./retractions_data/control_set.parquet')\n",
    "retractions_import = pd.read_excel('./retractions_data/processed_data_retractions.xlsx')"
   ]
  },
  {
   "cell_type": "code",
   "execution_count": 3,
   "metadata": {},
   "outputs": [],
   "source": [
    "control_set = control_set_import.copy()\n",
    "retractions = retractions_import.copy()"
   ]
  },
  {
   "cell_type": "code",
   "execution_count": 4,
   "metadata": {},
   "outputs": [
    {
     "name": "stdout",
     "output_type": "stream",
     "text": [
      "<class 'pandas.core.frame.DataFrame'>\n",
      "RangeIndex: 933634 entries, 0 to 933633\n",
      "Data columns (total 35 columns):\n",
      " #   Column                                 Non-Null Count   Dtype         \n",
      "---  ------                                 --------------   -----         \n",
      " 0   authors                                933634 non-null  object        \n",
      " 1   author_keywords                        539770 non-null  object        \n",
      " 2   keywords_plus                          873956 non-null  object        \n",
      " 3   cited_references                       930337 non-null  object        \n",
      " 4   abstract                               902793 non-null  object        \n",
      " 5   affiliations                           914940 non-null  object        \n",
      " 6   doi                                    920195 non-null  object        \n",
      " 7   eissn                                  722054 non-null  object        \n",
      " 8   esi_highly_cited_paper                 37361 non-null   object        \n",
      " 9   esi_hot_paper                          37361 non-null   object        \n",
      " 10  early_access_date                      103645 non-null  datetime64[ns]\n",
      " 11  funding_agency_and_grant_number        571252 non-null  object        \n",
      " 12  isbn                                   15564 non-null   object        \n",
      " 13  issn                                   912242 non-null  object        \n",
      " 14  iso_source_abv                         933634 non-null  object        \n",
      " 15  publication_name                       933634 non-null  object        \n",
      " 16  language                               933634 non-null  object        \n",
      " 17  month                                  933634 non-null  object        \n",
      " 18  note                                   35524 non-null   object        \n",
      " 19  cited_reference_count                  933634 non-null  Int64         \n",
      " 20  open_access_indicator                  416134 non-null  object        \n",
      " 21  organization                           23018 non-null   object        \n",
      " 22  publisher                              933634 non-null  object        \n",
      " 23  research_areas                         933634 non-null  object        \n",
      " 24  researcher_id_numbers                  627068 non-null  object        \n",
      " 25  book_series_title                      17305 non-null   object        \n",
      " 26  wos_core_collection_times_cited_count  933634 non-null  Int64         \n",
      " 27  document_title                         933634 non-null  object        \n",
      " 28  document_type                          933634 non-null  object        \n",
      " 29  wos_categories                         933634 non-null  object        \n",
      " 30  year_published                         933634 non-null  Int64         \n",
      " 31  authors_affiliations                   930434 non-null  object        \n",
      " 32  corresponding_author_affiliation       933634 non-null  object        \n",
      " 33  book.group.author                      386 non-null     object        \n",
      " 34  publication_date                       933634 non-null  datetime64[ns]\n",
      "dtypes: Int64(3), datetime64[ns](2), object(30)\n",
      "memory usage: 252.0+ MB\n"
     ]
    }
   ],
   "source": [
    "control_set.info()"
   ]
  },
  {
   "cell_type": "code",
   "execution_count": 5,
   "metadata": {},
   "outputs": [
    {
     "name": "stdout",
     "output_type": "stream",
     "text": [
      "<class 'pandas.core.frame.DataFrame'>\n",
      "RangeIndex: 662 entries, 0 to 661\n",
      "Data columns (total 55 columns):\n",
      " #   Column                                 Non-Null Count  Dtype         \n",
      "---  ------                                 --------------  -----         \n",
      " 0   Record ID                              662 non-null    int64         \n",
      " 1   Title                                  662 non-null    object        \n",
      " 2   Subject                                662 non-null    object        \n",
      " 3   Institution                            662 non-null    object        \n",
      " 4   Journal                                662 non-null    object        \n",
      " 5   Publisher                              662 non-null    object        \n",
      " 6   Country                                662 non-null    object        \n",
      " 7   Author                                 662 non-null    object        \n",
      " 8   URLS                                   327 non-null    object        \n",
      " 9   ArticleType                            662 non-null    object        \n",
      " 10  RetractionDate                         662 non-null    datetime64[ns]\n",
      " 11  RetractionDOI                          647 non-null    object        \n",
      " 12  RetractionPubMedID                     640 non-null    float64       \n",
      " 13  OriginalPaperDate                      662 non-null    datetime64[ns]\n",
      " 14  OriginalPaperDOI                       659 non-null    object        \n",
      " 15  OriginalPaperPubMedID                  644 non-null    float64       \n",
      " 16  RetractionNature                       662 non-null    object        \n",
      " 17  Reason                                 662 non-null    object        \n",
      " 18  Paywalled                              662 non-null    object        \n",
      " 19  Notes                                  188 non-null    object        \n",
      " 20  authors                                662 non-null    object        \n",
      " 21  author_keywords                        268 non-null    object        \n",
      " 22  keywords_plus                          642 non-null    object        \n",
      " 23  cited_references                       662 non-null    object        \n",
      " 24  abstract                               653 non-null    object        \n",
      " 25  affiliations                           656 non-null    object        \n",
      " 26  doi                                    659 non-null    object        \n",
      " 27  eissn                                  553 non-null    object        \n",
      " 28  esi_highly_cited_paper                 11 non-null     object        \n",
      " 29  esi_hot_paper                          11 non-null     object        \n",
      " 30  early_access_date                      25 non-null     datetime64[ns]\n",
      " 31  funding_agency_and_grant_number        412 non-null    object        \n",
      " 32  isbn                                   4 non-null      object        \n",
      " 33  issn                                   631 non-null    object        \n",
      " 34  iso_source_abv                         662 non-null    object        \n",
      " 35  publication_name                       662 non-null    object        \n",
      " 36  language                               662 non-null    object        \n",
      " 37  month                                  662 non-null    object        \n",
      " 38  note                                   15 non-null     object        \n",
      " 39  cited_reference_count                  662 non-null    int64         \n",
      " 40  open_access_indicator                  379 non-null    object        \n",
      " 41  organization                           10 non-null     object        \n",
      " 42  publisher                              662 non-null    object        \n",
      " 43  research_areas                         662 non-null    object        \n",
      " 44  researcher_id_numbers                  422 non-null    object        \n",
      " 45  book_series_title                      4 non-null      object        \n",
      " 46  wos_core_collection_times_cited_count  662 non-null    int64         \n",
      " 47  document_title                         662 non-null    object        \n",
      " 48  document_type                          662 non-null    object        \n",
      " 49  wos_categories                         662 non-null    object        \n",
      " 50  year_published                         662 non-null    int64         \n",
      " 51  authors_affiliations                   660 non-null    object        \n",
      " 52  corresponding_author_affiliation       662 non-null    object        \n",
      " 53  book.group.author                      0 non-null      float64       \n",
      " 54  publication_date                       662 non-null    datetime64[ns]\n",
      "dtypes: datetime64[ns](4), float64(3), int64(4), object(44)\n",
      "memory usage: 284.6+ KB\n"
     ]
    }
   ],
   "source": [
    "retractions.info()"
   ]
  },
  {
   "cell_type": "code",
   "execution_count": 6,
   "metadata": {},
   "outputs": [
    {
     "data": {
      "text/plain": [
       "document_type\n",
       "ARTICLE; RETRACTED PUBLICATION                       407\n",
       "ARTICLE                                              210\n",
       "ARTICLE; PUBLICATION WITH EXPRESSION OF CONCERN       13\n",
       "ARTICLE; PROCEEDINGS PAPER; RETRACTED PUBLICATION     12\n",
       "REVIEW                                                 8\n",
       "REVIEW; RETRACTED PUBLICATION                          6\n",
       "ARTICLE; PROCEEDINGS PAPER                             3\n",
       "ARTICLE; WITHDRAWN PUBLICATION                         3\n",
       "Name: count, dtype: int64"
      ]
     },
     "execution_count": 6,
     "metadata": {},
     "output_type": "execute_result"
    }
   ],
   "source": [
    "retractions['document_type'].value_counts()"
   ]
  },
  {
   "cell_type": "markdown",
   "metadata": {},
   "source": [
    "<div class=\"alert alert-block alert-info\" style = \"background:#d0de6f; color:#000000; border:0;\">\n",
    "\n",
    "# Chapter 1 - Basic Retraction Statistics <a class=\"anchor\" id=\"chapter1\"></a>"
   ]
  },
  {
   "cell_type": "markdown",
   "metadata": {},
   "source": [
    "# 2.5 - Analysis per Scientific area <a class=\"anchor\" id=\"section_2_5\"></a>"
   ]
  },
  {
   "cell_type": "code",
   "execution_count": 7,
   "metadata": {},
   "outputs": [
    {
     "data": {
      "text/plain": [
       "Index(['authors', 'author_keywords', 'keywords_plus', 'cited_references',\n",
       "       'abstract', 'affiliations', 'doi', 'eissn', 'esi_highly_cited_paper',\n",
       "       'esi_hot_paper', 'early_access_date', 'funding_agency_and_grant_number',\n",
       "       'isbn', 'issn', 'iso_source_abv', 'publication_name', 'language',\n",
       "       'month', 'note', 'cited_reference_count', 'open_access_indicator',\n",
       "       'organization', 'publisher', 'research_areas', 'researcher_id_numbers',\n",
       "       'book_series_title', 'wos_core_collection_times_cited_count',\n",
       "       'document_title', 'document_type', 'wos_categories', 'year_published',\n",
       "       'authors_affiliations', 'corresponding_author_affiliation',\n",
       "       'book.group.author', 'publication_date'],\n",
       "      dtype='object')"
      ]
     },
     "execution_count": 7,
     "metadata": {},
     "output_type": "execute_result"
    }
   ],
   "source": [
    "control_set.columns"
   ]
  },
  {
   "cell_type": "code",
   "execution_count": 8,
   "metadata": {},
   "outputs": [
    {
     "data": {
      "text/html": [
       "<div>\n",
       "<style scoped>\n",
       "    .dataframe tbody tr th:only-of-type {\n",
       "        vertical-align: middle;\n",
       "    }\n",
       "\n",
       "    .dataframe tbody tr th {\n",
       "        vertical-align: top;\n",
       "    }\n",
       "\n",
       "    .dataframe thead th {\n",
       "        text-align: right;\n",
       "    }\n",
       "</style>\n",
       "<table border=\"1\" class=\"dataframe\">\n",
       "  <thead>\n",
       "    <tr style=\"text-align: right;\">\n",
       "      <th></th>\n",
       "      <th>doi</th>\n",
       "      <th>research_areas</th>\n",
       "    </tr>\n",
       "  </thead>\n",
       "  <tbody>\n",
       "    <tr>\n",
       "      <th>0</th>\n",
       "      <td>10.0090/geo2021-0173.1</td>\n",
       "      <td>GEOCHEMISTRY \\&amp; GEOPHYSICS</td>\n",
       "    </tr>\n",
       "    <tr>\n",
       "      <th>1</th>\n",
       "      <td>10.0093/annonc/mdm218</td>\n",
       "      <td>ONCOLOGY</td>\n",
       "    </tr>\n",
       "    <tr>\n",
       "      <th>2</th>\n",
       "      <td>10.1002/(SICI)1097-0266(200001)21:1&lt;23::AID-SM...</td>\n",
       "      <td>BUSINESS \\&amp; ECONOMICS</td>\n",
       "    </tr>\n",
       "    <tr>\n",
       "      <th>3</th>\n",
       "      <td>10.1002/(SICI)1097-0266(200001)21:1&lt;31::AID-SM...</td>\n",
       "      <td>BUSINESS \\&amp; ECONOMICS</td>\n",
       "    </tr>\n",
       "    <tr>\n",
       "      <th>4</th>\n",
       "      <td>10.1002/(SICI)1097-0266(200001)21:1&lt;51::AID-SM...</td>\n",
       "      <td>BUSINESS \\&amp; ECONOMICS</td>\n",
       "    </tr>\n",
       "    <tr>\n",
       "      <th>...</th>\n",
       "      <td>...</td>\n",
       "      <td>...</td>\n",
       "    </tr>\n",
       "    <tr>\n",
       "      <th>933633</th>\n",
       "      <td>None</td>\n",
       "      <td>BIOPHYSICS</td>\n",
       "    </tr>\n",
       "    <tr>\n",
       "      <th>933633</th>\n",
       "      <td>None</td>\n",
       "      <td>BIOTECHNOLOGY \\&amp; APPLIED MICROBIOLOGY</td>\n",
       "    </tr>\n",
       "    <tr>\n",
       "      <th>933633</th>\n",
       "      <td>None</td>\n",
       "      <td>CHEMISTRY</td>\n",
       "    </tr>\n",
       "    <tr>\n",
       "      <th>933633</th>\n",
       "      <td>None</td>\n",
       "      <td>ELECTROCHEMISTRY</td>\n",
       "    </tr>\n",
       "    <tr>\n",
       "      <th>933633</th>\n",
       "      <td>None</td>\n",
       "      <td>SCIENCE \\&amp; TECHNOLOGY - OTHER TOPICS</td>\n",
       "    </tr>\n",
       "  </tbody>\n",
       "</table>\n",
       "<p>1665603 rows × 2 columns</p>\n",
       "</div>"
      ],
      "text/plain": [
       "                                                      doi  \\\n",
       "0                                  10.0090/geo2021-0173.1   \n",
       "1                                   10.0093/annonc/mdm218   \n",
       "2       10.1002/(SICI)1097-0266(200001)21:1<23::AID-SM...   \n",
       "3       10.1002/(SICI)1097-0266(200001)21:1<31::AID-SM...   \n",
       "4       10.1002/(SICI)1097-0266(200001)21:1<51::AID-SM...   \n",
       "...                                                   ...   \n",
       "933633                                               None   \n",
       "933633                                               None   \n",
       "933633                                               None   \n",
       "933633                                               None   \n",
       "933633                                               None   \n",
       "\n",
       "                               research_areas  \n",
       "0                  GEOCHEMISTRY \\& GEOPHYSICS  \n",
       "1                                    ONCOLOGY  \n",
       "2                       BUSINESS \\& ECONOMICS  \n",
       "3                       BUSINESS \\& ECONOMICS  \n",
       "4                       BUSINESS \\& ECONOMICS  \n",
       "...                                       ...  \n",
       "933633                             BIOPHYSICS  \n",
       "933633  BIOTECHNOLOGY \\& APPLIED MICROBIOLOGY  \n",
       "933633                              CHEMISTRY  \n",
       "933633                       ELECTROCHEMISTRY  \n",
       "933633   SCIENCE \\& TECHNOLOGY - OTHER TOPICS  \n",
       "\n",
       "[1665603 rows x 2 columns]"
      ]
     },
     "execution_count": 8,
     "metadata": {},
     "output_type": "execute_result"
    }
   ],
   "source": [
    "areas = control_set[['doi','research_areas']]\n",
    "areas.loc[:, 'research_areas'] = areas['research_areas'].str.split(';')\n",
    "areas = areas.explode('research_areas')\n",
    "areas = areas[areas['research_areas'].str.strip() != \"\"]\n",
    "areas['research_areas'] = areas['research_areas'].str.strip()\n",
    "areas"
   ]
  },
  {
   "cell_type": "code",
   "execution_count": 9,
   "metadata": {},
   "outputs": [
    {
     "data": {
      "text/plain": [
       "research_areas\n",
       "SCIENCE \\& TECHNOLOGY - OTHER TOPICS         157744\n",
       "CHEMISTRY                                    141119\n",
       "MATERIALS SCIENCE                            119366\n",
       "ENGINEERING                                  110566\n",
       "BIOCHEMISTRY \\& MOLECULAR BIOLOGY             83146\n",
       "                                              ...  \n",
       "WOMEN'S STUDIES                                  27\n",
       "ANTHROPOLOGY                                     15\n",
       "SOCIAL ISSUES                                     7\n",
       "MEDICAL ETHICS                                    5\n",
       "OPERATIONS RESEARCH \\& MANAGEMENT SCIENCE         1\n",
       "Name: count, Length: 118, dtype: int64"
      ]
     },
     "execution_count": 9,
     "metadata": {},
     "output_type": "execute_result"
    }
   ],
   "source": [
    "areas['research_areas'].value_counts()"
   ]
  },
  {
   "cell_type": "code",
   "execution_count": 10,
   "metadata": {},
   "outputs": [],
   "source": [
    "#pd.DataFrame(areas['research_areas'].unique()).to_excel('./research_areas_wos.xlsx', index=False)"
   ]
  },
  {
   "cell_type": "code",
   "execution_count": 11,
   "metadata": {},
   "outputs": [
    {
     "data": {
      "text/html": [
       "<div>\n",
       "<style scoped>\n",
       "    .dataframe tbody tr th:only-of-type {\n",
       "        vertical-align: middle;\n",
       "    }\n",
       "\n",
       "    .dataframe tbody tr th {\n",
       "        vertical-align: top;\n",
       "    }\n",
       "\n",
       "    .dataframe thead th {\n",
       "        text-align: right;\n",
       "    }\n",
       "</style>\n",
       "<table border=\"1\" class=\"dataframe\">\n",
       "  <thead>\n",
       "    <tr style=\"text-align: right;\">\n",
       "      <th></th>\n",
       "      <th>Área científica</th>\n",
       "      <th>Classificação Isabel</th>\n",
       "    </tr>\n",
       "  </thead>\n",
       "  <tbody>\n",
       "    <tr>\n",
       "      <th>0</th>\n",
       "      <td>GEOCHEMISTRY \\&amp; GEOPHYSICS</td>\n",
       "      <td>0</td>\n",
       "    </tr>\n",
       "    <tr>\n",
       "      <th>1</th>\n",
       "      <td>ONCOLOGY</td>\n",
       "      <td>1</td>\n",
       "    </tr>\n",
       "    <tr>\n",
       "      <th>2</th>\n",
       "      <td>BUSINESS \\&amp; ECONOMICS</td>\n",
       "      <td>0</td>\n",
       "    </tr>\n",
       "    <tr>\n",
       "      <th>3</th>\n",
       "      <td>PHYSICAL GEOGRAPHY</td>\n",
       "      <td>0</td>\n",
       "    </tr>\n",
       "    <tr>\n",
       "      <th>4</th>\n",
       "      <td>GEOLOGY</td>\n",
       "      <td>0</td>\n",
       "    </tr>\n",
       "    <tr>\n",
       "      <th>...</th>\n",
       "      <td>...</td>\n",
       "      <td>...</td>\n",
       "    </tr>\n",
       "    <tr>\n",
       "      <th>113</th>\n",
       "      <td>DENTISTRY, ORAL SURGERY \\&amp; MEDICINE</td>\n",
       "      <td>1</td>\n",
       "    </tr>\n",
       "    <tr>\n",
       "      <th>114</th>\n",
       "      <td>WOMEN'S STUDIES</td>\n",
       "      <td>0</td>\n",
       "    </tr>\n",
       "    <tr>\n",
       "      <th>115</th>\n",
       "      <td>SPECTROSCOPY</td>\n",
       "      <td>1</td>\n",
       "    </tr>\n",
       "    <tr>\n",
       "      <th>116</th>\n",
       "      <td>MARINE \\&amp; FRESHWATER BIOLOGY</td>\n",
       "      <td>0</td>\n",
       "    </tr>\n",
       "    <tr>\n",
       "      <th>117</th>\n",
       "      <td>ANTHROPOLOGY</td>\n",
       "      <td>0</td>\n",
       "    </tr>\n",
       "  </tbody>\n",
       "</table>\n",
       "<p>118 rows × 2 columns</p>\n",
       "</div>"
      ],
      "text/plain": [
       "                         Área científica  Classificação Isabel\n",
       "0             GEOCHEMISTRY \\& GEOPHYSICS                     0\n",
       "1                               ONCOLOGY                     1\n",
       "2                  BUSINESS \\& ECONOMICS                     0\n",
       "3                     PHYSICAL GEOGRAPHY                     0\n",
       "4                                GEOLOGY                     0\n",
       "..                                   ...                   ...\n",
       "113  DENTISTRY, ORAL SURGERY \\& MEDICINE                     1\n",
       "114                      WOMEN'S STUDIES                     0\n",
       "115                         SPECTROSCOPY                     1\n",
       "116         MARINE \\& FRESHWATER BIOLOGY                     0\n",
       "117                         ANTHROPOLOGY                     0\n",
       "\n",
       "[118 rows x 2 columns]"
      ]
     },
     "execution_count": 11,
     "metadata": {},
     "output_type": "execute_result"
    }
   ],
   "source": [
    "classif_areas = pd.read_excel('./research_areas_wos_classified.xlsx')\n",
    "classif_areas"
   ]
  },
  {
   "cell_type": "code",
   "execution_count": 12,
   "metadata": {},
   "outputs": [
    {
     "data": {
      "text/html": [
       "<div>\n",
       "<style scoped>\n",
       "    .dataframe tbody tr th:only-of-type {\n",
       "        vertical-align: middle;\n",
       "    }\n",
       "\n",
       "    .dataframe tbody tr th {\n",
       "        vertical-align: top;\n",
       "    }\n",
       "\n",
       "    .dataframe thead th {\n",
       "        text-align: right;\n",
       "    }\n",
       "</style>\n",
       "<table border=\"1\" class=\"dataframe\">\n",
       "  <thead>\n",
       "    <tr style=\"text-align: right;\">\n",
       "      <th></th>\n",
       "      <th>doi</th>\n",
       "      <th>research_areas</th>\n",
       "      <th>Área científica</th>\n",
       "      <th>Classificação Isabel</th>\n",
       "    </tr>\n",
       "  </thead>\n",
       "  <tbody>\n",
       "    <tr>\n",
       "      <th>0</th>\n",
       "      <td>10.0090/geo2021-0173.1</td>\n",
       "      <td>GEOCHEMISTRY \\&amp; GEOPHYSICS</td>\n",
       "      <td>GEOCHEMISTRY \\&amp; GEOPHYSICS</td>\n",
       "      <td>0</td>\n",
       "    </tr>\n",
       "    <tr>\n",
       "      <th>1</th>\n",
       "      <td>10.0093/annonc/mdm218</td>\n",
       "      <td>ONCOLOGY</td>\n",
       "      <td>ONCOLOGY</td>\n",
       "      <td>1</td>\n",
       "    </tr>\n",
       "    <tr>\n",
       "      <th>2</th>\n",
       "      <td>10.1002/(SICI)1097-0266(200001)21:1&lt;23::AID-SM...</td>\n",
       "      <td>BUSINESS \\&amp; ECONOMICS</td>\n",
       "      <td>BUSINESS \\&amp; ECONOMICS</td>\n",
       "      <td>0</td>\n",
       "    </tr>\n",
       "    <tr>\n",
       "      <th>3</th>\n",
       "      <td>10.1002/(SICI)1097-0266(200001)21:1&lt;31::AID-SM...</td>\n",
       "      <td>BUSINESS \\&amp; ECONOMICS</td>\n",
       "      <td>BUSINESS \\&amp; ECONOMICS</td>\n",
       "      <td>0</td>\n",
       "    </tr>\n",
       "    <tr>\n",
       "      <th>4</th>\n",
       "      <td>10.1002/(SICI)1097-0266(200001)21:1&lt;51::AID-SM...</td>\n",
       "      <td>BUSINESS \\&amp; ECONOMICS</td>\n",
       "      <td>BUSINESS \\&amp; ECONOMICS</td>\n",
       "      <td>0</td>\n",
       "    </tr>\n",
       "    <tr>\n",
       "      <th>...</th>\n",
       "      <td>...</td>\n",
       "      <td>...</td>\n",
       "      <td>...</td>\n",
       "      <td>...</td>\n",
       "    </tr>\n",
       "    <tr>\n",
       "      <th>1665598</th>\n",
       "      <td>None</td>\n",
       "      <td>BIOPHYSICS</td>\n",
       "      <td>BIOPHYSICS</td>\n",
       "      <td>0</td>\n",
       "    </tr>\n",
       "    <tr>\n",
       "      <th>1665599</th>\n",
       "      <td>None</td>\n",
       "      <td>BIOTECHNOLOGY \\&amp; APPLIED MICROBIOLOGY</td>\n",
       "      <td>BIOTECHNOLOGY \\&amp; APPLIED MICROBIOLOGY</td>\n",
       "      <td>2</td>\n",
       "    </tr>\n",
       "    <tr>\n",
       "      <th>1665600</th>\n",
       "      <td>None</td>\n",
       "      <td>CHEMISTRY</td>\n",
       "      <td>CHEMISTRY</td>\n",
       "      <td>0</td>\n",
       "    </tr>\n",
       "    <tr>\n",
       "      <th>1665601</th>\n",
       "      <td>None</td>\n",
       "      <td>ELECTROCHEMISTRY</td>\n",
       "      <td>ELECTROCHEMISTRY</td>\n",
       "      <td>0</td>\n",
       "    </tr>\n",
       "    <tr>\n",
       "      <th>1665602</th>\n",
       "      <td>None</td>\n",
       "      <td>SCIENCE \\&amp; TECHNOLOGY - OTHER TOPICS</td>\n",
       "      <td>SCIENCE \\&amp; TECHNOLOGY - OTHER TOPICS</td>\n",
       "      <td>0</td>\n",
       "    </tr>\n",
       "  </tbody>\n",
       "</table>\n",
       "<p>1665603 rows × 4 columns</p>\n",
       "</div>"
      ],
      "text/plain": [
       "                                                       doi  \\\n",
       "0                                   10.0090/geo2021-0173.1   \n",
       "1                                    10.0093/annonc/mdm218   \n",
       "2        10.1002/(SICI)1097-0266(200001)21:1<23::AID-SM...   \n",
       "3        10.1002/(SICI)1097-0266(200001)21:1<31::AID-SM...   \n",
       "4        10.1002/(SICI)1097-0266(200001)21:1<51::AID-SM...   \n",
       "...                                                    ...   \n",
       "1665598                                               None   \n",
       "1665599                                               None   \n",
       "1665600                                               None   \n",
       "1665601                                               None   \n",
       "1665602                                               None   \n",
       "\n",
       "                                research_areas  \\\n",
       "0                   GEOCHEMISTRY \\& GEOPHYSICS   \n",
       "1                                     ONCOLOGY   \n",
       "2                        BUSINESS \\& ECONOMICS   \n",
       "3                        BUSINESS \\& ECONOMICS   \n",
       "4                        BUSINESS \\& ECONOMICS   \n",
       "...                                        ...   \n",
       "1665598                             BIOPHYSICS   \n",
       "1665599  BIOTECHNOLOGY \\& APPLIED MICROBIOLOGY   \n",
       "1665600                              CHEMISTRY   \n",
       "1665601                       ELECTROCHEMISTRY   \n",
       "1665602   SCIENCE \\& TECHNOLOGY - OTHER TOPICS   \n",
       "\n",
       "                               Área científica  Classificação Isabel  \n",
       "0                   GEOCHEMISTRY \\& GEOPHYSICS                     0  \n",
       "1                                     ONCOLOGY                     1  \n",
       "2                        BUSINESS \\& ECONOMICS                     0  \n",
       "3                        BUSINESS \\& ECONOMICS                     0  \n",
       "4                        BUSINESS \\& ECONOMICS                     0  \n",
       "...                                        ...                   ...  \n",
       "1665598                             BIOPHYSICS                     0  \n",
       "1665599  BIOTECHNOLOGY \\& APPLIED MICROBIOLOGY                     2  \n",
       "1665600                              CHEMISTRY                     0  \n",
       "1665601                       ELECTROCHEMISTRY                     0  \n",
       "1665602   SCIENCE \\& TECHNOLOGY - OTHER TOPICS                     0  \n",
       "\n",
       "[1665603 rows x 4 columns]"
      ]
     },
     "execution_count": 12,
     "metadata": {},
     "output_type": "execute_result"
    }
   ],
   "source": [
    "areas = areas.merge(classif_areas, how= 'left', left_on = 'research_areas', right_on = 'Área científica')\n",
    "areas"
   ]
  },
  {
   "cell_type": "code",
   "execution_count": 13,
   "metadata": {},
   "outputs": [],
   "source": [
    "areas['Biomedicine'] = np.where(areas['Classificação Isabel'] >= 1, 1, 0)"
   ]
  },
  {
   "cell_type": "code",
   "execution_count": 14,
   "metadata": {},
   "outputs": [
    {
     "data": {
      "text/html": [
       "<div>\n",
       "<style scoped>\n",
       "    .dataframe tbody tr th:only-of-type {\n",
       "        vertical-align: middle;\n",
       "    }\n",
       "\n",
       "    .dataframe tbody tr th {\n",
       "        vertical-align: top;\n",
       "    }\n",
       "\n",
       "    .dataframe thead th {\n",
       "        text-align: right;\n",
       "    }\n",
       "</style>\n",
       "<table border=\"1\" class=\"dataframe\">\n",
       "  <thead>\n",
       "    <tr style=\"text-align: right;\">\n",
       "      <th></th>\n",
       "      <th>doi</th>\n",
       "      <th>research_areas</th>\n",
       "      <th>Área científica</th>\n",
       "      <th>Classificação Isabel</th>\n",
       "      <th>Biomedicine</th>\n",
       "    </tr>\n",
       "  </thead>\n",
       "  <tbody>\n",
       "    <tr>\n",
       "      <th>0</th>\n",
       "      <td>10.0090/geo2021-0173.1</td>\n",
       "      <td>GEOCHEMISTRY \\&amp; GEOPHYSICS</td>\n",
       "      <td>GEOCHEMISTRY \\&amp; GEOPHYSICS</td>\n",
       "      <td>0</td>\n",
       "      <td>0</td>\n",
       "    </tr>\n",
       "    <tr>\n",
       "      <th>1</th>\n",
       "      <td>10.0093/annonc/mdm218</td>\n",
       "      <td>ONCOLOGY</td>\n",
       "      <td>ONCOLOGY</td>\n",
       "      <td>1</td>\n",
       "      <td>1</td>\n",
       "    </tr>\n",
       "    <tr>\n",
       "      <th>2</th>\n",
       "      <td>10.1002/(SICI)1097-0266(200001)21:1&lt;23::AID-SM...</td>\n",
       "      <td>BUSINESS \\&amp; ECONOMICS</td>\n",
       "      <td>BUSINESS \\&amp; ECONOMICS</td>\n",
       "      <td>0</td>\n",
       "      <td>0</td>\n",
       "    </tr>\n",
       "    <tr>\n",
       "      <th>3</th>\n",
       "      <td>10.1002/(SICI)1097-0266(200001)21:1&lt;31::AID-SM...</td>\n",
       "      <td>BUSINESS \\&amp; ECONOMICS</td>\n",
       "      <td>BUSINESS \\&amp; ECONOMICS</td>\n",
       "      <td>0</td>\n",
       "      <td>0</td>\n",
       "    </tr>\n",
       "    <tr>\n",
       "      <th>4</th>\n",
       "      <td>10.1002/(SICI)1097-0266(200001)21:1&lt;51::AID-SM...</td>\n",
       "      <td>BUSINESS \\&amp; ECONOMICS</td>\n",
       "      <td>BUSINESS \\&amp; ECONOMICS</td>\n",
       "      <td>0</td>\n",
       "      <td>0</td>\n",
       "    </tr>\n",
       "    <tr>\n",
       "      <th>...</th>\n",
       "      <td>...</td>\n",
       "      <td>...</td>\n",
       "      <td>...</td>\n",
       "      <td>...</td>\n",
       "      <td>...</td>\n",
       "    </tr>\n",
       "    <tr>\n",
       "      <th>1665598</th>\n",
       "      <td>None</td>\n",
       "      <td>BIOPHYSICS</td>\n",
       "      <td>BIOPHYSICS</td>\n",
       "      <td>0</td>\n",
       "      <td>0</td>\n",
       "    </tr>\n",
       "    <tr>\n",
       "      <th>1665599</th>\n",
       "      <td>None</td>\n",
       "      <td>BIOTECHNOLOGY \\&amp; APPLIED MICROBIOLOGY</td>\n",
       "      <td>BIOTECHNOLOGY \\&amp; APPLIED MICROBIOLOGY</td>\n",
       "      <td>2</td>\n",
       "      <td>1</td>\n",
       "    </tr>\n",
       "    <tr>\n",
       "      <th>1665600</th>\n",
       "      <td>None</td>\n",
       "      <td>CHEMISTRY</td>\n",
       "      <td>CHEMISTRY</td>\n",
       "      <td>0</td>\n",
       "      <td>0</td>\n",
       "    </tr>\n",
       "    <tr>\n",
       "      <th>1665601</th>\n",
       "      <td>None</td>\n",
       "      <td>ELECTROCHEMISTRY</td>\n",
       "      <td>ELECTROCHEMISTRY</td>\n",
       "      <td>0</td>\n",
       "      <td>0</td>\n",
       "    </tr>\n",
       "    <tr>\n",
       "      <th>1665602</th>\n",
       "      <td>None</td>\n",
       "      <td>SCIENCE \\&amp; TECHNOLOGY - OTHER TOPICS</td>\n",
       "      <td>SCIENCE \\&amp; TECHNOLOGY - OTHER TOPICS</td>\n",
       "      <td>0</td>\n",
       "      <td>0</td>\n",
       "    </tr>\n",
       "  </tbody>\n",
       "</table>\n",
       "<p>1665603 rows × 5 columns</p>\n",
       "</div>"
      ],
      "text/plain": [
       "                                                       doi  \\\n",
       "0                                   10.0090/geo2021-0173.1   \n",
       "1                                    10.0093/annonc/mdm218   \n",
       "2        10.1002/(SICI)1097-0266(200001)21:1<23::AID-SM...   \n",
       "3        10.1002/(SICI)1097-0266(200001)21:1<31::AID-SM...   \n",
       "4        10.1002/(SICI)1097-0266(200001)21:1<51::AID-SM...   \n",
       "...                                                    ...   \n",
       "1665598                                               None   \n",
       "1665599                                               None   \n",
       "1665600                                               None   \n",
       "1665601                                               None   \n",
       "1665602                                               None   \n",
       "\n",
       "                                research_areas  \\\n",
       "0                   GEOCHEMISTRY \\& GEOPHYSICS   \n",
       "1                                     ONCOLOGY   \n",
       "2                        BUSINESS \\& ECONOMICS   \n",
       "3                        BUSINESS \\& ECONOMICS   \n",
       "4                        BUSINESS \\& ECONOMICS   \n",
       "...                                        ...   \n",
       "1665598                             BIOPHYSICS   \n",
       "1665599  BIOTECHNOLOGY \\& APPLIED MICROBIOLOGY   \n",
       "1665600                              CHEMISTRY   \n",
       "1665601                       ELECTROCHEMISTRY   \n",
       "1665602   SCIENCE \\& TECHNOLOGY - OTHER TOPICS   \n",
       "\n",
       "                               Área científica  Classificação Isabel  \\\n",
       "0                   GEOCHEMISTRY \\& GEOPHYSICS                     0   \n",
       "1                                     ONCOLOGY                     1   \n",
       "2                        BUSINESS \\& ECONOMICS                     0   \n",
       "3                        BUSINESS \\& ECONOMICS                     0   \n",
       "4                        BUSINESS \\& ECONOMICS                     0   \n",
       "...                                        ...                   ...   \n",
       "1665598                             BIOPHYSICS                     0   \n",
       "1665599  BIOTECHNOLOGY \\& APPLIED MICROBIOLOGY                     2   \n",
       "1665600                              CHEMISTRY                     0   \n",
       "1665601                       ELECTROCHEMISTRY                     0   \n",
       "1665602   SCIENCE \\& TECHNOLOGY - OTHER TOPICS                     0   \n",
       "\n",
       "         Biomedicine  \n",
       "0                  0  \n",
       "1                  1  \n",
       "2                  0  \n",
       "3                  0  \n",
       "4                  0  \n",
       "...              ...  \n",
       "1665598            0  \n",
       "1665599            1  \n",
       "1665600            0  \n",
       "1665601            0  \n",
       "1665602            0  \n",
       "\n",
       "[1665603 rows x 5 columns]"
      ]
     },
     "execution_count": 14,
     "metadata": {},
     "output_type": "execute_result"
    }
   ],
   "source": [
    "areas"
   ]
  },
  {
   "cell_type": "code",
   "execution_count": 15,
   "metadata": {},
   "outputs": [],
   "source": [
    "control_set = control_set.merge(areas.groupby('doi')['Biomedicine'].sum(), how='left', on = 'doi')"
   ]
  },
  {
   "cell_type": "code",
   "execution_count": 16,
   "metadata": {},
   "outputs": [],
   "source": [
    "control_set['Biomedicine'] = np.where(control_set['Biomedicine']>=1, 1, 0)"
   ]
  },
  {
   "cell_type": "code",
   "execution_count": 17,
   "metadata": {},
   "outputs": [
    {
     "data": {
      "text/html": [
       "<div>\n",
       "<style scoped>\n",
       "    .dataframe tbody tr th:only-of-type {\n",
       "        vertical-align: middle;\n",
       "    }\n",
       "\n",
       "    .dataframe tbody tr th {\n",
       "        vertical-align: top;\n",
       "    }\n",
       "\n",
       "    .dataframe thead th {\n",
       "        text-align: right;\n",
       "    }\n",
       "</style>\n",
       "<table border=\"1\" class=\"dataframe\">\n",
       "  <thead>\n",
       "    <tr style=\"text-align: right;\">\n",
       "      <th></th>\n",
       "      <th>0</th>\n",
       "    </tr>\n",
       "  </thead>\n",
       "  <tbody>\n",
       "    <tr>\n",
       "      <th>0</th>\n",
       "      <td>GEOCHEMISTRY \\&amp; GEOPHYSICS</td>\n",
       "    </tr>\n",
       "    <tr>\n",
       "      <th>1</th>\n",
       "      <td>ONCOLOGY</td>\n",
       "    </tr>\n",
       "    <tr>\n",
       "      <th>2</th>\n",
       "      <td>BUSINESS \\&amp; ECONOMICS</td>\n",
       "    </tr>\n",
       "    <tr>\n",
       "      <th>3</th>\n",
       "      <td>PHYSICAL GEOGRAPHY</td>\n",
       "    </tr>\n",
       "    <tr>\n",
       "      <th>4</th>\n",
       "      <td>GEOLOGY</td>\n",
       "    </tr>\n",
       "    <tr>\n",
       "      <th>...</th>\n",
       "      <td>...</td>\n",
       "    </tr>\n",
       "    <tr>\n",
       "      <th>113</th>\n",
       "      <td>DENTISTRY, ORAL SURGERY \\&amp; MEDICINE</td>\n",
       "    </tr>\n",
       "    <tr>\n",
       "      <th>114</th>\n",
       "      <td>WOMEN'S STUDIES</td>\n",
       "    </tr>\n",
       "    <tr>\n",
       "      <th>115</th>\n",
       "      <td>SPECTROSCOPY</td>\n",
       "    </tr>\n",
       "    <tr>\n",
       "      <th>116</th>\n",
       "      <td>MARINE \\&amp; FRESHWATER BIOLOGY</td>\n",
       "    </tr>\n",
       "    <tr>\n",
       "      <th>117</th>\n",
       "      <td>ANTHROPOLOGY</td>\n",
       "    </tr>\n",
       "  </tbody>\n",
       "</table>\n",
       "<p>118 rows × 1 columns</p>\n",
       "</div>"
      ],
      "text/plain": [
       "                                       0\n",
       "0             GEOCHEMISTRY \\& GEOPHYSICS\n",
       "1                               ONCOLOGY\n",
       "2                  BUSINESS \\& ECONOMICS\n",
       "3                     PHYSICAL GEOGRAPHY\n",
       "4                                GEOLOGY\n",
       "..                                   ...\n",
       "113  DENTISTRY, ORAL SURGERY \\& MEDICINE\n",
       "114                      WOMEN'S STUDIES\n",
       "115                         SPECTROSCOPY\n",
       "116         MARINE \\& FRESHWATER BIOLOGY\n",
       "117                         ANTHROPOLOGY\n",
       "\n",
       "[118 rows x 1 columns]"
      ]
     },
     "execution_count": 17,
     "metadata": {},
     "output_type": "execute_result"
    }
   ],
   "source": [
    "pd.DataFrame(areas['research_areas'].unique())"
   ]
  },
  {
   "cell_type": "code",
   "execution_count": 18,
   "metadata": {},
   "outputs": [
    {
     "data": {
      "text/html": [
       "<div>\n",
       "<style scoped>\n",
       "    .dataframe tbody tr th:only-of-type {\n",
       "        vertical-align: middle;\n",
       "    }\n",
       "\n",
       "    .dataframe tbody tr th {\n",
       "        vertical-align: top;\n",
       "    }\n",
       "\n",
       "    .dataframe thead th {\n",
       "        text-align: right;\n",
       "    }\n",
       "</style>\n",
       "<table border=\"1\" class=\"dataframe\">\n",
       "  <thead>\n",
       "    <tr style=\"text-align: right;\">\n",
       "      <th></th>\n",
       "      <th>Record ID</th>\n",
       "      <th>research_areas</th>\n",
       "    </tr>\n",
       "  </thead>\n",
       "  <tbody>\n",
       "    <tr>\n",
       "      <th>0</th>\n",
       "      <td>19131</td>\n",
       "      <td>CHEMISTRY</td>\n",
       "    </tr>\n",
       "    <tr>\n",
       "      <th>0</th>\n",
       "      <td>19131</td>\n",
       "      <td>SCIENCE \\&amp; TECHNOLOGY - OTHER TOPICS</td>\n",
       "    </tr>\n",
       "    <tr>\n",
       "      <th>0</th>\n",
       "      <td>19131</td>\n",
       "      <td>MATERIALS SCIENCE</td>\n",
       "    </tr>\n",
       "    <tr>\n",
       "      <th>0</th>\n",
       "      <td>19131</td>\n",
       "      <td>PHYSICS</td>\n",
       "    </tr>\n",
       "    <tr>\n",
       "      <th>1</th>\n",
       "      <td>5767</td>\n",
       "      <td>CHEMISTRY</td>\n",
       "    </tr>\n",
       "    <tr>\n",
       "      <th>...</th>\n",
       "      <td>...</td>\n",
       "      <td>...</td>\n",
       "    </tr>\n",
       "    <tr>\n",
       "      <th>659</th>\n",
       "      <td>8591</td>\n",
       "      <td>PUBLIC, ENVIRONMENTAL \\&amp; OCCUPATIONAL HEALTH</td>\n",
       "    </tr>\n",
       "    <tr>\n",
       "      <th>660</th>\n",
       "      <td>13650</td>\n",
       "      <td>ORTHOPEDICS</td>\n",
       "    </tr>\n",
       "    <tr>\n",
       "      <th>661</th>\n",
       "      <td>4261</td>\n",
       "      <td>CELL BIOLOGY</td>\n",
       "    </tr>\n",
       "    <tr>\n",
       "      <th>661</th>\n",
       "      <td>4261</td>\n",
       "      <td>HEMATOLOGY</td>\n",
       "    </tr>\n",
       "    <tr>\n",
       "      <th>661</th>\n",
       "      <td>4261</td>\n",
       "      <td>IMMUNOLOGY</td>\n",
       "    </tr>\n",
       "  </tbody>\n",
       "</table>\n",
       "<p>1110 rows × 2 columns</p>\n",
       "</div>"
      ],
      "text/plain": [
       "     Record ID                                research_areas\n",
       "0        19131                                     CHEMISTRY\n",
       "0        19131          SCIENCE \\& TECHNOLOGY - OTHER TOPICS\n",
       "0        19131                             MATERIALS SCIENCE\n",
       "0        19131                                       PHYSICS\n",
       "1         5767                                     CHEMISTRY\n",
       "..         ...                                           ...\n",
       "659       8591  PUBLIC, ENVIRONMENTAL \\& OCCUPATIONAL HEALTH\n",
       "660      13650                                   ORTHOPEDICS\n",
       "661       4261                                  CELL BIOLOGY\n",
       "661       4261                                    HEMATOLOGY\n",
       "661       4261                                    IMMUNOLOGY\n",
       "\n",
       "[1110 rows x 2 columns]"
      ]
     },
     "execution_count": 18,
     "metadata": {},
     "output_type": "execute_result"
    }
   ],
   "source": [
    "subject = retractions[['Record ID','research_areas']]\n",
    "subject.loc[:, 'research_areas'] = subject['research_areas'].str.split(';')\n",
    "subject = subject.explode('research_areas')\n",
    "subject = subject[subject['research_areas'].str.strip() != \"\"]\n",
    "subject['research_areas'] = subject['research_areas'].str.strip()\n",
    "subject"
   ]
  },
  {
   "cell_type": "code",
   "execution_count": 19,
   "metadata": {},
   "outputs": [
    {
     "data": {
      "text/plain": [
       "research_areas\n",
       "SCIENCE \\& TECHNOLOGY - OTHER TOPICS            198\n",
       "BIOCHEMISTRY \\& MOLECULAR BIOLOGY               148\n",
       "CELL BIOLOGY                                    130\n",
       "ONCOLOGY                                         96\n",
       "MATERIALS SCIENCE                                56\n",
       "CHEMISTRY                                        51\n",
       "ENGINEERING                                      42\n",
       "ENDOCRINOLOGY \\& METABOLISM                      26\n",
       "OBSTETRICS \\& GYNECOLOGY                         24\n",
       "ENVIRONMENTAL SCIENCES \\& ECOLOGY                23\n",
       "GENETICS \\& HEREDITY                             20\n",
       "GENERAL \\& INTERNAL MEDICINE                     20\n",
       "PHYSICS                                          19\n",
       "IMMUNOLOGY                                       19\n",
       "METALLURGY \\& METALLURGICAL ENGINEERING          18\n",
       "REPRODUCTIVE BIOLOGY                             17\n",
       "BIOTECHNOLOGY \\& APPLIED MICROBIOLOGY            14\n",
       "ENERGY \\& FUELS                                  13\n",
       "RESEARCH \\& EXPERIMENTAL MEDICINE                13\n",
       "PSYCHOLOGY                                       11\n",
       "BUSINESS \\& ECONOMICS                            11\n",
       "NEUROSCIENCES \\& NEUROLOGY                       10\n",
       "PATHOLOGY                                         9\n",
       "BIOPHYSICS                                        9\n",
       "PHARMACOLOGY \\& PHARMACY                          9\n",
       "ELECTROCHEMISTRY                                  8\n",
       "CONSTRUCTION \\& BUILDING TECHNOLOGY               8\n",
       "CARDIOVASCULAR SYSTEM \\& CARDIOLOGY               7\n",
       "PUBLIC, ENVIRONMENTAL \\& OCCUPATIONAL HEALTH      7\n",
       "HEMATOLOGY                                        6\n",
       "RESPIRATORY SYSTEM                                5\n",
       "LIFE SCIENCES \\& BIOMEDICINE - OTHER TOPICS       5\n",
       "INSTRUMENTS \\& INSTRUMENTATION                    5\n",
       "AUTOMATION \\& CONTROL SYSTEMS                     5\n",
       "THERMODYNAMICS                                    4\n",
       "GEOLOGY                                           4\n",
       "GASTROENTEROLOGY \\& HEPATOLOGY                    4\n",
       "ORTHOPEDICS                                       4\n",
       "POLYMER SCIENCE                                   4\n",
       "PSYCHIATRY                                        3\n",
       "RHEUMATOLOGY                                      3\n",
       "AGRICULTURE                                       3\n",
       "WATER RESOURCES                                   2\n",
       "SPORT SCIENCES                                    2\n",
       "SURGERY                                           2\n",
       "COMPUTER SCIENCE                                  2\n",
       "BEHAVIORAL SCIENCES                               1\n",
       "GEOCHEMISTRY \\& GEOPHYSICS                        1\n",
       "EDUCATION \\& EDUCATIONAL RESEARCH                 1\n",
       "ASTRONOMY \\& ASTROPHYSICS                         1\n",
       "UROLOGY \\& NEPHROLOGY                             1\n",
       "VIROLOGY                                          1\n",
       "FORESTRY                                          1\n",
       "METEOROLOGY \\& ATMOSPHERIC SCIENCES               1\n",
       "DERMATOLOGY                                       1\n",
       "MICROBIOLOGY                                      1\n",
       "PARASITOLOGY                                      1\n",
       "Name: count, dtype: int64"
      ]
     },
     "execution_count": 19,
     "metadata": {},
     "output_type": "execute_result"
    }
   ],
   "source": [
    "subject['research_areas'].value_counts()#[:30]"
   ]
  },
  {
   "cell_type": "code",
   "execution_count": 20,
   "metadata": {},
   "outputs": [],
   "source": [
    "subject = subject.merge(classif_areas, how= 'left', left_on = 'research_areas', right_on = 'Área científica')\n",
    "subject['Biomedicine'] = np.where(subject['Classificação Isabel'] >= 1, 1, 0)"
   ]
  },
  {
   "cell_type": "code",
   "execution_count": 21,
   "metadata": {},
   "outputs": [
    {
     "data": {
      "text/html": [
       "<div>\n",
       "<style scoped>\n",
       "    .dataframe tbody tr th:only-of-type {\n",
       "        vertical-align: middle;\n",
       "    }\n",
       "\n",
       "    .dataframe tbody tr th {\n",
       "        vertical-align: top;\n",
       "    }\n",
       "\n",
       "    .dataframe thead th {\n",
       "        text-align: right;\n",
       "    }\n",
       "</style>\n",
       "<table border=\"1\" class=\"dataframe\">\n",
       "  <thead>\n",
       "    <tr style=\"text-align: right;\">\n",
       "      <th></th>\n",
       "      <th>Record ID</th>\n",
       "      <th>research_areas</th>\n",
       "      <th>Área científica</th>\n",
       "      <th>Classificação Isabel</th>\n",
       "      <th>Biomedicine</th>\n",
       "    </tr>\n",
       "  </thead>\n",
       "  <tbody>\n",
       "    <tr>\n",
       "      <th>0</th>\n",
       "      <td>19131</td>\n",
       "      <td>CHEMISTRY</td>\n",
       "      <td>CHEMISTRY</td>\n",
       "      <td>0</td>\n",
       "      <td>0</td>\n",
       "    </tr>\n",
       "    <tr>\n",
       "      <th>1</th>\n",
       "      <td>19131</td>\n",
       "      <td>SCIENCE \\&amp; TECHNOLOGY - OTHER TOPICS</td>\n",
       "      <td>SCIENCE \\&amp; TECHNOLOGY - OTHER TOPICS</td>\n",
       "      <td>0</td>\n",
       "      <td>0</td>\n",
       "    </tr>\n",
       "    <tr>\n",
       "      <th>2</th>\n",
       "      <td>19131</td>\n",
       "      <td>MATERIALS SCIENCE</td>\n",
       "      <td>MATERIALS SCIENCE</td>\n",
       "      <td>0</td>\n",
       "      <td>0</td>\n",
       "    </tr>\n",
       "    <tr>\n",
       "      <th>3</th>\n",
       "      <td>19131</td>\n",
       "      <td>PHYSICS</td>\n",
       "      <td>PHYSICS</td>\n",
       "      <td>0</td>\n",
       "      <td>0</td>\n",
       "    </tr>\n",
       "    <tr>\n",
       "      <th>4</th>\n",
       "      <td>5767</td>\n",
       "      <td>CHEMISTRY</td>\n",
       "      <td>CHEMISTRY</td>\n",
       "      <td>0</td>\n",
       "      <td>0</td>\n",
       "    </tr>\n",
       "    <tr>\n",
       "      <th>...</th>\n",
       "      <td>...</td>\n",
       "      <td>...</td>\n",
       "      <td>...</td>\n",
       "      <td>...</td>\n",
       "      <td>...</td>\n",
       "    </tr>\n",
       "    <tr>\n",
       "      <th>1105</th>\n",
       "      <td>8591</td>\n",
       "      <td>PUBLIC, ENVIRONMENTAL \\&amp; OCCUPATIONAL HEALTH</td>\n",
       "      <td>PUBLIC, ENVIRONMENTAL \\&amp; OCCUPATIONAL HEALTH</td>\n",
       "      <td>0</td>\n",
       "      <td>0</td>\n",
       "    </tr>\n",
       "    <tr>\n",
       "      <th>1106</th>\n",
       "      <td>13650</td>\n",
       "      <td>ORTHOPEDICS</td>\n",
       "      <td>ORTHOPEDICS</td>\n",
       "      <td>1</td>\n",
       "      <td>1</td>\n",
       "    </tr>\n",
       "    <tr>\n",
       "      <th>1107</th>\n",
       "      <td>4261</td>\n",
       "      <td>CELL BIOLOGY</td>\n",
       "      <td>CELL BIOLOGY</td>\n",
       "      <td>2</td>\n",
       "      <td>1</td>\n",
       "    </tr>\n",
       "    <tr>\n",
       "      <th>1108</th>\n",
       "      <td>4261</td>\n",
       "      <td>HEMATOLOGY</td>\n",
       "      <td>HEMATOLOGY</td>\n",
       "      <td>1</td>\n",
       "      <td>1</td>\n",
       "    </tr>\n",
       "    <tr>\n",
       "      <th>1109</th>\n",
       "      <td>4261</td>\n",
       "      <td>IMMUNOLOGY</td>\n",
       "      <td>IMMUNOLOGY</td>\n",
       "      <td>1</td>\n",
       "      <td>1</td>\n",
       "    </tr>\n",
       "  </tbody>\n",
       "</table>\n",
       "<p>1110 rows × 5 columns</p>\n",
       "</div>"
      ],
      "text/plain": [
       "      Record ID                                research_areas  \\\n",
       "0         19131                                     CHEMISTRY   \n",
       "1         19131          SCIENCE \\& TECHNOLOGY - OTHER TOPICS   \n",
       "2         19131                             MATERIALS SCIENCE   \n",
       "3         19131                                       PHYSICS   \n",
       "4          5767                                     CHEMISTRY   \n",
       "...         ...                                           ...   \n",
       "1105       8591  PUBLIC, ENVIRONMENTAL \\& OCCUPATIONAL HEALTH   \n",
       "1106      13650                                   ORTHOPEDICS   \n",
       "1107       4261                                  CELL BIOLOGY   \n",
       "1108       4261                                    HEMATOLOGY   \n",
       "1109       4261                                    IMMUNOLOGY   \n",
       "\n",
       "                                   Área científica  Classificação Isabel  \\\n",
       "0                                        CHEMISTRY                     0   \n",
       "1             SCIENCE \\& TECHNOLOGY - OTHER TOPICS                     0   \n",
       "2                                MATERIALS SCIENCE                     0   \n",
       "3                                          PHYSICS                     0   \n",
       "4                                        CHEMISTRY                     0   \n",
       "...                                            ...                   ...   \n",
       "1105  PUBLIC, ENVIRONMENTAL \\& OCCUPATIONAL HEALTH                     0   \n",
       "1106                                   ORTHOPEDICS                     1   \n",
       "1107                                  CELL BIOLOGY                     2   \n",
       "1108                                    HEMATOLOGY                     1   \n",
       "1109                                    IMMUNOLOGY                     1   \n",
       "\n",
       "      Biomedicine  \n",
       "0               0  \n",
       "1               0  \n",
       "2               0  \n",
       "3               0  \n",
       "4               0  \n",
       "...           ...  \n",
       "1105            0  \n",
       "1106            1  \n",
       "1107            1  \n",
       "1108            1  \n",
       "1109            1  \n",
       "\n",
       "[1110 rows x 5 columns]"
      ]
     },
     "execution_count": 21,
     "metadata": {},
     "output_type": "execute_result"
    }
   ],
   "source": [
    "subject"
   ]
  },
  {
   "cell_type": "code",
   "execution_count": 22,
   "metadata": {},
   "outputs": [
    {
     "data": {
      "text/plain": [
       "Biomedicine\n",
       "0    301\n",
       "1    173\n",
       "2    159\n",
       "4     16\n",
       "3     13\n",
       "Name: count, dtype: int64"
      ]
     },
     "execution_count": 22,
     "metadata": {},
     "output_type": "execute_result"
    }
   ],
   "source": [
    "subject.groupby('Record ID')['Biomedicine'].sum().value_counts()"
   ]
  },
  {
   "cell_type": "code",
   "execution_count": 23,
   "metadata": {},
   "outputs": [],
   "source": [
    "retractions = retractions.merge(subject.groupby('Record ID')['Biomedicine'].sum(), how='left', on = 'Record ID')"
   ]
  },
  {
   "cell_type": "code",
   "execution_count": 24,
   "metadata": {},
   "outputs": [],
   "source": [
    "retractions['Biomedicine'] = np.where(retractions['Biomedicine']>=1, 1, 0)"
   ]
  },
  {
   "cell_type": "code",
   "execution_count": 25,
   "metadata": {},
   "outputs": [
    {
     "data": {
      "text/plain": [
       "Biomedicine\n",
       "1    361\n",
       "0    301\n",
       "Name: count, dtype: int64"
      ]
     },
     "execution_count": 25,
     "metadata": {},
     "output_type": "execute_result"
    }
   ],
   "source": [
    "retractions['Biomedicine'].value_counts()"
   ]
  },
  {
   "cell_type": "code",
   "execution_count": 26,
   "metadata": {},
   "outputs": [],
   "source": [
    "retractions_grouped = retractions[retractions['RetractionDate'].dt.year != 2023].groupby(retractions['RetractionDate'].dt.year)['Record ID'].count().reset_index(name= 'Nr of Retractions')\n",
    "control_set_grouped = control_set.groupby('year_published').size().reset_index(name= 'Nr of Articles')\n",
    "\n",
    "# Merge the two grouped DataFrames on the 'year_published' column\n",
    "year_counts = pd.merge(retractions_grouped, control_set_grouped, how='outer', left_on='RetractionDate', right_on='year_published').drop('year_published', axis=1)"
   ]
  },
  {
   "cell_type": "code",
   "execution_count": 27,
   "metadata": {},
   "outputs": [],
   "source": [
    "number_of_biomed_retracted = retractions[retractions['RetractionDate'].dt.year != 2023].groupby(retractions['RetractionDate'].dt.year)['Biomedicine'].sum().reset_index(name= 'Nr of Retractions in Biomedicine')\n",
    "number_of_biomed_total = control_set[control_set['year_published'] != 2023].groupby(control_set['year_published'])['Biomedicine'].sum().reset_index(name= 'Nr of Articles in Biomedicine')"
   ]
  },
  {
   "cell_type": "code",
   "execution_count": 28,
   "metadata": {},
   "outputs": [],
   "source": [
    "number_of_non_biomed_retracted = retractions[retractions['RetractionDate'].dt.year != 2023].groupby(retractions['RetractionDate'].dt.year)['Biomedicine'].apply(lambda x: (x == 0).sum()).reset_index(name='Nr of Retractions not in Biomedicine')\n",
    "number_of_non_biomed_total = control_set[control_set['year_published'] != 2023].groupby(control_set['year_published'])['Biomedicine'].apply(lambda x: (x == 0).sum()).reset_index(name='Nr of Articles not in Biomedicine')"
   ]
  },
  {
   "cell_type": "code",
   "execution_count": 29,
   "metadata": {},
   "outputs": [],
   "source": [
    "year_counts = pd.merge(year_counts, number_of_biomed_retracted, how='left', on='RetractionDate')\n",
    "year_counts = pd.merge(year_counts, number_of_non_biomed_retracted, how='left', on='RetractionDate')\n",
    "year_counts = pd.merge(year_counts, number_of_biomed_total, how='left', left_on='RetractionDate', right_on='year_published')\n",
    "year_counts = pd.merge(year_counts, number_of_non_biomed_total, how='left', left_on='RetractionDate', right_on='year_published')"
   ]
  },
  {
   "cell_type": "code",
   "execution_count": 30,
   "metadata": {},
   "outputs": [],
   "source": [
    "year_counts.drop(['year_published_x', 'year_published_y'], axis = 1, inplace= True)"
   ]
  },
  {
   "cell_type": "code",
   "execution_count": 31,
   "metadata": {},
   "outputs": [
    {
     "data": {
      "text/html": [
       "<div>\n",
       "<style scoped>\n",
       "    .dataframe tbody tr th:only-of-type {\n",
       "        vertical-align: middle;\n",
       "    }\n",
       "\n",
       "    .dataframe tbody tr th {\n",
       "        vertical-align: top;\n",
       "    }\n",
       "\n",
       "    .dataframe thead th {\n",
       "        text-align: right;\n",
       "    }\n",
       "</style>\n",
       "<table border=\"1\" class=\"dataframe\">\n",
       "  <thead>\n",
       "    <tr style=\"text-align: right;\">\n",
       "      <th></th>\n",
       "      <th>RetractionDate</th>\n",
       "      <th>Nr of Retractions</th>\n",
       "      <th>Nr of Articles</th>\n",
       "      <th>Nr of Retractions in Biomedicine</th>\n",
       "      <th>Nr of Retractions not in Biomedicine</th>\n",
       "      <th>Nr of Articles in Biomedicine</th>\n",
       "      <th>Nr of Articles not in Biomedicine</th>\n",
       "    </tr>\n",
       "  </thead>\n",
       "  <tbody>\n",
       "    <tr>\n",
       "      <th>0</th>\n",
       "      <td>2000</td>\n",
       "      <td>2</td>\n",
       "      <td>23493</td>\n",
       "      <td>1</td>\n",
       "      <td>1</td>\n",
       "      <td>11144</td>\n",
       "      <td>12349</td>\n",
       "    </tr>\n",
       "    <tr>\n",
       "      <th>1</th>\n",
       "      <td>2001</td>\n",
       "      <td>1</td>\n",
       "      <td>23693</td>\n",
       "      <td>1</td>\n",
       "      <td>0</td>\n",
       "      <td>11803</td>\n",
       "      <td>11890</td>\n",
       "    </tr>\n",
       "    <tr>\n",
       "      <th>2</th>\n",
       "      <td>2002</td>\n",
       "      <td>15</td>\n",
       "      <td>24712</td>\n",
       "      <td>1</td>\n",
       "      <td>14</td>\n",
       "      <td>12722</td>\n",
       "      <td>11990</td>\n",
       "    </tr>\n",
       "    <tr>\n",
       "      <th>3</th>\n",
       "      <td>2003</td>\n",
       "      <td>15</td>\n",
       "      <td>26277</td>\n",
       "      <td>3</td>\n",
       "      <td>12</td>\n",
       "      <td>14072</td>\n",
       "      <td>12205</td>\n",
       "    </tr>\n",
       "    <tr>\n",
       "      <th>4</th>\n",
       "      <td>2004</td>\n",
       "      <td>10</td>\n",
       "      <td>26961</td>\n",
       "      <td>6</td>\n",
       "      <td>4</td>\n",
       "      <td>13992</td>\n",
       "      <td>12969</td>\n",
       "    </tr>\n",
       "    <tr>\n",
       "      <th>5</th>\n",
       "      <td>2005</td>\n",
       "      <td>15</td>\n",
       "      <td>28147</td>\n",
       "      <td>8</td>\n",
       "      <td>7</td>\n",
       "      <td>14873</td>\n",
       "      <td>13274</td>\n",
       "    </tr>\n",
       "    <tr>\n",
       "      <th>6</th>\n",
       "      <td>2006</td>\n",
       "      <td>26</td>\n",
       "      <td>29677</td>\n",
       "      <td>14</td>\n",
       "      <td>12</td>\n",
       "      <td>15048</td>\n",
       "      <td>14629</td>\n",
       "    </tr>\n",
       "    <tr>\n",
       "      <th>7</th>\n",
       "      <td>2007</td>\n",
       "      <td>15</td>\n",
       "      <td>31284</td>\n",
       "      <td>9</td>\n",
       "      <td>6</td>\n",
       "      <td>15794</td>\n",
       "      <td>15490</td>\n",
       "    </tr>\n",
       "    <tr>\n",
       "      <th>8</th>\n",
       "      <td>2008</td>\n",
       "      <td>13</td>\n",
       "      <td>32277</td>\n",
       "      <td>7</td>\n",
       "      <td>6</td>\n",
       "      <td>15366</td>\n",
       "      <td>16911</td>\n",
       "    </tr>\n",
       "    <tr>\n",
       "      <th>9</th>\n",
       "      <td>2009</td>\n",
       "      <td>17</td>\n",
       "      <td>33739</td>\n",
       "      <td>8</td>\n",
       "      <td>9</td>\n",
       "      <td>15871</td>\n",
       "      <td>17868</td>\n",
       "    </tr>\n",
       "    <tr>\n",
       "      <th>10</th>\n",
       "      <td>2010</td>\n",
       "      <td>16</td>\n",
       "      <td>34743</td>\n",
       "      <td>10</td>\n",
       "      <td>6</td>\n",
       "      <td>15975</td>\n",
       "      <td>18768</td>\n",
       "    </tr>\n",
       "    <tr>\n",
       "      <th>11</th>\n",
       "      <td>2011</td>\n",
       "      <td>24</td>\n",
       "      <td>36512</td>\n",
       "      <td>16</td>\n",
       "      <td>8</td>\n",
       "      <td>16254</td>\n",
       "      <td>20258</td>\n",
       "    </tr>\n",
       "    <tr>\n",
       "      <th>12</th>\n",
       "      <td>2012</td>\n",
       "      <td>24</td>\n",
       "      <td>38765</td>\n",
       "      <td>19</td>\n",
       "      <td>5</td>\n",
       "      <td>16761</td>\n",
       "      <td>22004</td>\n",
       "    </tr>\n",
       "    <tr>\n",
       "      <th>13</th>\n",
       "      <td>2013</td>\n",
       "      <td>41</td>\n",
       "      <td>41840</td>\n",
       "      <td>16</td>\n",
       "      <td>25</td>\n",
       "      <td>17250</td>\n",
       "      <td>24590</td>\n",
       "    </tr>\n",
       "    <tr>\n",
       "      <th>14</th>\n",
       "      <td>2014</td>\n",
       "      <td>37</td>\n",
       "      <td>43258</td>\n",
       "      <td>22</td>\n",
       "      <td>15</td>\n",
       "      <td>17177</td>\n",
       "      <td>26081</td>\n",
       "    </tr>\n",
       "    <tr>\n",
       "      <th>15</th>\n",
       "      <td>2015</td>\n",
       "      <td>40</td>\n",
       "      <td>45993</td>\n",
       "      <td>21</td>\n",
       "      <td>19</td>\n",
       "      <td>17441</td>\n",
       "      <td>28552</td>\n",
       "    </tr>\n",
       "    <tr>\n",
       "      <th>16</th>\n",
       "      <td>2016</td>\n",
       "      <td>32</td>\n",
       "      <td>48680</td>\n",
       "      <td>17</td>\n",
       "      <td>15</td>\n",
       "      <td>17357</td>\n",
       "      <td>31323</td>\n",
       "    </tr>\n",
       "    <tr>\n",
       "      <th>17</th>\n",
       "      <td>2017</td>\n",
       "      <td>24</td>\n",
       "      <td>51131</td>\n",
       "      <td>14</td>\n",
       "      <td>10</td>\n",
       "      <td>17324</td>\n",
       "      <td>33807</td>\n",
       "    </tr>\n",
       "    <tr>\n",
       "      <th>18</th>\n",
       "      <td>2018</td>\n",
       "      <td>39</td>\n",
       "      <td>56030</td>\n",
       "      <td>24</td>\n",
       "      <td>15</td>\n",
       "      <td>17474</td>\n",
       "      <td>38556</td>\n",
       "    </tr>\n",
       "    <tr>\n",
       "      <th>19</th>\n",
       "      <td>2019</td>\n",
       "      <td>35</td>\n",
       "      <td>58212</td>\n",
       "      <td>16</td>\n",
       "      <td>19</td>\n",
       "      <td>17850</td>\n",
       "      <td>40362</td>\n",
       "    </tr>\n",
       "    <tr>\n",
       "      <th>20</th>\n",
       "      <td>2020</td>\n",
       "      <td>58</td>\n",
       "      <td>62883</td>\n",
       "      <td>28</td>\n",
       "      <td>30</td>\n",
       "      <td>18673</td>\n",
       "      <td>44210</td>\n",
       "    </tr>\n",
       "    <tr>\n",
       "      <th>21</th>\n",
       "      <td>2021</td>\n",
       "      <td>51</td>\n",
       "      <td>68781</td>\n",
       "      <td>26</td>\n",
       "      <td>25</td>\n",
       "      <td>20682</td>\n",
       "      <td>48099</td>\n",
       "    </tr>\n",
       "    <tr>\n",
       "      <th>22</th>\n",
       "      <td>2022</td>\n",
       "      <td>65</td>\n",
       "      <td>66546</td>\n",
       "      <td>41</td>\n",
       "      <td>24</td>\n",
       "      <td>18454</td>\n",
       "      <td>48092</td>\n",
       "    </tr>\n",
       "  </tbody>\n",
       "</table>\n",
       "</div>"
      ],
      "text/plain": [
       "    RetractionDate  Nr of Retractions  Nr of Articles  \\\n",
       "0             2000                  2           23493   \n",
       "1             2001                  1           23693   \n",
       "2             2002                 15           24712   \n",
       "3             2003                 15           26277   \n",
       "4             2004                 10           26961   \n",
       "5             2005                 15           28147   \n",
       "6             2006                 26           29677   \n",
       "7             2007                 15           31284   \n",
       "8             2008                 13           32277   \n",
       "9             2009                 17           33739   \n",
       "10            2010                 16           34743   \n",
       "11            2011                 24           36512   \n",
       "12            2012                 24           38765   \n",
       "13            2013                 41           41840   \n",
       "14            2014                 37           43258   \n",
       "15            2015                 40           45993   \n",
       "16            2016                 32           48680   \n",
       "17            2017                 24           51131   \n",
       "18            2018                 39           56030   \n",
       "19            2019                 35           58212   \n",
       "20            2020                 58           62883   \n",
       "21            2021                 51           68781   \n",
       "22            2022                 65           66546   \n",
       "\n",
       "    Nr of Retractions in Biomedicine  Nr of Retractions not in Biomedicine  \\\n",
       "0                                  1                                     1   \n",
       "1                                  1                                     0   \n",
       "2                                  1                                    14   \n",
       "3                                  3                                    12   \n",
       "4                                  6                                     4   \n",
       "5                                  8                                     7   \n",
       "6                                 14                                    12   \n",
       "7                                  9                                     6   \n",
       "8                                  7                                     6   \n",
       "9                                  8                                     9   \n",
       "10                                10                                     6   \n",
       "11                                16                                     8   \n",
       "12                                19                                     5   \n",
       "13                                16                                    25   \n",
       "14                                22                                    15   \n",
       "15                                21                                    19   \n",
       "16                                17                                    15   \n",
       "17                                14                                    10   \n",
       "18                                24                                    15   \n",
       "19                                16                                    19   \n",
       "20                                28                                    30   \n",
       "21                                26                                    25   \n",
       "22                                41                                    24   \n",
       "\n",
       "    Nr of Articles in Biomedicine  Nr of Articles not in Biomedicine  \n",
       "0                           11144                              12349  \n",
       "1                           11803                              11890  \n",
       "2                           12722                              11990  \n",
       "3                           14072                              12205  \n",
       "4                           13992                              12969  \n",
       "5                           14873                              13274  \n",
       "6                           15048                              14629  \n",
       "7                           15794                              15490  \n",
       "8                           15366                              16911  \n",
       "9                           15871                              17868  \n",
       "10                          15975                              18768  \n",
       "11                          16254                              20258  \n",
       "12                          16761                              22004  \n",
       "13                          17250                              24590  \n",
       "14                          17177                              26081  \n",
       "15                          17441                              28552  \n",
       "16                          17357                              31323  \n",
       "17                          17324                              33807  \n",
       "18                          17474                              38556  \n",
       "19                          17850                              40362  \n",
       "20                          18673                              44210  \n",
       "21                          20682                              48099  \n",
       "22                          18454                              48092  "
      ]
     },
     "execution_count": 31,
     "metadata": {},
     "output_type": "execute_result"
    }
   ],
   "source": [
    "year_counts"
   ]
  },
  {
   "cell_type": "code",
   "execution_count": 32,
   "metadata": {},
   "outputs": [
    {
     "data": {
      "image/png": "[encoded data removed]",
      "text/plain": [
       "<Figure size 640x480 with 1 Axes>"
      ]
     },
     "metadata": {},
     "output_type": "display_data"
    }
   ],
   "source": [
    "plt.plot(year_counts['RetractionDate'], year_counts['Nr of Retractions in Biomedicine'], label = \"Nr of Retractions in Biomedicine\", color=\"b\")\n",
    "plt.plot(year_counts['RetractionDate'], year_counts['Nr of Retractions not in Biomedicine'], label = \"Nr of Retractions not in Biomedicine\", color=\"g\")\n",
    "\n",
    "plt.xlabel('Year')\n",
    "plt.ylabel('Number of Retractions')\n",
    "plt.title('Citations of Articles')\n",
    "plt.legend()\n",
    "plt.show()"
   ]
  },
  {
   "cell_type": "code",
   "execution_count": 33,
   "metadata": {},
   "outputs": [
    {
     "data": {
      "application/vnd.plotly.v1+json": {
       "config": {
        "plotlyServerURL": "https://plot.ly"
       },
       "data": [
        {
         "mode": "lines",
         "name": "Nr of Articles in Biomedicine",
         "type": "scatter",
         "x": [
          2000,
          2001,
          2002,
          2003,
          2004,
          2005,
          2006,
          2007,
          2008,
          2009,
          2010,
          2011,
          2012,
          2013,
          2014,
          2015,
          2016,
          2017,
          2018,
          2019,
          2020,
          2021,
          2022
         ],
         "xaxis": "x",
         "y": [
          11144,
          11803,
          12722,
          14072,
          13992,
          14873,
          15048,
          15794,
          15366,
          15871,
          15975,
          16254,
          16761,
          17250,
          17177,
          17441,
          17357,
          17324,
          17474,
          17850,
          18673,
          20682,
          18454
         ],
         "yaxis": "y"
        },
        {
         "mode": "lines",
         "name": "Nr of Retractions in Biomedicine",
         "type": "scatter",
         "x": [
          2000,
          2001,
          2002,
          2003,
          2004,
          2005,
          2006,
          2007,
          2008,
          2009,
          2010,
          2011,
          2012,
          2013,
          2014,
          2015,
          2016,
          2017,
          2018,
          2019,
          2020,
          2021,
          2022
         ],
         "xaxis": "x",
         "y": [
          1,
          1,
          1,
          3,
          6,
          8,
          14,
          9,
          7,
          8,
          10,
          16,
          19,
          16,
          22,
          21,
          17,
          14,
          24,
          16,
          28,
          26,
          41
         ],
         "yaxis": "y2"
        },
        {
         "mode": "lines",
         "name": "Nr of Articles not in Biomedicine",
         "type": "scatter",
         "x": [
          2000,
          2001,
          2002,
          2003,
          2004,
          2005,
          2006,
          2007,
          2008,
          2009,
          2010,
          2011,
          2012,
          2013,
          2014,
          2015,
          2016,
          2017,
          2018,
          2019,
          2020,
          2021,
          2022
         ],
         "xaxis": "x2",
         "y": [
          12349,
          11890,
          11990,
          12205,
          12969,
          13274,
          14629,
          15490,
          16911,
          17868,
          18768,
          20258,
          22004,
          24590,
          26081,
          28552,
          31323,
          33807,
          38556,
          40362,
          44210,
          48099,
          48092
         ],
         "yaxis": "y3"
        },
        {
         "mode": "lines",
         "name": "Nr of Retractions not in Biomedicine",
         "type": "scatter",
         "x": [
          2000,
          2001,
          2002,
          2003,
          2004,
          2005,
          2006,
          2007,
          2008,
          2009,
          2010,
          2011,
          2012,
          2013,
          2014,
          2015,
          2016,
          2017,
          2018,
          2019,
          2020,
          2021,
          2022
         ],
         "xaxis": "x2",
         "y": [
          1,
          0,
          14,
          12,
          4,
          7,
          12,
          6,
          6,
          9,
          6,
          8,
          5,
          25,
          15,
          19,
          15,
          10,
          15,
          19,
          30,
          25,
          24
         ],
         "yaxis": "y4"
        }
       ],
       "layout": {
        "annotations": [
         {
          "font": {
           "size": 16
          },
          "showarrow": false,
          "text": "Biomedicine",
          "x": 0.185,
          "xanchor": "center",
          "xref": "paper",
          "y": 1,
          "yanchor": "bottom",
          "yref": "paper"
         },
         {
          "font": {
           "size": 16
          },
          "showarrow": false,
          "text": "Other Scientific Areas",
          "x": 0.7550000000000001,
          "xanchor": "center",
          "xref": "paper",
          "y": 1,
          "yanchor": "bottom",
          "yref": "paper"
         }
        ],
        "legend": {
         "x": 0.01,
         "y": 1
        },
        "template": {
         "data": {
          "bar": [
           {
            "error_x": {
             "color": "#2a3f5f"
            },
            "error_y": {
             "color": "#2a3f5f"
            },
            "marker": {
             "line": {
              "color": "#E5ECF6",
              "width": 0.5
             },
             "pattern": {
              "fillmode": "overlay",
              "size": 10,
              "solidity": 0.2
             }
            },
            "type": "bar"
           }
          ],
          "barpolar": [
           {
            "marker": {
             "line": {
              "color": "#E5ECF6",
              "width": 0.5
             },
             "pattern": {
              "fillmode": "overlay",
              "size": 10,
              "solidity": 0.2
             }
            },
            "type": "barpolar"
           }
          ],
          "carpet": [
           {
            "aaxis": {
             "endlinecolor": "#2a3f5f",
             "gridcolor": "white",
             "linecolor": "white",
             "minorgridcolor": "white",
             "startlinecolor": "#2a3f5f"
            },
            "baxis": {
             "endlinecolor": "#2a3f5f",
             "gridcolor": "white",
             "linecolor": "white",
             "minorgridcolor": "white",
             "startlinecolor": "#2a3f5f"
            },
            "type": "carpet"
           }
          ],
          "choropleth": [
           {
            "colorbar": {
             "outlinewidth": 0,
             "ticks": ""
            },
            "type": "choropleth"
           }
          ],
          "contour": [
           {
            "colorbar": {
             "outlinewidth": 0,
             "ticks": ""
            },
            "colorscale": [
             [
              0,
              "#0d0887"
             ],
             [
              0.1111111111111111,
              "#46039f"
             ],
             [
              0.2222222222222222,
              "#7201a8"
             ],
             [
              0.3333333333333333,
              "#9c179e"
             ],
             [
              0.4444444444444444,
              "#bd3786"
             ],
             [
              0.5555555555555556,
              "#d8576b"
             ],
             [
              0.6666666666666666,
              "#ed7953"
             ],
             [
              0.7777777777777778,
              "#fb9f3a"
             ],
             [
              0.8888888888888888,
              "#fdca26"
             ],
             [
              1,
              "#f0f921"
             ]
            ],
            "type": "contour"
           }
          ],
          "contourcarpet": [
           {
            "colorbar": {
             "outlinewidth": 0,
             "ticks": ""
            },
            "type": "contourcarpet"
           }
          ],
          "heatmap": [
           {
            "colorbar": {
             "outlinewidth": 0,
             "ticks": ""
            },
            "colorscale": [
             [
              0,
              "#0d0887"
             ],
             [
              0.1111111111111111,
              "#46039f"
             ],
             [
              0.2222222222222222,
              "#7201a8"
             ],
             [
              0.3333333333333333,
              "#9c179e"
             ],
             [
              0.4444444444444444,
              "#bd3786"
             ],
             [
              0.5555555555555556,
              "#d8576b"
             ],
             [
              0.6666666666666666,
              "#ed7953"
             ],
             [
              0.7777777777777778,
              "#fb9f3a"
             ],
             [
              0.8888888888888888,
              "#fdca26"
             ],
             [
              1,
              "#f0f921"
             ]
            ],
            "type": "heatmap"
           }
          ],
          "heatmapgl": [
           {
            "colorbar": {
             "outlinewidth": 0,
             "ticks": ""
            },
            "colorscale": [
             [
              0,
              "#0d0887"
             ],
             [
              0.1111111111111111,
              "#46039f"
             ],
             [
              0.2222222222222222,
              "#7201a8"
             ],
             [
              0.3333333333333333,
              "#9c179e"
             ],
             [
              0.4444444444444444,
              "#bd3786"
             ],
             [
              0.5555555555555556,
              "#d8576b"
             ],
             [
              0.6666666666666666,
              "#ed7953"
             ],
             [
              0.7777777777777778,
              "#fb9f3a"
             ],
             [
              0.8888888888888888,
              "#fdca26"
             ],
             [
              1,
              "#f0f921"
             ]
            ],
            "type": "heatmapgl"
           }
          ],
          "histogram": [
           {
            "marker": {
             "pattern": {
              "fillmode": "overlay",
              "size": 10,
              "solidity": 0.2
             }
            },
            "type": "histogram"
           }
          ],
          "histogram2d": [
           {
            "colorbar": {
             "outlinewidth": 0,
             "ticks": ""
            },
            "colorscale": [
             [
              0,
              "#0d0887"
             ],
             [
              0.1111111111111111,
              "#46039f"
             ],
             [
              0.2222222222222222,
              "#7201a8"
             ],
             [
              0.3333333333333333,
              "#9c179e"
             ],
             [
              0.4444444444444444,
              "#bd3786"
             ],
             [
              0.5555555555555556,
              "#d8576b"
             ],
             [
              0.6666666666666666,
              "#ed7953"
             ],
             [
              0.7777777777777778,
              "#fb9f3a"
             ],
             [
              0.8888888888888888,
              "#fdca26"
             ],
             [
              1,
              "#f0f921"
             ]
            ],
            "type": "histogram2d"
           }
          ],
          "histogram2dcontour": [
           {
            "colorbar": {
             "outlinewidth": 0,
             "ticks": ""
            },
            "colorscale": [
             [
              0,
              "#0d0887"
             ],
             [
              0.1111111111111111,
              "#46039f"
             ],
             [
              0.2222222222222222,
              "#7201a8"
             ],
             [
              0.3333333333333333,
              "#9c179e"
             ],
             [
              0.4444444444444444,
              "#bd3786"
             ],
             [
              0.5555555555555556,
              "#d8576b"
             ],
             [
              0.6666666666666666,
              "#ed7953"
             ],
             [
              0.7777777777777778,
              "#fb9f3a"
             ],
             [
              0.8888888888888888,
              "#fdca26"
             ],
             [
              1,
              "#f0f921"
             ]
            ],
            "type": "histogram2dcontour"
           }
          ],
          "mesh3d": [
           {
            "colorbar": {
             "outlinewidth": 0,
             "ticks": ""
            },
            "type": "mesh3d"
           }
          ],
          "parcoords": [
           {
            "line": {
             "colorbar": {
              "outlinewidth": 0,
              "ticks": ""
             }
            },
            "type": "parcoords"
           }
          ],
          "pie": [
           {
            "automargin": true,
            "type": "pie"
           }
          ],
          "scatter": [
           {
            "fillpattern": {
             "fillmode": "overlay",
             "size": 10,
             "solidity": 0.2
            },
            "type": "scatter"
           }
          ],
          "scatter3d": [
           {
            "line": {
             "colorbar": {
              "outlinewidth": 0,
              "ticks": ""
             }
            },
            "marker": {
             "colorbar": {
              "outlinewidth": 0,
              "ticks": ""
             }
            },
            "type": "scatter3d"
           }
          ],
          "scattercarpet": [
           {
            "marker": {
             "colorbar": {
              "outlinewidth": 0,
              "ticks": ""
             }
            },
            "type": "scattercarpet"
           }
          ],
          "scattergeo": [
           {
            "marker": {
             "colorbar": {
              "outlinewidth": 0,
              "ticks": ""
             }
            },
            "type": "scattergeo"
           }
          ],
          "scattergl": [
           {
            "marker": {
             "colorbar": {
              "outlinewidth": 0,
              "ticks": ""
             }
            },
            "type": "scattergl"
           }
          ],
          "scattermapbox": [
           {
            "marker": {
             "colorbar": {
              "outlinewidth": 0,
              "ticks": ""
             }
            },
            "type": "scattermapbox"
           }
          ],
          "scatterpolar": [
           {
            "marker": {
             "colorbar": {
              "outlinewidth": 0,
              "ticks": ""
             }
            },
            "type": "scatterpolar"
           }
          ],
          "scatterpolargl": [
           {
            "marker": {
             "colorbar": {
              "outlinewidth": 0,
              "ticks": ""
             }
            },
            "type": "scatterpolargl"
           }
          ],
          "scatterternary": [
           {
            "marker": {
             "colorbar": {
              "outlinewidth": 0,
              "ticks": ""
             }
            },
            "type": "scatterternary"
           }
          ],
          "surface": [
           {
            "colorbar": {
             "outlinewidth": 0,
             "ticks": ""
            },
            "colorscale": [
             [
              0,
              "#0d0887"
             ],
             [
              0.1111111111111111,
              "#46039f"
             ],
             [
              0.2222222222222222,
              "#7201a8"
             ],
             [
              0.3333333333333333,
              "#9c179e"
             ],
             [
              0.4444444444444444,
              "#bd3786"
             ],
             [
              0.5555555555555556,
              "#d8576b"
             ],
             [
              0.6666666666666666,
              "#ed7953"
             ],
             [
              0.7777777777777778,
              "#fb9f3a"
             ],
             [
              0.8888888888888888,
              "#fdca26"
             ],
             [
              1,
              "#f0f921"
             ]
            ],
            "type": "surface"
           }
          ],
          "table": [
           {
            "cells": {
             "fill": {
              "color": "#EBF0F8"
             },
             "line": {
              "color": "white"
             }
            },
            "header": {
             "fill": {
              "color": "#C8D4E3"
             },
             "line": {
              "color": "white"
             }
            },
            "type": "table"
           }
          ]
         },
         "layout": {
          "annotationdefaults": {
           "arrowcolor": "#2a3f5f",
           "arrowhead": 0,
           "arrowwidth": 1
          },
          "autotypenumbers": "strict",
          "coloraxis": {
           "colorbar": {
            "outlinewidth": 0,
            "ticks": ""
           }
          },
          "colorscale": {
           "diverging": [
            [
             0,
             "#8e0152"
            ],
            [
             0.1,
             "#c51b7d"
            ],
            [
             0.2,
             "#de77ae"
            ],
            [
             0.3,
             "#f1b6da"
            ],
            [
             0.4,
             "#fde0ef"
            ],
            [
             0.5,
             "#f7f7f7"
            ],
            [
             0.6,
             "#e6f5d0"
            ],
            [
             0.7,
             "#b8e186"
            ],
            [
             0.8,
             "#7fbc41"
            ],
            [
             0.9,
             "#4d9221"
            ],
            [
             1,
             "#276419"
            ]
           ],
           "sequential": [
            [
             0,
             "#0d0887"
            ],
            [
             0.1111111111111111,
             "#46039f"
            ],
            [
             0.2222222222222222,
             "#7201a8"
            ],
            [
             0.3333333333333333,
             "#9c179e"
            ],
            [
             0.4444444444444444,
             "#bd3786"
            ],
            [
             0.5555555555555556,
             "#d8576b"
            ],
            [
             0.6666666666666666,
             "#ed7953"
            ],
            [
             0.7777777777777778,
             "#fb9f3a"
            ],
            [
             0.8888888888888888,
             "#fdca26"
            ],
            [
             1,
             "#f0f921"
            ]
           ],
           "sequentialminus": [
            [
             0,
             "#0d0887"
            ],
            [
             0.1111111111111111,
             "#46039f"
            ],
            [
             0.2222222222222222,
             "#7201a8"
            ],
            [
             0.3333333333333333,
             "#9c179e"
            ],
            [
             0.4444444444444444,
             "#bd3786"
            ],
            [
             0.5555555555555556,
             "#d8576b"
            ],
            [
             0.6666666666666666,
             "#ed7953"
            ],
            [
             0.7777777777777778,
             "#fb9f3a"
            ],
            [
             0.8888888888888888,
             "#fdca26"
            ],
            [
             1,
             "#f0f921"
            ]
           ]
          },
          "colorway": [
           "#636efa",
           "#EF553B",
           "#00cc96",
           "#ab63fa",
           "#FFA15A",
           "#19d3f3",
           "#FF6692",
           "#B6E880",
           "#FF97FF",
           "#FECB52"
          ],
          "font": {
           "color": "#2a3f5f"
          },
          "geo": {
           "bgcolor": "white",
           "lakecolor": "white",
           "landcolor": "#E5ECF6",
           "showlakes": true,
           "showland": true,
           "subunitcolor": "white"
          },
          "hoverlabel": {
           "align": "left"
          },
          "hovermode": "closest",
          "mapbox": {
           "style": "light"
          },
          "paper_bgcolor": "white",
          "plot_bgcolor": "#E5ECF6",
          "polar": {
           "angularaxis": {
            "gridcolor": "white",
            "linecolor": "white",
            "ticks": ""
           },
           "bgcolor": "#E5ECF6",
           "radialaxis": {
            "gridcolor": "white",
            "linecolor": "white",
            "ticks": ""
           }
          },
          "scene": {
           "xaxis": {
            "backgroundcolor": "#E5ECF6",
            "gridcolor": "white",
            "gridwidth": 2,
            "linecolor": "white",
            "showbackground": true,
            "ticks": "",
            "zerolinecolor": "white"
           },
           "yaxis": {
            "backgroundcolor": "#E5ECF6",
            "gridcolor": "white",
            "gridwidth": 2,
            "linecolor": "white",
            "showbackground": true,
            "ticks": "",
            "zerolinecolor": "white"
           },
           "zaxis": {
            "backgroundcolor": "#E5ECF6",
            "gridcolor": "white",
            "gridwidth": 2,
            "linecolor": "white",
            "showbackground": true,
            "ticks": "",
            "zerolinecolor": "white"
           }
          },
          "shapedefaults": {
           "line": {
            "color": "#2a3f5f"
           }
          },
          "ternary": {
           "aaxis": {
            "gridcolor": "white",
            "linecolor": "white",
            "ticks": ""
           },
           "baxis": {
            "gridcolor": "white",
            "linecolor": "white",
            "ticks": ""
           },
           "bgcolor": "#E5ECF6",
           "caxis": {
            "gridcolor": "white",
            "linecolor": "white",
            "ticks": ""
           }
          },
          "title": {
           "x": 0.05
          },
          "xaxis": {
           "automargin": true,
           "gridcolor": "white",
           "linecolor": "white",
           "ticks": "",
           "title": {
            "standoff": 15
           },
           "zerolinecolor": "white",
           "zerolinewidth": 2
          },
          "yaxis": {
           "automargin": true,
           "gridcolor": "white",
           "linecolor": "white",
           "ticks": "",
           "title": {
            "standoff": 15
           },
           "zerolinecolor": "white",
           "zerolinewidth": 2
          }
         }
        },
        "title": {
         "text": "Number of Articles and Retractions"
        },
        "xaxis": {
         "anchor": "y",
         "domain": [
          0,
          0.37
         ],
         "title": {
          "text": "Year"
         }
        },
        "xaxis2": {
         "anchor": "y3",
         "domain": [
          0.5700000000000001,
          0.9400000000000001
         ],
         "title": {
          "text": "Year"
         }
        },
        "yaxis": {
         "anchor": "x",
         "domain": [
          0,
          1
         ],
         "title": {
          "text": "Number of Articles"
         }
        },
        "yaxis2": {
         "anchor": "x",
         "overlaying": "y",
         "side": "right",
         "title": {
          "text": "Number of Retractions"
         }
        },
        "yaxis3": {
         "anchor": "x2",
         "domain": [
          0,
          1
         ],
         "title": {
          "text": "Number of Articles"
         }
        },
        "yaxis4": {
         "anchor": "x2",
         "overlaying": "y3",
         "side": "right",
         "title": {
          "text": "Number of Retractions"
         }
        }
       }
      }
     },
     "metadata": {},
     "output_type": "display_data"
    }
   ],
   "source": [
    "import plotly.graph_objects as go\n",
    "from plotly.subplots import make_subplots\n",
    "\n",
    "# Assuming 'result' is your merged Dask DataFrame\n",
    "\n",
    "# Create subplots\n",
    "fig = make_subplots(rows=1, cols=2, subplot_titles=(\"Biomedicine\", \"Other Scientific Areas\"), specs=[[{\"secondary_y\": True}, {\"secondary_y\": True}]])\n",
    "\n",
    "# Add traces for Biomedicine subplot\n",
    "fig.add_trace(go.Scatter(x=year_counts['RetractionDate'], y=year_counts['Nr of Articles in Biomedicine'],\n",
    "                         mode='lines', name='Nr of Articles in Biomedicine'), row=1, col=1, secondary_y=False)\n",
    "fig.add_trace(go.Scatter(x=year_counts['RetractionDate'], y=year_counts['Nr of Retractions in Biomedicine'],\n",
    "                         mode='lines', name='Nr of Retractions in Biomedicine'), row=1, col=1, secondary_y=True)\n",
    "\n",
    "# Add traces for Other Scientific Areas subplot\n",
    "fig.add_trace(go.Scatter(x=year_counts['RetractionDate'], y=year_counts['Nr of Articles not in Biomedicine'],\n",
    "                         mode='lines', name='Nr of Articles not in Biomedicine'), row=1, col=2, secondary_y=False)\n",
    "fig.add_trace(go.Scatter(x=year_counts['RetractionDate'], y=year_counts['Nr of Retractions not in Biomedicine'],\n",
    "                         mode='lines', name='Nr of Retractions not in Biomedicine'), row=1, col=2, secondary_y=True)\n",
    "\n",
    "# Update axes labels and titles\n",
    "fig.update_xaxes(title_text=\"Year\", row=1, col=1)\n",
    "fig.update_xaxes(title_text=\"Year\", row=1, col=2)\n",
    "\n",
    "fig.update_yaxes(title_text=\"Number of Articles\", row=1, col=1, secondary_y=False)\n",
    "fig.update_yaxes(title_text=\"Number of Retractions\", row=1, col=1, secondary_y=True)\n",
    "fig.update_yaxes(title_text=\"Number of Articles\", row=1, col=2, secondary_y=False)\n",
    "fig.update_yaxes(title_text=\"Number of Retractions\", row=1, col=2, secondary_y=True)\n",
    "\n",
    "# Update layout\n",
    "fig.update_layout(title_text=\"Number of Articles and Retractions\",\n",
    "                  legend=dict(x=0.01, y=1))\n",
    "\n",
    "# Show plot\n",
    "fig.show()\n",
    "\n",
    "\n"
   ]
  },
  {
   "cell_type": "code",
   "execution_count": 34,
   "metadata": {},
   "outputs": [
    {
     "data": {
      "image/png": "[encoded data removed]",
      "text/plain": [
       "<Figure size 1500x600 with 4 Axes>"
      ]
     },
     "metadata": {},
     "output_type": "display_data"
    }
   ],
   "source": [
    "import matplotlib.pyplot as plt\n",
    "import numpy as np\n",
    "\n",
    "# Assuming 'result' is your merged Dask DataFrame\n",
    "fig, axes = plt.subplots(nrows=1, ncols=2, figsize=(15, 6))\n",
    "\n",
    "# Plot the number of articles on the primary y-axis for the first subplot\n",
    "axes[0].plot(year_counts['RetractionDate'], year_counts['Nr of Articles in Biomedicine'], color='blue', label='Nr of Articles in Biomedicine')\n",
    "axes[0].set_xlabel('Year')\n",
    "axes[0].set_ylabel('Number of Articles in Biomedicine', color='blue')\n",
    "axes[0].tick_params('y', colors='blue')\n",
    "axes[0].set_title('Biomedicine')\n",
    "\n",
    "# Create a twin Axes sharing the xaxis for the first subplot\n",
    "axes2 = axes[0].twinx()\n",
    "\n",
    "# Plot the number of retractions on the secondary y-axis for the first subplot\n",
    "axes2.plot(year_counts['RetractionDate'], year_counts['Nr of Retractions in Biomedicine'], color='green', label='Nr of Retractions in Biomedicine')\n",
    "axes2.set_ylabel('Number of Retractions in Biomedicine', color='green')\n",
    "axes2.tick_params('y', colors='green')\n",
    "\n",
    "# Add legend for the first subplot\n",
    "axes[0].legend(loc='upper left')\n",
    "axes2.legend(loc='upper right')\n",
    "\n",
    "# Plot the same data on the second subplot\n",
    "axes[1].plot(year_counts['RetractionDate'], year_counts['Nr of Articles not in Biomedicine'], color='blue', label='Nr of Articles not in Biomedicine')\n",
    "axes[1].set_xlabel('Year')\n",
    "axes[1].set_ylabel('Number of Articles not in Biomedicine', color='blue')\n",
    "axes[1].tick_params('y', colors='blue')\n",
    "axes[1].set_title('Other Scientific Areas')\n",
    "\n",
    "# Create a twin Axes sharing the xaxis for the second subplot\n",
    "axes2_2 = axes[1].twinx()\n",
    "\n",
    "# Plot the number of retractions on the secondary y-axis for the second subplot\n",
    "axes2_2.plot(year_counts['RetractionDate'], year_counts['Nr of Retractions not in Biomedicine'], color='green', label='Nr of Retractions not in Biomedicine')\n",
    "axes2_2.set_ylabel('Number of Retractions not in Biomedicine', color='green')\n",
    "axes2_2.tick_params('y', colors='green')\n",
    "\n",
    "# Add legend for the second subplot\n",
    "axes[1].legend(loc='upper left')\n",
    "axes2_2.legend(loc='upper right')\n",
    "\n",
    "# Adjust layout for better spacing\n",
    "plt.tight_layout()\n",
    "\n",
    "# Show the plots\n",
    "plt.show()\n",
    "\n"
   ]
  },
  {
   "cell_type": "code",
   "execution_count": 35,
   "metadata": {},
   "outputs": [],
   "source": [
    "#subject['Subject'].value_counts().to_excel('../subject_retractions.xlsx')"
   ]
  },
  {
   "cell_type": "code",
   "execution_count": 36,
   "metadata": {},
   "outputs": [
    {
     "data": {
      "text/html": [
       "<div>\n",
       "<style scoped>\n",
       "    .dataframe tbody tr th:only-of-type {\n",
       "        vertical-align: middle;\n",
       "    }\n",
       "\n",
       "    .dataframe tbody tr th {\n",
       "        vertical-align: top;\n",
       "    }\n",
       "\n",
       "    .dataframe thead th {\n",
       "        text-align: right;\n",
       "    }\n",
       "</style>\n",
       "<table border=\"1\" class=\"dataframe\">\n",
       "  <thead>\n",
       "    <tr style=\"text-align: right;\">\n",
       "      <th></th>\n",
       "      <th>Record ID</th>\n",
       "      <th>Title</th>\n",
       "      <th>Subject</th>\n",
       "      <th>Institution</th>\n",
       "      <th>Journal</th>\n",
       "      <th>Publisher</th>\n",
       "      <th>Country</th>\n",
       "      <th>Author</th>\n",
       "      <th>URLS</th>\n",
       "      <th>ArticleType</th>\n",
       "      <th>...</th>\n",
       "      <th>wos_core_collection_times_cited_count</th>\n",
       "      <th>document_title</th>\n",
       "      <th>document_type</th>\n",
       "      <th>wos_categories</th>\n",
       "      <th>year_published</th>\n",
       "      <th>authors_affiliations</th>\n",
       "      <th>corresponding_author_affiliation</th>\n",
       "      <th>book.group.author</th>\n",
       "      <th>publication_date</th>\n",
       "      <th>Biomedicine</th>\n",
       "    </tr>\n",
       "  </thead>\n",
       "  <tbody>\n",
       "    <tr>\n",
       "      <th>0</th>\n",
       "      <td>19131</td>\n",
       "      <td>Guiding Cell Migration Using One-Way Micropatt...</td>\n",
       "      <td>(BLS) Biochemistry;(BLS) Biology - Cellular;</td>\n",
       "      <td>Chemical &amp; Materials Engineering Department, U...</td>\n",
       "      <td>Advanced Materials</td>\n",
       "      <td>Wiley</td>\n",
       "      <td>United States</td>\n",
       "      <td>Girish Kumar;Chia Chi Ho;Carlos C Co</td>\n",
       "      <td>NaN</td>\n",
       "      <td>Research Article;</td>\n",
       "      <td>...</td>\n",
       "      <td>87</td>\n",
       "      <td>guiding cell migration using one-way micropatt...</td>\n",
       "      <td>ARTICLE; RETRACTED PUBLICATION</td>\n",
       "      <td>CHEMISTRY, MULTIDISCIPLINARY; CHEMISTRY, PHYSI...</td>\n",
       "      <td>2007</td>\n",
       "      <td>UNIV CINCINNATI;UNIV CINCINNATI</td>\n",
       "      <td>UNIV CINCINNATI</td>\n",
       "      <td>NaN</td>\n",
       "      <td>2007-04-20</td>\n",
       "      <td>0</td>\n",
       "    </tr>\n",
       "    <tr>\n",
       "      <th>1</th>\n",
       "      <td>5767</td>\n",
       "      <td>Self-Assembled Si Quantum-Ring Structures on a...</td>\n",
       "      <td>(PHY) Materials Science;(PHY) Nanotechnology;</td>\n",
       "      <td>National Laboratory of Solid State Microstruct...</td>\n",
       "      <td>Advanced Materials</td>\n",
       "      <td>Wiley</td>\n",
       "      <td>China</td>\n",
       "      <td>Lin Wei Yu;Kun Ji Chen;Jie Song;Jun Xu;Wei Li;...</td>\n",
       "      <td>NaN</td>\n",
       "      <td>Research Article;</td>\n",
       "      <td>...</td>\n",
       "      <td>10</td>\n",
       "      <td>self-assembled si quantum-ring structures on a...</td>\n",
       "      <td>ARTICLE; RETRACTED PUBLICATION</td>\n",
       "      <td>CHEMISTRY, MULTIDISCIPLINARY; CHEMISTRY, PHYSI...</td>\n",
       "      <td>2007</td>\n",
       "      <td>NANJING UNIV;NANJING UNIV</td>\n",
       "      <td>NANJING UNIV</td>\n",
       "      <td>NaN</td>\n",
       "      <td>2007-06-18</td>\n",
       "      <td>0</td>\n",
       "    </tr>\n",
       "    <tr>\n",
       "      <th>2</th>\n",
       "      <td>5650</td>\n",
       "      <td>High-volumetric performance aligned nano-porou...</td>\n",
       "      <td>(PHY) Engineering - Chemical;(PHY) Engineering...</td>\n",
       "      <td>Department of Materials Science and Engineerin...</td>\n",
       "      <td>Advanced Materials</td>\n",
       "      <td>Wiley</td>\n",
       "      <td>China;United States</td>\n",
       "      <td>Mehdi Ghaffari;Yue Zhou;Haiping Xu;Minren Lin;...</td>\n",
       "      <td>http://retractionwatch.com/2016/10/28/material...</td>\n",
       "      <td>Research Article;</td>\n",
       "      <td>...</td>\n",
       "      <td>103</td>\n",
       "      <td>high-volumetric performance aligned nano-porou...</td>\n",
       "      <td>ARTICLE; RETRACTED PUBLICATION</td>\n",
       "      <td>CHEMISTRY, MULTIDISCIPLINARY; CHEMISTRY, PHYSI...</td>\n",
       "      <td>2013</td>\n",
       "      <td>PENN STATE UNIV;PENN STATE UNIV;PENN STATE UNI...</td>\n",
       "      <td>PENN STATE UNIV</td>\n",
       "      <td>NaN</td>\n",
       "      <td>2013-09-20</td>\n",
       "      <td>0</td>\n",
       "    </tr>\n",
       "    <tr>\n",
       "      <th>3</th>\n",
       "      <td>6221</td>\n",
       "      <td>Aligned Nano-Porous Microwave Exfoliated Graph...</td>\n",
       "      <td>(PHY) Engineering - Chemical;(PHY) Engineering...</td>\n",
       "      <td>Department of Materials Science and Engineerin...</td>\n",
       "      <td>Advanced Materials</td>\n",
       "      <td>Wiley</td>\n",
       "      <td>United States</td>\n",
       "      <td>Mehdi Ghaffari;QM Zhang;W Kinsman;Yue Zhou;Sha...</td>\n",
       "      <td>http://retractionwatch.com/2016/10/28/material...</td>\n",
       "      <td>Research Article;</td>\n",
       "      <td>...</td>\n",
       "      <td>11</td>\n",
       "      <td>aligned nano-porous microwave exfoliated graph...</td>\n",
       "      <td>ARTICLE; RETRACTED PUBLICATION</td>\n",
       "      <td>CHEMISTRY, MULTIDISCIPLINARY; CHEMISTRY, PHYSI...</td>\n",
       "      <td>2013</td>\n",
       "      <td>PENN STATE UNIV;PENN STATE UNIV;PENN STATE UNI...</td>\n",
       "      <td>PENN STATE UNIV</td>\n",
       "      <td>NaN</td>\n",
       "      <td>2013-11-20</td>\n",
       "      <td>0</td>\n",
       "    </tr>\n",
       "    <tr>\n",
       "      <th>4</th>\n",
       "      <td>45124</td>\n",
       "      <td>Highly Sensitive MoS2 Humidity Sensors Array f...</td>\n",
       "      <td>(PHY) Engineering - Chemical;</td>\n",
       "      <td>Beijing National Laboratory for Condensed Matt...</td>\n",
       "      <td>Advanced Materials</td>\n",
       "      <td>Wiley</td>\n",
       "      <td>China</td>\n",
       "      <td>Jing Zhao;Na Li;Zheng Wei;Mengzhou Liao;Peng C...</td>\n",
       "      <td>NaN</td>\n",
       "      <td>Research Article;</td>\n",
       "      <td>...</td>\n",
       "      <td>349</td>\n",
       "      <td>highly sensitive mos&lt;sub&gt;2&lt;/sub&gt; humidity sens...</td>\n",
       "      <td>ARTICLE; RETRACTED PUBLICATION</td>\n",
       "      <td>CHEMISTRY, MULTIDISCIPLINARY; CHEMISTRY, PHYSI...</td>\n",
       "      <td>2017</td>\n",
       "      <td>INST PHYS;BEJING INST NANOENRGY AND NANOSYST;U...</td>\n",
       "      <td>INST PHYS</td>\n",
       "      <td>NaN</td>\n",
       "      <td>2017-09-13</td>\n",
       "      <td>0</td>\n",
       "    </tr>\n",
       "    <tr>\n",
       "      <th>...</th>\n",
       "      <td>...</td>\n",
       "      <td>...</td>\n",
       "      <td>...</td>\n",
       "      <td>...</td>\n",
       "      <td>...</td>\n",
       "      <td>...</td>\n",
       "      <td>...</td>\n",
       "      <td>...</td>\n",
       "      <td>...</td>\n",
       "      <td>...</td>\n",
       "      <td>...</td>\n",
       "      <td>...</td>\n",
       "      <td>...</td>\n",
       "      <td>...</td>\n",
       "      <td>...</td>\n",
       "      <td>...</td>\n",
       "      <td>...</td>\n",
       "      <td>...</td>\n",
       "      <td>...</td>\n",
       "      <td>...</td>\n",
       "      <td>...</td>\n",
       "    </tr>\n",
       "    <tr>\n",
       "      <th>657</th>\n",
       "      <td>38203</td>\n",
       "      <td>NEK2 plays an active role in Tumorigenesis and...</td>\n",
       "      <td>(BLS) Biochemistry;(BLS) Biology - Cancer;(BLS...</td>\n",
       "      <td>Department of Radiation and Medical Oncology, ...</td>\n",
       "      <td>International Journal of Biological Sciences</td>\n",
       "      <td>Ivyspring International Publisher</td>\n",
       "      <td>China</td>\n",
       "      <td>Rui Bai;Cheng Yuan;Wenjie Sun;Jianguo Zhang;Yu...</td>\n",
       "      <td>NaN</td>\n",
       "      <td>Research Article;</td>\n",
       "      <td>...</td>\n",
       "      <td>10</td>\n",
       "      <td>nek2 plays an active role in tumorigenesis and...</td>\n",
       "      <td>ARTICLE; RETRACTED PUBLICATION</td>\n",
       "      <td>BIOCHEMISTRY \\&amp; MOLECULAR BIOLOGY; BIOLOGY</td>\n",
       "      <td>2021</td>\n",
       "      <td>WUHAN UNIV;WUHAN UNIV;WUHAN UNIV;WUHAN UNIV;WU...</td>\n",
       "      <td>WUHAN UNIV</td>\n",
       "      <td>NaN</td>\n",
       "      <td>2021-01-01</td>\n",
       "      <td>1</td>\n",
       "    </tr>\n",
       "    <tr>\n",
       "      <th>658</th>\n",
       "      <td>34229</td>\n",
       "      <td>Andrographolide Suppress Tumor Growth by Inhib...</td>\n",
       "      <td>(BLS) Biology - Cancer;(BLS) Biology - Cellula...</td>\n",
       "      <td>Vascular Biology Research Institute, Guangdong...</td>\n",
       "      <td>International Journal of Biological Sciences</td>\n",
       "      <td>IOS Publishing (Institute of Science Publishing)</td>\n",
       "      <td>China</td>\n",
       "      <td>Qian Qian Zhang;Yi Ding;Yan Lei;Cui Ling Qi;Xi...</td>\n",
       "      <td>NaN</td>\n",
       "      <td>Research Article;</td>\n",
       "      <td>...</td>\n",
       "      <td>42</td>\n",
       "      <td>andrographolide suppress tumor growth by inhib...</td>\n",
       "      <td>ARTICLE; RETRACTED PUBLICATION</td>\n",
       "      <td>BIOCHEMISTRY \\&amp; MOLECULAR BIOLOGY; BIOLOGY</td>\n",
       "      <td>2014</td>\n",
       "      <td>GUANGDONG PHARMACEUT UNIV;GUANGDONG PHARMACEUT...</td>\n",
       "      <td>GUANGDONG PHARMACEUT UNIV</td>\n",
       "      <td>NaN</td>\n",
       "      <td>2014-01-01</td>\n",
       "      <td>1</td>\n",
       "    </tr>\n",
       "    <tr>\n",
       "      <th>659</th>\n",
       "      <td>8591</td>\n",
       "      <td>CD117 immunohistochemical expression correlate...</td>\n",
       "      <td>(BLS) Biochemistry;(HSC) Medicine - Immunology...</td>\n",
       "      <td>Surgical oncology, Instituto Nacional de Cance...</td>\n",
       "      <td>Iranian Journal of Pathology</td>\n",
       "      <td>Iranian Society of Pathology</td>\n",
       "      <td>Mexico</td>\n",
       "      <td>Rosa A Salcedo-HernÃ¡ndez;Leonardo S Lino-Silv...</td>\n",
       "      <td>NaN</td>\n",
       "      <td>Article in Press;Research Article;</td>\n",
       "      <td>...</td>\n",
       "      <td>3</td>\n",
       "      <td>covid-19 and other underlying causes of cancer...</td>\n",
       "      <td>ARTICLE</td>\n",
       "      <td>PUBLIC, ENVIRONMENTAL \\&amp; OCCUPATIONAL HEALTH</td>\n",
       "      <td>2022</td>\n",
       "      <td>NATL CTR CHRON DIS PREVENT AND HLTH PROMOT;NAT...</td>\n",
       "      <td>NATL CTR CHRON DIS PREVENT AND HLTH PROMOT</td>\n",
       "      <td>NaN</td>\n",
       "      <td>2022-12-16</td>\n",
       "      <td>0</td>\n",
       "    </tr>\n",
       "    <tr>\n",
       "      <th>660</th>\n",
       "      <td>13650</td>\n",
       "      <td>introduction</td>\n",
       "      <td>(B/T) Business - Economics;(HUM) History - Eur...</td>\n",
       "      <td>Unavailable;</td>\n",
       "      <td>Journal of Markets &amp; Morality</td>\n",
       "      <td>Acton Institute for the Study of Religion &amp; Li...</td>\n",
       "      <td>Unknown</td>\n",
       "      <td>Francisco GÃ³mez Camacho</td>\n",
       "      <td>http://retractionwatch.com/2015/07/20/two-retr...</td>\n",
       "      <td>Book Chapter/Reference Work;</td>\n",
       "      <td>...</td>\n",
       "      <td>2</td>\n",
       "      <td>introduction</td>\n",
       "      <td>ARTICLE</td>\n",
       "      <td>ORTHOPEDICS</td>\n",
       "      <td>2014</td>\n",
       "      <td>LUND UNIV;LUND UNIV</td>\n",
       "      <td>LUND UNIV</td>\n",
       "      <td>NaN</td>\n",
       "      <td>2014-12-01</td>\n",
       "      <td>1</td>\n",
       "    </tr>\n",
       "    <tr>\n",
       "      <th>661</th>\n",
       "      <td>4261</td>\n",
       "      <td>nonlymphoid reservoirs of hiv replication in c...</td>\n",
       "      <td>(BLS) Biology - Cellular;(BLS) Biology - Molec...</td>\n",
       "      <td>University of Washington School of Medicine, V...</td>\n",
       "      <td>Journal of Leukocyte Biology (JLB)</td>\n",
       "      <td>Society for Leukocyte Biology</td>\n",
       "      <td>United States</td>\n",
       "      <td>Scott J Brodie</td>\n",
       "      <td>http://retractionwatch.com/2016/06/13/fraudste...</td>\n",
       "      <td>Research Article;</td>\n",
       "      <td>...</td>\n",
       "      <td>15</td>\n",
       "      <td>nonlymphoid reservoirs of hiv replication in c...</td>\n",
       "      <td>ARTICLE; PROCEEDINGS PAPER; RETRACTED PUBLICATION</td>\n",
       "      <td>CELL BIOLOGY; HEMATOLOGY; IMMUNOLOGY</td>\n",
       "      <td>2000</td>\n",
       "      <td>UNIV WASHINGTON;UNIV WASHINGTON</td>\n",
       "      <td>UNIV WASHINGTON</td>\n",
       "      <td>NaN</td>\n",
       "      <td>2000-09-01</td>\n",
       "      <td>1</td>\n",
       "    </tr>\n",
       "  </tbody>\n",
       "</table>\n",
       "<p>662 rows × 56 columns</p>\n",
       "</div>"
      ],
      "text/plain": [
       "     Record ID                                              Title  \\\n",
       "0        19131  Guiding Cell Migration Using One-Way Micropatt...   \n",
       "1         5767  Self-Assembled Si Quantum-Ring Structures on a...   \n",
       "2         5650  High-volumetric performance aligned nano-porou...   \n",
       "3         6221  Aligned Nano-Porous Microwave Exfoliated Graph...   \n",
       "4        45124  Highly Sensitive MoS2 Humidity Sensors Array f...   \n",
       "..         ...                                                ...   \n",
       "657      38203  NEK2 plays an active role in Tumorigenesis and...   \n",
       "658      34229  Andrographolide Suppress Tumor Growth by Inhib...   \n",
       "659       8591  CD117 immunohistochemical expression correlate...   \n",
       "660      13650                                       introduction   \n",
       "661       4261  nonlymphoid reservoirs of hiv replication in c...   \n",
       "\n",
       "                                               Subject  \\\n",
       "0         (BLS) Biochemistry;(BLS) Biology - Cellular;   \n",
       "1        (PHY) Materials Science;(PHY) Nanotechnology;   \n",
       "2    (PHY) Engineering - Chemical;(PHY) Engineering...   \n",
       "3    (PHY) Engineering - Chemical;(PHY) Engineering...   \n",
       "4                        (PHY) Engineering - Chemical;   \n",
       "..                                                 ...   \n",
       "657  (BLS) Biochemistry;(BLS) Biology - Cancer;(BLS...   \n",
       "658  (BLS) Biology - Cancer;(BLS) Biology - Cellula...   \n",
       "659  (BLS) Biochemistry;(HSC) Medicine - Immunology...   \n",
       "660  (B/T) Business - Economics;(HUM) History - Eur...   \n",
       "661  (BLS) Biology - Cellular;(BLS) Biology - Molec...   \n",
       "\n",
       "                                           Institution  \\\n",
       "0    Chemical & Materials Engineering Department, U...   \n",
       "1    National Laboratory of Solid State Microstruct...   \n",
       "2    Department of Materials Science and Engineerin...   \n",
       "3    Department of Materials Science and Engineerin...   \n",
       "4    Beijing National Laboratory for Condensed Matt...   \n",
       "..                                                 ...   \n",
       "657  Department of Radiation and Medical Oncology, ...   \n",
       "658  Vascular Biology Research Institute, Guangdong...   \n",
       "659  Surgical oncology, Instituto Nacional de Cance...   \n",
       "660                                       Unavailable;   \n",
       "661  University of Washington School of Medicine, V...   \n",
       "\n",
       "                                          Journal  \\\n",
       "0                              Advanced Materials   \n",
       "1                              Advanced Materials   \n",
       "2                              Advanced Materials   \n",
       "3                              Advanced Materials   \n",
       "4                              Advanced Materials   \n",
       "..                                            ...   \n",
       "657  International Journal of Biological Sciences   \n",
       "658  International Journal of Biological Sciences   \n",
       "659                  Iranian Journal of Pathology   \n",
       "660                 Journal of Markets & Morality   \n",
       "661            Journal of Leukocyte Biology (JLB)   \n",
       "\n",
       "                                             Publisher              Country  \\\n",
       "0                                                Wiley        United States   \n",
       "1                                                Wiley                China   \n",
       "2                                                Wiley  China;United States   \n",
       "3                                                Wiley        United States   \n",
       "4                                                Wiley                China   \n",
       "..                                                 ...                  ...   \n",
       "657                  Ivyspring International Publisher                China   \n",
       "658   IOS Publishing (Institute of Science Publishing)                China   \n",
       "659                       Iranian Society of Pathology               Mexico   \n",
       "660  Acton Institute for the Study of Religion & Li...              Unknown   \n",
       "661                      Society for Leukocyte Biology        United States   \n",
       "\n",
       "                                                Author  \\\n",
       "0                 Girish Kumar;Chia Chi Ho;Carlos C Co   \n",
       "1    Lin Wei Yu;Kun Ji Chen;Jie Song;Jun Xu;Wei Li;...   \n",
       "2    Mehdi Ghaffari;Yue Zhou;Haiping Xu;Minren Lin;...   \n",
       "3    Mehdi Ghaffari;QM Zhang;W Kinsman;Yue Zhou;Sha...   \n",
       "4    Jing Zhao;Na Li;Zheng Wei;Mengzhou Liao;Peng C...   \n",
       "..                                                 ...   \n",
       "657  Rui Bai;Cheng Yuan;Wenjie Sun;Jianguo Zhang;Yu...   \n",
       "658  Qian Qian Zhang;Yi Ding;Yan Lei;Cui Ling Qi;Xi...   \n",
       "659  Rosa A Salcedo-HernÃ¡ndez;Leonardo S Lino-Silv...   \n",
       "660                           Francisco GÃ³mez Camacho   \n",
       "661                                     Scott J Brodie   \n",
       "\n",
       "                                                  URLS  \\\n",
       "0                                                  NaN   \n",
       "1                                                  NaN   \n",
       "2    http://retractionwatch.com/2016/10/28/material...   \n",
       "3    http://retractionwatch.com/2016/10/28/material...   \n",
       "4                                                  NaN   \n",
       "..                                                 ...   \n",
       "657                                                NaN   \n",
       "658                                                NaN   \n",
       "659                                                NaN   \n",
       "660  http://retractionwatch.com/2015/07/20/two-retr...   \n",
       "661  http://retractionwatch.com/2016/06/13/fraudste...   \n",
       "\n",
       "                            ArticleType  ...  \\\n",
       "0                     Research Article;  ...   \n",
       "1                     Research Article;  ...   \n",
       "2                     Research Article;  ...   \n",
       "3                     Research Article;  ...   \n",
       "4                     Research Article;  ...   \n",
       "..                                  ...  ...   \n",
       "657                   Research Article;  ...   \n",
       "658                   Research Article;  ...   \n",
       "659  Article in Press;Research Article;  ...   \n",
       "660        Book Chapter/Reference Work;  ...   \n",
       "661                   Research Article;  ...   \n",
       "\n",
       "    wos_core_collection_times_cited_count  \\\n",
       "0                                      87   \n",
       "1                                      10   \n",
       "2                                     103   \n",
       "3                                      11   \n",
       "4                                     349   \n",
       "..                                    ...   \n",
       "657                                    10   \n",
       "658                                    42   \n",
       "659                                     3   \n",
       "660                                     2   \n",
       "661                                    15   \n",
       "\n",
       "                                        document_title  \\\n",
       "0    guiding cell migration using one-way micropatt...   \n",
       "1    self-assembled si quantum-ring structures on a...   \n",
       "2    high-volumetric performance aligned nano-porou...   \n",
       "3    aligned nano-porous microwave exfoliated graph...   \n",
       "4    highly sensitive mos<sub>2</sub> humidity sens...   \n",
       "..                                                 ...   \n",
       "657  nek2 plays an active role in tumorigenesis and...   \n",
       "658  andrographolide suppress tumor growth by inhib...   \n",
       "659  covid-19 and other underlying causes of cancer...   \n",
       "660                                       introduction   \n",
       "661  nonlymphoid reservoirs of hiv replication in c...   \n",
       "\n",
       "                                         document_type  \\\n",
       "0                       ARTICLE; RETRACTED PUBLICATION   \n",
       "1                       ARTICLE; RETRACTED PUBLICATION   \n",
       "2                       ARTICLE; RETRACTED PUBLICATION   \n",
       "3                       ARTICLE; RETRACTED PUBLICATION   \n",
       "4                       ARTICLE; RETRACTED PUBLICATION   \n",
       "..                                                 ...   \n",
       "657                     ARTICLE; RETRACTED PUBLICATION   \n",
       "658                     ARTICLE; RETRACTED PUBLICATION   \n",
       "659                                            ARTICLE   \n",
       "660                                            ARTICLE   \n",
       "661  ARTICLE; PROCEEDINGS PAPER; RETRACTED PUBLICATION   \n",
       "\n",
       "                                        wos_categories year_published  \\\n",
       "0    CHEMISTRY, MULTIDISCIPLINARY; CHEMISTRY, PHYSI...           2007   \n",
       "1    CHEMISTRY, MULTIDISCIPLINARY; CHEMISTRY, PHYSI...           2007   \n",
       "2    CHEMISTRY, MULTIDISCIPLINARY; CHEMISTRY, PHYSI...           2013   \n",
       "3    CHEMISTRY, MULTIDISCIPLINARY; CHEMISTRY, PHYSI...           2013   \n",
       "4    CHEMISTRY, MULTIDISCIPLINARY; CHEMISTRY, PHYSI...           2017   \n",
       "..                                                 ...            ...   \n",
       "657         BIOCHEMISTRY \\& MOLECULAR BIOLOGY; BIOLOGY           2021   \n",
       "658         BIOCHEMISTRY \\& MOLECULAR BIOLOGY; BIOLOGY           2014   \n",
       "659       PUBLIC, ENVIRONMENTAL \\& OCCUPATIONAL HEALTH           2022   \n",
       "660                                        ORTHOPEDICS           2014   \n",
       "661               CELL BIOLOGY; HEMATOLOGY; IMMUNOLOGY           2000   \n",
       "\n",
       "                                  authors_affiliations  \\\n",
       "0                      UNIV CINCINNATI;UNIV CINCINNATI   \n",
       "1                            NANJING UNIV;NANJING UNIV   \n",
       "2    PENN STATE UNIV;PENN STATE UNIV;PENN STATE UNI...   \n",
       "3    PENN STATE UNIV;PENN STATE UNIV;PENN STATE UNI...   \n",
       "4    INST PHYS;BEJING INST NANOENRGY AND NANOSYST;U...   \n",
       "..                                                 ...   \n",
       "657  WUHAN UNIV;WUHAN UNIV;WUHAN UNIV;WUHAN UNIV;WU...   \n",
       "658  GUANGDONG PHARMACEUT UNIV;GUANGDONG PHARMACEUT...   \n",
       "659  NATL CTR CHRON DIS PREVENT AND HLTH PROMOT;NAT...   \n",
       "660                                LUND UNIV;LUND UNIV   \n",
       "661                    UNIV WASHINGTON;UNIV WASHINGTON   \n",
       "\n",
       "               corresponding_author_affiliation book.group.author  \\\n",
       "0                               UNIV CINCINNATI               NaN   \n",
       "1                                  NANJING UNIV               NaN   \n",
       "2                               PENN STATE UNIV               NaN   \n",
       "3                               PENN STATE UNIV               NaN   \n",
       "4                                     INST PHYS               NaN   \n",
       "..                                          ...               ...   \n",
       "657                                  WUHAN UNIV               NaN   \n",
       "658                   GUANGDONG PHARMACEUT UNIV               NaN   \n",
       "659  NATL CTR CHRON DIS PREVENT AND HLTH PROMOT               NaN   \n",
       "660                                   LUND UNIV               NaN   \n",
       "661                             UNIV WASHINGTON               NaN   \n",
       "\n",
       "    publication_date Biomedicine  \n",
       "0         2007-04-20           0  \n",
       "1         2007-06-18           0  \n",
       "2         2013-09-20           0  \n",
       "3         2013-11-20           0  \n",
       "4         2017-09-13           0  \n",
       "..               ...         ...  \n",
       "657       2021-01-01           1  \n",
       "658       2014-01-01           1  \n",
       "659       2022-12-16           0  \n",
       "660       2014-12-01           1  \n",
       "661       2000-09-01           1  \n",
       "\n",
       "[662 rows x 56 columns]"
      ]
     },
     "execution_count": 36,
     "metadata": {},
     "output_type": "execute_result"
    }
   ],
   "source": [
    "retractions"
   ]
  },
  {
   "cell_type": "code",
   "execution_count": 37,
   "metadata": {},
   "outputs": [
    {
     "data": {
      "text/html": [
       "<div>\n",
       "<style scoped>\n",
       "    .dataframe tbody tr th:only-of-type {\n",
       "        vertical-align: middle;\n",
       "    }\n",
       "\n",
       "    .dataframe tbody tr th {\n",
       "        vertical-align: top;\n",
       "    }\n",
       "\n",
       "    .dataframe thead th {\n",
       "        text-align: right;\n",
       "    }\n",
       "</style>\n",
       "<table border=\"1\" class=\"dataframe\">\n",
       "  <thead>\n",
       "    <tr style=\"text-align: right;\">\n",
       "      <th></th>\n",
       "      <th>Record ID</th>\n",
       "      <th>Reason</th>\n",
       "      <th>Biomedicine</th>\n",
       "    </tr>\n",
       "  </thead>\n",
       "  <tbody>\n",
       "    <tr>\n",
       "      <th>0</th>\n",
       "      <td>19131</td>\n",
       "      <td>Concerns/Issues About Data</td>\n",
       "      <td>0</td>\n",
       "    </tr>\n",
       "    <tr>\n",
       "      <th>0</th>\n",
       "      <td>19131</td>\n",
       "      <td>Concerns/Issues About Image</td>\n",
       "      <td>0</td>\n",
       "    </tr>\n",
       "    <tr>\n",
       "      <th>0</th>\n",
       "      <td>19131</td>\n",
       "      <td>Investigation by Company/Institution</td>\n",
       "      <td>0</td>\n",
       "    </tr>\n",
       "    <tr>\n",
       "      <th>1</th>\n",
       "      <td>5767</td>\n",
       "      <td>Duplication of Data</td>\n",
       "      <td>0</td>\n",
       "    </tr>\n",
       "    <tr>\n",
       "      <th>1</th>\n",
       "      <td>5767</td>\n",
       "      <td>Ethical Violations by Author</td>\n",
       "      <td>0</td>\n",
       "    </tr>\n",
       "    <tr>\n",
       "      <th>...</th>\n",
       "      <td>...</td>\n",
       "      <td>...</td>\n",
       "      <td>...</td>\n",
       "    </tr>\n",
       "    <tr>\n",
       "      <th>661</th>\n",
       "      <td>4261</td>\n",
       "      <td>Investigation by ORI</td>\n",
       "      <td>1</td>\n",
       "    </tr>\n",
       "    <tr>\n",
       "      <th>661</th>\n",
       "      <td>4261</td>\n",
       "      <td>Misconduct - Official Investigation/Finding</td>\n",
       "      <td>1</td>\n",
       "    </tr>\n",
       "    <tr>\n",
       "      <th>661</th>\n",
       "      <td>4261</td>\n",
       "      <td>Misconduct by Author</td>\n",
       "      <td>1</td>\n",
       "    </tr>\n",
       "    <tr>\n",
       "      <th>661</th>\n",
       "      <td>4261</td>\n",
       "      <td>Notice - Limited or No Information</td>\n",
       "      <td>1</td>\n",
       "    </tr>\n",
       "    <tr>\n",
       "      <th>661</th>\n",
       "      <td>4261</td>\n",
       "      <td>Objections by Author(s)</td>\n",
       "      <td>1</td>\n",
       "    </tr>\n",
       "  </tbody>\n",
       "</table>\n",
       "<p>2057 rows × 3 columns</p>\n",
       "</div>"
      ],
      "text/plain": [
       "     Record ID                                       Reason  Biomedicine\n",
       "0        19131                   Concerns/Issues About Data            0\n",
       "0        19131                  Concerns/Issues About Image            0\n",
       "0        19131         Investigation by Company/Institution            0\n",
       "1         5767                          Duplication of Data            0\n",
       "1         5767                 Ethical Violations by Author            0\n",
       "..         ...                                          ...          ...\n",
       "661       4261                         Investigation by ORI            1\n",
       "661       4261  Misconduct - Official Investigation/Finding            1\n",
       "661       4261                         Misconduct by Author            1\n",
       "661       4261           Notice - Limited or No Information            1\n",
       "661       4261                      Objections by Author(s)            1\n",
       "\n",
       "[2057 rows x 3 columns]"
      ]
     },
     "execution_count": 37,
     "metadata": {},
     "output_type": "execute_result"
    }
   ],
   "source": [
    "motives = retractions[['Record ID','Reason', 'Biomedicine']]\n",
    "motives.loc[:, 'Reason'] = motives['Reason'].str.split(';')\n",
    "motives = motives.explode('Reason')\n",
    "motives.loc[:, 'Reason'] = motives['Reason'].str.replace('+', '')\n",
    "motives = motives[motives['Reason'].str.strip() != \"\"]\n",
    "motives\n"
   ]
  },
  {
   "cell_type": "code",
   "execution_count": 38,
   "metadata": {},
   "outputs": [
    {
     "data": {
      "text/html": [
       "<div>\n",
       "<style scoped>\n",
       "    .dataframe tbody tr th:only-of-type {\n",
       "        vertical-align: middle;\n",
       "    }\n",
       "\n",
       "    .dataframe tbody tr th {\n",
       "        vertical-align: top;\n",
       "    }\n",
       "\n",
       "    .dataframe thead th {\n",
       "        text-align: right;\n",
       "    }\n",
       "</style>\n",
       "<table border=\"1\" class=\"dataframe\">\n",
       "  <thead>\n",
       "    <tr style=\"text-align: right;\">\n",
       "      <th></th>\n",
       "      <th>Reason</th>\n",
       "      <th>Biomed</th>\n",
       "    </tr>\n",
       "  </thead>\n",
       "  <tbody>\n",
       "    <tr>\n",
       "      <th>0</th>\n",
       "      <td>Investigation by Company/Institution</td>\n",
       "      <td>168</td>\n",
       "    </tr>\n",
       "    <tr>\n",
       "      <th>1</th>\n",
       "      <td>Unreliable Results</td>\n",
       "      <td>116</td>\n",
       "    </tr>\n",
       "    <tr>\n",
       "      <th>2</th>\n",
       "      <td>Duplication of Image</td>\n",
       "      <td>108</td>\n",
       "    </tr>\n",
       "    <tr>\n",
       "      <th>3</th>\n",
       "      <td>Misconduct by Author</td>\n",
       "      <td>105</td>\n",
       "    </tr>\n",
       "    <tr>\n",
       "      <th>4</th>\n",
       "      <td>Concerns/Issues About Data</td>\n",
       "      <td>100</td>\n",
       "    </tr>\n",
       "    <tr>\n",
       "      <th>5</th>\n",
       "      <td>Error in Data</td>\n",
       "      <td>90</td>\n",
       "    </tr>\n",
       "    <tr>\n",
       "      <th>6</th>\n",
       "      <td>Misconduct - Official Investigation/Finding</td>\n",
       "      <td>88</td>\n",
       "    </tr>\n",
       "    <tr>\n",
       "      <th>7</th>\n",
       "      <td>Falsification/Fabrication of Data</td>\n",
       "      <td>82</td>\n",
       "    </tr>\n",
       "    <tr>\n",
       "      <th>8</th>\n",
       "      <td>Manipulation of Images</td>\n",
       "      <td>76</td>\n",
       "    </tr>\n",
       "    <tr>\n",
       "      <th>9</th>\n",
       "      <td>Results Not Reproducible</td>\n",
       "      <td>75</td>\n",
       "    </tr>\n",
       "  </tbody>\n",
       "</table>\n",
       "</div>"
      ],
      "text/plain": [
       "                                        Reason  Biomed\n",
       "0         Investigation by Company/Institution     168\n",
       "1                           Unreliable Results     116\n",
       "2                         Duplication of Image     108\n",
       "3                         Misconduct by Author     105\n",
       "4                   Concerns/Issues About Data     100\n",
       "5                                Error in Data      90\n",
       "6  Misconduct - Official Investigation/Finding      88\n",
       "7            Falsification/Fabrication of Data      82\n",
       "8                       Manipulation of Images      76\n",
       "9                     Results Not Reproducible      75"
      ]
     },
     "execution_count": 38,
     "metadata": {},
     "output_type": "execute_result"
    }
   ],
   "source": [
    "top10_reasons_biomed = motives['Reason'].value_counts()[:10].reset_index(name = \"Biomed\")\n",
    "top10_reasons_biomed"
   ]
  },
  {
   "cell_type": "code",
   "execution_count": 39,
   "metadata": {},
   "outputs": [
    {
     "data": {
      "text/html": [
       "<div>\n",
       "<style scoped>\n",
       "    .dataframe tbody tr th:only-of-type {\n",
       "        vertical-align: middle;\n",
       "    }\n",
       "\n",
       "    .dataframe tbody tr th {\n",
       "        vertical-align: top;\n",
       "    }\n",
       "\n",
       "    .dataframe thead th {\n",
       "        text-align: right;\n",
       "    }\n",
       "</style>\n",
       "<table border=\"1\" class=\"dataframe\">\n",
       "  <thead>\n",
       "    <tr style=\"text-align: right;\">\n",
       "      <th></th>\n",
       "      <th>Reason</th>\n",
       "      <th>Non Biomed</th>\n",
       "    </tr>\n",
       "  </thead>\n",
       "  <tbody>\n",
       "    <tr>\n",
       "      <th>0</th>\n",
       "      <td>Investigation by Company/Institution</td>\n",
       "      <td>98</td>\n",
       "    </tr>\n",
       "    <tr>\n",
       "      <th>1</th>\n",
       "      <td>Duplication of Image</td>\n",
       "      <td>88</td>\n",
       "    </tr>\n",
       "    <tr>\n",
       "      <th>2</th>\n",
       "      <td>Manipulation of Images</td>\n",
       "      <td>58</td>\n",
       "    </tr>\n",
       "    <tr>\n",
       "      <th>3</th>\n",
       "      <td>Concerns/Issues About Data</td>\n",
       "      <td>55</td>\n",
       "    </tr>\n",
       "    <tr>\n",
       "      <th>4</th>\n",
       "      <td>Misconduct by Author</td>\n",
       "      <td>53</td>\n",
       "    </tr>\n",
       "    <tr>\n",
       "      <th>5</th>\n",
       "      <td>Error in Data</td>\n",
       "      <td>52</td>\n",
       "    </tr>\n",
       "    <tr>\n",
       "      <th>6</th>\n",
       "      <td>Unreliable Results</td>\n",
       "      <td>46</td>\n",
       "    </tr>\n",
       "    <tr>\n",
       "      <th>7</th>\n",
       "      <td>Falsification/Fabrication of Data</td>\n",
       "      <td>44</td>\n",
       "    </tr>\n",
       "    <tr>\n",
       "      <th>8</th>\n",
       "      <td>Investigation by Journal/Publisher</td>\n",
       "      <td>41</td>\n",
       "    </tr>\n",
       "    <tr>\n",
       "      <th>9</th>\n",
       "      <td>Misconduct - Official Investigation/Finding</td>\n",
       "      <td>41</td>\n",
       "    </tr>\n",
       "  </tbody>\n",
       "</table>\n",
       "</div>"
      ],
      "text/plain": [
       "                                        Reason  Non Biomed\n",
       "0         Investigation by Company/Institution          98\n",
       "1                         Duplication of Image          88\n",
       "2                       Manipulation of Images          58\n",
       "3                   Concerns/Issues About Data          55\n",
       "4                         Misconduct by Author          53\n",
       "5                                Error in Data          52\n",
       "6                           Unreliable Results          46\n",
       "7            Falsification/Fabrication of Data          44\n",
       "8           Investigation by Journal/Publisher          41\n",
       "9  Misconduct - Official Investigation/Finding          41"
      ]
     },
     "execution_count": 39,
     "metadata": {},
     "output_type": "execute_result"
    }
   ],
   "source": [
    "top10_reasons_non_biomed = motives[motives['Biomedicine']==1]['Reason'].value_counts()[:10].reset_index(name = \"Non Biomed\")\n",
    "top10_reasons_non_biomed"
   ]
  },
  {
   "cell_type": "code",
   "execution_count": 40,
   "metadata": {},
   "outputs": [
    {
     "data": {
      "text/html": [
       "<div>\n",
       "<style scoped>\n",
       "    .dataframe tbody tr th:only-of-type {\n",
       "        vertical-align: middle;\n",
       "    }\n",
       "\n",
       "    .dataframe tbody tr th {\n",
       "        vertical-align: top;\n",
       "    }\n",
       "\n",
       "    .dataframe thead th {\n",
       "        text-align: right;\n",
       "    }\n",
       "</style>\n",
       "<table border=\"1\" class=\"dataframe\">\n",
       "  <thead>\n",
       "    <tr style=\"text-align: right;\">\n",
       "      <th></th>\n",
       "      <th>Reason</th>\n",
       "      <th>Biomed</th>\n",
       "      <th>Reason</th>\n",
       "      <th>Non Biomed</th>\n",
       "    </tr>\n",
       "  </thead>\n",
       "  <tbody>\n",
       "    <tr>\n",
       "      <th>0</th>\n",
       "      <td>Investigation by Company/Institution</td>\n",
       "      <td>168</td>\n",
       "      <td>Investigation by Company/Institution</td>\n",
       "      <td>98</td>\n",
       "    </tr>\n",
       "    <tr>\n",
       "      <th>1</th>\n",
       "      <td>Unreliable Results</td>\n",
       "      <td>116</td>\n",
       "      <td>Duplication of Image</td>\n",
       "      <td>88</td>\n",
       "    </tr>\n",
       "    <tr>\n",
       "      <th>2</th>\n",
       "      <td>Duplication of Image</td>\n",
       "      <td>108</td>\n",
       "      <td>Manipulation of Images</td>\n",
       "      <td>58</td>\n",
       "    </tr>\n",
       "    <tr>\n",
       "      <th>3</th>\n",
       "      <td>Misconduct by Author</td>\n",
       "      <td>105</td>\n",
       "      <td>Concerns/Issues About Data</td>\n",
       "      <td>55</td>\n",
       "    </tr>\n",
       "    <tr>\n",
       "      <th>4</th>\n",
       "      <td>Concerns/Issues About Data</td>\n",
       "      <td>100</td>\n",
       "      <td>Misconduct by Author</td>\n",
       "      <td>53</td>\n",
       "    </tr>\n",
       "    <tr>\n",
       "      <th>5</th>\n",
       "      <td>Error in Data</td>\n",
       "      <td>90</td>\n",
       "      <td>Error in Data</td>\n",
       "      <td>52</td>\n",
       "    </tr>\n",
       "    <tr>\n",
       "      <th>6</th>\n",
       "      <td>Misconduct - Official Investigation/Finding</td>\n",
       "      <td>88</td>\n",
       "      <td>Unreliable Results</td>\n",
       "      <td>46</td>\n",
       "    </tr>\n",
       "    <tr>\n",
       "      <th>7</th>\n",
       "      <td>Falsification/Fabrication of Data</td>\n",
       "      <td>82</td>\n",
       "      <td>Falsification/Fabrication of Data</td>\n",
       "      <td>44</td>\n",
       "    </tr>\n",
       "    <tr>\n",
       "      <th>8</th>\n",
       "      <td>Manipulation of Images</td>\n",
       "      <td>76</td>\n",
       "      <td>Investigation by Journal/Publisher</td>\n",
       "      <td>41</td>\n",
       "    </tr>\n",
       "    <tr>\n",
       "      <th>9</th>\n",
       "      <td>Results Not Reproducible</td>\n",
       "      <td>75</td>\n",
       "      <td>Misconduct - Official Investigation/Finding</td>\n",
       "      <td>41</td>\n",
       "    </tr>\n",
       "  </tbody>\n",
       "</table>\n",
       "</div>"
      ],
      "text/plain": [
       "                                        Reason  Biomed  \\\n",
       "0         Investigation by Company/Institution     168   \n",
       "1                           Unreliable Results     116   \n",
       "2                         Duplication of Image     108   \n",
       "3                         Misconduct by Author     105   \n",
       "4                   Concerns/Issues About Data     100   \n",
       "5                                Error in Data      90   \n",
       "6  Misconduct - Official Investigation/Finding      88   \n",
       "7            Falsification/Fabrication of Data      82   \n",
       "8                       Manipulation of Images      76   \n",
       "9                     Results Not Reproducible      75   \n",
       "\n",
       "                                        Reason  Non Biomed  \n",
       "0         Investigation by Company/Institution          98  \n",
       "1                         Duplication of Image          88  \n",
       "2                       Manipulation of Images          58  \n",
       "3                   Concerns/Issues About Data          55  \n",
       "4                         Misconduct by Author          53  \n",
       "5                                Error in Data          52  \n",
       "6                           Unreliable Results          46  \n",
       "7            Falsification/Fabrication of Data          44  \n",
       "8           Investigation by Journal/Publisher          41  \n",
       "9  Misconduct - Official Investigation/Finding          41  "
      ]
     },
     "execution_count": 40,
     "metadata": {},
     "output_type": "execute_result"
    }
   ],
   "source": [
    "top10_reasons = pd.concat([top10_reasons_biomed, top10_reasons_non_biomed], axis=1)\n",
    "top10_reasons"
   ]
  },
  {
   "cell_type": "code",
   "execution_count": 41,
   "metadata": {},
   "outputs": [],
   "source": [
    "top10_reasons.to_excel('./top10_reasons_biomed.xlsx', index=False)"
   ]
  },
  {
   "cell_type": "markdown",
   "metadata": {},
   "source": [
    "- Reasons for retraction by year\n",
    "- % of articles for fraud or suspected fraud by Year of Retraction\n",
    "- nº of articles in total and nº of articles"
   ]
  },
  {
   "cell_type": "markdown",
   "metadata": {},
   "source": [
    "Mean and median number of citations for control set and retractions by year. "
   ]
  },
  {
   "cell_type": "code",
   "execution_count": 42,
   "metadata": {},
   "outputs": [
    {
     "data": {
      "text/plain": [
       "count     933634.0\n",
       "mean     52.838426\n",
       "std      54.898892\n",
       "min            0.0\n",
       "25%           29.0\n",
       "50%           42.0\n",
       "75%           59.0\n",
       "max         4723.0\n",
       "Name: cited_reference_count, dtype: Float64"
      ]
     },
     "execution_count": 42,
     "metadata": {},
     "output_type": "execute_result"
    }
   ],
   "source": [
    "control_set['cited_reference_count'].describe()"
   ]
  },
  {
   "cell_type": "code",
   "execution_count": 43,
   "metadata": {},
   "outputs": [
    {
     "data": {
      "text/plain": [
       "count    662.000000\n",
       "mean      42.450151\n",
       "std       31.596402\n",
       "min        7.000000\n",
       "25%       28.000000\n",
       "50%       37.000000\n",
       "75%       50.000000\n",
       "max      523.000000\n",
       "Name: cited_reference_count, dtype: float64"
      ]
     },
     "execution_count": 43,
     "metadata": {},
     "output_type": "execute_result"
    }
   ],
   "source": [
    "retractions['cited_reference_count'].describe()"
   ]
  },
  {
   "cell_type": "code",
   "execution_count": 44,
   "metadata": {},
   "outputs": [
    {
     "data": {
      "text/html": [
       "<div>\n",
       "<style scoped>\n",
       "    .dataframe tbody tr th:only-of-type {\n",
       "        vertical-align: middle;\n",
       "    }\n",
       "\n",
       "    .dataframe tbody tr th {\n",
       "        vertical-align: top;\n",
       "    }\n",
       "\n",
       "    .dataframe thead th {\n",
       "        text-align: right;\n",
       "    }\n",
       "</style>\n",
       "<table border=\"1\" class=\"dataframe\">\n",
       "  <thead>\n",
       "    <tr style=\"text-align: right;\">\n",
       "      <th></th>\n",
       "      <th>OriginalPaperDOI</th>\n",
       "      <th>doi</th>\n",
       "      <th>Reason</th>\n",
       "    </tr>\n",
       "  </thead>\n",
       "  <tbody>\n",
       "    <tr>\n",
       "      <th>38</th>\n",
       "      <td>10.1016/S0261-3069(02)00086-9</td>\n",
       "      <td>10.1016/S0261-3069(02)00086-9</td>\n",
       "      <td>+Duplication of Article;</td>\n",
       "    </tr>\n",
       "    <tr>\n",
       "      <th>49</th>\n",
       "      <td>10.1016/j.actbio.2010.02.010</td>\n",
       "      <td>10.1016/j.actbio.2010.02.010</td>\n",
       "      <td>+Duplication of Article;+Falsification/Fabrica...</td>\n",
       "    </tr>\n",
       "    <tr>\n",
       "      <th>56</th>\n",
       "      <td>10.1016/j.actbio.2014.12.010</td>\n",
       "      <td>10.1016/j.actbio.2014.12.010</td>\n",
       "      <td>+Duplication of Article;</td>\n",
       "    </tr>\n",
       "    <tr>\n",
       "      <th>60</th>\n",
       "      <td>10.1016/j.agrformet.2019.107713</td>\n",
       "      <td>10.1016/j.agrformet.2019.107713</td>\n",
       "      <td>+Duplication of Article;</td>\n",
       "    </tr>\n",
       "    <tr>\n",
       "      <th>65</th>\n",
       "      <td>10.1016/j.bios.2007.01.003</td>\n",
       "      <td>10.1016/j.bios.2007.01.003</td>\n",
       "      <td>+Duplication of Article;</td>\n",
       "    </tr>\n",
       "    <tr>\n",
       "      <th>115</th>\n",
       "      <td>10.1016/j.diabres.2003.10.029</td>\n",
       "      <td>10.1016/j.diabres.2003.10.029</td>\n",
       "      <td>+Duplication of Article;+Euphemisms for Duplic...</td>\n",
       "    </tr>\n",
       "    <tr>\n",
       "      <th>116</th>\n",
       "      <td>10.1016/j.diabres.2007.01.069</td>\n",
       "      <td>10.1016/j.diabres.2007.01.069</td>\n",
       "      <td>+Duplication of Article;+Lack of Approval from...</td>\n",
       "    </tr>\n",
       "    <tr>\n",
       "      <th>118</th>\n",
       "      <td>10.1016/j.enbuild.2010.12.006</td>\n",
       "      <td>10.1016/j.enbuild.2010.12.006</td>\n",
       "      <td>+Date of Retraction/Other Unknown;+Duplication...</td>\n",
       "    </tr>\n",
       "    <tr>\n",
       "      <th>119</th>\n",
       "      <td>10.1016/j.enbuild.2010.12.025</td>\n",
       "      <td>10.1016/j.enbuild.2010.12.025</td>\n",
       "      <td>+Date of Retraction/Other Unknown;+Duplication...</td>\n",
       "    </tr>\n",
       "    <tr>\n",
       "      <th>120</th>\n",
       "      <td>10.1016/j.enbuild.2011.02.018</td>\n",
       "      <td>10.1016/j.enbuild.2011.02.018</td>\n",
       "      <td>+Date of Retraction/Other Unknown;+Duplication...</td>\n",
       "    </tr>\n",
       "    <tr>\n",
       "      <th>121</th>\n",
       "      <td>10.1016/j.enbuild.2011.04.009</td>\n",
       "      <td>10.1016/j.enbuild.2011.04.009</td>\n",
       "      <td>+Date of Retraction/Other Unknown;+Duplication...</td>\n",
       "    </tr>\n",
       "    <tr>\n",
       "      <th>122</th>\n",
       "      <td>10.1016/j.enbuild.2011.07.022</td>\n",
       "      <td>10.1016/j.enbuild.2011.07.022</td>\n",
       "      <td>+Date of Retraction/Other Unknown;+Duplication...</td>\n",
       "    </tr>\n",
       "    <tr>\n",
       "      <th>131</th>\n",
       "      <td>10.1016/j.engstruct.2015.03.070</td>\n",
       "      <td>10.1016/j.engstruct.2015.03.070</td>\n",
       "      <td>+Duplication of Article;+Fake Peer Review;+Inv...</td>\n",
       "    </tr>\n",
       "    <tr>\n",
       "      <th>138</th>\n",
       "      <td>10.1016/j.fertnstert.2005.06.036</td>\n",
       "      <td>10.1016/j.fertnstert.2005.06.036</td>\n",
       "      <td>+Date of Retraction/Other Unknown;+Duplication...</td>\n",
       "    </tr>\n",
       "    <tr>\n",
       "      <th>142</th>\n",
       "      <td>10.1016/j.fertnstert.2007.07.1385</td>\n",
       "      <td>10.1016/j.fertnstert.2007.07.1385</td>\n",
       "      <td>+Duplication of Article;</td>\n",
       "    </tr>\n",
       "    <tr>\n",
       "      <th>169</th>\n",
       "      <td>10.1016/j.isatra.2016.05.013</td>\n",
       "      <td>10.1016/j.isatra.2016.05.013</td>\n",
       "      <td>+Duplication of Article;+Withdrawal;</td>\n",
       "    </tr>\n",
       "    <tr>\n",
       "      <th>182</th>\n",
       "      <td>10.1016/j.jcis.2007.06.064</td>\n",
       "      <td>10.1016/j.jcis.2007.06.064</td>\n",
       "      <td>+Duplication of Article;+Concerns/Issues about...</td>\n",
       "    </tr>\n",
       "    <tr>\n",
       "      <th>185</th>\n",
       "      <td>10.1016/j.jcis.2016.11.043</td>\n",
       "      <td>10.1016/j.jcis.2016.11.043</td>\n",
       "      <td>+Duplication of Article;</td>\n",
       "    </tr>\n",
       "    <tr>\n",
       "      <th>186</th>\n",
       "      <td>10.1016/j.jcis.2019.06.057</td>\n",
       "      <td>10.1016/j.jcis.2019.06.057</td>\n",
       "      <td>+Concerns/Issues About Authorship;+Duplication...</td>\n",
       "    </tr>\n",
       "    <tr>\n",
       "      <th>189</th>\n",
       "      <td>10.1016/j.jenvman.2018.04.109</td>\n",
       "      <td>10.1016/j.jenvman.2018.04.109</td>\n",
       "      <td>+Duplication of Article;</td>\n",
       "    </tr>\n",
       "    <tr>\n",
       "      <th>190</th>\n",
       "      <td>10.1016/j.jenvman.2019.03.027</td>\n",
       "      <td>10.1016/j.jenvman.2019.03.027</td>\n",
       "      <td>+Duplication of Article;</td>\n",
       "    </tr>\n",
       "    <tr>\n",
       "      <th>202</th>\n",
       "      <td>10.1016/j.jhydrol.2021.127122</td>\n",
       "      <td>10.1016/j.jhydrol.2021.127122</td>\n",
       "      <td>+Breach of Policy by Author;+Duplication of Ar...</td>\n",
       "    </tr>\n",
       "    <tr>\n",
       "      <th>205</th>\n",
       "      <td>10.1016/j.jse.2011.07.013</td>\n",
       "      <td>10.1016/j.jse.2011.07.013</td>\n",
       "      <td>+Breach of Policy by Author;+Duplication of Ar...</td>\n",
       "    </tr>\n",
       "    <tr>\n",
       "      <th>251</th>\n",
       "      <td>10.1016/j.msea.2014.03.085</td>\n",
       "      <td>10.1016/j.msea.2014.03.085</td>\n",
       "      <td>+Duplication of Article;</td>\n",
       "    </tr>\n",
       "    <tr>\n",
       "      <th>258</th>\n",
       "      <td>10.1016/j.pmatsci.2004.04.001</td>\n",
       "      <td>10.1016/j.pmatsci.2004.04.001</td>\n",
       "      <td>+Duplication of Article;</td>\n",
       "    </tr>\n",
       "    <tr>\n",
       "      <th>266</th>\n",
       "      <td>10.1016/j.wasman.2020.01.006</td>\n",
       "      <td>10.1016/j.wasman.2020.01.006</td>\n",
       "      <td>+Duplication of Article;</td>\n",
       "    </tr>\n",
       "    <tr>\n",
       "      <th>278</th>\n",
       "      <td>10.1021/acssuschemeng.6b01794</td>\n",
       "      <td>10.1021/acssuschemeng.6b01794</td>\n",
       "      <td>+Duplication of Article;+Euphemisms for Duplic...</td>\n",
       "    </tr>\n",
       "    <tr>\n",
       "      <th>281</th>\n",
       "      <td>10.1021/acssuschemeng.7b01541</td>\n",
       "      <td>10.1021/acssuschemeng.7b01541</td>\n",
       "      <td>+Duplication of Article;</td>\n",
       "    </tr>\n",
       "    <tr>\n",
       "      <th>442</th>\n",
       "      <td>10.1080/20013891081674</td>\n",
       "      <td>10.1080/20013891081674</td>\n",
       "      <td>+Duplication of Article;+Concerns/Issues about...</td>\n",
       "    </tr>\n",
       "    <tr>\n",
       "      <th>444</th>\n",
       "      <td>10.1089/thy.2012.0499</td>\n",
       "      <td>10.1089/thy.2012.0499</td>\n",
       "      <td>+Duplication of Article;</td>\n",
       "    </tr>\n",
       "    <tr>\n",
       "      <th>450</th>\n",
       "      <td>10.1093/annonc/mdj965</td>\n",
       "      <td>10.1093/annonc/mdj965</td>\n",
       "      <td>+Duplication of Article;</td>\n",
       "    </tr>\n",
       "    <tr>\n",
       "      <th>486</th>\n",
       "      <td>10.1111/j.1749-6632.2002.tb05896.x</td>\n",
       "      <td>10.1111/j.1749-6632.2002.tb05896.x</td>\n",
       "      <td>+Duplication of Article;+Investigation by Comp...</td>\n",
       "    </tr>\n",
       "    <tr>\n",
       "      <th>487</th>\n",
       "      <td>10.1111/j.1749-6632.2002.tb05901.x</td>\n",
       "      <td>10.1111/j.1749-6632.2002.tb05901.x</td>\n",
       "      <td>+Complaints about Author;+Duplication of Artic...</td>\n",
       "    </tr>\n",
       "    <tr>\n",
       "      <th>488</th>\n",
       "      <td>10.1111/j.1749-6632.2002.tb05907.x</td>\n",
       "      <td>10.1111/j.1749-6632.2002.tb05907.x</td>\n",
       "      <td>+Duplication of Article;+Investigation by Comp...</td>\n",
       "    </tr>\n",
       "    <tr>\n",
       "      <th>489</th>\n",
       "      <td>10.1111/jcal.12443</td>\n",
       "      <td>10.1111/jcal.12443</td>\n",
       "      <td>+Duplication of Article;</td>\n",
       "    </tr>\n",
       "    <tr>\n",
       "      <th>567</th>\n",
       "      <td>10.1139/cgj-2013-0395</td>\n",
       "      <td>10.1139/cgj-2013-0395</td>\n",
       "      <td>+Duplication of Article;+Euphemisms for Duplic...</td>\n",
       "    </tr>\n",
       "    <tr>\n",
       "      <th>620</th>\n",
       "      <td>10.1196/annals.1391.019</td>\n",
       "      <td>10.1196/annals.1391.019</td>\n",
       "      <td>+Duplication of Article;</td>\n",
       "    </tr>\n",
       "  </tbody>\n",
       "</table>\n",
       "</div>"
      ],
      "text/plain": [
       "                       OriginalPaperDOI                                 doi  \\\n",
       "38        10.1016/S0261-3069(02)00086-9       10.1016/S0261-3069(02)00086-9   \n",
       "49         10.1016/j.actbio.2010.02.010        10.1016/j.actbio.2010.02.010   \n",
       "56         10.1016/j.actbio.2014.12.010        10.1016/j.actbio.2014.12.010   \n",
       "60      10.1016/j.agrformet.2019.107713     10.1016/j.agrformet.2019.107713   \n",
       "65           10.1016/j.bios.2007.01.003          10.1016/j.bios.2007.01.003   \n",
       "115       10.1016/j.diabres.2003.10.029       10.1016/j.diabres.2003.10.029   \n",
       "116       10.1016/j.diabres.2007.01.069       10.1016/j.diabres.2007.01.069   \n",
       "118       10.1016/j.enbuild.2010.12.006       10.1016/j.enbuild.2010.12.006   \n",
       "119       10.1016/j.enbuild.2010.12.025       10.1016/j.enbuild.2010.12.025   \n",
       "120       10.1016/j.enbuild.2011.02.018       10.1016/j.enbuild.2011.02.018   \n",
       "121       10.1016/j.enbuild.2011.04.009       10.1016/j.enbuild.2011.04.009   \n",
       "122       10.1016/j.enbuild.2011.07.022       10.1016/j.enbuild.2011.07.022   \n",
       "131     10.1016/j.engstruct.2015.03.070     10.1016/j.engstruct.2015.03.070   \n",
       "138    10.1016/j.fertnstert.2005.06.036    10.1016/j.fertnstert.2005.06.036   \n",
       "142   10.1016/j.fertnstert.2007.07.1385   10.1016/j.fertnstert.2007.07.1385   \n",
       "169        10.1016/j.isatra.2016.05.013        10.1016/j.isatra.2016.05.013   \n",
       "182          10.1016/j.jcis.2007.06.064          10.1016/j.jcis.2007.06.064   \n",
       "185          10.1016/j.jcis.2016.11.043          10.1016/j.jcis.2016.11.043   \n",
       "186          10.1016/j.jcis.2019.06.057          10.1016/j.jcis.2019.06.057   \n",
       "189       10.1016/j.jenvman.2018.04.109       10.1016/j.jenvman.2018.04.109   \n",
       "190       10.1016/j.jenvman.2019.03.027       10.1016/j.jenvman.2019.03.027   \n",
       "202       10.1016/j.jhydrol.2021.127122       10.1016/j.jhydrol.2021.127122   \n",
       "205           10.1016/j.jse.2011.07.013           10.1016/j.jse.2011.07.013   \n",
       "251          10.1016/j.msea.2014.03.085          10.1016/j.msea.2014.03.085   \n",
       "258       10.1016/j.pmatsci.2004.04.001       10.1016/j.pmatsci.2004.04.001   \n",
       "266        10.1016/j.wasman.2020.01.006        10.1016/j.wasman.2020.01.006   \n",
       "278       10.1021/acssuschemeng.6b01794       10.1021/acssuschemeng.6b01794   \n",
       "281       10.1021/acssuschemeng.7b01541       10.1021/acssuschemeng.7b01541   \n",
       "442              10.1080/20013891081674              10.1080/20013891081674   \n",
       "444               10.1089/thy.2012.0499               10.1089/thy.2012.0499   \n",
       "450               10.1093/annonc/mdj965               10.1093/annonc/mdj965   \n",
       "486  10.1111/j.1749-6632.2002.tb05896.x  10.1111/j.1749-6632.2002.tb05896.x   \n",
       "487  10.1111/j.1749-6632.2002.tb05901.x  10.1111/j.1749-6632.2002.tb05901.x   \n",
       "488  10.1111/j.1749-6632.2002.tb05907.x  10.1111/j.1749-6632.2002.tb05907.x   \n",
       "489                  10.1111/jcal.12443                  10.1111/jcal.12443   \n",
       "567               10.1139/cgj-2013-0395               10.1139/cgj-2013-0395   \n",
       "620             10.1196/annals.1391.019             10.1196/annals.1391.019   \n",
       "\n",
       "                                                Reason  \n",
       "38                            +Duplication of Article;  \n",
       "49   +Duplication of Article;+Falsification/Fabrica...  \n",
       "56                            +Duplication of Article;  \n",
       "60                            +Duplication of Article;  \n",
       "65                            +Duplication of Article;  \n",
       "115  +Duplication of Article;+Euphemisms for Duplic...  \n",
       "116  +Duplication of Article;+Lack of Approval from...  \n",
       "118  +Date of Retraction/Other Unknown;+Duplication...  \n",
       "119  +Date of Retraction/Other Unknown;+Duplication...  \n",
       "120  +Date of Retraction/Other Unknown;+Duplication...  \n",
       "121  +Date of Retraction/Other Unknown;+Duplication...  \n",
       "122  +Date of Retraction/Other Unknown;+Duplication...  \n",
       "131  +Duplication of Article;+Fake Peer Review;+Inv...  \n",
       "138  +Date of Retraction/Other Unknown;+Duplication...  \n",
       "142                           +Duplication of Article;  \n",
       "169               +Duplication of Article;+Withdrawal;  \n",
       "182  +Duplication of Article;+Concerns/Issues about...  \n",
       "185                           +Duplication of Article;  \n",
       "186  +Concerns/Issues About Authorship;+Duplication...  \n",
       "189                           +Duplication of Article;  \n",
       "190                           +Duplication of Article;  \n",
       "202  +Breach of Policy by Author;+Duplication of Ar...  \n",
       "205  +Breach of Policy by Author;+Duplication of Ar...  \n",
       "251                           +Duplication of Article;  \n",
       "258                           +Duplication of Article;  \n",
       "266                           +Duplication of Article;  \n",
       "278  +Duplication of Article;+Euphemisms for Duplic...  \n",
       "281                           +Duplication of Article;  \n",
       "442  +Duplication of Article;+Concerns/Issues about...  \n",
       "444                           +Duplication of Article;  \n",
       "450                           +Duplication of Article;  \n",
       "486  +Duplication of Article;+Investigation by Comp...  \n",
       "487  +Complaints about Author;+Duplication of Artic...  \n",
       "488  +Duplication of Article;+Investigation by Comp...  \n",
       "489                           +Duplication of Article;  \n",
       "567  +Duplication of Article;+Euphemisms for Duplic...  \n",
       "620                           +Duplication of Article;  "
      ]
     },
     "execution_count": 44,
     "metadata": {},
     "output_type": "execute_result"
    }
   ],
   "source": [
    "keywords = [\"duplication of article\"]\n",
    "retractions[retractions['Reason'].str.lower().str.contains('|'.join(keywords))][['OriginalPaperDOI', 'doi', 'Reason']]"
   ]
  },
  {
   "cell_type": "markdown",
   "metadata": {},
   "source": [
    "# 1.1 - Temporal trends <a class=\"anchor\" id=\"section_1_1\"></a>"
   ]
  },
  {
   "cell_type": "code",
   "execution_count": 45,
   "metadata": {},
   "outputs": [],
   "source": [
    "retractions_grouped = retractions[retractions['RetractionDate'].dt.year != 2023].groupby(retractions['RetractionDate'].dt.year)['Record ID'].count().reset_index(name= 'Nr of Retractions')\n",
    "control_set_grouped = control_set.groupby('year_published').size().reset_index(name= 'Nr of Articles')\n",
    "\n",
    "# Merge the two grouped DataFrames on the 'year_published' column\n",
    "year_counts = pd.merge(retractions_grouped, control_set_grouped, how='outer', left_on='RetractionDate', right_on='year_published').drop('year_published', axis=1)"
   ]
  },
  {
   "cell_type": "code",
   "execution_count": 46,
   "metadata": {},
   "outputs": [],
   "source": [
    "year_counts['Proportion of Retractions'] = ((year_counts['Nr of Retractions'] / year_counts['Nr of Articles']) * 10000)"
   ]
  },
  {
   "cell_type": "code",
   "execution_count": 47,
   "metadata": {},
   "outputs": [
    {
     "data": {
      "text/html": [
       "<div>\n",
       "<style scoped>\n",
       "    .dataframe tbody tr th:only-of-type {\n",
       "        vertical-align: middle;\n",
       "    }\n",
       "\n",
       "    .dataframe tbody tr th {\n",
       "        vertical-align: top;\n",
       "    }\n",
       "\n",
       "    .dataframe thead th {\n",
       "        text-align: right;\n",
       "    }\n",
       "</style>\n",
       "<table border=\"1\" class=\"dataframe\">\n",
       "  <thead>\n",
       "    <tr style=\"text-align: right;\">\n",
       "      <th></th>\n",
       "      <th>RetractionDate</th>\n",
       "      <th>Nr of Retractions</th>\n",
       "      <th>Nr of Articles</th>\n",
       "      <th>Proportion of Retractions</th>\n",
       "    </tr>\n",
       "  </thead>\n",
       "  <tbody>\n",
       "    <tr>\n",
       "      <th>0</th>\n",
       "      <td>2000</td>\n",
       "      <td>2</td>\n",
       "      <td>23493</td>\n",
       "      <td>0.851317</td>\n",
       "    </tr>\n",
       "    <tr>\n",
       "      <th>1</th>\n",
       "      <td>2001</td>\n",
       "      <td>1</td>\n",
       "      <td>23693</td>\n",
       "      <td>0.422066</td>\n",
       "    </tr>\n",
       "    <tr>\n",
       "      <th>2</th>\n",
       "      <td>2002</td>\n",
       "      <td>15</td>\n",
       "      <td>24712</td>\n",
       "      <td>6.069926</td>\n",
       "    </tr>\n",
       "    <tr>\n",
       "      <th>3</th>\n",
       "      <td>2003</td>\n",
       "      <td>15</td>\n",
       "      <td>26277</td>\n",
       "      <td>5.708414</td>\n",
       "    </tr>\n",
       "    <tr>\n",
       "      <th>4</th>\n",
       "      <td>2004</td>\n",
       "      <td>10</td>\n",
       "      <td>26961</td>\n",
       "      <td>3.709061</td>\n",
       "    </tr>\n",
       "    <tr>\n",
       "      <th>5</th>\n",
       "      <td>2005</td>\n",
       "      <td>15</td>\n",
       "      <td>28147</td>\n",
       "      <td>5.329165</td>\n",
       "    </tr>\n",
       "    <tr>\n",
       "      <th>6</th>\n",
       "      <td>2006</td>\n",
       "      <td>26</td>\n",
       "      <td>29677</td>\n",
       "      <td>8.760993</td>\n",
       "    </tr>\n",
       "    <tr>\n",
       "      <th>7</th>\n",
       "      <td>2007</td>\n",
       "      <td>15</td>\n",
       "      <td>31284</td>\n",
       "      <td>4.794783</td>\n",
       "    </tr>\n",
       "    <tr>\n",
       "      <th>8</th>\n",
       "      <td>2008</td>\n",
       "      <td>13</td>\n",
       "      <td>32277</td>\n",
       "      <td>4.027636</td>\n",
       "    </tr>\n",
       "    <tr>\n",
       "      <th>9</th>\n",
       "      <td>2009</td>\n",
       "      <td>17</td>\n",
       "      <td>33739</td>\n",
       "      <td>5.038679</td>\n",
       "    </tr>\n",
       "    <tr>\n",
       "      <th>10</th>\n",
       "      <td>2010</td>\n",
       "      <td>16</td>\n",
       "      <td>34743</td>\n",
       "      <td>4.605244</td>\n",
       "    </tr>\n",
       "    <tr>\n",
       "      <th>11</th>\n",
       "      <td>2011</td>\n",
       "      <td>24</td>\n",
       "      <td>36512</td>\n",
       "      <td>6.573181</td>\n",
       "    </tr>\n",
       "    <tr>\n",
       "      <th>12</th>\n",
       "      <td>2012</td>\n",
       "      <td>24</td>\n",
       "      <td>38765</td>\n",
       "      <td>6.191152</td>\n",
       "    </tr>\n",
       "    <tr>\n",
       "      <th>13</th>\n",
       "      <td>2013</td>\n",
       "      <td>41</td>\n",
       "      <td>41840</td>\n",
       "      <td>9.799235</td>\n",
       "    </tr>\n",
       "    <tr>\n",
       "      <th>14</th>\n",
       "      <td>2014</td>\n",
       "      <td>37</td>\n",
       "      <td>43258</td>\n",
       "      <td>8.553331</td>\n",
       "    </tr>\n",
       "    <tr>\n",
       "      <th>15</th>\n",
       "      <td>2015</td>\n",
       "      <td>40</td>\n",
       "      <td>45993</td>\n",
       "      <td>8.696976</td>\n",
       "    </tr>\n",
       "    <tr>\n",
       "      <th>16</th>\n",
       "      <td>2016</td>\n",
       "      <td>32</td>\n",
       "      <td>48680</td>\n",
       "      <td>6.573541</td>\n",
       "    </tr>\n",
       "    <tr>\n",
       "      <th>17</th>\n",
       "      <td>2017</td>\n",
       "      <td>24</td>\n",
       "      <td>51131</td>\n",
       "      <td>4.693826</td>\n",
       "    </tr>\n",
       "    <tr>\n",
       "      <th>18</th>\n",
       "      <td>2018</td>\n",
       "      <td>39</td>\n",
       "      <td>56030</td>\n",
       "      <td>6.960557</td>\n",
       "    </tr>\n",
       "    <tr>\n",
       "      <th>19</th>\n",
       "      <td>2019</td>\n",
       "      <td>35</td>\n",
       "      <td>58212</td>\n",
       "      <td>6.012506</td>\n",
       "    </tr>\n",
       "    <tr>\n",
       "      <th>20</th>\n",
       "      <td>2020</td>\n",
       "      <td>58</td>\n",
       "      <td>62883</td>\n",
       "      <td>9.223479</td>\n",
       "    </tr>\n",
       "    <tr>\n",
       "      <th>21</th>\n",
       "      <td>2021</td>\n",
       "      <td>51</td>\n",
       "      <td>68781</td>\n",
       "      <td>7.414838</td>\n",
       "    </tr>\n",
       "    <tr>\n",
       "      <th>22</th>\n",
       "      <td>2022</td>\n",
       "      <td>65</td>\n",
       "      <td>66546</td>\n",
       "      <td>9.767679</td>\n",
       "    </tr>\n",
       "  </tbody>\n",
       "</table>\n",
       "</div>"
      ],
      "text/plain": [
       "    RetractionDate  Nr of Retractions  Nr of Articles  \\\n",
       "0             2000                  2           23493   \n",
       "1             2001                  1           23693   \n",
       "2             2002                 15           24712   \n",
       "3             2003                 15           26277   \n",
       "4             2004                 10           26961   \n",
       "5             2005                 15           28147   \n",
       "6             2006                 26           29677   \n",
       "7             2007                 15           31284   \n",
       "8             2008                 13           32277   \n",
       "9             2009                 17           33739   \n",
       "10            2010                 16           34743   \n",
       "11            2011                 24           36512   \n",
       "12            2012                 24           38765   \n",
       "13            2013                 41           41840   \n",
       "14            2014                 37           43258   \n",
       "15            2015                 40           45993   \n",
       "16            2016                 32           48680   \n",
       "17            2017                 24           51131   \n",
       "18            2018                 39           56030   \n",
       "19            2019                 35           58212   \n",
       "20            2020                 58           62883   \n",
       "21            2021                 51           68781   \n",
       "22            2022                 65           66546   \n",
       "\n",
       "    Proportion of Retractions  \n",
       "0                    0.851317  \n",
       "1                    0.422066  \n",
       "2                    6.069926  \n",
       "3                    5.708414  \n",
       "4                    3.709061  \n",
       "5                    5.329165  \n",
       "6                    8.760993  \n",
       "7                    4.794783  \n",
       "8                    4.027636  \n",
       "9                    5.038679  \n",
       "10                   4.605244  \n",
       "11                   6.573181  \n",
       "12                   6.191152  \n",
       "13                   9.799235  \n",
       "14                   8.553331  \n",
       "15                   8.696976  \n",
       "16                   6.573541  \n",
       "17                   4.693826  \n",
       "18                   6.960557  \n",
       "19                   6.012506  \n",
       "20                   9.223479  \n",
       "21                   7.414838  \n",
       "22                   9.767679  "
      ]
     },
     "execution_count": 47,
     "metadata": {},
     "output_type": "execute_result"
    }
   ],
   "source": [
    "year_counts"
   ]
  },
  {
   "cell_type": "code",
   "execution_count": 48,
   "metadata": {},
   "outputs": [
    {
     "data": {
      "image/png": "[encoded data removed]",
      "text/plain": [
       "<Figure size 1000x600 with 2 Axes>"
      ]
     },
     "metadata": {},
     "output_type": "display_data"
    }
   ],
   "source": [
    "# Assuming 'result' is your merged Dask DataFrame\n",
    "fig, ax1 = plt.subplots(figsize=(10, 6))\n",
    "\n",
    "# Plot the number of articles on the primary y-axis\n",
    "ax1.plot(year_counts['RetractionDate'], year_counts['Nr of Articles'], color='blue', label='Number of Articles')\n",
    "ax1.set_xlabel('Year')\n",
    "ax1.set_ylabel('Number of Articles', color='blue')\n",
    "ax1.tick_params('y', colors='blue')\n",
    "\n",
    "# Create a twin Axes sharing the xaxis\n",
    "ax2 = ax1.twinx()\n",
    "\n",
    "# Plot the number of retractions on the secondary y-axis\n",
    "ax2.plot(year_counts['RetractionDate'], year_counts['Nr of Retractions'], color='green', label='Number of Retractions')\n",
    "ax2.set_ylabel('Number of Retractions', color='green')\n",
    "ax2.tick_params('y', colors='green')\n",
    "\n",
    "# Add title and legend\n",
    "plt.title('Number of Articles and Retractions Over the Years')\n",
    "plt.legend()\n",
    "\n",
    "# Show the plot\n",
    "plt.show()\n"
   ]
  },
  {
   "cell_type": "code",
   "execution_count": 49,
   "metadata": {},
   "outputs": [
    {
     "data": {
      "image/png": "[encoded data removed]",
      "text/plain": [
       "<Figure size 1000x600 with 1 Axes>"
      ]
     },
     "metadata": {},
     "output_type": "display_data"
    }
   ],
   "source": [
    "plt.figure(figsize=(10, 6))  # Adjust the figure size as needed\n",
    "plt.plot(year_counts['RetractionDate'], year_counts['Proportion of Retractions'])\n",
    "\n",
    "plt.xlabel('Year')\n",
    "plt.ylabel('Nr of Retractions per 10.000 papers')\n",
    "#plt.title('Evolution of number of retractions')\n",
    "plt.grid(True)\n",
    "plt.show()"
   ]
  },
  {
   "cell_type": "code",
   "execution_count": 50,
   "metadata": {},
   "outputs": [
    {
     "data": {
      "image/png": "[encoded data removed]",
      "text/plain": [
       "<Figure size 1000x600 with 2 Axes>"
      ]
     },
     "metadata": {},
     "output_type": "display_data"
    }
   ],
   "source": [
    "# Assuming 'result' is your merged Dask DataFrame\n",
    "fig, ax1 = plt.subplots(figsize=(10, 6))\n",
    "\n",
    "# Plot the number of articles on the primary y-axis\n",
    "ax1.plot(year_counts['RetractionDate'], year_counts['Nr of Articles'], color='blue', label='Number of Articles')\n",
    "ax1.set_xlabel('Year')\n",
    "ax1.set_ylabel('Number of Articles', color='blue')\n",
    "ax1.tick_params('y', colors='blue')\n",
    "\n",
    "# Create a twin Axes sharing the xaxis\n",
    "ax2 = ax1.twinx()\n",
    "\n",
    "# Plot the number of retractions on the secondary y-axis\n",
    "ax2.plot(year_counts['RetractionDate'], year_counts['Proportion of Retractions'], color='green', label='Nr of Retractions per 10.000 papers')\n",
    "ax2.set_ylabel('Nr of Retractions per 10.000 papers', color='green')\n",
    "ax2.tick_params('y', colors='green')\n",
    "\n",
    "# Add title and legend\n",
    "plt.title('Number of Articles and Retractions Over the Years')\n",
    "plt.legend()\n",
    "\n",
    "# Show the plot\n",
    "plt.show()\n"
   ]
  },
  {
   "cell_type": "code",
   "execution_count": 51,
   "metadata": {},
   "outputs": [
    {
     "data": {
      "image/png": "[encoded data removed]",
      "text/plain": [
       "<Figure size 1200x600 with 2 Axes>"
      ]
     },
     "metadata": {},
     "output_type": "display_data"
    }
   ],
   "source": [
    "heatmap_data = retractions[(retractions['RetractionDate'].dt.year != 2023) & (retractions['RetractionDate'].dt.year >2000)].copy()\n",
    "heatmap_data['year'] = heatmap_data['RetractionDate'].dt.year\n",
    "heatmap_data['month'] = heatmap_data['RetractionDate'].dt.month\n",
    "\n",
    "heatmap_data = heatmap_data.pivot_table(index='year', columns='month', values='Record ID', aggfunc=pd.Series.nunique, fill_value=0)\n",
    "\n",
    "# Create the heatmap\n",
    "plt.figure(figsize=(12, 6))\n",
    "sns.heatmap(heatmap_data, annot= False, fmt='d', cmap='Blues', linewidths=0.5)\n",
    "plt.title('Heatmap of Number of Retractions')\n",
    "plt.xlabel('Month')\n",
    "plt.ylabel('Year')\n",
    "plt.show()"
   ]
  },
  {
   "cell_type": "code",
   "execution_count": 52,
   "metadata": {},
   "outputs": [
    {
     "data": {
      "text/plain": [
       "Timedelta('1547 days 20:46:24.290030208')"
      ]
     },
     "execution_count": 52,
     "metadata": {},
     "output_type": "execute_result"
    }
   ],
   "source": [
    "#average number of days until retraction\n",
    "np.mean(retractions['RetractionDate']-retractions['OriginalPaperDate'])"
   ]
  },
  {
   "cell_type": "code",
   "execution_count": 53,
   "metadata": {},
   "outputs": [
    {
     "data": {
      "text/plain": [
       "Index(['authors', 'author_keywords', 'keywords_plus', 'cited_references',\n",
       "       'abstract', 'affiliations', 'doi', 'eissn', 'esi_highly_cited_paper',\n",
       "       'esi_hot_paper', 'early_access_date', 'funding_agency_and_grant_number',\n",
       "       'isbn', 'issn', 'iso_source_abv', 'publication_name', 'language',\n",
       "       'month', 'note', 'cited_reference_count', 'open_access_indicator',\n",
       "       'organization', 'publisher', 'research_areas', 'researcher_id_numbers',\n",
       "       'book_series_title', 'wos_core_collection_times_cited_count',\n",
       "       'document_title', 'document_type', 'wos_categories', 'year_published',\n",
       "       'authors_affiliations', 'corresponding_author_affiliation',\n",
       "       'book.group.author', 'publication_date', 'Biomedicine'],\n",
       "      dtype='object')"
      ]
     },
     "execution_count": 53,
     "metadata": {},
     "output_type": "execute_result"
    }
   ],
   "source": [
    "control_set.columns"
   ]
  },
  {
   "cell_type": "code",
   "execution_count": 54,
   "metadata": {},
   "outputs": [
    {
     "data": {
      "text/plain": [
       "Index(['Record ID', 'Title', 'Subject', 'Institution', 'Journal', 'Publisher',\n",
       "       'Country', 'Author', 'URLS', 'ArticleType', 'RetractionDate',\n",
       "       'RetractionDOI', 'RetractionPubMedID', 'OriginalPaperDate',\n",
       "       'OriginalPaperDOI', 'OriginalPaperPubMedID', 'RetractionNature',\n",
       "       'Reason', 'Paywalled', 'Notes', 'authors', 'author_keywords',\n",
       "       'keywords_plus', 'cited_references', 'abstract', 'affiliations', 'doi',\n",
       "       'eissn', 'esi_highly_cited_paper', 'esi_hot_paper', 'early_access_date',\n",
       "       'funding_agency_and_grant_number', 'isbn', 'issn', 'iso_source_abv',\n",
       "       'publication_name', 'language', 'month', 'note',\n",
       "       'cited_reference_count', 'open_access_indicator', 'organization',\n",
       "       'publisher', 'research_areas', 'researcher_id_numbers',\n",
       "       'book_series_title', 'wos_core_collection_times_cited_count',\n",
       "       'document_title', 'document_type', 'wos_categories', 'year_published',\n",
       "       'authors_affiliations', 'corresponding_author_affiliation',\n",
       "       'book.group.author', 'publication_date', 'Biomedicine'],\n",
       "      dtype='object')"
      ]
     },
     "execution_count": 54,
     "metadata": {},
     "output_type": "execute_result"
    }
   ],
   "source": [
    "retractions.columns"
   ]
  },
  {
   "cell_type": "code",
   "execution_count": 55,
   "metadata": {},
   "outputs": [],
   "source": [
    "retractions_grouped = retractions[retractions['RetractionDate'].dt.year != 2023].groupby(retractions['RetractionDate'].dt.year)['cited_reference_count'].mean().reset_index(name= 'Avg Citations of Retractions')\n",
    "control_set_grouped = control_set.groupby('year_published')['cited_reference_count'].mean().reset_index(name= 'Avg Citations of Articles')\n",
    "\n",
    "# Merge the two grouped DataFrames on the 'year_published' column\n",
    "year_avg_citations = pd.merge(retractions_grouped, control_set_grouped, how='outer', left_on='RetractionDate', right_on='year_published').drop('year_published', axis=1)"
   ]
  },
  {
   "cell_type": "code",
   "execution_count": 56,
   "metadata": {},
   "outputs": [
    {
     "data": {
      "text/html": [
       "<div>\n",
       "<style scoped>\n",
       "    .dataframe tbody tr th:only-of-type {\n",
       "        vertical-align: middle;\n",
       "    }\n",
       "\n",
       "    .dataframe tbody tr th {\n",
       "        vertical-align: top;\n",
       "    }\n",
       "\n",
       "    .dataframe thead th {\n",
       "        text-align: right;\n",
       "    }\n",
       "</style>\n",
       "<table border=\"1\" class=\"dataframe\">\n",
       "  <thead>\n",
       "    <tr style=\"text-align: right;\">\n",
       "      <th></th>\n",
       "      <th>RetractionDate</th>\n",
       "      <th>Avg Citations of Retractions</th>\n",
       "      <th>Avg Citations of Articles</th>\n",
       "    </tr>\n",
       "  </thead>\n",
       "  <tbody>\n",
       "    <tr>\n",
       "      <th>0</th>\n",
       "      <td>2000</td>\n",
       "      <td>34.500000</td>\n",
       "      <td>36.325416</td>\n",
       "    </tr>\n",
       "    <tr>\n",
       "      <th>1</th>\n",
       "      <td>2001</td>\n",
       "      <td>26.000000</td>\n",
       "      <td>36.989659</td>\n",
       "    </tr>\n",
       "    <tr>\n",
       "      <th>2</th>\n",
       "      <td>2002</td>\n",
       "      <td>24.600000</td>\n",
       "      <td>38.104888</td>\n",
       "    </tr>\n",
       "    <tr>\n",
       "      <th>3</th>\n",
       "      <td>2003</td>\n",
       "      <td>27.400000</td>\n",
       "      <td>38.529436</td>\n",
       "    </tr>\n",
       "    <tr>\n",
       "      <th>4</th>\n",
       "      <td>2004</td>\n",
       "      <td>36.700000</td>\n",
       "      <td>40.06094</td>\n",
       "    </tr>\n",
       "    <tr>\n",
       "      <th>5</th>\n",
       "      <td>2005</td>\n",
       "      <td>38.933333</td>\n",
       "      <td>40.574271</td>\n",
       "    </tr>\n",
       "    <tr>\n",
       "      <th>6</th>\n",
       "      <td>2006</td>\n",
       "      <td>33.500000</td>\n",
       "      <td>41.248206</td>\n",
       "    </tr>\n",
       "    <tr>\n",
       "      <th>7</th>\n",
       "      <td>2007</td>\n",
       "      <td>31.066667</td>\n",
       "      <td>42.720017</td>\n",
       "    </tr>\n",
       "    <tr>\n",
       "      <th>8</th>\n",
       "      <td>2008</td>\n",
       "      <td>34.769231</td>\n",
       "      <td>44.141804</td>\n",
       "    </tr>\n",
       "    <tr>\n",
       "      <th>9</th>\n",
       "      <td>2009</td>\n",
       "      <td>32.470588</td>\n",
       "      <td>45.921041</td>\n",
       "    </tr>\n",
       "    <tr>\n",
       "      <th>10</th>\n",
       "      <td>2010</td>\n",
       "      <td>54.187500</td>\n",
       "      <td>48.032496</td>\n",
       "    </tr>\n",
       "    <tr>\n",
       "      <th>11</th>\n",
       "      <td>2011</td>\n",
       "      <td>32.583333</td>\n",
       "      <td>49.041849</td>\n",
       "    </tr>\n",
       "    <tr>\n",
       "      <th>12</th>\n",
       "      <td>2012</td>\n",
       "      <td>39.916667</td>\n",
       "      <td>50.693899</td>\n",
       "    </tr>\n",
       "    <tr>\n",
       "      <th>13</th>\n",
       "      <td>2013</td>\n",
       "      <td>42.731707</td>\n",
       "      <td>51.460349</td>\n",
       "    </tr>\n",
       "    <tr>\n",
       "      <th>14</th>\n",
       "      <td>2014</td>\n",
       "      <td>39.594595</td>\n",
       "      <td>53.278769</td>\n",
       "    </tr>\n",
       "    <tr>\n",
       "      <th>15</th>\n",
       "      <td>2015</td>\n",
       "      <td>44.300000</td>\n",
       "      <td>54.327463</td>\n",
       "    </tr>\n",
       "    <tr>\n",
       "      <th>16</th>\n",
       "      <td>2016</td>\n",
       "      <td>41.343750</td>\n",
       "      <td>55.832457</td>\n",
       "    </tr>\n",
       "    <tr>\n",
       "      <th>17</th>\n",
       "      <td>2017</td>\n",
       "      <td>41.791667</td>\n",
       "      <td>57.669476</td>\n",
       "    </tr>\n",
       "    <tr>\n",
       "      <th>18</th>\n",
       "      <td>2018</td>\n",
       "      <td>42.538462</td>\n",
       "      <td>59.641174</td>\n",
       "    </tr>\n",
       "    <tr>\n",
       "      <th>19</th>\n",
       "      <td>2019</td>\n",
       "      <td>41.571429</td>\n",
       "      <td>60.680839</td>\n",
       "    </tr>\n",
       "    <tr>\n",
       "      <th>20</th>\n",
       "      <td>2020</td>\n",
       "      <td>44.310345</td>\n",
       "      <td>62.965142</td>\n",
       "    </tr>\n",
       "    <tr>\n",
       "      <th>21</th>\n",
       "      <td>2021</td>\n",
       "      <td>66.862745</td>\n",
       "      <td>66.405868</td>\n",
       "    </tr>\n",
       "    <tr>\n",
       "      <th>22</th>\n",
       "      <td>2022</td>\n",
       "      <td>47.076923</td>\n",
       "      <td>66.757341</td>\n",
       "    </tr>\n",
       "  </tbody>\n",
       "</table>\n",
       "</div>"
      ],
      "text/plain": [
       "    RetractionDate  Avg Citations of Retractions  Avg Citations of Articles\n",
       "0             2000                     34.500000                  36.325416\n",
       "1             2001                     26.000000                  36.989659\n",
       "2             2002                     24.600000                  38.104888\n",
       "3             2003                     27.400000                  38.529436\n",
       "4             2004                     36.700000                   40.06094\n",
       "5             2005                     38.933333                  40.574271\n",
       "6             2006                     33.500000                  41.248206\n",
       "7             2007                     31.066667                  42.720017\n",
       "8             2008                     34.769231                  44.141804\n",
       "9             2009                     32.470588                  45.921041\n",
       "10            2010                     54.187500                  48.032496\n",
       "11            2011                     32.583333                  49.041849\n",
       "12            2012                     39.916667                  50.693899\n",
       "13            2013                     42.731707                  51.460349\n",
       "14            2014                     39.594595                  53.278769\n",
       "15            2015                     44.300000                  54.327463\n",
       "16            2016                     41.343750                  55.832457\n",
       "17            2017                     41.791667                  57.669476\n",
       "18            2018                     42.538462                  59.641174\n",
       "19            2019                     41.571429                  60.680839\n",
       "20            2020                     44.310345                  62.965142\n",
       "21            2021                     66.862745                  66.405868\n",
       "22            2022                     47.076923                  66.757341"
      ]
     },
     "execution_count": 56,
     "metadata": {},
     "output_type": "execute_result"
    }
   ],
   "source": [
    "year_avg_citations"
   ]
  },
  {
   "cell_type": "code",
   "execution_count": 57,
   "metadata": {},
   "outputs": [
    {
     "data": {
      "image/png": "[encoded data removed]",
      "text/plain": [
       "<Figure size 640x480 with 1 Axes>"
      ]
     },
     "metadata": {},
     "output_type": "display_data"
    }
   ],
   "source": [
    "plt.plot(year_avg_citations['RetractionDate'], year_avg_citations['Avg Citations of Articles'], label = \"Average Citations of Articles\", color=\"b\")\n",
    "plt.plot(year_avg_citations['RetractionDate'], year_avg_citations['Avg Citations of Retractions'], label = \"Average Citations of Retracted Papers\", color=\"g\")\n",
    "\n",
    "plt.xlabel('Year')\n",
    "plt.ylabel('Average Citations of Articles')\n",
    "plt.title('Citations of Articles')\n",
    "plt.legend()\n",
    "plt.show()"
   ]
  },
  {
   "cell_type": "code",
   "execution_count": 58,
   "metadata": {},
   "outputs": [
    {
     "data": {
      "image/png": "[encoded data removed]",
      "text/plain": [
       "<Figure size 1000x600 with 2 Axes>"
      ]
     },
     "metadata": {},
     "output_type": "display_data"
    }
   ],
   "source": [
    "# Assuming 'result' is your merged Dask DataFrame\n",
    "fig, ax1 = plt.subplots(figsize=(10, 6))\n",
    "\n",
    "# Plot the number of articles on the primary y-axis\n",
    "ax1.plot(year_avg_citations['RetractionDate'], year_avg_citations['Avg Citations of Articles'], color='blue', label='Number of Articles')\n",
    "ax1.set_xlabel('Year')\n",
    "ax1.set_ylabel('Average Citations of Articles', color='blue')\n",
    "ax1.tick_params('y', colors='blue')\n",
    "\n",
    "# Create a twin Axes sharing the xaxis\n",
    "ax2 = ax1.twinx()\n",
    "\n",
    "# Plot the number of retractions on the secondary y-axis\n",
    "ax2.plot(year_avg_citations['RetractionDate'], year_avg_citations['Avg Citations of Retractions'], color='green', label='Number of Retractions')\n",
    "ax2.set_ylabel('Average Citations of Retractions', color='green')\n",
    "ax2.tick_params('y', colors='green')\n",
    "\n",
    "# Add title and legend\n",
    "plt.title('Average Citations of Articles and Retractions Over the Years')\n",
    "plt.legend()\n",
    "\n",
    "# Show the plot\n",
    "plt.show()"
   ]
  },
  {
   "cell_type": "markdown",
   "metadata": {},
   "source": [
    "# 2.2 - Reasons for Retraction <a class=\"anchor\" id=\"section_2_2\"></a>"
   ]
  },
  {
   "cell_type": "code",
   "execution_count": 59,
   "metadata": {},
   "outputs": [
    {
     "data": {
      "text/html": [
       "<div>\n",
       "<style scoped>\n",
       "    .dataframe tbody tr th:only-of-type {\n",
       "        vertical-align: middle;\n",
       "    }\n",
       "\n",
       "    .dataframe tbody tr th {\n",
       "        vertical-align: top;\n",
       "    }\n",
       "\n",
       "    .dataframe thead th {\n",
       "        text-align: right;\n",
       "    }\n",
       "</style>\n",
       "<table border=\"1\" class=\"dataframe\">\n",
       "  <thead>\n",
       "    <tr style=\"text-align: right;\">\n",
       "      <th></th>\n",
       "      <th>Record ID</th>\n",
       "      <th>Reason</th>\n",
       "    </tr>\n",
       "  </thead>\n",
       "  <tbody>\n",
       "    <tr>\n",
       "      <th>0</th>\n",
       "      <td>19131</td>\n",
       "      <td>Concerns/Issues About Data</td>\n",
       "    </tr>\n",
       "    <tr>\n",
       "      <th>0</th>\n",
       "      <td>19131</td>\n",
       "      <td>Concerns/Issues About Image</td>\n",
       "    </tr>\n",
       "    <tr>\n",
       "      <th>0</th>\n",
       "      <td>19131</td>\n",
       "      <td>Investigation by Company/Institution</td>\n",
       "    </tr>\n",
       "    <tr>\n",
       "      <th>0</th>\n",
       "      <td>19131</td>\n",
       "      <td></td>\n",
       "    </tr>\n",
       "    <tr>\n",
       "      <th>1</th>\n",
       "      <td>5767</td>\n",
       "      <td>Duplication of Data</td>\n",
       "    </tr>\n",
       "    <tr>\n",
       "      <th>...</th>\n",
       "      <td>...</td>\n",
       "      <td>...</td>\n",
       "    </tr>\n",
       "    <tr>\n",
       "      <th>661</th>\n",
       "      <td>4261</td>\n",
       "      <td>Misconduct - Official Investigation/Finding</td>\n",
       "    </tr>\n",
       "    <tr>\n",
       "      <th>661</th>\n",
       "      <td>4261</td>\n",
       "      <td>Misconduct by Author</td>\n",
       "    </tr>\n",
       "    <tr>\n",
       "      <th>661</th>\n",
       "      <td>4261</td>\n",
       "      <td>Notice - Limited or No Information</td>\n",
       "    </tr>\n",
       "    <tr>\n",
       "      <th>661</th>\n",
       "      <td>4261</td>\n",
       "      <td>Objections by Author(s)</td>\n",
       "    </tr>\n",
       "    <tr>\n",
       "      <th>661</th>\n",
       "      <td>4261</td>\n",
       "      <td></td>\n",
       "    </tr>\n",
       "  </tbody>\n",
       "</table>\n",
       "<p>2719 rows × 2 columns</p>\n",
       "</div>"
      ],
      "text/plain": [
       "     Record ID                                       Reason\n",
       "0        19131                   Concerns/Issues About Data\n",
       "0        19131                  Concerns/Issues About Image\n",
       "0        19131         Investigation by Company/Institution\n",
       "0        19131                                             \n",
       "1         5767                          Duplication of Data\n",
       "..         ...                                          ...\n",
       "661       4261  Misconduct - Official Investigation/Finding\n",
       "661       4261                         Misconduct by Author\n",
       "661       4261           Notice - Limited or No Information\n",
       "661       4261                      Objections by Author(s)\n",
       "661       4261                                             \n",
       "\n",
       "[2719 rows x 2 columns]"
      ]
     },
     "execution_count": 59,
     "metadata": {},
     "output_type": "execute_result"
    }
   ],
   "source": [
    "motives = retractions[['Record ID','Reason']]\n",
    "motives.loc[:, 'Reason'] = motives['Reason'].str.split(';')\n",
    "motives = motives.explode('Reason')\n",
    "motives.loc[:, 'Reason'] = motives['Reason'].str.replace('+', '')\n",
    "motives"
   ]
  },
  {
   "cell_type": "code",
   "execution_count": 60,
   "metadata": {},
   "outputs": [],
   "source": [
    "motives = motives[motives['Reason'].str.strip() != \"\"]"
   ]
  },
  {
   "cell_type": "code",
   "execution_count": 61,
   "metadata": {},
   "outputs": [
    {
     "data": {
      "text/plain": [
       "Reason\n",
       "Investigation by Company/Institution           168\n",
       "Unreliable Results                             116\n",
       "Duplication of Image                           108\n",
       "Misconduct by Author                           105\n",
       "Concerns/Issues About Data                     100\n",
       "Error in Data                                   90\n",
       "Misconduct - Official Investigation/Finding     88\n",
       "Falsification/Fabrication of Data               82\n",
       "Manipulation of Images                          76\n",
       "Results Not Reproducible                        75\n",
       "Error in Analyses                               72\n",
       "Unreliable Data                                 68\n",
       "Investigation by Journal/Publisher              64\n",
       "Error in Results and/or Conclusions             62\n",
       "Upgrade/Update of Prior Notice                  59\n",
       "Error in Methods                                52\n",
       "Error in Image                                  49\n",
       "Falsification/Fabrication of Image              40\n",
       "Original Data not Provided                      37\n",
       "Duplication of Article                          37\n",
       "Concerns/Issues About Results                   35\n",
       "Investigation by Third Party                    31\n",
       "Concerns/Issues About Image                     28\n",
       "Ethical Violations by Author                    26\n",
       "Investigation by ORI                            25\n",
       "Objections by Author(s)                         25\n",
       "Plagiarism of Article                           21\n",
       "Date of Retraction/Other Unknown                18\n",
       "Unreliable Image                                16\n",
       "Retract and Replace                             15\n",
       "Name: count, dtype: int64"
      ]
     },
     "execution_count": 61,
     "metadata": {},
     "output_type": "execute_result"
    }
   ],
   "source": [
    "motives['Reason'].value_counts()[:30]"
   ]
  },
  {
   "cell_type": "markdown",
   "metadata": {},
   "source": [
    "Re-incidence comparison for misconduct and overall"
   ]
  },
  {
   "cell_type": "code",
   "execution_count": 62,
   "metadata": {},
   "outputs": [
    {
     "name": "stdout",
     "output_type": "stream",
     "text": [
      "Proportion of authors with re-incidents in the total dataset: 0.58%\n",
      "Proportion of authors with re-incidents among misconduct authors: 100.00%\n"
     ]
    }
   ],
   "source": [
    "import pandas as pd\n",
    "\n",
    "# Assuming df is your original DataFrame with columns \"Author\" and \"Reason\"\n",
    "\n",
    "# Step 1: Preprocess the Data\n",
    "authors = retractions['Author'].str.split(';', expand=True).stack().str.strip().reset_index(level=1, drop=True).reset_index(name='Author')\n",
    "\n",
    "# Step 2: Create a Flag for Misconduct Authors\n",
    "keywords = [\"misconduct\", \"fraud\", \"manipulation\", \"fake\", \"falsification\", \"fabrication\"]\n",
    "keywords = [\"error in data\", \"rogue editor\"]\n",
    "authors['Misconduct'] = authors['Author'].isin(set(retractions[retractions['Reason'].str.lower().str.contains('|'.join(keywords))]['Author']))\n",
    "\n",
    "# Step 3: Compare Re-incidents\n",
    "total_authors = authors['Author'].nunique()\n",
    "misconduct_authors = authors[authors['Misconduct']]['Author'].nunique()\n",
    "\n",
    "# Calculate proportions\n",
    "proportion_reincidents_total = retractions[retractions['Author'].isin(authors['Author'])]['Author'].nunique() / total_authors\n",
    "proportion_reincidents_misconduct = retractions[retractions['Author'].isin(authors[authors['Misconduct']]['Author'])]['Author'].nunique() / misconduct_authors\n",
    "\n",
    "# Print the results\n",
    "print(f\"Proportion of authors with re-incidents in the total dataset: {proportion_reincidents_total:.2%}\")\n",
    "print(f\"Proportion of authors with re-incidents among misconduct authors: {proportion_reincidents_misconduct:.2%}\")\n"
   ]
  },
  {
   "cell_type": "code",
   "execution_count": 63,
   "metadata": {},
   "outputs": [
    {
     "data": {
      "text/html": [
       "<div>\n",
       "<style scoped>\n",
       "    .dataframe tbody tr th:only-of-type {\n",
       "        vertical-align: middle;\n",
       "    }\n",
       "\n",
       "    .dataframe tbody tr th {\n",
       "        vertical-align: top;\n",
       "    }\n",
       "\n",
       "    .dataframe thead th {\n",
       "        text-align: right;\n",
       "    }\n",
       "</style>\n",
       "<table border=\"1\" class=\"dataframe\">\n",
       "  <thead>\n",
       "    <tr style=\"text-align: right;\">\n",
       "      <th></th>\n",
       "      <th>index</th>\n",
       "      <th>Author</th>\n",
       "      <th>Misconduct</th>\n",
       "    </tr>\n",
       "  </thead>\n",
       "  <tbody>\n",
       "    <tr>\n",
       "      <th>0</th>\n",
       "      <td>0</td>\n",
       "      <td>Girish Kumar</td>\n",
       "      <td>False</td>\n",
       "    </tr>\n",
       "    <tr>\n",
       "      <th>1</th>\n",
       "      <td>0</td>\n",
       "      <td>Chia Chi Ho</td>\n",
       "      <td>False</td>\n",
       "    </tr>\n",
       "    <tr>\n",
       "      <th>2</th>\n",
       "      <td>0</td>\n",
       "      <td>Carlos C Co</td>\n",
       "      <td>False</td>\n",
       "    </tr>\n",
       "    <tr>\n",
       "      <th>3</th>\n",
       "      <td>1</td>\n",
       "      <td>Lin Wei Yu</td>\n",
       "      <td>False</td>\n",
       "    </tr>\n",
       "    <tr>\n",
       "      <th>4</th>\n",
       "      <td>1</td>\n",
       "      <td>Kun Ji Chen</td>\n",
       "      <td>False</td>\n",
       "    </tr>\n",
       "    <tr>\n",
       "      <th>...</th>\n",
       "      <td>...</td>\n",
       "      <td>...</td>\n",
       "      <td>...</td>\n",
       "    </tr>\n",
       "    <tr>\n",
       "      <th>4780</th>\n",
       "      <td>659</td>\n",
       "      <td>David Isla-Ortiz</td>\n",
       "      <td>False</td>\n",
       "    </tr>\n",
       "    <tr>\n",
       "      <th>4781</th>\n",
       "      <td>659</td>\n",
       "      <td>Abelardo Meneses-GarcÃ­a</td>\n",
       "      <td>False</td>\n",
       "    </tr>\n",
       "    <tr>\n",
       "      <th>4782</th>\n",
       "      <td>659</td>\n",
       "      <td>Ãngel Herrera-GÃ³mez</td>\n",
       "      <td>False</td>\n",
       "    </tr>\n",
       "    <tr>\n",
       "      <th>4783</th>\n",
       "      <td>660</td>\n",
       "      <td>Francisco GÃ³mez Camacho</td>\n",
       "      <td>False</td>\n",
       "    </tr>\n",
       "    <tr>\n",
       "      <th>4784</th>\n",
       "      <td>661</td>\n",
       "      <td>Scott J Brodie</td>\n",
       "      <td>False</td>\n",
       "    </tr>\n",
       "  </tbody>\n",
       "</table>\n",
       "<p>4785 rows × 3 columns</p>\n",
       "</div>"
      ],
      "text/plain": [
       "      index                    Author  Misconduct\n",
       "0         0              Girish Kumar       False\n",
       "1         0               Chia Chi Ho       False\n",
       "2         0               Carlos C Co       False\n",
       "3         1                Lin Wei Yu       False\n",
       "4         1               Kun Ji Chen       False\n",
       "...     ...                       ...         ...\n",
       "4780    659          David Isla-Ortiz       False\n",
       "4781    659  Abelardo Meneses-GarcÃ­a       False\n",
       "4782    659     Ãngel Herrera-GÃ³mez       False\n",
       "4783    660  Francisco GÃ³mez Camacho       False\n",
       "4784    661            Scott J Brodie       False\n",
       "\n",
       "[4785 rows x 3 columns]"
      ]
     },
     "execution_count": 63,
     "metadata": {},
     "output_type": "execute_result"
    }
   ],
   "source": [
    "authors"
   ]
  },
  {
   "cell_type": "code",
   "execution_count": 64,
   "metadata": {},
   "outputs": [
    {
     "data": {
      "text/plain": [
       "count    1239.000000\n",
       "mean        1.182405\n",
       "std         0.711535\n",
       "min         1.000000\n",
       "25%         1.000000\n",
       "50%         1.000000\n",
       "75%         1.000000\n",
       "max        11.000000\n",
       "Name: Record ID, dtype: float64"
      ]
     },
     "execution_count": 64,
     "metadata": {},
     "output_type": "execute_result"
    }
   ],
   "source": [
    "authors = retractions.copy()[['Record ID','Author', 'Reason']]\n",
    "keywords = [\"misconduct\", \"fraud\", \"manipulation\", \"fake\", \"falsification\", \"fabrication\"]\n",
    "#keywords = [\"error in data\", \"rogue editor\"]\n",
    "authors['Misconduct'] = authors['Author'].isin(set(retractions[retractions['Reason'].str.lower().str.contains('|'.join(keywords))]['Author']))\n",
    "authors.loc[:, 'Author'] = authors['Author'].str.split(';')\n",
    "authors = authors.explode('Author')\n",
    "authors[authors['Misconduct']==True].groupby('Author')['Record ID'].count().describe()"
   ]
  },
  {
   "cell_type": "code",
   "execution_count": 65,
   "metadata": {},
   "outputs": [
    {
     "data": {
      "text/plain": [
       "count    4301.000000\n",
       "mean        1.112532\n",
       "std         0.537335\n",
       "min         1.000000\n",
       "25%         1.000000\n",
       "50%         1.000000\n",
       "75%         1.000000\n",
       "max        11.000000\n",
       "Name: Record ID, dtype: float64"
      ]
     },
     "execution_count": 65,
     "metadata": {},
     "output_type": "execute_result"
    }
   ],
   "source": [
    "authors.groupby('Author')['Record ID'].count().describe()"
   ]
  },
  {
   "cell_type": "code",
   "execution_count": 66,
   "metadata": {},
   "outputs": [
    {
     "name": "stdout",
     "output_type": "stream",
     "text": [
      "Proportion of authors with re-incidents in the total dataset: 0.58%\n",
      "Proportion of authors with re-incidents among misconduct authors: 0.16%\n"
     ]
    }
   ],
   "source": [
    "# Step 3: Compare Re-incidents\n",
    "total_authors = authors['Author'].nunique()\n",
    "misconduct_authors = authors[authors['Misconduct']]['Author'].nunique()\n",
    "\n",
    "# Calculate proportions\n",
    "proportion_reincidents_total = retractions[retractions['Author'].isin(authors['Author'])]['Author'].nunique() / total_authors\n",
    "proportion_reincidents_misconduct = retractions[retractions['Author'].isin(authors[authors['Misconduct']]['Author'])]['Author'].nunique() / misconduct_authors\n",
    "\n",
    "# Print the results\n",
    "print(f\"Proportion of authors with re-incidents in the total dataset: {proportion_reincidents_total:.2%}\")\n",
    "print(f\"Proportion of authors with re-incidents among misconduct authors: {proportion_reincidents_misconduct:.2%}\")"
   ]
  },
  {
   "cell_type": "code",
   "execution_count": 67,
   "metadata": {},
   "outputs": [
    {
     "data": {
      "text/html": [
       "<div>\n",
       "<style scoped>\n",
       "    .dataframe tbody tr th:only-of-type {\n",
       "        vertical-align: middle;\n",
       "    }\n",
       "\n",
       "    .dataframe tbody tr th {\n",
       "        vertical-align: top;\n",
       "    }\n",
       "\n",
       "    .dataframe thead th {\n",
       "        text-align: right;\n",
       "    }\n",
       "</style>\n",
       "<table border=\"1\" class=\"dataframe\">\n",
       "  <thead>\n",
       "    <tr style=\"text-align: right;\">\n",
       "      <th></th>\n",
       "      <th>Author</th>\n",
       "      <th>count</th>\n",
       "    </tr>\n",
       "  </thead>\n",
       "  <tbody>\n",
       "    <tr>\n",
       "      <th>0</th>\n",
       "      <td>Christian Kloc</td>\n",
       "      <td>11</td>\n",
       "    </tr>\n",
       "    <tr>\n",
       "      <th>1</th>\n",
       "      <td>Ahmed Badawy</td>\n",
       "      <td>11</td>\n",
       "    </tr>\n",
       "    <tr>\n",
       "      <th>2</th>\n",
       "      <td>Bertram Batlogg</td>\n",
       "      <td>11</td>\n",
       "    </tr>\n",
       "    <tr>\n",
       "      <th>3</th>\n",
       "      <td>Shigeaki Kato</td>\n",
       "      <td>9</td>\n",
       "    </tr>\n",
       "    <tr>\n",
       "      <th>4</th>\n",
       "      <td>Jan Hendrik Schon</td>\n",
       "      <td>9</td>\n",
       "    </tr>\n",
       "    <tr>\n",
       "      <th>...</th>\n",
       "      <td>...</td>\n",
       "      <td>...</td>\n",
       "    </tr>\n",
       "    <tr>\n",
       "      <th>4296</th>\n",
       "      <td>Shenhua Song</td>\n",
       "      <td>1</td>\n",
       "    </tr>\n",
       "    <tr>\n",
       "      <th>4297</th>\n",
       "      <td>B V Mahesh</td>\n",
       "      <td>1</td>\n",
       "    </tr>\n",
       "    <tr>\n",
       "      <th>4298</th>\n",
       "      <td>R K Singh Raman</td>\n",
       "      <td>1</td>\n",
       "    </tr>\n",
       "    <tr>\n",
       "      <th>4299</th>\n",
       "      <td>R O Scattergood</td>\n",
       "      <td>1</td>\n",
       "    </tr>\n",
       "    <tr>\n",
       "      <th>4300</th>\n",
       "      <td>Scott J Brodie</td>\n",
       "      <td>1</td>\n",
       "    </tr>\n",
       "  </tbody>\n",
       "</table>\n",
       "<p>4301 rows × 2 columns</p>\n",
       "</div>"
      ],
      "text/plain": [
       "                 Author  count\n",
       "0        Christian Kloc     11\n",
       "1          Ahmed Badawy     11\n",
       "2       Bertram Batlogg     11\n",
       "3         Shigeaki Kato      9\n",
       "4     Jan Hendrik Schon      9\n",
       "...                 ...    ...\n",
       "4296       Shenhua Song      1\n",
       "4297         B V Mahesh      1\n",
       "4298    R K Singh Raman      1\n",
       "4299    R O Scattergood      1\n",
       "4300     Scott J Brodie      1\n",
       "\n",
       "[4301 rows x 2 columns]"
      ]
     },
     "execution_count": 67,
     "metadata": {},
     "output_type": "execute_result"
    }
   ],
   "source": [
    "authors['Author'].value_counts().to_frame().reset_index()"
   ]
  },
  {
   "cell_type": "markdown",
   "metadata": {},
   "source": [
    "juntar estes artigos à informação do web of science (para ter abstract etc.). pesquisar por esses artigos."
   ]
  },
  {
   "cell_type": "code",
   "execution_count": 68,
   "metadata": {},
   "outputs": [],
   "source": [
    "#motives['Reason'].value_counts().to_excel('../motives_retractions.xlsx')"
   ]
  },
  {
   "cell_type": "markdown",
   "metadata": {},
   "source": [
    "# 2.3 - Geographical Differences <a class=\"anchor\" id=\"section_2_3\"></a>"
   ]
  },
  {
   "cell_type": "code",
   "execution_count": 69,
   "metadata": {},
   "outputs": [
    {
     "data": {
      "text/plain": [
       "Country\n",
       "United States                                  170\n",
       "China                                           88\n",
       "Japan                                           29\n",
       "China;United States                             26\n",
       "United Kingdom                                  23\n",
       "                                              ... \n",
       "South Korea;Vietnam                              1\n",
       "Australia;France;Netherlands;United States       1\n",
       "Australia;Germany;Netherlands;United States      1\n",
       "Ireland;Italy;United Kingdom                     1\n",
       "Mexico                                           1\n",
       "Name: count, Length: 148, dtype: int64"
      ]
     },
     "execution_count": 69,
     "metadata": {},
     "output_type": "execute_result"
    }
   ],
   "source": [
    "retractions['Country'].value_counts()"
   ]
  },
  {
   "cell_type": "code",
   "execution_count": 70,
   "metadata": {},
   "outputs": [
    {
     "data": {
      "text/plain": [
       "Country\n",
       "United States           308\n",
       "China                   134\n",
       "United Kingdom           71\n",
       "Japan                    53\n",
       "Germany                  52\n",
       "India                    29\n",
       "France                   26\n",
       "Canada                   24\n",
       "Italy                    22\n",
       "Iran                     22\n",
       "Netherlands              22\n",
       "Spain                    20\n",
       "Egypt                    18\n",
       "South Korea              18\n",
       "Australia                16\n",
       "Switzerland              16\n",
       "Sweden                   13\n",
       "Taiwan                    8\n",
       "Brazil                    8\n",
       "Greece                    6\n",
       "Denmark                   6\n",
       "Finland                   6\n",
       "Turkey                    6\n",
       "Singapore                 5\n",
       "Saudi Arabia              5\n",
       "Norway                    5\n",
       "Belgium                   4\n",
       "Mexico                    4\n",
       "Russia                    3\n",
       "Ireland                   3\n",
       "Portugal                  3\n",
       "Austria                   3\n",
       "Bangladesh                3\n",
       "Moldova                   2\n",
       "Unknown                   2\n",
       "Malaysia                  2\n",
       "Argentina                 2\n",
       "Poland                    2\n",
       "Hong Kong                 2\n",
       "South Africa              1\n",
       "Chile                     1\n",
       "Estonia                   1\n",
       "Croatia                   1\n",
       "Israel                    1\n",
       "United Arab Emirates      1\n",
       "Serbia                    1\n",
       "Colombia                  1\n",
       "Indonesia                 1\n",
       "Cayman Islands            1\n",
       "Bosnia & Herzegovina      1\n",
       "Vietnam                   1\n",
       "Algeria                   1\n",
       "Hungary                   1\n",
       "Thailand                  1\n",
       "Iceland                   1\n",
       "Bulgaria                  1\n",
       "Name: count, dtype: int64"
      ]
     },
     "execution_count": 70,
     "metadata": {},
     "output_type": "execute_result"
    }
   ],
   "source": [
    "aux = retractions.copy()\n",
    "aux.loc[:, 'Country'] = retractions['Country'].str.split(';')\n",
    "aux.explode('Country')['Country'].value_counts()"
   ]
  },
  {
   "cell_type": "code",
   "execution_count": 71,
   "metadata": {},
   "outputs": [
    {
     "data": {
      "text/html": [
       "<div>\n",
       "<style scoped>\n",
       "    .dataframe tbody tr th:only-of-type {\n",
       "        vertical-align: middle;\n",
       "    }\n",
       "\n",
       "    .dataframe tbody tr th {\n",
       "        vertical-align: top;\n",
       "    }\n",
       "\n",
       "    .dataframe thead th {\n",
       "        text-align: right;\n",
       "    }\n",
       "</style>\n",
       "<table border=\"1\" class=\"dataframe\">\n",
       "  <thead>\n",
       "    <tr style=\"text-align: right;\">\n",
       "      <th></th>\n",
       "      <th>Record ID</th>\n",
       "      <th>Title</th>\n",
       "      <th>Subject</th>\n",
       "      <th>Institution</th>\n",
       "      <th>Journal</th>\n",
       "      <th>Publisher</th>\n",
       "      <th>Country</th>\n",
       "      <th>Author</th>\n",
       "      <th>URLS</th>\n",
       "      <th>ArticleType</th>\n",
       "      <th>...</th>\n",
       "      <th>document_type</th>\n",
       "      <th>wos_categories</th>\n",
       "      <th>year_published</th>\n",
       "      <th>authors_affiliations</th>\n",
       "      <th>corresponding_author_affiliation</th>\n",
       "      <th>book.group.author</th>\n",
       "      <th>publication_date</th>\n",
       "      <th>Biomedicine</th>\n",
       "      <th>Country_Count</th>\n",
       "      <th>Single_Multiple_Country</th>\n",
       "    </tr>\n",
       "  </thead>\n",
       "  <tbody>\n",
       "    <tr>\n",
       "      <th>0</th>\n",
       "      <td>19131</td>\n",
       "      <td>Guiding Cell Migration Using One-Way Micropatt...</td>\n",
       "      <td>(BLS) Biochemistry;(BLS) Biology - Cellular;</td>\n",
       "      <td>Chemical &amp; Materials Engineering Department, U...</td>\n",
       "      <td>Advanced Materials</td>\n",
       "      <td>Wiley</td>\n",
       "      <td>United States</td>\n",
       "      <td>Girish Kumar;Chia Chi Ho;Carlos C Co</td>\n",
       "      <td>NaN</td>\n",
       "      <td>Research Article;</td>\n",
       "      <td>...</td>\n",
       "      <td>ARTICLE; RETRACTED PUBLICATION</td>\n",
       "      <td>CHEMISTRY, MULTIDISCIPLINARY; CHEMISTRY, PHYSI...</td>\n",
       "      <td>2007</td>\n",
       "      <td>UNIV CINCINNATI;UNIV CINCINNATI</td>\n",
       "      <td>UNIV CINCINNATI</td>\n",
       "      <td>NaN</td>\n",
       "      <td>2007-04-20</td>\n",
       "      <td>0</td>\n",
       "      <td>1</td>\n",
       "      <td>Single Country</td>\n",
       "    </tr>\n",
       "    <tr>\n",
       "      <th>1</th>\n",
       "      <td>5767</td>\n",
       "      <td>Self-Assembled Si Quantum-Ring Structures on a...</td>\n",
       "      <td>(PHY) Materials Science;(PHY) Nanotechnology;</td>\n",
       "      <td>National Laboratory of Solid State Microstruct...</td>\n",
       "      <td>Advanced Materials</td>\n",
       "      <td>Wiley</td>\n",
       "      <td>China</td>\n",
       "      <td>Lin Wei Yu;Kun Ji Chen;Jie Song;Jun Xu;Wei Li;...</td>\n",
       "      <td>NaN</td>\n",
       "      <td>Research Article;</td>\n",
       "      <td>...</td>\n",
       "      <td>ARTICLE; RETRACTED PUBLICATION</td>\n",
       "      <td>CHEMISTRY, MULTIDISCIPLINARY; CHEMISTRY, PHYSI...</td>\n",
       "      <td>2007</td>\n",
       "      <td>NANJING UNIV;NANJING UNIV</td>\n",
       "      <td>NANJING UNIV</td>\n",
       "      <td>NaN</td>\n",
       "      <td>2007-06-18</td>\n",
       "      <td>0</td>\n",
       "      <td>1</td>\n",
       "      <td>Single Country</td>\n",
       "    </tr>\n",
       "    <tr>\n",
       "      <th>2</th>\n",
       "      <td>5650</td>\n",
       "      <td>High-volumetric performance aligned nano-porou...</td>\n",
       "      <td>(PHY) Engineering - Chemical;(PHY) Engineering...</td>\n",
       "      <td>Department of Materials Science and Engineerin...</td>\n",
       "      <td>Advanced Materials</td>\n",
       "      <td>Wiley</td>\n",
       "      <td>China;United States</td>\n",
       "      <td>Mehdi Ghaffari;Yue Zhou;Haiping Xu;Minren Lin;...</td>\n",
       "      <td>http://retractionwatch.com/2016/10/28/material...</td>\n",
       "      <td>Research Article;</td>\n",
       "      <td>...</td>\n",
       "      <td>ARTICLE; RETRACTED PUBLICATION</td>\n",
       "      <td>CHEMISTRY, MULTIDISCIPLINARY; CHEMISTRY, PHYSI...</td>\n",
       "      <td>2013</td>\n",
       "      <td>PENN STATE UNIV;PENN STATE UNIV;PENN STATE UNI...</td>\n",
       "      <td>PENN STATE UNIV</td>\n",
       "      <td>NaN</td>\n",
       "      <td>2013-09-20</td>\n",
       "      <td>0</td>\n",
       "      <td>2</td>\n",
       "      <td>Multiple Countries</td>\n",
       "    </tr>\n",
       "    <tr>\n",
       "      <th>3</th>\n",
       "      <td>6221</td>\n",
       "      <td>Aligned Nano-Porous Microwave Exfoliated Graph...</td>\n",
       "      <td>(PHY) Engineering - Chemical;(PHY) Engineering...</td>\n",
       "      <td>Department of Materials Science and Engineerin...</td>\n",
       "      <td>Advanced Materials</td>\n",
       "      <td>Wiley</td>\n",
       "      <td>United States</td>\n",
       "      <td>Mehdi Ghaffari;QM Zhang;W Kinsman;Yue Zhou;Sha...</td>\n",
       "      <td>http://retractionwatch.com/2016/10/28/material...</td>\n",
       "      <td>Research Article;</td>\n",
       "      <td>...</td>\n",
       "      <td>ARTICLE; RETRACTED PUBLICATION</td>\n",
       "      <td>CHEMISTRY, MULTIDISCIPLINARY; CHEMISTRY, PHYSI...</td>\n",
       "      <td>2013</td>\n",
       "      <td>PENN STATE UNIV;PENN STATE UNIV;PENN STATE UNI...</td>\n",
       "      <td>PENN STATE UNIV</td>\n",
       "      <td>NaN</td>\n",
       "      <td>2013-11-20</td>\n",
       "      <td>0</td>\n",
       "      <td>1</td>\n",
       "      <td>Single Country</td>\n",
       "    </tr>\n",
       "    <tr>\n",
       "      <th>4</th>\n",
       "      <td>45124</td>\n",
       "      <td>Highly Sensitive MoS2 Humidity Sensors Array f...</td>\n",
       "      <td>(PHY) Engineering - Chemical;</td>\n",
       "      <td>Beijing National Laboratory for Condensed Matt...</td>\n",
       "      <td>Advanced Materials</td>\n",
       "      <td>Wiley</td>\n",
       "      <td>China</td>\n",
       "      <td>Jing Zhao;Na Li;Zheng Wei;Mengzhou Liao;Peng C...</td>\n",
       "      <td>NaN</td>\n",
       "      <td>Research Article;</td>\n",
       "      <td>...</td>\n",
       "      <td>ARTICLE; RETRACTED PUBLICATION</td>\n",
       "      <td>CHEMISTRY, MULTIDISCIPLINARY; CHEMISTRY, PHYSI...</td>\n",
       "      <td>2017</td>\n",
       "      <td>INST PHYS;BEJING INST NANOENRGY AND NANOSYST;U...</td>\n",
       "      <td>INST PHYS</td>\n",
       "      <td>NaN</td>\n",
       "      <td>2017-09-13</td>\n",
       "      <td>0</td>\n",
       "      <td>1</td>\n",
       "      <td>Single Country</td>\n",
       "    </tr>\n",
       "  </tbody>\n",
       "</table>\n",
       "<p>5 rows × 58 columns</p>\n",
       "</div>"
      ],
      "text/plain": [
       "   Record ID                                              Title  \\\n",
       "0      19131  Guiding Cell Migration Using One-Way Micropatt...   \n",
       "1       5767  Self-Assembled Si Quantum-Ring Structures on a...   \n",
       "2       5650  High-volumetric performance aligned nano-porou...   \n",
       "3       6221  Aligned Nano-Porous Microwave Exfoliated Graph...   \n",
       "4      45124  Highly Sensitive MoS2 Humidity Sensors Array f...   \n",
       "\n",
       "                                             Subject  \\\n",
       "0       (BLS) Biochemistry;(BLS) Biology - Cellular;   \n",
       "1      (PHY) Materials Science;(PHY) Nanotechnology;   \n",
       "2  (PHY) Engineering - Chemical;(PHY) Engineering...   \n",
       "3  (PHY) Engineering - Chemical;(PHY) Engineering...   \n",
       "4                      (PHY) Engineering - Chemical;   \n",
       "\n",
       "                                         Institution             Journal  \\\n",
       "0  Chemical & Materials Engineering Department, U...  Advanced Materials   \n",
       "1  National Laboratory of Solid State Microstruct...  Advanced Materials   \n",
       "2  Department of Materials Science and Engineerin...  Advanced Materials   \n",
       "3  Department of Materials Science and Engineerin...  Advanced Materials   \n",
       "4  Beijing National Laboratory for Condensed Matt...  Advanced Materials   \n",
       "\n",
       "  Publisher              Country  \\\n",
       "0     Wiley        United States   \n",
       "1     Wiley                China   \n",
       "2     Wiley  China;United States   \n",
       "3     Wiley        United States   \n",
       "4     Wiley                China   \n",
       "\n",
       "                                              Author  \\\n",
       "0               Girish Kumar;Chia Chi Ho;Carlos C Co   \n",
       "1  Lin Wei Yu;Kun Ji Chen;Jie Song;Jun Xu;Wei Li;...   \n",
       "2  Mehdi Ghaffari;Yue Zhou;Haiping Xu;Minren Lin;...   \n",
       "3  Mehdi Ghaffari;QM Zhang;W Kinsman;Yue Zhou;Sha...   \n",
       "4  Jing Zhao;Na Li;Zheng Wei;Mengzhou Liao;Peng C...   \n",
       "\n",
       "                                                URLS        ArticleType  ...  \\\n",
       "0                                                NaN  Research Article;  ...   \n",
       "1                                                NaN  Research Article;  ...   \n",
       "2  http://retractionwatch.com/2016/10/28/material...  Research Article;  ...   \n",
       "3  http://retractionwatch.com/2016/10/28/material...  Research Article;  ...   \n",
       "4                                                NaN  Research Article;  ...   \n",
       "\n",
       "                    document_type  \\\n",
       "0  ARTICLE; RETRACTED PUBLICATION   \n",
       "1  ARTICLE; RETRACTED PUBLICATION   \n",
       "2  ARTICLE; RETRACTED PUBLICATION   \n",
       "3  ARTICLE; RETRACTED PUBLICATION   \n",
       "4  ARTICLE; RETRACTED PUBLICATION   \n",
       "\n",
       "                                      wos_categories  year_published  \\\n",
       "0  CHEMISTRY, MULTIDISCIPLINARY; CHEMISTRY, PHYSI...            2007   \n",
       "1  CHEMISTRY, MULTIDISCIPLINARY; CHEMISTRY, PHYSI...            2007   \n",
       "2  CHEMISTRY, MULTIDISCIPLINARY; CHEMISTRY, PHYSI...            2013   \n",
       "3  CHEMISTRY, MULTIDISCIPLINARY; CHEMISTRY, PHYSI...            2013   \n",
       "4  CHEMISTRY, MULTIDISCIPLINARY; CHEMISTRY, PHYSI...            2017   \n",
       "\n",
       "                                authors_affiliations  \\\n",
       "0                    UNIV CINCINNATI;UNIV CINCINNATI   \n",
       "1                          NANJING UNIV;NANJING UNIV   \n",
       "2  PENN STATE UNIV;PENN STATE UNIV;PENN STATE UNI...   \n",
       "3  PENN STATE UNIV;PENN STATE UNIV;PENN STATE UNI...   \n",
       "4  INST PHYS;BEJING INST NANOENRGY AND NANOSYST;U...   \n",
       "\n",
       "  corresponding_author_affiliation  book.group.author publication_date  \\\n",
       "0                  UNIV CINCINNATI                NaN       2007-04-20   \n",
       "1                     NANJING UNIV                NaN       2007-06-18   \n",
       "2                  PENN STATE UNIV                NaN       2013-09-20   \n",
       "3                  PENN STATE UNIV                NaN       2013-11-20   \n",
       "4                        INST PHYS                NaN       2017-09-13   \n",
       "\n",
       "  Biomedicine Country_Count Single_Multiple_Country  \n",
       "0           0             1          Single Country  \n",
       "1           0             1          Single Country  \n",
       "2           0             2      Multiple Countries  \n",
       "3           0             1          Single Country  \n",
       "4           0             1          Single Country  \n",
       "\n",
       "[5 rows x 58 columns]"
      ]
     },
     "execution_count": 71,
     "metadata": {},
     "output_type": "execute_result"
    }
   ],
   "source": [
    "# Split the 'Country' column by \";\" and count the number of countries in each record\n",
    "country = retractions.copy()\n",
    "country['Country_Count'] = retractions['Country'].str.split(';').apply(len)\n",
    "country['Single_Multiple_Country'] = country['Country_Count'].apply(lambda x: 'Single Country' if x == 1 else 'Multiple Countries')\n",
    "country.head()"
   ]
  },
  {
   "cell_type": "code",
   "execution_count": 72,
   "metadata": {},
   "outputs": [
    {
     "data": {
      "text/html": [
       "<div>\n",
       "<style scoped>\n",
       "    .dataframe tbody tr th:only-of-type {\n",
       "        vertical-align: middle;\n",
       "    }\n",
       "\n",
       "    .dataframe tbody tr th {\n",
       "        vertical-align: top;\n",
       "    }\n",
       "\n",
       "    .dataframe thead th {\n",
       "        text-align: right;\n",
       "    }\n",
       "</style>\n",
       "<table border=\"1\" class=\"dataframe\">\n",
       "  <thead>\n",
       "    <tr style=\"text-align: right;\">\n",
       "      <th></th>\n",
       "      <th>Record ID</th>\n",
       "      <th>Country</th>\n",
       "      <th>Single_Multiple_Country</th>\n",
       "    </tr>\n",
       "  </thead>\n",
       "  <tbody>\n",
       "    <tr>\n",
       "      <th>0</th>\n",
       "      <td>19131</td>\n",
       "      <td>United States</td>\n",
       "      <td>Single Country</td>\n",
       "    </tr>\n",
       "    <tr>\n",
       "      <th>1</th>\n",
       "      <td>5767</td>\n",
       "      <td>China</td>\n",
       "      <td>Single Country</td>\n",
       "    </tr>\n",
       "    <tr>\n",
       "      <th>2</th>\n",
       "      <td>5650</td>\n",
       "      <td>China</td>\n",
       "      <td>Multiple Countries</td>\n",
       "    </tr>\n",
       "    <tr>\n",
       "      <th>2</th>\n",
       "      <td>5650</td>\n",
       "      <td>United States</td>\n",
       "      <td>Multiple Countries</td>\n",
       "    </tr>\n",
       "    <tr>\n",
       "      <th>3</th>\n",
       "      <td>6221</td>\n",
       "      <td>United States</td>\n",
       "      <td>Single Country</td>\n",
       "    </tr>\n",
       "    <tr>\n",
       "      <th>...</th>\n",
       "      <td>...</td>\n",
       "      <td>...</td>\n",
       "      <td>...</td>\n",
       "    </tr>\n",
       "    <tr>\n",
       "      <th>657</th>\n",
       "      <td>38203</td>\n",
       "      <td>China</td>\n",
       "      <td>Single Country</td>\n",
       "    </tr>\n",
       "    <tr>\n",
       "      <th>658</th>\n",
       "      <td>34229</td>\n",
       "      <td>China</td>\n",
       "      <td>Single Country</td>\n",
       "    </tr>\n",
       "    <tr>\n",
       "      <th>659</th>\n",
       "      <td>8591</td>\n",
       "      <td>Mexico</td>\n",
       "      <td>Single Country</td>\n",
       "    </tr>\n",
       "    <tr>\n",
       "      <th>660</th>\n",
       "      <td>13650</td>\n",
       "      <td>Unknown</td>\n",
       "      <td>Single Country</td>\n",
       "    </tr>\n",
       "    <tr>\n",
       "      <th>661</th>\n",
       "      <td>4261</td>\n",
       "      <td>United States</td>\n",
       "      <td>Single Country</td>\n",
       "    </tr>\n",
       "  </tbody>\n",
       "</table>\n",
       "<p>971 rows × 3 columns</p>\n",
       "</div>"
      ],
      "text/plain": [
       "     Record ID        Country Single_Multiple_Country\n",
       "0        19131  United States          Single Country\n",
       "1         5767          China          Single Country\n",
       "2         5650          China      Multiple Countries\n",
       "2         5650  United States      Multiple Countries\n",
       "3         6221  United States          Single Country\n",
       "..         ...            ...                     ...\n",
       "657      38203          China          Single Country\n",
       "658      34229          China          Single Country\n",
       "659       8591         Mexico          Single Country\n",
       "660      13650        Unknown          Single Country\n",
       "661       4261  United States          Single Country\n",
       "\n",
       "[971 rows x 3 columns]"
      ]
     },
     "execution_count": 72,
     "metadata": {},
     "output_type": "execute_result"
    }
   ],
   "source": [
    "country = country[['Record ID','Country', 'Single_Multiple_Country']]\n",
    "country.loc[:, 'Country'] = country['Country'].str.split(';')\n",
    "country = country.explode('Country')\n",
    "country"
   ]
  },
  {
   "cell_type": "code",
   "execution_count": 73,
   "metadata": {},
   "outputs": [
    {
     "data": {
      "application/vnd.plotly.v1+json": {
       "config": {
        "plotlyServerURL": "https://plot.ly"
       },
       "data": [
        {
         "alignmentgroup": "True",
         "hovertemplate": "Publication Category=Single Country<br>Count=%{x}<br>Country=%{y}<extra></extra>",
         "legendgroup": "Single Country",
         "marker": {
          "color": "#636efa",
          "pattern": {
           "shape": ""
          }
         },
         "name": "Single Country",
         "offsetgroup": "Single Country",
         "orientation": "h",
         "showlegend": true,
         "textposition": "auto",
         "type": "bar",
         "x": [
          170,
          88,
          29,
          23,
          22,
          15,
          14,
          13
         ],
         "xaxis": "x",
         "y": [
          "United States",
          "China",
          "Japan",
          "United Kingdom",
          "India",
          "Egypt",
          "Iran",
          "Germany"
         ],
         "yaxis": "y"
        },
        {
         "alignmentgroup": "True",
         "hovertemplate": "Publication Category=Multiple Countries<br>Count=%{x}<br>Country=%{y}<extra></extra>",
         "legendgroup": "Multiple Countries",
         "marker": {
          "color": "#EF553B",
          "pattern": {
           "shape": ""
          }
         },
         "name": "Multiple Countries",
         "offsetgroup": "Multiple Countries",
         "orientation": "h",
         "showlegend": true,
         "textposition": "auto",
         "type": "bar",
         "x": [
          138,
          48,
          46,
          39,
          24,
          21,
          16,
          15,
          14,
          13,
          12,
          12
         ],
         "xaxis": "x",
         "y": [
          "United States",
          "United Kingdom",
          "China",
          "Germany",
          "Japan",
          "France",
          "Canada",
          "Switzerland",
          "Italy",
          "Australia",
          "Spain",
          "Netherlands"
         ],
         "yaxis": "y"
        }
       ],
       "layout": {
        "barmode": "stack",
        "legend": {
         "title": {
          "text": "Publication Category"
         },
         "tracegroupgap": 0
        },
        "template": {
         "data": {
          "bar": [
           {
            "error_x": {
             "color": "#2a3f5f"
            },
            "error_y": {
             "color": "#2a3f5f"
            },
            "marker": {
             "line": {
              "color": "#E5ECF6",
              "width": 0.5
             },
             "pattern": {
              "fillmode": "overlay",
              "size": 10,
              "solidity": 0.2
             }
            },
            "type": "bar"
           }
          ],
          "barpolar": [
           {
            "marker": {
             "line": {
              "color": "#E5ECF6",
              "width": 0.5
             },
             "pattern": {
              "fillmode": "overlay",
              "size": 10,
              "solidity": 0.2
             }
            },
            "type": "barpolar"
           }
          ],
          "carpet": [
           {
            "aaxis": {
             "endlinecolor": "#2a3f5f",
             "gridcolor": "white",
             "linecolor": "white",
             "minorgridcolor": "white",
             "startlinecolor": "#2a3f5f"
            },
            "baxis": {
             "endlinecolor": "#2a3f5f",
             "gridcolor": "white",
             "linecolor": "white",
             "minorgridcolor": "white",
             "startlinecolor": "#2a3f5f"
            },
            "type": "carpet"
           }
          ],
          "choropleth": [
           {
            "colorbar": {
             "outlinewidth": 0,
             "ticks": ""
            },
            "type": "choropleth"
           }
          ],
          "contour": [
           {
            "colorbar": {
             "outlinewidth": 0,
             "ticks": ""
            },
            "colorscale": [
             [
              0,
              "#0d0887"
             ],
             [
              0.1111111111111111,
              "#46039f"
             ],
             [
              0.2222222222222222,
              "#7201a8"
             ],
             [
              0.3333333333333333,
              "#9c179e"
             ],
             [
              0.4444444444444444,
              "#bd3786"
             ],
             [
              0.5555555555555556,
              "#d8576b"
             ],
             [
              0.6666666666666666,
              "#ed7953"
             ],
             [
              0.7777777777777778,
              "#fb9f3a"
             ],
             [
              0.8888888888888888,
              "#fdca26"
             ],
             [
              1,
              "#f0f921"
             ]
            ],
            "type": "contour"
           }
          ],
          "contourcarpet": [
           {
            "colorbar": {
             "outlinewidth": 0,
             "ticks": ""
            },
            "type": "contourcarpet"
           }
          ],
          "heatmap": [
           {
            "colorbar": {
             "outlinewidth": 0,
             "ticks": ""
            },
            "colorscale": [
             [
              0,
              "#0d0887"
             ],
             [
              0.1111111111111111,
              "#46039f"
             ],
             [
              0.2222222222222222,
              "#7201a8"
             ],
             [
              0.3333333333333333,
              "#9c179e"
             ],
             [
              0.4444444444444444,
              "#bd3786"
             ],
             [
              0.5555555555555556,
              "#d8576b"
             ],
             [
              0.6666666666666666,
              "#ed7953"
             ],
             [
              0.7777777777777778,
              "#fb9f3a"
             ],
             [
              0.8888888888888888,
              "#fdca26"
             ],
             [
              1,
              "#f0f921"
             ]
            ],
            "type": "heatmap"
           }
          ],
          "heatmapgl": [
           {
            "colorbar": {
             "outlinewidth": 0,
             "ticks": ""
            },
            "colorscale": [
             [
              0,
              "#0d0887"
             ],
             [
              0.1111111111111111,
              "#46039f"
             ],
             [
              0.2222222222222222,
              "#7201a8"
             ],
             [
              0.3333333333333333,
              "#9c179e"
             ],
             [
              0.4444444444444444,
              "#bd3786"
             ],
             [
              0.5555555555555556,
              "#d8576b"
             ],
             [
              0.6666666666666666,
              "#ed7953"
             ],
             [
              0.7777777777777778,
              "#fb9f3a"
             ],
             [
              0.8888888888888888,
              "#fdca26"
             ],
             [
              1,
              "#f0f921"
             ]
            ],
            "type": "heatmapgl"
           }
          ],
          "histogram": [
           {
            "marker": {
             "pattern": {
              "fillmode": "overlay",
              "size": 10,
              "solidity": 0.2
             }
            },
            "type": "histogram"
           }
          ],
          "histogram2d": [
           {
            "colorbar": {
             "outlinewidth": 0,
             "ticks": ""
            },
            "colorscale": [
             [
              0,
              "#0d0887"
             ],
             [
              0.1111111111111111,
              "#46039f"
             ],
             [
              0.2222222222222222,
              "#7201a8"
             ],
             [
              0.3333333333333333,
              "#9c179e"
             ],
             [
              0.4444444444444444,
              "#bd3786"
             ],
             [
              0.5555555555555556,
              "#d8576b"
             ],
             [
              0.6666666666666666,
              "#ed7953"
             ],
             [
              0.7777777777777778,
              "#fb9f3a"
             ],
             [
              0.8888888888888888,
              "#fdca26"
             ],
             [
              1,
              "#f0f921"
             ]
            ],
            "type": "histogram2d"
           }
          ],
          "histogram2dcontour": [
           {
            "colorbar": {
             "outlinewidth": 0,
             "ticks": ""
            },
            "colorscale": [
             [
              0,
              "#0d0887"
             ],
             [
              0.1111111111111111,
              "#46039f"
             ],
             [
              0.2222222222222222,
              "#7201a8"
             ],
             [
              0.3333333333333333,
              "#9c179e"
             ],
             [
              0.4444444444444444,
              "#bd3786"
             ],
             [
              0.5555555555555556,
              "#d8576b"
             ],
             [
              0.6666666666666666,
              "#ed7953"
             ],
             [
              0.7777777777777778,
              "#fb9f3a"
             ],
             [
              0.8888888888888888,
              "#fdca26"
             ],
             [
              1,
              "#f0f921"
             ]
            ],
            "type": "histogram2dcontour"
           }
          ],
          "mesh3d": [
           {
            "colorbar": {
             "outlinewidth": 0,
             "ticks": ""
            },
            "type": "mesh3d"
           }
          ],
          "parcoords": [
           {
            "line": {
             "colorbar": {
              "outlinewidth": 0,
              "ticks": ""
             }
            },
            "type": "parcoords"
           }
          ],
          "pie": [
           {
            "automargin": true,
            "type": "pie"
           }
          ],
          "scatter": [
           {
            "fillpattern": {
             "fillmode": "overlay",
             "size": 10,
             "solidity": 0.2
            },
            "type": "scatter"
           }
          ],
          "scatter3d": [
           {
            "line": {
             "colorbar": {
              "outlinewidth": 0,
              "ticks": ""
             }
            },
            "marker": {
             "colorbar": {
              "outlinewidth": 0,
              "ticks": ""
             }
            },
            "type": "scatter3d"
           }
          ],
          "scattercarpet": [
           {
            "marker": {
             "colorbar": {
              "outlinewidth": 0,
              "ticks": ""
             }
            },
            "type": "scattercarpet"
           }
          ],
          "scattergeo": [
           {
            "marker": {
             "colorbar": {
              "outlinewidth": 0,
              "ticks": ""
             }
            },
            "type": "scattergeo"
           }
          ],
          "scattergl": [
           {
            "marker": {
             "colorbar": {
              "outlinewidth": 0,
              "ticks": ""
             }
            },
            "type": "scattergl"
           }
          ],
          "scattermapbox": [
           {
            "marker": {
             "colorbar": {
              "outlinewidth": 0,
              "ticks": ""
             }
            },
            "type": "scattermapbox"
           }
          ],
          "scatterpolar": [
           {
            "marker": {
             "colorbar": {
              "outlinewidth": 0,
              "ticks": ""
             }
            },
            "type": "scatterpolar"
           }
          ],
          "scatterpolargl": [
           {
            "marker": {
             "colorbar": {
              "outlinewidth": 0,
              "ticks": ""
             }
            },
            "type": "scatterpolargl"
           }
          ],
          "scatterternary": [
           {
            "marker": {
             "colorbar": {
              "outlinewidth": 0,
              "ticks": ""
             }
            },
            "type": "scatterternary"
           }
          ],
          "surface": [
           {
            "colorbar": {
             "outlinewidth": 0,
             "ticks": ""
            },
            "colorscale": [
             [
              0,
              "#0d0887"
             ],
             [
              0.1111111111111111,
              "#46039f"
             ],
             [
              0.2222222222222222,
              "#7201a8"
             ],
             [
              0.3333333333333333,
              "#9c179e"
             ],
             [
              0.4444444444444444,
              "#bd3786"
             ],
             [
              0.5555555555555556,
              "#d8576b"
             ],
             [
              0.6666666666666666,
              "#ed7953"
             ],
             [
              0.7777777777777778,
              "#fb9f3a"
             ],
             [
              0.8888888888888888,
              "#fdca26"
             ],
             [
              1,
              "#f0f921"
             ]
            ],
            "type": "surface"
           }
          ],
          "table": [
           {
            "cells": {
             "fill": {
              "color": "#EBF0F8"
             },
             "line": {
              "color": "white"
             }
            },
            "header": {
             "fill": {
              "color": "#C8D4E3"
             },
             "line": {
              "color": "white"
             }
            },
            "type": "table"
           }
          ]
         },
         "layout": {
          "annotationdefaults": {
           "arrowcolor": "#2a3f5f",
           "arrowhead": 0,
           "arrowwidth": 1
          },
          "autotypenumbers": "strict",
          "coloraxis": {
           "colorbar": {
            "outlinewidth": 0,
            "ticks": ""
           }
          },
          "colorscale": {
           "diverging": [
            [
             0,
             "#8e0152"
            ],
            [
             0.1,
             "#c51b7d"
            ],
            [
             0.2,
             "#de77ae"
            ],
            [
             0.3,
             "#f1b6da"
            ],
            [
             0.4,
             "#fde0ef"
            ],
            [
             0.5,
             "#f7f7f7"
            ],
            [
             0.6,
             "#e6f5d0"
            ],
            [
             0.7,
             "#b8e186"
            ],
            [
             0.8,
             "#7fbc41"
            ],
            [
             0.9,
             "#4d9221"
            ],
            [
             1,
             "#276419"
            ]
           ],
           "sequential": [
            [
             0,
             "#0d0887"
            ],
            [
             0.1111111111111111,
             "#46039f"
            ],
            [
             0.2222222222222222,
             "#7201a8"
            ],
            [
             0.3333333333333333,
             "#9c179e"
            ],
            [
             0.4444444444444444,
             "#bd3786"
            ],
            [
             0.5555555555555556,
             "#d8576b"
            ],
            [
             0.6666666666666666,
             "#ed7953"
            ],
            [
             0.7777777777777778,
             "#fb9f3a"
            ],
            [
             0.8888888888888888,
             "#fdca26"
            ],
            [
             1,
             "#f0f921"
            ]
           ],
           "sequentialminus": [
            [
             0,
             "#0d0887"
            ],
            [
             0.1111111111111111,
             "#46039f"
            ],
            [
             0.2222222222222222,
             "#7201a8"
            ],
            [
             0.3333333333333333,
             "#9c179e"
            ],
            [
             0.4444444444444444,
             "#bd3786"
            ],
            [
             0.5555555555555556,
             "#d8576b"
            ],
            [
             0.6666666666666666,
             "#ed7953"
            ],
            [
             0.7777777777777778,
             "#fb9f3a"
            ],
            [
             0.8888888888888888,
             "#fdca26"
            ],
            [
             1,
             "#f0f921"
            ]
           ]
          },
          "colorway": [
           "#636efa",
           "#EF553B",
           "#00cc96",
           "#ab63fa",
           "#FFA15A",
           "#19d3f3",
           "#FF6692",
           "#B6E880",
           "#FF97FF",
           "#FECB52"
          ],
          "font": {
           "color": "#2a3f5f"
          },
          "geo": {
           "bgcolor": "white",
           "lakecolor": "white",
           "landcolor": "#E5ECF6",
           "showlakes": true,
           "showland": true,
           "subunitcolor": "white"
          },
          "hoverlabel": {
           "align": "left"
          },
          "hovermode": "closest",
          "mapbox": {
           "style": "light"
          },
          "paper_bgcolor": "white",
          "plot_bgcolor": "#E5ECF6",
          "polar": {
           "angularaxis": {
            "gridcolor": "white",
            "linecolor": "white",
            "ticks": ""
           },
           "bgcolor": "#E5ECF6",
           "radialaxis": {
            "gridcolor": "white",
            "linecolor": "white",
            "ticks": ""
           }
          },
          "scene": {
           "xaxis": {
            "backgroundcolor": "#E5ECF6",
            "gridcolor": "white",
            "gridwidth": 2,
            "linecolor": "white",
            "showbackground": true,
            "ticks": "",
            "zerolinecolor": "white"
           },
           "yaxis": {
            "backgroundcolor": "#E5ECF6",
            "gridcolor": "white",
            "gridwidth": 2,
            "linecolor": "white",
            "showbackground": true,
            "ticks": "",
            "zerolinecolor": "white"
           },
           "zaxis": {
            "backgroundcolor": "#E5ECF6",
            "gridcolor": "white",
            "gridwidth": 2,
            "linecolor": "white",
            "showbackground": true,
            "ticks": "",
            "zerolinecolor": "white"
           }
          },
          "shapedefaults": {
           "line": {
            "color": "#2a3f5f"
           }
          },
          "ternary": {
           "aaxis": {
            "gridcolor": "white",
            "linecolor": "white",
            "ticks": ""
           },
           "baxis": {
            "gridcolor": "white",
            "linecolor": "white",
            "ticks": ""
           },
           "bgcolor": "#E5ECF6",
           "caxis": {
            "gridcolor": "white",
            "linecolor": "white",
            "ticks": ""
           }
          },
          "title": {
           "x": 0.05
          },
          "xaxis": {
           "automargin": true,
           "gridcolor": "white",
           "linecolor": "white",
           "ticks": "",
           "title": {
            "standoff": 15
           },
           "zerolinecolor": "white",
           "zerolinewidth": 2
          },
          "yaxis": {
           "automargin": true,
           "gridcolor": "white",
           "linecolor": "white",
           "ticks": "",
           "title": {
            "standoff": 15
           },
           "zerolinecolor": "white",
           "zerolinewidth": 2
          }
         }
        },
        "title": {
         "text": "Top 15 Countries with Most Retractions by Category"
        },
        "xaxis": {
         "anchor": "y",
         "domain": [
          0,
          1
         ],
         "title": {
          "text": "Count"
         }
        },
        "yaxis": {
         "anchor": "x",
         "domain": [
          0,
          1
         ],
         "title": {
          "text": "Country"
         }
        }
       }
      }
     },
     "metadata": {},
     "output_type": "display_data"
    }
   ],
   "source": [
    "# Create a DataFrame to count retractions by country and category\n",
    "country_counts = country.groupby(['Country', 'Single_Multiple_Country']).size().reset_index(name='Count')\n",
    "\n",
    "# Sort the DataFrame by Count in descending order and take the top 15 countries\n",
    "top_15_countries = country_counts.sort_values(by='Count', ascending=False).head(20)\n",
    "\n",
    "# Create a histogram with countries on the y-axis\n",
    "fig = px.bar(top_15_countries, y='Country', x='Count', color='Single_Multiple_Country',\n",
    "             orientation='h',  # Horizontal orientation for countries on the y-axis\n",
    "             title='Top 15 Countries with Most Retractions by Category',\n",
    "             labels={'Single_Multiple_Country': 'Publication Category', 'Count': 'Count'},\n",
    "             category_orders={'Single_Multiple_Country': ['Single Country', 'Multiple Countries']})\n",
    "\n",
    "fig.update_layout(barmode='stack')  # Stacked histogram\n",
    "\n",
    "fig.show()"
   ]
  },
  {
   "cell_type": "code",
   "execution_count": 74,
   "metadata": {},
   "outputs": [],
   "source": [
    "#country['Country'].value_counts().to_excel('./country_retractions.xlsx')"
   ]
  },
  {
   "cell_type": "code",
   "execution_count": 75,
   "metadata": {},
   "outputs": [
    {
     "data": {
      "text/html": [
       "<div>\n",
       "<style scoped>\n",
       "    .dataframe tbody tr th:only-of-type {\n",
       "        vertical-align: middle;\n",
       "    }\n",
       "\n",
       "    .dataframe tbody tr th {\n",
       "        vertical-align: top;\n",
       "    }\n",
       "\n",
       "    .dataframe thead th {\n",
       "        text-align: right;\n",
       "    }\n",
       "</style>\n",
       "<table border=\"1\" class=\"dataframe\">\n",
       "  <thead>\n",
       "    <tr style=\"text-align: right;\">\n",
       "      <th></th>\n",
       "      <th>country</th>\n",
       "      <th>alpha2_code</th>\n",
       "      <th>alpha3_code</th>\n",
       "      <th>numeric</th>\n",
       "    </tr>\n",
       "  </thead>\n",
       "  <tbody>\n",
       "    <tr>\n",
       "      <th>0</th>\n",
       "      <td>Afghanistan</td>\n",
       "      <td>AF</td>\n",
       "      <td>AFG</td>\n",
       "      <td>4</td>\n",
       "    </tr>\n",
       "    <tr>\n",
       "      <th>1</th>\n",
       "      <td>Åland Islands</td>\n",
       "      <td>AX</td>\n",
       "      <td>ALA</td>\n",
       "      <td>248</td>\n",
       "    </tr>\n",
       "    <tr>\n",
       "      <th>2</th>\n",
       "      <td>Albania</td>\n",
       "      <td>AL</td>\n",
       "      <td>ALB</td>\n",
       "      <td>8</td>\n",
       "    </tr>\n",
       "    <tr>\n",
       "      <th>3</th>\n",
       "      <td>Algeria</td>\n",
       "      <td>DZ</td>\n",
       "      <td>DZA</td>\n",
       "      <td>12</td>\n",
       "    </tr>\n",
       "    <tr>\n",
       "      <th>4</th>\n",
       "      <td>American Samoa</td>\n",
       "      <td>AS</td>\n",
       "      <td>ASM</td>\n",
       "      <td>16</td>\n",
       "    </tr>\n",
       "    <tr>\n",
       "      <th>...</th>\n",
       "      <td>...</td>\n",
       "      <td>...</td>\n",
       "      <td>...</td>\n",
       "      <td>...</td>\n",
       "    </tr>\n",
       "    <tr>\n",
       "      <th>246</th>\n",
       "      <td>Yemen</td>\n",
       "      <td>YE</td>\n",
       "      <td>YEM</td>\n",
       "      <td>887</td>\n",
       "    </tr>\n",
       "    <tr>\n",
       "      <th>247</th>\n",
       "      <td>Zambia</td>\n",
       "      <td>ZM</td>\n",
       "      <td>ZMB</td>\n",
       "      <td>894</td>\n",
       "    </tr>\n",
       "    <tr>\n",
       "      <th>248</th>\n",
       "      <td>Zimbabwe</td>\n",
       "      <td>ZW</td>\n",
       "      <td>ZWE</td>\n",
       "      <td>716</td>\n",
       "    </tr>\n",
       "    <tr>\n",
       "      <th>249</th>\n",
       "      <td>Gaza Strip</td>\n",
       "      <td>PS</td>\n",
       "      <td>PSE</td>\n",
       "      <td>275</td>\n",
       "    </tr>\n",
       "    <tr>\n",
       "      <th>250</th>\n",
       "      <td>Laos</td>\n",
       "      <td>LA</td>\n",
       "      <td>LAO</td>\n",
       "      <td>418</td>\n",
       "    </tr>\n",
       "  </tbody>\n",
       "</table>\n",
       "<p>251 rows × 4 columns</p>\n",
       "</div>"
      ],
      "text/plain": [
       "            country alpha2_code alpha3_code  numeric\n",
       "0       Afghanistan          AF         AFG        4\n",
       "1     Åland Islands          AX         ALA      248\n",
       "2           Albania          AL         ALB        8\n",
       "3           Algeria          DZ         DZA       12\n",
       "4    American Samoa          AS         ASM       16\n",
       "..              ...         ...         ...      ...\n",
       "246           Yemen          YE         YEM      887\n",
       "247          Zambia          ZM         ZMB      894\n",
       "248        Zimbabwe          ZW         ZWE      716\n",
       "249      Gaza Strip          PS         PSE      275\n",
       "250            Laos          LA         LAO      418\n",
       "\n",
       "[251 rows x 4 columns]"
      ]
     },
     "execution_count": 75,
     "metadata": {},
     "output_type": "execute_result"
    }
   ],
   "source": [
    "country_codes = pd.read_excel('../country_codes.xlsx')\n",
    "country_codes"
   ]
  },
  {
   "cell_type": "code",
   "execution_count": 76,
   "metadata": {},
   "outputs": [
    {
     "data": {
      "application/vnd.plotly.v1+json": {
       "config": {
        "plotlyServerURL": "https://plot.ly"
       },
       "data": [
        {
         "coloraxis": "coloraxis",
         "geo": "geo",
         "hovertemplate": "<b>%{hovertext}</b><br><br>alpha3_code=%{location}<br>Record_Count=%{z}<extra></extra>",
         "hovertext": [
          "Argentina",
          "Australia",
          "Austria",
          "Brazil",
          "Canada",
          "Switzerland",
          "China",
          "Colombia",
          "Germany",
          "Denmark",
          "Algeria",
          "Egypt",
          "Spain",
          "France",
          "United Kingdom",
          "Greece",
          "Indonesia",
          "India",
          "Iran",
          "Italy",
          "Japan",
          "South Korea",
          "Mexico",
          "Malaysia",
          "Netherlands",
          "Norway",
          "Singapore",
          "Sweden",
          "Thailand",
          "Turkey",
          "Taiwan",
          "United States"
         ],
         "locations": [
          "ARG",
          "AUS",
          "AUT",
          "BRA",
          "CAN",
          "CHE",
          "CHN",
          "COL",
          "DEU",
          "DNK",
          "DZA",
          "EGY",
          "ESP",
          "FRA",
          "GBR",
          "GRC",
          "IDN",
          "IND",
          "IRN",
          "ITA",
          "JPN",
          "KOR",
          "MEX",
          "MYS",
          "NLD",
          "NOR",
          "SGP",
          "SWE",
          "THA",
          "TUR",
          "TWN",
          "USA"
         ],
         "name": "",
         "type": "choropleth",
         "z": [
          2,
          3,
          1,
          4,
          8,
          1,
          88,
          1,
          13,
          1,
          1,
          15,
          8,
          5,
          23,
          1,
          1,
          22,
          14,
          8,
          29,
          10,
          1,
          1,
          10,
          3,
          1,
          3,
          1,
          4,
          8,
          170
         ]
        }
       ],
       "layout": {
        "coloraxis": {
         "colorbar": {
          "title": {
           "text": "Record_Count"
          }
         },
         "colorscale": [
          [
           0,
           "#0d0887"
          ],
          [
           0.1111111111111111,
           "#46039f"
          ],
          [
           0.2222222222222222,
           "#7201a8"
          ],
          [
           0.3333333333333333,
           "#9c179e"
          ],
          [
           0.4444444444444444,
           "#bd3786"
          ],
          [
           0.5555555555555556,
           "#d8576b"
          ],
          [
           0.6666666666666666,
           "#ed7953"
          ],
          [
           0.7777777777777778,
           "#fb9f3a"
          ],
          [
           0.8888888888888888,
           "#fdca26"
          ],
          [
           1,
           "#f0f921"
          ]
         ]
        },
        "geo": {
         "center": {},
         "domain": {
          "x": [
           0,
           1
          ],
          "y": [
           0,
           1
          ]
         }
        },
        "legend": {
         "tracegroupgap": 0
        },
        "margin": {
         "t": 60
        },
        "template": {
         "data": {
          "bar": [
           {
            "error_x": {
             "color": "#2a3f5f"
            },
            "error_y": {
             "color": "#2a3f5f"
            },
            "marker": {
             "line": {
              "color": "#E5ECF6",
              "width": 0.5
             },
             "pattern": {
              "fillmode": "overlay",
              "size": 10,
              "solidity": 0.2
             }
            },
            "type": "bar"
           }
          ],
          "barpolar": [
           {
            "marker": {
             "line": {
              "color": "#E5ECF6",
              "width": 0.5
             },
             "pattern": {
              "fillmode": "overlay",
              "size": 10,
              "solidity": 0.2
             }
            },
            "type": "barpolar"
           }
          ],
          "carpet": [
           {
            "aaxis": {
             "endlinecolor": "#2a3f5f",
             "gridcolor": "white",
             "linecolor": "white",
             "minorgridcolor": "white",
             "startlinecolor": "#2a3f5f"
            },
            "baxis": {
             "endlinecolor": "#2a3f5f",
             "gridcolor": "white",
             "linecolor": "white",
             "minorgridcolor": "white",
             "startlinecolor": "#2a3f5f"
            },
            "type": "carpet"
           }
          ],
          "choropleth": [
           {
            "colorbar": {
             "outlinewidth": 0,
             "ticks": ""
            },
            "type": "choropleth"
           }
          ],
          "contour": [
           {
            "colorbar": {
             "outlinewidth": 0,
             "ticks": ""
            },
            "colorscale": [
             [
              0,
              "#0d0887"
             ],
             [
              0.1111111111111111,
              "#46039f"
             ],
             [
              0.2222222222222222,
              "#7201a8"
             ],
             [
              0.3333333333333333,
              "#9c179e"
             ],
             [
              0.4444444444444444,
              "#bd3786"
             ],
             [
              0.5555555555555556,
              "#d8576b"
             ],
             [
              0.6666666666666666,
              "#ed7953"
             ],
             [
              0.7777777777777778,
              "#fb9f3a"
             ],
             [
              0.8888888888888888,
              "#fdca26"
             ],
             [
              1,
              "#f0f921"
             ]
            ],
            "type": "contour"
           }
          ],
          "contourcarpet": [
           {
            "colorbar": {
             "outlinewidth": 0,
             "ticks": ""
            },
            "type": "contourcarpet"
           }
          ],
          "heatmap": [
           {
            "colorbar": {
             "outlinewidth": 0,
             "ticks": ""
            },
            "colorscale": [
             [
              0,
              "#0d0887"
             ],
             [
              0.1111111111111111,
              "#46039f"
             ],
             [
              0.2222222222222222,
              "#7201a8"
             ],
             [
              0.3333333333333333,
              "#9c179e"
             ],
             [
              0.4444444444444444,
              "#bd3786"
             ],
             [
              0.5555555555555556,
              "#d8576b"
             ],
             [
              0.6666666666666666,
              "#ed7953"
             ],
             [
              0.7777777777777778,
              "#fb9f3a"
             ],
             [
              0.8888888888888888,
              "#fdca26"
             ],
             [
              1,
              "#f0f921"
             ]
            ],
            "type": "heatmap"
           }
          ],
          "heatmapgl": [
           {
            "colorbar": {
             "outlinewidth": 0,
             "ticks": ""
            },
            "colorscale": [
             [
              0,
              "#0d0887"
             ],
             [
              0.1111111111111111,
              "#46039f"
             ],
             [
              0.2222222222222222,
              "#7201a8"
             ],
             [
              0.3333333333333333,
              "#9c179e"
             ],
             [
              0.4444444444444444,
              "#bd3786"
             ],
             [
              0.5555555555555556,
              "#d8576b"
             ],
             [
              0.6666666666666666,
              "#ed7953"
             ],
             [
              0.7777777777777778,
              "#fb9f3a"
             ],
             [
              0.8888888888888888,
              "#fdca26"
             ],
             [
              1,
              "#f0f921"
             ]
            ],
            "type": "heatmapgl"
           }
          ],
          "histogram": [
           {
            "marker": {
             "pattern": {
              "fillmode": "overlay",
              "size": 10,
              "solidity": 0.2
             }
            },
            "type": "histogram"
           }
          ],
          "histogram2d": [
           {
            "colorbar": {
             "outlinewidth": 0,
             "ticks": ""
            },
            "colorscale": [
             [
              0,
              "#0d0887"
             ],
             [
              0.1111111111111111,
              "#46039f"
             ],
             [
              0.2222222222222222,
              "#7201a8"
             ],
             [
              0.3333333333333333,
              "#9c179e"
             ],
             [
              0.4444444444444444,
              "#bd3786"
             ],
             [
              0.5555555555555556,
              "#d8576b"
             ],
             [
              0.6666666666666666,
              "#ed7953"
             ],
             [
              0.7777777777777778,
              "#fb9f3a"
             ],
             [
              0.8888888888888888,
              "#fdca26"
             ],
             [
              1,
              "#f0f921"
             ]
            ],
            "type": "histogram2d"
           }
          ],
          "histogram2dcontour": [
           {
            "colorbar": {
             "outlinewidth": 0,
             "ticks": ""
            },
            "colorscale": [
             [
              0,
              "#0d0887"
             ],
             [
              0.1111111111111111,
              "#46039f"
             ],
             [
              0.2222222222222222,
              "#7201a8"
             ],
             [
              0.3333333333333333,
              "#9c179e"
             ],
             [
              0.4444444444444444,
              "#bd3786"
             ],
             [
              0.5555555555555556,
              "#d8576b"
             ],
             [
              0.6666666666666666,
              "#ed7953"
             ],
             [
              0.7777777777777778,
              "#fb9f3a"
             ],
             [
              0.8888888888888888,
              "#fdca26"
             ],
             [
              1,
              "#f0f921"
             ]
            ],
            "type": "histogram2dcontour"
           }
          ],
          "mesh3d": [
           {
            "colorbar": {
             "outlinewidth": 0,
             "ticks": ""
            },
            "type": "mesh3d"
           }
          ],
          "parcoords": [
           {
            "line": {
             "colorbar": {
              "outlinewidth": 0,
              "ticks": ""
             }
            },
            "type": "parcoords"
           }
          ],
          "pie": [
           {
            "automargin": true,
            "type": "pie"
           }
          ],
          "scatter": [
           {
            "fillpattern": {
             "fillmode": "overlay",
             "size": 10,
             "solidity": 0.2
            },
            "type": "scatter"
           }
          ],
          "scatter3d": [
           {
            "line": {
             "colorbar": {
              "outlinewidth": 0,
              "ticks": ""
             }
            },
            "marker": {
             "colorbar": {
              "outlinewidth": 0,
              "ticks": ""
             }
            },
            "type": "scatter3d"
           }
          ],
          "scattercarpet": [
           {
            "marker": {
             "colorbar": {
              "outlinewidth": 0,
              "ticks": ""
             }
            },
            "type": "scattercarpet"
           }
          ],
          "scattergeo": [
           {
            "marker": {
             "colorbar": {
              "outlinewidth": 0,
              "ticks": ""
             }
            },
            "type": "scattergeo"
           }
          ],
          "scattergl": [
           {
            "marker": {
             "colorbar": {
              "outlinewidth": 0,
              "ticks": ""
             }
            },
            "type": "scattergl"
           }
          ],
          "scattermapbox": [
           {
            "marker": {
             "colorbar": {
              "outlinewidth": 0,
              "ticks": ""
             }
            },
            "type": "scattermapbox"
           }
          ],
          "scatterpolar": [
           {
            "marker": {
             "colorbar": {
              "outlinewidth": 0,
              "ticks": ""
             }
            },
            "type": "scatterpolar"
           }
          ],
          "scatterpolargl": [
           {
            "marker": {
             "colorbar": {
              "outlinewidth": 0,
              "ticks": ""
             }
            },
            "type": "scatterpolargl"
           }
          ],
          "scatterternary": [
           {
            "marker": {
             "colorbar": {
              "outlinewidth": 0,
              "ticks": ""
             }
            },
            "type": "scatterternary"
           }
          ],
          "surface": [
           {
            "colorbar": {
             "outlinewidth": 0,
             "ticks": ""
            },
            "colorscale": [
             [
              0,
              "#0d0887"
             ],
             [
              0.1111111111111111,
              "#46039f"
             ],
             [
              0.2222222222222222,
              "#7201a8"
             ],
             [
              0.3333333333333333,
              "#9c179e"
             ],
             [
              0.4444444444444444,
              "#bd3786"
             ],
             [
              0.5555555555555556,
              "#d8576b"
             ],
             [
              0.6666666666666666,
              "#ed7953"
             ],
             [
              0.7777777777777778,
              "#fb9f3a"
             ],
             [
              0.8888888888888888,
              "#fdca26"
             ],
             [
              1,
              "#f0f921"
             ]
            ],
            "type": "surface"
           }
          ],
          "table": [
           {
            "cells": {
             "fill": {
              "color": "#EBF0F8"
             },
             "line": {
              "color": "white"
             }
            },
            "header": {
             "fill": {
              "color": "#C8D4E3"
             },
             "line": {
              "color": "white"
             }
            },
            "type": "table"
           }
          ]
         },
         "layout": {
          "annotationdefaults": {
           "arrowcolor": "#2a3f5f",
           "arrowhead": 0,
           "arrowwidth": 1
          },
          "autotypenumbers": "strict",
          "coloraxis": {
           "colorbar": {
            "outlinewidth": 0,
            "ticks": ""
           }
          },
          "colorscale": {
           "diverging": [
            [
             0,
             "#8e0152"
            ],
            [
             0.1,
             "#c51b7d"
            ],
            [
             0.2,
             "#de77ae"
            ],
            [
             0.3,
             "#f1b6da"
            ],
            [
             0.4,
             "#fde0ef"
            ],
            [
             0.5,
             "#f7f7f7"
            ],
            [
             0.6,
             "#e6f5d0"
            ],
            [
             0.7,
             "#b8e186"
            ],
            [
             0.8,
             "#7fbc41"
            ],
            [
             0.9,
             "#4d9221"
            ],
            [
             1,
             "#276419"
            ]
           ],
           "sequential": [
            [
             0,
             "#0d0887"
            ],
            [
             0.1111111111111111,
             "#46039f"
            ],
            [
             0.2222222222222222,
             "#7201a8"
            ],
            [
             0.3333333333333333,
             "#9c179e"
            ],
            [
             0.4444444444444444,
             "#bd3786"
            ],
            [
             0.5555555555555556,
             "#d8576b"
            ],
            [
             0.6666666666666666,
             "#ed7953"
            ],
            [
             0.7777777777777778,
             "#fb9f3a"
            ],
            [
             0.8888888888888888,
             "#fdca26"
            ],
            [
             1,
             "#f0f921"
            ]
           ],
           "sequentialminus": [
            [
             0,
             "#0d0887"
            ],
            [
             0.1111111111111111,
             "#46039f"
            ],
            [
             0.2222222222222222,
             "#7201a8"
            ],
            [
             0.3333333333333333,
             "#9c179e"
            ],
            [
             0.4444444444444444,
             "#bd3786"
            ],
            [
             0.5555555555555556,
             "#d8576b"
            ],
            [
             0.6666666666666666,
             "#ed7953"
            ],
            [
             0.7777777777777778,
             "#fb9f3a"
            ],
            [
             0.8888888888888888,
             "#fdca26"
            ],
            [
             1,
             "#f0f921"
            ]
           ]
          },
          "colorway": [
           "#636efa",
           "#EF553B",
           "#00cc96",
           "#ab63fa",
           "#FFA15A",
           "#19d3f3",
           "#FF6692",
           "#B6E880",
           "#FF97FF",
           "#FECB52"
          ],
          "font": {
           "color": "#2a3f5f"
          },
          "geo": {
           "bgcolor": "white",
           "lakecolor": "white",
           "landcolor": "#E5ECF6",
           "showlakes": true,
           "showland": true,
           "subunitcolor": "white"
          },
          "hoverlabel": {
           "align": "left"
          },
          "hovermode": "closest",
          "mapbox": {
           "style": "light"
          },
          "paper_bgcolor": "white",
          "plot_bgcolor": "#E5ECF6",
          "polar": {
           "angularaxis": {
            "gridcolor": "white",
            "linecolor": "white",
            "ticks": ""
           },
           "bgcolor": "#E5ECF6",
           "radialaxis": {
            "gridcolor": "white",
            "linecolor": "white",
            "ticks": ""
           }
          },
          "scene": {
           "xaxis": {
            "backgroundcolor": "#E5ECF6",
            "gridcolor": "white",
            "gridwidth": 2,
            "linecolor": "white",
            "showbackground": true,
            "ticks": "",
            "zerolinecolor": "white"
           },
           "yaxis": {
            "backgroundcolor": "#E5ECF6",
            "gridcolor": "white",
            "gridwidth": 2,
            "linecolor": "white",
            "showbackground": true,
            "ticks": "",
            "zerolinecolor": "white"
           },
           "zaxis": {
            "backgroundcolor": "#E5ECF6",
            "gridcolor": "white",
            "gridwidth": 2,
            "linecolor": "white",
            "showbackground": true,
            "ticks": "",
            "zerolinecolor": "white"
           }
          },
          "shapedefaults": {
           "line": {
            "color": "#2a3f5f"
           }
          },
          "ternary": {
           "aaxis": {
            "gridcolor": "white",
            "linecolor": "white",
            "ticks": ""
           },
           "baxis": {
            "gridcolor": "white",
            "linecolor": "white",
            "ticks": ""
           },
           "bgcolor": "#E5ECF6",
           "caxis": {
            "gridcolor": "white",
            "linecolor": "white",
            "ticks": ""
           }
          },
          "title": {
           "x": 0.05
          },
          "xaxis": {
           "automargin": true,
           "gridcolor": "white",
           "linecolor": "white",
           "ticks": "",
           "title": {
            "standoff": 15
           },
           "zerolinecolor": "white",
           "zerolinewidth": 2
          },
          "yaxis": {
           "automargin": true,
           "gridcolor": "white",
           "linecolor": "white",
           "ticks": "",
           "title": {
            "standoff": 15
           },
           "zerolinecolor": "white",
           "zerolinewidth": 2
          }
         }
        }
       }
      }
     },
     "metadata": {},
     "output_type": "display_data"
    }
   ],
   "source": [
    "\n",
    "countries = retractions.merge(country_codes, how='left', left_on=\"Country\", right_on='country')\n",
    "\n",
    "# Group by 'alpha3_code' and 'Country' and count the number of records in each group\n",
    "country_counts = countries.groupby(['alpha3_code', 'Country']).size().reset_index(name='Record_Count')\n",
    "\n",
    "fig = px.choropleth(country_counts, locations=\"alpha3_code\",\n",
    "                    color=\"Record_Count\",\n",
    "                    hover_name=\"Country\",\n",
    "                    color_continuous_scale=px.colors.sequential.Plasma)\n",
    "fig.show()\n"
   ]
  },
  {
   "cell_type": "code",
   "execution_count": 77,
   "metadata": {},
   "outputs": [
    {
     "data": {
      "text/html": [
       "<div>\n",
       "<style scoped>\n",
       "    .dataframe tbody tr th:only-of-type {\n",
       "        vertical-align: middle;\n",
       "    }\n",
       "\n",
       "    .dataframe tbody tr th {\n",
       "        vertical-align: top;\n",
       "    }\n",
       "\n",
       "    .dataframe thead th {\n",
       "        text-align: right;\n",
       "    }\n",
       "</style>\n",
       "<table border=\"1\" class=\"dataframe\">\n",
       "  <thead>\n",
       "    <tr style=\"text-align: right;\">\n",
       "      <th></th>\n",
       "      <th>alpha3_code</th>\n",
       "      <th>Country</th>\n",
       "      <th>Record_Count</th>\n",
       "    </tr>\n",
       "  </thead>\n",
       "  <tbody>\n",
       "    <tr>\n",
       "      <th>0</th>\n",
       "      <td>ARG</td>\n",
       "      <td>Argentina</td>\n",
       "      <td>2</td>\n",
       "    </tr>\n",
       "    <tr>\n",
       "      <th>1</th>\n",
       "      <td>AUS</td>\n",
       "      <td>Australia</td>\n",
       "      <td>3</td>\n",
       "    </tr>\n",
       "    <tr>\n",
       "      <th>2</th>\n",
       "      <td>AUT</td>\n",
       "      <td>Austria</td>\n",
       "      <td>1</td>\n",
       "    </tr>\n",
       "    <tr>\n",
       "      <th>3</th>\n",
       "      <td>BRA</td>\n",
       "      <td>Brazil</td>\n",
       "      <td>4</td>\n",
       "    </tr>\n",
       "    <tr>\n",
       "      <th>4</th>\n",
       "      <td>CAN</td>\n",
       "      <td>Canada</td>\n",
       "      <td>8</td>\n",
       "    </tr>\n",
       "    <tr>\n",
       "      <th>5</th>\n",
       "      <td>CHE</td>\n",
       "      <td>Switzerland</td>\n",
       "      <td>1</td>\n",
       "    </tr>\n",
       "    <tr>\n",
       "      <th>6</th>\n",
       "      <td>CHN</td>\n",
       "      <td>China</td>\n",
       "      <td>88</td>\n",
       "    </tr>\n",
       "    <tr>\n",
       "      <th>7</th>\n",
       "      <td>COL</td>\n",
       "      <td>Colombia</td>\n",
       "      <td>1</td>\n",
       "    </tr>\n",
       "    <tr>\n",
       "      <th>8</th>\n",
       "      <td>DEU</td>\n",
       "      <td>Germany</td>\n",
       "      <td>13</td>\n",
       "    </tr>\n",
       "    <tr>\n",
       "      <th>9</th>\n",
       "      <td>DNK</td>\n",
       "      <td>Denmark</td>\n",
       "      <td>1</td>\n",
       "    </tr>\n",
       "    <tr>\n",
       "      <th>10</th>\n",
       "      <td>DZA</td>\n",
       "      <td>Algeria</td>\n",
       "      <td>1</td>\n",
       "    </tr>\n",
       "    <tr>\n",
       "      <th>11</th>\n",
       "      <td>EGY</td>\n",
       "      <td>Egypt</td>\n",
       "      <td>15</td>\n",
       "    </tr>\n",
       "    <tr>\n",
       "      <th>12</th>\n",
       "      <td>ESP</td>\n",
       "      <td>Spain</td>\n",
       "      <td>8</td>\n",
       "    </tr>\n",
       "    <tr>\n",
       "      <th>13</th>\n",
       "      <td>FRA</td>\n",
       "      <td>France</td>\n",
       "      <td>5</td>\n",
       "    </tr>\n",
       "    <tr>\n",
       "      <th>14</th>\n",
       "      <td>GBR</td>\n",
       "      <td>United Kingdom</td>\n",
       "      <td>23</td>\n",
       "    </tr>\n",
       "    <tr>\n",
       "      <th>15</th>\n",
       "      <td>GRC</td>\n",
       "      <td>Greece</td>\n",
       "      <td>1</td>\n",
       "    </tr>\n",
       "    <tr>\n",
       "      <th>16</th>\n",
       "      <td>IDN</td>\n",
       "      <td>Indonesia</td>\n",
       "      <td>1</td>\n",
       "    </tr>\n",
       "    <tr>\n",
       "      <th>17</th>\n",
       "      <td>IND</td>\n",
       "      <td>India</td>\n",
       "      <td>22</td>\n",
       "    </tr>\n",
       "    <tr>\n",
       "      <th>18</th>\n",
       "      <td>IRN</td>\n",
       "      <td>Iran</td>\n",
       "      <td>14</td>\n",
       "    </tr>\n",
       "    <tr>\n",
       "      <th>19</th>\n",
       "      <td>ITA</td>\n",
       "      <td>Italy</td>\n",
       "      <td>8</td>\n",
       "    </tr>\n",
       "    <tr>\n",
       "      <th>20</th>\n",
       "      <td>JPN</td>\n",
       "      <td>Japan</td>\n",
       "      <td>29</td>\n",
       "    </tr>\n",
       "    <tr>\n",
       "      <th>21</th>\n",
       "      <td>KOR</td>\n",
       "      <td>South Korea</td>\n",
       "      <td>10</td>\n",
       "    </tr>\n",
       "    <tr>\n",
       "      <th>22</th>\n",
       "      <td>MEX</td>\n",
       "      <td>Mexico</td>\n",
       "      <td>1</td>\n",
       "    </tr>\n",
       "    <tr>\n",
       "      <th>23</th>\n",
       "      <td>MYS</td>\n",
       "      <td>Malaysia</td>\n",
       "      <td>1</td>\n",
       "    </tr>\n",
       "    <tr>\n",
       "      <th>24</th>\n",
       "      <td>NLD</td>\n",
       "      <td>Netherlands</td>\n",
       "      <td>10</td>\n",
       "    </tr>\n",
       "    <tr>\n",
       "      <th>25</th>\n",
       "      <td>NOR</td>\n",
       "      <td>Norway</td>\n",
       "      <td>3</td>\n",
       "    </tr>\n",
       "    <tr>\n",
       "      <th>26</th>\n",
       "      <td>SGP</td>\n",
       "      <td>Singapore</td>\n",
       "      <td>1</td>\n",
       "    </tr>\n",
       "    <tr>\n",
       "      <th>27</th>\n",
       "      <td>SWE</td>\n",
       "      <td>Sweden</td>\n",
       "      <td>3</td>\n",
       "    </tr>\n",
       "    <tr>\n",
       "      <th>28</th>\n",
       "      <td>THA</td>\n",
       "      <td>Thailand</td>\n",
       "      <td>1</td>\n",
       "    </tr>\n",
       "    <tr>\n",
       "      <th>29</th>\n",
       "      <td>TUR</td>\n",
       "      <td>Turkey</td>\n",
       "      <td>4</td>\n",
       "    </tr>\n",
       "    <tr>\n",
       "      <th>30</th>\n",
       "      <td>TWN</td>\n",
       "      <td>Taiwan</td>\n",
       "      <td>8</td>\n",
       "    </tr>\n",
       "    <tr>\n",
       "      <th>31</th>\n",
       "      <td>USA</td>\n",
       "      <td>United States</td>\n",
       "      <td>170</td>\n",
       "    </tr>\n",
       "  </tbody>\n",
       "</table>\n",
       "</div>"
      ],
      "text/plain": [
       "   alpha3_code         Country  Record_Count\n",
       "0          ARG       Argentina             2\n",
       "1          AUS       Australia             3\n",
       "2          AUT         Austria             1\n",
       "3          BRA          Brazil             4\n",
       "4          CAN          Canada             8\n",
       "5          CHE     Switzerland             1\n",
       "6          CHN           China            88\n",
       "7          COL        Colombia             1\n",
       "8          DEU         Germany            13\n",
       "9          DNK         Denmark             1\n",
       "10         DZA         Algeria             1\n",
       "11         EGY           Egypt            15\n",
       "12         ESP           Spain             8\n",
       "13         FRA          France             5\n",
       "14         GBR  United Kingdom            23\n",
       "15         GRC          Greece             1\n",
       "16         IDN       Indonesia             1\n",
       "17         IND           India            22\n",
       "18         IRN            Iran            14\n",
       "19         ITA           Italy             8\n",
       "20         JPN           Japan            29\n",
       "21         KOR     South Korea            10\n",
       "22         MEX          Mexico             1\n",
       "23         MYS        Malaysia             1\n",
       "24         NLD     Netherlands            10\n",
       "25         NOR          Norway             3\n",
       "26         SGP       Singapore             1\n",
       "27         SWE          Sweden             3\n",
       "28         THA        Thailand             1\n",
       "29         TUR          Turkey             4\n",
       "30         TWN          Taiwan             8\n",
       "31         USA   United States           170"
      ]
     },
     "execution_count": 77,
     "metadata": {},
     "output_type": "execute_result"
    }
   ],
   "source": [
    "country_counts"
   ]
  },
  {
   "cell_type": "markdown",
   "metadata": {},
   "source": [
    "# 2.4 - Sentiment Analysis Abstracts <a class=\"anchor\" id=\"section_2_4\"></a>"
   ]
  },
  {
   "cell_type": "code",
   "execution_count": 78,
   "metadata": {},
   "outputs": [],
   "source": [
    "import nltk"
   ]
  },
  {
   "cell_type": "code",
   "execution_count": 125,
   "metadata": {},
   "outputs": [],
   "source": [
    "control_abstract = control_set[['doi','abstract']].dropna(inplace=False)\n",
    "retracted_abstract = retractions[['doi','abstract']].dropna(inplace=False)"
   ]
  },
  {
   "cell_type": "code",
   "execution_count": 126,
   "metadata": {},
   "outputs": [],
   "source": [
    "abstract_word_count_retractions  = retracted_abstract['abstract'].apply(lambda x: len(str(x).split())).reset_index(drop=True)\n",
    "abstract_word_count_control  = control_abstract['abstract'].apply(lambda x: len(str(x).split())).reset_index(drop=True)"
   ]
  },
  {
   "cell_type": "code",
   "execution_count": 127,
   "metadata": {},
   "outputs": [
    {
     "data": {
      "image/png": "[encoded data removed]",
      "text/plain": [
       "<Figure size 1400x400 with 2 Axes>"
      ]
     },
     "metadata": {},
     "output_type": "display_data"
    }
   ],
   "source": [
    "fig, axes = plt.subplots(1, 2, figsize=(14, 4))\n",
    "\n",
    "sns.boxplot(abstract_word_count_retractions, ax=axes[0]).set(title='Description Word Count - Retractions')\n",
    "sns.boxplot(abstract_word_count_control, ax=axes[1]).set(title='Description Word Count - Control')\n",
    "\n",
    "plt.show()"
   ]
  },
  {
   "cell_type": "code",
   "execution_count": null,
   "metadata": {},
   "outputs": [],
   "source": []
  },
  {
   "cell_type": "markdown",
   "metadata": {},
   "source": [
    "<div class=\"alert alert-block alert-info\" style = \"background:#d0de6f; color:#000000; border:0;\">\n",
    "\n",
    "# Chapter 2 - Citation Statistics <a class=\"anchor\" id=\"chapter2\"></a>"
   ]
  },
  {
   "cell_type": "markdown",
   "metadata": {},
   "source": []
  }
 ],
 "metadata": {
  "kernelspec": {
   "display_name": "Python 3",
   "language": "python",
   "name": "python3"
  },
  "language_info": {
   "codemirror_mode": {
    "name": "ipython",
    "version": 3
   },
   "file_extension": ".py",
   "mimetype": "text/x-python",
   "name": "python",
   "nbconvert_exporter": "python",
   "pygments_lexer": "ipython3",
   "version": "3.10.11"
  }
 },
 "nbformat": 4,
 "nbformat_minor": 2
}
